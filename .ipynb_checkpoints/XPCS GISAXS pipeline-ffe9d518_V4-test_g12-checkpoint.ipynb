{
 "cells": [
  {
   "cell_type": "markdown",
   "metadata": {},
   "source": [
    "#  XPCS   Pipeline "
   ]
  },
  {
   "cell_type": "markdown",
   "metadata": {},
   "source": [
    " \"This notebook corresponds to version {{ version }} of the pipeline tool: https://github.com/NSLS-II/pipelines\""
   ]
  },
  {
   "cell_type": "markdown",
   "metadata": {},
   "source": [
    "## NSLS2 data retrieval imports"
   ]
  },
  {
   "cell_type": "code",
   "execution_count": 4,
   "metadata": {
    "collapsed": false
   },
   "outputs": [],
   "source": [
    "import sys, shutil\n",
    "EssCod_PATH='/home/yuzhang/chx-pipelines/Develops/'\n",
    "EssCod_PATH in sys.path or sys.path.append(EssCod_PATH)\n",
    "from develop import * "
   ]
  },
  {
   "cell_type": "code",
   "execution_count": 5,
   "metadata": {
    "collapsed": false
   },
   "outputs": [
    {
     "name": "stdout",
     "output_type": "stream",
     "text": [
      "/home/yuzhang/chx-pipelines/Develops\n"
     ]
    }
   ],
   "source": [
    "cd /home/yuzhang/chx-pipelines/Develops/"
   ]
  },
  {
   "cell_type": "code",
   "execution_count": 6,
   "metadata": {
    "collapsed": false
   },
   "outputs": [],
   "source": [
    "\n",
    "%matplotlib notebook"
   ]
  },
  {
   "cell_type": "markdown",
   "metadata": {},
   "source": [
    "### Lazy Eiger Handler (later will goto databroker)"
   ]
  },
  {
   "cell_type": "markdown",
   "metadata": {},
   "source": [
    "### Get the events from the uid"
   ]
  },
  {
   "cell_type": "code",
   "execution_count": 7,
   "metadata": {
    "collapsed": false
   },
   "outputs": [],
   "source": [
    "uid = 'c423e856'\n",
    "\n",
    "uid = '528bd8'\n",
    "uid = '54614d43'\n",
    "uid = '95782687'\n",
    "uid= 'fa5fdae'\n",
    "\n",
    "uid = 'ff9f20c0'\n",
    "uid='71720966'\n",
    "uid = '377dad97' # Deposition at 6 mTorr\n",
    "#uid = 'bece0b55' # Presputter for 6 mTorr\n",
    "uid = '4d82cc38'  # 10 mTorr 0.2 fps 2500 frames\n",
    "uid = 'ffe9d518'  # 10 mTorr 0.2 fps 2500 frames\n",
    "hdr = db[uid]"
   ]
  },
  {
   "cell_type": "code",
   "execution_count": 8,
   "metadata": {
    "collapsed": false
   },
   "outputs": [
    {
     "name": "stdout",
     "output_type": "stream",
     "text": [
      "efe5adcc-acc3-41f5-a187-9312ab22a0ef\n"
     ]
    }
   ],
   "source": [
    "#hdr\n",
    "import uuid\n",
    "print(str(uuid.uuid4()))"
   ]
  },
  {
   "cell_type": "code",
   "execution_count": 9,
   "metadata": {
    "collapsed": false,
    "scrolled": false
   },
   "outputs": [
    {
     "name": "stdout",
     "output_type": "stream",
     "text": [
      "hdf5 path = /XF11ID/data/2015/11/8/3f84f57d-79b7-4a10-8b51_5_master.h5\n"
     ]
    }
   ],
   "source": [
    "ev, = get_events(hdr, ['eiger_4M_cam_img_image_lightfield'], fill = True)"
   ]
  },
  {
   "cell_type": "code",
   "execution_count": 10,
   "metadata": {
    "collapsed": false
   },
   "outputs": [
    {
     "data": {
      "text/plain": [
       "'/XF11ID/analysis/2015/11/8/'"
      ]
     },
     "execution_count": 10,
     "metadata": {},
     "output_type": "execute_result"
    }
   ],
   "source": [
    "\n",
    "dt = datetime.fromtimestamp(hdr['start'].time)\n",
    "path ='/XF11ID/analysis' + '/%s/%s/%s/' % (dt.year, dt.month, dt.day)\n",
    "path"
   ]
  },
  {
   "cell_type": "code",
   "execution_count": 11,
   "metadata": {
    "collapsed": false
   },
   "outputs": [
    {
     "name": "stdout",
     "output_type": "stream",
     "text": [
      "<Frames>\n",
      "Length: 15000 frames\n",
      "Frame Shape: 2167 x 2070\n",
      "Pixel Datatype: uint32\n"
     ]
    }
   ],
   "source": [
    "imgs = ev['data']['eiger_4M_cam_img_image_lightfield']\n",
    "print (imgs)\n",
    "Nimg=len(imgs)"
   ]
  },
  {
   "cell_type": "markdown",
   "metadata": {},
   "source": [
    "## load a mask if exist \n",
    "### otherwise create a mask using Mask pipeline"
   ]
  },
  {
   "cell_type": "code",
   "execution_count": 12,
   "metadata": {
    "collapsed": false
   },
   "outputs": [],
   "source": [
    "\n",
    "mask = np.load( path +  str(uid)+\"_mask.npy\")\n",
    " "
   ]
  },
  {
   "cell_type": "markdown",
   "metadata": {},
   "source": [
    "### Plot the mask"
   ]
  },
  {
   "cell_type": "code",
   "execution_count": 13,
   "metadata": {
    "collapsed": false
   },
   "outputs": [
    {
     "data": {
      "application/javascript": [
       "/* Put everything inside the global mpl namespace */\n",
       "window.mpl = {};\n",
       "\n",
       "mpl.get_websocket_type = function() {\n",
       "    if (typeof(WebSocket) !== 'undefined') {\n",
       "        return WebSocket;\n",
       "    } else if (typeof(MozWebSocket) !== 'undefined') {\n",
       "        return MozWebSocket;\n",
       "    } else {\n",
       "        alert('Your browser does not have WebSocket support.' +\n",
       "              'Please try Chrome, Safari or Firefox ≥ 6. ' +\n",
       "              'Firefox 4 and 5 are also supported but you ' +\n",
       "              'have to enable WebSockets in about:config.');\n",
       "    };\n",
       "}\n",
       "\n",
       "mpl.figure = function(figure_id, websocket, ondownload, parent_element) {\n",
       "    this.id = figure_id;\n",
       "\n",
       "    this.ws = websocket;\n",
       "\n",
       "    this.supports_binary = (this.ws.binaryType != undefined);\n",
       "\n",
       "    if (!this.supports_binary) {\n",
       "        var warnings = document.getElementById(\"mpl-warnings\");\n",
       "        if (warnings) {\n",
       "            warnings.style.display = 'block';\n",
       "            warnings.textContent = (\n",
       "                \"This browser does not support binary websocket messages. \" +\n",
       "                    \"Performance may be slow.\");\n",
       "        }\n",
       "    }\n",
       "\n",
       "    this.imageObj = new Image();\n",
       "\n",
       "    this.context = undefined;\n",
       "    this.message = undefined;\n",
       "    this.canvas = undefined;\n",
       "    this.rubberband_canvas = undefined;\n",
       "    this.rubberband_context = undefined;\n",
       "    this.format_dropdown = undefined;\n",
       "\n",
       "    this.image_mode = 'full';\n",
       "\n",
       "    this.root = $('<div/>');\n",
       "    this._root_extra_style(this.root)\n",
       "    this.root.attr('style', 'display: inline-block');\n",
       "\n",
       "    $(parent_element).append(this.root);\n",
       "\n",
       "    this._init_header(this);\n",
       "    this._init_canvas(this);\n",
       "    this._init_toolbar(this);\n",
       "\n",
       "    var fig = this;\n",
       "\n",
       "    this.waiting = false;\n",
       "\n",
       "    this.ws.onopen =  function () {\n",
       "            fig.send_message(\"supports_binary\", {value: fig.supports_binary});\n",
       "            fig.send_message(\"send_image_mode\", {});\n",
       "            fig.send_message(\"refresh\", {});\n",
       "        }\n",
       "\n",
       "    this.imageObj.onload = function() {\n",
       "            if (fig.image_mode == 'full') {\n",
       "                // Full images could contain transparency (where diff images\n",
       "                // almost always do), so we need to clear the canvas so that\n",
       "                // there is no ghosting.\n",
       "                fig.context.clearRect(0, 0, fig.canvas.width, fig.canvas.height);\n",
       "            }\n",
       "            fig.context.drawImage(fig.imageObj, 0, 0);\n",
       "        };\n",
       "\n",
       "    this.imageObj.onunload = function() {\n",
       "        this.ws.close();\n",
       "    }\n",
       "\n",
       "    this.ws.onmessage = this._make_on_message_function(this);\n",
       "\n",
       "    this.ondownload = ondownload;\n",
       "}\n",
       "\n",
       "mpl.figure.prototype._init_header = function() {\n",
       "    var titlebar = $(\n",
       "        '<div class=\"ui-dialog-titlebar ui-widget-header ui-corner-all ' +\n",
       "        'ui-helper-clearfix\"/>');\n",
       "    var titletext = $(\n",
       "        '<div class=\"ui-dialog-title\" style=\"width: 100%; ' +\n",
       "        'text-align: center; padding: 3px;\"/>');\n",
       "    titlebar.append(titletext)\n",
       "    this.root.append(titlebar);\n",
       "    this.header = titletext[0];\n",
       "}\n",
       "\n",
       "\n",
       "\n",
       "mpl.figure.prototype._canvas_extra_style = function(canvas_div) {\n",
       "\n",
       "}\n",
       "\n",
       "\n",
       "mpl.figure.prototype._root_extra_style = function(canvas_div) {\n",
       "\n",
       "}\n",
       "\n",
       "mpl.figure.prototype._init_canvas = function() {\n",
       "    var fig = this;\n",
       "\n",
       "    var canvas_div = $('<div/>');\n",
       "\n",
       "    canvas_div.attr('style', 'position: relative; clear: both; outline: 0');\n",
       "\n",
       "    function canvas_keyboard_event(event) {\n",
       "        return fig.key_event(event, event['data']);\n",
       "    }\n",
       "\n",
       "    canvas_div.keydown('key_press', canvas_keyboard_event);\n",
       "    canvas_div.keyup('key_release', canvas_keyboard_event);\n",
       "    this.canvas_div = canvas_div\n",
       "    this._canvas_extra_style(canvas_div)\n",
       "    this.root.append(canvas_div);\n",
       "\n",
       "    var canvas = $('<canvas/>');\n",
       "    canvas.addClass('mpl-canvas');\n",
       "    canvas.attr('style', \"left: 0; top: 0; z-index: 0; outline: 0\")\n",
       "\n",
       "    this.canvas = canvas[0];\n",
       "    this.context = canvas[0].getContext(\"2d\");\n",
       "\n",
       "    var rubberband = $('<canvas/>');\n",
       "    rubberband.attr('style', \"position: absolute; left: 0; top: 0; z-index: 1;\")\n",
       "\n",
       "    var pass_mouse_events = true;\n",
       "\n",
       "    canvas_div.resizable({\n",
       "        start: function(event, ui) {\n",
       "            pass_mouse_events = false;\n",
       "        },\n",
       "        resize: function(event, ui) {\n",
       "            fig.request_resize(ui.size.width, ui.size.height);\n",
       "        },\n",
       "        stop: function(event, ui) {\n",
       "            pass_mouse_events = true;\n",
       "            fig.request_resize(ui.size.width, ui.size.height);\n",
       "        },\n",
       "    });\n",
       "\n",
       "    function mouse_event_fn(event) {\n",
       "        if (pass_mouse_events)\n",
       "            return fig.mouse_event(event, event['data']);\n",
       "    }\n",
       "\n",
       "    rubberband.mousedown('button_press', mouse_event_fn);\n",
       "    rubberband.mouseup('button_release', mouse_event_fn);\n",
       "    // Throttle sequential mouse events to 1 every 20ms.\n",
       "    rubberband.mousemove('motion_notify', mouse_event_fn);\n",
       "\n",
       "    rubberband.mouseenter('figure_enter', mouse_event_fn);\n",
       "    rubberband.mouseleave('figure_leave', mouse_event_fn);\n",
       "\n",
       "    canvas_div.on(\"wheel\", function (event) {\n",
       "        event = event.originalEvent;\n",
       "        event['data'] = 'scroll'\n",
       "        if (event.deltaY < 0) {\n",
       "            event.step = 1;\n",
       "        } else {\n",
       "            event.step = -1;\n",
       "        }\n",
       "        mouse_event_fn(event);\n",
       "    });\n",
       "\n",
       "    canvas_div.append(canvas);\n",
       "    canvas_div.append(rubberband);\n",
       "\n",
       "    this.rubberband = rubberband;\n",
       "    this.rubberband_canvas = rubberband[0];\n",
       "    this.rubberband_context = rubberband[0].getContext(\"2d\");\n",
       "    this.rubberband_context.strokeStyle = \"#000000\";\n",
       "\n",
       "    this._resize_canvas = function(width, height) {\n",
       "        // Keep the size of the canvas, canvas container, and rubber band\n",
       "        // canvas in synch.\n",
       "        canvas_div.css('width', width)\n",
       "        canvas_div.css('height', height)\n",
       "\n",
       "        canvas.attr('width', width);\n",
       "        canvas.attr('height', height);\n",
       "\n",
       "        rubberband.attr('width', width);\n",
       "        rubberband.attr('height', height);\n",
       "    }\n",
       "\n",
       "    // Set the figure to an initial 600x600px, this will subsequently be updated\n",
       "    // upon first draw.\n",
       "    this._resize_canvas(600, 600);\n",
       "\n",
       "    // Disable right mouse context menu.\n",
       "    $(this.rubberband_canvas).bind(\"contextmenu\",function(e){\n",
       "        return false;\n",
       "    });\n",
       "\n",
       "    function set_focus () {\n",
       "        canvas.focus();\n",
       "        canvas_div.focus();\n",
       "    }\n",
       "\n",
       "    window.setTimeout(set_focus, 100);\n",
       "}\n",
       "\n",
       "mpl.figure.prototype._init_toolbar = function() {\n",
       "    var fig = this;\n",
       "\n",
       "    var nav_element = $('<div/>')\n",
       "    nav_element.attr('style', 'width: 100%');\n",
       "    this.root.append(nav_element);\n",
       "\n",
       "    // Define a callback function for later on.\n",
       "    function toolbar_event(event) {\n",
       "        return fig.toolbar_button_onclick(event['data']);\n",
       "    }\n",
       "    function toolbar_mouse_event(event) {\n",
       "        return fig.toolbar_button_onmouseover(event['data']);\n",
       "    }\n",
       "\n",
       "    for(var toolbar_ind in mpl.toolbar_items) {\n",
       "        var name = mpl.toolbar_items[toolbar_ind][0];\n",
       "        var tooltip = mpl.toolbar_items[toolbar_ind][1];\n",
       "        var image = mpl.toolbar_items[toolbar_ind][2];\n",
       "        var method_name = mpl.toolbar_items[toolbar_ind][3];\n",
       "\n",
       "        if (!name) {\n",
       "            // put a spacer in here.\n",
       "            continue;\n",
       "        }\n",
       "        var button = $('<button/>');\n",
       "        button.addClass('ui-button ui-widget ui-state-default ui-corner-all ' +\n",
       "                        'ui-button-icon-only');\n",
       "        button.attr('role', 'button');\n",
       "        button.attr('aria-disabled', 'false');\n",
       "        button.click(method_name, toolbar_event);\n",
       "        button.mouseover(tooltip, toolbar_mouse_event);\n",
       "\n",
       "        var icon_img = $('<span/>');\n",
       "        icon_img.addClass('ui-button-icon-primary ui-icon');\n",
       "        icon_img.addClass(image);\n",
       "        icon_img.addClass('ui-corner-all');\n",
       "\n",
       "        var tooltip_span = $('<span/>');\n",
       "        tooltip_span.addClass('ui-button-text');\n",
       "        tooltip_span.html(tooltip);\n",
       "\n",
       "        button.append(icon_img);\n",
       "        button.append(tooltip_span);\n",
       "\n",
       "        nav_element.append(button);\n",
       "    }\n",
       "\n",
       "    var fmt_picker_span = $('<span/>');\n",
       "\n",
       "    var fmt_picker = $('<select/>');\n",
       "    fmt_picker.addClass('mpl-toolbar-option ui-widget ui-widget-content');\n",
       "    fmt_picker_span.append(fmt_picker);\n",
       "    nav_element.append(fmt_picker_span);\n",
       "    this.format_dropdown = fmt_picker[0];\n",
       "\n",
       "    for (var ind in mpl.extensions) {\n",
       "        var fmt = mpl.extensions[ind];\n",
       "        var option = $(\n",
       "            '<option/>', {selected: fmt === mpl.default_extension}).html(fmt);\n",
       "        fmt_picker.append(option)\n",
       "    }\n",
       "\n",
       "    // Add hover states to the ui-buttons\n",
       "    $( \".ui-button\" ).hover(\n",
       "        function() { $(this).addClass(\"ui-state-hover\");},\n",
       "        function() { $(this).removeClass(\"ui-state-hover\");}\n",
       "    );\n",
       "\n",
       "    var status_bar = $('<span class=\"mpl-message\"/>');\n",
       "    nav_element.append(status_bar);\n",
       "    this.message = status_bar[0];\n",
       "}\n",
       "\n",
       "mpl.figure.prototype.request_resize = function(x_pixels, y_pixels) {\n",
       "    // Request matplotlib to resize the figure. Matplotlib will then trigger a resize in the client,\n",
       "    // which will in turn request a refresh of the image.\n",
       "    this.send_message('resize', {'width': x_pixels, 'height': y_pixels});\n",
       "}\n",
       "\n",
       "mpl.figure.prototype.send_message = function(type, properties) {\n",
       "    properties['type'] = type;\n",
       "    properties['figure_id'] = this.id;\n",
       "    this.ws.send(JSON.stringify(properties));\n",
       "}\n",
       "\n",
       "mpl.figure.prototype.send_draw_message = function() {\n",
       "    if (!this.waiting) {\n",
       "        this.waiting = true;\n",
       "        this.ws.send(JSON.stringify({type: \"draw\", figure_id: this.id}));\n",
       "    }\n",
       "}\n",
       "\n",
       "\n",
       "mpl.figure.prototype.handle_save = function(fig, msg) {\n",
       "    var format_dropdown = fig.format_dropdown;\n",
       "    var format = format_dropdown.options[format_dropdown.selectedIndex].value;\n",
       "    fig.ondownload(fig, format);\n",
       "}\n",
       "\n",
       "\n",
       "mpl.figure.prototype.handle_resize = function(fig, msg) {\n",
       "    var size = msg['size'];\n",
       "    if (size[0] != fig.canvas.width || size[1] != fig.canvas.height) {\n",
       "        fig._resize_canvas(size[0], size[1]);\n",
       "        fig.send_message(\"refresh\", {});\n",
       "    };\n",
       "}\n",
       "\n",
       "mpl.figure.prototype.handle_rubberband = function(fig, msg) {\n",
       "    var x0 = msg['x0'];\n",
       "    var y0 = fig.canvas.height - msg['y0'];\n",
       "    var x1 = msg['x1'];\n",
       "    var y1 = fig.canvas.height - msg['y1'];\n",
       "    x0 = Math.floor(x0) + 0.5;\n",
       "    y0 = Math.floor(y0) + 0.5;\n",
       "    x1 = Math.floor(x1) + 0.5;\n",
       "    y1 = Math.floor(y1) + 0.5;\n",
       "    var min_x = Math.min(x0, x1);\n",
       "    var min_y = Math.min(y0, y1);\n",
       "    var width = Math.abs(x1 - x0);\n",
       "    var height = Math.abs(y1 - y0);\n",
       "\n",
       "    fig.rubberband_context.clearRect(\n",
       "        0, 0, fig.canvas.width, fig.canvas.height);\n",
       "\n",
       "    fig.rubberband_context.strokeRect(min_x, min_y, width, height);\n",
       "}\n",
       "\n",
       "mpl.figure.prototype.handle_figure_label = function(fig, msg) {\n",
       "    // Updates the figure title.\n",
       "    fig.header.textContent = msg['label'];\n",
       "}\n",
       "\n",
       "mpl.figure.prototype.handle_cursor = function(fig, msg) {\n",
       "    var cursor = msg['cursor'];\n",
       "    switch(cursor)\n",
       "    {\n",
       "    case 0:\n",
       "        cursor = 'pointer';\n",
       "        break;\n",
       "    case 1:\n",
       "        cursor = 'default';\n",
       "        break;\n",
       "    case 2:\n",
       "        cursor = 'crosshair';\n",
       "        break;\n",
       "    case 3:\n",
       "        cursor = 'move';\n",
       "        break;\n",
       "    }\n",
       "    fig.rubberband_canvas.style.cursor = cursor;\n",
       "}\n",
       "\n",
       "mpl.figure.prototype.handle_message = function(fig, msg) {\n",
       "    fig.message.textContent = msg['message'];\n",
       "}\n",
       "\n",
       "mpl.figure.prototype.handle_draw = function(fig, msg) {\n",
       "    // Request the server to send over a new figure.\n",
       "    fig.send_draw_message();\n",
       "}\n",
       "\n",
       "mpl.figure.prototype.handle_image_mode = function(fig, msg) {\n",
       "    fig.image_mode = msg['mode'];\n",
       "}\n",
       "\n",
       "mpl.figure.prototype.updated_canvas_event = function() {\n",
       "    // Called whenever the canvas gets updated.\n",
       "    this.send_message(\"ack\", {});\n",
       "}\n",
       "\n",
       "// A function to construct a web socket function for onmessage handling.\n",
       "// Called in the figure constructor.\n",
       "mpl.figure.prototype._make_on_message_function = function(fig) {\n",
       "    return function socket_on_message(evt) {\n",
       "        if (evt.data instanceof Blob) {\n",
       "            /* FIXME: We get \"Resource interpreted as Image but\n",
       "             * transferred with MIME type text/plain:\" errors on\n",
       "             * Chrome.  But how to set the MIME type?  It doesn't seem\n",
       "             * to be part of the websocket stream */\n",
       "            evt.data.type = \"image/png\";\n",
       "\n",
       "            /* Free the memory for the previous frames */\n",
       "            if (fig.imageObj.src) {\n",
       "                (window.URL || window.webkitURL).revokeObjectURL(\n",
       "                    fig.imageObj.src);\n",
       "            }\n",
       "\n",
       "            fig.imageObj.src = (window.URL || window.webkitURL).createObjectURL(\n",
       "                evt.data);\n",
       "            fig.updated_canvas_event();\n",
       "            fig.waiting = false;\n",
       "            return;\n",
       "        }\n",
       "        else if (typeof evt.data === 'string' && evt.data.slice(0, 21) == \"data:image/png;base64\") {\n",
       "            fig.imageObj.src = evt.data;\n",
       "            fig.updated_canvas_event();\n",
       "            fig.waiting = false;\n",
       "            return;\n",
       "        }\n",
       "\n",
       "        var msg = JSON.parse(evt.data);\n",
       "        var msg_type = msg['type'];\n",
       "\n",
       "        // Call the  \"handle_{type}\" callback, which takes\n",
       "        // the figure and JSON message as its only arguments.\n",
       "        try {\n",
       "            var callback = fig[\"handle_\" + msg_type];\n",
       "        } catch (e) {\n",
       "            console.log(\"No handler for the '\" + msg_type + \"' message type: \", msg);\n",
       "            return;\n",
       "        }\n",
       "\n",
       "        if (callback) {\n",
       "            try {\n",
       "                // console.log(\"Handling '\" + msg_type + \"' message: \", msg);\n",
       "                callback(fig, msg);\n",
       "            } catch (e) {\n",
       "                console.log(\"Exception inside the 'handler_\" + msg_type + \"' callback:\", e, e.stack, msg);\n",
       "            }\n",
       "        }\n",
       "    };\n",
       "}\n",
       "\n",
       "// from http://stackoverflow.com/questions/1114465/getting-mouse-location-in-canvas\n",
       "mpl.findpos = function(e) {\n",
       "    //this section is from http://www.quirksmode.org/js/events_properties.html\n",
       "    var targ;\n",
       "    if (!e)\n",
       "        e = window.event;\n",
       "    if (e.target)\n",
       "        targ = e.target;\n",
       "    else if (e.srcElement)\n",
       "        targ = e.srcElement;\n",
       "    if (targ.nodeType == 3) // defeat Safari bug\n",
       "        targ = targ.parentNode;\n",
       "\n",
       "    // jQuery normalizes the pageX and pageY\n",
       "    // pageX,Y are the mouse positions relative to the document\n",
       "    // offset() returns the position of the element relative to the document\n",
       "    var x = e.pageX - $(targ).offset().left;\n",
       "    var y = e.pageY - $(targ).offset().top;\n",
       "\n",
       "    return {\"x\": x, \"y\": y};\n",
       "};\n",
       "\n",
       "/*\n",
       " * return a copy of an object with only non-object keys\n",
       " * we need this to avoid circular references\n",
       " * http://stackoverflow.com/a/24161582/3208463\n",
       " */\n",
       "function simpleKeys (original) {\n",
       "  return Object.keys(original).reduce(function (obj, key) {\n",
       "    if (typeof original[key] !== 'object')\n",
       "        obj[key] = original[key]\n",
       "    return obj;\n",
       "  }, {});\n",
       "}\n",
       "\n",
       "mpl.figure.prototype.mouse_event = function(event, name) {\n",
       "    var canvas_pos = mpl.findpos(event)\n",
       "\n",
       "    if (name === 'button_press')\n",
       "    {\n",
       "        this.canvas.focus();\n",
       "        this.canvas_div.focus();\n",
       "    }\n",
       "\n",
       "    var x = canvas_pos.x;\n",
       "    var y = canvas_pos.y;\n",
       "\n",
       "    this.send_message(name, {x: x, y: y, button: event.button,\n",
       "                             step: event.step,\n",
       "                             guiEvent: simpleKeys(event)});\n",
       "\n",
       "    /* This prevents the web browser from automatically changing to\n",
       "     * the text insertion cursor when the button is pressed.  We want\n",
       "     * to control all of the cursor setting manually through the\n",
       "     * 'cursor' event from matplotlib */\n",
       "    event.preventDefault();\n",
       "    return false;\n",
       "}\n",
       "\n",
       "mpl.figure.prototype._key_event_extra = function(event, name) {\n",
       "    // Handle any extra behaviour associated with a key event\n",
       "}\n",
       "\n",
       "mpl.figure.prototype.key_event = function(event, name) {\n",
       "\n",
       "    // Prevent repeat events\n",
       "    if (name == 'key_press')\n",
       "    {\n",
       "        if (event.which === this._key)\n",
       "            return;\n",
       "        else\n",
       "            this._key = event.which;\n",
       "    }\n",
       "    if (name == 'key_release')\n",
       "        this._key = null;\n",
       "\n",
       "    var value = '';\n",
       "    if (event.ctrlKey && event.which != 17)\n",
       "        value += \"ctrl+\";\n",
       "    if (event.altKey && event.which != 18)\n",
       "        value += \"alt+\";\n",
       "    if (event.shiftKey && event.which != 16)\n",
       "        value += \"shift+\";\n",
       "\n",
       "    value += 'k';\n",
       "    value += event.which.toString();\n",
       "\n",
       "    this._key_event_extra(event, name);\n",
       "\n",
       "    this.send_message(name, {key: value,\n",
       "                             guiEvent: simpleKeys(event)});\n",
       "    return false;\n",
       "}\n",
       "\n",
       "mpl.figure.prototype.toolbar_button_onclick = function(name) {\n",
       "    if (name == 'download') {\n",
       "        this.handle_save(this, null);\n",
       "    } else {\n",
       "        this.send_message(\"toolbar_button\", {name: name});\n",
       "    }\n",
       "};\n",
       "\n",
       "mpl.figure.prototype.toolbar_button_onmouseover = function(tooltip) {\n",
       "    this.message.textContent = tooltip;\n",
       "};\n",
       "mpl.toolbar_items = [[\"Home\", \"Reset original view\", \"fa fa-home icon-home\", \"home\"], [\"Back\", \"Back to  previous view\", \"fa fa-arrow-left icon-arrow-left\", \"back\"], [\"Forward\", \"Forward to next view\", \"fa fa-arrow-right icon-arrow-right\", \"forward\"], [\"\", \"\", \"\", \"\"], [\"Pan\", \"Pan axes with left mouse, zoom with right\", \"fa fa-arrows icon-move\", \"pan\"], [\"Zoom\", \"Zoom to rectangle\", \"fa fa-square-o icon-check-empty\", \"zoom\"], [\"\", \"\", \"\", \"\"], [\"Download\", \"Download plot\", \"fa fa-floppy-o icon-save\", \"download\"]];\n",
       "\n",
       "mpl.extensions = [\"eps\", \"jpeg\", \"pdf\", \"png\", \"ps\", \"raw\", \"svg\", \"tif\"];\n",
       "\n",
       "mpl.default_extension = \"png\";var comm_websocket_adapter = function(comm) {\n",
       "    // Create a \"websocket\"-like object which calls the given IPython comm\n",
       "    // object with the appropriate methods. Currently this is a non binary\n",
       "    // socket, so there is still some room for performance tuning.\n",
       "    var ws = {};\n",
       "\n",
       "    ws.close = function() {\n",
       "        comm.close()\n",
       "    };\n",
       "    ws.send = function(m) {\n",
       "        //console.log('sending', m);\n",
       "        comm.send(m);\n",
       "    };\n",
       "    // Register the callback with on_msg.\n",
       "    comm.on_msg(function(msg) {\n",
       "        //console.log('receiving', msg['content']['data'], msg);\n",
       "        // Pass the mpl event to the overriden (by mpl) onmessage function.\n",
       "        ws.onmessage(msg['content']['data'])\n",
       "    });\n",
       "    return ws;\n",
       "}\n",
       "\n",
       "mpl.mpl_figure_comm = function(comm, msg) {\n",
       "    // This is the function which gets called when the mpl process\n",
       "    // starts-up an IPython Comm through the \"matplotlib\" channel.\n",
       "\n",
       "    var id = msg.content.data.id;\n",
       "    // Get hold of the div created by the display call when the Comm\n",
       "    // socket was opened in Python.\n",
       "    var element = $(\"#\" + id);\n",
       "    var ws_proxy = comm_websocket_adapter(comm)\n",
       "\n",
       "    function ondownload(figure, format) {\n",
       "        window.open(figure.imageObj.src);\n",
       "    }\n",
       "\n",
       "    var fig = new mpl.figure(id, ws_proxy,\n",
       "                           ondownload,\n",
       "                           element.get(0));\n",
       "\n",
       "    // Call onopen now - mpl needs it, as it is assuming we've passed it a real\n",
       "    // web socket which is closed, not our websocket->open comm proxy.\n",
       "    ws_proxy.onopen();\n",
       "\n",
       "    fig.parent_element = element.get(0);\n",
       "    fig.cell_info = mpl.find_output_cell(\"<div id='\" + id + \"'></div>\");\n",
       "    if (!fig.cell_info) {\n",
       "        console.error(\"Failed to find cell for figure\", id, fig);\n",
       "        return;\n",
       "    }\n",
       "\n",
       "    var output_index = fig.cell_info[2]\n",
       "    var cell = fig.cell_info[0];\n",
       "\n",
       "};\n",
       "\n",
       "mpl.figure.prototype.handle_close = function(fig, msg) {\n",
       "    fig.root.unbind('remove')\n",
       "\n",
       "    // Update the output cell to use the data from the current canvas.\n",
       "    fig.push_to_output();\n",
       "    var dataURL = fig.canvas.toDataURL();\n",
       "    // Re-enable the keyboard manager in IPython - without this line, in FF,\n",
       "    // the notebook keyboard shortcuts fail.\n",
       "    IPython.keyboard_manager.enable()\n",
       "    $(fig.parent_element).html('<img src=\"' + dataURL + '\">');\n",
       "    fig.close_ws(fig, msg);\n",
       "}\n",
       "\n",
       "mpl.figure.prototype.close_ws = function(fig, msg){\n",
       "    fig.send_message('closing', msg);\n",
       "    // fig.ws.close()\n",
       "}\n",
       "\n",
       "mpl.figure.prototype.push_to_output = function(remove_interactive) {\n",
       "    // Turn the data on the canvas into data in the output cell.\n",
       "    var dataURL = this.canvas.toDataURL();\n",
       "    this.cell_info[1]['text/html'] = '<img src=\"' + dataURL + '\">';\n",
       "}\n",
       "\n",
       "mpl.figure.prototype.updated_canvas_event = function() {\n",
       "    // Tell IPython that the notebook contents must change.\n",
       "    IPython.notebook.set_dirty(true);\n",
       "    this.send_message(\"ack\", {});\n",
       "    var fig = this;\n",
       "    // Wait a second, then push the new image to the DOM so\n",
       "    // that it is saved nicely (might be nice to debounce this).\n",
       "    setTimeout(function () { fig.push_to_output() }, 1000);\n",
       "}\n",
       "\n",
       "mpl.figure.prototype._init_toolbar = function() {\n",
       "    var fig = this;\n",
       "\n",
       "    var nav_element = $('<div/>')\n",
       "    nav_element.attr('style', 'width: 100%');\n",
       "    this.root.append(nav_element);\n",
       "\n",
       "    // Define a callback function for later on.\n",
       "    function toolbar_event(event) {\n",
       "        return fig.toolbar_button_onclick(event['data']);\n",
       "    }\n",
       "    function toolbar_mouse_event(event) {\n",
       "        return fig.toolbar_button_onmouseover(event['data']);\n",
       "    }\n",
       "\n",
       "    for(var toolbar_ind in mpl.toolbar_items){\n",
       "        var name = mpl.toolbar_items[toolbar_ind][0];\n",
       "        var tooltip = mpl.toolbar_items[toolbar_ind][1];\n",
       "        var image = mpl.toolbar_items[toolbar_ind][2];\n",
       "        var method_name = mpl.toolbar_items[toolbar_ind][3];\n",
       "\n",
       "        if (!name) { continue; };\n",
       "\n",
       "        var button = $('<button class=\"btn btn-default\" href=\"#\" title=\"' + name + '\"><i class=\"fa ' + image + ' fa-lg\"></i></button>');\n",
       "        button.click(method_name, toolbar_event);\n",
       "        button.mouseover(tooltip, toolbar_mouse_event);\n",
       "        nav_element.append(button);\n",
       "    }\n",
       "\n",
       "    // Add the status bar.\n",
       "    var status_bar = $('<span class=\"mpl-message\" style=\"text-align:right; float: right;\"/>');\n",
       "    nav_element.append(status_bar);\n",
       "    this.message = status_bar[0];\n",
       "\n",
       "    // Add the close button to the window.\n",
       "    var buttongrp = $('<div class=\"btn-group inline pull-right\"></div>');\n",
       "    var button = $('<button class=\"btn btn-mini btn-primary\" href=\"#\" title=\"Stop Interaction\"><i class=\"fa fa-power-off icon-remove icon-large\"></i></button>');\n",
       "    button.click(function (evt) { fig.handle_close(fig, {}); } );\n",
       "    button.mouseover('Stop Interaction', toolbar_mouse_event);\n",
       "    buttongrp.append(button);\n",
       "    var titlebar = this.root.find($('.ui-dialog-titlebar'));\n",
       "    titlebar.prepend(buttongrp);\n",
       "}\n",
       "\n",
       "mpl.figure.prototype._root_extra_style = function(el){\n",
       "    var fig = this\n",
       "    el.on(\"remove\", function(){\n",
       "\tfig.close_ws(fig, {});\n",
       "    });\n",
       "}\n",
       "\n",
       "mpl.figure.prototype._canvas_extra_style = function(el){\n",
       "    // this is important to make the div 'focusable\n",
       "    el.attr('tabindex', 0)\n",
       "    // reach out to IPython and tell the keyboard manager to turn it's self\n",
       "    // off when our div gets focus\n",
       "\n",
       "    // location in version 3\n",
       "    if (IPython.notebook.keyboard_manager) {\n",
       "        IPython.notebook.keyboard_manager.register_events(el);\n",
       "    }\n",
       "    else {\n",
       "        // location in version 2\n",
       "        IPython.keyboard_manager.register_events(el);\n",
       "    }\n",
       "\n",
       "}\n",
       "\n",
       "mpl.figure.prototype._key_event_extra = function(event, name) {\n",
       "    var manager = IPython.notebook.keyboard_manager;\n",
       "    if (!manager)\n",
       "        manager = IPython.keyboard_manager;\n",
       "\n",
       "    // Check for shift+enter\n",
       "    if (event.shiftKey && event.which == 13) {\n",
       "        this.canvas_div.blur();\n",
       "        event.shiftKey = false;\n",
       "        // Send a \"J\" for go to next cell\n",
       "        event.which = 74;\n",
       "        event.keyCode = 74;\n",
       "        manager.command_mode();\n",
       "        manager.handle_keydown(event);\n",
       "    }\n",
       "}\n",
       "\n",
       "mpl.figure.prototype.handle_save = function(fig, msg) {\n",
       "    fig.ondownload(fig, null);\n",
       "}\n",
       "\n",
       "\n",
       "mpl.find_output_cell = function(html_output) {\n",
       "    // Return the cell and output element which can be found *uniquely* in the notebook.\n",
       "    // Note - this is a bit hacky, but it is done because the \"notebook_saving.Notebook\"\n",
       "    // IPython event is triggered only after the cells have been serialised, which for\n",
       "    // our purposes (turning an active figure into a static one), is too late.\n",
       "    var cells = IPython.notebook.get_cells();\n",
       "    var ncells = cells.length;\n",
       "    for (var i=0; i<ncells; i++) {\n",
       "        var cell = cells[i];\n",
       "        if (cell.cell_type === 'code'){\n",
       "            for (var j=0; j<cell.output_area.outputs.length; j++) {\n",
       "                var data = cell.output_area.outputs[j];\n",
       "                if (data.data) {\n",
       "                    // IPython >= 3 moved mimebundle to data attribute of output\n",
       "                    data = data.data;\n",
       "                }\n",
       "                if (data['text/html'] == html_output) {\n",
       "                    return [cell, data, j];\n",
       "                }\n",
       "            }\n",
       "        }\n",
       "    }\n",
       "}\n",
       "\n",
       "// Register the function which deals with the matplotlib target/channel.\n",
       "// The kernel may be null if the page has been refreshed.\n",
       "if (IPython.notebook.kernel != null) {\n",
       "    IPython.notebook.kernel.comm_manager.register_target('matplotlib', mpl.mpl_figure_comm);\n",
       "}\n"
      ],
      "text/plain": [
       "<IPython.core.display.Javascript object>"
      ]
     },
     "metadata": {},
     "output_type": "display_data"
    },
    {
     "data": {
      "text/html": [
       "<img src=\"data:image/png;base64,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\">"
      ],
      "text/plain": [
       "<IPython.core.display.HTML object>"
      ]
     },
     "metadata": {},
     "output_type": "display_data"
    }
   ],
   "source": [
    "fig, ax = plt.subplots()\n",
    "im = ax.imshow(mask, vmin=0,vmax=1,cmap='viridis', origin='lower')\n",
    "ax.set_title( 'mask')\n",
    "fig.colorbar( im )\n",
    "plt.show()"
   ]
  },
  {
   "cell_type": "markdown",
   "metadata": {},
   "source": [
    "# inverse the image coordinate"
   ]
  },
  {
   "cell_type": "code",
   "execution_count": 14,
   "metadata": {
    "collapsed": false
   },
   "outputs": [],
   "source": [
    "imgsr = Reverse_Coordinate(imgs, mask)    \n",
    "#don't use imgsr[::1] , this command will load everything to the memory\n",
    " "
   ]
  },
  {
   "cell_type": "code",
   "execution_count": 16,
   "metadata": {
    "collapsed": false
   },
   "outputs": [
    {
     "data": {
      "text/plain": [
       "17255"
      ]
     },
     "execution_count": 16,
     "metadata": {},
     "output_type": "execute_result"
    }
   ],
   "source": [
    "imgsr[2499].max()"
   ]
  },
  {
   "cell_type": "markdown",
   "metadata": {},
   "source": [
    "## Interactive way to browse through images.\n",
    "\n",
    "### Note : Provide the number of images that you want to browse"
   ]
  },
  {
   "cell_type": "code",
   "execution_count": 18,
   "metadata": {
    "collapsed": false
   },
   "outputs": [
    {
     "data": {
      "application/javascript": [
       "/* Put everything inside the global mpl namespace */\n",
       "window.mpl = {};\n",
       "\n",
       "mpl.get_websocket_type = function() {\n",
       "    if (typeof(WebSocket) !== 'undefined') {\n",
       "        return WebSocket;\n",
       "    } else if (typeof(MozWebSocket) !== 'undefined') {\n",
       "        return MozWebSocket;\n",
       "    } else {\n",
       "        alert('Your browser does not have WebSocket support.' +\n",
       "              'Please try Chrome, Safari or Firefox ≥ 6. ' +\n",
       "              'Firefox 4 and 5 are also supported but you ' +\n",
       "              'have to enable WebSockets in about:config.');\n",
       "    };\n",
       "}\n",
       "\n",
       "mpl.figure = function(figure_id, websocket, ondownload, parent_element) {\n",
       "    this.id = figure_id;\n",
       "\n",
       "    this.ws = websocket;\n",
       "\n",
       "    this.supports_binary = (this.ws.binaryType != undefined);\n",
       "\n",
       "    if (!this.supports_binary) {\n",
       "        var warnings = document.getElementById(\"mpl-warnings\");\n",
       "        if (warnings) {\n",
       "            warnings.style.display = 'block';\n",
       "            warnings.textContent = (\n",
       "                \"This browser does not support binary websocket messages. \" +\n",
       "                    \"Performance may be slow.\");\n",
       "        }\n",
       "    }\n",
       "\n",
       "    this.imageObj = new Image();\n",
       "\n",
       "    this.context = undefined;\n",
       "    this.message = undefined;\n",
       "    this.canvas = undefined;\n",
       "    this.rubberband_canvas = undefined;\n",
       "    this.rubberband_context = undefined;\n",
       "    this.format_dropdown = undefined;\n",
       "\n",
       "    this.image_mode = 'full';\n",
       "\n",
       "    this.root = $('<div/>');\n",
       "    this._root_extra_style(this.root)\n",
       "    this.root.attr('style', 'display: inline-block');\n",
       "\n",
       "    $(parent_element).append(this.root);\n",
       "\n",
       "    this._init_header(this);\n",
       "    this._init_canvas(this);\n",
       "    this._init_toolbar(this);\n",
       "\n",
       "    var fig = this;\n",
       "\n",
       "    this.waiting = false;\n",
       "\n",
       "    this.ws.onopen =  function () {\n",
       "            fig.send_message(\"supports_binary\", {value: fig.supports_binary});\n",
       "            fig.send_message(\"send_image_mode\", {});\n",
       "            fig.send_message(\"refresh\", {});\n",
       "        }\n",
       "\n",
       "    this.imageObj.onload = function() {\n",
       "            if (fig.image_mode == 'full') {\n",
       "                // Full images could contain transparency (where diff images\n",
       "                // almost always do), so we need to clear the canvas so that\n",
       "                // there is no ghosting.\n",
       "                fig.context.clearRect(0, 0, fig.canvas.width, fig.canvas.height);\n",
       "            }\n",
       "            fig.context.drawImage(fig.imageObj, 0, 0);\n",
       "        };\n",
       "\n",
       "    this.imageObj.onunload = function() {\n",
       "        this.ws.close();\n",
       "    }\n",
       "\n",
       "    this.ws.onmessage = this._make_on_message_function(this);\n",
       "\n",
       "    this.ondownload = ondownload;\n",
       "}\n",
       "\n",
       "mpl.figure.prototype._init_header = function() {\n",
       "    var titlebar = $(\n",
       "        '<div class=\"ui-dialog-titlebar ui-widget-header ui-corner-all ' +\n",
       "        'ui-helper-clearfix\"/>');\n",
       "    var titletext = $(\n",
       "        '<div class=\"ui-dialog-title\" style=\"width: 100%; ' +\n",
       "        'text-align: center; padding: 3px;\"/>');\n",
       "    titlebar.append(titletext)\n",
       "    this.root.append(titlebar);\n",
       "    this.header = titletext[0];\n",
       "}\n",
       "\n",
       "\n",
       "\n",
       "mpl.figure.prototype._canvas_extra_style = function(canvas_div) {\n",
       "\n",
       "}\n",
       "\n",
       "\n",
       "mpl.figure.prototype._root_extra_style = function(canvas_div) {\n",
       "\n",
       "}\n",
       "\n",
       "mpl.figure.prototype._init_canvas = function() {\n",
       "    var fig = this;\n",
       "\n",
       "    var canvas_div = $('<div/>');\n",
       "\n",
       "    canvas_div.attr('style', 'position: relative; clear: both; outline: 0');\n",
       "\n",
       "    function canvas_keyboard_event(event) {\n",
       "        return fig.key_event(event, event['data']);\n",
       "    }\n",
       "\n",
       "    canvas_div.keydown('key_press', canvas_keyboard_event);\n",
       "    canvas_div.keyup('key_release', canvas_keyboard_event);\n",
       "    this.canvas_div = canvas_div\n",
       "    this._canvas_extra_style(canvas_div)\n",
       "    this.root.append(canvas_div);\n",
       "\n",
       "    var canvas = $('<canvas/>');\n",
       "    canvas.addClass('mpl-canvas');\n",
       "    canvas.attr('style', \"left: 0; top: 0; z-index: 0; outline: 0\")\n",
       "\n",
       "    this.canvas = canvas[0];\n",
       "    this.context = canvas[0].getContext(\"2d\");\n",
       "\n",
       "    var rubberband = $('<canvas/>');\n",
       "    rubberband.attr('style', \"position: absolute; left: 0; top: 0; z-index: 1;\")\n",
       "\n",
       "    var pass_mouse_events = true;\n",
       "\n",
       "    canvas_div.resizable({\n",
       "        start: function(event, ui) {\n",
       "            pass_mouse_events = false;\n",
       "        },\n",
       "        resize: function(event, ui) {\n",
       "            fig.request_resize(ui.size.width, ui.size.height);\n",
       "        },\n",
       "        stop: function(event, ui) {\n",
       "            pass_mouse_events = true;\n",
       "            fig.request_resize(ui.size.width, ui.size.height);\n",
       "        },\n",
       "    });\n",
       "\n",
       "    function mouse_event_fn(event) {\n",
       "        if (pass_mouse_events)\n",
       "            return fig.mouse_event(event, event['data']);\n",
       "    }\n",
       "\n",
       "    rubberband.mousedown('button_press', mouse_event_fn);\n",
       "    rubberband.mouseup('button_release', mouse_event_fn);\n",
       "    // Throttle sequential mouse events to 1 every 20ms.\n",
       "    rubberband.mousemove('motion_notify', mouse_event_fn);\n",
       "\n",
       "    rubberband.mouseenter('figure_enter', mouse_event_fn);\n",
       "    rubberband.mouseleave('figure_leave', mouse_event_fn);\n",
       "\n",
       "    canvas_div.on(\"wheel\", function (event) {\n",
       "        event = event.originalEvent;\n",
       "        event['data'] = 'scroll'\n",
       "        if (event.deltaY < 0) {\n",
       "            event.step = 1;\n",
       "        } else {\n",
       "            event.step = -1;\n",
       "        }\n",
       "        mouse_event_fn(event);\n",
       "    });\n",
       "\n",
       "    canvas_div.append(canvas);\n",
       "    canvas_div.append(rubberband);\n",
       "\n",
       "    this.rubberband = rubberband;\n",
       "    this.rubberband_canvas = rubberband[0];\n",
       "    this.rubberband_context = rubberband[0].getContext(\"2d\");\n",
       "    this.rubberband_context.strokeStyle = \"#000000\";\n",
       "\n",
       "    this._resize_canvas = function(width, height) {\n",
       "        // Keep the size of the canvas, canvas container, and rubber band\n",
       "        // canvas in synch.\n",
       "        canvas_div.css('width', width)\n",
       "        canvas_div.css('height', height)\n",
       "\n",
       "        canvas.attr('width', width);\n",
       "        canvas.attr('height', height);\n",
       "\n",
       "        rubberband.attr('width', width);\n",
       "        rubberband.attr('height', height);\n",
       "    }\n",
       "\n",
       "    // Set the figure to an initial 600x600px, this will subsequently be updated\n",
       "    // upon first draw.\n",
       "    this._resize_canvas(600, 600);\n",
       "\n",
       "    // Disable right mouse context menu.\n",
       "    $(this.rubberband_canvas).bind(\"contextmenu\",function(e){\n",
       "        return false;\n",
       "    });\n",
       "\n",
       "    function set_focus () {\n",
       "        canvas.focus();\n",
       "        canvas_div.focus();\n",
       "    }\n",
       "\n",
       "    window.setTimeout(set_focus, 100);\n",
       "}\n",
       "\n",
       "mpl.figure.prototype._init_toolbar = function() {\n",
       "    var fig = this;\n",
       "\n",
       "    var nav_element = $('<div/>')\n",
       "    nav_element.attr('style', 'width: 100%');\n",
       "    this.root.append(nav_element);\n",
       "\n",
       "    // Define a callback function for later on.\n",
       "    function toolbar_event(event) {\n",
       "        return fig.toolbar_button_onclick(event['data']);\n",
       "    }\n",
       "    function toolbar_mouse_event(event) {\n",
       "        return fig.toolbar_button_onmouseover(event['data']);\n",
       "    }\n",
       "\n",
       "    for(var toolbar_ind in mpl.toolbar_items) {\n",
       "        var name = mpl.toolbar_items[toolbar_ind][0];\n",
       "        var tooltip = mpl.toolbar_items[toolbar_ind][1];\n",
       "        var image = mpl.toolbar_items[toolbar_ind][2];\n",
       "        var method_name = mpl.toolbar_items[toolbar_ind][3];\n",
       "\n",
       "        if (!name) {\n",
       "            // put a spacer in here.\n",
       "            continue;\n",
       "        }\n",
       "        var button = $('<button/>');\n",
       "        button.addClass('ui-button ui-widget ui-state-default ui-corner-all ' +\n",
       "                        'ui-button-icon-only');\n",
       "        button.attr('role', 'button');\n",
       "        button.attr('aria-disabled', 'false');\n",
       "        button.click(method_name, toolbar_event);\n",
       "        button.mouseover(tooltip, toolbar_mouse_event);\n",
       "\n",
       "        var icon_img = $('<span/>');\n",
       "        icon_img.addClass('ui-button-icon-primary ui-icon');\n",
       "        icon_img.addClass(image);\n",
       "        icon_img.addClass('ui-corner-all');\n",
       "\n",
       "        var tooltip_span = $('<span/>');\n",
       "        tooltip_span.addClass('ui-button-text');\n",
       "        tooltip_span.html(tooltip);\n",
       "\n",
       "        button.append(icon_img);\n",
       "        button.append(tooltip_span);\n",
       "\n",
       "        nav_element.append(button);\n",
       "    }\n",
       "\n",
       "    var fmt_picker_span = $('<span/>');\n",
       "\n",
       "    var fmt_picker = $('<select/>');\n",
       "    fmt_picker.addClass('mpl-toolbar-option ui-widget ui-widget-content');\n",
       "    fmt_picker_span.append(fmt_picker);\n",
       "    nav_element.append(fmt_picker_span);\n",
       "    this.format_dropdown = fmt_picker[0];\n",
       "\n",
       "    for (var ind in mpl.extensions) {\n",
       "        var fmt = mpl.extensions[ind];\n",
       "        var option = $(\n",
       "            '<option/>', {selected: fmt === mpl.default_extension}).html(fmt);\n",
       "        fmt_picker.append(option)\n",
       "    }\n",
       "\n",
       "    // Add hover states to the ui-buttons\n",
       "    $( \".ui-button\" ).hover(\n",
       "        function() { $(this).addClass(\"ui-state-hover\");},\n",
       "        function() { $(this).removeClass(\"ui-state-hover\");}\n",
       "    );\n",
       "\n",
       "    var status_bar = $('<span class=\"mpl-message\"/>');\n",
       "    nav_element.append(status_bar);\n",
       "    this.message = status_bar[0];\n",
       "}\n",
       "\n",
       "mpl.figure.prototype.request_resize = function(x_pixels, y_pixels) {\n",
       "    // Request matplotlib to resize the figure. Matplotlib will then trigger a resize in the client,\n",
       "    // which will in turn request a refresh of the image.\n",
       "    this.send_message('resize', {'width': x_pixels, 'height': y_pixels});\n",
       "}\n",
       "\n",
       "mpl.figure.prototype.send_message = function(type, properties) {\n",
       "    properties['type'] = type;\n",
       "    properties['figure_id'] = this.id;\n",
       "    this.ws.send(JSON.stringify(properties));\n",
       "}\n",
       "\n",
       "mpl.figure.prototype.send_draw_message = function() {\n",
       "    if (!this.waiting) {\n",
       "        this.waiting = true;\n",
       "        this.ws.send(JSON.stringify({type: \"draw\", figure_id: this.id}));\n",
       "    }\n",
       "}\n",
       "\n",
       "\n",
       "mpl.figure.prototype.handle_save = function(fig, msg) {\n",
       "    var format_dropdown = fig.format_dropdown;\n",
       "    var format = format_dropdown.options[format_dropdown.selectedIndex].value;\n",
       "    fig.ondownload(fig, format);\n",
       "}\n",
       "\n",
       "\n",
       "mpl.figure.prototype.handle_resize = function(fig, msg) {\n",
       "    var size = msg['size'];\n",
       "    if (size[0] != fig.canvas.width || size[1] != fig.canvas.height) {\n",
       "        fig._resize_canvas(size[0], size[1]);\n",
       "        fig.send_message(\"refresh\", {});\n",
       "    };\n",
       "}\n",
       "\n",
       "mpl.figure.prototype.handle_rubberband = function(fig, msg) {\n",
       "    var x0 = msg['x0'];\n",
       "    var y0 = fig.canvas.height - msg['y0'];\n",
       "    var x1 = msg['x1'];\n",
       "    var y1 = fig.canvas.height - msg['y1'];\n",
       "    x0 = Math.floor(x0) + 0.5;\n",
       "    y0 = Math.floor(y0) + 0.5;\n",
       "    x1 = Math.floor(x1) + 0.5;\n",
       "    y1 = Math.floor(y1) + 0.5;\n",
       "    var min_x = Math.min(x0, x1);\n",
       "    var min_y = Math.min(y0, y1);\n",
       "    var width = Math.abs(x1 - x0);\n",
       "    var height = Math.abs(y1 - y0);\n",
       "\n",
       "    fig.rubberband_context.clearRect(\n",
       "        0, 0, fig.canvas.width, fig.canvas.height);\n",
       "\n",
       "    fig.rubberband_context.strokeRect(min_x, min_y, width, height);\n",
       "}\n",
       "\n",
       "mpl.figure.prototype.handle_figure_label = function(fig, msg) {\n",
       "    // Updates the figure title.\n",
       "    fig.header.textContent = msg['label'];\n",
       "}\n",
       "\n",
       "mpl.figure.prototype.handle_cursor = function(fig, msg) {\n",
       "    var cursor = msg['cursor'];\n",
       "    switch(cursor)\n",
       "    {\n",
       "    case 0:\n",
       "        cursor = 'pointer';\n",
       "        break;\n",
       "    case 1:\n",
       "        cursor = 'default';\n",
       "        break;\n",
       "    case 2:\n",
       "        cursor = 'crosshair';\n",
       "        break;\n",
       "    case 3:\n",
       "        cursor = 'move';\n",
       "        break;\n",
       "    }\n",
       "    fig.rubberband_canvas.style.cursor = cursor;\n",
       "}\n",
       "\n",
       "mpl.figure.prototype.handle_message = function(fig, msg) {\n",
       "    fig.message.textContent = msg['message'];\n",
       "}\n",
       "\n",
       "mpl.figure.prototype.handle_draw = function(fig, msg) {\n",
       "    // Request the server to send over a new figure.\n",
       "    fig.send_draw_message();\n",
       "}\n",
       "\n",
       "mpl.figure.prototype.handle_image_mode = function(fig, msg) {\n",
       "    fig.image_mode = msg['mode'];\n",
       "}\n",
       "\n",
       "mpl.figure.prototype.updated_canvas_event = function() {\n",
       "    // Called whenever the canvas gets updated.\n",
       "    this.send_message(\"ack\", {});\n",
       "}\n",
       "\n",
       "// A function to construct a web socket function for onmessage handling.\n",
       "// Called in the figure constructor.\n",
       "mpl.figure.prototype._make_on_message_function = function(fig) {\n",
       "    return function socket_on_message(evt) {\n",
       "        if (evt.data instanceof Blob) {\n",
       "            /* FIXME: We get \"Resource interpreted as Image but\n",
       "             * transferred with MIME type text/plain:\" errors on\n",
       "             * Chrome.  But how to set the MIME type?  It doesn't seem\n",
       "             * to be part of the websocket stream */\n",
       "            evt.data.type = \"image/png\";\n",
       "\n",
       "            /* Free the memory for the previous frames */\n",
       "            if (fig.imageObj.src) {\n",
       "                (window.URL || window.webkitURL).revokeObjectURL(\n",
       "                    fig.imageObj.src);\n",
       "            }\n",
       "\n",
       "            fig.imageObj.src = (window.URL || window.webkitURL).createObjectURL(\n",
       "                evt.data);\n",
       "            fig.updated_canvas_event();\n",
       "            fig.waiting = false;\n",
       "            return;\n",
       "        }\n",
       "        else if (typeof evt.data === 'string' && evt.data.slice(0, 21) == \"data:image/png;base64\") {\n",
       "            fig.imageObj.src = evt.data;\n",
       "            fig.updated_canvas_event();\n",
       "            fig.waiting = false;\n",
       "            return;\n",
       "        }\n",
       "\n",
       "        var msg = JSON.parse(evt.data);\n",
       "        var msg_type = msg['type'];\n",
       "\n",
       "        // Call the  \"handle_{type}\" callback, which takes\n",
       "        // the figure and JSON message as its only arguments.\n",
       "        try {\n",
       "            var callback = fig[\"handle_\" + msg_type];\n",
       "        } catch (e) {\n",
       "            console.log(\"No handler for the '\" + msg_type + \"' message type: \", msg);\n",
       "            return;\n",
       "        }\n",
       "\n",
       "        if (callback) {\n",
       "            try {\n",
       "                // console.log(\"Handling '\" + msg_type + \"' message: \", msg);\n",
       "                callback(fig, msg);\n",
       "            } catch (e) {\n",
       "                console.log(\"Exception inside the 'handler_\" + msg_type + \"' callback:\", e, e.stack, msg);\n",
       "            }\n",
       "        }\n",
       "    };\n",
       "}\n",
       "\n",
       "// from http://stackoverflow.com/questions/1114465/getting-mouse-location-in-canvas\n",
       "mpl.findpos = function(e) {\n",
       "    //this section is from http://www.quirksmode.org/js/events_properties.html\n",
       "    var targ;\n",
       "    if (!e)\n",
       "        e = window.event;\n",
       "    if (e.target)\n",
       "        targ = e.target;\n",
       "    else if (e.srcElement)\n",
       "        targ = e.srcElement;\n",
       "    if (targ.nodeType == 3) // defeat Safari bug\n",
       "        targ = targ.parentNode;\n",
       "\n",
       "    // jQuery normalizes the pageX and pageY\n",
       "    // pageX,Y are the mouse positions relative to the document\n",
       "    // offset() returns the position of the element relative to the document\n",
       "    var x = e.pageX - $(targ).offset().left;\n",
       "    var y = e.pageY - $(targ).offset().top;\n",
       "\n",
       "    return {\"x\": x, \"y\": y};\n",
       "};\n",
       "\n",
       "/*\n",
       " * return a copy of an object with only non-object keys\n",
       " * we need this to avoid circular references\n",
       " * http://stackoverflow.com/a/24161582/3208463\n",
       " */\n",
       "function simpleKeys (original) {\n",
       "  return Object.keys(original).reduce(function (obj, key) {\n",
       "    if (typeof original[key] !== 'object')\n",
       "        obj[key] = original[key]\n",
       "    return obj;\n",
       "  }, {});\n",
       "}\n",
       "\n",
       "mpl.figure.prototype.mouse_event = function(event, name) {\n",
       "    var canvas_pos = mpl.findpos(event)\n",
       "\n",
       "    if (name === 'button_press')\n",
       "    {\n",
       "        this.canvas.focus();\n",
       "        this.canvas_div.focus();\n",
       "    }\n",
       "\n",
       "    var x = canvas_pos.x;\n",
       "    var y = canvas_pos.y;\n",
       "\n",
       "    this.send_message(name, {x: x, y: y, button: event.button,\n",
       "                             step: event.step,\n",
       "                             guiEvent: simpleKeys(event)});\n",
       "\n",
       "    /* This prevents the web browser from automatically changing to\n",
       "     * the text insertion cursor when the button is pressed.  We want\n",
       "     * to control all of the cursor setting manually through the\n",
       "     * 'cursor' event from matplotlib */\n",
       "    event.preventDefault();\n",
       "    return false;\n",
       "}\n",
       "\n",
       "mpl.figure.prototype._key_event_extra = function(event, name) {\n",
       "    // Handle any extra behaviour associated with a key event\n",
       "}\n",
       "\n",
       "mpl.figure.prototype.key_event = function(event, name) {\n",
       "\n",
       "    // Prevent repeat events\n",
       "    if (name == 'key_press')\n",
       "    {\n",
       "        if (event.which === this._key)\n",
       "            return;\n",
       "        else\n",
       "            this._key = event.which;\n",
       "    }\n",
       "    if (name == 'key_release')\n",
       "        this._key = null;\n",
       "\n",
       "    var value = '';\n",
       "    if (event.ctrlKey && event.which != 17)\n",
       "        value += \"ctrl+\";\n",
       "    if (event.altKey && event.which != 18)\n",
       "        value += \"alt+\";\n",
       "    if (event.shiftKey && event.which != 16)\n",
       "        value += \"shift+\";\n",
       "\n",
       "    value += 'k';\n",
       "    value += event.which.toString();\n",
       "\n",
       "    this._key_event_extra(event, name);\n",
       "\n",
       "    this.send_message(name, {key: value,\n",
       "                             guiEvent: simpleKeys(event)});\n",
       "    return false;\n",
       "}\n",
       "\n",
       "mpl.figure.prototype.toolbar_button_onclick = function(name) {\n",
       "    if (name == 'download') {\n",
       "        this.handle_save(this, null);\n",
       "    } else {\n",
       "        this.send_message(\"toolbar_button\", {name: name});\n",
       "    }\n",
       "};\n",
       "\n",
       "mpl.figure.prototype.toolbar_button_onmouseover = function(tooltip) {\n",
       "    this.message.textContent = tooltip;\n",
       "};\n",
       "mpl.toolbar_items = [[\"Home\", \"Reset original view\", \"fa fa-home icon-home\", \"home\"], [\"Back\", \"Back to  previous view\", \"fa fa-arrow-left icon-arrow-left\", \"back\"], [\"Forward\", \"Forward to next view\", \"fa fa-arrow-right icon-arrow-right\", \"forward\"], [\"\", \"\", \"\", \"\"], [\"Pan\", \"Pan axes with left mouse, zoom with right\", \"fa fa-arrows icon-move\", \"pan\"], [\"Zoom\", \"Zoom to rectangle\", \"fa fa-square-o icon-check-empty\", \"zoom\"], [\"\", \"\", \"\", \"\"], [\"Download\", \"Download plot\", \"fa fa-floppy-o icon-save\", \"download\"]];\n",
       "\n",
       "mpl.extensions = [\"eps\", \"jpeg\", \"pdf\", \"png\", \"ps\", \"raw\", \"svg\", \"tif\"];\n",
       "\n",
       "mpl.default_extension = \"png\";var comm_websocket_adapter = function(comm) {\n",
       "    // Create a \"websocket\"-like object which calls the given IPython comm\n",
       "    // object with the appropriate methods. Currently this is a non binary\n",
       "    // socket, so there is still some room for performance tuning.\n",
       "    var ws = {};\n",
       "\n",
       "    ws.close = function() {\n",
       "        comm.close()\n",
       "    };\n",
       "    ws.send = function(m) {\n",
       "        //console.log('sending', m);\n",
       "        comm.send(m);\n",
       "    };\n",
       "    // Register the callback with on_msg.\n",
       "    comm.on_msg(function(msg) {\n",
       "        //console.log('receiving', msg['content']['data'], msg);\n",
       "        // Pass the mpl event to the overriden (by mpl) onmessage function.\n",
       "        ws.onmessage(msg['content']['data'])\n",
       "    });\n",
       "    return ws;\n",
       "}\n",
       "\n",
       "mpl.mpl_figure_comm = function(comm, msg) {\n",
       "    // This is the function which gets called when the mpl process\n",
       "    // starts-up an IPython Comm through the \"matplotlib\" channel.\n",
       "\n",
       "    var id = msg.content.data.id;\n",
       "    // Get hold of the div created by the display call when the Comm\n",
       "    // socket was opened in Python.\n",
       "    var element = $(\"#\" + id);\n",
       "    var ws_proxy = comm_websocket_adapter(comm)\n",
       "\n",
       "    function ondownload(figure, format) {\n",
       "        window.open(figure.imageObj.src);\n",
       "    }\n",
       "\n",
       "    var fig = new mpl.figure(id, ws_proxy,\n",
       "                           ondownload,\n",
       "                           element.get(0));\n",
       "\n",
       "    // Call onopen now - mpl needs it, as it is assuming we've passed it a real\n",
       "    // web socket which is closed, not our websocket->open comm proxy.\n",
       "    ws_proxy.onopen();\n",
       "\n",
       "    fig.parent_element = element.get(0);\n",
       "    fig.cell_info = mpl.find_output_cell(\"<div id='\" + id + \"'></div>\");\n",
       "    if (!fig.cell_info) {\n",
       "        console.error(\"Failed to find cell for figure\", id, fig);\n",
       "        return;\n",
       "    }\n",
       "\n",
       "    var output_index = fig.cell_info[2]\n",
       "    var cell = fig.cell_info[0];\n",
       "\n",
       "};\n",
       "\n",
       "mpl.figure.prototype.handle_close = function(fig, msg) {\n",
       "    fig.root.unbind('remove')\n",
       "\n",
       "    // Update the output cell to use the data from the current canvas.\n",
       "    fig.push_to_output();\n",
       "    var dataURL = fig.canvas.toDataURL();\n",
       "    // Re-enable the keyboard manager in IPython - without this line, in FF,\n",
       "    // the notebook keyboard shortcuts fail.\n",
       "    IPython.keyboard_manager.enable()\n",
       "    $(fig.parent_element).html('<img src=\"' + dataURL + '\">');\n",
       "    fig.close_ws(fig, msg);\n",
       "}\n",
       "\n",
       "mpl.figure.prototype.close_ws = function(fig, msg){\n",
       "    fig.send_message('closing', msg);\n",
       "    // fig.ws.close()\n",
       "}\n",
       "\n",
       "mpl.figure.prototype.push_to_output = function(remove_interactive) {\n",
       "    // Turn the data on the canvas into data in the output cell.\n",
       "    var dataURL = this.canvas.toDataURL();\n",
       "    this.cell_info[1]['text/html'] = '<img src=\"' + dataURL + '\">';\n",
       "}\n",
       "\n",
       "mpl.figure.prototype.updated_canvas_event = function() {\n",
       "    // Tell IPython that the notebook contents must change.\n",
       "    IPython.notebook.set_dirty(true);\n",
       "    this.send_message(\"ack\", {});\n",
       "    var fig = this;\n",
       "    // Wait a second, then push the new image to the DOM so\n",
       "    // that it is saved nicely (might be nice to debounce this).\n",
       "    setTimeout(function () { fig.push_to_output() }, 1000);\n",
       "}\n",
       "\n",
       "mpl.figure.prototype._init_toolbar = function() {\n",
       "    var fig = this;\n",
       "\n",
       "    var nav_element = $('<div/>')\n",
       "    nav_element.attr('style', 'width: 100%');\n",
       "    this.root.append(nav_element);\n",
       "\n",
       "    // Define a callback function for later on.\n",
       "    function toolbar_event(event) {\n",
       "        return fig.toolbar_button_onclick(event['data']);\n",
       "    }\n",
       "    function toolbar_mouse_event(event) {\n",
       "        return fig.toolbar_button_onmouseover(event['data']);\n",
       "    }\n",
       "\n",
       "    for(var toolbar_ind in mpl.toolbar_items){\n",
       "        var name = mpl.toolbar_items[toolbar_ind][0];\n",
       "        var tooltip = mpl.toolbar_items[toolbar_ind][1];\n",
       "        var image = mpl.toolbar_items[toolbar_ind][2];\n",
       "        var method_name = mpl.toolbar_items[toolbar_ind][3];\n",
       "\n",
       "        if (!name) { continue; };\n",
       "\n",
       "        var button = $('<button class=\"btn btn-default\" href=\"#\" title=\"' + name + '\"><i class=\"fa ' + image + ' fa-lg\"></i></button>');\n",
       "        button.click(method_name, toolbar_event);\n",
       "        button.mouseover(tooltip, toolbar_mouse_event);\n",
       "        nav_element.append(button);\n",
       "    }\n",
       "\n",
       "    // Add the status bar.\n",
       "    var status_bar = $('<span class=\"mpl-message\" style=\"text-align:right; float: right;\"/>');\n",
       "    nav_element.append(status_bar);\n",
       "    this.message = status_bar[0];\n",
       "\n",
       "    // Add the close button to the window.\n",
       "    var buttongrp = $('<div class=\"btn-group inline pull-right\"></div>');\n",
       "    var button = $('<button class=\"btn btn-mini btn-primary\" href=\"#\" title=\"Stop Interaction\"><i class=\"fa fa-power-off icon-remove icon-large\"></i></button>');\n",
       "    button.click(function (evt) { fig.handle_close(fig, {}); } );\n",
       "    button.mouseover('Stop Interaction', toolbar_mouse_event);\n",
       "    buttongrp.append(button);\n",
       "    var titlebar = this.root.find($('.ui-dialog-titlebar'));\n",
       "    titlebar.prepend(buttongrp);\n",
       "}\n",
       "\n",
       "mpl.figure.prototype._root_extra_style = function(el){\n",
       "    var fig = this\n",
       "    el.on(\"remove\", function(){\n",
       "\tfig.close_ws(fig, {});\n",
       "    });\n",
       "}\n",
       "\n",
       "mpl.figure.prototype._canvas_extra_style = function(el){\n",
       "    // this is important to make the div 'focusable\n",
       "    el.attr('tabindex', 0)\n",
       "    // reach out to IPython and tell the keyboard manager to turn it's self\n",
       "    // off when our div gets focus\n",
       "\n",
       "    // location in version 3\n",
       "    if (IPython.notebook.keyboard_manager) {\n",
       "        IPython.notebook.keyboard_manager.register_events(el);\n",
       "    }\n",
       "    else {\n",
       "        // location in version 2\n",
       "        IPython.keyboard_manager.register_events(el);\n",
       "    }\n",
       "\n",
       "}\n",
       "\n",
       "mpl.figure.prototype._key_event_extra = function(event, name) {\n",
       "    var manager = IPython.notebook.keyboard_manager;\n",
       "    if (!manager)\n",
       "        manager = IPython.keyboard_manager;\n",
       "\n",
       "    // Check for shift+enter\n",
       "    if (event.shiftKey && event.which == 13) {\n",
       "        this.canvas_div.blur();\n",
       "        event.shiftKey = false;\n",
       "        // Send a \"J\" for go to next cell\n",
       "        event.which = 74;\n",
       "        event.keyCode = 74;\n",
       "        manager.command_mode();\n",
       "        manager.handle_keydown(event);\n",
       "    }\n",
       "}\n",
       "\n",
       "mpl.figure.prototype.handle_save = function(fig, msg) {\n",
       "    fig.ondownload(fig, null);\n",
       "}\n",
       "\n",
       "\n",
       "mpl.find_output_cell = function(html_output) {\n",
       "    // Return the cell and output element which can be found *uniquely* in the notebook.\n",
       "    // Note - this is a bit hacky, but it is done because the \"notebook_saving.Notebook\"\n",
       "    // IPython event is triggered only after the cells have been serialised, which for\n",
       "    // our purposes (turning an active figure into a static one), is too late.\n",
       "    var cells = IPython.notebook.get_cells();\n",
       "    var ncells = cells.length;\n",
       "    for (var i=0; i<ncells; i++) {\n",
       "        var cell = cells[i];\n",
       "        if (cell.cell_type === 'code'){\n",
       "            for (var j=0; j<cell.output_area.outputs.length; j++) {\n",
       "                var data = cell.output_area.outputs[j];\n",
       "                if (data.data) {\n",
       "                    // IPython >= 3 moved mimebundle to data attribute of output\n",
       "                    data = data.data;\n",
       "                }\n",
       "                if (data['text/html'] == html_output) {\n",
       "                    return [cell, data, j];\n",
       "                }\n",
       "            }\n",
       "        }\n",
       "    }\n",
       "}\n",
       "\n",
       "// Register the function which deals with the matplotlib target/channel.\n",
       "// The kernel may be null if the page has been refreshed.\n",
       "if (IPython.notebook.kernel != null) {\n",
       "    IPython.notebook.kernel.comm_manager.register_target('matplotlib', mpl.mpl_figure_comm);\n",
       "}\n"
      ],
      "text/plain": [
       "<IPython.core.display.Javascript object>"
      ]
     },
     "metadata": {},
     "output_type": "display_data"
    },
    {
     "data": {
      "text/html": [
       "<img src=\"data:image/png;base64,iVBORw0KGgoAAAANSUhEUgAAAoAAAAHgCAYAAAA10dzkAAAgAElEQVR4nOy9d3hU17n/u05y7z055/5ufn/c++TYgHHBcU3iuOLYsZ24BjcsF7CxCS7BjmPiGCcQSwJER40uigogiuhtqmbUy6jXUR2NukYNUUYNCRDS9/4x2tt7qqbPSLyf51mPZu+9yrvX3iN9tcr7MkYQBEEQBEEQBEEQBEEQBEEQBEEQBEEQBEEQBEEQBEEQBEEQBEEQBEEQBEEQBEEQBEEQBEEQBEEQBEEQBEEQBEEQBEEQBEEQBEEQBEEQBEEQBEEQBEEQBEEQBEEQBEEQBEEQBEEQBEEQBEEQBEEQBEEQBEEQBEEQBEEQBEEQBEEQBEEQBEEQBEEQBEEQBEEQBEEQBEEQBEEQBEEQBEEQBEEQBEEQBEEQBEEQBEEQBEEQBEEQBEEQBEEQBEEQBEEQBEEQBEEQBEEQBEEQBEEQBEEQBEEQBEEQBEEQBEEQBEEQBEEQIYyxUV8bYYV3GGOljLFhxlgLYyyYMfYTXxpEEARBEAQxFZjGGHvK10ZY4DXG2E3G2B7G2AuMse+YQQhu8qVRBEEQBEEQhOcoZYylmZxbyRi7xhj7hffNIQiCIAiCmDqsZoyNCY7HGGPrGGP/Yoy1MsYGGWNSxtj/xxi7jTF2mjHWN35tuYX6XmY/TttqGWNfMMbiGWPNgjw/HW+jYTzfRcZYFmPsmfHrM8bt+Nyk7rvGzy9y7BYJgiAIgiAIIaZrAMeYYb2dhDE2hzH2KTMIPiVjrJAxFsQYe5EZpmbHGGN/EpR9iBlG6DIYY28xxt5njFUwg1hsEuQLZoz1M8aWMMaeY4y9MW7Hm+PXXxu3abYFewcZY2EO3yVBEARBEATBY0kAapjxZovN4+cDBed+yhi7wBjbJzh3dPzcfwrO3cYMo3xCAShhhpFEa3w0btN9Fq7pGGOxNsoSBEEQBEEQE2BJAO40ybN4PM/jJudzGGNJguNGxtgBC22kMmMBuIoxNsQYW88Ye5Yx9n+a5CcBSBAEQRAE4UEsCcC1JnkWjee5x+R8OjOs3eMYYpanZ48yYwH4U8bYMsaYerzefsbYfsbY/zt+/U+MpoAJgiAIgiA8hjsFoL0jgEJ+wQybPfoYY8fGz93BLG8CuZPRJhCCIAiCIAiXcacATGCGNYA/E5y7nRk2hlgTgBxnGGOVguMyZhCOQlYwcgNDEARBEAThMu4UgA8yxq6Pn3ubMTaPGXYBtzCDyxeO84yxNYyxuYyx55nByfNVxlikIM8cZnAEvZcZHEEvZYbNJKEO3BtBEARBEARhgRBmEFoco8wgzoTYEoCZJudeYj/6AWxghg0kZxljJYI8Sxljuczg/+8qY6yWGZw8/9SkrneYYSRQGAruP+y6K4IgvMF/MMM/fBeZ+T+OBEEQxC3M/80Y62KMxfjaEIIgPMJ0xtifGQlAgiCIW5odjLEPmWFq9yPGWD4zjOD9ypdGEQThURYxEoAEQRC3NDHMMF07zAw7e5PZjyHeCIKYmpAAJAiCIAiCmCTMZ4Y1fH3MsM73JxbyrGGMdTDGBpghzOPDFvKQACQIgiAIgpgkvMIMIvAzZlkALmOGWN4PMUOIx42MsXbG2H+b5FvEGFvnUUsJYgrxH8ywePbnlChRokRpUqXpzPM70n/mRnt/xmzzArMsAJsYY0sEx1wM8I8F544ygw/PRmYIDWm6m58gCBOmM8ZAiRIlSpQmZZrOPMfPbvvFT91p62VmWwS+wMwF4M+ZwS+oaUhGJTP22UkQhIP8nDEGnU6Hvr4+u1NqVrJD+W/19M033/jcBmeSOOmcz21wpX/12nug197jVVtOSI74vD+82ceUfNO/Op2OE1U/9/Tfh9aSu/jvkrOpteQue+y1JABnMIMAvN8k73FGbp0IwiV+zhhDX18fCM+xdOlSp8vmFqvMznV0thsdj46OOl3/VMBa/4523YvRrnu9bI3zaBvqfG2CVVx5h12ht7fXJ+16G0f7t6+vz2sC8LL2box0zXIpXdbe7awApBFAgvAQJAC9gK/+eN4qmPbv5cuXAEw+AegoW0Uh/OdL4/fc2NwwYbnD8liH26J32LP4swDsqbsT1zrvdin11N3prABkzPIawB5mvAaQIAgHIQHoBRQKha9NmNJY69+pLADjJDvcVtf169cnzEPvsHWGh4ddrsPR/p1iAvAnzLC791VmEID/PX7MbXD5FzP49XyYMfZfjLFNjDEdM98FTBCEA5AAnKJYmzq7efOmR9vVaGs9Wr8juCoA7RFGUxlbvxe4EcfJiDvFs6/wpgDsrpuJoc67XErddTNt2buIGaZ5R8cT9/l5QZ7VzBDOcZBZ9wNIEIQDkAAkpizuHgFsbmlyW12Ef5NdkOFrE2ziTQHYWTcDg50zXUqddTO8YS9BEA5AApCYskzlKWBPkJWf7vE2ent7Ud+o9Xg7Ux0SgARBuAoJQD9ibGzMq+1Z2j28RvFXo+MbN254yxynsGUfCcCpg6eXLkw2vCkAdZrp6Ou4w6Wk00wnAUgQfoZTArBaU+WhX2v+S01dta9NIByEBKBreGNE0BpXr171WdsToSrM9LUJXhWArZpp0HfMcCm1aqaRACQIP2NKjwBGi7f42gTCh9wqAnBwcNCt9ckzRDavt7S1OF23PW5qOK5cuQIA2Cj9zun2piokAAmCcJUpLQDtZXR0FD0Xe3xtBuFmbhUBaMpB2V5fm+A1/HGzhjf635sCsFlzOy51THcpNWtuJwFIEH4GCUA3cO3aNbvydXV1etgS5ymrKPG1CW5nqgtASdpZX5vgdrq7u3xtwqTAmwKwUXMbejqmuZQaNbeRACQIP8MpAXirhGci/Bd7NsxMdQHoD7jLH+A+yU631HOrQAKQIAhXmfIjgJ6c2q2qrfRY3YTrkAD0PSTsPIM3BaC29n/Q1X67S0lb+z8kAAnCz5jyAtBbTMUpVG/iielMTgDK0s9bvF5RXW52Tteuc7sdk52hoSGnyuUWq5xuc6dovdNlnYXbdDIZ8KYA1NT+Dzrab3cpaUgAEoTfQQKQcCv+NCpKI4DEVIUEIEEQrkICkJj07DxvebRoMgjANl2br00gJiHeFIDVtb9AW/ttLqXq2l+QACQIP4MEoAkU79WYi5cu+toEp5kMAtBXjIyMOFWuvLLUzZYQzuBNAVhR8ws0625zKVXUkAAkCH+DBKCLOLs+ivA8JAAnN9a+W3q93mNt+ir04X5JlEP5SQASBOEqJACJKYs1AZjlh86DrSFNP+drE+xmKvrwq6vX+NoEi3hTAJbX/AKNuttcSuUkAAnC7yABSPgFnphq9tcRwHjpHl+bwLNTtMHlOgYGBtxgiXdZrfjS1ya4hDcFYGnN/0Cru92lVFpDm0AIwt8gATgJaW5txkbJ9742AwAQK9nmaxOs4m0BWFmj9lpbjtLS2uxrE7BVtMbo2NnRtWY/uBdfQwKQIAhXIQHoRdwVNYEw0KprtXndWQFYrC501iTCBH+M1TsV8KYALK7+H2jabncpFVeTACSITYyxCsZYH2OsgzF2lDE2wyTPbxhjmYyxQcZYO2MsxEI9a8bLDzDGMhhjDztRB2N2CEBndws6iz0hvgjP4e3n7SiO2GevAAzO+cjuOlcrvrI7LwGkqBQT5nGk/wkD3hSABdW3obptmkupoJpCwRHEBsbYo4yx/4MZvggJjLEywfX/xRjrZIytZ4z9X4yxXzHGdIyxfwjyLGOMtTLGHmKM/SdjbCMziLz/dqAODhoBJPyO9LwUi+cnGvEzxV/XAE5F1NVlTpUrc9GtTELifpeuewJL729GXuqE5WLEW+1ugwQgQUx+HmGMjTLG/vf48SLGWDdj7CeCPN8yxuoFx02MsSWC458yxi4wxj52oA4OEoCET7nQc8FjdfurAEzOljtcxlHx6wmamhtp/Z2f4E0BmFt9OyrapruUcqtvJwFIECYsZwZBx7GFMZZokud3zCAS/xczfHnGGGOzTfIoGWORdtYhhAQgMaXQaGv5z/4qAP2ROMl2u/IJ+9cZ7C3f29trdCz0CXg6KcElG7zFFtEqj9XtTQGoqpqG8tYZLiVV1TQSgAQh4GVmWMP3iuBcHGPsmEm+B5hBvE1jhvWCY4yx+03yHGeMxdhZhxASgMSUxREBWFiW72FrPMexxHir18RppwEAOUVZ3jLHLq5du+aVdpwZbeU4n3LKjZa4FxKABDF5eZMxpmeMvW1y/pYdAbx85bKvTfAZk82PWveFbl+bYBeTaQTQHU6U7Qlj6KjwihKFOmsOjzveb085mZ7o/lSFmR5p11W8KQAzq6ajpPUOl1Jm1XQSgATBDGv19MwwAmjKn5n5+r1/sInXAPYwxhY4UAfHzxlj+Oabb7B06VIsXboUCsXEu/YIzzKZoj84irNTiLp2ncNlnBWAvtg4QLiHSFGw0bEnw8a5m4n8IioUCv739DfffOM1AZhWdQcKW+90KaVV3UECkLjlWcIYu8IYe9bK9f/FDO5d1jHGfsYY+zVjrI0Z7+D9F2OshRlcv/wXM7iW0THjXcAT1cHhNyOAhH9TVVvhaxMcRigA80tzfWyNf3BIFm12Llq82aU6r1+/7lJ5W5xJPgYASM0We6wNf+KIPM6ufN4cASQBSBDuYYwxdp0x1j+eBsZ/CgXhrxhjWYyxq8zgzmWlhXpWM8a6mMHPXwYz9wNoTx2M+VgAmv637k4m03/+twpVtZVebW8yTQH7mlPKIw7l7+/vNzp2RgSa+nQcHBx0uA5TRkdHrV5z5f2zp3/Wyb9xun5H8aYATK2cifyWu1xKqZUzSQAShJ9BI4AEz2R28XE2+YTZuVtBAJaoi/jPpjtnnSU1J8no2BfOwW2JQVP7LJGWazvPjRs3XKrfHjy1bhEAJMnnvCYAkyrvRE7L3S6lpMo7SQAShJ9xSwlAd/2BFHLQwpQa4R/4UgDaEhjurF8oAP2B3GKV2+tMz00GAISKl7u9bmdIyVH62gSvjgCSACSIqcktJQCnCsPDw742YVJwK4wAOsI62RKnynniHyeOq1ev2ryeNi7+TFmRvtAT5pixWbTCK+04ijcFYGLF3chqnuVSSqy4mwQgQfgZJAAnIXkeGGWZikxGAXjx0kWjY2sCyBdMld3pU2FDkDcFoKziHmQ0/9KlJKu4hwQgQfgZJAAJm+wRRbh03ZdwAtDZkS/CGG2DsZsSf/xHxNTGqQoJQIIgXIUEIDFlmYwjgP5MhDjQ1yb4BFs7i32FNwWguGIWUpvvcymJK2aRACQIP4MEIOFXHHXSCXNOUbbZuakgAFNUnnPMnqxKtHpNGHvXGTwR6s3Zd8PdlFeVuaWe2roap8t6UwCeU/8SSU0PuJTOqX9JApAg/AwSgMSUZbILwC2iVQ7lr6mrxs2bNz1kjWU86QRaWHesZJvZ9Yl+bznafzdv3nQ6Uo23IQFIEISrTBoBeDopwdcm3FI4E7/Vnli03sReARgucu/UZktbi1vrcyc7RRvtss8X8amtvT/ufj5TgcuXL3tNAJ5R3wdF04MupTPq+0gAEoSfMWkEIEE4ymQfAfQ3svLT+c/J2XKLedp0bW5t01ZotMKyfJfqLi7zzG7g+katR+oV4s0RwFPqByBretildEr9AAlAgvAznBaAnljjQzjPyMgIxsbGbF53BHc83wgHR27WJH7tcptCJqsAPKaI5z97cg2gP+GuaCNrFH91Sz2+wtZ3WAgJQIIgXGVCAZifI3ZIINbmvwYA6BXE4tXX/8bu8vZgzx/1y3W/BWCw3xp5KYv4zxkpewD8aD8A5OdKnbTQnHRFkF1212kqAPxov+W6zJ3TcvZz9LopFnJuymdW7Rb2HwdnP2Dov/wcMfT1v0G6IgiAoX9FiiW8fbkpn/H546V7jPrf9Dpnh6X7t4S9ApB7PzW15VbzcPYL27f0/riD9ORdRnZbc/zNvZ+2vl/C/uPrt7P/HKU6b47Z87M13Wz6/eL6PzFTYld7lt4/e9ktCuc/9/X12fWexEt/fMa9ej1ada0AHP/95o7+96YAPF7+EMSNv3YpHS9/iAQgQfgZNAVM+C3R4i0ulffUCOCxxANur5Owjq24wJcvX3ZLG5xQnSgyib/gTQF4tPxXON/4iEvpaPmvSAAShJ9BAlBAXf2t4UR2KpFdkGH1mr9OAR+U7fVp++dTT3msbuEaQFVh5oT5u7o7AQB6N41Y3yqQACQIwlXcIgAn+3rAyW7/RNhaSD+V8VcB6M8cVxx0qlxxeaFd+S70XABgeVr7bPJxnEk6Znb+gHS32TlvxMNuaKr3eBvO4k0BeLjs1zjT8FuX0uGyX5MAJAg/Y0qMAHZ2dfjaBMIP8WcBONne2X2SnR6p99LlSwCA3t7eCfNyjpPtyesIq1I+Nzsn3Izhjmfl7v7zpgCML3sEJxsecynFlz1CApAg/IwpIQCnImGS5b42YdLjiACcaLQnyYrbE8I5HPUz2N6h85Al9uOsb8T8khyn2+y52GPxPAlAgiBchQQgMenZIVpv8byvRwC9KVqybKyF9BZxkh0AgM1iz+wyBoDUnCRk5qd5rH4hucUqu/JZe/88iTcF4P7SR3G8/gmX0v7SR0kAEoSfccsLwDDxv31tAuEhfC0AHWW18kuj4zCx+ShwVW2lzevuYI84wiP1CnFl04c37PN3/pn8ntcEYGzp40iof8qlFFv6OAlAgvAzbnkB6GmcXVRPuI49AlBdbd33n7e4ceOGy3VkFaRPmCclR+lyOwAgTT/nUH533N9ElFYU8585+3KKspwqr8w4zX/OKcq2mN+T7mKEEVeste/NEUASgAQxNSEB6EeUVZb62gSX2SZa62sTeEwFoDfi2zp6/xcvXfSQJdY5oTzkUP6C0jyH8rs69d3Y3GDx/HbROpfq9SSO9qkQR/sX8K4AjC59HIe0s11K0SQACcLv8HsBODQ05GsTfAZ37/39/T62ZHLiqSngW9lnXXd3l0fqPZdygq+7v7/fpd9J7vy+WIt57K7fmTucFLXeFIB7Sp9EvPZ3LqU9pU+SACQIP8NtArBYbZ8fMILwFpNtDaA/YcvPnnC6lMMd3/8zyeY+AIUckO6yeN6WH097w8qZMjw8jPpGLfZLo/gQcN0XutEz7sfQlIy8FKfa0TbUOVWOBCBBEK7i9yOA/o6tMFXe5HyK56I7TFaEAtAXU62THV/sbrWGJWfQtq5b+522SfIvq3VwU9ecn8EdovXo7u4yWjpgq7wldoo2OJTfXrwpAKNKZmNf3bMupaiS2SQACcLPIAFIOIQnFr87K6JjxFttXvfnEcCNku99bYJdxEq2eXx03x3/RHEh5SbC9P2NlWwDAKyVf4PKGjVClIshzxADAC5fuYyisjysTfwbn7+yRu2yre7AmwJwR8nTiK37vUtpR8nTJAAJws8gAXgLMdEoylTDnwXgVOGk8rBT5a5fv+5mSxxDnHqa37jBrbU9lhgPZZYMpeoCHEuMx8asDyFrfAhbRKvs3lGszJJ5zGYhJAAJgnAVrwhAEpiELxAKwBPKQ3x4r5s3b/J5wkWB/PWY1A8B/Oi2JKj0Pf74rDIG6krD2rcj0vW4ceMGwsTLMTIyguCcjwCAL39cEc/Xv0H9BgBgtygUVbUVZjZy7R9L/LGMsPzIyIjd9yusP1i1wGZeS9dN23LER6alXbBjY2NGdQrDq1k6tpfR0VH+c7go0MzNjPC60FdiiHIxYtLfx+joKILy5iOy4jUEq+dC2vgQgtRz0dR2G8QNj2GgYyb62u/g35/RrntxNHGfQ8/ClN2icLvyxabOsyufNwXg1uJnsFfzvEtpa/EzJAAJws+gEUA/o03X5msTLCJK9e4aQ1N3KvWNWofrEArA8w2/xjHt48hs+iUStE8gWD0Xh+qewjHZamRp7kNiw4OQVjyJLdUvIbb2WYRXvYJT2kexT/M7HKybDWXjA9hX+xx2VP8BCfJvsb3sVewVh2Jz0qdQph5CrOTf2F7zRyRlnMHqijewsfwNyDPOob1Dh8C8+UjKOANZ+nkA4H92drajvUOH1GwRMvJS0aprNbI/vzSX/xwv3YMdovWIEW/hz3V0tmOj/GsAgLq6jC9fMe7bMDzxryirLLVrJ726ugwAkJ2fDHHaGQwODqK8ynBOnGrwi9eqa4Ver+c3LnR0tvPlufcjIy+Vb98a4rQzSM02TLOWVZbixo0bfPuAYWPEjRs3UF5Vxq/L4+qXpZ9HRXU5tohWYrconHcKvVHyPTZKvseW6pewteZFJDY+CEXGWewRhSMj8wTiap+BsvFBdOimoVt3H0Y6Z2Gkc5aRyLOV5GnHjey3hnCHuLB/7MHe3eXpeSleFYCRxb/HLs0fXEqRxb8nAUgQfobXBWBza7PX2uLwVbSPCz0XcKHnAkLHRyF2ijbaVc50fZg9Iw/JqkQUlzu+VuuEBUfV1lxfuBNv+OQznQLm+qdV12rWvrZBw38+nrgPALBFshSAcf83tzYjOVvOPyNH+pzLK2zLFFubBmy9P8mqRPP2LKzd2ynagKOJ+43OXb161aZN3Lq54vJC/v4B4Iwy3iif0P1KuPgHs3q4UcLTiliEi39AZn4aUlUyqApScCopgb+/tZkLEFX7AnaLNmB37fNQZsmwufolnE06gP7+fsSJNyO86hWc0D6G9Kb7cEz7GCKrX8YR7ZMob5mOi+3TUNoyA3Vtt6O85S5cap+G0a57MdBxL252zsK1zrvtFn5cEjX8BrK0kygqK7DaT96EBCBBEK5CI4AegpveSjdxD6HR1mLfeMxUU2rqqnH5ymW76rcWJP7CuJuKlamfWbxuSUza6zdNaJu19t2Btf4RYk/73B/vlWmf8ufWy74F8OPzseRC5HRSAn/tgsDtR6zyxz61p/0tolX8Z2suTraKVgMAjspsTxHuEYXj8pXL/PNzZPpUeP8cvb292CJahd7eXoyNjWFoaMisfu7euXsVPv+Vqo/4esbGxhAn2c7nEU4vc2LxWGI8glULsE62BIekP/q+2yT5Hv39/bjQcwEjIyOITV6IgYEBBKsWIFIUhDDxchypm42z6t9hT/GrWF3xJg5Id6GhUYv8giRoWqehqGUmkpruR6zmWWQ23Yvy1ulobKxDXt0j6NLNwI3OezDUcRduds7CUOc9Dou/0a57kdN894TfzfySHLufCYfp7wd78aYADC96Djtr/+hSCi96jgQgQfgZfi8AG5rqfW2CGdzUGOd6xVSwWPPsfzTxgNU6HQlbZQtrwqSwLJ//zNlnLeKCP+AOB+CmI4Dcjk8OjbYWgPnzS81Jsllvak6SVfu6uizvRuVCzp2fYCrd9PlN9P7X1tVYvSZPsyw6Te9P6PPP1L7kbDn2SXbw74+jwr+2rsbMp2B5VRmGhoZwWBqJxqZ67JPsQE5RFo7IwnFcvhOxqfMQLd6CVRVvobauBpHlr2Fb9R8hStyMQ9JN2Cv/G7ZUv4QT2sdwXPsYgtVzsU/zO8TVPoP0pntxOC0ABc33I7HhN6htux0VrQ9D03YnettnoLdjJvo67sJw510OCcCt1S/y9heU5uHatWvQaGu9MlpuCW8KwNCiF7Ct9iWXUmjRCyQACcLP8HsB6A9oGzSQpJ01miZbk/j1hOUmGlnjRqM8hWkc0eaWJo+2Zw3honx3sSbxa/7+rD0Lf9oF3N3dZbX/uf6xdF1VmGl2zt5RYnuw9I52X+i2mv/atWsIzvnQ6Bw3nc5N+3L2abS10LXrzKaXuy90o0RdiP7+foSJlyNa83tcvnIZq9IW8aK8r68PW0Uh2FbzIvr6+vhNMiHKxThS+hxWls1FjOZZhMuW4GTd4xAn7UVU9YuI0TwLReMDSGv6JXbVPI/yljsQUfUKKltn4mbnLHTppuFG5yzcdGD932jXvUjJOGHWF7p2HXTtroW9cxYSgARBuMotKwCdCRcVKVrhAUtco6m50eU61sn+jiPyOP74gpVoB/Zet4a3w/q5KgCbmhuxV7zZ7vyO3N8GF8R/e4cO/f39vMNie22oq9dYHVHkNqaYslrxlV02CYVQT88FVNaokV+Sw5dfrfgK+2VLeftv3rzJb+AYHBzEasVXiJP/DY1N9Wjv0KGg2CB81VWlKCzJxoWeC6iqUeNQ1puQlD6F0/W/xZbql7AxYwGCCz5AVP7rqKgqRbzqDZyq/y22VL2M0ynvoaB5Ji63z4C27TZc0M1AY9vtaNXdhasdd9ot/lp0t2G7xHgdsb2/P7iNHdb611m8KQA3Fv4RW2pecSltLPwjCUCC8DNuWQF4q3JIFu32Om2FDRNyWB5jd53R4i04k3TUITvkGSKjY1MByO0o5UjLNZ4Kbe/Q4dLlS1an8IVwQis9N9lu+4T3f+3aNYuOrO15PtwmjmpN1YR5Jwqvdib5GALz5tvMw62JvHjpIqpqKwEY7LfU/l5xJI6Pbyzirg8PD2OXKBTR4gjI0s9jvexbvv82Sf4JAAhP+TOiRJuwVxw5fo8HAAApKhlOJyVgc9XLqKxRIzInAFW1FTiTdBRnlPtxSPpv7K/8PRJS5uGEbD2ipf/EtuoXsaf2OeQ1PYptsr/juOIASlrugLThYbTqbsONznvQqvtxCnii0cA23W0IVAegvUOHzq4O5BarJux3T+NNAbiu8EVE1LzqUlpX+CIJQILwM3gBeEp5xNe/0yYNQp9nE+3QnWg9mT9iyaebNUxHnJyJ6jCRALGXwcFBrJV/wx/bOwK4Imsh/7mmrtpmXmH9pnDiyB0EZyxEpCjYbfWdUh7hn41w9Gqz2DCqbckxs+m7PTo6isHBQewRh6G/vx9DQ0P8848WuKe5du0agkye6bVr1xBY+i5vQ1DefL7siqyF2Claj/7+foyOjiJBHocVmQuxQv02ACCu/I8IVAcAAE5WPoUtJXOg1+uxufolBJa+h/3lzyO8bA5ClIsRnf4BwsvmIKXpPpxJ+hjS9LOobJ2G4c670aW7E/r2uzDSOQs3HJgCHnUu0HEAACAASURBVOmc5fHfj7biGVuCBCBBEK5CI4AWsCbahC5s0nKTcNDCaI2pw9cSdZFbbfM23KaGNAdGukxxpqxQSHJuSCy5EOL692zyCTS3Nhv1v1AAVmuqjNZEmjoPtkRZZYnRMTdlCRievz3P1tqmEFdw9Z8KSyN3QofJpoyMjOBs8gmjKWfu+ZRVFPJLI3KKspFTlI2m5ka+f0vURRgZGUFzSyP2iCNwLsWwlo7bPMG1m5abjN7eXqyXfYtzKScgzxSju7sLJeoiRIqDsFv+N2wTrQEAnFTEIrJkDgDD+s9TNY8hSvodQvLfx/7yF3BIOxsn6h/F/oKXcTjtPZyofxRFzfejoW0aejvu5P3/3RjfEdzTPsOmAKxru93ud9h03a2n8KYAXFPwMsKq/+RSWlPwMglAgvAzSAB6AE9vtkjJUXq0/qmCpRHAlrYWj7RlaeSwu7vLan6hwI0UG0b68ixMLXZ3d5mNxKXkKHmBdUwRbxTflpue3C9barF90/vfJQo1yyOs/6AsGopMiaHsuACv1RrvPB4ZGUFNXTVaWpvR19fHXw8VL0dZZQmy8pT8MWcf5xvzoCyaH93j7I8Rbxq/theh4uXYUDgXzS1NyMiRIVS8HJHjPhjLK4qwSxSKwLz5SFEp0NLahJOKOBzQPI3BwUFkN9+NmNQPoWmdiTbddHTrpiOl8UG0tM3Azc5ZvADkpoCtTQWf1D5m1kebBeuBHVkG4C68KQBXFbyMjdVzXEqrPC8A5zPG8hhjOYyxeR5qgyCmFCQAfYCj0z2OYu+aPHuxtNkAADIEPsxOja8TC1EuNnO3Yoql+LFcecDcXYsQS4vvrdknFIBc/fbs3vYWQmEnvH8hnLhzZIMJ13/c8wnOWGjxuhBr7XPEiLdgYGAAtXU1/Ps7ODhoNJJ68+ZNI7c0wvvj7DdM8e7jp4iFI497q1/A2qTPkSDfhxXpC9Hb2wtJ2lno2nU4q4zGnpJXEJvxHs4o9qBV14re3l7sLH8Fh+pm47B0DXaXvYQSdSEiSudglXou6ttmoqb1Dgx23IvylrvQrrsHTW3T0KqbhpHOWbjeeQ8O1D6HwY6Z/LvSbxICbrTrXuQ33221X4Ti25uQADSzs5ox9l+Msf8e//z/eKAdgphSTHkB6MponDNlD8tj+c9nk4/byOkdJpq6qtZUGYUXM+Vssrn7C1NsCU5PjIZW1qgnzDM0NMT/Abe0vo3D0v0J6+emS5Mm8PfGOQE+LI9FfmmumWATxvo1td8dayAdcUIsDDEHGNYHJmXLjXz8xYi3mr2/HZ3t/DrHGPFWxEq2obml0WgUUZJ2FoelP75PB2V7LdoQI96KFJUCO8UhGB4exjrZ3xGc+Qk2i1egqqYcQ0NDkKYewS5RKM4oYpCULcc5ZSxClIsBAIelq7Ghcg6aWxpxPPEAYsUbEC9dg31FLyGx8UEkNT6IE/WP4Uz9IyhuuAcnUxbgsOYpnNc+C2Xj/ShvmYl23TTkNd+NvvEdwTc7Z2FE4CiaGxE8qn3S7r71Ft4UgCvyX8X6qjdcSivyX/Wkva8wxqIFx9GMsZc90A5BTCmmvAD0BQnyfS7XYW1DAScs1sn+bvO6vewRRTgUls1djrnt2TDhqHg0vXdX3MBY619T9ogM6wJNdxi7Ur/w/XFWQFtzE2MJS34auZFWYR1Cf379/f38ej4h/Psp2CxTVVuJiORFfB2ckOzt7eVHAGXp5zE0NISGpnqEqd4DAGw9v5qvQ6rcDm2DBqtSPsemytcQqA7AycRYBOXNx+ryt3BEvgS7Uj9EnOYZrK54E6Ks1yBXRiEk/3206W5HvOZpxNT8EVWtd6C+7Q4MdtyJxMaHkN30EFra7uDFXt/4CKBwOriw1H5x7c6NO7bwpgAMzPsT1lS+5VIKzPuTJ+39kDG2UXAcygxTwgRB2GDKC8A2XZtL5b3RN2sT/+aWepyN7ME539U2aFDfqLW7jSjByI8n3MvYatsSpiORnnAEHZNon188AB5xF8KNgDnSvkZba/R8xGlnzHYzd3V18v3HrWdMUSks1itOO2N2blXSFwB+FPb9/f38+8G93xHiQISLf8BZRRQCS99FlCgUu0VhGB0dxaqkLzA8PGwWQzim7CVEZ77L279J8i+syP4EwWXvoKauGpHifyFQ/Q5E9b+BsvZXOKJ9ErV11UhQP4vDdU8iRvMsqlvvwNmG32Bj5RykZ59HSYthQ0ht2204mLQQ7bpp4+5eZuBy+3QMd97FC8ArHXciLusdu/vcW0wxATifMZbFGOtjjI0yxn5iIc8axlgHY2yAMZbBGHtYcO1VxthewTGNABKEHUx5AXirY+mPuKVNJFw+0QShyiaiq9uxXa+eDEcnFIDq6jKHysaNh4ezFbqNW+/GTTGLU08bXW9qbuTvz7R9SyO1QmfcQmxNYTvSf+LU07wPQQ7TzSuHZNFIyVEa2cf55nOUndJ/GB13dnWYvV/nU08hTrIdBaV5ZlPj51NO4og8DtevX8decSQkSbsRNB5n+FTibuwVRyI5W46kxgcRmvwZjmofxynZSuySLkF6072Q5D+H7Vnv4WDdbBytewLnip9Bh24malvvwf6K55DX/EuUtNyNNt3tuKCbhuTG+6Fvn4XhzrsN4q99BgY7ZmJr9Uu8TZ6Mge0I3hSAP+TNQUjl2y6lH/Lm2LL3FWYQgZ8xywJwGWOslTH2EGPsP5lhtK+dGdb7cXZWMsZ+Nn6uktEaQIKYEBKAXubKlSsOl1mZtsj9hvhB+1tEq8zO2Tv1ag+ujABONH1q7/QqAFy6fMnsXFNzo5GwcyZKSkZeqtk5S++XcOOMve/f2NiY0WfhruWggnlGEWhWpi3C4OAgH9owTrIDer0eW0SrkJ6bzP9+4aJicHUG589DUsYZrMp/HwCQOx4Pe3BwEJcuXURfXx/WV85BX18fdolCodfrsa7ydewWhWNsbAyR4kCkqaQ4UjcbUTUvYH3lHGyonIOD0ijkN89EsOojHKl7Es0tjUjQPomNlX/CuuRFSGx8GMrGB5DVPAvVrdPR234HxA2/gqr5XrTopqNFdyeutBumhbt107BK/ZZR39jr69L0+Qjv31W8KQCX5b6BFRXvuJSW5b5hj70vMMsCsIkxtkRw/FPG2AXG2MeCc7QLmCAchATgFKGuXjNxJieIl+4xO3cm6eiE6wYjRIFm5zyxIaS4vBAA0KprNbvmyVjA3A5Xrv3TFnbROhsyb6LyE+2yBgzxecsqCnn7LMG5Ygk3eVacq5gUlQLdF7qRVZBhdH/HEw1rFA9IdxmVKyzL58VmdkEGf57bKRuUPx87RRtxJukowsTLjXZkp+elIES5GP39/dg8Hh0kM8+wgSlMvAynkxIQJdqE/v5+tLS1QK/XQ5y0HwckWxGoDsCq5M+xPes9iAqeQ7R4FZKzziM+7V2EJn0OWer7SGv6JaJrn0N563REy7+CvuMe5DbfifKW6ahvux3DHXchpfBpdOim4Xrn3RjomImK1hnIbZ7Fu8FxB5Z8WTrDLSQAf84YG2OMzTbJq2SMRbrxXgnilsOiAHR1GvBWxNJUYWdXx4TlyipKJszjCK6ueXSFrPx0o+PCsnyb+e3pH0fbjxbE7nVEANra3LJVtNrqNUcQjgAJNzjYckpdVlFitgPZ0vfT0c05g4ODODK+Y32zjRjXHZ3tVus/Io/lp60z8lL5+6usUSMobz46uzr48hzR4s1obKzjy3PTyxXV5cjKT0eEKIi3j4vDHFj4PraKQlBZo0ZY1atIkH+HpPTj2CcJwxrFXxEjW4IdNX/AMfkenK14EhuSPkeEeBn2a36HYxlzsbHyT9gn/Tfkyq3YqgrA2YbfILNpFlTNd+OgZjZa2qYjtemXaG27G41td6KxbQaKW+5GXvN9ULfci5XjEUkmwvT9dwfWvkPeFID/zHkTQeoAh9OHu5/BU5/MwlOfzMLj8+92VgDOYAYBeL9J3uOMsRg33itB3HLQCKAXCFYtcHodlTsRTutNNB1lzVch5xYlOPvjCfMC1jcS2HvdFdw5Asg9vzWKvxqdjxQHTVjWUv8I+88awogf1t4fRZYUgMEHH4dQBNuD8Ptvab0hZ39VbQXfVlDefIu7h4XvWIQoEIFF76PnYg8/Yiqsf3R0FGHi5ejr6+Pb4MoHlgcgQhSIjBwZAOBY4n6UVZZgdcWbiBZvRnd3F65duwZl4/0IUn2E3aJQBKoDoK4qQ6A6APvrfodNEsMGkcPaJxFV+UfEpb+PsbExSBoexlHtE5A0PIyWtumQNT6IjPr7cKL+MVxpn47z8n+ju7sLKU33IarmBaP74+y35/nZg6U+tAdvCsDvct7Gv9XvuZS+y3mbRgAJws+4JQVgohundOzB1iJ+f4b7gz8Ru0VhHmm/Teda1A5PTQGrCjNtOgC2Ne3Kcf36daP+ra0zD8/mKKYbPDi45yOczt8hWgfAMN3L7f7l1ioekO4GYOywO6/IMKWryJLy35+TysNoaWvB9evXjfwccteFI2K1dVW4dPkSdonCjELRcXbIM8R820dkO7C/9I+oqq3gp56569WaSkSIA6HX67Excz5i0z5AX18fIsVB2JQXgOi8OdiZtAjnU09hv2QVoiWrIav9NfZpfocM1Xkcz38Jx7WP4WT9ozigmY1T2seR3HQflI0PoEM3A5WtM1DcMhPihl8hs+nXyG58xO4RQE9gLXLNxYsXbxUByJjlNYA9zHgNIEEQDnJLCkBvYI8IcIarV69CniHySN2ehptGFNqvbajjP9vjG1CItqEOly9ftroo3xkBWFVb4VC4uMuXL9u8HiPeCsC192Gj9Duzc8IRv/KKIov/1HBtrpd+a3RPxxIPmOXlBJzprmLu/rgy3HXTOMlmNkuWAjA8o7XyvyExUwJFpgRVtRXo6uo0Kr8m8a+8fY3NDejq7kRxeSG0DXUoLDG4stkr3oiotPnYlPwZuro6odfrsUn+VyQoFiO3KAursz9ErOxbxCQvwC5RGLLy0xGmWIz9mqehaHgQJ2QrsabiDVTVViJB8zQ2Vb6GpKb7cEg7G7KGhxFW9SpKWmYit/keJNQ9CXHDw8hsehgpTfdhrfxHN032/lNk2n/uxpsjgN+q5mJZ+fsupW9Vc23Z+xNm2N37KjMIwP8eP/6P8ev/Yoy1MIPrl/9ijG1ijOnYj7uACYJwAhKAJrhzDZ2717jZwlX3FHq93qEQdabvjL07HIWCz9MIBaClzSz+hKl9LS3GQox7PqHiZRajawjXBR6WxZpd5wgVLwPw49QjJ55t9c/o6KjF92unaD1/nWv/+vXrOCjbi2aB/QMDAxClnkKbro3/fjU1N2JVyqdG91dXr0GoeBkamuqxouyd8fs6DVn+73EsMR6Bxe8jVLwMe8WRaGiqh6owE4ODg6isUWO7eCVWJX+O7II0BOXNR7TqbQwODmKbaBVym+/BqpRPcST7dSQ2PoC0pntxsv4xnKp8Chk5EiQ33oftNX9EukqGxMYHINI+AXVVCRK0TyCh7gm7Is84u27a1o5iW9e8KQCXqALwz/J5LqUlqgBb9i5ihmne0fHEfX5ekGc1Y6yLMTbIzP0AEgThBCQA/YiuLsd86DnDccVBq9dOKA55tG1b9aflJlm9JuRM0jGjY1uOq4UCMEuwK9WUA9LdZiN0zsZTtmSfq7Gfhf4BhTuDhesnbY0wcu1z71e6SXhAU/+D+yQ7kSDfx0f+iJNsN7oeK9mGE3LDTmRtfa3RNe79ipfuQbx0j9nu9DjJDhxN3I/h4WF+8wk35cyFnuPsS1EpEKgOQGDx+zgqi0K8dA9iJdv4z1GS7xFW9SqOyiIQqA7Ajpo/4JD0B0QoFmOvOBxRtS8gPP0jxNfNxmbFXxBe9SqOypYhquYFRJTNwebqlxAv+wcym+5HvHQP9ubPwZG6p5DadC9WqN/GYdk/cCLxW2wuf81iv1rbeJNt411zF1NMABIE4QNIADqAq249/BXTkcr90iireR3tA0s+8LyFpSngDZLvXPbh54/YE7N5omcn3I0sfCc41y6c42uu/yyJ5As9FzAwMICxsTGjvpOmGtbycYKQq3+baC06uzr48HfrZd9irzgSY2NjiJMt5dsIVAego7Mde9I/QJjqXQTlzcfw8DCiiuZgbGwMm6tfQlZ+KqpqK3Em+RhOF/8ecbKlOJd8DB2d7VipfhtHs15HgvYJhBW/iTUVb2Br9Ys4nvQx8ptnIrnxPlS2zMSJ+sdwQrYa1a23o0R7N85UPYEVWR879M44iulOaXvwpgD8OvtdfFc236X0dfa7JAAJws8gATjF2D6+qB4AisoK3FavPbFud4jWobSi2G1tuopQAJq6UuHgNiQ0NNVP6Ntwh6BvrSG8/1PKI/zUqbB9a5s1AIOvRF27oa+Fz48rb+pLcZ9kp8V68ksM8WurNVU2pxL3SXby08Lcujzh5o+eiz38dVMuXrqIak0VQsXL+FBt3Pun1+vN3r+m5ga+f8Iky5GeI0dOURZu3ryJE8pDyCnKQohyMXTtOoRJlqOorABh4uUYHBzE+aT9UFcWo6q2ErtF4Xz/7JdGYZ1sCW9/VHYACorSkVOUharaShSW5SM1R4kzyjhI088hTvMMAtUBOK95BFk5UgSqA7BR8j0iJcsQlfIJUpp+CUnDw4hVfoqs5lnIbJpltN7SE9jrWJpDkSX1qgD8Kus9fFv6oUvpq6z3SAAShJ9BAtDPEe6u9Ccm2ojCrQ/jkKSd9aQ5fP3C6Up7N4HI0s871JY1p9umoeAsYTqdysFFRcnMTbRZnhOH9lJeZQhBl1WQgTSTqd+K6nIAtu8/OVtu8b5Mny9gWD8rjDTC1W9KXb0G28sM06q6dh2GhoagSD+Jg9KVSM1JwhbRKgQVvo+jiQdwRB6HGzduIKsgwyhyzNWrV5GqSsRecSRCq17DZtEKbBL/E+FVr6KuXoP9sn9AkrQHucUqJKYdQYx0GdJykxGjeRaZ+Wk4IP0B65P+gtjaZw0jgfWP4VTiFsRL92B37XPYL/0n5Em7sE/zDHaY3GtZZanZPdlaYuAJSAASBOEqJAAJt2NthMuexfSmhIn/bfR+mu4UDhP/22K5oNwPjQSgp1zVuJOqGsuCyV2sVn4JANgjjjA6H1geMGH7u0VhWK38EiHKxQAM/RsmWW6Wj7tuqXxljZpvS0hQ7jycVcYiRLEYgep3sGvc996u2heQnC3ny4QoFiMm/X1srX4JQbkfIlmViOTxkVFulzI3QhhUHoBQ8XIkjZc/lhiP8MrXEFgegMOyNdDr9YiTf2041j6FQ9qnEKJcjDP1v0Gg2rABJU7+tZmtQrhIKr7AmwLwy8wPsKRkgUvpy8wPSAAShJ9BAtBNZBWk+9oEq+w8bxjBSMlRAgA02lpb2c0Qjt61t3sn0oip70TTUbedoo0T1mE6AujMDm97y0wUis/a1LjaZJTM1gjf5SvGLkWsjbCVVZTY7B/T6DPbRGvN8nB+DnOKsgFY73+h/ZevXDbamJJTlAWdrhWStLPYKgoxjBDqr/BtHkuMR05RNgJL3oO2vgah4mU4oTiEeOkeSNPPIacoC1GiTRClnoQk7SxCMj6Brl2HXYlfATD0FWcf13584pfYl/kOgvLmo729DYHqAGwTrUVk0mdYXfEmUlQKPmrP6oo3cLb+ERysm43dtc/jsPZJRNc+h8PSSEhTj6CgKB1H5HFu+/1obbreGjnjsZEt4U0B+EXmPHxd8rFL6YvMeSQACcLPcFkA1tRVO12WMFBQmudwGWvrsnyJtTV0GyXfWzxvusHC1Acdh+karBPKiXcrj4yMmAlAzj4ueoY1TigPYWBgwOp0rS1M1+jFSXZYzRsn2Y6C0rwJ14BtEhti45ZVlvJizZ7nz9lvrf44yXbevu2JlkfudorW8/2vripBbrHK6PrFSxfNyhyURfNrAGvqqo3KDA4O4oTyEEZGRlBUVoCLly6ir68PUaKNWJn2KZ9Xr9fzv1sCS97FCeUhfgQ5XPyD2fNp79ChrLIUg4ODSJCtRkFpHtZWvoGC0jysq3wdCbK9kKWfxzrFYuwWhWNgYACh4uXYqliM9KZ7sVm8DAkpHyKj8QEclq5AqOR7HKp7CrnFKofX6AGe/36SACQIwlWm5AigaZB6d9Hd3eVSeVsxXx1FGHJrMmGrDzdKvrcqFgFD/9m6boqpALQ2umapL7mdmUKBw7V9QLrLrf0fkvyF02W5jSn7JYad25b6p7+/n7/OHQPG97ZLFGpW7oDsB77PBgYGzPpvaGgIQ0NDRuWDMxby3z9OrMZmBvDTzrp2HY4m7oeuXYfN4hUIG59G1ev1iE1cjOPJn+C4fCtWJX0BSdpZBOd8BF27DgMDA+ju7kJgyXvo7+/H2NiYwfVLwesILpiHcymGXdC7Cl7H5sI3sCr5CxxVfA6l+gmcUr2CcyknsFH2D4SUzsWOmj9gpfpt7Kp9ASEVb6K2rhpnGx5BZY0aVbWVOCvfhLWVr0PX3ob1lXPsfxgewtK75k0B+FnGPHxV/IlL6bMMEoAE4W/8nDEGvfYe/o8lJUqUKFHy76TX3uM1Abgo/UMsLvqzS2lR+ockAAnCzyABSIkSJUqTLJEAJAjCVUgAUqJEidIkS94UgAvTP8IXRYtcSgvTPyIBSBB+BglASpQoUZpkyZsCcEHaAnxa+KlLaUHaAhKABOFnkACkRIkSpUmWSAASBOEqJAApUaJEaZIlbwrAD1M/wZ8LPncpfZj6CQlAgvAzSABSokSJ0iRL3hSA81IX4pP8L1xK81IXkgAkCD9jSvoBtIQ1J8VTkX2SHejt7XWojKNOj1emfuZQfsA8koU1XH1W+8adG3N/LCfCEZ9+62XfOm2XLazdc6Qo2Ozc6aQEI5t7Lvbwn0dGRizWY/p8uecnTT/H+wU0vv4p/3lsbAwDAwN83QMDAxgbG0Nvby+2ilYDAB+zOqcom+//YNUCpOelYGXaIv7+1smW8PUGqxZgq2g1GpsbcCb5GIAfQ8n1XOzhQ7E1Njdgh2gNAtXv4Fj2HBySrkPPxR5EioLR03MBF3ouYJcoFHtqn0OIcjF6ei4gSLUAgeoAhEq+R1NzIw5Kd+OE9lEc1j6FnaJ12Ff8MiJFwUjQPoH+/n5EVL8CVWEmjifPx15xBEqb74RY/RQOKz416h9rUXQ4f4jAj++fu9kg/Qf/2Zt+AEkAEsTU5JYRgN6iq6tzwjzORP7wFeK00/znzq4OAEBqTpLFvOdTTlk8b+sPYkNTvdGxPf1nCS7MnRB7BKBG63gkG+H9c7FoJ6KwLN/qNe77d6HngsO2cHD3by0OM4ewf5P4OLrxVu1raKrHPskOi/1rSQx1dXVin2QnjisMgrC2rgYAsF8ahViTGMRN45FfhoeHsbbydUSLNwMAViu+4gVVqkqG4eFh7BKFIli1AOdTT2GT5F/8dU7YFhSl46j2cUTlvcFfj5N/g8OyKMTXzUZOURZfHjAItoPSTTgsj8X169exTxKOeNm/sCL7YxyWbcdx+RYcrHsK6SrrUWOsve/ewJsC8IPUP2NB/l9cSh+k/pkEIEH4GSQAvcjw8LCvTXAaV6OgcNQ3agEAaxK/NrsWLv7BZlnTMGsTYe8IoCX0ej0AYHvGPLtGJIXxkjksjazxto2OArAcnUScetrsnDWiRKHQNpjHIea+01GCCB8hisUIE/2bP7YVd5h7PrbuIacoG1tFq/l7aW5pwrVr1xAjjoRer0d/fz9UhZn8dQC4du0aACA6412cVu7nR7W6u7uQlpuEjZLvcTRxP8oqitDf349D0hAAhtHj4eFhrEr+AoflMdA21EGjrcUG6T+Mnk9Doxa7ReGISVmAiKqXAQCBpe9iv+x7aLS1iM6ei23iFYjOegdHtE/ikDQE2gYN9oo3I6j4faRky3AycTeiM97FqsL3ECn+l0dmD7QNdWbnHHm/vSkA30tZhA/zFruU3ktZRAKQIPwMEoC3AFwMVU8xODgIWfp5o3MbTKZKbYkNa+wxGTFyhJs3b9otANfJ/m6xvCW4EUtbwsgadfXmQs1TcM98R8on/P0JpykBoKm50azcasVXRtdzi1VW35/8khyUV5Xh5s2bOCKPM2ujqbkRer0elTVqHJHHIVK0wqyO5Gw5qmvKAQBB6rkILHofABCoDuDz9PX14bwyBiHF72BDyiIcKv4DNsi+RX5JDpKz5cgrVuGYfC/q6jVYl7IIPT0XEK35PU4ponE8cS8GBwcRkfcOpOlnsbn6JaRknkR/fz9ik/6MnTV/wM2bNxEtjsAx1asIVAdgtygce0pfQnlVGQBgd+nLE/S29yEBSBCEq5AA9GPOJB31tQmoqq0EACizZJBniCzm4abuLMGt7QKMY8+6iqmYsYQjI4DKLBnaO3To7OpweIredGQ3t1gFwPD8uP5zF6ZCeyLSc5ONjrlpfHs5k3yMf76mz4+7v9NJCcgbv+fOrg5U1VYAAFJViUjPTcaxxHiEJH3Jly8ozcNucSiqNVV8XccVByHPEKGzqwOHpCEIK3sdabmGqfYj8hjESdbhuOIgOrs6sD1xMU4oDgIANkn+ieOKAwCA8KpXsFcciepag2DdmroA6bnJOCyPRX5pLraIAxFR/QqkDQ9jf9Vz2CfZjIOaZxBd+3vEKBdhn+wfiBJtQpTiLzghW4md2e8gMfWgQ/3lTmx9/70pAAOSP8O83K9cSgHJn5EAJAg/gwTgJMbSBgFPYO39sEeEAcCKrIVWr20Wm48KcVi6v7Xyb+xqE3BuCrimzv41gem5yVbXQ1rDkv3C0URh+/Y+376+PkSLt1it3xaW7L9+/To/YjsyMsLbt05Qt16vNxKXu0XhAAybOE4oD1lsq6q2krdPr9djZGQEm8UrsCJrIa5fv87nixFvRXD5OwCA5KzzWJG1EFtK5mCt/G/o7+/H9evXodfroaz5P2uxiwAAIABJREFUNXbW/AHnKx9Hf38/knJeRKm6CIChT/v7+xEhXoaggnkIyp+Hyho1isoKcDJxB1YUvA95xjkkqJ9FX18frl+/jtWFASgqK0B/fz907W04UPe01U01vsabAnBu0ud4P+evLqW5SZ+TACQIP8OtAtDRnaf+yrmUE/znkvE/KFOFvr4+h+8vTfCHPqco22Ie0/VLW0QrzfKcTT5hds6TcAKQ+yNu+n5au3dh/7jKIVm0XfnSTEbqHK3fnvVjza3NRsfqymIckkVbnJoFgGOKeKNNI729vcgpyuanjrn+ixStQLWmyqh/9Xo9QsXLsU41D5HiIMRKtqG3txd9fX3YKZhyL1EXIS03GQdlewEAh6VrEKgOwI0bNxAmXo5deW9gv2wpTin2IUG+D4ela7A1dQE2VM7BYWkY1iR+jeRsOaKk3yFQHYAaTQXOyDcgXPI9NuW8h6j8N3Gg7mmk5SYjRLEYMZpnsbPmBYRLvschaQi2JX2KBMVfcKr+t0jOlmNP7XNIVcmQ3HgftictQopq4k0+V69enTCPs8+Xw/S7QwKQIAhXoRFAB/BXgWs6zecvcBtHOPu4aUJ7Ka0otnotPS9lwvKubAIxamuC/o0UOz4SOzg4OGEe0403LQIBZ+3+d4vCrNYnLG/aPjfyyJUfHBxEaUUxDloRsImZEgDAyUTDDu8UlQK9vb3YLQpDrbaGL8+JxMzcRACGEcLmlkZI0w2bZnZIv+PrPKOIQUtbC7JyZdgsWoHu7i6cUu5HX18fTiv2YatoDfr6+pCSo0R61lmoKwpRoi7C/vIXECNZgZbWZqyqeAvrUj6FIuljbJEsRYx4K0LFy5GZI8O6ytexKn0h9km2IKhgHvanzUOqKhHJGadwUvsoohSfY5N8CbZIlkKZcYp3Q2OLssoSQd+HT5jfXXhTAL6V9AXezfnapfRW0hckAAnCz3BIAAp9eBGTE84th7twdWTDFG66kfNzt9nK6BSHpdEXbk2euwSgJYT/DARnWJ/i5rA0XZ5hQ8QKv5P2/uPBrakTrkm8evWqUV3cjlyuf2/cuGFWf4J8n9U2hDt6ufoB4KwyFtWaKvT39/P1jYyMGD2//NJclKoLcFJ5GIDx/R9PPIDe3l6EKBdDlHwAgeoAhIsCEZQ7D8EZC7FbFI41ysXYUDQXp+XL0NfXh1j53/i2DtQ9jYGBAayueBMn1b/DirwPECpejghxEHTtOsRWPo+91S9gf/kL2FXzPA5onkGkKBiKxvuxIu8DHNY+ibXJn6OwLB9lLTOwsuItyNLPIc2KGxhrz2R0dJTf6exJvCkA31D+Be+o/uZSekP5FxKABOFn0AigA6iyTvraBACe39XrThx13eJOOAHoivsd4UYFezgsj3WqnSQr/gQt9Z/w+Ztev3jpotFIq+nUoSV3NRxCh9KHpGtxNvk4f7xr3J1MZ1cHTikMApEbNYwZX394WPbjvXOOoQEgMG++mf16vR6nlYadw9z6vyPyOH7TzKmkBByU7UWYeDmkiSGGtjvbESOOQF6xCnq9HlGiECP7qmvKEZGyEAel23BOGYvQzI+wquItXL9+HcdkK7Gr9nlEizdjtygcB6XBOCRbhuNZr+NI1dM4Xf9bxIojEFP7LEQNjyCv+U7szA5ASNJfjNYnCnFkvaiwP9wBCUCCIFyFBOAkpKOz3aXyknTrIsAUW6NPE7lpOSxba3c7ttq2d+TZ1LeavSOAQj9vwo0XpvduyXcbh1A82cth2Vq7BPLo6KhdAsKSP8CJrvf29vL9q22om3BjD9c/nJucXIHYrKgux9DQEHou9iCvWIXe3l7kFquwTraE7x9tgwYJ8n2oqq3k+7eoLB+B6gCkqWQIUS6GMuMUXz5DJUFM8sc4LI/F0NAQqmsrkSDbiIKSbPT29vL9Fy3eDG1DHQLVAbh4sQcFpXnYI47ABtkSrFZ+iRP1jyI2+20kZZ7FHnGEIUqI/BukpB1EQWkuTtQ/iiD1O9hS/RIOS9chtPI1pBQ+g+2i1W79/WjvxqmJ8KYAnKNYjLezv3EpzVEsJgFIEH7GpBGAtkYufIUzvuBMsbVmy5PYst1aNI4IcSD/2XQq0BJtuja77bl0+ZLFz6Y0jkePACbuf1engDknyqYjWK5ibZRQ2L8c9vTh2sS/GW026erqNPM5aGszirXvf5uuDTlFWdBoa/ny4eIfIE47Y5TPtH/EaWdQV69BlCgUfX19GB0dhSTtLEIUi9HQqMXly5cwOjqKQHUAcoqysCbxrwCAmIo/oKq2El1dndibGYCaumoEqgOwKukL7Mp7AyFpi5CUJUG0eDOKyvLRpmvDivSF2FP2IiRpZzE8PIym5gaEZC+AXq/HKeV+1NRVY1Pla9glCkWM5lmEi39AvHQpACCj6QFsK5mD4vICBKoDEKN5FplNv8SJ+seQ23wPTtY/ir6+Po+GkXT2+9/e3u41Afha4pd4M2uJS+m1xC9JABKEnzFpBCDhHUxDiQkFlyfZJYhYsU+yk/9sOs02Uag4ziExYFsAmo7EqKvLjI5N13FZus6tp7Q2RZisSrQ5TZisSrR6zRb2bDaIk+zA+ZSTfOgzwNgH4AnlIZxPsb6kYWhoyGi9aIpKAXHqaX66V3geAE4p9qOzqwM9F3tQXlWGo7IIo+s5Rdk4Ko9FtDgM+aW5GBoawsnEvaipq8bxcZ9+W1I+wRZRCCLkX2OvOAInEw1TwHvFEUhRKXBUthoJJc8jTrIRQ0NDiJVsQ7x0DwLVATiQ8hFCFIuxU7wCKTlKRJbNQUjyFwhLXYj4utmIT/4EB+tmG+5dEYcj8jjsyHoXZxS7EVXzAo7XP4ZD2tnIbroPqY0PIKvpIWQ03YfzqaeMnFLbwlIEF2H/C7HmKsdevDkCSAKQIKYmt4wAdNfUiys4smbIFU4lJQAAMvJS7cpva8TN12wRrbIr35mko1hvEn1kohFAe/vHFOG7ZM2+S5cv2W27kCtXrvDl7WGLaJVdeYeGhsyim2TkpfLffeE9nUpK4KdnLd0D935dvHQR6bnJuHjpIj9FvU72dwwNDfGbTMLEy7EyfREAYL3sW6wvCECw6iOsTPsU8rST2CJahf7+fhyWrUVQ3nxcuXIFUaJ1uHT5EtZXzkGYeDkCy97F4OAgikpzEKz6CJKGX6GpuREbCt9BsOojQ18XvInzaXNxQvUadojWo7G5AbK0UwiTfI9g9VwEqeciWPURbt68ibCqVxGneQbhVa8iRr4EqyreQmPb7Tid/RpOqV7FKfkWXGyfCWXj/UjPTTZsOJFssxodxl70ej3fPxMx0cYfbwrAV+Rf4fXMv7uUXpF/RQKQIPyMW0YAtupafW2Cx/HEhovuC902r6ury83OeTPkmTWSs+W8AMwqyODPm/rC4+BGqnaKNgIAsgVlOCx9T8LEy23aMVH/cZweF1WWMHVG3NLWMmF9EaJA/tlkFWQ49Exa2lqwSfK9mX2m5wDD8w8XGaauC8vy+fPZBRkoUReh+0K3Uf/vFG3E8cR9GBgYgLq6HOrqcqRkiRAqXo7mliasK3oH29LnI1T6LXaKNiIi7x309fUhOz8JlTVq1GgqEKWai+DCD3Ch5wK/W/h0UgKOp76H5tZmHM59FZuk3yKp8X6sUL+NnHwlWnWtUOUroWqehWOyZRA1/Ap7ROuR2fgwMptn4ZB2NrZVv4iiljtwVr4UOc33QNn4ILalLDSy3xLWNvDYwtL75QjeFIAvy7/CnzK/dSm9TAKQIPyOW0YAepsbN26YnWtpa3FoXZwnsNa+takqZ9Hr9XbnNf0Daup3j+tLe+vkdsnaGgFMnuCPtiU/fY7ckyU44TbRLm5r17Py06Fr//EfGXmm2GL9ALD1/Gqr7QPG9yd8V4XvR6gNccv1X2FZPgLz5qOxqR4Jso182LgIURAKy/IhzxRjaGgI8dI9fNl46R5sPb8anV0d6OhsxwHpcijTE7BV/APCUv6MCFEQAkvewxF5LA5K1kGWegzyTDGipUtRranEpuTPEJQ3H7HJH0OZeR5DQ0NYrfwSB+R/x07VXKxM/QwJiX9BZ1cHEtIDkKESYWPVn7BP8wyOaR9HdO3vUdx8H47J1iFa83uEVr0GeeODOKD5HbKqHkZ5y0zIGn6N2NpnAQDS1GPmHQCgvKqM35BVYeEfIVOy8tMnzGNv+fOK0yQACWKSMZ8xlsUY62OMjTLGfmJyfYwxNsQY62eMDYz/fNgkzxrGWMf49QwL13/DGMtkjA0yxtoZYyE27CEBaIMIkfmi/Fup/YmwJHIBww7R4OyPnapzjeKvrpjEtw/YFoBC+4JVC7wW8stRtzL2ckJhfU0Z9/3mpmW558ONenJwwnNkZMRoDWTPxR6L9Qvfz12iUFTVlOPatWsYGRnBvsrnABjekb6+PuwSheLatWtYUzqXX2fKCf//n733jm7qyvu9z/Pc933vvc+667n/DoQOgRQSEkJCCuk9IQmkMUkmk5lkyCRhJpMGE9mADTZgusE0G1ewscEYrC73Jjdc5S7JlnuhugCm2PB5/5DPiSxLruCQGX3WOmtZ2ufss8/eW9ZXe//K6TOn6e3tpayyhGvXriHLex/37GXEZ2jwM7xIatn9yAxL8S99Ds+Cd+jt7SXc9Ch7y55ns3IlbhkfI8t7n/JKA+tK3uTq1au0tbWSnH4SmWEJh0yP4WZ4h+PmeRhK8zimccOjZDFZNdOJ1H1OhGkBaZYZ5NZO4YT5QYpr5tDdPJ3qhgkEab5Blvf+sMbA3hZU/Hy46z8e1vXOsB0LcQzHcwXwBfVXvJL6jzEdL6i/cglAF//2vCxYReCfBecC8PlBrl8pCEK9IAj3CYLwPwVB2ChYRd5/9ZX/H0EQWgRB8BYE4f8TBGGuIAiNgiD8w0l9t1UAiknhXTjmVm5L5xXl3rK6hkJ/Km1EWQ9G6umoP5XW78t0sDh+g62qDCYAxfbbr7adv3Ae/am0EbR2cKLjwoHBt3jtcXZ/0dYvv/jUgDJb+1LxenuBZ0tsUjTpOSnSqqDt/JGyfMQd7rfFfTw+gkhtCBVVpSgSwqhvrMdfsaPf/w9xRczt1AfUN9bjJ/fud9/mliaOaIPxla/FI/5LAKLU/6TSWMa58+eQJxwiWLkBd8M7HI+PYLf2G4KrHud4fARbc95me+ZSNqj+QWxSNN6lr+Or+oGgsqdRVs8lKUNBjGYT/rov2Jn3BlvTPyDS9AiR6pX4Kv5JbPUDeJe+wTHTw+TVTSHMuJDqhgn4VTyHpeF3fUJwLs2Nk+hsnoKp4S78tcudOvn8moynAHxO9TUvpXw3puM51dcuAejCRR/PCs4F4AuDXGcRBOFvNq//hyAIpwVB+KTv9WeCILTZ1futIAhmJ/W5VgDvYPztPC5vB2JsO0d2ZaJDwmgYq8H8rahLFIC9vb20trY4Tb82nLRsIjtiR+7YYYujH0X2z+fM03mnTeBj2xRk9kRqQygqLZDGz9nz2Y7vdt0XgNXrW7x/bmG20/ptQ/BsVH0nOYFsUfxMa9sv14tbxaKo3BG7ltbWFnp7e4lNtIpi/4RPpNXE/OJcDig24qX9mhPmefjFf0ZhcQ4HMt+yhmrRv80aw9u4Fy5lbeKfKSjOZZ32K4KU3hwofpH84lwiTAuQGZbipVmBruYeNDX3oqy+n5SMk3in/IG4mnsx1E0lu3Y6dQ3TyT6VSJLlXoKrniCvbjLNjVPpbp5OQd0M5Anh0vwR++fXwP7z6RKALlz8dhlMALYIgnBWEIR8QRD+YlP2333lC+2uiRMEYVvf3zsEQdDalT/Rd6//46Ad/3YC0JENnKfuy1+hJePLcAIVO+qbsRqrD1W/I4Zjj9jZ2TnkSt1gK4CjnfO2waBthdVoAkGP5f727W9vbx/g6GEv/Bw5rIjjK0+KHhD6xjZsDFide6otZsJV3lIcSPH6aotZqv+YdjdrE//EpUuX2KxYhWfccuRJ0TQ0NrC2YAlnz55hne4rfBSrkCcdx1P3JW7Zy6y5eguWsCPtQ9rb29lf+TT7tMvxr1pEpOYg4eVPWFf9Kl4gKGMxPvmLrc4+N25QbTGTpNcQmPU68uxniTPdh7L6fuTxwaxJ+ozEmtmk1c5kU/InHC56mpKyfLZrvqay/i4q6icQqtpOsuVewoyPWX80tMwk2TKbY3GHqLaYhzU245ECTmQ8BeAzym94Ifn7MR3PKL9xCUAXLvpwJgCfF6xbu/+PIAivC4JwQRCEv/aVTRKsAnCO3TVRgiAE9P0dKAhCpF35PX33muigHbdVAA6VmeDfjcHstMabsaRHc4b4fINtR7e1td7y+zrDkQAUY86NFVunBvsv/ryi3EHz6do7uTjDVngkZ8X3K7Otf7BA1br0X3LZeuiWD6v/xfbr+lbtxNiK4vjatt82q4yHbjlRujCCVXu4cuUKW+QydOkqrl69SqDSm0DlbtraWjmo9JVi64WqfAlU+pKRrUWVGE5bWysZualsL3oNmWEpB1T/4OrVq4Sr97AnezEHKhfhq/maUNV+jmm345X0KeFqb45rfdmdvZgT2h1sUH3HsfLH2FH+IpGZr9DZ2cmWspc5ZHwMQ90kghN/j65mDpHGBdQ33EV9wwTSLDMw1N9FYd1kmhoncbZpCumWmejSVUSotw3ZZ7cSR58fe0/k8RSAixQreC7phzEdixQrXALQhYs+nAlAe9YKgqDv+/u2rQCuWLGC77//nu+//x6dzrndkIvbh33O1judoeKUjQdXrlzBV77eYUaQltbmUWUC2aD8zuH7QUo/h04vaTnJgLU/bAMnD8XahC8kT92urq5+4z/cvh1MxK9N+MJpebBqT7/VvbWJfwag0ljB6TOnB9x/beLngNVZw2iuIiYhko6ODkJU1hW/mzdv9rvG9u+EDA0xhsektIGnz5zuF6w7LSeZrq4umlua2J/8Iev0H7A5fzFGUwVblD+hSIzAaK5kt8KT0goDkflPE6KSYTJX0tzShCrpMKvTPyFSe5AI0wLCKx/nhMaHvNqpHC9+gvUlb6KpuRf/ykWcMD/I1rJXaG6cTIJlNtUNcyivn0SqxTpPWhsncql5KnrLPXQ2TaajaZI1DqFhyYD+s22//TOPFNGxYyh0Op30f3rFinERVC4B6MLFbWAkAjDT5rUjG8AzgiB83Pf6j8JAG8B/CC4bwF+Fs+fO3rK6mpobb1ldzhhLyqvRxEJzxC6514ivcWYjaC8AB7ObEyksyQcgpyBzQNlw7L/E6+0ZLPNDb2+vVG57vbgSdOnSJal/ndVvj5vNquBwbBzt2ycrfA+whnkJKXmWpuZGPHTLAevKZE5BJimZGhIyNFJf7ZZ7SePnrfqWHblvSbEBNyv+iSb1BGtL3iJAsRNv1bfs1/yNY3GH8VGsJDY+mPW6v6JKOUlo1eOkZapIz1ThnfU+G5U/sD99Cdvk7kSZ5rNd/y4bNCvIyUtlq+5LMnLiiVJvQJ7zHBtLXyMy93k2alYQlv8cseYHSbfMINz4KJX1d5FtuZuiuunsLX8eVc19ZNfO4ErLDHpaZnKlZfovdqMtM7nROovD6l3sLX5pWH0+noznCuBT8r/xbOKPYzqekv/NJQBd/Nvzn4J1i/cVwSoA/6vv9X8IgvCwIAjzBUH4fwWrsHtFEITzgiCssLn+J0EQ6gRr6Jf/LQjCJsHq5WvrBdwsCIKXIAj/SxCEBwRBaBB+JS/g4cTG+ndAnRI75DnDyXWcPMytQwBNqnzY59oSqNzV77Vo3F9UMrh4clZeXNY/hVqgcte4BIrWpMqlL/Pr168PGsy3u7sbU3UVyVkJo3J8cZQCTIwZ2Ng0ULgXlRYCcEQb4rROTaqcCE0QWfl6uru7B8yPy5cvj7idzrh+/br0/INx4cIFApW7pLaI7b9+/bo112/c8n7zJzc/HffUT/vVcUS9heOpiwHwjLPa3u4qeQk/hYw1hrfZlPEhvpoV+JY/jzr5GFn5emSGpRzUfY5nyZscUu8lSu3BLvk61pe8SbgmEJ+yVzlqmk+I7i+c0G7Hr/x53AzvsEu7nMSae4itfoDgqieQVz+AX8VzhKl/pKx+IimWWZxtmsKJ6nm0NU7gWssM0iz3SvPmSvM0ArJeJ0zl3u8ZlMkn2CFfKz2//edbXBW0xd4cZrSfT5HxFIBPyP/O04k/jel4Qv53lwB08W/PZ4J1G/dG3yH+/YwgCIsFQagQrLH/LgiCUCQIwnIHdXgKgtAqWOP8pQoD4wDOFayxBi8LVoeSNYO0x7UC+BvDI275LatrqCwWt6P+ssrS23pPW0ayBRw5iBgbyfUVVQO9fMXPl33ImUS9joQMTb/Pn33/bFb8E4ATcQed3tst60OH74thYNyyPpRC8Tjqf0fXy4qXkpDRP1dxaYWBssoSojVrbNpnHWPbXM5inD8fxap+AbdLKwx4GhZL5amZasDaP8c0q/GIW45H3HJkxUtZ3bftGp+hoaOjgyPaEGTFS6moLGZvxbPoLdOJr5nDxtLXcCteSm7tNNyKrXaFJ6sf5LDpUbaXv0RB3SRON04kqOpJsmqnkWKZhbF+EkdMCzA2TKW3ZSaWht/R1TSFlsaJ0sqfeCTWzB6zuYOz8RkLLgHowoWLseISgLeRkayADmcFcDQ4StUm4qx9w8lYIKZMux0UlRSgSjk5omvs++/atWv9BGB6bsqY2jTc6x2t+ImIW6jOnu38hfMOy23Dv4B1fGz73y/WGmtvj5MxEfsmMTOu3/uxSdFk5mVIr229tH3l6wGr04wy+YTk9BKo3N2vfbHxgfjFemM0VxGk9MMjbjnpOSlcvnyZkvJionRhhKlWE5cajUfqHwBrsO/Lly/T2NRIuPFRZNnLOKYLJjYpmsamRtbpvuKw8VGOa/fT0NjA5uI32FH+IluUP5KeqWKf9kvk8UH4KFZxOPtlZIYl7Cp/nv2VT+NfuYhkyyzSa2dwsvpBTia9T1X9RJTmR1BU349P6asEVT2B3jKP1sYZtDdN5mLzNC41T6Gu4V6ut8zoJwDDjQtQJR122K/D5URClNOy0ToljacAXBj7LU8lrBzTsTD2W5cAdOHiDmPMAjBQuXtE548k5pqL/ow2Btlw+rypuXFYNoCiMHAWI+5WM9T8sg2AbM9QK4CByl2D2mnab4fD0H1pX25fv5ivObcwW0q1Jvals/HdpPjRYf1iYGhn93fWN+IK3Pnz56T2NTU3UlNb7fD6TYof+7UtSmv1QM4ryiUm/pDU9l1yL9YkfwZYt8AT9Tpy89ORZS8jLl1NbEI4xaWFNDU34qNYibfqW1L0KrLy9WzK+ICgTOvWsJ98I16aFWxK/COrDW+Tlp3EttRlxJge4kj6YnZnvoP3qSUcKXwaVfX9BMT/gYzameyteJaM2lmEGB9ne9lLHDXOZ9+p1zhmfpiSutkY6qeQXzeZk6aHaW68i9NNU7jeMoPLzVO5amP/Z3tEmx9CZlgyLja4QyGaDsD4CsDHTv6DJ+NXjel47OQ/XALQhYs7DNcKoA0j8eIcDc5Sp40UR16vt5tg5Z6hTxoDo3FAGcrJZjAB6MzzUgyTIpZ3d3ffki9/0SbQURgWj4Qv+r0+kRBFlanSaV2Oxl+s32iuIkS1V3r/7Lmz/drf1tbaL6exd8Fb/fri+vXrtLe3D/ifYD8+7qmfSlvMTc2N7JX70NbWitFcxQHFdm7evCnZXZ4ofZSTcQfxSPiCtrZW9sm3EK1/BbD279rEz4nUhiIzLKWtrZUDis1UGstZbXibTWWv4p76KQcUW9ia9S7rkz5Dod2Al2ExysRwwuP+SEDRC2zPf534mjlEmeazO+818uumEG1+CP/KRXiXvoG25j5qGibS1HAf11tmcKZxAt19ok/c9r3iQATuqXiWcNOjTvNAd3d3Ox0nkVspHjcqfwBcAtCFCxdj5zcvAMfDoeBfBXsbtNEQE39kxNfYxswbtO6EyBHXPRgjsQG09RB25Gk7mAfxMW3/lcKxiOXTZ04DEKY+IL1nH2fQUSo4+EVcOis/FjdwK1OVcpKrV69iKLU+c9vpNvKLTxGmPoC5xiSddzLuIG1trYSo9knviVvLtuMrrti2t7cTovJlbeKfuXr1KsHKPQQqd+MRt5xg5R7c898jMfUofoqfCVLuwjf+j+ySr0dmWIqf+huuXLlCoOZrDqj/TqR6C1vKXiYy7xmOVi1CYX6ApKp7CTE+zsay1whQbCNE9wVJljkkW2YRpvuCaI0ness9JFhmU1Q3lxjzQxTU3ktn0yTONE2mumEC3c1TOdt0l8OVP/GIr7mHUONC8g2O+/R2oklVSH+L80/8/I2nAFxw4jsej/vnmI4FJ75zCUAXLu4wfvMC8F8NRzZkI3X8iE08Bjhebdqk/Knfa3tHjeHmPRUzQTjjVs8pW+ExXIYSgLb9Y7uaOJRgPXvuLJ66Lwds9w7Wd6IjwWDB0X0UK53aEMYmRhOo/Up6bd+/Q62GxiZG46NYCcBRza5+41dfbxng6HDjxg3p+Tzilkvl9u27dOmSVL635AWp/MaNG+yWe+Oe/gllFQbCNYFYamvwiv+cA4ptdHZ2kqTXEVL1uPTDxFJXgz43hZCqx1lreIu9lc8SrPmasopijhc9ibLqQbYUv8bqpM9IyX2cY+aHiYkLo6yimDWGt4ivmUOKZRZhhc9SWDeFwrpJaGrmcqVlBpaGyTQ2TuRc0xQq6mdwvWUmZxonDCr+brTOIr92Jpm106Tn3aT8Sfp8jYRbGRIKxlcAPhLzPQt1P4/peCTme5cAdOHiDsMlAF3cFsYSU1C0UXPESMKfjCYQ9GgRw+XAwBRqtly+fLnfyo5IXX3tiO8ZoNjZ7/6iYFud/onT9okOJb29vZy/cJ6DSt8BcRRr+9oiOqXYCl1dmpJIXSgXL17EZK7k/IXz9Pb2sl6zQqo/Ie0kBYY8vDQrSMjQsFH5A1vkMi5dusQWuYxv/h8kAAAgAElEQVT9io2k5SRxMOEP5BdlkZaTTKQ2lAOVT7NFLiNCvQmZYQmhhc+xu/x5Ojs7ic55Du/S19mYv5gj2S8RZZqPruYefJU/cLRqAQk1s9FWPEiSZTaBOa+SYrmbrNrpqKvvo6dlJqdq76Otz8v3SvM0rrZMH+Dw4egorp804P+j2D/DsYMV+9ARY7GjdQlAFy5cjBWXAAT29IWwuFXBjEeCo225W4FtWI7xwtkqna3t462whxrudtxIBKAmVT5g/I/GHaKhsc7h+WLsP3EFNTMvfch7iP1j69hyK7blReIzNMSlq8k3nGKXfD1llSXUN9YTHR8x4FxF0nF8FKsGbLufv3DeaqMXF059Yz3wi51bqt5x7Lru7m5iEiKJ1IayS76emIRIFEnHCVJ6SuWZeekc1ezEI245FcZyonQhbEz/PeqEQORJx/FPfZft5S/im/QxMeZ5RJnmA+BZspgd8rUcqFxEoGYFXqVv4K/6nu3lLxGk+xz/ykWcjDvIOu3XhBkfQ119HxmW2dbVwJo5FNXNoKVxEmX1Eymtn4mhbtKQos/2SKqZTXT5o6zTfk2Iat+ggm48GU8BOP/4DzyqlY3pmH/8B5cAdOHiDmNMAlCMUTaeeOr+Ou73vNMYavt1LHjq/uo0s8ZIcOTw0tPTQ09Pj/R6NPPn5s2bw26fvQAsqyyhvKqsX11DsUUu6/fatv1DsVnxT+n63t7eftc6cwgaTv03btygvb2dpMz++YHF5xmsfzx1fx0wf8S2iP2zT76F69evk5ChIVGvo7Ozkz3yjZRVluARt5wDCmtuXB/FKlIz1bhnfsTRuEOUVZYgK3iP3t5e3PUfS21SlMxnn3wLMsMSjqUu5saNG8gK3sOt8D0Oar4GrD9YikoL8CxZjMywBHXNfSRlKHArWsoh02Mc0YZQXmlgXdHbBFU9QVDhC2RVzyEuXU28ZTbHzfPYWPoaCTVzSLXMZI3hbeoafkeyZRZRpkdpapxASWkeUaZHRiQAj5kfxj3nQ2SF70r954yhxm6d7qt+r+3HT2Q483s8BeDDx39ggUY2puNhlwB04eKOw7UC2IehvH/GCjHcyZ2KuC0XMch2qW15anbSqO/lTKzYZ/kYDFuHgtFgu8U6XG7lFvBg/adLV42oHlO1kbh0axBkR9uApmpjv23X7u5u5EnRTuv0la8bcD1AuCaQ3MJsuru7Sc1OIkLt4/Q5NMm/xKo7qPSV5r84f2zHb598C4qk4+QUZtHU3Mju0l9Spa1O+ZRgpTfqlFjCNYE0NTdyRPcl6pRYAhQ7KassZUf5i5xMiCRRr2Nr+cvW9G3aULadWkxAynuEq/dy6dIljpvnEajYRLD6R6JM84kqfpId+qXEVs9jteFt9ipXkl83lZPmBwmsepLTTVOR63wJqHoKXVIYaZaZ1DdMJL9uMhebZ3CpeSqdTZO42jKd5j77v6st0+lpmTUgALR4NDdOIr9uCgeVY/+xG6DY6dSb2Bm2oV9scQlAFy5cjBWXALxFiNtl9n/D6NJ2bVH8POY22ePMO/RWIz6/GLJiODjaphRxtFI4HBvDwQSg2L9j6ZMozY4B7/nJNzg8135O2I+vvXOIo/EXA0lvVqwiMy9d8hh2dD0MDPTd1dUlORSJQmSj8gcuX76MqboKP/lG/OQb2CffIl2TX3yKnp4eDqu3SH21T76FQO3X0v19FKvYrFiFn3wjiuQYTNVVyArfw0exipLyYnLyklmT+kd8C14jJHUJXkl/Yk/Ry2xN+CNpOclsL3mF6PgINpW9ijIhiL0VzyAzLGVb3Bf4Vy4iJUPObs03HCx6nmPmhzlQuYhY84MEJf2euJp7iDLPJ79uKnsqnkVVfT8pltlk1E6noPYe2pumUFY/mUvNU7nYPIVrfXZ/3c3ThrUC2Nk8mfamSaTnJBGmWkNeUS7HB5mrjrgdOyXjKQDnHf+R+Rq3MR3zjv/oEoAuXNxhjEgAblD945b/I3MxMrzV3wLWrTVHOUfHE/vwJONJR0fHgPuL244i9gLwVszfKlPlmPPwBg0S3FocX1vWJP/J6fkp2YkA/cSgSFpOslQOVvs+Wxu2jo4OOjo6+m2FV5kq+9Xlrv+YM2fPsFfug/5UGl7qv3E8PoKDGW8D1jngpv9YsiU8f+E8stwPpPt3dHQQWLmIvXIfKbD08fgI3PQfI8t/n51yT7q6ulhjeBsP3XJy8tM4rrN6YSuTjuGu/5gI0wKOanzZmPgnEkz3EVdzD2HGhUTp/owm6QhhxU8TWrWQKstkMiwzCDE+TqjxcQ5ULiLDNIdj5kfoaJpCc+MMupunct3Jap+j41rLdIwNE3DXf0yFsZycwiyp72z7/+LFi8M2D7h8+fKwzA9ssY83OJ4C8MHon3hY7T6m48Hon1wC0IWLO4xfbQUwSOkH3P7gy+NJbKLzbTpASh7vzPbnTuPXcIoZDEcix54zZ89I6c3sBWBLazOtrS3S1rXteBnKizl95rTkgSzOT3taW1uGvL8jbJ1EHN1/KA5rDg7qXWzLUN6luYXZXL16tV+waU/dlwP61zYcTnaeNaiz+HyR6m3S/IjUhpKaqSFCE8Bqw9v4K7ZzWHNQynQCsCvxE06fOU2EJoDD6l1EanaysfQ1tpe/SKThCfzj/syOxE/Zq3DniHon++Ub2aH8iXDjY8Rb5hCq/ZKEmnvwr1zEEdMjhFY9zgH1txxW7yHc+Cgx5nkoqueir53BqdrpRBof5bDxMRoaptHYOJ3Opsn0tMygs9ka7Ply89RhCcCrLdO51DyF0nLrVuwJnf+Az2+kNpRTRTnDGhtnDMeJyBaXAHThwsVYcW0B/wZYp/1a+ltMJWbLSEOuDBZm5VZwWBNwy+scqfelqdoofYmL/VNbZ6GsshSwfoGKMevEcjfDEuAXD99DKg/0p9Kk/hdjKNo+3x47b+vqGhP75Ftwy15GV1cX2XkpuOV+KJWLq5aOHHnEbV/x/s44rDlIQOLH0v1t54c9zrLGrNN+RVdXF/pTaRSXFvazsTx/4Tzt7e0c0v5F6iNl8gmpfVuS+6+0FhpOcf7CedYmfIHRVMG27Hfwzn2XPfJNbEr6FFnhuxxSWT2Cg42PS8/f1NRAkOqfrNP+lSpTBfHpStKyE4hQbyTS9AhVpgrcDe8QWLEIXc19+JS9ij4nDl3NHKLM81HGB5CQoSHBMpt9FU+zIfUjsmpncMI8j4r6SdQ0TMDYMIGqhglUN1hDwHQ1W+dEef3wBKDtj4i1CV9w9epV2k63AfTLoywGxbb/fA43a89Ic4GPpwCce2wl81Srx3TMPbbSJQBduLjDGFQA5hRkjuif0m+BwVJsjSe3wtN2KH4r4zeaUCgb7LZK1SmxA8ptv7xPnzndz2nF9vrh5EoW63c2f5wFcBZxtHppqa0Bfnn+bfLVbFasoqm5UXovNz+d3MJsIrWhlFYY0KacQJVyErBuQ2bl66X7F5cV4an764B7eer+ijolFkNZYd993Glvb6ejo8ManFn9dyK1oVJWHdvrU/Qq6T2TuZJqi1lyDPHU/dV6vWYFMbr9ROj+wtqEL4jSBkn1r0n6jN7eXvwV20nSq9miXElTcyPt7e2Eq73w0awgpOJJDpkWUlxWhEfccnyzF6PIeAVf7XK8St/A3fAO8ZY5+JS+yvqSN9hb8Qz+VYsIKnqObWUv4RG3nK3ZSzhqfpiq+olk1k4jt24aesv9VNTPoqdlJueaptDZPIWeEWz/2h77k34vhfxpam5kg/pbLLU1HFBsdzje9vNTxHb+2AfftsX2M+Hof8V4CsD7j67kQeXqMR33H3UJQBcu7jQcCkDxS8XFnU1yVv+tKGfZBvztvqTGEoB2vPBXDHSwEBnu1rStAMweZE7Lspf1e52Vrx9Ryjt7p4CyyhKH5+2RbyI+NUay86u1Cf4s2padO3+OKF0YMfFHCFJu55DKA7DGDtSkylmb/jEyw1I2F71BkHIdW9I+ZI98PYFKLw6pfNgmd8e/8mlU8fvwSvycA8q1qOID2Cv3IVr3S3o50abMO/UTKYNJeOo70jZzTPwRDii8rf2T/x5RujAA9ss3sLH0NcC6Inqgb/UxO1/PHvkmfDLfA6wrnbX1tQRVPcGVK1fYXv4S4SpvonRhHFbvZpfci9r6WpSJhwlTuRGpDSWi4BlCc17Cq/QNgvJfJEoXRlDVE2iN9xNqXEhFZREbS18nWP0Nqur7Cah6Ct+KF/CreI6g+E+J0X7JyeoHiDHNJ91yL2k1c1FrfyC1+hGuNE+jqn4iV1umc9lBzt+hjqNqGaUVBnYqZJJntZgLeaQ4mx/DJT5D4xKALly4GDOuLeARMtwYfMPd+hlPvPqyNdzJiP3rnvrp2Oty4AW8fpA+EFcCr1275nD83HJ+2cq1bZ947qVLl6gwlrMlfzEAfoWvSOeIglZW+O6AlHHi9eL4HI07BPziXdvZ2ckRbTCe8QNTAnZ3d9Pc0tT3bN/gXfo6h1TWEC4+yh/YrFjF6twP2FHwOp7xy+nq6uKQ+gDBhc+zoeAtdGkKZNnL2K/YTF5hFusSviBCE0h7ezvd3d0cNz9Ecd0kjqrXEG1+iIza6QRXPUG46VE2l71CV1cX7oZ32Fz8OuUVxRwxLSBMtYbGpkYS9Tr2FLyCzLAEmWEpMsMSurq6rE4fJW+xSfkjMsMSPEsWc1gTQLT5IdwN73Cy+kFCjI+zVfEzhvq7UJY+RFzNvYSbHsXN8A7BVY8TbnqUcNOjrDa8jWfJYo5VPkpBkZ7Wxqk0N06hsmECKZZ5pKVFYWqYYM0A0jLdabiXoQ656UkOVC4ioOopKQNLT08PSZnxrE7/dEiHqMF+0IyG8RSA90Wt4gHFmjEd90WtcglAFy7uMFwC8DZwMvHoqK7LzMvoF4ID4JDaf1jXOrINLDDkjaodMPS2aHJWPEWlBRxS+zv0inUUO9DRVq/989k//2CIz5ecleCw3FYA2gaAFrHPg+zs/j7KH9il+h6v0jc4lZ8qOUfIDEtpbW1hm8KN5KwEIjRBeMQtZ49iLbKC96QVos7Ozn73P5l4dED/hKmtq3M7Y622cu3t7RSVFrBZscouePYqauuqkRW8h6E0n61xX3D58mWSsxLwla+T5t5mxSqKSk6xTvs1CRka/NR/A6zhaALUf0OTpiBJr7WmVEs9zl65DzvLratpW8teJj1TQXKmBkX1XFYb3qGobhpR5vlsL3uRPYq1HDI+hkfJYrZmLmVv5TMc1n5JSMKn7K54jh3pHxBmXMjeymeJUm9gR/kLRJse4ljiMiLUPxCl/oFDpsc4pt6IpuZ+8qunc8j4GOeaJlJRP5kd5S+xv/JpiuqmkVc3hZSa+8iuncbppslk1U6ntmEyyuq55NZOJ9r0EFUNE1CaH6C1cQI1DdO41rfCd20UK33OjtbGKcgMS6VxuHTpEpG6X+wmHX3+bifjKQDvjfwnc+Vrx3TcG/lPlwB04eIOwyUAbRiJ+BgP2tpax/V+g9kk3Q5E0TMS6hocp2az5USCVQTZrwB2dHRQ11BHYmYcfnmvEqbyoK2tlZ6eHmrrLNTVW/rVH6ULI0ztT0pWgvQFb/tZ2SPfRFtbK1sVP1NhLGd30kcAhCi9uXTpEoUl+YSp/enp6SFMfcBh/4ap/UnPjpPqF80v3Pq2pcU5UGEsJ7cgg0S9Dn+FOxtylxKmPkBbWyvbFO4k6nUcVq1jg/rvpGZq0KUpOGp+mIDKRUSUPYFnyWIOmRYSkvUaR7TBuPdltigpzetrxwF8FKuI0HyPn8KDI7rPOazaQoEhj56eHnwrXuCY7iCrU/6In8IDbfk8UjPVhBoXElv9IH7J1vZuKH2N/crV+Ja/wGHVFrx1f8VH+QM+aR+xU74O79LXWVvyFuqUE/jGf8a6kjeRGZYS3GfvF5j1BsFVT6A13U9s9YNEmx9CXj2XkvoZ5NVNJ6N2FgV10zga/wdK6qZyumkKDY33crF5KvWNE7nYPIX6hsmSrd+VWygCqxomEFs9j21lL5GSncgxreNwPrZi0Nln2DY8z1CkOPiB4xKALly4GCsuAehiVNzqORNwi7fIoL8AFANNi2GHOjo6pJU199RPuXbtGqUVBrq6urhy5YpUh7i6uVfuIxnjX7lyhc7OTrbIZWzIXSIJO9tVvtUpn5Jq9yWfV5Tb77VYLvalV98qnXh9Rk48yVkJdHZ2EqkN5UDyBxyofJqDSl8AEtPlJGcl0NHRgZ/cGy/13whMfZcw1Woq6icTaXqEsKJnaGxq5Ig2mLxCPQdS32OPfAMNjXWEGh9HlRyDu+Ed/Cqe41RhJqmWWYQaF9LZ2Yl38ZtsUv5IY1MjUdoQ8opyqKgq4erVq9y8eZNtcne889/CLetD9sm34KFbTkDixxwueQK37GWoUk4iO/UBHR0dRMdHoDPfz7GSxzleuYC1hneIqXwImWEpgUUvEGOeh2fOe5yqm0KYajWNjfUcNj3GxrLXUFTfj94ymw2lr1NZP5Gs2uk0NNZRVT8RdfUDZNdOJat2Frm1Uyipm0y05p9cap7F2caJtDROHPW2r/1hbJhIQNVT+Mk3DIjjJ86viqqx2fcNl/EUgHOO/Mx9sR5jOuYc+dklAF24uMP4TQpA0WAeHG/tDYUzhwBnMdzgt+NRe6sZTf86I1wTOOxzu7u7h9xWG6rcVgAmZyil98OMj1mdFOoslFeVsVfug5f674A1xEq0Lpju7m6CVVZRGqkNJacgE1XKScqrSglSbqC9vZ0taR+iSoogSvNPPOKWs0sh45D6W47pDrKz+BUS9TpOJBzl2rVrlFWWSLZ6Iaq9UvuTsxK4du0a0TqrZ21LazN5hZnslftwIiFqwPZ2uCaQSG0ofnJv9sp92KX6XipbY7AGZ96u+9L6LOoteKV8QmdnJzkFmXhkLuOw5iClFQZU8QesziSKVRxVr6GssoS9ch/p/levXiUtS0uE2hrmZlvCp5RWGIjUhnJEG4ws732S9FqO6YIlgVpaYeBk3EGy8/WEqNyprashUr0Gd8M7nCrQE6TYjK/CjT2JH3FIfYBdyR+xTfUdqcb72aX7C5vKXiVAsY2j5vmoKh7Ct+IFQlQ/o625l1jzQ4TlP0927XSCNF9zoHIRqZaZhFY9TkjV46RYZrGl7BUuNU+nruEu6hp+x8XmqVxunk5Py0wuDTPzh7Ojq3kayQWPEFD1FGUVxYSp/fFTfyutNlv7++CAOTjaz49oZ+iM8RSAsyN+5t6THmM6Zke4BKALF3caQwrAooK0YcWZa262hsHQJ1iTpdsa0RemvdvvXGXKCYw2v5S9NN8MWb8tN1pnDRlGpTDtfcDafmek6NZQX28NxZGZbg3KK7YfoKhwYHBW+4j8w902TYnfzY3WWdRUDx6GptZizbkqtt9hXQl7HNS/q9/rrq4u6dkcIfb/UO1P0a3hRusszvaJY/vnt6fKbgXEUf+ftRHaYhtt509Ln1By1D7x/kYHKy3b5O79Xotf3uVZr0vviXZ5B1I+kN4rTHuXM2fP4JvwZ0rKi3FP+4NUtl++FS/139Bq11BTXUmiXkdKwh48474kWfcdMsNSyipLCc95h7WJn1ufpaUJt+xleJa8zWbFKjzjvuSw5iBlFQZkhqVsl69G1rcFu1++dYBjkT79KMVFeurraySRu7cv3qBH3HLOnD1DaUUxAUmf4pHzPpWVCwlUbqGswoBnnFX8lVWWEqEJIkW3hpLyYqtnbdUTuBmWUFI3F8+4L9mQ9hFu2ctYr1lBeUURJeXFlFWW4qb/mNzCbLzUf8db9S2+Ja8TnxZDWYWBtYmfs0++hXVxy+no6KCkvJh1p5bipv+YwtpHyE76jH1KGdn5etaWvEVJeTH7i1/EI3MZJeXFbC57hSPaYLw0KwhI+hRF9VxyC7NItNyNb8onRJnnc0TzN9aXvoGm5n52lb+Id+nrpFlmEVDxAob6ScSY55NTO4W6hru52DyVvLrJFNZNorBuElUNEymrvwtTwwTONf0i4Hr6UsCN9rjSMh1dagxuhiVs1r9HXmEWHR0d7JdvpTjrzQFz0HZ+iuMrfvYdfX7t529vb2+/uR+u6S8uXQLQhQsXY+VXWwEczBvzX4l98s39XtfUVv9KLbk9iM83XGcVR0hfkLe4b8Qv73Xar6T22d8jMy8dt9wPCdcEUlNbjS5dhSI5hryiXHbKPaTzKozlHE5bTFpWHEHGJwhI/JjNeYvJzEtnvfYbDqn92aqQ4RG3nH3yLdy4cYNEvY7VhrfxKFlMa1sL+5J+z9rkzzim3ceNGzfIytdzWLWuX3uSs+LxV2yX+iRKG8za+C84EWcVAB5xyzmsOUh7e7v0I2u99huUySdIyYojNSuO1tYWjOYqdso9cDe8wzrtV2wrf4kgzbesT/mU8+fPsU77Nd6qb2lobAAgUGkNFSQGe75x4wZr479AZliKW+6HBKS+y9rEz6mprWZr0h/o6upClRTFYdU6PBM+t56b9z4bSl+jtbWFgMSPiMh5AZ/0D9lf9AKH1P6sTfwcn7JX8VetIq8olyS9jk3qvxOUvoTQqoV4p/yBaPPDeGb8nvziHLaUvUxc0rvEW2ZzrOBFahumo6uay0nTwxw1zye/bgqJNfdSUn8XKZZZaGvmUtswiar6u+hunkFL4130tsy8JVvAVfVTMFVXsT7lUxTJMf1Eu/gD2VE+ZvvP/61iPAXg3eE/c88JzzEdd4e7BKALF3caYxKAYiDb4TJUhoN/NxylwZMnOU8PdkQbPGj57eaINtjpNrmhvKhfhpGhVgoHu4e4xW/fP8NNhSZiuwVsKC+itMJAgGIHPoqVUtiOENVKZNnLSNTrKKswcEQbzD75Fg4otpKg12Kprea4ZiM+ipV46JZzVLsXb/W3qBIC+gIBb+sXR/Codi8yw1KiNL4cUGxjj8q6Srhd+xVhan/OnD1DTmFWv/6xtTlsbW0hWLmJo3GHSM7UEpsUzQHFNsDqMHJI7U+Q0o8YzUYstTUEKnfhnv8e++I+o7TCwNmzZwjXBBKt3UeU2pp/99q1a3irvyVAsRNNchQAqoQAEvTW+mWGpSTqddL4hqmsNobhmkAS9ToClbvYK/chJP9FazuUXoRrAojUWNPlxcb5kZmXQaByB+GaQIKUPhxQbCM9U0mKXoV7/nscUGzjuHYXbvqPySvMJErji3finwg1LmRb+Uuc1O0jQu1DjHkeuyue42DlkxzRfU5g1ZMotO74VrzAEdMCNOYHyaidibz6AQKqniLJMgddzb0kWOZQUj+Ni81TSLHM4ULTFJobJ1Jefw/XW2ZwdYzOIOHGBXjof89R7V5yCrM4oNhGuCaQhAwNV65cwUexUho/24DjYv+NlKHCyoynAJx1WMacmHVjOmYdlrkEoAsXdxi3bAVwONkU/tW4lSunjvovNTtpTHVm5DgOjzISdsjX9nttu/Wemp00IKad/bW2fTSc7Cf259je39tJdgVbqkyVBCqt3pm2ArC7u5v29nbJ1k9mWMq1a9dw13/E2XNn2Vn+Apl5GVIwbdELt7OzkzqbgM29vb0cUGyjpraaHfK1JGRoWJP8Ge76j9DW3MO+U6/S3d3NmqxlpGYn0dnZSUz2c/3aL7YPrDEHa+trOaINIqcwC4+4/rH+bJ+/0liGR9xywjWBrEn+E4qk41K5e541ALP4fOfOnwOs4WBWZy0jJv4IpRUGPIveZkfuW5w9d1Z61rPnznJYvZ618V/Q29uLu/4j1iT/CXf9R1y7do2DRc+zpehNvNXfcuHCBWR51u1zv9zXkScdxy3nQ8JU63DLXsaFCxc4rt2PrOhdzp47S6peybnz54jUhuJT9irrS98grORpOjo68NcuZ3fJS6w2vE2UaT4e8V/gU/YKwSXPYG6YSKTpEbTJUWTXTiW0aiFJNbNJtNxNbu1sCuqmkGqZSVJKBDLDEk5qvqesfjKGukmodJsprpvCuaYp0hwY6yrgUc0uqa/E+RGs/nFABpqhsJ/f165dY03yZyOqA1wC0IULF2NnUAE4ljhyv2WGm2liKJz1X1pyiMP3Nyl/GPCeobx42Pcba0L6kZCRm+q0bCRZNMaKmJe1vrF+QJlk/9XTQ2qm2tq2uBA2KX/Au/R1jsYdIlS1n82KVYSovFivWcHujHfZo/4HEXGfEaTcTYRxARtV3wGwo+xFgtU/ckDhQYD2S5L0WhTxgfT09LBb7kVphYGMnHiO6w7ilr2M9OwEQlX7CdT8kqvXdow9dV9yPO6XWHJ75JukLC1b5bJ+z3I8PoI98k34yTf2699Q1X56enpIyU5kU9pHUniRixcvUmDII1S1H12a1QHmVFEOW5TfYTRXsafiWQzlxWRkx3P58mWM5io6Ozvp6urCaK5ik/IHfBM/pe10G4npckzmSjZpv6K2vpYobRCywvfYq/laut/W9A+k5/PTv0Ni+knc9R/jnvExO/LeYK98Pcd0oeyQr+WIcQE9PT3ExIcSrl3O5cuXaWis43jJQo6ZHyZEtZ0NuUtRVc8l2vwwmbXTSLXM5EDl06RmJ6I5tYjNZa+QbJnFvsSP2Fb2Es2NU8msncmZpik0NE7ibNMULveJvsSaB0edAu5G6yxSLQ8RrvqZTcof2CFfS0z8EWn+5xefkrzJbT9/Yrk4P+HWxgocTwE487CM2THrxnTMHF8B+B+CIKQLgnBWEIT143A/Fy5+k4x4BTA9J+WW/RP7Nfitt3+kNNs4VAxGtcXs8P2ikgKH71+6dGnILVlbw3Wx/pHEGrQ3fB8ptiuAcWmx+MnXW23oVOukFdfmlia6u7spsRHapRUGEjI0hGsOSp7LkdpQtsrdOJlgDffhlr2MPcqfWKf7CrAKMT/5eoft0KQpANgqdwOs2/w7Yz1paW0mTOnFdvlqh6u9oqC4fv26VN7R0SGFgWlpbZbqBGvwaH/FdlKyEtCkKdir/ju+yiMtoyYAACAASURBVB+QJx5jbdKf8VF9R0VVCSlZCVy6dIlwzUFidPul63fLvWhobKCsopgo9feUlBXS3NLETrk1OPVG1ffskntxIs6fS5cuoUlTkKhXs7XP0WWr3I21qX9gTdKf2V3xHIeNj5KqV7K7+GUOZrzFrr7A2z5lr+KW+yEnNDKS9Gr2Vj5DXEoE/pmLOaj7goNVT5Fmnk2E8RFOmOexq/w5kmvu56hpPrsrnkNVfT+RpkeorJ9MQOVTaGvmctj4BOeaJtHRNIWq+gm0N1mdQk43TubaGB1ArrXM4HDVYxyPj2CH4mfMNSba29v7jVWsnWnG7d4RGU8BOOOQG3cfXz+mY8Yht/FeAbxLEIQ/Ci4B6MKFU34TYWCc2cMkZcY7fN+Fcwbbsh2Kddqvhz7JBvtVLGcMZe8EcFR3qN9r94xPHJ5nG3bDVgD29vZSXJpPUWmBNRByxie4Ff2S2eGo7hAVlQauXbsm5U4Wc94G5b2MLO/9AbHfABIyNASVPi21Tzwn8NTL+ChWkWCzmnzz5k3JPswtexk3btxAlvc+nZ2dkpcvQKQuFLfsZVK2ELeMj6VVJvH53DM+4fr161LfiVuL63RfsU++hatXr0plnZ2d9PT0cO3aNYrLiqT6Nyl/YpvCTfr8h5QtQpb3i/e5ba7bnp4eZEXv4la8lEhdKO4Zn7BZsYobN24QVPY0kVrrSqZngtUZ5OrVqySnnyQuXcWZM6eRa1dabTBT3ueoeg3t7e1EGBdwyjINj5LFKOL242ZYgqE0j2MaNzxLFuNmWEKMeR45tVOJq7mHjaWvEVczh0Omx0i03M2msleRm61xAGOrH0BTcy/ZtVPJq53NmcaJtDXNonuM4V9utM7iestM9sg34qFbzs2bN6X5cf36dbYp3Lh69eqwzBuGYiQ5gl0CcFh8JrgEoAsXTvlNCMCxcrs88UZKXLp62OfaryjYBxHud27isVG3aaw4Su9mz2D9P5zrnT3fUF+YtgIwUuNLXLqa3XIv9uiWE6ZajUf8l/grdtDZ2UmVsYxz589RVlnKnopniU2KJlGvI0qzH1n2MjLz0glU7mJX+fNo05Tsk29ho/J7DqsDiI47RKQ2lMYmaygbbZqS2KRoyipLSM9JwS3vPUJVvnjolkvl9s+/W+4FwPkL58kvPjXgWbLzrFuKIap9AP3S79k6oYjl9lQYywFwT/tDv/rTc1I4og2R2nA8PgL9qTQuX74s9e8++WY0qQqOanyJ1IagP5XGPvkWtmW8xz6FJ/vkm/FTWp0gZIalhKp2Stu6mblJUv8dUsnwU/5ItOZHYpOiiVavpLyimEhtMKHGhXiVvsHWspfZk/IhipJH0NTcyxHTAutqomYFpfUTSa+dQbTpYTJrpxNlnk+M5icM9XfR1jgJU/10iuomUVw3hZL6SVxpmTZm+78zTTMwN9xFuE2oqoqqUofpD50Rm3iMzLyBIaXGwrgKwDA37o5eP6ZjRphLALpwcafxbyEAf0uM5IvlVlFYkj/u9xwKRysqZZWlg5bbYysAD6sD0KUpKassoa6hjo3K7zFVG8kpyJTqqraY2RFrdaoQRZIYkLe1rYUozT8AWK/5BlnBu/grdrBL7tVvu08MMyOGaImJPyLZEIr3F1mv+QZTtZHCknxaW1v6bcN3dXXhb5MdRVxhs/4dIrX5/PnzgFVU5hefktovEqxyGzC+dQ11dHV1Yao2AtbxF0Wr6ISiP5VGQVEmEWof6fl2yj24fPmyFK9OnhjO7rT3Waf9isPqAOLTFcgMSzmk9kefm8TByifZVPYq/okfs0uxkq2Kn9ElR5JffIrg4mfJLz5FfnEuR5Lfw79yEeHGBZRXlnLc/BA5pxJItNzNcfND5NdN5mDmm2TWTqO4bioJljmU108g0TKbqobf0dh4F4b6u0iwzKGsfhLnmyZTUj+5n/AbrQgsq59JXt1stuu+6NeHRaUFXLhwYcCc2xG7dkBKydvx+RpXARjqzqxjXmM6ZoS6D9beZYLVZq9TEIQbgiD8p4Nz1gmC0CwIwkVBEFIFQbjfpuwrQRBSBEE4aXeNSwC6cDEId6QAHE2O2DsFMa7arSZUtX/ok8YZP7l3v9ejefbR2kqJc9ZPvnFAmWifZSsAz5w9w56SF6jpE1mW2hopLNGNGzek8Db2XritbS149mXWsK8fnDvDOPtMiaLLPvjzYNfbhluqqCqRVof1p9Kk/rMPz+MZ96VUZh+uqdpipr29HT+5Nz75i6UVRKO5iobGBmKTonHLsb7X2taCLPcDApU7qbaYpVRnNRYzPopVBKlWUlJeJDnTZOQm097ebt0aVq1EZliKLHsZ1RYzAVVPkZKp5aDSF+/S19mq/JEaixnP5D+yu+J5IuM/ZV3Jm+yreJqQ4mdJz1RxJPMVIkwLSLTcjWfJYpIts9hV8Tzx5nvJ6/MELq2fgrFhAvE199DaOIHmxt9RUDeFKw5iAF4foT1gS9Nkgo1P9BPg9gw1ls7Gd6RhjeyvF/51BODLglUE/llwLABXCoJQLwjCfYIg/E9BEDYKgtAkCMJ/DdH+zwRB8Br107tw8S/OHSkAXfy2sE3xFhMfOaDc2bakI9raWm9Jm6C/AHSEMvkEMNAG0X7Fxr79ttvxRnNVv+dva2sdsF1/9epVikoK+nmEDiXoIzRB6NKUmGtM0v0PKn2l/mlvb5e8e2X575OcZbWHFfv/ypUrVFvMVNeYrPZ4WfGcPt1GTHwkKVlW72RTdRWHVVvZXvwaW+I/Z0fip7S1teIT9xeCSxehS1OiTLH2UX7xKbYlfor/qVc4rN5NqGo/2+WrScjQcES9lRPaLRxU+uKh/z071P9gX8UzJOp1+Km+46hmN/nFp2htbeG4ZgP+iR/T3t5OjcVEjHkexzWbSKyZg/+pVzmh3cbRpPcIUvqSUzudA5WLiDHPQ1k9l0j1j0QaHyGuei45tVMJq3qcyvqp+Fc+RUPjZK60TOd002SKaudiapjFFTv7v5GKvxuts2hqnEyKZTZFJQW0trZw+sxp8opypf7TpasGjN1g5hoitrEfR3P9eArA6SHuzDzqNaZjesigAlDkWcGxALQIgvA3m9f/QxCE04IgfDJIXUcEQSgVBKFGEIT4vmtcuHBhwx0tAAf7J3mrsc3p+WszmKes0Tww28Bw2eggzMxg2Pe/bWBmRw4RvwZpOclOV1JsBWCQ0q9fme01zq4fav6NdH6KTh322N7/9JnTHNEGszbBuuW4WbFKKhevF+fHufPnOHf+nJSCThzfjo6OAeMToQmS6ohJiGRt2sdcuXKFTWWvEp35Eh0dHWxU/oBH3HKCVdZUZTtjPQlR/UxzSxMdHR1UGiswmquI0Bzk5s2bbC96leaWJlanf0J47guSPaPMsJSOjg6C1d9z5coVjOZKfOXr0OcmEF31CDsrXmC9YTGbVN9xMiESj5LFHDEuRJ+bwGr9R7gb3sFkrkRbcy8nyhegrb6XQ+pVHDEtYFPSH9HV3Eu0eT5ZNfdjqJtCbu0Ujpkf5nTjVCnzx/WWmZxtmkRX89QBIWBG4hhyofYe5AVPDvj/cPPmTSnWIjBkukzbz3RMwsAfSSNlPAXgtODVzIjyHtMxLXj1aAXgfwuCcFMQhIV258YJgrDtFj6rCxf/doyLAMwpyBxzHcONzTecvMX/KohBaUeK6KzgiMKS/AEhYcQsB7ebolLHIWdEbNO42XvFiuzqc6aAXwSgffsdrdrcqtiPttgGfD6k9neY6i5I6Sdt1YqOIPbt81GsxFtlDSItzu+enh6i48IBcD/1Qb8ycXzLKks5c/YM3qpvpTHNzEtnW5p1e9czfjkVVaUDPp/eqm9pb2+X6u/t7WWPdjmW2mr2676gsamRQO3X7FF4kV+UhZf670Rr/YhMeYddci+y8tJI0GvZqfmK9ZoVbCh9Hd+K5wmoeopN+W+zT76FzNppKOJDUFfPIzsvFe/0ZaxJ/hMRpgUEa1Zw2PQoMsNSzpw9w4HKp9lR9jJV9VPZXf48ocaFJFpmU90wgby66bQ23kVNwxRK6ydzo3UWZ5umo6+9NSngjhkf5YjpEalvdsm9OBZ3WHp95uwZent7aerLZV1ccmtip25Wrhq0/LcgAH8n+4z/+8aT/N83nuS/X1k4WgE4SbAKwDl250YJghBwC5/VhYt/O0YlAMWtMxcDGUxcDZei0kLpb9u0UreCkYbOycrX39L7i4j2g6JtVfoggaXhlzl34cKFfv0zGINtAdvbLzqLdzha7Ou3DfMiIvbtbrl3v/un5SRLf4v9I5ZfuHBB6otEvY5IbaiUjcI21aJb9jKp/s7OTpTJJyirMBCo3EVRaSHXrl0jROlFlDYAAF2K1dN6k/InQlX7OZFwlKx8vTSfj+mCSc/SoUg6zrqSN2lvb2eTegXFZUV0dnZiqq5CkXScNSVvsV39d65du8a6kjcJ1wTiZliCn1KGZ+on7NQvZY/ma6K1f2Vn+QuEVD3O1rKXOZTxJhtylxB16nlU1fcTW/6INYVe+YsU11nt/lItdxOr3UaqZRaplplEpr1FYd0M4mvuo7R+Oo2NE7jROou6hrsGrPKNZvv3Russcuumsqv4ZQCSsxxn1nG2sit6V4s4chqxZSQ2tOMqAIPWMCNyw5iOaUFrXCuALlzcYdzRW8C3m82KwX9l3yncqvEZTsgVZ0TafZndbuwD7YrYO2k4wy3r9wMEoPj8tjmLB8N2fgzn+T3jvhx2+2zp7OwcECrnwoULUhw+cfw946zOKIdV66T+kRUv7Xedrae0o/YFpFjj/LW3t0vZUUQnkIBk60qi2D+bFatI0VtXI/fJN0v32qfo7+Xa0dFBUOWTyIqXEmZcKLVrQ+lrpOhVhBgfR1a8lNIKAzGmeURogggufJ7NipUoqh9AWfIwh0yP4VmymIrKYmSGJeTUTiGuZg65tVOQGZZw3PwQR83zOWF+kKzaaZTW34Xc/ACK6vs50ziRVMvd9LbMJM0yi5SEPZxtnEBL4wQ6mn8JBXOxecqIxaCiei7hpkf7Pe9+xdZBRnN8GE8BODVwDdOPbBjTMTVw1AJQEBzbAJ4RBrcBdOHCxRAMEIC3YgVrJIwk1dm/E6qUk9Lf3d3dv2JLrKTnpvR77Sff2C97xmiwnWv2to324XCUySc4f+H8gDpi4wMHvCfibAWwylTp8PzEzLhB22tbrkwMH/Rc6P98omPJYJ8vW4EuBuw2lBdz/fp1dso9HD6/obwYv1hvaVXQdts5My+dzLyMfuUXLlxgp9wDVcpJqRys/dvQ2EBZZSnb1H8nSLWKUNV6YpOipfkXGx9EdFwYoar9yAxLaWpqIEmvRpt0iI19wtezZDFHtMGcSIjCJ/7PlJYXcv36dUJV+9mU/iHblD8SanycTWWvsjnhz0SYHkWREEJQ1RPsyHiXKNMjbC17GW3NPYRUPY625h6U1XPZV/kMgVVP4JX+EWX105BXP0CaZQaplrupbvgd1Q3TiTHPo7Hxd1zqE3pXW6bT2jhZsgEczSpgmHEhmsQgp7a3UbqwQeeAOD7DxXb8BuNfTAD+p2D17n1FsArA/+p7/R995T8JglAnWEO//G9BEDYJgtAoDO0F7MKFi0H4Ta0AOtr6G60d3HAQg+eKOLLh+rUYqV3e7Wy7mL/WEYN9oVUYy4f9hTeSe4oM5QXsiNo6i0MbQWcEKndLMfnE+Snag4k4i1mYla/n7Lmz9Pb29gsSHqDYSU9PD4HKXdJ7R+OsmUYuXbok1R+o3CX1n6VvfEV7QltbWPHzLb7nrfqWixcvkleUS4WxHFn2MgIUXgSqvpeu2aT8gZz8DOl88f5rkj8DrDaIa+O/ICFDw96y54hLV7NO9xV7Ez8mShuEW+4HhBoXEqXZxd6y5wisehJ5Qjh+Fc9ySLWGMONCfJM/Ijz9bSJN80mouYeY+CP4J/0ev4rnOFC5iJPabRxO+hC/8udJtczCVD8TTY01/EuUeT7F9XdRWT+TC00z8K9cRJTpETQ189DW3Ed1wwS6mqdxvWUGHc2jTwUXYVqAuua+YcwEx4x2fg/1+R5XAXhwDdMjNozpmHpwUAH4mWDd5r3Rd4h/P2NzjqcgCK2CIFwSBsYBdOHCxSj4TQnA24GtvZWL28tIvZDhF8eIwejq6uJk4tEB9xiNALTF/sfFWEPU2NuKifXbZvI4qPuL9LetXaQo3jYqfxiwPS4Gnb5+/TruqZ8SotorrXLabmOLK4zi9WfPnZXm/8WLF/GIWy4949qc/5+9946O6sjidfvdt9Z779511/3bGCSRTDKO2OAwBtsYgyPgAGN7POPxjMdpbI89HmxJ5KCEhAjKCRSQECJ1buWcY6uDpM6tlsggpCEJAd/7Q3S7JRQRyHjmfGvVorvrnDp1TlW3ftSuvfd77BRv5vLly6xrWI535fusq1vB+pxPcbS14nOrz7saXiXHPAOf8tWEV76Ob8HH+JSvJqbgHVJqFxLetIhmg4615avYJvuOjY1v0tbWitg0F4V5Nn7Fq0kyzOeIIpADxicRm+YS3/wsKc3zqbNNZpf+JY4aH2GX/iXCdC+SZZ6JxDSXC20e5FpmUWPzRG+fgKH1QaptHlTbHqLEOoUqmweX2yejs0+h5/hUTjgmcPX4lFELwLiaV8ipfpoEaRhNLfq7GqZopDjH153xFICeMeuZnOI3puIZs/7XyAQiICAwBPdMAN6rEC6nTp+6623ej0GWx8rdfv7DeejC3QlvMVJSFLGu18mKWGrUbunNbgmnkQrAZLe2YPDMDe7en0PRP5Wbc365xwF09t8ZGNq9/f7n75VFUK+pddUXlOcCvWZb97RyytxETp46SV1jDVeuXMFoNri2EiRIw4iT7mavLIKahipSFLEES3zIKTpGnHT3rbpw9oj9CMr8C77q5eyVRWAwtRAn3U1BeQ4nT57g5KmThOhewad8NfHSPRxWhrBPFklQ5qecPHmCU6dPEZP9IT4172EwNXO4dAne6pWkyteh1TcQk/8uofqXiZYEEyf/jjTDPOKbnyXf8hAh5W+TrviZY6ZHKLBMQ2GeQ4F5NjbzZGJyfo/SPIdcy0wyDE9yxPQoJdapVFincUyxnljl35CaHsbSOpmTDk/kxvmcbnsQjd2DBpuXyyR8/fg0LrZ7cvX4FLpvmYQHE4aX2yezX/kFyYb5rmfsXAl14j5+7ly5cgWD6c5DNg2HIAAFBATGSh8B6Nx3NN7cSST9e0F/0939jNVuZbd45HuLRkJ3d7drDvTPfjFS/KU/AiNzXBkqC4iP26oY9I2j1n9lrv/8cQoudwF45uwZWozNt83x/n1w9n8gnPOj//X7O36cOXvGdf87xL2p2dIVvSnlnHsA+9dHSYJd57vf68mTJ1zHOvehuedGPnnyBBsyP8OnfDUbVJ/R3d3NsZyDWKxmdou3kn0rvI0zmLSjzcGxnIN0dHS4Mon8+9//Jk25j+7u7t7g0PLtbK54h2jF167zY2U/A7hEjft+xQ2ZnxElCaakMpe1hR8TWPU2Bytewl/+DfGZnyIvXkxCzWKKKvI5kr2a1LqFVFons6HxTZJa5qPVqwmX+FJUJsdfu5QkwwIKzdM5ZnoEqWkuSvMsYpqe54jxMTLNsyi3TkZnn4g0911SDU8hNc0lqWU+RRUvcMj4OJfbJ1Nl643/d6ptKqXWh7jQ7unaG+hw9ArCrlvvBwsX09nuQUTTQpIN8zlz9gx+0l9M5ONlNRlsxXHcBWCy35iKIAAFBO4/+gjAUPGmu/4Ddu78uRHlbR0K99WdgbjTdGKDkabqm/ZprP2/U5x/8J33f7fHZ6h9dHdirh2IWOlOV1v9vZAH21jf//m7497GcOe7C8ATJ4+76o+faO9zf875Y7IY+7RfWVfOufPn+sy/UPEG0lT7XCbZka7yOMO5BIm9hz3WarcCv+QhHg7n/AwVb8JqM2G1W/n3v//tej7ede+QUyR2HX/8RLvLDHzu/Dn8pD9w4uRxfCpXuZxvquorqKqvcLVvs1u5ePEioeINpMjWU1JZwLnz5zh3/hwlVYWkKfexXexNVX0FQdolxGZ+SmLLAhJanmGr8gt2Sf/F9trXCW9aiJ92GVVWL3xLPyCp+HW2aF4nRrKNMqsXqYanSDPMI8P4BIUVS8k0zyFL/xhV1t7Yfk2tDyC7JQobbF7YHR4cMMwjvvl5Ms0zybbM4IRjIhLTo5xweGJs7c0QorXN4NrxqVw/Po0a60yuHp/i8goeKl5gfO1L+KiXu56vM62ec/5U1JWNaIzuNuMpAD2iN+CV5D+m4hG9QRCAAgL3Gf/1ewB/bQbLJTte2B32OzrP3UtX7BZ/biDCBoiBdzdw9n2w67sLwP7/iXD2f7DnL8k95DIlO9sfSbBod2eO/vT3AHb23+lle/bcWTKL5CRIt3E4Ow27w95HkDraHK5VyEuXLqFtanTV1akr+2SmCBcHuPovzUmmtLrIdf3iygK6u7tJz0zC7rCTkbUfb/VKzp47S1u7A0WBhHBxAHaHnWRFLKHi9RzOTusN43LLzH/p0iWSFbHYHXaOZKcSIf0n3uqV7BJvJkK/EHHWPuLz32GX/iUS5D+SptzH0exUEuteRGZ6mDj1InbrXyRNvpUw/SJSWp5CYppLdO0rqMyzOZoZi7d6JUktz6A0z+VA9gdkqD6lxjYZrX0yCU3Pkd4yH4npEVTmOexrfgZ760S09ik02ieRbJiPrXUKnW0edLV7cqZtGj3Hp9HumIDa5sXZtge51O7Fpfbe7CE9A3gIXzs+lQzj4yS1/GICHgn9ncecjDbY+FCxMQUBKCAgMFb+YwTg/WJGvlsMFgfPHWc2jOFwOh+4C4aB2KT6YkTtjbY/3rXv9nk/2IrqSK/vPtZDraiNZA+gM9benRIk9r7t+xMlCaajo2PY8XEG5e7s7HQ9E+/ad2+byyP5frrOb3iH0MYlXLt2jUDJGgIlPwEQIe6N3edd1zsWHR0dZBcrCGl81TU/onUL8a59l+vXr+Nb8iGBkjUub9Tr16+zMeszNqo+ByC+Zgk9PT309PTgq15OmNgPXZMab/UKvNUrOHX6FN7qFRSUyklsWcAh42N4q1firV5BiiIORctcElsWEKJbjLd6BaXWKSS2LKDB5kGw7hVOnz5FqmEeB41PsLHxTdLlP3PE8CS1Ng/im54jyTCfIutUiq1TaGqdgKn1ASSmebS2TuJs24NcaZ9MpXUaJaYZXGjzRG/3ovv4FJpbH+D6iWnU2TyxOx5wpY67cWI6F9u96Gib5Hpfb5vBtWvXqDVNIT0zqc/3x/n9vJP5c+DWCrVzbOD2vYXDMa4CMGoDXon+YyoeUYIAFBC43/iPEYC/Ns6N+b9lfi2P6HsR5zCzSD6oAHTGLxxJQOiRhJsZTf9jJDvw72ded57vXBFsvBX7L1jsS3V9r4nRfX6tz/kzO8WbaT/e5vpsnyySYLEv++X+NOoaSJD9iKLgKGrt7c47Gn09O8WbXVlmrl27Rqq8N/+vMxvFtWvXqKgro15Tx66GJUQqv+BYdhKHsvaTX54D/GL+3Cv7iUipNxtUvXsR9+R+gDI/nfDcD4mVBOBf9yYbGt9CnL2KbZUriS1eTrJhPrG571NonkmyYT6HjY+R2PwMB4xPEtG0EFluCgW1iziQ+x579C8iNT2CwjSbcusU6myTCWtaRKXVC619BpVWT8qss8gxP0KNbTIq43yaWydQZZuGrfVBTK1eZJue4IRjEqfaJlFn8+BM2ySuHp/ChfbJXDs+zRUj8NrxqZy6tUew1TGJIO0SArSvIs7NGPEYj4b9IwxK3p/xFYAb8UoMGFPxiNooCEABgfuM/1oBWFpdNKrj76VH30jIyNr/q15/pOwRbxu0rr93651QXV85aJ17uIzS6qI7DgMz2FjXNFS59ue541zJce4Pc+dOvNbdzfLpboGGaxqq2CFe53LMcOI0Z3d1dbmegfsKsrM+SPYd2iYN6xvfIkjyMwmyMHYqvgJ659cesR/r8v/Eoaz9+FStorgihzCxPz09PaQp9xHX/BzV9ZUocvaSXawkPPcDNLp6/KXfY3fYWZf3J7ZrlxAj/5qwpkUAvXEC65eyXx7AvpYFRDQt5KjxUSSmuRzO/CNS08NkFcmIk64jOfc9QnSvUG+bRIpuAfHNzyKvW4DcPIeopt+R0Pwsp9smUW6dhco8k+TmBVRYZlJl86Te5kGG8UnUNk8abdPJtszg0vEpNNkncLl9MlnmhznlmIi5dRJa+4MUWKZzud0LW6snl9q9+ph+nYGjO9o8qWuowF+79LYxCpL83GdbQf+tFEGSn0c77MPi/v0RBKCAgMBYGZUAHCgTwX8a43GP/bNc/FbYJvvurrfp7vE6VrbIv+nz3l0ADhaixrmaNVTfTp85PWD9UOY/9/saKI4b/OIBDLevIt68edO1Irsu7xPgl+fvdEAprMjj6tWrffrXbGgiVZnAzZs3gV4B5n79rfJvXfeUIP+R7GIFcc3PuYRqT08Ph7L2c/PmTXJKVJy+9XnkLRPyqdOnOJS1n70NiyisyGObZhmx9S+RptyHb+nvqagrY3vN68TWL6awIo8g6T+ILXmThOZnSapfRIj2FUqtU9ikfgtFgZho5eccM80lw/g4maZZxDc/i9I8C1XF82QYHyda+TkWq5ECyzRyLA+RZphHSvN8qmyeHDM9ito+kWzLDNS22ejsHpxpm4ixdRKnHBOotU2j+/hUqmyetDm86Gz3ot0xgRzzTE47JlBj8yA3LwWHYwLXj0+jo20yl9p7j7txYjrdx6ciy01Dpn18wPEbibh3zgP3wNyjxTn+7oyrAIzciNe+gDEVj0hBAAoI3G/8164A3s8403ONhqHSmN2N8D5V9RW3JbcfDKdpcSAGy1U7XBo2ta5hxNd3MpoVwIFSEg6WMm40NLXogYHv71jOL2bFnNJMUpV7ySKgPwAAIABJREFUOXHieJ/xd49RefxEO9BrlnbGLnRfDUxVRHP6zGlSlQnES/dgsZpc10+QhXEkM4ZEeZTLrGy2moiUfYt3+WripFvxVq8kVhJMkOIrkhUxHMvJIFUexH75Nlf/YvLfpaKmEFlWNM2GJrbnfkRnZyc5pZkkyqPQNWvYo/oMb/VK/DTL2Kv4kjRFKBmKYA4YnmSneD3hqr+yvf51kpoXsK/kTY6YevcHVlgnk9q8gHTDE6xTv02hZTqpLU+R2PwMFdbJ5FtmkWeZgcz4ONnmWaQbnyRC8jNN9ocoskxHZZ5Nunw9ttbpiE2PYHdMJM8ynZbWCZhbp3K5vVcM5lmmc9rxIEcN87h0fBrn2zw46ZjAlVt5g53lpGMCALLM0D7Pvz/xd5jtYyiuXr3qej3Q93dcBWDERrz2BoypeEQIAlBA4H5DEIB3gV/TAaWkqvCetLtJ+eWAnweKfyJZEXNPrjkY/U2ykmG8jp2MVACOZnXGarMMWR8o/mnI+v7nO9ocbFJ+iTTvCFabBaPZ4FqF7u817BSkktxDdHZ20tXV1eeYIMnPJBe+hST3EAZTi6tuo/ILV32g+CfOnT9HR0cHSbINBErWsD77LwC9e/jUKwDYpPyCFoOeY1mxdHZ2cvLkCTR6NYHin0hVRHPjxg2Cpf8ku1jBppxPCBGvRVyxkNxiGZsb3yDZ8DQHVImkZ3/AxpxPCBX7EtP4InlliyizTiZEu4SY+pfZonmdFoOeg4ptpGV+gsGoJ0i7lGzzTML1Cym3eqGzTyCu6Tl26l5mp24xhZZpVNk8kJjmUm+dg94+kZ1Vb9Bkn0BC0yIKLdNpUFfgcEwk1/wQYbpXabFP5lL7FI47HsTQOok6mxcnHROosU2n+/gUWh0P0H18Kl3t07nUPpVL7V50tHlxLOcg63M+HXJMB2KwANF3C0EACggIjJW7IgDvJE7eYGYxgTvHaDbc0Xn94yj235je37TqTpQk5LbP9isThpwTzuwUd8JIV+W6urqGFIAVdWUEuKVJA1ifPfo/9CNFnn/MZeYd6P4dbQ5X/X5lAhq92rWn8OLFi8jzjw3YrtU2eI7nqtqSPtc3mQ3omjS0tTtc37+ymhK2yL/hsCoSk9lAdomSdGUE2+Tf0qCtJ7Dybbzr3qWtrZWY/PeR5x+lvd3B9evXadTWsU2zDKVpNhH6F2gxNhOU80fWNb7NlszP2N/wPIGFv6e8poTostfJt0wno/ANdugWE1m3mAzj40TJv2Gv/jnk5jn4532IyjyLw4p1HDM9xmHjY4TrF3HY+Ch7m5+hwDKNhKIV6OwTOGachzgznCqbBwHapeRbplNomU5iywJqrNPR2D0wtU7A0OqB1PQYMsM8TrVN5mL7FNocnlxqn0ypdQrm1ofoaJtEV/tUam1T6T4+ha52T64fn0aOeS47i96lsnbgFfm7uX1htIyrAAzfhFdC4JiKR/gmQQAKCNxnCCuAv2FGGih4rEQPIPKiJTsGdIgYijvJtDLcittgXL16dUgB6G5iGw1OIXb16lXyyrKG7J/z+fRPy1dW0yvMdM3aYa8XKFlDmNjfFV9Qnn+MVGUCEeJApDl9Q4e4xww84OY84l2+mgOqRKJk/3TFCkxV7iVAsoYgbW+qNoC16reR5x+jrKaEy5cvEyb2R9ukobOzk6OZ8ezUv0yKIo4I2XdcvnyZDLk3cYqvOJS1n0TZJhQFYtLqfkeIbjGXL19mV/E7xEs3EVj9Jjul/+Sg8QmSZevYpXuJA4YnSWxZgL9mKb7q5UTqF5Km/IKDxseJkn9LfNNzKM2zKbDMINM8k1zzXI4YHyW+5mXkprmozLPINs9Eb5+CsXUihw1PUmXzIqzqNY5lfkK5dQrG1gdRmWchNz2MsXUirY7JHFX9jTLrNPT2B5Fkf0StbQY1Nk/Ot3lwsd2La8enIjU+yo0T09HapnIocy+pLU8BoCgQ05/8smwO3XLQGqj+XjGeAnBS2CY84wPHVCaFCQJQQOB+Y9QC8OLFiyPeU3YvwnuMJ/ll2b92F0bE2qKPR3TcvTRVu8+JgebHYIIrRLJ2xNe4cePGoEF2Bzx+GBNwsNi3z/vB9id2dXWRkZkyYF2IZO1tz98Z0809DmD/+/ct+JjLly+77j9cHIC2SeO6P+cKXf/nE5vzUZ+2nNfwqVjFZsVX6Ft07BH74VvQ26fc0ix8KlYT7haM2xn+pqenhwR5b3qzoJo30ejVbK1aTnpmEl1dXS5h6DQ3b6peyYasv5CqTGBd1bv09PQQIP3RtaJY11CBtknD4aYniat7mTDdi6RlfkKSYQEHlHvxrV/J1qrlJMujEDfOI8s8E1/1ctYW/oHAhtc4WPQaR4yPUmiZSpZlBoHaVxEbH2FT4xtkmmeiKFnMTt0Sam0eKE2zOGZ6hFTDPCqsXijNsymzTqbK5kl2y6NkW2ZgbX0Qc+sDGFonUG2didw8m842T/IsM6myeZBhfJxdupepsXnQ3DqBdseDdB+fwrXjU2l1PECj9VFCJGvHbK24F9YOQQAKCAiMFWEF8B7gDPB7r6nX3B7jbaw458Kdptdzn0uD5TEdiv4hTmrV1a7Xo11x7C8A+5+fKI8etg33648W9/FxrvaVVhdzNCcdgAj5N9Sqq7l06RJFZb94FFusZi5evEiiPJokeTTB4rXomrVkFyvo7OzsE24mVPoD8Yrv2HkrTaAz4LMk7zC16mrCxQEoCiQuMQcgz03Fr3IFJ0+e4MSJX1LkASTLNqFr1rJDvA7foo/IUO4hr0RGmnIfe2U/sbVqBbHSnWxreJPsYgU7sz5hT+1Smlsa8SlfTaoygVRlAttq3maT8gsSmp8lUPoDgZI1qMyzSCp/lUT5vwiufQ0/zTK2a5dQZfOiye5JkWUOKdkfslXzGtnFClIMT5NmmEeZdSo6+wSOVCyizDqVXMtMMvPT+Xe7FxLTXEqtk0kqeYtS6xQSWp6l2jYVc+skmu0TUZnn0NnuRZ1tJiWWh8mzPEpL6yT0dk+KrNOQGOZztq1X+J10zOKkYyJXjk/lcrsXJxyT2KZZxjr126Ma95Gs7Dq50/k1rgJwzyY84wLHVCbtEQSggMD9xl0RgL+VlbL/JpzZHe42d/M/CwMJxAhx4F1r3ykAVYXSER0/0J6uRHn0bWF7hjNLO+vd7+9I9gHKa0pczy+/PIe6xhpXfZpyH+W3TMM5pZmEiNe66oMlvSuVoeJNdHZ2ckDuD0BdYw2J8mhXPfzy/K5du0aiPIqcEpWrPkIcRE6JipwSFdL8I+SUqDio3E2Q2JtY6U7CVJ9SVlNCgGQN2ypXUtdYQ4T8W3p6etC36PAr+KC3fyUqopV/o66xBm/1SraLf2aHbjGpygTCMz8lQPsq/tIf2KT8gnBxAD5V7xOse4XIphdILF9KTNML5BUcQGmeTajuZXIsD5Ei/xd7apaSXrEYpXk22ebZhOsXojTPJskwn7SWeRRYZpPYMp86myf5lunkFb2K1v4g/tqlVFonU2adygHDk0Q3/Y7TbVNpafWg3eGBvXUiBw1PUmubTHzTc1hbJ1Bjm8YJhydS0yPU2Dw51zaVVsckzrZ5cPmWN3CtbQ5B2iWktDzdZ3yPZKcPOf7jwbgKwN2b8YwNGlOZtHuzIAAFBO4zhBVAgUEZSao5d3HkdPw4mJk8qusMt5neOT+3yP/OZvnXI27XfQXw8uXLrpWZ/nvyRovz/txNyIMF6r527ZrLHOvEacItKM8hRNxr4k1T7kOjV3Pjxg1ipTtdcfwuXbpEZ2cnMZIdXL9+na6uLvYr4l31AGvL3wd+eY7O/vlUrgJwXV/XrEXbpCFRHkVc2Wsu869vwcdkZO1ng+qzW+F+Eogtex15/lFiFF/Q2dmJd/X7RBW8h0/ZKg5mJrO2YSU5JSr2NCxxXdu77l0uXLhAqP5lWh2tyPOPoso/SFtbKxnKPeiatWSaZuGrXo7MNIcc8wz2tSxgb8szxGteoNw6mb0tz5AsjyDfMp39LU+RU3CA1JanSDbMp8rmQaXVk3KrFz5lqzjh8EBj96CtrZUGmyeN9olkm2dQafOi3uZJq+MBtPYHsbVOwNb6IMbWiWyqXkmhZSqW1geQmOais0+i2uZBo30SbY4JnG/z4mSbB11tHhwxPo4s7zBK8yzX8wOIle4cdG4Mts1iuEDuow3VJAhAAQGBsfIfJwCdsbqG2+TvXj9WQSAwOAOZw5wrXf1JUcS5Xg+3f7T/+GYVK25zVhluD2B/U70s/6grvh5w235DZ8Dliroy1x90d9NtiiIOad6RQe/Pmbqtfwq6wOo3AfAp+dD12VDzN025z/X6SHa6a/7K8o+ibdKg0auJEAehb9ERLg6gu7ubvbJwAHTNGrKLFSTVLSSnRMUu2fd4l69mv3w9KYo4oiTBaPRqrl69Sqx0J9nFCiRZ+8hQxffeo3wrkU0v0NHRgSw3hTDZPwjTL2JD5mfEyX7goDKSWElvNphg6Q94q1dyUBnGFvk3hOkXkSbfQpzEj4PKPRSXKUiQ/tzr3dv8LLGS7exveYr92b8nrvk5EpV/44jp0Vux/KZSbp1KhfURjpkeYbt2CeXWyYiLl5JieBpz64PkmBaQJt+KsdULtW0a5dYpyE2PIFH+gKF1AofrXqBG8yiV1qkUWaeitU+j0T6JKtsULK0PoLVPxtg6jWpbb0DoLPMsrDYLu/Uvup7vQOMz2P7Q0TIa7/hx9QLetRmvmKAxFY9dggAUELjfGFYA3qkX5mjYIv/7Pb/GnTDcvf+aYSAG4vLly7c5NtxtTBbjqI53f4bO2GjS/CPjEgaovwDsLyojJdtvO6d/zMELFy645qf78x2o/+6x37q6ugZsH2C/oldMWW0Wdh7bhLZJ4xKXZktvKB/naqrVZkGj7w1S7cxhvF8Rf1uYnTNnTmMwtRAs9iVNGc+mzM+w2iyuc9raHazP+TNb8npXA2Oy/kTosY0A6JsbiZL9E4OpGe/q9zlz5jTaJg3lNSVYbRai81a5nEhMFiPxUn82Zv2VAMkaNLoGvMtXk66MJLrxJZLyV+Bb+Ae81SvwVq9km2YZ26rfZoduMds0y9jXsoAQ3SsUWqaRaphHmXU6SYYFxJcvI7sgg5zCwyQ2L6C6toi9Lc+QbpxHkPZVDsg3k9KyAI39QfZK/Yhtfh5ZZhiZ5pm0OyaTLPcj1zKDEutDaOwe7NQtJss8G4lxLpbWCbTYJ+JwTKXJPpkc82yOGh9HZ5+AvdUTnd2DC22TuNTuhcMxgbNtE2lzTKC0TEq89Gc2ZH424Pi5k+L2Hwf38RsK9/8ojNZDflwF4M7NeEUHjal47BQEoIDA/cZ9swLoDE9xL/m18/neD/TPUXqne+7uRMA5n3//sd6s/GrEbYwm1qErq4ObWc5sHTxu3lD1/Z0lWoy3z6UrV64M277z+Xd1ddHqaO3NWXyrf9sl3ly5cmXA74I074irf2fPne1z/Rs3bnDixHHMVhNmq4md5cvZpPzStYLZbGhifdZfMJiauXLlCuvLVnHjxg26uro4mpNOZ2cnZ8+dJVb5BVeuXHGtUIbVLSFVuZfNyq84ceI4+WWZqIpkpCnjySpcSlGpjFT5D+xreYY4+T8J0y8ipuQtwiXe+KqXs6VqOfoWHUdbHie48i38cj8mTL2YmObnbwWH3kBnZyeFpulEN/2OmObnSdY+S2LLAoosU5GYHmaL5nVSDE9TYp2CzDSX1tbpVFhncMT4BJnmWaQZnsRfs5SW1gkcNj6Gzt77b11DOc12D/boXiTLPIM8y3QydPOJ1L+EqXUiZVYvjK2enHQ8SL1tEiccD6K1P8j5tklcbJ+MtfUBjmbGkqrcy8aqlbeNhzv956/7KvJofltHY4kQBKCAgMBYGVcBOJLcmcMxWF7We8VQ+V7vJiNNWfbfxmCCyhlq5VhuxoD1MLpUcKNhuLR1Tpxp2NxxCsk46W5ySlR9+u+e4cS7+n3X6zjpLipqCjl1+hTi3AzKakro6OjAYjW7RF5lXfmAfUhRxHHlyhUq68qR5B4iSR7tikMYK93JPlkkqfIgV97fJHk0KYo4Ll++zLGcg+wqfIft9a+xS/U3jp9oR9/cSIO2nsOqSAIla4iU+pAm9+2NDygO4vSZ0wRoX8VHvYJd+peIlP+dRFkEKYo4dulfIt34JAlSf9KNTxDetJDYkreIEPsRoV+Izu7FLv1LVNo8SW58nrjiN5GaHmN/y9MktswnqWU+NbbJxDU/h8o8i+SWBYhNj5DeMh+F6TEy5Gs5ZnqENMNTNNgmUmadSrFlOpnmWVhbezOHHDU9yhbN61TavCgxP4be7sUxw3y09omcaZvIuTZP6q2P0tXuQZriewIlaziof2rI34E46a7bxm84Ojo6RnzsQIyrAAzdglfU9jEVj9AtggAUELjPuG9WAO81h7NS71pb/U2Jv0ZWE3cnACdj/aMyHO5mrbGYv+OkuwdMcO/e//71g228d9887+yfc3/enQhAZ9aTgVbhOjo6BjXtpSn3sVX+LefPnwcGfj5b5d/2eV9Qnntb+82Gpj4heNw97Pvfn5ObN2+6ns/58+eJk+7mwoUL7BCv73XgqH/HdeyZs2fYK4tgXd6fiFF85fru+1b2Cs4Wg5446W5u3rzJmbNniFH8nbXqtzlz9gxb5d9y/fp1jmRGs6HiPfykP9Dd3Y1vyQdcvHiRTRXv4q1ewZmzZ/ApX02AZA37W55CZZ5JoiyCA4Z5pBqeIlW7AJnmSZINT3PQ+AQ2m5mjpkfxVq8k3fAEct2TnDl7BnnO71GZZ5FqeIqjyh0cND5JjnkG+ZbpJBueJi3zYw4ZH6dQN5uEpmdJa3qaYO0SjpkeQWWeSY55BrmWh6i1eVJh9UJheJh8yyxqbV5YWh+g0DKNettDVFo9aW6dgMMxAVPrBCqs0+k5Po3s/FQCb2WLcf/9iBsg9+9Qe1Z/63EAPXZswSty+5iKxw5BAAoI3G+MSgBW1VeM+YdroJWKkXib3gvUt/ZH3QnD5Y8triy447bvBtvF3n3eHxrAC3EsMe7u5P6c+wFtrbY+nxe5tbVH7HfHfXKnp6fn9jiAA+zp1Ojq+rzv/8f65KmTwMhXgveI/W67P3d2iNe7Xteqq2+bgzvE6/GX/kBxZQEBkjVodXV9vh/e6pVkFSvo6Ojoc36yLMgVsBl656fT8QN6w844+xchDnK16VxJTVPuw1/6AxsyPyP0lgjeK93Atsy/UlqVS6vDhtVmQdukIaLkbfLLc4hoWshm5Vesq1/J+uxPkeelk65KpMXYTErL0+ytfplY5d+4dOkS/oWrOKjaR6TiCw4bH8OnfDWnT5/CX7OUnCIxqYZ5bKlaSZJhPvHNz7JW/TY7Mz9hS+ZnRDS8wjbNMnboXuGg4XGKLdPx1y5FZnqYY8YnyTbPptQ6HXnl8+RapnPM+ChZlhmYWh9AWf80xlZPDsj/hSwrhoPGJ8g0PUy9bRI55llkmR/B0PoAbY4HcDgmorNPRGefQql1KoeMTxCa8zF+sn8M+P0ZiUXj5KmTd+33zf33VxCAAgICY2XcVgD7r3aMN41jEHu/Zdw9a+810ZIdd3Re//l3t+JKugvA/s4rTgcId9yF20jiKLpv/O8/v9wDWmcVKziWm+Fq32g24FO+us/xzvOd2UjcVwGdq0vRkh0oCiWI3czG7cfbyCpWYLIY+6ygXrx40ZXreK9sDQmyX8YmVroTSd5h13tFoQSTxUi0ZAdr8z9GUSgBIEL/AoGSNXjXvktBeS4dHR042uzkl2WTXazg+In2W6bgn9imWUZoyTskK2JZl/tnOjo6iCp/nU2Nb7C7dhlxxW+yvvEt9uhfJELqg496OfHSQHbqXiK36WGiml4gRP53Ug1PEZb7AR0dHdTZJuGtXonCPJsAzTIqdXMosEwjvvlZqm2eHCl8A1n+m2RZZpDWMh+JaS555tnENj9HYst8jK1e5Jln0GyeTqHlIQos0xCbHqHUMpMG2ySa7ZPIMc+hxuaJtfUB8i2zMLRO4ITDi57j09ip+pT6xlri5d8NOxfcuddxUTV69fgKwJAteEVsH1PxCBEEoIDA/cZ/jQn4fuVeBWy+m4w2b+7dWvG4cePGqNLXaZsaXa99iz/qIwB7enpuM5u7r5JGSYJH3T/n+e7PZ5PqiwGPdT4Tp8nat/gjstxE4vXr1139Hyj38vXr1/vk+nXifD79x8gpBoMlPsTXv4h39XvcvHmTmzdv0tPTg0/5arxr33WdHyUJZoPqM27evMnhzGh8y1fhXddrOo7XvECKIo4NWZ+RXvQaAN7V77Fd7E12sQLv6vfo6emhXlNLTO4q4rQvcPXqVVSFUkLUS13986lfiXf1e733r16Od/V7hDctJLFlAVGSYHzUK9iQ9VeSZBsoNjxEVrGCiKaFeFe/x9WrVzlsfBxpyWJ86t5BbpqDX8ObZJrmsLdhERlN85A2P0qu5SFU5lm0mL04mvUHfOtXcqHNgxLLQ0Q3/w4/zTKSDAtIMzyFyjSH444HSTE8TZXNg5MOLxpsHmSbZ6O3TyDX8hC5xWISWp4dZAYMz70MyC4aLwEYvAWv8O1jKh7BggAUELjfEATgfwnD5dB11u+VRfT5fCDRUdNQNaJrOgXNnXgad3d3Y3fYR32eO3fbCcTRNnSoDvf6CHEQ2qZGiirygb7Pv//zixAHEifdjaPNcdvzt7Xa2C3e4jrfGUvQfe/jlStXqK6vJFWZQKTsO0qqCtkt3gL0xqjbI+6Ny7dB9Rm7xVtc5szSylxXDLtwcQBnz51F26Rx9e9gZjK7cz/kYGYy+hYd4uxec3GcdDf7dM9zQBnJoaz9+Na+y15ZBGfPneXc+XOucyPze1c542U/sUv5Obuq3kCcnURI7kd417xLqG4xcc3PEa99gXBxAAfkgexVfM0e/YtUW2fgr1lKfMG7JBvmcyhrPzt0i9kt3kJ49h9R6B8jTroOseJHl+dvhuEJ9rfM51jOKvaoF7M1+1MKLQ9RaJlKRP775FseosAyg4LSV9nY+BZF1mmEFL9HtnkOdbZJlFjmUGiZxmnHg5xr8yBK+ZlrfAZjIHO/8/k55+9Q3r3O80eT4xoEASggIDB2/uMFYIwkdMxt3Gle3N8i7pk9BvMsHQl+0u+HrB8sj7G2qZE05d47vq47oxWATvPrSImW7CBQsmbYmG+bFb+ECemfVs5Z1z/MjJ/0e5dJ3X3+7Ti2vs9xFbWlrutrmzSYrSZsrTauX7/exyS/XxHVp53r16+zWfEVMZJQNiu+orahEvjF6/r69etU1pW7+pem3Ie+uZEdx9aTptzL5sp3+rRva7URp34J76r3sbXaKKkq5KAyHHlOIltVn7Ox4A/sKXyHQO2rBBe/xzb5d8Rnf0Ro1Zv4yf5BeMUbhOV+gL65kb0tz3DM9AiVdeXUNFSxTfU3UpVfoMhNwy//I9KNT3Cs4A38tUs5qNxDbOYnpBqe4rDxMcTFrxKmX0RRRR7F1mkUmmehMs2m0uaF1j6J/S1PUWjpDQuzR/8ih4yPs0v3MnbHA1TZPGl3zKLa5om9dQZHlHv6POvhYmBqmzS3fX9G+vsz2jk/rgJw+1a8woLHVDy2bxUEoIDAfcYdCcChQm84GcwUJnDvGCg23b3i1x7f9Tm3exH3xykAN6r+NmC9M2vMcDj/8A93zRZjc59g0E7B5e4w1N3d7fr+7BFvva2N/inBBnKKcZ7v7I/Fau4jTjo6Olym3T1iPzaq/saOwlVE5vWuyEVJglmf8wn5pb17B602kysLiclidLV78eJFAiVrMFmMHFRsxGwxUlyZx15ZCJ2dnUhyD3Hx4kW8698hShLsOtanfDVr61cQrfiajMwkNlS9ww7xBlodrfjJvudYZiSN2hp2SL/HX/Yt8U2/I77mFaI1i9ic+ydCKt5mfc4nHDE+SnpmEr7q5eyVhrC58Q0im17gsOEptmpeI1S3mED5N5RZJ3NI+Xfk5jnsK1xBlnkmam0tB41PskPxFVLTw6QZ5nHQ+AS1Nk+a7B6sz/mESP0LtDo8qLJ5UmH1pMY2lUrrZM63TcTW+gDbta/0cdrpz0DjN16MpwD0DNrK5D3BYyqeQYIAFBC43/iPXwGE0e9h+61zrzeh3ylHsg+M6/VGugLonB/9V+Gc9DfL1jXWjKofI5l/ak016aqkQT1LiyoLSFcl9fksXrqbvbLwPu3vk0W6XqsKpb/0uaGCneLNQK8TyJUrV4jvF84kSR5xq40Q0hW72SfbiTT/iMuRKFEWRlbuXvbJQvBVL2d9zqdAr6AMU37OPtkGTp0+RajiSxJlEYQWrCJeuptQ3cv4S38kTL+IJNkGNiu+xke9gvCilRwzPcI+ze+IU37OkdrniGt6jrjm50iVb+eA4SkOGp4gpul5kmQb2SPeSJp8LSl573FAHkhs8/OENy0iVPcyeZaHiJf5IDbNRa78mTrbJGRlLxLb/Dw7GpaSZZmJ1j6RQzW/I6LpBZIN8zlsfIxCy3TaHBOotU0iyzITU+skUrI+psQ6hSCxNyHiteyTRZKhih90fgzFvfpPmSAABQQExsr/EYlEdBim/pI1QShCEYpQhHJflw7D1PETgIFbmbw7eEzFM1AQgAIC9xuCABSKUIQilN9YEQSggIDAWBEEoFCEIhSh/MaKIAAFBATGiiAAhSIUoQjlN1bGUwB6BW5lyq7gMRUvQQAKCNx3CAJQKEIRilB+Y2VcBWDANqbsDBlT8QrYJghAAYH7DEEACkUoQhHKb6wIAlBAQGCsCAJQKEIRilB+Y2VcBaD/NqaEhoypePkLAlBA4H7jPzYO4FDpl+427rHX7hcS5VG/dhdu4+TJE67XzvFRusWqAziclQpAiiK2z+c16pGln3PH+cdyNHEgndd3Z7DzjWaD63WCNGzE16hrrCFFEUtmQUaf9g9np912rMHSn9gfAAAgAElEQVTUwtWrV10p5aBvKrn+cebSM5MoqixwvZflHyVZEUuNuorD2WmkZ/bGEkxRxJJdeNR1fqIslHjpblccwhRFLGny4D7jo9GrSc9MIkEaRvSt3Mm7Ct7ngGInIbLvOJydxslTJymqLHDl/F2f8ymdnZ0ky0JcKelCZN+QLPdjryyCcOkaQhqWsVXzGnHS3RyoeYFg+d9J180nVbGLUMkaDuqfxlu9koTmZwkXbyRSv5BYaSihhasIk/2TUN3LxKs+Jb5yCQnSXchMc8nQPY3SPId0xQ7yLbOIb36WxJYFHDU+SpphHh0dHWSaZ7NL/xK1Ng+OmB6lwuqJuG4BpdZpKJXr2Nz4Oi3GZtf4nDx1csRjfK8ZzziAXn7bmLIjZEzFy08QgAIC9xu/aQG4+1eMxH8vuXDhwl1tzz0TxXgz1jR6TtFwJzgFYH+GE+z7ZJFYrOYB6xxtDlKVCa5MG2PBff4ey+mbXcdqt7peDzR+GzM/4+TJE1y8eJENmZ9x5uyZPun3Bst+4i/9kWM5BwEoqSoEejOJuM+5fbLI287PyU8hQPIvoDfPMfQK+t1F7wCQoYzET/o93jXvcuHCBTR6NYezUohR/ZXY/Pex2kyUVuYS3/ws+xWx7G16jk2Nb7A290/cuHGDzLz9tLU7iG9+lihJMBkNC4hU/ZW0slfIUC/gwoULlFdmE6ddSLh+IXGlb6DISWBT4xtszPsjMZIg9rU8Q3zzs6zN/RNaXR3HspII0i5hU+MbJDQ/g7T0JQ4ZH2en/iUOGOZxNOc9ovQvsE79NgWWaYTqFlNvm8QBwzzKrJPxVq9EknsIm9tYjBfDzS9BAAoICIyV+0IADpdL9b+V0WYR0OjVQF/xcDcYiYhT9VvJG47RitITJwfPwjDY/BlMALpTUVfmeu18fgC16mrOnT83qj72b8OdNOW+28Znl3hLn3rXa1Xv6xhJKOfOn8NP+sNt7dWqqwe89qVLl4gQB1GrrnbloY1V/ZU05T6q6itcx/pJfyBGEkp2sQI/6Q/Y7Fa0+gY2K74mRrLDdU3nM3Dm/dXqG1z9azE2c+78OTYrvyJZEYPJYnTdY1V9BbvEW4iV7gQguOg9pDmpbNa8TrDEB5/y1RxQhFFdX060biGbFV/jrV7JAcV3xCu+Y13dit6+Z/+BkqpC0uTr2Jz1Vw4YnyRCHORqf5tmGVE5H+GnWYY8N5VjuRlszP8DEU0LyVDuJrb5eQor8khQ/J2ophdYn/dHMoyPk2+ewW79iyTKo0jPW0GxdQp1Ng+y81M4bHicuObnCNG9wqGs/QM+/6EY7vs30hSEQzGeAnDytm1MDQkZU5m8TRCAAgL3G/eFABS4c+wO+6/dhXuGuynTSYJs5KbWkQjAkXDt2rUhTdDXrl2747aL3e7R3QQcLg4AekWdOPcQAJKcFJcgc9YPRIQ4iO7ubtIzk7A77OyseQ2As+fOcjgzznXNw9lpiLP3AqAoEANwQLHD1Y7dYaesKg/oa4LfJd7MHvFWckpUBMq+cX3e1tZKW7sDgEuXLrmu0dnZSWl1EWfPnSW69hWOZEazS+JLQamc8Nzfk5Xfa3aPqn6VsKZFKAokdHR0EC0J4bAqjN36l9iieZ2z587iq15OqOJLfNTL2a5bQqSkN73dfsNT7NG/yAFFMFHNv8NXvZxA+bcklC0jQ/c0cU3PE9G0kOTmBRw0PEGmeSZi42NsL3qP8KZF5FumkWeZgcL4KBnGx6myeeKtXondYb8jS4Pz/u8V4yoAt25janDImMrkrYIAFBC43xAE4G+QA6p9wx80QnJKVHetLW1T45D1N2/eHLK+p6dnwM/7z8+B7t9plnSnvwDsf/3c0qwh+3OnOM13gZKfXJ+lZyZRr6kDBl6xTM9MoqenB12zlqOZsbfVQ2//tU0a13v359XfZOhTvvq29rVNjfT09BAmDqCjo+M24Xrz5k3XZ6dv7QXMKVFx7dq1Ps/3gGofHR0dBEp+IqdIjG/FKq5fv45Gr0atq2ef7jk6OjrYpllGgORfdHZ2cu3aNbRNjcTkv+fKLXzz5k1ySlT4ln5AuDiATaov0Ojq8a57B9+GFWQWyVG2PExnZyfede9QapmGf8PrREmCuXbtGplFcq5du4bMNAfv2nfxVq9Ao6snRRGHb/lq8ktk7NYs5uzZMyS2LMBbvYKmZg3e6hVIGufhp1lGjc2TFMPTZFlmordP4KjxCUqsU1CZZ5Km+gsA3g0rAdik+mLAcfk1EASggIDAWBEE4DDsVyb82l0YFHfzZX9Gu/euoDx3rN0BoKOjY0znx0h2DH/QCLkbK4CVdeW3fdaoaxh1OwXluWxQfTZovTi3dw/gSO7feX3n+O8UbwKgsCLPVR8s9iVVmUBlXTmXL18GesdGnn/M1U6Dtp62dofrs93ira554BSCRzKjXO3HSEIpKM91icHqulLa2h0Ei31R6+oJkn2Hr3p5H7FYWVeOd/lqDim2YXfYCZZ9y7a8j9lV/ypbMz8jUbqVYLEv4eIASipz8JP+gFZfjzI/nezCQyTIvyOr4DAHDE/iJ/2B8NolRDa9wN66F4mS/UiqfBPXrl1jv+EpAivfZrt2Cdtl/2BfyzOkyjcjN80hQfF3dim+xl+7lK2a14jNe5+1tSsJUH7JZs3r5BZmoDDPRm56GLl5DiXWKUhMc/FWr6S6vmxMK7z3inEVgFu2MXV7yJjK5C2CABQQWC0SiYpEIlGnSCS6IRKJ/ke/+kdFIlGhSCS6KBKJ2kQi0YYB2tgkEonaRSLRv0UiUYFIJHr4DtpwIghAgfuC7BLlHZ1X01A1qLltNAIwI2s/0NfpxCmo+q9MSrMTgb7m6ER5NABdXV0AlFYXDXgdZz1AuqrXI9fpjAFQXV/pej2Q0JTkHcZgaiZI8jMJsjD2ysL7nA+QXaygp6fHVZ9ToiJRHs0esR97xNv6bBtwXiMjaz+Rys9d5/tUrQLg1OlTlFQV0uqwYbGakeQdZof0R9e5O3P/QGdnp8sk7Sf9gUDJGoIkPxOg+oyNmX/Dp+p91ud8SrD8G7RNGlKVCQRpl7BZ+RWbNW+QU6LCT/oDXV1dBMu+IbXlKXKKJezJ/ZC9snDyi8W0OmwcyltJrOqvyLIi8FUvByA4+4+UVOaQJv+JPfoX2VOyghhJAFurV7C/dhFHjI+RXyzmqHInIaq/EKJbTJJhAYeMjxOqe5m16reJbvod2ZaHSDPMI675OZJa5tNkn0SibCenTp9yzS+L1XzH+2sNpqH38zrnnztOj+yBGE8BOGXzNqYFhYypTNksCEABgSWiXhH4Z9HtAvB/i0Si4yKRaKtIJPp/RCLRXJFI5BCJRN+5HfMvkUhkF4lEc0Qi0f8rEon8RL0i73+Nog13xiwAQ8UbgV/X03S80Lfofu0u3BVGM1Z32yN5KNyF1lDm4njp7gH75X7+utw/uwTgurxPBmxnh3j9bZ+5O34Mde+nz5wetM6d/PIc1+uRzp946e4Br7VN9h3nzp9zjV9hRR6h4o3ElrzlOranp4dUZQK+JR+SIP+RvBIZcPuYX7hwgQsXLiDLPwr07tVz9i+k/G2g9/lkFytYl/cnoiRBrM/6C+fOnyNeupubN28SLPYlu1jhEoA9PT1E6l4kRLe49z60CwmQ/kBCwyLCxQFU1JYCECUJxmQ2IG96nOxiBWtLfo+vejllVQU0G5qIlmxnXe4n+JSvYrf+RXxKPuSwKhqtvoGopt8RJQnkwoULhIh9SFD8A4vVxEHFTjZm/YWy6iJOnz6FydyCKi8NP80yurq68FUvJ0j7KjLzHPboX+T06VNs0ywjrHYpe1ueIc0wj6Omx5CY5pIo86GjzZMA6T84dfpUH9HuxDk/nb9/A4XwGQvrcv88ZL0gAAUEfrssEt0uAP8kEolO9vvsW5FIZHR7bxGJRH93e/9/i0SiUyKR6KNRtOGOsAI4Rppa9L92F+570pT7yCnNvO1zs9V0167h7uHqZKgVQKdZdCS4e+gOVX/8RDvHcjOGPNZdOAZI1gx4jNPs7Nyf6YyZmKrcO2i7zud74kSvt/Tly5cJlPxEU4t+wJiYzth2+SWyPvd3RBXtWtmMloSQrozEu3w1pdVFLu/VyrpykhWxHMvJIF0ZSZpyH9GSEGKrXuX0mdOkq+JIkW8jVRHN9tyPgN7xCRVvQNukobS6mHjpHvZI1nJAHkhQwzI2Nb5BtMSfXbqXqK0vJULsT4bCnw3ZfyG89lWS5aFE5q7mzJnT7Mn5iBhJCHklSnbfEpzRii+JaX6e7RW9JujQhleJlnqzvvGtW3EINxJYtpL1pavZl/cOO3SLSZb/kxTDUyQb5pNnmU6FdSr5lhnU2Sajts0mr1hKfomsz+/jcMJ/uPEfiqG8g/t/f8ZVAG7yY1rgjjGVKZv8BAEoIHCLgQTgDpFIpOx33LO3jvvfot4vzk2RSLSg3zGZIpEoeIRt9EcQgPcxYWL/cblOfweCZEXMuFx3KO5GnL073QMoueV1OxCB4l7HjjvtnzN4dP/v3EAis7S62HUtad4RgiQ/96kfaGUKelcxNym/7FMvzTvS55gadRUBkjV0dXXRoKnj3PlzNBuagN777+zspK2tFegNOXNQuZsWg56sYgUnT52ks7OTMLE/YeIAbty4Qbg4gCDJz6zL/TPRkh1EFa2kq6uLrq4uNim/5Nz5c1htZuIUX3Pu/Dl8yleTJNtAoGQNUbqF+BZ/xPrsv3D16lUOKiPo6OigxaAnQP4NPpWr8NcuJSLv9+ibGzl56iSHjY8iyz3A+uy/kF76Ksnyb8kukrBV8xqp8m1EF7zDkcx4UhXf469ZyvbKt9ha8CE+6hXsEK/Hp3w1fpplJGT9Cbl5Do32B9mje4n9hqdptk/G0TqFAMkaMjITiMn5cMTja7VZRnzsWBhXAbjRj2kBO8ZUpmwUBKCAgJOBBGCcSCRK63fcrFvHPSgSiSaJegXgzH7HHBCJRDEjbKM/oxKA7nHptsm/vWs/ZmMNFuzEvX+D/XH8LXIv4iQOFq9uPK7foK2/a22V1ZS4XhvNBoLFvq73dysMzBb5N8MfNAra2h0uL92ROs042nrDq5gsxiEdk9wdPi5cuEBZTQnXr19Hnn+sT+aSrq6uPsGuUxRxt1YN1/TZexYlCQEgVvYDe/QvklrwNm3tDirrytio+pxGbR1b5N/Q1tbK+uxP2aj6nFOnT6HRq6moLXXdn6PNgdFsILxoJbG5q9gi/5qY2sVEyb/h+vXrqLV1bMj5MwktzxIl+xGf8tVU1ZawUfU5Ddp6khWx+NW+SVjB+0RULqOjo4Nkw9NkKDbS2dnJ2oKPKSyVEFj3BqESHw7kvsdmzeukKaJJbXwWf+0yQnWLiStcQazEH719AhLTw4TpF1FZW0ySYQGFlofILsjA0DqRapsHPmWrXM/B6SjjFMn9cXeuuRf0b18QgAICv12EFUCBu8Ld3nvkatctJdp4ptW7m9wtAQiQWSQftv7M2TOu99HDePMOVH/m7BnOnjtLWU3JbSbqA6pex5Oz5866wu24j5Gzf8dPtN8Wjsd9/NYXfUhlXTkdHR3klWUReMsM7e5RnlWs4PLlyyTKo13zK1wcwJmzZ0hRxBEhDiJVuZe8siykOcl0d3eTLAvBt+QDdM0a9srCAdA1a8kpkRPd+CIA69Rvs0v6M4HaVzmclcoBVSL+hR/gq15OmOovnD17hjCxv6v/exR/J1j2D8LE/gRKfiJY7Mu5c2fJK5ZyOCuVkKJ3iW76HXtlPiQZFrC+8S3WN76FNDOCXeItpJS9Sljeajo7O9ki/4Y9ZW8TXbOEA6pEEpqfJaFgBRLTXJIM80kzzCO1ZQHxFa+SYXwCrX0iVrvVdf/DhThyZ6BjR3P+SBhPATh1gx/T/XeMqUzdIAhAAQEnAwnAP4pu37/3nWj4PYCnRSLRh6Now53/IxKJ+Prrr/n+++/5/vvvUanuXly4/1acGRgG4j/FkWS0ZGSm9Hk/lhXa7u7uER03WgHoHmMPRrZP0Ol4MtI+9ccZizBVmXDbSnh+Wbbrdf/2u7q6+vTPvd59/jmfs0/FqtvaDxb7EiJZS/vxNrq7u6nqF/LGef21RR+72q+uryRGEupa2cstzXLVV9aVs1nxNTt0i+no6GC7xNt1/e7ubmoaqtik7A3iDL3PrqenB5+KVXR3dxNZt5iLFy+yXxFHV1cXR02PuPqys2EJG7M+I9kwnxhJKI62VuIUXxKj/IKy+scJ1r1CZN1iCi3TSFfuASBe8Q2y/CP4VKwmqP41tqpfp7q+kgzlbrwbVhIgWUNk00I2VL5HkmEB2ZYZKM2zqbJ5kGaYh7JQ6nrGIx3fu2XNGAiVSuX6nf7666/HTwCu92O6344xlanrBQEoIPA/RL3eu6+KegXg/7r1/v8S9a7QtYtEoi0ikej/E4lEj4hEolZRXw/eH0UikU3UG/rlf4pEIn9Rr5evuxfwcG248x+3AvhbvJc8tz/0d6/NgYMcO/eV3SlDnX8vPYZ1zdphj+nft/4CcKi+D7Z3a6CUa05OnjwxaN0O8TrqNbXUqqsJFq8dWR/s1kHn75Hs9D7v3YWGM0xJpGT7gPXQe3+Rku19QsAkyqP7ZBRxHz9n/385NooLFy64+tfR0UGiPJpNyi/p6ekhp0ROdrGC0GMbiZT6cu3aNWrV1dSqq7l06RKx0p1cuHCBQMkasosVZBcr2FKyii0lqwiW+LBX9hP+mqWUVhdjsZqJVX5OojyaZHkAPlXvc1CVgEavZrd4A+mKALzVK1BrajiaGYu/5J+ENy1kf/kSvNUrCZV9R5jmZTaXrCJFHkCM4nMOGp4gQfElCeXLyChbzFr12+zO/pgUeSDy/CMozLOJ0C9if/YHFJQuRmp6GLWmBoA9mpcHHbNfi3FdARQEoIDAXeFPol4z7o1bxfl64a36uaLeOIGXRL3hXNYN0MZGkUh0QtQb569AdHscwJG04eQ/TgD+p3AvVhJ+jaT2Qwmo/vUDZfMYDf0F6EhWAJ3XH87Td6S470lMlEe5RKJ71pHUIfbwldWUuDw+6xprSJRHu1YZ+99ffwGaU6Kis7PT5T1c11jjuj/nZ52dnVhtFi5evEhdY6/ACZb4om/RUX6r7/29ky9dukSiPMp1fooignDtS2wpXUXa/8/eewZHdaV7v/2eW7du3bfeulX3/XLPOTO2ZxzHaTy2xzliGwfAYGEbPA7jwOAANg5jY7cEyghJgBIKoABCAUkIhHbnVktq5ZxaLbVyAAkJkxQQSYB/90OzN93KQkLIdv+qdtXuvfZecXfrr7XW8zy6WHIKNWQVaAmrfIVAwZ2OzjZ8FevZpw1hj3onxiIDlqZ6Og91SPVQGtMwFmrwU6zHu2YxG40fEqP6kSTdxwQov0VR+zAxms/YnvkBQVWvECb44qtYT1aBjjRDCrpcBcm6PXjULra2Ies9nItXskn9FfFFL5PU/DBBGR+y2fwKvsrviGp4ipC85Wyrf5FIpTP+ym9IUfsQl/UmAwMDJBe/hKrtHlJb/kZm250Utd2Lh/Zzqs2VXLx4kTRD8viDPglbFS6T3zRN5lQAbvThjk0BMzpu3egQgA4czDccAnCa/FqMS37NYyq6KJmqCB6vrZMJQFuDkZHlbzB+QM4VH37yEWHVxnv+9OnTNDRZSNTEjLpXXEKcyG3QWLOc480Oi2LQkK8BxnYkLOKS88G4aSJnz57FS/3l1SXj4hVS+wYGBohTeeBRZg2Jtk8fT39/P76K9WQXGYgueZULFy4gNzlJ+fX19RGlWYMyOw15jRMXLlzAS/2lnfX00NAQ+3Uf0dXdJT27qXwZcpMTUZUvIDc5cebMGVxMy5CXv01k41NENT5JuOCPi2kZhSV6ojVr2N30OLFNjyE3OeFb8Tpp2kA8ahdjyEklt1BBd/dh+vv72WBaSmH7bYQpvOnqPkRc7VNk5SSTVv40pR03421+jS11CynpuIXSjlvIKc4ku8iAS84Hdsvt4p7K8d6fuWBOBeAGH+7wDpjRcesGhwB04GC+4RCADuYE0QnwVJlI0IiiZySiU2ORkQIwQRONMjttlAX0bIafG4mtqLOt33jti9dEUVJVxPnz56cUp3nk0jBYHUmnZiRKs1Zi+xI00Rw/cRw33WpSMxLJKswgTPAlVZ9ASWUhR3q67fKxLhtvkMTrsePHUGanUVJVRJI2lj3qHSRpY637BysLONLTzQ7FVpK0sYQI3lL+SdpY6husfe5S+A8M+Rqp/DRDCn7lSwgTfIlXbWJroRP+hg/ZrdpAVmEGUQ1Pom37C1GKTRzQRxOQ9R6GfA1xKg/CC97AtfZ1wmpeIEzwxcu8iLoGMzv0H+JcvJJ9LQ8SYnmedK07u41OHGz5K4maSLbrVuFX9zJ7m/+Ol/E9ctvvIbLxKZQaZyIbnkbIe4VdDU8Q1fjUtNy6TNU5+EjGev8m2kcMDgHowIGDmXPdBOC1zpRNFjLJwfxgNlyjjPfHdaw/pN1HrG5Qpvp+1DWYZ9UKeDJG1nnk+682ptPc2khza+OY7ZtIPNQ1mMd0MxKY7k5RRcGYPgnrGsz09/ePEsvu+k8JyLw6IxghXN03KIaFc9d/ak1TbJGshNXGdLYKLmwVXFAa03DXf0pHZ7t0784r7mLEGMTOJSuIUGwhLTOFTeVLpTQA32In6hrMRCi2EFj/AnG1T7FTsQ03/WqiNGuIV2+mtDKf2voaQnWrkFctJ0kbS1zOG7iYlpGiDcdssboS8lOsx6tmMYElS6izmNhueY496q+Rm94gRRvFbuNyKqvyUZQ/ydmzZ4lufJIEzQ6E1vvILNARof+Y+OZH2dv8MPtaHiS84VmaD99EacfNeJU6EZTuMa+iHLW2twBzLABdfLjDK2BGx60uDgHowMF8wzED+BtjpMuWw12Hb0g9PDVrZyWf8WLqToW5EICT1S9c8AOuOmK29cUn0tjcwImTJ0Zdt91PaGusAVaflxP9k3X58mW7vXxxV2IVi86k+/r6ONx1mIGBAXbmvAmAt+Ej3PSrcS58x278Ll++PKp+YtkDAwOcPn2aOPVOXDNWARBRsohKU7lk8e5qWMWJkyewNNXT1tFKui4E55IV+CrWEyh44Fy6gijlNto6Wtmc+U9ilP64Z36Ma8Yqdqi/BCBN+wWbld+TkafE0lSPpamenZq1RDY+RXVtOXEqP3S5Ctxrl+Bc+A4G8wO41y5mS/7bRFqewbfkDdwrnUguegm5yYnYpsfJKVSTaHiXgy33E6b8CRfTMuKaHiO56WE0bXfb9f9kjDV+15O5FIC3Oftwp2fAjI7bnB0C0IGD+cbvTgAKI0I1XatblhR93GxU51fFRBEy5hOiTztRAI504VFSVUT0iHi714ptOLuJQnmNhaFAO+V7xfjA480UmuqvOtcWhUtDk4W2jlailcHEKEOQm5xI0EQDEK/aREOThcwCHfGqTQD8fOxnNNnJdj4BAXZcsS7u6T2Cm361dN0/dyWBghsXLlwgRbuTnt4j0l4+/9LXpbLOnTtHSUUukYpAjh0/RmahnvPnzxOs+hr/nJWECpvZr4tgj3onQaWLySzUk6iJIrtAS1aBmhS1M7tVYQSXLCGseDHh+k8IszzLDsVWEtTeDAwMsKV+ITuKXyNAcGOb5nNUrfeyQ/0lIapvkZuc8K9bSETDM4RYnieu6VH8S18npflBUpofIqrhKcItzxDf+CjJzQ+R3PwwJZ230NhsFZrz0Q+mQwA6cOBgpvzuBKAtAYLrja6CgymwMfvDa3ruWmYAx4v0YGsEMFvi0RZbg5eR+f/yyy/SuVi/sVzu9PX10djcID0/1vtt276c4iwGBgbYWLgSZWYc3up1UtSX/v5+AgRXjEUGqfxLly5x6tQpADZmf8TAwAAXLlxgY/aHhAm+WJrqcSn4B2fPniWqfCG71P+2Orc+cZyhoSFKqoq4dOmStP8xQHAlpPYlNho/lOpfXFFAknqL1L6CYh3HTxxnrzaGovI8vDVrCalayImTJ3AuWcmm4uVENzxNsGUBXuZFeGSsIqrhSWIqX0CZncp2y/M4l6ywLu+WvUpJZQGK+odRtt7LwMAAmuxkPGuXEFPxIvntfyaw/kXCLc+S1X4HYPWFON5M60S/H7Yuc671/Z0IhwB04MDBTPldC0DbkFezzRZBft3ynoi5tFIWIz6Mh+nKnrKZMN08bNs/HQFoG0ZwJP6CfMJ0uOpmpfSKM2XRdctETPX98xfkkosXEXFf2kT9U2kqp6KmbNz0zcrvqKgpw3jF2llkr3aXFKoOIK80B4Cy6hLpOZFQwYczZ86w/4qoGxwcpPNwJ1sEOcmaQGkPoq9iPQMDA2wXfEhWb5YcSRsLVGxWfkeI4IWxOFN6Pka9DpeCd0lR+yEve5vNuSvw1Kxlk2YNe9W+nD59mrr6KnY1PUFo3QtsVn5HvaWGEMvzdB7uZHfT48SrAkjMWcpm1dckacIIznsTddvdHCx8mSj9x6RpNpOm30Ve+61sqXuJ/S1/I6f9DvI6bkPV+rcx+9dLs5bOw53j9ulc0Hm4E6+k7+ZOAMp9uNMjYEbHbXKHAHTgYL5hJwAnC1/lwMFsIy4TXg+uZQYwr8R4fSozQf5nz56VDDBsSdBESaJrJMPDw9K5uL9QJFYVIc0oJmiiJTc2OxUBHO46PGobhJhXiOBlt2dUlyuQWWAfAk9Mj9R8KcV0DhTcAasw2WC8amCyQ7GZsuoSMq6IQE2ugp2KbbS0NTM8PEyU4T00uQq2CRsIFNzYn5HIQUMimuxkAtPd2ZH1Dkd6uknP3Ee8egt+eSsItixAk6vAX7EeTa6CGKUvcU2PEqJeQ7ohngRNJBuzPmZoaIhQy3NEZa1kl/o7DhQvIDjzXVK1YWytf4n01vvZ0fAMQfUL2KX+Dt+6V9hoWkqo5Tky2+/E0H4n7rrPpNZaWPUAACAASURBVPGZbcTxqa6tHPeeibYUzOkMoEMAOnDwm+R3PQM4G2xVON/oKlwzY1mPzhYu+e8B9kJlKnjoPpcsSqfLyHirc2kFPJuI7d8iyKUZNHFp1kP3ud29Y7mKEe8dHh62S6+z1NgtJ8PVdyBM8MVsMVFbV4W86k3Onz9PTuFodzui6Ovr6yO3SCuNr+i70UP3Oc5Vb0ozfGL+8qo3qTZXUl1bSYTgh0v+u2QW6KT6+Ve/xi+//GKNK6yOIqZsIfLKNwmtX8DPx34mTuXKTuPbnD9/nsDalwCrBbBPzRIGBgYIsrxAXUMtyoIXSdWGc/RoL3HNj5KVdwC56Q3kpjcwW0y4mJYR0/gEG03L2Gp6he2mF4lrehR9211ktd+BrvVu4psfxdX0uuS8W2zbbCGOz0yYSwF4+08+3OUeMKPj9p8cAtCBg/nGDRWA13u2ZSRzbal3I9DlqWb0/MlTJ2epJrPLWNa2+/TxEz4zmQAc7/2baNl0Irq6u0ZdGxkDWUQM3zbRcmJeiXHS50Ums0berQoHrr4f6Vmp1DXUSj4Ri8tziFVFSOli/iGCF+mZ+yguz0GfZ50N1OYqrX729PGYLSbkxSvxVn1t134xqovaEMOFCxdI00eRla/g5KmTxKk8CRf82aePR25yslrf5i4lUuFLmOCHpdHMdmETbhmfsl3wZn9GIv5ZHxBsWcD+jESilSH4Vi0hqP4FwhueJUTwwjVjFWaLiY2m1wnUfIFv3StEGFeSXaDCv24hgZoviFZ/yc7i14jL+IAQ00uEWBaQ1PwQiZpvKSzPI6B0CanND6Jpu5uk5kek9yM9c9+EfXsjmHMB6BYwo8MhAB04mH9MSwAGCm7X91fNwQ2jt7dnTssbbxZkpLCZCeMJwCTtbgCaW5umlE9VbcW4/VNSWTiqLYcOd4y6T5urnFJZtlbFpVXFRCoCx+wr0SCjubUJH9U3Y6YDnDx5Ugr5VtdgxlOzRrrHdnZQrJ/Y/87FK9mturqPtbe3h7oGM/6Kn9hg/CcALW1Nkj9Iv7wVeGrWoMtTSX3lXPQOZZUFyKuWs0WQk56VSkaeknDBnyj9xyRqdrBL5cylS5fo7e3Bs3YRlkYzW/Pfwkf5LVkFOlwzPyai7nkO6qOoqCnDLftDwgV/8kuzcS9+Cy/zIpKNyzioccfTvBgv82skq71Rtd1DkiaCg9ogko3LqKwpxU2/moB0V7zNr7Gv+UEURQsI139MeMOzxDQ9wY6Gp1HUP0xpx81Ud/7Jrq9mE/H9mwkOAejAgYOZMqEALCjLnfEPlYPZxVfxw6zneT2Xgkcy0iXLbBGrigDs/R7OxRJw/hUDifHoPTq+sB4aGmK74CN99rPx29fe0UZxuXHUM82tTVJcXtt7RXwVP0iuYsTvr7vuU44dP4ZX9gdkFurp6+ujxlzF0NAQ+aU5nD59mjDBFz/Feml83PXW2TfbOokuYI4dP8bOgqUMDQ1Je9mOHT9GU0sjLW1NKPXhOBevZLvgTe/RHql+ZouJgtIsjh0/RntHGwcz9pBfmoO89G2StLFszPmACxcusK1k6ZW2rCdcu5rLly8TJvjimfsuhaVWg5Xa+hqGhoaIUf3AzoLXcS5eSb2lBmOhll1NT+Ba+zqt7S24lTnR1t5McP0CPCqXkVdi5KDWi/jmRwm2LGCP/p9EFSzB27yIqMYn8ahcyt6ap6itq2BoaMiu/eMxFUfR4vs5W8ypAPzRh7tcA2Z03P6jQwA6cDDfcOwBdDAtDmQkTZierNsz4zLEGSuRa9mDde7cuVkRgGM5bp5NxgtrN1V0eSoSNNF2y9ZVtRVjCo40Q/KY4zcwMECNuYIUndW3pbHIgHPxSpTZaVL7xfzd9KvZp4sCIECxHqUxjfPnz1NRU0ayJoQDGUlU1hQTrQxGmZ1GVr4gGaHsVoUTpQxik+ob0rXeAMSqgtir9sM/4xNUmQm46VcTrfTBxbQMXa6SSNX37FFFsEsVSu/RHkIV7sSrQzh37hyZBTrkJicS1f74qL4hVPAhSRMMwF61P3Hq7exQf41LxZsEGf5JUPFSjh7tZUvGKhLV/gQYV7Jd8RMRDc+wtf4ldqvcSGt5gLSWB4ioWTDrom2qjHz/x2IuBeAd6334y8aAGR13rHcIQAcO5hvXTQCO3Gz+W2KXKvRGV2FeMV0HyGMxll+7sdikHL3cOR7TEYAxyu1TzlfE1kGw7SyQ7XmQ4Dnu89e6B3aXKnTC/jp9+jQ9vUfsYg+nGVIkg43+/n5pzMT6JWlj8bFx7yK6gVEZ0/jll1+k/imuyJfuCUx3J0jwJK32EdIMKdRbrJbMLrnv41y80m7PrVi+q+ETqfz4uidwyX2fjbnv0t/fT2F5LpZGqyFPVN4b6HP2I2TuxVD5MBGCL1H6jymqKMC5eCVNLY345L8NgLx4JcEVr+Cp/xfhdQtI1fijbrub0PLXONLTTVTjUwj6MDwKVxBreRJt1h6aWxpIszzMXv0HbDQtZX/LA0TlOpHTfgd7VMF4mpagzNo75X3Dcx0uziEAJ+QhmUxWIJPJcmQyWb5MJnt0Dsp04OBXh2MGcA6x3d81U/yUky9NzTeqzeO7vLgeXO8l4Jk4hJ6KYBDzt132F5+7ePGiJJYmYruwiZLKwnHLtDUeEdOTNaFcvHiRrAKtlJ6Rr6Gto5Wq2gr26ePt/ASK+VSbK/HQWq2UjUUGCsvzKC63LpG3trcQInjhof2cYO1nlFQWUtdgZrfKFV/FD/jXLWR/RiL1DWbAamWcWaAj1LiCvOIMuo90sVVwIdiygB0KTwrL8/BWrUPReh++ih+IzH/dOhvY/He2Fy4lwfQUXsVv4VzwLr6KH9iVvwRNThoptY/hW/cKXuqviG16HKUhBr+6l9nT+Djh+U4E1y8kr/02IjM+nLRvbyRzKgB/8OEvGwJmdNzxw5wKwP9PJpP9ryvn98pkstI5KNOBg18d1yQARb9jY/ku+70xnXihU0F0PTEdroefssn26s1VFJWiigK79o1laTseogAcyxXNRMYmI/3qzRW2fbpd8Gavdrdde/OKdKPSbckuMkj3i+1L0sYCV9vU1d1lN9Pnpf7Krn+7u617KDU5gpT/8PAw1bWVKLL2S+EAtwve7FBsJkkbS4jgTXNrI6f6rFFCtta/xJkzZ6Tno9XfAtbwiWHCJppaGpGXvU2iJobN6rWcPXuWIPUXAOQWaWlqaUSRtR8v8yIiFZsIEFxRZqeRnrGL+kYzTS2NpOoT2Klaj0vOBwTXvkS06gdS9HFsVn5PhPYz9mfEs9u4HD/NF5w9e5bN2e9htpjYr48lxfAeiqz9hFueZavhI/Y0PYah/U72NT9IcP0CkpsfIqf5L9MdvjllLgXgnd/7cLdLwIyOO7+/YUvAd8pksqI5LtOBg18FjhlAB1NiNiwXrwd+ih/HTZvqDKBz0YrZrBIRV2LnzgTRj160Zu2E94ntF4WeWL5z0Ttj3i8acogzbBMZOdhaCYcLfshrnKTPYkg4gJjq56X3Q17jJLmAkZvekJxAi8/KTU7s1e6Snt1kfg3nohWSWKxrqMW/7mVOnTqFvMYJRet99Pf3o8kIx13/Ke61SwDY1fgE8honMvI17G56nL1NjyCvccLbvIhETQzORe+wyfwqfoofGRgYQG56Azf9apxrnPCve5mEpkfxVaynuO1eNpiWIje9wd7mhwHI0Mo51vXf4/bLfMAhAKfE/ymTyTJkMtlrc1imAwe/GhwC8HeG7R/ukdha0M4XZmJUMhtLwNMpf7J9hJP5WJwoPf1K9A7RUANG+/473HWYzALdqHjGgYKb9LxImiGZ2voaCsvzkZe/befiSWU8iMp4kCRtLOb6Kul6ZqGeugazlH9heR6qrGQGBgZoamnkcNdhUnRxNDY3cNCQxH5tBIGCmzQDm6K/Wnfn4pVospOI1qwhNSOBvFIjQZnv4atcT3pWKmfOnMFsqSZas4bt6d4kaWOJbHiK3apwaswV7Kl/kjDLc+iz97K5bCl5pUY2mV9jq/LfBCvkxKjWE934JLHaz0g0PcXW7H+QUP0sG2uX4qP6liT1dyQb3iG68UlCLM/jX7cQReu97Gp8kmRNMJZDt0w4VjeaORWA//bhbueAGR13/ntCAbhSJpPlyWSyAZlMdlkmk/3HGPd4yGSyIzKZ7LTMurfvXpu0z2UymVEmkx20ufYfMpksRSaTfTKzLnDg4LeLQwDOEtPd3zcTdy4zdfY8Fa7HpvaRfTTRBvvp9M9mxb/HvD4TASjG9J0LRFcqU6X7yNjL4OKYtXW0SudjtaOoomDU+Kbo46g2V1FjrpKE2omTJ6TnSyusYtO5dAW6PBXGoky8VevG3AdZXJHPZuV3WJrq8Vatk6yAtwouAGzIfV/KH6zt91atI1bljKmukj3qnWQV6sks0BGU/Q+8NWtJ0sbS1tHKVsGFjbVL2Wt5lFhVBE1NZjarviMrX0F7Rwte5kUUVRSQVajjxMkTGPI1XLp0iU1Ga2Qa99olhAve+JhfxV+3mg2mpTib3iC55SECK19FmxVPYvPfSW5+iMoaa9tnI3LHdJns+zenAvA7H+6WB8zouPO7CQXgQplVBH4sG1sA/iCTyQ7JZLJ7ZDLZ/yWTyXxkMlm3TCb7n+PU+3/IZLIEmUz27Uw7wIGD3zKzLgBt9xfNhN+qFfFs9c98Zz6M30wE4Mj6T1cQT/Sd2q0K40hP97TrNDw8TFNLI319fXbP//LLL9KSsZi/Ld1Hujh9+rTdXkhRlNnu//NRfsfRo70AuGas4viJ49LeQdv8Y5QhUv8cP3EcgAS1lzWqR84HOJdal9Tl5W+jN9pH0RDzP9LTTWaBjq7uw3R1d5Gs2yW1b4diG13dXSiz0/BTrCev7TbkpW/jkv8e4UVLGBwcpKu7i811r5BUsoCNee+TpI0lvHQRG6veIEjwpKnFwgbTUrq6u5BXLydZtxsv8yISmh9hr3YXriVvEVy4DL1xHxtyPyCj/S58za+ga7uLVI07Oe23kXfFx+Pg4OC0x2oiRo7PteTf2NTwWxKAIs/JxhaA7TKZ7Eubz/+HTCb7WSaTvTdOPitlMtmQTCbLlo2eGXTgwMEVfrczgLYuPGZKvCZq0ntyijNnrbxfG7Z+/I7+fHTG+U01VJutAJyN/r+Wuje1NNp9/vnYz2PeZ2shPbJ9tv7oDmTslc41OQpUxoPSLJwYGq/aNHrWTwwFNxYxSqvvvKNHe/n52M9U1JTZ3Z+iCSS/JIN9+ngOZOxllzKUBE0Uza2NGPI1xGui8NB+zj59PO4FK4hW+tDX14cyO01yRVNhKuPo0V6CBS+ilVY/fiE5K3DN/JgD2q1S+WK5u1XhuGZ+QpwqiBRNEADbipdS32gmQeXBuXPn2KMKIFCxnv26MEItz7FPH09o1ko8zYvZVbWA3aogdqr+Tawqgl3aVchNTuxSBhOk/5gYZTApmq0kNT/EtppXiVMFsFe9hcD6F0ht/huB9S9I7R/ph3IyP315kzgHn4z55gfwrm99uOengGkfN6/4lP/9yHP870ee4/996KlrFYD/j0wm+0Umkz024l69TCbbOottdeDgd8eMBeBMf+zmM9NdmhOZqk+78ZgLB7Tuuk9/1fmPZCyBM3IG0FaMdRzqkM5FwwhbRtY/PdO6h87WOjpEsDoz7rTJayLEpVtxfEMEb44e7aW9o82u/umZ+8btv83K7+0+bxc2SfXzUVqtbW3fP1vLYtHvYKwqYlSkkfTMVKK1n9PV3UWkYsu40WFcMz8hQRPN5cuXCRG8Ca1+CYAwwRcf5bd0dXexV7uLHZUvSZFI5MUrSc9MpamlkbzSHBI00bjrPuXo0V5SND9y+fJl0jNT8VX8QF5pDi6F/2BgYID2zjbaO9vY3fQ4CWpvmloa8cz6CE3WXjYaP+SgIU5ypL07fxEXLlwgpu4Z2jvarMYmZc8RUP8iO6sX4Fu2lNimx2nvaCO44lU2Gj9ks/orAoWNmC0mEpv/Tl6JEU/j+ySq/dG03Y0i+8CY4wf278d0ZodnKxLOnArAb3y458eAGR13fXPNM4B/lFkF4F0j7k2WyWSRs9hWBw5+d/xuZwDnM0m62MlvYvTs0q+VmeyxKqkqGjdtvCVg0QnyyP1xQ0NDdmHVJmI2Yhlfyz7D8ernbnyfsuoSAA7qo/BRfjdm+wA2Gj8EYLv+YwCidP+yS09Ub5bql26It8bqPdrD0NAQ7rVLCBN8uXTpEk0tjZRXFbJJ9TWeNtbKnYfaJT+Bza2NyItXsuFKmXVX/PydPn0aZWYcnpq10rYIX+O7qLKSCSxcxqVLlyitKmZ/RiIFZbls0/2LOksNZ86cYZ/uU6n/96h34K1Zw05FALEFi4lSr6On9wiemrUElC3Bt2Qp8aanJWOP0OyV7Gh4hkpTOXKTE9tV35DRdif6truoqC5CXvY2G01L2WhayslTJ2lunZ3vmK2V9mzwOxKAjhlABw6uE78pAThVr/2zidlimvMyZ0qFaWpLqNeT6QilqdDQZAHso7SMJQD1eepryl/ss/EMMGYD0YefJkchXbN109LV3SXVX+y/YMFT+v6Ks4hiXW23JhwwXA0BZ2mqB6wuV8wWE8GCJ4nq7RzQRwMQpPhR8vdXZ6nBt2oJmhyB7HyllH+qPoFDXYekfBuaLJLIEfMX4xyHCr5UmMpQZCagz1NL9Ssuy2SfPh5lZjyF5Xlk5Gs4eeokmhwFQkYs/nUvs1OxjQDBlcLyPMIEX3ZULCQw+13S9FEEKb9ByEwgXR9FmO5f7MtdBEC44M9e9ToiFR7kl+Zw9uxZNJlxxDU9yg7116Roo3ExLUPd+lf2ND1GekYU2+pfIrzsNVzzrMYisaoNo8ZnomX0qTDT522ZUwH4tQ/3rA+Y0XHX17O+B/CYbPw9gA4cOJgCvykB6GD+ciMsKUcKQA/d5xPeX9cwdmQNl8J/jHnd1geh6PtuPK6l/X6KH/EX5LgU/uOanh/pVNxNv1oy3hCNOjILdAwMDHD58mWp/RGKLbgUvMvFixcla+zLly9jqqukvrFOev7ixYvo89TIi1dKfvxq66pwrrb6/Autf56sfKuYHR4epq6hFreMf3H58mX6+voYHh7m4sWLxNQ8z+XLlzFbTLjrPkOhD0de+SZy0xtSfVMsT/HLL7/gXLOcUMEX5xonjAUq5JVvsqvpCfZqd1NtrkRe+SZ7NTGA1Q+hvHo58hon/OsWYjJXIDc5ES5sRt92F1GaL9hkWsyepsfQt91FbvttmOsriVO5oW37C7424jtc8J8Xhk0icykA/7LOh3t/CJjR8Zd1EwrA/5BZrXtfllkF4P+88vl/XEn/XiaTdcqsrl/+b5lMtlkmk3XJxrcCduDAwRRwCMBZJLck+0ZXYUr8WiK41NRVz+j58ZaAm1ub7D7PxK3OtbqLGStG8KGuQ9K5Pk89bvttx6/aXDXmPWPlb2vJOzw8zF7tLkqrihkeHmarap1d/vLKN6XPxvx0WtqaAYhUBJBfnMHQ0BCanIOUVxfZWRKLrl6CBE8yC3QE61cBkFOchZvOuteysETPVsGFkqoiSquKGRgYYJcqAEPufpyLVxKh+Ann4pWEC/5sLVxOkOBBS1szZosJv7qXUWQfkNqSqPYgu+FuwgRfXEzLyCnOIl7lgdzkRKDlBUKLlhJQ/yKtbc3ENz9CiOBFVOOT9PX1sUP1Pd661YRYnmdfy4MIrfexq+hVtK13k9l6L0nq8eM4T0aQ4EmCJvqan5+M35gA/FBmXea9fOUQz5+1ucddJpP1yqzWvTkyez+ADhw4uAZ+lwJQ3Dg+X+nq6pz0npFOgH/P2M7ElVeXSufjCcD9GYlj5jMbAl40ypgM0XBgKhbNFy9eJNWmzvszEvFTrrdb7obx9weOl6coJC9evChd7zjUIQnR3JJs/BTr8VP8SGpGIoqs/VK6v+InqkzWvs4q0BEieFNRU8bg4CAByu8pLM8jRRcntc9H+R3bBR8GBwfZn5GIv+InakzWPYv6PDWpGYlU1JRJewIvXryIj/I7jh37mTNnzrAx55/sUW1EkX2A/JIs9HkqPGsX46lZg3/lImIanyBAcMVTs5Z4lQc+qnW41r4u5b9H5UJI/nK8NWs41HWIvr4+ckuy2a/fTbT+Y1Jb/kZo/nJKK56jqOM2MvKU7Kl4gQzjkjH770Z//+ZUAH7lw73fB8zo+MtXNywUnAMHDsbhNyMAr0c83Kky237C5gszjaIxHaY7fiMtrcd6fjYigYxkZJSN2WCqS4te6q+kaCHHjh+zS3MpeBewr5+toBX36p08dZIYZYgUCm48tzQAu9Tf8/Oxn/nll19I1O7i5KmTUvnHjx+zG4PTp09z8eJFXAreJUYZItUnu0CFc8kKYlURFJcbKakqIl7lwQbTUnwV6zl//jxRZS8Tq4rAo2AFG6udOHPmDG0drURq1iCveIsDVU/gUvAuZosJS2Mt+zMS+fnYz2yveAW5yQmD+X72tTxIQVku7sVvkVL3KG0drcSUL6SwRM/x48cIsrwg1T2w8lX6+vrwrXsFl+IVbCx4B0X934gyvkVKwSuECF6kt95PRefNdHfdPq3v92TRXmbr2bkUgHd/6cN9/w6Y0XH3lw4B6MDBfONXKQBH7m0aj+vxx3oumGr7rge9vT2znudsWECKFq5TJUa5fVwBON6yrSiGCsvzR6VNNuMzVvp0osOM1z5F9v4JnxONX2ypqasmeRxL8p2KbdK5n+JHaTY8Rrldso6uqasmXhNJW0erlB4m+NpZT+9UBEhxfgFM9TXsVGzj2PFjxGuiOH/+PLGqCHYqtnHhwgW8VeuI10QRLGwErII9wPgPDPkakrSxVFQX0dN7xE7YZhdqiVYGc1Afha/iB3p6j7BHvYM9qiCci1eSka/BNetjDuqjCFZ9jVvBOwQLGymvLiK57lHiNVHsKVhMiOV5CsvzSNUGEyi44a1eh4tpGdmFWmJVEcQ2PcZOzRqCBVeSmx8ireVBijr+REHHreS134aq9V5ilP7SPscbTU1dtUMAOnDgYMZcVwH4W50Zm+/MZBbi18DI9o3nh+16zABOREdnu7RXTmRwcHBU/azuRaz7EEVfeRGKzaPyCxVGXxMZ+bz1WiMdne1j3m/bZ6naq0vHouWxWH8/wbqcLq9azuDgII3NDVSaytmj3klHZzvh2dYoHx7aLwgU3Ox8CcJVh9stbdb6pWfuY0euEydPnZT+IdtSvMzuN8c18xNOnjpJtOYrALYrnOnr66Op2YJ3+TLkxSuJUW5jV94y/IQf2aX6HnnVctIzonEuWYHc9AYbTEtpbG4gNn8JQYoN7MhzwtWwilDBl7jmx4hTuXPu3DnUbXdz9Oej1NRa3cAk61axo/oF5CYnYoxv4l/3MqrWe9C33UVRx63UHfojF3tu49yRP5HRfteo/r9WRD+LoYLvNT0/pwJwrQ/3fRcwo+PutQ4B6MDBfGNSAdjf1zclC0SjYTsALS1WFxC2zzQ2jDY6qMx5WzqfrsPly72TL8s0XCmz32bj+0g6O1sx6twAOHZl9kesP4zt0Lmj3f4PfFVl7qh7xuJI92FaKxZQYPhiwvvEpcyGMfpMpGcMVyRGnbvd50uXLmHUbRw3D7H/J6t/Z2crl3tvpzAvdcL7REYuxYYL7qPuKci7Gh5M7H+d1rrhvqWlHqMhbNQzImL/274/4zFVASi+nyPrbjv+R7oPk5+xBrja/52d1hk+s8UkvT+21FTZzyS2t1tFw2SuZI4d+xlLfSUZuVZDDC/1V1Ka6BbGbDFJ9Rv5/fr52M9cunSJRE0MnZ2to75fmpanR5Up9r9dfTvaCBI8qS607oNraKihsbkBlfEgm9TraO9ow0f9Je66zwBobbGQ1LhAGr8gwYOiigLcdZ+xVXBhk/5fNDVbqKmrxkv9JcnaKNIMyVy6dIkwwZetih/YKriQog1nh3EFEYotpLc8Rk1dNTsUWynI/AS5yYmkxgV4qb+krr4Kffb7mC0m4jVR1NRVo885QKTCF3nVcjT6cLzV62g99ABbBRdcDZ/Q2NzAfl0kO4wr8KhdjF/dy2w2v8rl3ttJan4Yz9rFxJYsJLP9DvLb76Tj8H9xtOu/pXcpKPs9dioCMNkY6Ez1923k+wPWuMxjMTg4OOr9sWVOBeAaH+77NmBGx91rHALQgYP5xq9yCXg+UjzOD/l47FQEXKeazC3jzTjNJrbLlrbYhkUbi7EEoNqYPmv1Glm+JkcYfY+N/72JmMg/4f6MRCk9WbdnlGiQl78FXI3LC9b3K7to9FYCcRl3ZHgz0QXMiZMnKK0qRpkZB4ClsZYQwUtK7+k9Ip13HmqXloiLKwrQ5AgkaKKpa6jl/PnzZBdl4J6xmsCKRYQKm4nXREplhQie7FB4W2cda14DYKNpKTsUW/ETfuT8+fNkFujs+idO5YubfjUBms/xr1rE5tx3CFF/ibx4JUHKf7NNkBMqbKa0qpjA6lcIV7gTp/InXPDFLeNTQoXNuOa9i5t+NSktD5La8jciFYGEW54lsvEp3PLeJabpCTLa7iK95QGy2u/EfOhm6T263Hs7P3f/kV2NT9zw5WCHAHTgwMFM+c0KQJecD250FRxMgrHIMOM8tilGO+wF6/hPNgM43fLFmZyR4mks+iaYeRaxtb69lnSRgYEBUvUJgHXmSKyf6JJFxE2/mqGhIVL0cXZliLPp8qrlAEQqAu3Sj/R0A+BcskJy8iyyqXypNa3yLYaGhhgaGmK74IO8xgltrpJtig0MDg5K9as0lXPhwgVp6TmrMIPBwUEO6CJxLlmBp2YtceodDA4OcvbsWWl8BwcH8dCvxqNmCRcuXGBj8dtk5lnF/MbSt0nW7iay8SmqruQfXf08xiIDmTkpbMj7gC11C9nR8AzuZcsJFTbR1d2F2piOX93LyGuccDa9QaTlGfI7hv19TQAAIABJREFUbuVAywO41b5OdecdVHTexGbzYjsROHTkFso6b2JwcJAtgpzuI10I+ggqa0pwy1hFpCKQru4uYjRfXbdtMHMpAO9Z48P93wbM6LjHIQAdOJh3/GYF4HwjzZACTO4w+EYSodhyo6swipkYpUxnD2B2kWFM44/xGLmsmmZImdbzYBVDkxGn3kn2NIVqfWMdAcJGjh7ttbtutpiQF6+kvrHOrv5i/maLye63oNpcSW9vD5ocheQA2k2/GkO+huHhYek+lTGNNEMK/f39HMxMIVDwoK+vj2pzJUnaWDYr/k2aIQU33WoKy/MJF/wlK+Rdyi1sFawiz5CvIbvgqk/GHQofojP/QYzma8mlS7I2hhDVtxjyNexWbWWPyp8E3Ufs1YTiV7aUeJUHIXnLyS3ScfRoLzsz3yWsbgGhqm+IUGzBT7GeYNU6IjVr2W74gHi1L9Haz5CbnNha9xI7Gp4mpfhFyjtvRtF6P8e6/0B/982c6/kzl3tvZ7jnVqo6/0xh1nsYWu+ltPNm9loeZY96B7WHbkadtZfdhYvY3fQ44SWvEWp5Du0YM8MzZU4F4Bc+3P9NwIyOe75wCEAHDuYb10UANjSPtkz8tWH7B+63wlh7GqdLuOA35vUbablsi+27PJtGIOLMl9j+bcLYM48jGUvkif8M2KanGZKla5mF+knfv4nSwwV/YjTrRgnA8ZAXrySrQGv3z4nSmEZmgY5qc6W1TgU6iisKyCzQ2S37Hz3ay8WLF9mj3gFAoOBOuODPFoUcU20Z1bVlXLx4EdeMVXQe6rAbn5paa9vFiBvhgj+HDnfQ0Gwhs0BHZoEOX/2/MBYZSNLG4qZbTVFFAR2d7fgq1hOv8sejdjE5hRo2Gj8krOE5Og93sk35Lc6lK6iqrWBn49MMDAzgX7cQ99olxDU9yl7tLg7o/oWvYj1RDU/jY1pEkOCJ0HofAflvEm55jpz22zF1/onGwzdxsvsP0rs03HMrR7v+QJjlOfI7biNZ7cPAwAAZbX8hwfAO6bV/J1rhg9zkZDUsaXqCNN2nduM7GzgEoAMHDmbKtAWgp3rt5DfNIdOdHZkKUcqgWc/zevFbFKq2zCRmsPhHe6L3eybvj22osMm4cOGCdD7Z+2W7xGzbfi/1l9OonRVNjsJO+A8ODnLu3Dk2GEdvkfBSf4mH9qqRki5XiSZHIW2nOH36tGS9KuJStRyXnA8IE3zx1Fz9bejv76e/v58k3Sq6urs4e/YsZouJxuZ6zp07R1TRIvwFOWnaz+nqPiw9U9dgluLw9vf3E1T+Kt3dh9mr3YVz0QopX+fiFVa/g6ZlyGucOHv2LJ6atTgXWa2UXUzL6O/vZ3h4mA25H1jzttTQ399PQP2L9PX1ITc5MTw8zMaSt9lSt5D9TQ+jbruHuOZHiWt6lIrOm6juvInOw/9ptwRs6vwzxR230HDov9E334NX7SI0jffhlvEvijtuYY9qA9FVL5CVl84G0zJcildOe9wmYy4F4L2f+/DXrwNmdNz7uUMAOnAw35i3S8Cp40RruFZKKgtnNb/5TElV0Y2uwrzgWmcAzRYT58+fl2ZtIq/RYMfSVC8tnQLSXjrb9MlIM6TYlW9r6DGeAY7ZYgKuzsraik9bGprqxkwfGSknVZ9AXUMt+3XhxGuiCBN8pe9ndpHBOgN25ZkETTRJ2lhSMxLZrl7Hfn00qfoEfA0fcaSnm52KbRjyNdIeyTRDCoqMHbjprWHi9mkjKK/MI1TwYo96B/65K4hUBJCkjSWw/gXiNVHsVoWRot1OVoGWIMGDwJqX8VJ/hT5nP/51CyXfggH1LxKt8Gaf2oVQ1TdsqV9IfaOZJG0szsUridSsYVvuW+xqfAIv9VdENjxFrMqDbXUvoWu7h4Ki51AVvExlxx1c7LlNmgH8ufsPnOi+ifpDt6EseBFB+292NDyNf91CghVywgV/9jU9THzTI3jULkZovX/ScZ4ucyoAP/Phr+sCZnTc+5lDADpwMN+YtwLwWrmREUFmm+nsyRsZGWIilMa0a6nOrNDc2kiiJmbc9Nb2linn5a7/FGDUrJSINGszTvp4TKcvbWfXmlsbZ5T/eL7lbOu/VXCRnr/WPZsjhai7/lPJOlrsf9H1TEdnO86lK67Ur1FKHxwcpKOznQhhi11sYk2OQKImBrOlxq5+zlcig4jPu+lXs7vwNVI1rly+fJl4tQ91FhPy8rdRGtNwLl5JfNHLRAhbpPZnFWhILXqReE0kfX19dHS209/fj7v+U2JLF+KV/U/qG8wc6enGTb+azAIdm9VriTS+yW71OvwNH7LJ+D4ba5dSXlVEmm4HLqZlnD59miDLC+hz9hPf9AjZ7XeS3X47ZZ03U3voZgo77rKbAcxqv5eM9jtRtv4Vv7qXiW9+lBS1J1pjGs2tjWwtWYrc5ISneREZ2Xuoqhnb8fhMtmQ4BKADBw5mym9OAF4ryuwbJ4om4nDX4RtdhWlx7tw56Xy8uk/VsGOmFpTjzQAqsg/MKN/rxRaFfNQ1McJIb2+PncAcHBwcNYPY1tEqOaIe2Xfi+93W0YrOuA8P7RcMDg5SWm6ksbmBEydPEGa86ruuqeVqWZ7aNcSpd7JFIaeuwWy3VzBc8ENucrL7/ojjm1mgw1u1DrDODLpmrAIgSRuDc/FKKc1Tu4be3h5cMz8hp0gv5X+46zCbM/+Je83r+Ja8gVflUsLylrOz9FVcM6xOngMFD5qaLTQ01ROe9Q6+dS8Trfoer5rF+Nct5GBmCt6lbxCt3EZY/nJ8lf/GNWMVUY1PEqCx+i+MznsD35I3CLU8R2jDc0Q0PEtRx5/Qlz9OWedNnOr+A5euzABe7r0dc+ddtBz+Lw62PkBe++241y5B33Y33ln/JDJnOQlNj9DU0oivei2pumgiql6aZOSnz5wLwK8CZnQ4BKADB/OPGQnAyYLPGwq0k+YxlWWw6XA9QpnNd6KVweOmzXb/jsV4S4wTMRVXKjNlJkYgCZroUdf2andJ59c60zxy9s/SVE+ybs815SUSrQwmRhki1a+kqoizZ8+SnrmPzAKdlL8iyxpWrsbGiXF6ltXBd2F5Pmn6nXbPNzRZjTEuXLhAYXk+foVvSs/tUGyVzsXxN1tMUvvE/knPSiVaGUySNlYK9RYu+JOgiSZBE40hX4N/+RJKq4qlpeuSqiL2qp2J065mtyqQZMsj5BRqiFRs5tjxY5RUFREm+NDQZEGTnYS84k1M9dWkaEKJUmxjlyqUBE0kfor17Gh4BnnFm5RWFROn8sLSWEtsxvv4V79GstqXFO1OktXOhKm/IrBwGSGWBcSrA9lX9wg9XX+gvPMW+rrtfQEe6fozlZ03UdV5KyUdf8bFtIyd+o8Jql/A/qonicpaQUD9iyRrdxKp/An/mldnNL5jMZcC8L5PfXjgy4AZHfd96hCADhzMN6YsAH9LS6vXg8mcEo/kl19+uU41md+MjCpz4cKFUX0xW+/aZAJwYGCAAMF1VsqaDlONfJNTnMUu1feAde/fZBF5+vr6OHXqlLRPUGzfiZMn7Pp0aGiIjdkfSZ9PnDwhPS+WtTH7I+l34cTJE9Iy8KVLlyRxLPadOH7e6nVjxt8+cfIEQ0NDUv12KTfQ39+Pn/J7qa4jvz8nTp7Ap3oxhnwN8c2PEquKoKyqkF1NT3D8xHHaOlrxVazH2/waHZ3tuJS+TXLuYiyNVifVaTWPIa94kw2VyzGY7yek9DXklctx06/GtfZ1NpiW4qv6lrxiPQMDA2ypX8ilS5corczngHYr9Yf+i7yWO+k8/J90df2XnQDs6foDLYf/G33rPSiz9+FRuxhn0zKSG/7OplInEpoeoa+vj/wSA0H1C9C03T3rhmUOAejAgYOZMuMl4Iqasln8WRtNrCriuuZ/o5iqk9/rwXTF6nToONQx6tpMLHmvldOnT095BtBfGL30eq1sF3ykc1P9+OH8bLl48aLdkqst4vtvGxVjPEKFzexRjQ7/ZyzOZH9GImXVJZRWjd6PlleaM2b+vor1o9rgpl9NU0sjfX19+CrWE6uKILTOGktX/B3ZrPwOP8V6YpQhhAo+GIszOdR1CLA6k96nDSG/NEdq38DAAPszEiVDkGDBC0O+hmRNIBU1VjcyxuJMQoXNaLNTyC02EKVZy26lGwmqrURqP6WppRFPzVo2adYQpPyO/JIMsgu0bNJ+TrRuNfklGchNTgDo2/5CcP0CktRb2NnwNIY8AV/Feva3PIix/XZiGx9nZ8PT7LQ8R5TlOUydf7QTgNqWh+jq+gP7mh8iWhnM7tpnCLE8z+a6V9ii/YwwhTs7davQV/+dWFWEVO5sMqcCcLUPD6wNmNFx32qHAHTgYL4xK3sAA8eI9/p7RlzKuhbGC3t2I5mpq5mMEValc8VEAjAwfeJ3diqzdGXVJcDoGUtxH57IRDOaYy01j8VI4xjRUtdPsZ6tY+wd1OQqxsxHfL8M+RrKqks40tMtfX93KgLQ5Crs6l9WXSKNf16JkbwSo11+1bWVZORrSM9KpfNwp1Tu0NAQZdUlVNdWMjw8THpWKnKTE/39/VIElgRNlFS+KHS7ug/hVvs6AcJGDHkHOdLTzRbBmWT9+wQqfmKjaalUtqd5ER66z4mtfpZ9ul2YLSZ2qr4l+Iq7nARNFOGqdVL7Qi3PkZF7ED/DRyiyD7Cz8Wk8NWtJa3mAbZn/JLn4RQo7bmWz8T18614hwvIcDYdu4mj3H+2sgA933URJxy0E1L9MeefNpLf8lShlEM7FKwm1PIev+RVCyl8lreUBdii2Xpc91nMpAO//lw9/WxMwo+P+fzkEoAMH8w2HEcivDFu3ImMxV0vLc7GHz5bJlj/HQhSALlcsUK8X58+fJ0V3NbyabV0ns0DeqnAedS1JFzthWSPTxfKnOvYH9VF2dbMdy5Hvl23aL7/8IqWfP38eeaV1T6Ci4QEuXryI2WLC3fS6FFLOV7Ge4eFh6fdF9DEoitDsfCWZBTpcSlYgr7LmVV1bSYTgj0v+ewwPDyMvf8talukNqs2VuOs+I1Ubjrz8LXKLtGhyrIIzSbsLZ9Mb1NRVIze9gXPxyiv7Hz9DbnqDcMEP99olmOsrCax/gY0VTmxWfk96y/3ENT+Gf+2rRBvfwr12CWF1z+NRu4Ts9tsxH7qJhsP/KRmBXOy5lcEjN9Pd9Uc0rffjY3qNjPY72VK/0Oo/sPkxwi3PIK9xIkr7OVsVzihqH5rSuIgxlqfyrjsEoAMHDmbKvBKAYnzQ+YL4gzxX6PPUv+r8AZK0u697GVMhPSt1whnAcMF/1GzWdJhoWbugLNe+Lpn7pPOTp05OuQxx2XQqlFeXjrpW11BLXomRc+fOUVieR6wqgt2q8DGfF62NbQkRvDh0uAOwOpQW9wqCveHPuXPn0OQopPwLynJxLl5JYWkWfor1hAhelFeXEiZ4ArBbFU644E+sypkNxn9y7tw5wgRfzBYTJ0+dRJur5EBGInklRgz5Gs6dO2f1A5j5HoIhjoqaMoIEVw51HcI7YxVb6hcSqf+YEydPEK/y4IBuJwrDHg7oQokuWkR65j48NWvJylcQowwmRPBCXvEmfrlvs7f5YQIFdxLUP7Hd8jzhlmfZYXwbhWEXCU2PUNX5J2n273Lv7Zzr+RNF7ffSevhmSjpvIVXzA8rah/A2v8Y+bRShqu/Yl7+I3XVPE6L5gv0ZiaTq46c8juIy+GTMqQBc5cPfvgiY0XH/KocAdOBgvjGvBKCD3w8+ym+vexmzGQrOFtHS/NSpU1N+Jl4dKZ1rcoRrdnHT1tEqnY+3/1ZzJfbszhEOrOsazAB0Hu4Ervod9FF9Y3dfnNpqDZxZoONAxl58VN/Q29tDoOBmd5+vYj2GfA3eqnX09vYQbvgnAen2RjUnT9oLXrH+zsUrcS9+C7AuF2tzlQCos1Pw1Kxhk/prsq54EfBRfYNP3at4atbgpl9NRU0Ze01PUlpVzF5NGAMDAwTpP5YMPJK1XxDV+CSJha+wVxOGvGo5vb09yE1O6PJUpJQsoKA0i82aL0hQR+BdswS/PKvl7raqV0nVbmdL3UL2NT/IzoZnMB+6iQtXYgFf7rXOCrYc/i+KO/6M0Ho/zqZlRCp88M7+gJTmB6UwcEJmAsGCFy6lbzPbzKUA/OsnPjz4ecCMjr9+4hCADhzMNxwC8FeIGHfVwcTYCsCxnC9P1Rp3qpw/f16aGWvvaJs0/57eIxOmizOJre0txKoi8Jsk9JxtuofucwB6j452iyS6fgEkYwyxf0TfjaKLp6GhIdo72hCyUnE1fCKJRjG992gPO6peRMhKpamlEdfMj6T0oaEhlFfKEmf4Lly4QLw6CresD9lU8DYp+jjcdZ8SpQyiuaVBaq+H7nOyCnTkl+awMetDa11LDFgaazl2/Bg7Kq2+9Qz5Gtz1q4lRBhKZ/zp5JUaci1fiVvomgiGWorJsWttbCBN8idStprm1icD6F4gqWIKP8T1c8t5jY9aHRDU+iU/VEva3/I0UjQ+JzX+nq+u/6Dj83xy3sQIeOHIrfd03k9j8dxKaH6Hl0M34ml/h+PFjuNcuxtv8GgCetYsIyX0TZVYqkdkrJhy3a8EhAB04cDBTHALwN8aBjKQJ048e7Z2jmkw9MsZEzCRqyVgzgJP1z3whShlEc2sju1Vh0jVbH5fJGqvvx7H6p6q2QjofmV7XYCa/NIdz586hy1XS1NJIgiaa6tpK0gzJhAqb7e4XDUKStLFoDTtJ1u2xs8zfrQpjtyqczcrvR9VDd2VWb+sVP3jJmhCCBU+MRQZiVRGEqL5GbnLi/PnzFJZl0dvbQ4wyEGORwWpdqwqzGleUv4nJXE6aIZkDGUns02wgWhmEj/lV9DmpVnGs+5Q4dThu+tV4ataSqIkhRhlCjOo7dtc+TZQyiI2mpexWBbFV/SUxpmcIU35HsELOfs1mEtShxDY9TmjWSvY1P8gBXQSRjU9hbPsrwz232lkBtx2+ibyOW4lqfJLUlr8RbnmWpOy3UOr82a8NwKN2MWmaTSQWvkxi09+JHWfZfSbMqQD82IcHPwuY0fHXjx0C0IGD+YZDAF4nJpvdcXAV18xPrku+Ey0BuxpWXVOetu5aprKHMEjwJLL4tTHT8kqMdvvqRE6fPm33ebLl4pHv2i5VKGDdm3ekp1tKb2iysEn5DQcM9iJ4cHAQ5zLrLFVTS6OULkZ1EY1L3HT2+9MC0905d+4crpmfECH44qP8DlfDJyRpd+FqWEVguju7VT8xMDDAkZ5uwhuexb16Gc7FK+npPYJL7vscNCThZlrKXk0QDU0WaZk6yvK0Xf3iVO645L7PsWM/E6PcjnPxSrYq/40yM5GmlkZrzGTj22woeJcjPd00Njfgkvs+586dY2Pee5w+fZrh4WEsjbUc6elGW/QcPqpv0eXsR256gwjFFjKz3sIz80PCFW5ENT6Fof1OdG33cvbIn6R36cyRWzh35E941i6m4dAfCbc8i7L1XoItC9jX8iARZa+ywbSUDXnvUViaha/ym1Gh96bLWN+PORWAH/nw4KcBMzr++pFDADpwMN/41QvAGOX2Ma+P/CM6H4lWhtzoKkyLEMHrRldBYirjO5U9gJNZVV9Ppjr+E1mFjhdXuKSycNJ8y6tLqW+sY2hoSArLNjJdLF905SMKNNFoxNJoluoXrltll7ZXvYWy6hJKKgvpPtKF3OTEQUMire0tlFQWsle9BUujmZziTMAa59hD+zmt7S04l67gQEYcx44f49KlSxSV5+KtWkdVbQVd3V14mxZTXl3KBtNS8oozCFN9g5/+Ezo62ygqz+X06dN4FL3FAa0vEQ3PkFMgIDc5Eatyxlu1jl1VC9ie/Y61ns0Po2y9lz1Nj5LU/Hd2Kd3Y1/Igyc0Pkd7yEB2H/9NuBrCy8490HP5PajpvIVqzhi2Vi0lWywm2LOBAxl5a21soLM9jk/YLIspfJazh2UnHYro4BKADBw5mip0AnOwPUvYV/10ObizzNW7xfGMiATiV8HW1U3TkPBbbBe8xr2cVZkyYDpBbkj3m9VN9VqOT8ZxGj0VRRYF0LoaCs0WM5lFdWzkqbUPu+9TUVaM2pqPMTpOMXgIEV7YL3nQf6aKoooA9KperdTx1iqaWRi5cuGAXZSVetQW4aum/XfCmqKIAdfY+tgouUvnRymCaWho5c+YMAYIrmQVqhoeHKSzLJloZgiJrP/Hqbzlz5gwKfSh+mi9I0fyA3OREdpGBgPoXCTF8wDbBmWRtFO76zxgeHmZz9nvsVW8hVhWBh+5ztNkp+GvWEKvyRF75JnHNjxHX9CjBlgVUdd7MXu0a0psfpKTjFjsr4LNH/sTB5gep7Pwj6rZ7KOr4E6nNDxLZ+BRhwibCBW9iGx9nm+DMpryVZBWo0WanTHm8pspcCsAHPvThodUBMzoe+NAhAB04mG/86mcAHcwf3PWf/v/svXlUVFfa/3vue9d6f/f33rvedde6v7V+b2cwkxk6naEzmTjEKTGdwYkYNUObdAaT7jaddNJvTBcgKIICIqKCyqyIinGsuYpinmcoamIuZhVNGEQSQfncP4o6FgiCoojp81lrL6tqn73PPvucKr88ez/PM2Hncs95d9RjbqYX8C55wA21M7gEwb4V82MYJch2lGYNnZ2d1xy/e86NOSkEKNcOcjyRlV2d8cKQqRH7X6//HG/9anYpAnHPeXdQ9pEwuT/7Kl8C4Ae1J+3t7ciMS8Xr26/aQLmlDJlxKWGWOcjK3IgaiCvY0dHBIe1eLFZHves4/Exv4J67kkjbTAB8TW+i1u8kpmQeqVlqEjM1dHR0IDMuZX35QtS1j3Oi+incc1dySPcxmfYHOdN0l/gsdbfcR2fzvSTWPcJWyyukZCqJrZhOoPk1ZMalHK5+lqiBcwHEVU1DXfvbYeZ89Of3WkyoAPxwE89+Fjyu8vSHkgCUkJhsiALQdeP4ZOZOWzb9NXNIO3LA4lvJcNaq4bhZAnDnyZGtdSPhtDAm6PZdd1tV6glUqSfEpdTe3l7x++kaK/OQdi95RenD9jEarnEMnf07PYCd9bmFDg/hka7/ZPIR4jVRgzKd/PTTT6hST4jjc1JZXUFatgbP9FXD9rVXtZto5U5kRjdOJh+hvb2dPYpNGAdE31F9NIHKf9DU3MR+VRBBcg8Oaffir/5ywEKY7Din2p0EdQCyguXsUQRxTOMl9rlb8yVmm4kDVc9zRB9HgOFj5PpQZIXLiVV9x3bLPKKL57PJ9DopdY+Sbb8fRc0Tg/YA9rU+RGXD3QRbXuVw9bNss8zHWD+F7IJkgpT/wFJhYo9tFgc0XxKh/CfxqUvxL1l4Q/foWkgCUEJCYrxIFkCJO5bhHCic+Cu+u2VxAMeLc1nWWmm5qq7MVDLmfpzXH6n9guaWwUHUfVVfDZqfw/o48dyH9XFiTuCz584C0NzSNCjGoL/iO3GM3d3dhA7kOLbX1wGQX5KLtdIiWugO6+MoNZVgtpnYpw6nr6+PwtJ8rJUWZLkrSc5UUGoqIUb9NYf1cbjnrmRDznKClf8AIEL9lehkUmuvwT1/OdZKC9ZKC5uU3xIq34Q69STl5iIStNHIjG5E6P9ElP5DNmrWkKAJo9ZeQ4jch3CFP3sSPyS88FX2F88mtnw2AYrvOWmIJ8i8gMP6ODZq1nAiMY64yml4GRfjVb6IY4kHia96gT22WWRU/xZVze8oz/sD7c33cNHFE9jWMAVP42JOVD+Nj+ETUuumIs+dy4byt9hte5kt5gUk1j6Kr+or8ooy7/hcwL9f5cdzn24dV/n9Kj9JAEpITDImhQD0vkGPzKHYKq03pR/gts3JJuW3t+W8Q5molHI3g6Hix4nzP+xbfS3O53e0EDvD1Y+03w9gq8LzKsebyuqKQV7Bru0j9R8D0N7eflVfMUqHZ3B2Yeagz3fIN+Jt+JQTScPvUzNkavA2fEqMMnRQlor+/n4yBmIINjc3cv78ebIK0tmk/Bb3/BVYKy14pK1iq9yTrq4ucUzO83umf0CI3Eccf4wylN7eXtLzUohVhYn3LECxluaWJnYrtrC+ZLE4h52dnXgYlwDgkXbFqhiW/yaeuSuoqLKRlKVDbtjPuvLFxKp20tTciNlmIkTuQ3t7O57Gxewyzmd9+UI80lbhmfk+suJlxFRMJ65qGoqkAyRUPcv5lvvEZ6mrZQrZdb+luH4KMbZZHKx6zuH1m7uCcPMcMu0PEF/1AtF5f8CQvA9DpgZZ6dvDzu14mFAB+Ec/nvtk67jK7/8oCUAJicnGdQtApyVB4uYzkTH6bpRjiQdv9xDGzGS1AMKVECtjwZmP98yZ08CVDCDOGH37NY7cvqfPnBbvz9D+M/JSB4V/ca3fq9oteuI6iR/os7K6gl9++YUYZSinB85/UBtDvCZyUB7jjLxUsd7Zf1VNBVU1leLvy5kzpzmgDuKA2rGNwxkncmvZ6xzRRXPMcAhLhYmS8iJHurgMt0HXf8xwiMP6OErKi9hqeZXt1nkcVG+5MmaVOzvz3mSr5VXUugA0aQq06UpkRe+wofwt4itfYH3WCjZo/0y0cjvVtVUc1wZyVBdGet2D7Mn/A7usL2OofZRj1U+TWTeVmIrpg+IA1jZOpaz+PvZVvIix4R62KdaSZ3+QEMt8EjTbWJ+1kgPqHSh0gRzOXkBqlgpZ0Tuj3+TrRBKAEhIS42VSWADvBJxLZdfDzc40IXF9DBWAzmXNm4lTtHd0dFzzuJNJRwa9H/qdG9p+vW50hxHn8zXWkEfOfYknk37A3mBnxzCeyK4BnXfIfenu7h401osXLxKcvlxs75HxAd761eJ+P8+BrB0RKStQpBy76vqqaiqIUGyhvqGOvEKH9a/OXsvZc2fFUDHuuStYr/ucOnstnskfYbIa2Sb3xlu3ml3pDmtauaWUrIJ05ImxnCx/ju1yL7wMn7BZ+d945bzL5ctIDPaWAAAgAElEQVSXCZavw5CpIb7qBXZa5+BVvJQ6ey275IHElM3Bw7iE7u5uTFYjHtnv4a/4jn2VL5JY9wj62scorZ+C1hBJY9N/8fPAPsDulvsw1T9KUt0jaKqf5Ig+Dq/yRexRBBFmm01ydiKeyR/hVb6IE9VPEVLyhzHn970eJlIAPvOBH89/vHVc5ZkPJAEoITHZkASgxK+WsVoAi4zD59QdDmcKtLHy40+Dc+EOzac7HPYG+6D3RcYCUWCNpb0mTXFV+5HGNnR8TueQTcpvxX2CstyVJGU48gvX2Ws5oY/ER7NGTN3m7N8r+WPq7LWEyf0BBlLDfUJOYRr1DXbMViOxKocILy0vIL8kl43qL+ns7ESXrmSbfAOyguX4aNaQXZBKoO5zThjiAdiZsxCztQxLhYk4dTgFpXmiF3F3dzf7NRHU1FVTZ6+l9VQLm/OX4F2+kMLSXMINq4iwzSTUOodAuYz9Kn8OJr/DQU0Ym0yv09nZSZjyW04kHSah6lmiK6ZTVH8v8pon0NY+xqXWhzjXfMUKWN94L0l1D5Ntf4D4yufZbPoDnqkfoU+JZ3/aEg7p9uJhXIJH9nsYMjWcrHli1Ht2vUyoAHzfj+f/tHVc5Zn3JQEoITHZkASgxIg493jdTIYKjlvJtQTgcDHxYq8jZZdT5DQ0NQz6XJ+hvmY7fYZ6WOcPuOLhW2QsGFOcQiehA2MZDadTSIzSb9D1O9s76535gbfLfTBZjfT09AwrIk8YHMvNvb29HNLuZbvcR8xC4p67kp3yTfyg309vby9FxgJiVbsw20yUGPPZLvdhfflCTFYjRxIPAIhL1Jn5aeyU+7Jd7oMhU0NPTw+xym2Eyf1JzlTglfgph7R7OayPI0D1N3p7e9ku90GRFM+68sUc1MagSD6KPCkek9XIMcMhse+ApA85qN7CseqnUdf+lsicNwkofQtbpZV1xkVEav6GKjEMr/JFFNbfS3H9vZxrvou+gWXgusZ7KKp/iKTaRwm1zENZ8zv2Vr7IDutcYipfYm/+AiL0n7Bd7kO4bRbRFdPZbnx1zPdyrEgCUEJCYrxIAtAFs638uo4PUHw/7OcJuivhLwLlsnGN6VZzI+O7VmaKieDy5ctjqh8qAIdzBnGNRTfSMSP1f6udS/xdYuyB4/kcKXPJ5cuX2aD7M319fdd1jqQsHR7Z7121t9cj633x+fbIfg8AmXEplgozly9fpr29fVAMQlnJ2/T399PX18dul5iDSVk6osvmAuCtX01vby/gcFRxiuXe3l6UiXvo7e2lt7dX/P4EKL4nKUOOrHgZvb29bChdTLhlNoFlr+Oeu5KkLB26dCWy4mXISt4momImESkrxH62Wl4hI1vF2XNn2SUPILxiFrYKI5cuXUJmXEqU5q/ISt3wyH4PD+MSwi2zOVD1PD9oPPE0LmWr5RWMDXfT1TxFfJay7Q9zsfVB4qqmscP0Coaqx4m3TifEOg+LzUhk2jJO1DxFb28voeb5+BnfQla87LruyViYSAH47Ht+vPDR1nGVZ9+TBKCExGRjUgnAodaU0Rhvjs3JxvVe/2QnXhN1w21D5D5XfTacdyswKA6dK5PJCcTpsHE95JXk3PD59BlqysylgzykTVbjoFh/AOrUk4TIN1BdW4U69SQAutQfrjp/Wm4yDU0NpOUms1e1G4+C5cRrosgvySVI7iH25dzv5hR6+SW59PT0ECT3oL29HbPNJGZYiddEsVuxRTw2QrGNpuYGtsrX0d3dTVKWjvDED+nt7UWdehJ/5d9pbGokSO5BYtoxWlqb2ahZQ09PD9W1VQPBo93E9jEVLxGl2IwsdyXb05ezQ+6LzOjGnpQVhMh9SMnWEJqzGFnuSiIrZnBcF0JczmvIdVvRJ+/jcOXzmBvupqD+XtEC2NlyP6rqaTQ03kVB/f1k1v0WmXEpERUz2aT8lpS6h5EZ3dhR+hqh1jmEKb9Dcx2ZQEZ6xocyoQLwXT9e+HDruMqz70oCUEJisnFTBKBrUNnJjmsIjdvJROQqdi7H3Wpu9f0frf+RLLG3WgBez95BV5zer9fL0Gd3aKq6orICvPWrB4WGcXoMG7K0gCNsTFVNhRhkejiODizJtrWdARx7AA1ZWvH8zvoiY4EjO0fuSqprbOIYIxTbCFT8U3z+DiSuoqGpgU3Kb+nq6ho0vqP6WABSsxzWQKfjhnvBCkITV4nZU9alfYjM6Ia9wY7SsI/Nyr+zXv85B9VBZBWkE6HYJoZQOpp4gL6+PtKy1cRq/gyAn+l1LNYyNqW9yx71l8RWvkSU5i8k6D4lUvcZfqbXUaYuwlpRzjbrfEeWkNpHSa6bir3xXtET+FzzPeTkz+JE9VMcq36aw9XP4mlcTGLtY6TVTcU7dRXb0lbQ3t5OkOFDMvKSR90WcCNIAlBCQmK8TCoLoITEtbje/YNDBeBIe+9uBq4hVlxxhjAB8FN9PWp7X/VXRLtku9kmXz+m80cpt1/1mVNo1dlriVJuH9bpwxXn+A5qYwA403ZmkHdyX18ffX19ogDs6Oigo6ODKNsscfweWe+zRxHEuuSP2aT8lmj1N+Lvi7P/vapQ2tvbB2L+raW/v5/dikAAvAyfcsTyAgARmr+SnadnXd5yzp8/z56UFZhtJgJzlnKm7QzhutX88ssv9Pf309PTQ25hKt761ZxpO0OdvYaggrcIUKzFPW8Fx7TB9PX1EWGZjWfhO7SdbcPduBR18iH2V01DVvAOOQVp5NofxMO4hKjS+ey2vUxK3cP0tj4oCsCulimUN0xBV/sYaXUPcajqOaIqZhBdPhs/0+tsMHxMW9sZvLNXkpGtwqt8EVEVM8Z0D6+HiRSAz630Y9qqreMqz62UBKCExGRDEoCThILSvAk/Z0WV7Zb1Ha3ceRP7urH0fzfDAjhart2bSeuplmvWO0PJDA3mfPHiRbILMwa1d92H6uTMgEXPiXP/o9PDOEFz5Z4l6PYOygwyEkODr5861TpovFHK7YNiDsYqfckvySVauZOKKhu2Siu75P4YLWUc1MayT72H/JJcwhVBhCu2Ao6YgmnZGs60nWG/egNh6i+JV/txUO3HYe1uDmn3clwTwJm2M8iMbiRodyMrXE5KppLoiul0dnbir/gO78z3iVSGEKL9gi2WBSRl6VhfvhBt7WPIddtJSFtIYf0UwjV/4UTNUxjqHiGuchqdLfeKz9LlU1MxN0xFZf09+ytfIMv+AHtsswjUrCGu4kU2mt7EbCnmmGYLEap/cli7m6PVT486j9fLhArAFX5M++PWcZXnVkgCUEJisiEJQIk7lqFCCCBAfmU5eDLsAcwquJKr11UIjebIAoPz/roy1IP58uXLYw4ibraZrmkFdFosL1++TKh881X11bVVKJKPcvnyZbILM8Vl4R9/+pFAxT8JkH/PLnkgnZ2dYnvn74vzD47TZ07jnrsS9/wVdHV1sb7AjR9/+lGs3yUPxD13JWElC4ArS+aVVVbHHj6FPxu0f+Fk0hE801dxOG0Rkcpg/Eyvk5ipYZc8kIoqG3vLZlNRZaO6xkZgygdEpC/F1/QG+5QbCc9Yinv+CqIrplNZZSW28iXC0pehz1xAUu2j5NkfIMv+AFl1j5Btn0pns0MEXmi5n4bGqeywvIa+9nFSLL/D3/QHtsk9iKyYSWqWgiPaUCqqbHiXL0RmdOOHrD+Mel/2qcPHdP+cSAJQQkJivIxLAO5WbBn9oFFw5kW9XkxW47jPLTHxjGZ1jFF/A1zZ7zbWuHtOBwZXnAJwo2bNdY7y+onXRF3l6DHa92O0+rzi7HGNaejcVVYP3nvY0dHBet0XYkBpZ/2ZtjNcunTpqvbVtVXU1FUDjjAvTtYPOH7EqL8hQLGW9bovuHTpEqH6T9ij2EpuURYRiiAx168q9QSXLl2io6OD8KzF5Jfkss2watC58kpy6OjooL29nc7OTs60naGnpweZ0Y1j2p20t7cTl/Qe/po1bChwo6m5icrqCpKzNKhSTxCZ+CfA4VSxoWwx+zWRbCpeiMVmYpc8EE/jEtbrviAg/V0iDH9kXfliNqd8gMLyDIeLXya7MJP9ldM4Wv0s9Y3/JT5L1Y2/obXpfvKL0tkzkApunXExx0umo087QkTFTMIVwbjnruS44TA75OvFlHWjEST3HNNxMPEC8MUPto6rSAJQQmLyccdaAF33Vt0Mcm9QiEpMXlwtgLlFWezXRNyS8zj3xMGVWHq3kqHhikZKK5eSkwgwKJ9wnDpcDPCckpOIvb5OXAIGSNDtIzFTg3vuSpKztOLePleP4JyiLMIVwYPOlVeSw9lzZ7FUmMQ/6rRJjn4vXrxIvPrK8nJ+SS6H1etI0O3DbDMBjvuzLemPnPvxHPkluciMjjRwAQOhcDaq/4YmTY63fjUJun309PSQkpOIIjGCUPlmrDYjienH2aPwY796BwcqnydUvpkolcND2Tvxc44nRrNNIUOTGM4hbQyxqiASqp5jv/llopQbOVb9NHGV0zimi0BtfRpt7ePk2B+ir/UhfhoIBfNL6wMkVD1LlG0GaXVTOVT1HEdtzxJr+CMHq55jo+lNohSbCJNvwqt8EfGqdWKqvpvJhArA5b68+H7QuMpzy30lASghMcm4YwWgK67jl9Kv/evhmbFq2M9vZAl4LEuzN8JogZ3DFcGjPrs+mr+Kr53hQpxx/47o48W6w/o4urq6xPA4nhmrxHrvxE8H9Tlc3MCurq5hveUjDKsoNhaK793zVhCgWCt+/7z1q/EZsLa2t7fjr1iLIVNDS2szu+QOJw+nI45H2qpB4Xtiymazp+wVAPFYWckytOlKxzWpPSguy8Oj1A2Z0Q3PdMc99yteBDj2Me6xzKHYWOhYQs5ZgTr1JH19fXR1dXHx4kUOm17EO/FTQq1zANBbn8Sj5G26urrYYl5AQoobkWnLCDS/xt7Kl9hjm8UR8wv0DKSBu3xqKlWNv6Gl6TdYG37DDss8orRfEFv5ElvMC1hftoh1xsUEG1/DUPQCYeZ56FKP3JTIA673FyQBKCEhMX5+FQLwZuHcU3a96b7+FXHGbrvR+huhvqHuuo4f7x7Aa+2rG+sfGq6CabdiiyhurkV6jnZMfZeWFwzq/1ocNxzmiMZrcHtT8aD3HR0dbDu5nhNJh0nJSaTUVCxa4ADyihz7GZOzE+nt7SUpS4chU0OQ3JMAxVrsDXYxlqWznXN89vo6Ojo6CFCsJTk7ke7ubvapw8X6eE0Y9gY7FpuJYMsr7Cx8ndOnT7FB+xcMmRrCFZuIV29kW9EbxKiC6e3tpdRUjCFTQ4z6GywVZrILM9lW9AZ7MpeQkqXi9OlT7FJ/xaaCJXgnfobJaiQpU4O34TN+ME0jvGIWMqMbQQp3TtY8iYdxCTFlc9hiXkBK7eNoah7nQOU02pvvEZ+ln1vvp6phCj9UP0NS3W9JrZuKPu0IO6xz2aP+G7t1nxKcvhxD6iHCK2axO+kDsnLHdj9HwzVF4EQKwOff8eWl94LGVZ5/RxKAEhKTjUkjAJOzE2/3EG4bI8W5KykvmuCRjI+btYxuq7KOfhBXz0/9kBy6rgLQXn994vFmsE+9Z9jPk7L1193X0O+He+5K8fovXLjAcUPCVW0SdPvYpw4nNccAOATe0O96qan4Kiug61yFuaSZS8rSkVOURVq2RhT4QwWoM3vJFoWMkvIi9qnDHeFXNH8R70+CNpru7m5Kyos4ffoUFy5cwF5fy37VBnbJA0jO0pKZm8gG7Z/Zpw7Hr3gxfqY3SMrSUd9Yj72+lu7ubk6fPkWpqZjUHAOb09/jkDYGVXICoQovDug+YUP5W0RWzBTH5pvvxnF9BGG22fgrvyXEOp9g5TfsNs8lRO6Dn+l1fMrf5ITm7+yrfJEc+/0oa35HS9NdnG2+n97WB6lqfJj96QsJscwj3/4Q4RWzOKT9nOj0peyvmkaIZT4hqq/xy3ejrLyQQ7q9GAbyKN9MJlQALvPlpXeDxlWeXyYJQAmJycakEYBjZWjYicnERvWXt3sIdyQeacMv4Y6X67UAjifF3XBLvDd7O8LQ52us/bvO79DlyAsXLojf/8LSfHzUVzvMOGMBOp044Mq2C/ecFXikrbpyjP7KMX75S+no6MAjbRXBhW9ishqxVVo5oIkW08alDIjT4MI3BwVHj618iaQsHTtLF+CZvoqD2hhiyubgrV+NrPAd2tvbiVJ/hSZNgWf6KsLk/mxUf8kG7V+IVIbgmbuCpIyT+OUvpam5iWDLK3gnfkZxaQ7uOSvo6OhAl3YM94LleOYtJ9b0MtGlc4kpm8Ox6qfZUP4WuprHSax7lJ9bH+LH5vu4fGoqp5ruoqD+PnzK3yTMNocAxVrSLE+wxbyAiLRlyIxuHK3+PR7GJaRlq7lw4cKI3tzjQRKAEhIS4+WmCMCIIRvCf62MlHpupE34kwHnf7C3ClcHgpEY7/wM3f80Vm52GBhV6olxtXfGtXPiarVz9fgdLvZgXnH2mFPrjbTM3Ha27ar+jxscacrMtnLiNVG0nmohtyiLX375BXt9Hapkh4OL8z7Ha6LIK8lBVviOGEcwTO4vtgeIU/pwZMAxJlIZMuj35aguTOwfIFyxiSP6ePard9DS2swJfSQhSR+I/TpzH4fpP2G3YjPe+tXkleQQp95Deo4We30dsqJ3yCvOJk7lCJodpfRltzyA1GwNMcpgfv75Z8y2cg5rNiIzunFCH8lh7U5CrPOJVf2TBF0sAfLv8Uj/IyGW+ey0zkVX+xhJtY9RXn8fv7Q+ID5LNY0PkGe/n8rG3/BD9TP8oN1BWt1DhCR/gMzoRnjuGwQaPiLMOpuUbC1htjl4FN3ZuYBfcPNl+oqgcZUX3CQBKCEx2bjjLIC/BpSpxyfsXLvl1w414prp4XoYj7VsohgqAEfKGXw9jLePILkHbWfb2Kj+24j1I1FVUzlq/84wLeDYczh06TtI7nHNHNrR6ivZSoaGqXGOre1sGxs1a8Qlfx/NGtrOthGgWEtNXTVtZ9tES6O9vk607JmsZdTUVROhCMBsM+Gd+iGHtA4P2eaWJnalvMd6/efsU/lSbiljXcpHdHR0iI45ssJ3kBUuFwWu89n10axhi2UBESnLCU1/hyPaUNzzVnBE8zW+qq8A2KaQkWCeRk9PDyZLGeqsV4hI/AgP4xI8jEtwz3offdpRenp6UNU8gTrrFVLrppJaN5Vs+0NcPjWVvtaHaGi6G0vDPRTXT0FV8zuSah8hrySHfaluRFXMwGwtJSJlOYernmG3/mPs9bX4mt4Ydq7Hs2ViQgXgUl+mLw8aV3lhqSQAJSQmG5IAvEUM5016uyyF1/JsnYz33jWbxPWOz5m9wkez5qZaAL2GeM8OxxaFTHw9NObeWBnuGTl//jxxowQKHi38zLkfz/Hzzz+L8zN0fM723vrV7NdEYqs0Ezqw/89H+1fO/XiOLQoZgYp/Yqt0WOVyirLILUwT269L+dNV87RNvoHz588PSsNnG3jtP+BB7JX4KcEp72OxliHPfBX37HcBUCUnsEseQHjaMsLk/tTaa0jL0bNfE4l3+UL8FWtpbGqkuCyPOHU4ZquRzBwth0pmEZH0PjlFWezIXsIGw8cArC9fiLXSwlb5Onw0a1Ak/4Ct0kxnZydB+YvwL3mLvZUv8eOP59hf9QJbzK9SVj8Fc8NddLU4wsBcbH2AnPLH+aH6WY5XP0VC1XN4lC4lWhnEzz//TEWlmcPqjXglfkqIdT4++W+PK+NOY1PjsJ9LAlBCQmK8SAJQ4lfLUAE4Wqq1a5FdmCnmyHVluPzChSXDB3AemorNSYJu35jHIU8+cs16V/HsitPD/aA2hrySHE4mRot1P//8M/klueL85JXkDCwB1wxq79wDWGYuRVa4nL2q3YPGf6btjHj+X375hT2KIA5rQgBHjuPj+nDkyUeIUYUSpdxBkPIfAIQrtrBN+Q1mq5GD2hgxjmBqtlo8R7RyB4rko2hSEohRhRKvicJWaSU5y3HMNuU3hCv8OXWqlTJzKe3t7QQo1nIy+QgnE6PYaHLsQdyWswSZ0Y2enh52q79kXcqf2Fb2GoGGj4lXB6Cu/S0H1MEctT5Htv0hwm2zaGz6Dd0DoWC6W+6jrP4+yuqnEJm1EEXNMyRWPkGs9nNOVD/FdsU6gsyvoq79LbsVHoTZ5rC19PWx3t4xM5ECcNoSX2a8EzSuMm2JJAAlJCYb1y0A74SlvxvhRpb20nKTRz3m1ySuhxM7kw3XpdWxWgD7+/tHPcbpcDHS0i1cmZ9rPUuu1qCRnh/X9s7nZzSHj2OJBwe9d4YycjqnOPv01q8e1L8hU0N/fz/KpDgAfvrpp0H9pOYYqG+w093dzaVLl8gtyqKnpwev8kWk5SazRfHdoPH99NNP7JD70tHRgTZdTrDci8jshRxUB2CttIhBqNflLgfgiO5j1qV8RHd3N2fPnWV9zjscSTzAupSPcM9bSYDyW/H8BS7Cur+/X5w/9+x3WWdcjHvuSjYkfkpg8VvElM5Fm3KYMNscurq62CH3wWwtw2wz0dPTQ39/P/GVz6OrfQyZcSkyoxsFRWlsNS8gyPIq63NWcDTxA5JSDxBX9SKXWh8SA0Hn26dga7gHT+Niwm2ziCmbQ5jcnz22l1FUPsVxfTgdHR0cTfyAHda5V3mn3wwmVAAu3siMZVvGVaYt3igJQAmJScZ/CoJAe9WDg5KdS0UqUpGKVCZvaa96UBKAEhIS40ISgFKRilSkcoeViRSALy7ayMy3t4yrvLhIEoASEpMNSQBKRSpSkcodViZUAC7cyEy3LeMqLy6UBKCExGRDEoBSkYpUpHKHFUkASkj8+vAWBOGSIAhdgiCcH/j3gEv9U4IgpAuC0C0IQvPA8UPZIAhCy0D7NEEQfneN80kCUCpSkYpU7rAykQLwpbc2MmvplnGVl96SBKCExGh4C4KQMULd/yMIQqsgCL6CIPy7IAhPCILQJAjC1y7HfCcIQoMgCI8LgvA/BEHYJDiE4n+M0KckAKUiFalI5Q4rEyoA3/Rh1pLAcZWX3vSRBKCExChcSwB+JAjCaUEQ/s3ls68EQah2eV8nCMKXLu//T0EQzgiC8MEIfUoCUCpSkYpU7rAiCUAJiV8f3oJj6faMIAh2wbH8e/9AXbAgCNohx08XBOGy4LAO/qcgCP2CILw45Bi9IAhBI5zvVx0IejLn6B0LQ8ff29t7W8Yxljh5t5po5c7rbuP8z3IkMvJSxzGi8bPtpCN37dD5PWY4JL5Oz0sZc3+Rus+u+uznn3++KgC2a/q/ELmPWO+r+nrEYNWu7FEE4ZX+vvi+9VQL0cqdROo+40zbGXH8QXIPYlX/pL+/H1XyATYpvwUcwaidY0jPS0GWu1J876f8O+75K+jo6KCltRmZ0Y2W1maOGw5jq7TS1nYGj/Q/Ao7c3M4MJs5jd5nnoUzaT0T6UqLU3xAs96SltZlY4xzMViO5RZm0tDbjlfkBAebXUKUep7W1mR0Kb3yyl5NU9RjKxF345L9NjP4Tcu0P0NZ0FxdbH+BS60Pk26eyv3Iapoa7OFj1POHa1USWziO1bioHqp4nImMpMcodVFRZychLpbW1Ga+kj8d2A6+DiYwDOP0NH15eHDiuMv0NSQBKSIzG44Ig3Dvw+jeCIMQLDgvffwiCECUIwqEhxz8mOATgXYIg3CM4BOCjQ45JEAQhYoTz/aoF4K+RkvKicbXfLt94zfqhuWMnAv+BYMI3m9EE4HA489aOFUuFmbzi4TN/3Iz+Xdkxyr0b2rfZZgIc89vc0kSpqRhvvSObR19fH1HKHWK9K9mFGQCcPXeWtrNtYn2pqVh8PlJzDOLxQ6/fmX/Xldq6anxVXw1b5xxfualQvIb8olSyCzNoO9sGwC65L9mFGdjr64hX78ZX9RVRyh1YKsx0d3cToQhGlXoCcAjMvr4+zDYT8sRYCksy2a8KoNRUjMVmIqcwnaQsLRtNbwIQrv+YfZUvEmKZT2zlS2yzzCe8YhYe2e+h0AYSapnHhZb76Gy+l66W+zhZ8ySl9fdwsuZJoipmkJyt52j17zlgeJ9ghQe7FRvJyE1EZYjBWmEiLTfpmvftRphQAfi6Dy8vChxXmf66JAAlJK6XfxcE4WdBEF4VbqEFcM2aNXzzzTd888036HS6m/5jJTF5aWkePtforcSZ3utWcyMCcLxEKbcPen9Iu1d8nTIgmkpNJWNqn1OUNai9E2XKcQCaW5poam5ih9yX0vLiq45zplQDKDM5/nBoam4adP5yc4loWVYkHwUcVrmdct+r+kvJMYiZQnbKffFXrAWuZBk5rI8T+98p9+WgNpY9iiCxvrGpkebmRtLzUthc9pY4P0cSD7BftYUo5Q4O6+I4rnfkPY7Q/wmAE0mH8Ur6hIwcHUf0+8SUfBsz3iU5S80+lQcbdH9mc8YKxxyqvkORfJTt2tUkZ6mJtcwkIOUD/PKX4q1fzQ8af9rb2wnKepuNGe/S29uLV9In6FMTOFj1PGGaL9hmmc/JZDdy7Pdzrvluahof4OfWB+htfZBC+wPIa54kpe5h4iqnkaD+hsjklXjrV+NhXML2tBVsNr+Of+LH7FNtEOd1KM0tTcN+PhI6nU78nV6zZo0kACUkfuU4BeACQRA+FK7eA/i1MPoewDZhlD2AkgXwX5tf6/2faAG4Xv/5hJxnt2LLiOf31q9mlzxwxLZOC+BoyMrcAEeqOFmZG4e0sZisRsw2E7vkgbjnvDtqH0lZV/6YHE7IAgQMiEjn+AGO68Nxz10pft7Z2Umg+TVkRjfx+trb2wfafw9AmNwfAIvNiKzMjZiSefiZ3kBmXEpZ/b0c0u4lomIWZls5AIry5/AzvY6+9lFkA+cyW8sA+EHtiaHuERQ1T3C8+mnsjf/Fueb7qGu8m9amuyit/y1ZdQ/gZ3oddc2TeBiXAFBUPwVv/WpkZW5XpdS72UykBS71zaYAACAASURBVHDGH3yYvTBwXGXGHyQBKCExGssFQfj/Bl7/b0EQ4gSHqPu/BYeVr0UQhI2CIPxfgiA8KQhCozDYC/i/BUGoFxyhX/6nIAibBYen8DW9gO80AeBc6rkTaGyaeAvbZMZVFIyVG9376CoAnVazW01T89VWHdfxO5ddx4rRUia+dj5LrvmEnWTkpwJwUL0FVeoJMQfw4LE1jHiejPzUYZ/VbXLvQf3/1P4T8epQdso3UW4pY5vcm97eXkrKiwiVbxp0/c62O0/6ok87wo8//QhAaXkxFy5c4IQ+kvW6z+nt7RX7t1Y4BJoq9QR7FEFkF2YSIvchTOmBOiWBkOT30KcdxT13JdmFGWQXZqJPPUJgyvs0NTfQ3NzIXtVu9GlHCbHOJylL7Wgv92e35kuilDvYq9qNrGgZquQE9ik3cdyQwCbVN2TkqNGmHCTKNgNNzZNE2GaSb7+fs8330NXiEICNTfdT03gveytfYrf1ZX7In4vMuJSDVc/hZ3qDk8lHUKWeYLt8AzuylxCh3EiU+h8jzvuNMqECcMEGZr8ZMK4yY8EGSQBKSIyCXHA4gHQLDuF2QBCEB13qnxAcXsIXBEdImHXD9LFeEIRTA32kCWOIA3grBeD1/ocncWeiz1Df7iEMIr8kd0QLYK295jaMaGwEyT1GrLvW0vFQ+vr6xNeblN/S3NKEr+orvPWrxT1y5348h7XSMqhdiNznqvYAJxOjKTWVYK+vI6coi83Kb6moNJNTlEVabrI49u7ubuDKvsIj+ngidavF58NZn5qTxLkfz5FfkgtAcqZCvC/NLU2cP3+eKOV28ktySctNZpfq79Taa9iX+D66DBV+mr8Sovw7AJG61fiqvuJY4kHAsRTd19fHPtUu9qnD8DAuIULt2HvolfIhIdlLATio3om10oJHwXJkRjf2VryIV8qHJGjCOF79NNn2+ymuf4Cqxt/Q1/oQl1ofoqvlQWoaH+B49dOk1D1MguFd0uoeQpm4h/CKWQCEWudw0DiDLbrP2K8OxT1/xZjv20gMXS6WBKCEhMR4uSMtgBPJ2XNnRz1mPF6yzv1RTiqrK264r4lkMngGj8ZELwGPxVJ5Pfc3RO7D2XNn6e/vF5d9Nym/paurC3A8O+l5KWO+F7ZKq/i6pbV52Gf7WuPbnf6O6Fji+pvR39+PZ/47AHhkfiDWZxcks1XuCUCMMlT0AnYSq/4nAF1dXbS3tw+av/b2dkLkPvT09BBROp8YZSh+qq/JLswEwCv9A9Ky1Xhmv4uHcQmH1MFi24PaGFpam0Wrb0zZHA5ooskuSMOrfBHHDQn09/eTlKXDI/s99IXTOFz1LKX19xCW/yZp5idYV76IbZZXSKp7hIam33C+ZQqXT02lpvFuyurvYaPpDRLrHkFR8ySVVWba29tRlrxIb28vh7QxyIxubFL9nZ3WuXikrRp2Pp1i+0aYUAH46gZmvxEwrjLjVUkASkhMNiQByMQ5JdwJOK0ow9a5hCe5E5goAXijz48mTXHDgt91jxw4PHRhsMVdk6YYdEysapd4f50hhpx78NJyk8T7e0Dt6KO6tgpV6gl++eUXsX9nPwD+irUYMjWDzrFL7ktRWYH4Xpuu5JdffmGL/kqImrTcZIIKFqJMOc52hQx34xL2q0KIVe3i9JnTAGwpfYM4dSgH1VuIMb8MgDJpP1tzFzssgsb5JGXpCFCsJaj0dSIVvoQpNhKtXI+/7jPiNZFEK3filfQJQUVv4qP9K6dPn8Ij831CtV8gM7oRq/kb0cqdbLfO46g2mFhVGKfPnGZD+Vvoah9ju3UexvqHsTf+F2ea7+Zi64OcarqH+MoXCLHO57D2rxzRBLLNMp/suql4ZHyAd9a7xKtDkBnd2Gp5lXh1sDhfN5OJFIAzX93AnNcDxlVmTqwA/H8FQcgWBCFVEIQ8QRCWTcA5JSTuOG6rADx9+tQt69veYL9lfTvJKki/5eeQuDE6OzuvSwCeTDpyi0d0BVfLm3NJ9Fo4Q6OYrMar6nbK/UZtX99gp6OjY1C4F6cThaO+7iproNFShr9iLTvlftQ32MX5qaq5Ili7u7vJyE/j/Pnz1NXX0tzSRFVNBQe1MeJvimfyR6LjSWV1BevKF/ODbrf4/XR6yMZrovBXfMcm1d/Zq9qNZ/JHdHd3c/r0KSKss9km96bOXkudvVbsFyAyayGR2W9x9txZZEY3qmoq2KvazXrd52hSj9Dd3U1nZyf+BYvxTP8j68sXEq+Jwjt1FXGJf6Suvpb15Qs5mXSEqmobOyzz2GmdS0z2mxyt/j2amifobL6XjuZ7aW++m9amKcRXvkCefQpBxW+yv2oaZmsZkVkLibNM50D+fLbmL8Y77x0i818jQLF2XKF/RkISgKPidJb8T8GxV15CQmIIkgXwXxjnpvyxMhaxcrOJVIbccNtbZQEcGlj5Wow0xwWleaP2H6HYNuIxzuVUH80a8b4Md39cvWwBUUANHV99gx2T1ciFCxcAKDYWXjVGH80a8bVT1FTVVHDp0iXC5P7U1FWjS1cSoQjGR7OG/JJc8kpy6O7u5tTpVrbIZeL1Xbp0ifySXApLc3HPX8Gp063U1FUPErkRim0YMjVkFaSzLWMZ2+QbANiTvYhI7WqKS7PZId9IRl4yBaV5dHd3IytYzgHNHjLz0zioCaOw1LHHMFrpS5DlVQKL3yDYMp+03GQCdZ9z0rCfjLxk9thexq9oMTsz3+aAZg+Hq57hRM1TJNc9zLnme+lrfZCS+oc43zKFPPvDHK9+GmXNk+wuWsBG05tE2GZishrRpRwk0vBHikpziDG8x079J/hq/jrifbxRJlQAvrKeOX/wH1eZ+cr627UEfLcgCGUTfE4JiTsCSQD+Shkp9titoshYMPpBIzBWL9/hPGyvVX+9AvBmLdUNdawYytCl2dGQDVnuHb5P+aD3TiGXnDW6c45zH2pipoYYVeiw9c7g0M0tTWTmpwEOZ4vGpnrgyv5C1/aH9XGYrEZC5f5s1X9CmNwfj+z3MKSfYLvch8P6OEJU3+JfuEhs4wwz4wzrEqBYizz5KNmFGSRmavDWryYzPw1Z0TL2ayLZq/kzABEKPw5p9xJcsJAiY4HDy9hwkKDMZeywzmWz6Q8cMxxia8EidiR+xBF9POvSPsRbt5pguRfBllcILXwDRc3v2JT0ESFyTyIrZmCsv4ds+wPUNN7L5VNTaW2agq7mcQrsjxJmm4MhU0OCbi8h1vnsLZ6Lh3EJ4bZZHDMc4qD6O3ZlLUabknDVnA79frruzxwLEykAZ81fz9zX/MdVZs2fcAH4vwRBSBcE4ZwgLQFLSAyLJAAlbipDHRJuhrOIR/Z7wNWeqcnZiVd95srNsgA6z3+zuHTp0lWfXb58WYxRNxLXulaADdo/i689st4fce6d5+/r6yNwwCp3+fLlYc/n9N69fPkysuJl1xxTRPK7yMreBhx7FPv7+8U4fQe1sciKl9Hf388206uAQ/i7hgXq7e2lv7+f/WqfYes36P6MrHgZuxWByIxLkRUvI0DxPdGWWeJYzDYT8SpfZMXLSM5OxJCpIbpsLvtVPmL/BzRRrDMuIUCxlijNl0SXzWVf5Yuoah/H3biEkrop6GofJaVuKiern6Kv9SFHHMCmu+luuY/0ugeJq5pGlPYLdljmss64BG3iTiJS3yHcMpvoiumcaTtDlOYvJGXpUFY+ec37diP8ygTgSsER3aJTcCQ2+LdhjtkgOMKgnReujm7xZ8Gx3+/EMO3+lyAIVcLIodAkJP5lkQTgbWIsHoB5JTnA1Z7CYyVeE3VD7SYz1xNXcbwC0Dn/18IZmsVoKb3mccPVj6V/Z5gUJ0OvP78k96rnw5kpo6W1GXAIqWuNL2RgaXUsHE08ADiWm539h8g3UF1bRXt7O+65K6murSRY7kWZuXRQ+JIdcl+amhs4qAlFnXpSrNdlqABoaGoQQ8q4567koDaG3fJAtii+Z69qtyODSMYKYpTBtLe3s0seyAFtDCGWeYPaRypDOKb9Ky2tzRjNxYTIN7BXtRs/0+scTTxA6kBqtl1J77FX8wWy4mX4mt5Ak3aS9eVvEZb+Ngcqn+dA5fOEWOaTVvcQF1rup6vlPhqb7iK97kEMdY+gKX6RdcbF7ChbwAl9JA1NDZhtJkcg6+K3ySvJ4bh+DyHlC8Y8v2NlQgXgvPXMXeA/rjJr3jUF4ALBIQI/FoYXgN8JgtAgOFKl/g9BEDYJgtAsjCzq/t3l9X8IglAjOGLpSkhIuPCfgiCgT9GM/oszDGNJHD+RDN3fdKM4/5ObDMSqwm73EG47N+psM1QAOsOnDEdD08hBkseCIUvLTvkm8f1IG/+v5Zw02vPrrHeO1bns7mqFG+4ancvBTqpqKsQlXSdHxvjMd3V1iecfulzc1dXFTrkf6Xkp4mdn2s7Q19eHIUtLsNwLRcoxIhTb6OvrY5PyWw7r9hGg+J4jiQfYpPyWnXI/DJkazp8/T5jmz8SqwkQrIsCO5HfZpw4nPS+FGFUo5ZYyOjs7qaqpYKd8Ew0NdcRrdhOh/5jDujgOqj1wNy4lVP01m7R/5gf9fpSGfQQo17IxezmRus+QGZcSbHmFA2mLiK18iaqaCkrq7yW+6gUy7A9RXH8PZ5vvp7XpIX5svofqxrv4ofoZ0vNS2GR6nbTMk+xWbMDH9BZH9XFk5CUTa5nJMf1eopU7xJR5N5OJFIAvz/Vm3qubx1Venus9lvHOEYYXgMNluDojjJzh6gXBsfybIghCriAIq67/0iUkfv2MagFMvQWJzJ0Ey71uWd8St4fhslTcLsZqAWw72zbo/VDBNBacgs8j6/1Bnw/9/kQO5LcdCef8uXrpXotffvllrEMchOvy8LoUx5icDiFHEw+wLvljguVeYv/OP/YqqmziH0jO5VnX9n19fRxNPEBHRwcdHR0YMjW0nW0T56eiysb58+fp6OggWO5FkNyD/v5+wuT+HDK8R1W1FVn+ctrOtomOLrLStzl//jx+qq/F8bWdbcNfsZYzbWfo7+/noDYai7WMPWnLCJX7ICt9G4+s95EVvUNnZydn2s6QVZCOZ/a7xKrCWJf9Lv6KtQSUvklnZyfbLPPJK84mvyidEzVPEVv0ChvKF7LLOhtzw120Nd1FVeNdmBvu5kzzfVTaHiet7iHkyYeJqpiB0vwMhzLfJK8kh3Xli6i115CarUGVeuKm/WHqyp0gAJ965mPumTKTe6bM5O57XrpRAXgjOe4lJCTGwC1fAh4aJ0xiYrnezeV3EsNl9Dh1qlV8PVYB6IyJdzMZbtn+oDb2pvTtDIY8EmXmK8u9w93/MnOpGEewpq4agNzCNExW46D5A8f31zk/kcoQTiY7wsHs10QAEK7YSqwqjKJSx3K2sz5auROAHapvCFdsFes1KYfILswkQbcXP9Pr1NRVEz0Qu/BM2xlOnWqlzFxKgm4vtfYa8ffjkHqrOH/rdV8AkJatJj3L4VCTlK2n9VQLW/KWUG4uIVyxlY1JH3FQs5NgyyvEq/1oPdXCyeQjbNH8hX2mmXgZPmWbZT4Jmm3IjG6sL1/IweKXCbHMY695Fpn2Bwm3zcHc8CB1jVPoaJmCpeE3lNgfI9I2gzj1P0ir+y1plY9xsvopYlS+aFIOEa30w924lI1JH+GV/DERiq0j3qsb/X2cUAE425t58zePq7w8+4YtgPcIDgH46JBjEwRBiLiJ1yoh8S/HTRWA9vo6YOI9UCcLt0JIjJdrLXsOh/MejpXJHAtxojOBXIt96vCrPguVb76hvpziy5Wx5Doe7fn8+eefxfvv6lBiNBejS/0BcASHHvr99kr6hB+0O6iqqRDbX758mabmJo7qY6iqqSBM7o+9vo60AYvo5cuX6erqEi2eFVU2qmoqCJBfWe7t6upim3w9ly9fRplyHHt9HQHy7zl95jQl5UUcMk4HHNbX06dPkZKTyLrkj9mvicDL8CnryhchM7qxwfAxp0+fwjftA7zLFxGt+o4Y2wzc81dwUPMNe0rno0w5zqbiRcRVTSNB/RWlxnySah+hwH4/6XUP0dkyhc6WqRTX309S7cOUGAuIqJhJXOU0fIwL0eiDOJo7FwCPzPfxMC6hosrGlqxlwzrYjJeJFICzX/Zi/rxN4yqzX/aSLIASEpOMMQvAybbfb7Jxo/NzK5aH7nRu1rN2uwTggQEnjBvB1Xp3vbhmFenq6iKvOPuqpWSnxQ8Q08uBY86dVssD2phh/3AIknuK7S9dusRxw2Gxbr8mkp6eHgxZWsIVwYPabVT/bdD7bYZVgz53LtHKCt4RcxW7567EXl9DTOIqCkpyWa/7gvW6L6iosrFfE4Gf6Q3yirOx19eIsQO9DJ+wK+0dPI2LAYi2zSBE7oOsZBltbWcwmkvxMnxKrPpr1utXYzSXcCx3Hu75K4jXRKFJPUZc1Yuc1G1nvX41sarvCbXOwd44lR+b76Gr5X6K6h8go+4RkuoeRmd6mq0Fb7Hb9jKh1jmoUo8TVTGDONVGNhS4oUo+wMmaJ4f1+h4v/0ICUBCG3wPYJoy8B1BCQmIM3LFewDfqGXsrmIyWv/EwWjiS8RA3jCXsZjHUMjacALyV5x+KvcFOao5hfH2MYJEd7vkfms1jtGw4yVla8bXZVj4olmCofDP2BjsJun3D9u/8/Jjh0KBjnH25cvHiRfQZag5qIsUg1zKjGwCB6SsIV2zlkHYvZ8+dJTHtGN761YQrgjmg2cUxwyHC5P4UlmTjn7Wccz+eIzFTQ3t7O2HqvxGuXMcO+Ub0GWpkRjcOqDcSmrJy0PUn6PYRqfCjuaWJY7rd4vk3pb3LHqUXR7S7CJP745+1HGXNk4Sq/k50xXQibDPZp/ontY2OMDBF9t/S2PgAKXUPc7zmKZJrH+F49e/Za5pJgOJ7IlKXs906j+P6cBT63RzTx1w1NzeLCRWAs7yYP3fTuMrsWdcUgP8mOLx7XxMcAvA/Bt7/HwP1/y0IQr3gCP3yPwVB2CwIQpMghXaRkBgXd6wAlJh83IqlrvFwvRbAich0MlqQaCdjXbrfqvAc+7krHMLssD4Oj7RVV7U320yDjneKzK6urmGdTVxj9MGV+evq6kJW5iZ6Jzt/XzYOZC3ZJQ/EPW8FgJgdZJc8kO7ubrq7uzmg9qerq4vUHIO4R+6AehMRhlUkpC7BvegdwJFnWJuuRJa7knBFMGabiaMZr3NYH4dn7gqC5B709fWhrn2crq4uNiR+SqxtBnsUW8T57erqorOzE5lxKQUluawrXUJ+1YOoax8nzz6F0vp7OFT1HLbG39DadBcdLfdjbLgbfe1jRGo/J1Kzhr3GOezXROBjeouSslzi1Rvp6uoiKf0o6TlXRDaM/f6PxoQKwJnrmD/Hb1xl9sx11xrvR4JjmffyQHG+nu1yzHpBEE4JgtAtXB0HUEJC4gYYVQAO3RQ+0RQbC2/r+ceDxXzrxp6Sk3jL+nZSaiq+5ecYL9d6Pm50CTg5e2xze61c1q5icrQAztdi6PU5Q7C49h8kv1rEpeQkjvrdcWbbAIel0Wkxq7PX0t3dTYBiLcXGQi5cuCCm5NslD2SXPPCq5++Qdi/giEFoqTCzRe4+qN5SYSavKJ1g5T+os9cSLF9HcpaWYmMhKVkqMRahxWZir2o37e3t7FOHU2wsZGfZa2xOew9v3WqyCzNRJx8kKH8hvrovCJP7E6H5gpQcA+tSP0JmdGOvaje9vb3IjG7sUn/lsPYlfUSs6ntiyuaQnKWmvb2d0vICNpS/hb/iHwQl/5HDxunEVr5EmG0228sXsD/lbdS1j3Oi+mkK657A2jCVTPuD/FD1DLraxzhe9Qy+ui84WfMkqVkqlOUvsL9yGpHKEGJK5t1SB7hfmQCUkJC4DUwaC+Bxw9XpkuDOFoA3wi55wO0eAjD29Gw3k6EWpaHUj7Kk6cpWued1C8Cx9N/Z2XndjjKjca1lYqfIHOn74cReX8cueeDAsYdFgbhPHY4uXXnVsU4CFGuvmvcIxWDnFFcBm1OU5RhzbhIl5UXAlVR1m9Leo76xHnt93aDwN+rUEwB0dHSI53eec586nCCFh1hf3+hILdfb2ys6yRzQ/0kUmPWN9UQpZfgr1uKvWIvRVIQuXYm9vo6QpA/YJl9PrNKXHaUL8Nd/RrGxkKQsHXtSl+FVvgiv1FX4K9binr+CIMurhMn9CZTLHB7Ahnc5YpxOZPZCPI2LUdf8jjz7fRjr76Gl6X5+ar6bAusTpNc9SGbdVI6lLSbCNpMA82scrnqWBG00jY12wPH8nUy8dYHYJ1IAzpmxjldm+42rzJkhCUAJicnGpBGAt4O0WxjjUOIKt+v5uhlOIE4hPHTP3ViuKUjuIb6OGOIYcTNxHYvrMrxTuDmF10jOCLLclUQogvHWrR71XD7qNUQqQ0Tnkt7eXvH8lgozAAfU/uJnznO7EqkMobOzE3/FWi5cuEBHRwfH9ZEUluaLx/T39+OvWIshU0NUxQyOaHcSY53BBu1fOKCJBhxW0AsXLtDU3ITCsA+/giVYK8pFJ5K+vj42K/9BZO7rBFteEcdytPr3uOeuFGMVRpXMY6fcF5nRTfysrOEe8qofIb/+PswNd/FL64M0Nf0XZ5p+Q0H9FLLqHiCh+lk2l71Fc3MjPxink1+SQ1FpLj9YXkBW9jb+ym9Gnc8bZUIF4HRPXnnZd1xlznRPSQBKSEwy/qUF4K3kRgP0/toZ6qjgFA23gtsdBsZ1v9dojjVjrXedv7EuVY8kPodrv18TedVnFy9eFF976x0i0T13JclZWvH+JWZqaGltZqvCU8xek5yl5bjhMBcvXiRauQNV6glaT7VgyNSwSx6IrdJMSo5BTF0HsEcRRG5RFkcSD3BCH8F+daBo/TNZjYRa52DI1BAm98cr8VMAdsp9xXF561djGHASCU5/h63p77BX5YnZVk64bSZbLK+yX72Dbdb5yIxu7FSv4bjtWTaa3mRf0TxkRjdUtY8TUzGdhNxX+aHqGbLtD2BtuJvTzfdzqulejug+I9I2k+iK6aTWTeVw9TOEqb5mp3UuWywLOKiNYZfL8vqtQBKAEhIS42VcAjB3YDno14YydfiYalU1lRM8ktvHUIeAG2E4689EcjsE4I2m/XJmI+np6aHtbJtorRs6h66WyNHmd7Sl6qH1VTVXwshs1KwBYLd8y6DxAaIFbrjv/9DnpqOjA2tF+aCcwEMpLM2n7WwbQXIPenp62Cr3FJ00coqy2Kj+Ujy2tq560PzsUf+NiJTlbDF8RE9PD2abCfes9zHbTOxX+7C34kW89avZkfQ+AYq1bEr9gHCFP0Wl2SRn6diSvoJySxlbLAvQpB4nLnUpypon2Gh6k42mN0mpe5ji+inUN96LueE+zPWOPMApdVOJq3oRpT6Uzs5OguQexKi/4Wj10+zXRCArefuacz9eJlIAzn3Rk1dn+o6rzH1REoASEpONO8oC+GsLtzKap2foLbYi3OmMNn/DCcBAxT9H7VeRcmxc4xoPw43PR/tXYPDz77z2ABfBWWuvobq2alBbp5XMFadjV2NTI9mFGWIwZlcB6DxHY1PjoLzG1bVVYvukLB3/f3t3Hh5Vee8B/NfW28Xb9d4uClrXuhW1pbXcWu9FIEC01jZUgWoVN1TEXUETJAmLEBYDEiEiS5A9osAsmawkZE9IyL6vJGHfQkAhCcv3/nEyw0yWyQxnMnMy+X6e532ezJxl3nnnZPLNOe953x0JkZgV/TIMidtRW1+DoNjJlvY7ffo0VugWoKKq3LLcPHvL6dOncfr0aaw1vofg7HHKGb2E5yyvc/HiRaw0TUVA1gTMjn4FW6LXwT/nMSzUv49Fu/6NqupyBGb/EzsSInHmzBks1c9AcVkhlqf6IcL4NvzzxuETXQg2R0fg4sWLiEn6Qqlf0d+wqGQ0Pkv4lxIAc/+KtPqbUFFZguhkA3al6BCU+gTWVw3DlwmPIWffr5FQdxsqG65DfO09ONw0GNHVQzG/0Bdbq4diQ9ZoxFbfic1R81FWWYqZic9gZbav3c/YFdwaAP80Az73z1FVHvzTDAZAIo3pVwGwP9B1TIVFV0Zt++l2bUNWnjLtmNozgNaDdPc2/ZozzPXrbLMTA0ibuxj0NKzI2bNn7d5UExm7HjsTvujyvDncde7zOMc01aZ+K/Ufoa6+Fgv003Hu3Dl8ql8MAAjVBSErLwORsetRXlmGhLQYtLW1obg0D0eOHsHRY0eRnZuCs2fP2ixfWjoS22Mvj9Fort/MxGcQmu9rGTcwKHYyCkrysdqwDPFp0SirLIUxbiWy8zKxtGNIm+KSvVic/zDi06IRbgjAuXPnkJ6TirXGd1FWUYTtsSsRaVqKMOMbCE18Am1tbSgszUdw0SPYZArHx8Y3sLJoONZXDUNxw2DE1d6Bw02DcHz/dTh94HpUNl6LjVX3IbnuFoQbAqCvGYJP457GZ5m+mFfsi5SMqF4/P7UYAIlILQZAcrvVHXO/OqK3YzNUF9jjMkcCoL3tga536F64cMElg5BfunRJ9T7MffO625f58nDn9quoKre0/+7MXZbnN5nWYm7U65bHx44fQ6gu0PIahoT1lmXb4jbh2PFj2J25y9J+X8VtRnpOKiqqyi13IIcY34Ju15eob6jHV3GbMTfqdVy4cAGrDctw6tQphOoCbdq/ubkZwRmPWdo3IGsC4lNNmJk0CZtMaxEUM9ly6ffY8WNoaWlBVNJOAEC4bj7mRL2KmUV/w9mzZzEzcRJCdYFYlv0w6hvq8UnZcJRVliIrNw0Bhf/AjMK/Y23J/8KUuBX+hX4ILR2F4rJC5Oan43NjANbmjsTaguGIS9qM2sZr8fWBG3D+4C04e+BGlDQMgqn2TqwtGI7Awr8huOgRBGSPx/Hjx1zSdcIRbg2A982Az5/nqCoP3scASKQ1DIBu5Eg79zZ7g7PWGcNduj+1OXBwqwAAGhRJREFUnJ2b2FnZeZmWn93RB/DwkcMu2Y95fL/e2Ds+rPv0mS/b5hVkAQC+jNuE+n3KGU3zUCt7C3Msx4f1NHLW2xeWFiAu1YTK6ooufQbDdPNw+Mhhm8vQ1u1vvhlkTdRrSEiLQUtLC9KyYpUwWPwQIgxBWGcMR0r2biSkxVimdEtMMwIAvopTbv5YqPPHMtNU5OYrZ043RC3E+fPn8bHxDRSWFiAlezeSMhOUvn5lD2KZaSoy9iTi6NEjmJM+HinZu7EkcQK2xUagpLwYm6NCsK70z1haNgK5BXvwQeGjCIx/DsbESKRmxWFD5X1YW/oXfJn3F+yovgfzS8bicNNgtB68Cdur70VG3RAklQ3BrKK/ItK0FCElY7FMNwfhpsvzJ/c1dwbAEX8MwOj/ma2qjPhjAAMgkcYwADqh87yqrrAnP8vl+ySFIwFwo6nvxmpzlfb2duzs5dK4eY7exqZGm+fNYwMCl4OfeZ/WU8GZl5d2nMEyH+t78rNsznimZCUBAJbsDMZGqzuGzWcTT506hc3Ray2DIEfGrEZcqgk7d22zBDyz0JgXlH3pgpGWFY+V+lDLpd74VBP25Gdhcfo4xKWasMqwFMVlhdgUPQWmxK2ITzUhIS0G+UV7sUg/HTt3bcPGrNH4IOkp1NZWwpSsx7aY1VikC8CqqFcRbnwbK/WhWKQLwArdQoTqZuKTsuH4pGw45peMRVFpAb6Mnwhd/EasSnwcsWV3Q199N75K9ENl47XIqBuCI/sHo7RhEHbX3YFNxfcjJlmHjUnjMK/YF3HJO+x+Pq7GAEhEag2oAOiKy27eznrID2eY+4BpibvvAp4VPcXy84zUJ/v89ToP49L5s2ttbbWMC/ipfrFlKJktMeu67CsyZr3l96O7mUsuXLjQ6+/PrOgpKK0oQUDeuC7jBG6OjgCgTEd3/vx5tLa2or29HYv1l2cMKSkvsryGefvd6VFobW3Fct08zIp+GflFe236Iq6rHIYZaU9ghW4B9hbmWPpGzkh9EompBgTk++Ho0SP4MiYc/rn/xKy8vyMq9hMcPnwIMckGhBWPxNGjRxBQ+A/kF+9FbM0dWFzqo8w1XD4csbW3Y1bRI0iuuxkn9l+HlLpbkF1/Ez7IGo/5Jb4IKx6FmNo7LHMMu4tbA+Af/DF62CxVZcQf/BkAiTRmQAVAUi8mxejpKjjMU+MA5hbscWg9NWMDBnTMvgFcnj3G3uX+9JwUAMCBg/sBADt3bcMXsRtQXFZoCY6xKZdvXugcJiOMKwAAJ06esDxnvmz9RewGm3XXGj7Ezl3b0NDUgA+SnsYG4ywY4j7F5ui1luOnra0NDU0N2Ba7EZujI7DOuBQL9O8hwrgC0ckGLNUFYnn6o1ipD0VbWxuWx01C0/4mHDi4H2UVxfjmm28AAMGxk+Ff6IfP9IEISJ+IoNjJSNuTjObmZjQ27UNKVhLCdB/CtFuP5brZWK5bgGW6OWhra8PCkjFYGT0ZX5b/AYb4z/FJ2XB8mvkwlpimYEbh32Gs+S38C/0QX3s7KhuvwcGmG1DbeC1WlT+Aj8tGYJtpOhbop2OrEzfvuIpbA+BQf4y+b5aqMmIoAyCR1lxxAOxpVoGBwN78yOZhLtzN0Tmbnanfyo4BhM1TfmlBb6HJHAwA5wKg9eXRvrJEF9Tjsu4+v+y8TGTtTXdo+85Onz6NnHzbu41r6qot7Tevm1kqrOcXNp+Bq6qptHz+5uXbYy9f+t2zVxkLcEt0BIJiJ+Obb75BXPJ25BfvRXZeJk6cUAKjed7h2voabImOwIULFxCin46qmkqk56RipT7UMrMHoIToqppKzDa9ggsXLuDQoYPYmTkCJeVFOHToIHIL9iBEPx3zTFORW7AHizP8MNv0iuX9BWROwEp9KHILspGek4ql+unwL/RDaXkxtkRHIDMnCaGlo7DWGIDwkgexuuJ+rK8ahtLyYkRmjcTOmruRWHcb5hQ/jKama7A9+/+Qs+8m1DUOQnb9jciovxGry+/Hpijlfbl7znQGQCJSy+vPAB467NgXc38bvkXrn5n1ECpXKm1PstPbWPeBc9UZwOCYF1XvA1ButAjRT3NqmzDdvB6XHTx0AIDt9G/WzIEtOOZF6HZtwwL9dDQ2NeLosaNdPp+FuyfaPG5pacHBQwcsd+kutxqT8vOoTy3HX2DCM5bnF+U/BEAZNHpWzMsI081Fxp5Ey/LW1lZLH0Jzn0Xr+jc2NSIlKwmrjdNRVFpgGVS7paUFobogVFZXYEXieGw0fYaAzAkIyB6PMN08BO0Zh1BdEBqbGhGY8Aw2RK1CXX0t1hinobauWhkfUBeCVRX3IyE9FjuiQ9Hc3IyIbB+E6ebBP3MC/Av90Nraig+SnkJzczOCEp9GQt1vkFp/C3bV3YaihuuRt+82lDRcj8z6G2Couge1Vu/B3dwZAEf+/n2M+WOwqjLy9+8zABJpjMMBML9orxu+1sjVOg8M7Enb47e69fX66hJwavZuVdtbn1HtadYZM+vPr6c7jlcbPsYaQ5ilfc1z6sYkG7qse+ToEQDKoNIxyQbEpBgt/easPx/zcuDyPxsr9B9inTEcqdm7sc4YjjWGZTZ3D68yLLV5LXPIa21tRWJGHCJjLg8lYx7Uep0xHBHGFfAv9MNS3WwcPnwIkSZlmJqYpC+wMeojbIpaiOW6EBw+chgl5cVYFPc8FuU9hJq6asSkGLHasASAcpk6KG0iUrN3Y5NpDWKSvkCEcTk+yvdFWPwkrDEGwL/QD5ujFmC9cS4CE57DGsMyLC71wUfGN7EpajHWGj7GEtMUfFD4KHZU34v1VcPwVfW9SE0dqwwBs+9G7Kq7zc4n5h5uDYC/ex9j/hCkqoz8HQMgkdb0qzOA8wxve7oKpCG9zQxzJQGwvb3d6Xpcyc1FgfG2M3SsMYQ5vf3xE8cdmh3H0aF3zL9fp06dsqmf+f2VV5ZZAiQAy+v7Z07Ax7pgy12+5jEIAzImYqluNgITnrOZTWRG8r9x8NABLNkZjAMH9+PSpUuYkfxvlJYVICM3zXJDkXn/ldUVCNcv6njfz+Gr+C24dOkSVmeNRXyqCf6F/8CZM2cQHP882tvbsSBNmYZtXurjOHBwP2YWPgr/Qj+EJ47HjLQnsCVqMVZmPoQI43SsjnkeMXvvwxpDGNYk/wNlFUWIqPwfJNXdCl3hfdhaNRSxtbejpnEQDjUNwtqKPzvUln2NAZCI1OpXAZC0yZP9Qe0FJ1eeAbQ3l62Zdcgx30lbWlHiktfvTWTs+m6ft57D15r1ANfmzy+/WDnLbz5zl5OfjdKKEsyJes2ybv2+Osw1vo7z58/j2PFjlmGMlutCYExShkL5PEqZ0WNb7EYAgH/mBCzXhWC18XK/w/Pnz6OkvBhhug+RmaOcUV0R8zzq99VZtgeUz3dH/L9QU1eN2Xv8cObMGcuNJGUVRcjIScY8w9vIyEmGMWkHzpw5g2XGdwAAmTnJMMSvQXjJcHxa/gB08etRUJSDxckT4J/3T4Qa3sZc4+tYXuCDmUWPYqtpCtYX/i/C0h9Fc3MzTDV3YVHJaFQ03ITihsGW9nGGs8HeUW4NgPe+hzFDA1WVkfe+xwBIpDEMgJ10HlrDWSdPnnRRTTzD0fdv2q2zu9z6ZozeXMlZN0e4IgBuie46ZIqWWNev87G3ybTG7raboyO6zIRi/fknpMVYxvMDgESr0Bimm2uznfXl383Ra7ssT8nejZMnT2K+4V1UVlfYHB9nz55FVU0FEjPi0bS/CfnFeVgV9SbC9YtQUJKP9vZ2LNeFoLGpEaUVxSgs2YtQXSD0u77Ecl0ItlYPxcaoT7BCNxeboxaisroCS3QzYUjchh2xq7AjIRKGxO0I1QViY9Qn2By1EIaCYQjVBeLDlAnQxX+OqpoKLMv1xcc5DyGyaig+K38AkVVDsbHyPkREvWO3HT3BrQHw7vcw5neBqsrIuxkAibSGAZC8lr0AGJAxsdvnnWUdkFwhKHayU+sv0L/X4zLruYDNQ8UAzs05DChhw3p7a+b371/g12VZ5+c6DwQdop+GBfrplu8f/wI/y/u3/nxaWlqwI3YVgmNfRFDc5fZJSut+zt0Nxllobm7GatMUxFl9Pub9m9+/f4EfFujfwweFj2JJ6Sh8XjkMwUWPYGHJGJxsPon4TgNlawkDIBGpxQA4gJw4ecImFLhSSnaSquV9wToAXulQNp1n1uiOvbmBHdnensLSAgCAIbHnm0Xa29stN2N0PguYnpPqcF3MY/xZDzdj3t6QuN1mDEAAKCotQGNTIwyJ2ztuCgnr9vgyJG633EX8iW4e8ov2Ikw3D0t0QYiMXomlutmYFf0yGpsasc4YZHPD2Ur9XKwxTscSXRD8C/2wIOFp5BfthSlxC0L00y31yyvKxe50E5r2NyHCOA0749ZiV1q0TcDcYlqMEMN0GJN2YEuU0t9xjWEWAnIeQ1zSRsxI/xeiEpUbYcyXs7XKnQFw1JDpGHvvTFVl1JDpDIBEGsMACNvxz7Sqpz5e3mapbnaPy5wdY9HRS8Dz9baX+Hp7HUfrkZOfjdWGZTbz43bHkT6U5s+/t2O1oDjP7vad62dWW19j04cRAPYWXK63eXvrz2db3CZk52Vivv4drI9aidr6GhQU59mcYSyrLAWg9KHMyk1BZm4qImPXI0Q/DcdPHLdpm6/iNiMscSIyctMs2x47fgyrol9CbX0N5uc8irKKItTW1yDE8LZlmJjsvEx8pJ+G4rJChCVORGDR37A7PRoJaTEIiVbm540wzsaylHEoLS/GopLRmN/PbyhzawD87TSMvecDVWXUb6cxABJpDAMgeS13zQQS1OmOXvIOKSqH++lLDIBEpBYDIHktT00FR9TX3BoA73oXY++eoaqMuutdBkAijWEAJK/FANi7/tD9wRWOHT/m6So4PQuMPW4NgHe+g7FDAlSVUXe+wwBIpDEMgOS1GAApKy+j95X6IQZAIlLLZQEwKSbAqfVPVP7O5svMGRcP3YpTHZPVq5WR8KxT61dWFNk8zkrXO7ztxUO3orbsT90u621cvd501/6ZCZN6XN/c/o7U/+KhW7E7IfyK69ZZUvxyy8/m9reuf1LMBz1ua25/6+OnJ64OgKWZDzm1flaG0eZxRXmBU9vb+/yc0fn3y7r9Lc/Z+f1trr4HgG397Y3zaO/zs+f4ieNdnrM+Ps3t393x0x1z+5vr707dfb85c/ycam7ucvxYc2sAvP0djL0rQFUZdTsDIJHW8AwgeS1HAuCVTONGnlFSXtT7SgOEOwOgz21vw/dOf1XF57a3GQCJNIYBkLwWLwEPDH01k4wnfKYPdWg9BkAiUmtABcDTp097ugrkRlcaAKtqKlQt78zebB1EV8KtAfA3b8H3jvdVFZ/fvMUASKQxAyoA9oVTp055ugrUA54BJFc4euyop6vQhVsD4C1vwve291QVn1veZAAk0hgGQPJaDID9l/X0eufOnfNgTbSJAZCI1HJpAGxoqHXJfohcgQGQvJVbA+DNb8D3N9NVFZ+b32AAJNIYngEkr8UASN7KvQHwdfjeOk1V8bn5dQZAIo1hAOxHNpg+83QV+hUGQOorKx28W7evMAASkVoMgOS1GACpv7PuC2nNrQHwptfge8u7qorPTa8xABJpjMMBsH5fnau/24gcVlpR4vQ2/TkAJmbEeboKLpWYEa96H+k5qaqW92edj3+3BsAbXoXvTe+oKj43vMoASKQxPANIXsteAPxId2XTlRH1BWf/wWYAJCK1GAAd1NOlGNKu/nwGsC9cyVlUcr1VhqWq9+HWAPjrV+B741uqis+vX2EAJNIYBkAv0NbW5ukqaNJAD4C70r3rMnJf6K+h2K0B8Pop8L3hTVXF5/opDIBEGsMASF5roAdA6juenlaSAZCI1GIAJK+l5QBYWe3cfMJka6C3n1sD4OCX4Xv9G6qKz+CXGQCJNIYBsIM330HobgnpsZ6uAgBtB0BPysrL8HQV+q1Dhw56ugoA3BwAB70E3+teV1V8Br3EAEikMQyA5LUYAMlbMQASkVoMgOS1HAmAuQV73FQbbcjOy/R0FcgF3BoAr30JvoNfU1V8rmUAJNIaBkDSlMamRpfty5vPAH799deersKAsUQX7OkqdOHWAHjNi/Ad9Kqq4nPNiwyARBrDAEhey5sDIA1sDIBEpBYDIHktBkDFCt0CT1eh31mhW+jpKtjl1gD4yxfge80rqorPL19gACTSGAZA6vfmGd/s9nkGQOoPejp+7XFrAPzF8/D91RRVxecXzzMAEmkMAyB5La0EwIsXL3q6Cprgyv6dAx0DIBGpxQBIXksrAZC0yZC43aX72x6/1aX7s8etAfDnz8H3ly+rKj4/f44BkEhjGADJazEAkqO2x0d6ugpOcWsA/K9n4fvzl1QVn/96lgGQSGMYAMlrMQCSVuw/0OTS/TEAEpFaDIDktRgAvU/TftcGqf7KnQFw1M8mYex/T1ZVRv1sEgMgkcYwAJLXYgC8cs3NzZ6uAtnh1gD406cx9mcvqCqjfvo0AyCRxjAAkte6kgDIM0zUHzAAEpFaDICkWWWVpaq2d9UZQM6fS1rj1gD4k6cw9qfPqyqjfvIUAyCRxjAAktfiJWDyVm4NgD96EmN//KyqMupHTzIAEmkMA6BGnTt3ztNV6PcYAN0nt3CPp6swoDAAEpFaDIDktRgAyVu5NQD+8AmM/dEzqsqoHz7BAEikMQyApEpWXoanq9AjBkDyVu4MgCOvnogx//m0qjLy6okMgEQawwBIXosB0L2Onzju6Sq4XENTQ5+/Rnt7u9PbMAASkVoMgOS1GAC7On/+vKer0G8s0L/n6Sr0yK0B8AcTMObqp1SVkT+YwABIpDEMgOS1GADJW7k1AH5vPMZ8/9+qysjvjWcAJNIYBkDyWgyA2uGOS6nerKqmwuYxAyARqcUASF6rPwXA1YaPPV0Fjzh16pSnq9AvuTUAfvdxjPneE6rKyO8+7okA+HMROSkiz7nxNYk0YZaIHBCRMyKyW0R+2806DIDktfpTANS6wtICT1eBrLgzAI646jGM/o9/qSojrnrMEwFwmYjsFAZAGmCmiUiDiNwlIt8TkXkisl9Eru60HgMgeS0GQPJWDIC9ulNE1ohIoDAA0gBTJyKvWj3+jogcEZEnO62nyQC4/0CTp6vgUjExMZ6uglfrqX0ZAF3HG4/hcP2iLs8t1s3wQE2cb1+3BsDvjMPoqyaoKiO+M87dAXC7iFwnIkHCAEgDyI9F5JKIDOv0fKyILO5mXc0FQG/z1ltveboKXq2n9mUAdB0ew33L2fZ1ZwB88Ft+8Pn2eFXlwW/52avvBBFJEZEWEbkoIt/uZh17XZpeFpEkEdnR8XisiMzv+JkBkAaU60QJgLd3en6riHzW6TkGQDfgH8++xQDY93gMO2a2aeoVbTfAA+BoUULgs9J9AHS0S5NZgIgkiki0iFSLSJGIPKimIYj6C6fPADY1NaGlpYWlj8rUqVM9XgdvLj21b3PVzWiuutllr9PY2OjR9xm6dY7m2pjFM+3b1NTktgD4gDyMB+XvqsoD8rAj9R0u3QdAR7s0dYd9AGnA6e4X5qh0/YUZLMovJQsLCwtL/yuDpe98X0QOubCuJzr22ZPh0jUAOnNCg4hE5F0R2SdKP4kfiNIfokm6njL/lihfID9mYWFhYelXZbAo3+F96fsurK+98CfSfQB0pksTEXUIFuW/t6+l53EAiYiItIBnAImIiIgGmO4CoIjjXZqIiIiIqJ/4tih3944RJQBe3fHYfHnb0S5NROQER6aLo66CROSCiJwWpe1Oi8gmq+X3iEiyKJff93es3xnb3lZvY4G5ok0d2Ye36q19L4nIWbE9pju3H9u3Z/NFGW6kRZQ22ixK/zVrPIa7N0mU4+9iRzH//H9W6wQLuzQRuYyzYyvRZUGi/DHtzg9F5KCIzBWR74rIEFH+W33Dah22fVf2xgJzRZs6sg9v1ttYa5dEZISd7dm+9n0oIr8XkatE6be2SUTyrZbzGCYizVAzttJAZy8AThKRw2L7B/Z1UQYkNWPb96y7fkCuaFNH9jEQ9NTP6pKIjLSzHdvXOfeK0s4/6XjMY5iINIF3VqkTJMolmiMiUi/Kf/s3diwLFWUEemt/FuWPwQ+Fbd+b7gKKK9q0t30MFPYC4EEROSYiuSLygtUytq/zposS6Mx4DBORJnBsJXXuEpHrO36+VkQ2ivJf+NUislpEtnRa/w5RvqQHCdu+N90FFFe0aW/7GCh6CoAjRLnseJWIPCQiJ0XkpY5lbF/n+IjyD+Joq+d4DBORJvAslGt9V0TOifLFzzOA6vAMYN/qKQB2FigiaR0/s30d94iINIvIo52e5zFMRJrBsZVcxxwAR4vI09K1n84b0ntfH7a9oruAoqZNn3BiHwOBMwEw3eox27d3T4oS/ny6WcZjmIg0g2MrXbnHReS/O37+lYisF+XL+z9F+U/8gIjMEWXqo7tFpFFs79Rj23dlbywwV7SpI/vwZvba9/ciMlRE/kOU0DFGlHlbp1ptz/a171VRLpv/pYflPIaJSFOChWMrXQmdKDeAfC3KF/QmEbnZavkQUe4S/kaUjvUzu9lHsLDtrfU2Fpgr2tSRfXgre+37iIiUiTL230lRhi+Z3M0+goXt25NLItImShtaj6VoHQh5DBMRERERERERERERERERERERERERERERERERERERERERERERERERERERERERERERERERERERERERERERERERERERERERERERERERERERERERERERERERERERERERERERERERERERERERERERERERERERERERERERERERERERERERERERERERERERERERERERERERERERERERERERERERERERERERERERERFRH/h/QDF2tFb8miAAAAAASUVORK5CYII=\">"
      ],
      "text/plain": [
       "<IPython.core.display.HTML object>"
      ]
     },
     "metadata": {},
     "output_type": "display_data"
    }
   ],
   "source": [
    "fig, ax = plt.subplots()\n",
    "\n",
    "im=ax.imshow(imgs[0], origin='lower' ,cmap='viridis',norm= LogNorm(vmin=0.0001,vmax=1E1))\n",
    "fig.colorbar(im)\n",
    "ax.set_title( 'imgs0')\n",
    "plt.show()"
   ]
  },
  {
   "cell_type": "code",
   "execution_count": 20,
   "metadata": {
    "collapsed": false
   },
   "outputs": [
    {
     "data": {
      "application/javascript": [
       "/* Put everything inside the global mpl namespace */\n",
       "window.mpl = {};\n",
       "\n",
       "mpl.get_websocket_type = function() {\n",
       "    if (typeof(WebSocket) !== 'undefined') {\n",
       "        return WebSocket;\n",
       "    } else if (typeof(MozWebSocket) !== 'undefined') {\n",
       "        return MozWebSocket;\n",
       "    } else {\n",
       "        alert('Your browser does not have WebSocket support.' +\n",
       "              'Please try Chrome, Safari or Firefox ≥ 6. ' +\n",
       "              'Firefox 4 and 5 are also supported but you ' +\n",
       "              'have to enable WebSockets in about:config.');\n",
       "    };\n",
       "}\n",
       "\n",
       "mpl.figure = function(figure_id, websocket, ondownload, parent_element) {\n",
       "    this.id = figure_id;\n",
       "\n",
       "    this.ws = websocket;\n",
       "\n",
       "    this.supports_binary = (this.ws.binaryType != undefined);\n",
       "\n",
       "    if (!this.supports_binary) {\n",
       "        var warnings = document.getElementById(\"mpl-warnings\");\n",
       "        if (warnings) {\n",
       "            warnings.style.display = 'block';\n",
       "            warnings.textContent = (\n",
       "                \"This browser does not support binary websocket messages. \" +\n",
       "                    \"Performance may be slow.\");\n",
       "        }\n",
       "    }\n",
       "\n",
       "    this.imageObj = new Image();\n",
       "\n",
       "    this.context = undefined;\n",
       "    this.message = undefined;\n",
       "    this.canvas = undefined;\n",
       "    this.rubberband_canvas = undefined;\n",
       "    this.rubberband_context = undefined;\n",
       "    this.format_dropdown = undefined;\n",
       "\n",
       "    this.image_mode = 'full';\n",
       "\n",
       "    this.root = $('<div/>');\n",
       "    this._root_extra_style(this.root)\n",
       "    this.root.attr('style', 'display: inline-block');\n",
       "\n",
       "    $(parent_element).append(this.root);\n",
       "\n",
       "    this._init_header(this);\n",
       "    this._init_canvas(this);\n",
       "    this._init_toolbar(this);\n",
       "\n",
       "    var fig = this;\n",
       "\n",
       "    this.waiting = false;\n",
       "\n",
       "    this.ws.onopen =  function () {\n",
       "            fig.send_message(\"supports_binary\", {value: fig.supports_binary});\n",
       "            fig.send_message(\"send_image_mode\", {});\n",
       "            fig.send_message(\"refresh\", {});\n",
       "        }\n",
       "\n",
       "    this.imageObj.onload = function() {\n",
       "            if (fig.image_mode == 'full') {\n",
       "                // Full images could contain transparency (where diff images\n",
       "                // almost always do), so we need to clear the canvas so that\n",
       "                // there is no ghosting.\n",
       "                fig.context.clearRect(0, 0, fig.canvas.width, fig.canvas.height);\n",
       "            }\n",
       "            fig.context.drawImage(fig.imageObj, 0, 0);\n",
       "        };\n",
       "\n",
       "    this.imageObj.onunload = function() {\n",
       "        this.ws.close();\n",
       "    }\n",
       "\n",
       "    this.ws.onmessage = this._make_on_message_function(this);\n",
       "\n",
       "    this.ondownload = ondownload;\n",
       "}\n",
       "\n",
       "mpl.figure.prototype._init_header = function() {\n",
       "    var titlebar = $(\n",
       "        '<div class=\"ui-dialog-titlebar ui-widget-header ui-corner-all ' +\n",
       "        'ui-helper-clearfix\"/>');\n",
       "    var titletext = $(\n",
       "        '<div class=\"ui-dialog-title\" style=\"width: 100%; ' +\n",
       "        'text-align: center; padding: 3px;\"/>');\n",
       "    titlebar.append(titletext)\n",
       "    this.root.append(titlebar);\n",
       "    this.header = titletext[0];\n",
       "}\n",
       "\n",
       "\n",
       "\n",
       "mpl.figure.prototype._canvas_extra_style = function(canvas_div) {\n",
       "\n",
       "}\n",
       "\n",
       "\n",
       "mpl.figure.prototype._root_extra_style = function(canvas_div) {\n",
       "\n",
       "}\n",
       "\n",
       "mpl.figure.prototype._init_canvas = function() {\n",
       "    var fig = this;\n",
       "\n",
       "    var canvas_div = $('<div/>');\n",
       "\n",
       "    canvas_div.attr('style', 'position: relative; clear: both; outline: 0');\n",
       "\n",
       "    function canvas_keyboard_event(event) {\n",
       "        return fig.key_event(event, event['data']);\n",
       "    }\n",
       "\n",
       "    canvas_div.keydown('key_press', canvas_keyboard_event);\n",
       "    canvas_div.keyup('key_release', canvas_keyboard_event);\n",
       "    this.canvas_div = canvas_div\n",
       "    this._canvas_extra_style(canvas_div)\n",
       "    this.root.append(canvas_div);\n",
       "\n",
       "    var canvas = $('<canvas/>');\n",
       "    canvas.addClass('mpl-canvas');\n",
       "    canvas.attr('style', \"left: 0; top: 0; z-index: 0; outline: 0\")\n",
       "\n",
       "    this.canvas = canvas[0];\n",
       "    this.context = canvas[0].getContext(\"2d\");\n",
       "\n",
       "    var rubberband = $('<canvas/>');\n",
       "    rubberband.attr('style', \"position: absolute; left: 0; top: 0; z-index: 1;\")\n",
       "\n",
       "    var pass_mouse_events = true;\n",
       "\n",
       "    canvas_div.resizable({\n",
       "        start: function(event, ui) {\n",
       "            pass_mouse_events = false;\n",
       "        },\n",
       "        resize: function(event, ui) {\n",
       "            fig.request_resize(ui.size.width, ui.size.height);\n",
       "        },\n",
       "        stop: function(event, ui) {\n",
       "            pass_mouse_events = true;\n",
       "            fig.request_resize(ui.size.width, ui.size.height);\n",
       "        },\n",
       "    });\n",
       "\n",
       "    function mouse_event_fn(event) {\n",
       "        if (pass_mouse_events)\n",
       "            return fig.mouse_event(event, event['data']);\n",
       "    }\n",
       "\n",
       "    rubberband.mousedown('button_press', mouse_event_fn);\n",
       "    rubberband.mouseup('button_release', mouse_event_fn);\n",
       "    // Throttle sequential mouse events to 1 every 20ms.\n",
       "    rubberband.mousemove('motion_notify', mouse_event_fn);\n",
       "\n",
       "    rubberband.mouseenter('figure_enter', mouse_event_fn);\n",
       "    rubberband.mouseleave('figure_leave', mouse_event_fn);\n",
       "\n",
       "    canvas_div.on(\"wheel\", function (event) {\n",
       "        event = event.originalEvent;\n",
       "        event['data'] = 'scroll'\n",
       "        if (event.deltaY < 0) {\n",
       "            event.step = 1;\n",
       "        } else {\n",
       "            event.step = -1;\n",
       "        }\n",
       "        mouse_event_fn(event);\n",
       "    });\n",
       "\n",
       "    canvas_div.append(canvas);\n",
       "    canvas_div.append(rubberband);\n",
       "\n",
       "    this.rubberband = rubberband;\n",
       "    this.rubberband_canvas = rubberband[0];\n",
       "    this.rubberband_context = rubberband[0].getContext(\"2d\");\n",
       "    this.rubberband_context.strokeStyle = \"#000000\";\n",
       "\n",
       "    this._resize_canvas = function(width, height) {\n",
       "        // Keep the size of the canvas, canvas container, and rubber band\n",
       "        // canvas in synch.\n",
       "        canvas_div.css('width', width)\n",
       "        canvas_div.css('height', height)\n",
       "\n",
       "        canvas.attr('width', width);\n",
       "        canvas.attr('height', height);\n",
       "\n",
       "        rubberband.attr('width', width);\n",
       "        rubberband.attr('height', height);\n",
       "    }\n",
       "\n",
       "    // Set the figure to an initial 600x600px, this will subsequently be updated\n",
       "    // upon first draw.\n",
       "    this._resize_canvas(600, 600);\n",
       "\n",
       "    // Disable right mouse context menu.\n",
       "    $(this.rubberband_canvas).bind(\"contextmenu\",function(e){\n",
       "        return false;\n",
       "    });\n",
       "\n",
       "    function set_focus () {\n",
       "        canvas.focus();\n",
       "        canvas_div.focus();\n",
       "    }\n",
       "\n",
       "    window.setTimeout(set_focus, 100);\n",
       "}\n",
       "\n",
       "mpl.figure.prototype._init_toolbar = function() {\n",
       "    var fig = this;\n",
       "\n",
       "    var nav_element = $('<div/>')\n",
       "    nav_element.attr('style', 'width: 100%');\n",
       "    this.root.append(nav_element);\n",
       "\n",
       "    // Define a callback function for later on.\n",
       "    function toolbar_event(event) {\n",
       "        return fig.toolbar_button_onclick(event['data']);\n",
       "    }\n",
       "    function toolbar_mouse_event(event) {\n",
       "        return fig.toolbar_button_onmouseover(event['data']);\n",
       "    }\n",
       "\n",
       "    for(var toolbar_ind in mpl.toolbar_items) {\n",
       "        var name = mpl.toolbar_items[toolbar_ind][0];\n",
       "        var tooltip = mpl.toolbar_items[toolbar_ind][1];\n",
       "        var image = mpl.toolbar_items[toolbar_ind][2];\n",
       "        var method_name = mpl.toolbar_items[toolbar_ind][3];\n",
       "\n",
       "        if (!name) {\n",
       "            // put a spacer in here.\n",
       "            continue;\n",
       "        }\n",
       "        var button = $('<button/>');\n",
       "        button.addClass('ui-button ui-widget ui-state-default ui-corner-all ' +\n",
       "                        'ui-button-icon-only');\n",
       "        button.attr('role', 'button');\n",
       "        button.attr('aria-disabled', 'false');\n",
       "        button.click(method_name, toolbar_event);\n",
       "        button.mouseover(tooltip, toolbar_mouse_event);\n",
       "\n",
       "        var icon_img = $('<span/>');\n",
       "        icon_img.addClass('ui-button-icon-primary ui-icon');\n",
       "        icon_img.addClass(image);\n",
       "        icon_img.addClass('ui-corner-all');\n",
       "\n",
       "        var tooltip_span = $('<span/>');\n",
       "        tooltip_span.addClass('ui-button-text');\n",
       "        tooltip_span.html(tooltip);\n",
       "\n",
       "        button.append(icon_img);\n",
       "        button.append(tooltip_span);\n",
       "\n",
       "        nav_element.append(button);\n",
       "    }\n",
       "\n",
       "    var fmt_picker_span = $('<span/>');\n",
       "\n",
       "    var fmt_picker = $('<select/>');\n",
       "    fmt_picker.addClass('mpl-toolbar-option ui-widget ui-widget-content');\n",
       "    fmt_picker_span.append(fmt_picker);\n",
       "    nav_element.append(fmt_picker_span);\n",
       "    this.format_dropdown = fmt_picker[0];\n",
       "\n",
       "    for (var ind in mpl.extensions) {\n",
       "        var fmt = mpl.extensions[ind];\n",
       "        var option = $(\n",
       "            '<option/>', {selected: fmt === mpl.default_extension}).html(fmt);\n",
       "        fmt_picker.append(option)\n",
       "    }\n",
       "\n",
       "    // Add hover states to the ui-buttons\n",
       "    $( \".ui-button\" ).hover(\n",
       "        function() { $(this).addClass(\"ui-state-hover\");},\n",
       "        function() { $(this).removeClass(\"ui-state-hover\");}\n",
       "    );\n",
       "\n",
       "    var status_bar = $('<span class=\"mpl-message\"/>');\n",
       "    nav_element.append(status_bar);\n",
       "    this.message = status_bar[0];\n",
       "}\n",
       "\n",
       "mpl.figure.prototype.request_resize = function(x_pixels, y_pixels) {\n",
       "    // Request matplotlib to resize the figure. Matplotlib will then trigger a resize in the client,\n",
       "    // which will in turn request a refresh of the image.\n",
       "    this.send_message('resize', {'width': x_pixels, 'height': y_pixels});\n",
       "}\n",
       "\n",
       "mpl.figure.prototype.send_message = function(type, properties) {\n",
       "    properties['type'] = type;\n",
       "    properties['figure_id'] = this.id;\n",
       "    this.ws.send(JSON.stringify(properties));\n",
       "}\n",
       "\n",
       "mpl.figure.prototype.send_draw_message = function() {\n",
       "    if (!this.waiting) {\n",
       "        this.waiting = true;\n",
       "        this.ws.send(JSON.stringify({type: \"draw\", figure_id: this.id}));\n",
       "    }\n",
       "}\n",
       "\n",
       "\n",
       "mpl.figure.prototype.handle_save = function(fig, msg) {\n",
       "    var format_dropdown = fig.format_dropdown;\n",
       "    var format = format_dropdown.options[format_dropdown.selectedIndex].value;\n",
       "    fig.ondownload(fig, format);\n",
       "}\n",
       "\n",
       "\n",
       "mpl.figure.prototype.handle_resize = function(fig, msg) {\n",
       "    var size = msg['size'];\n",
       "    if (size[0] != fig.canvas.width || size[1] != fig.canvas.height) {\n",
       "        fig._resize_canvas(size[0], size[1]);\n",
       "        fig.send_message(\"refresh\", {});\n",
       "    };\n",
       "}\n",
       "\n",
       "mpl.figure.prototype.handle_rubberband = function(fig, msg) {\n",
       "    var x0 = msg['x0'];\n",
       "    var y0 = fig.canvas.height - msg['y0'];\n",
       "    var x1 = msg['x1'];\n",
       "    var y1 = fig.canvas.height - msg['y1'];\n",
       "    x0 = Math.floor(x0) + 0.5;\n",
       "    y0 = Math.floor(y0) + 0.5;\n",
       "    x1 = Math.floor(x1) + 0.5;\n",
       "    y1 = Math.floor(y1) + 0.5;\n",
       "    var min_x = Math.min(x0, x1);\n",
       "    var min_y = Math.min(y0, y1);\n",
       "    var width = Math.abs(x1 - x0);\n",
       "    var height = Math.abs(y1 - y0);\n",
       "\n",
       "    fig.rubberband_context.clearRect(\n",
       "        0, 0, fig.canvas.width, fig.canvas.height);\n",
       "\n",
       "    fig.rubberband_context.strokeRect(min_x, min_y, width, height);\n",
       "}\n",
       "\n",
       "mpl.figure.prototype.handle_figure_label = function(fig, msg) {\n",
       "    // Updates the figure title.\n",
       "    fig.header.textContent = msg['label'];\n",
       "}\n",
       "\n",
       "mpl.figure.prototype.handle_cursor = function(fig, msg) {\n",
       "    var cursor = msg['cursor'];\n",
       "    switch(cursor)\n",
       "    {\n",
       "    case 0:\n",
       "        cursor = 'pointer';\n",
       "        break;\n",
       "    case 1:\n",
       "        cursor = 'default';\n",
       "        break;\n",
       "    case 2:\n",
       "        cursor = 'crosshair';\n",
       "        break;\n",
       "    case 3:\n",
       "        cursor = 'move';\n",
       "        break;\n",
       "    }\n",
       "    fig.rubberband_canvas.style.cursor = cursor;\n",
       "}\n",
       "\n",
       "mpl.figure.prototype.handle_message = function(fig, msg) {\n",
       "    fig.message.textContent = msg['message'];\n",
       "}\n",
       "\n",
       "mpl.figure.prototype.handle_draw = function(fig, msg) {\n",
       "    // Request the server to send over a new figure.\n",
       "    fig.send_draw_message();\n",
       "}\n",
       "\n",
       "mpl.figure.prototype.handle_image_mode = function(fig, msg) {\n",
       "    fig.image_mode = msg['mode'];\n",
       "}\n",
       "\n",
       "mpl.figure.prototype.updated_canvas_event = function() {\n",
       "    // Called whenever the canvas gets updated.\n",
       "    this.send_message(\"ack\", {});\n",
       "}\n",
       "\n",
       "// A function to construct a web socket function for onmessage handling.\n",
       "// Called in the figure constructor.\n",
       "mpl.figure.prototype._make_on_message_function = function(fig) {\n",
       "    return function socket_on_message(evt) {\n",
       "        if (evt.data instanceof Blob) {\n",
       "            /* FIXME: We get \"Resource interpreted as Image but\n",
       "             * transferred with MIME type text/plain:\" errors on\n",
       "             * Chrome.  But how to set the MIME type?  It doesn't seem\n",
       "             * to be part of the websocket stream */\n",
       "            evt.data.type = \"image/png\";\n",
       "\n",
       "            /* Free the memory for the previous frames */\n",
       "            if (fig.imageObj.src) {\n",
       "                (window.URL || window.webkitURL).revokeObjectURL(\n",
       "                    fig.imageObj.src);\n",
       "            }\n",
       "\n",
       "            fig.imageObj.src = (window.URL || window.webkitURL).createObjectURL(\n",
       "                evt.data);\n",
       "            fig.updated_canvas_event();\n",
       "            fig.waiting = false;\n",
       "            return;\n",
       "        }\n",
       "        else if (typeof evt.data === 'string' && evt.data.slice(0, 21) == \"data:image/png;base64\") {\n",
       "            fig.imageObj.src = evt.data;\n",
       "            fig.updated_canvas_event();\n",
       "            fig.waiting = false;\n",
       "            return;\n",
       "        }\n",
       "\n",
       "        var msg = JSON.parse(evt.data);\n",
       "        var msg_type = msg['type'];\n",
       "\n",
       "        // Call the  \"handle_{type}\" callback, which takes\n",
       "        // the figure and JSON message as its only arguments.\n",
       "        try {\n",
       "            var callback = fig[\"handle_\" + msg_type];\n",
       "        } catch (e) {\n",
       "            console.log(\"No handler for the '\" + msg_type + \"' message type: \", msg);\n",
       "            return;\n",
       "        }\n",
       "\n",
       "        if (callback) {\n",
       "            try {\n",
       "                // console.log(\"Handling '\" + msg_type + \"' message: \", msg);\n",
       "                callback(fig, msg);\n",
       "            } catch (e) {\n",
       "                console.log(\"Exception inside the 'handler_\" + msg_type + \"' callback:\", e, e.stack, msg);\n",
       "            }\n",
       "        }\n",
       "    };\n",
       "}\n",
       "\n",
       "// from http://stackoverflow.com/questions/1114465/getting-mouse-location-in-canvas\n",
       "mpl.findpos = function(e) {\n",
       "    //this section is from http://www.quirksmode.org/js/events_properties.html\n",
       "    var targ;\n",
       "    if (!e)\n",
       "        e = window.event;\n",
       "    if (e.target)\n",
       "        targ = e.target;\n",
       "    else if (e.srcElement)\n",
       "        targ = e.srcElement;\n",
       "    if (targ.nodeType == 3) // defeat Safari bug\n",
       "        targ = targ.parentNode;\n",
       "\n",
       "    // jQuery normalizes the pageX and pageY\n",
       "    // pageX,Y are the mouse positions relative to the document\n",
       "    // offset() returns the position of the element relative to the document\n",
       "    var x = e.pageX - $(targ).offset().left;\n",
       "    var y = e.pageY - $(targ).offset().top;\n",
       "\n",
       "    return {\"x\": x, \"y\": y};\n",
       "};\n",
       "\n",
       "/*\n",
       " * return a copy of an object with only non-object keys\n",
       " * we need this to avoid circular references\n",
       " * http://stackoverflow.com/a/24161582/3208463\n",
       " */\n",
       "function simpleKeys (original) {\n",
       "  return Object.keys(original).reduce(function (obj, key) {\n",
       "    if (typeof original[key] !== 'object')\n",
       "        obj[key] = original[key]\n",
       "    return obj;\n",
       "  }, {});\n",
       "}\n",
       "\n",
       "mpl.figure.prototype.mouse_event = function(event, name) {\n",
       "    var canvas_pos = mpl.findpos(event)\n",
       "\n",
       "    if (name === 'button_press')\n",
       "    {\n",
       "        this.canvas.focus();\n",
       "        this.canvas_div.focus();\n",
       "    }\n",
       "\n",
       "    var x = canvas_pos.x;\n",
       "    var y = canvas_pos.y;\n",
       "\n",
       "    this.send_message(name, {x: x, y: y, button: event.button,\n",
       "                             step: event.step,\n",
       "                             guiEvent: simpleKeys(event)});\n",
       "\n",
       "    /* This prevents the web browser from automatically changing to\n",
       "     * the text insertion cursor when the button is pressed.  We want\n",
       "     * to control all of the cursor setting manually through the\n",
       "     * 'cursor' event from matplotlib */\n",
       "    event.preventDefault();\n",
       "    return false;\n",
       "}\n",
       "\n",
       "mpl.figure.prototype._key_event_extra = function(event, name) {\n",
       "    // Handle any extra behaviour associated with a key event\n",
       "}\n",
       "\n",
       "mpl.figure.prototype.key_event = function(event, name) {\n",
       "\n",
       "    // Prevent repeat events\n",
       "    if (name == 'key_press')\n",
       "    {\n",
       "        if (event.which === this._key)\n",
       "            return;\n",
       "        else\n",
       "            this._key = event.which;\n",
       "    }\n",
       "    if (name == 'key_release')\n",
       "        this._key = null;\n",
       "\n",
       "    var value = '';\n",
       "    if (event.ctrlKey && event.which != 17)\n",
       "        value += \"ctrl+\";\n",
       "    if (event.altKey && event.which != 18)\n",
       "        value += \"alt+\";\n",
       "    if (event.shiftKey && event.which != 16)\n",
       "        value += \"shift+\";\n",
       "\n",
       "    value += 'k';\n",
       "    value += event.which.toString();\n",
       "\n",
       "    this._key_event_extra(event, name);\n",
       "\n",
       "    this.send_message(name, {key: value,\n",
       "                             guiEvent: simpleKeys(event)});\n",
       "    return false;\n",
       "}\n",
       "\n",
       "mpl.figure.prototype.toolbar_button_onclick = function(name) {\n",
       "    if (name == 'download') {\n",
       "        this.handle_save(this, null);\n",
       "    } else {\n",
       "        this.send_message(\"toolbar_button\", {name: name});\n",
       "    }\n",
       "};\n",
       "\n",
       "mpl.figure.prototype.toolbar_button_onmouseover = function(tooltip) {\n",
       "    this.message.textContent = tooltip;\n",
       "};\n",
       "mpl.toolbar_items = [[\"Home\", \"Reset original view\", \"fa fa-home icon-home\", \"home\"], [\"Back\", \"Back to  previous view\", \"fa fa-arrow-left icon-arrow-left\", \"back\"], [\"Forward\", \"Forward to next view\", \"fa fa-arrow-right icon-arrow-right\", \"forward\"], [\"\", \"\", \"\", \"\"], [\"Pan\", \"Pan axes with left mouse, zoom with right\", \"fa fa-arrows icon-move\", \"pan\"], [\"Zoom\", \"Zoom to rectangle\", \"fa fa-square-o icon-check-empty\", \"zoom\"], [\"\", \"\", \"\", \"\"], [\"Download\", \"Download plot\", \"fa fa-floppy-o icon-save\", \"download\"]];\n",
       "\n",
       "mpl.extensions = [\"eps\", \"jpeg\", \"pdf\", \"png\", \"ps\", \"raw\", \"svg\", \"tif\"];\n",
       "\n",
       "mpl.default_extension = \"png\";var comm_websocket_adapter = function(comm) {\n",
       "    // Create a \"websocket\"-like object which calls the given IPython comm\n",
       "    // object with the appropriate methods. Currently this is a non binary\n",
       "    // socket, so there is still some room for performance tuning.\n",
       "    var ws = {};\n",
       "\n",
       "    ws.close = function() {\n",
       "        comm.close()\n",
       "    };\n",
       "    ws.send = function(m) {\n",
       "        //console.log('sending', m);\n",
       "        comm.send(m);\n",
       "    };\n",
       "    // Register the callback with on_msg.\n",
       "    comm.on_msg(function(msg) {\n",
       "        //console.log('receiving', msg['content']['data'], msg);\n",
       "        // Pass the mpl event to the overriden (by mpl) onmessage function.\n",
       "        ws.onmessage(msg['content']['data'])\n",
       "    });\n",
       "    return ws;\n",
       "}\n",
       "\n",
       "mpl.mpl_figure_comm = function(comm, msg) {\n",
       "    // This is the function which gets called when the mpl process\n",
       "    // starts-up an IPython Comm through the \"matplotlib\" channel.\n",
       "\n",
       "    var id = msg.content.data.id;\n",
       "    // Get hold of the div created by the display call when the Comm\n",
       "    // socket was opened in Python.\n",
       "    var element = $(\"#\" + id);\n",
       "    var ws_proxy = comm_websocket_adapter(comm)\n",
       "\n",
       "    function ondownload(figure, format) {\n",
       "        window.open(figure.imageObj.src);\n",
       "    }\n",
       "\n",
       "    var fig = new mpl.figure(id, ws_proxy,\n",
       "                           ondownload,\n",
       "                           element.get(0));\n",
       "\n",
       "    // Call onopen now - mpl needs it, as it is assuming we've passed it a real\n",
       "    // web socket which is closed, not our websocket->open comm proxy.\n",
       "    ws_proxy.onopen();\n",
       "\n",
       "    fig.parent_element = element.get(0);\n",
       "    fig.cell_info = mpl.find_output_cell(\"<div id='\" + id + \"'></div>\");\n",
       "    if (!fig.cell_info) {\n",
       "        console.error(\"Failed to find cell for figure\", id, fig);\n",
       "        return;\n",
       "    }\n",
       "\n",
       "    var output_index = fig.cell_info[2]\n",
       "    var cell = fig.cell_info[0];\n",
       "\n",
       "};\n",
       "\n",
       "mpl.figure.prototype.handle_close = function(fig, msg) {\n",
       "    fig.root.unbind('remove')\n",
       "\n",
       "    // Update the output cell to use the data from the current canvas.\n",
       "    fig.push_to_output();\n",
       "    var dataURL = fig.canvas.toDataURL();\n",
       "    // Re-enable the keyboard manager in IPython - without this line, in FF,\n",
       "    // the notebook keyboard shortcuts fail.\n",
       "    IPython.keyboard_manager.enable()\n",
       "    $(fig.parent_element).html('<img src=\"' + dataURL + '\">');\n",
       "    fig.close_ws(fig, msg);\n",
       "}\n",
       "\n",
       "mpl.figure.prototype.close_ws = function(fig, msg){\n",
       "    fig.send_message('closing', msg);\n",
       "    // fig.ws.close()\n",
       "}\n",
       "\n",
       "mpl.figure.prototype.push_to_output = function(remove_interactive) {\n",
       "    // Turn the data on the canvas into data in the output cell.\n",
       "    var dataURL = this.canvas.toDataURL();\n",
       "    this.cell_info[1]['text/html'] = '<img src=\"' + dataURL + '\">';\n",
       "}\n",
       "\n",
       "mpl.figure.prototype.updated_canvas_event = function() {\n",
       "    // Tell IPython that the notebook contents must change.\n",
       "    IPython.notebook.set_dirty(true);\n",
       "    this.send_message(\"ack\", {});\n",
       "    var fig = this;\n",
       "    // Wait a second, then push the new image to the DOM so\n",
       "    // that it is saved nicely (might be nice to debounce this).\n",
       "    setTimeout(function () { fig.push_to_output() }, 1000);\n",
       "}\n",
       "\n",
       "mpl.figure.prototype._init_toolbar = function() {\n",
       "    var fig = this;\n",
       "\n",
       "    var nav_element = $('<div/>')\n",
       "    nav_element.attr('style', 'width: 100%');\n",
       "    this.root.append(nav_element);\n",
       "\n",
       "    // Define a callback function for later on.\n",
       "    function toolbar_event(event) {\n",
       "        return fig.toolbar_button_onclick(event['data']);\n",
       "    }\n",
       "    function toolbar_mouse_event(event) {\n",
       "        return fig.toolbar_button_onmouseover(event['data']);\n",
       "    }\n",
       "\n",
       "    for(var toolbar_ind in mpl.toolbar_items){\n",
       "        var name = mpl.toolbar_items[toolbar_ind][0];\n",
       "        var tooltip = mpl.toolbar_items[toolbar_ind][1];\n",
       "        var image = mpl.toolbar_items[toolbar_ind][2];\n",
       "        var method_name = mpl.toolbar_items[toolbar_ind][3];\n",
       "\n",
       "        if (!name) { continue; };\n",
       "\n",
       "        var button = $('<button class=\"btn btn-default\" href=\"#\" title=\"' + name + '\"><i class=\"fa ' + image + ' fa-lg\"></i></button>');\n",
       "        button.click(method_name, toolbar_event);\n",
       "        button.mouseover(tooltip, toolbar_mouse_event);\n",
       "        nav_element.append(button);\n",
       "    }\n",
       "\n",
       "    // Add the status bar.\n",
       "    var status_bar = $('<span class=\"mpl-message\" style=\"text-align:right; float: right;\"/>');\n",
       "    nav_element.append(status_bar);\n",
       "    this.message = status_bar[0];\n",
       "\n",
       "    // Add the close button to the window.\n",
       "    var buttongrp = $('<div class=\"btn-group inline pull-right\"></div>');\n",
       "    var button = $('<button class=\"btn btn-mini btn-primary\" href=\"#\" title=\"Stop Interaction\"><i class=\"fa fa-power-off icon-remove icon-large\"></i></button>');\n",
       "    button.click(function (evt) { fig.handle_close(fig, {}); } );\n",
       "    button.mouseover('Stop Interaction', toolbar_mouse_event);\n",
       "    buttongrp.append(button);\n",
       "    var titlebar = this.root.find($('.ui-dialog-titlebar'));\n",
       "    titlebar.prepend(buttongrp);\n",
       "}\n",
       "\n",
       "mpl.figure.prototype._root_extra_style = function(el){\n",
       "    var fig = this\n",
       "    el.on(\"remove\", function(){\n",
       "\tfig.close_ws(fig, {});\n",
       "    });\n",
       "}\n",
       "\n",
       "mpl.figure.prototype._canvas_extra_style = function(el){\n",
       "    // this is important to make the div 'focusable\n",
       "    el.attr('tabindex', 0)\n",
       "    // reach out to IPython and tell the keyboard manager to turn it's self\n",
       "    // off when our div gets focus\n",
       "\n",
       "    // location in version 3\n",
       "    if (IPython.notebook.keyboard_manager) {\n",
       "        IPython.notebook.keyboard_manager.register_events(el);\n",
       "    }\n",
       "    else {\n",
       "        // location in version 2\n",
       "        IPython.keyboard_manager.register_events(el);\n",
       "    }\n",
       "\n",
       "}\n",
       "\n",
       "mpl.figure.prototype._key_event_extra = function(event, name) {\n",
       "    var manager = IPython.notebook.keyboard_manager;\n",
       "    if (!manager)\n",
       "        manager = IPython.keyboard_manager;\n",
       "\n",
       "    // Check for shift+enter\n",
       "    if (event.shiftKey && event.which == 13) {\n",
       "        this.canvas_div.blur();\n",
       "        event.shiftKey = false;\n",
       "        // Send a \"J\" for go to next cell\n",
       "        event.which = 74;\n",
       "        event.keyCode = 74;\n",
       "        manager.command_mode();\n",
       "        manager.handle_keydown(event);\n",
       "    }\n",
       "}\n",
       "\n",
       "mpl.figure.prototype.handle_save = function(fig, msg) {\n",
       "    fig.ondownload(fig, null);\n",
       "}\n",
       "\n",
       "\n",
       "mpl.find_output_cell = function(html_output) {\n",
       "    // Return the cell and output element which can be found *uniquely* in the notebook.\n",
       "    // Note - this is a bit hacky, but it is done because the \"notebook_saving.Notebook\"\n",
       "    // IPython event is triggered only after the cells have been serialised, which for\n",
       "    // our purposes (turning an active figure into a static one), is too late.\n",
       "    var cells = IPython.notebook.get_cells();\n",
       "    var ncells = cells.length;\n",
       "    for (var i=0; i<ncells; i++) {\n",
       "        var cell = cells[i];\n",
       "        if (cell.cell_type === 'code'){\n",
       "            for (var j=0; j<cell.output_area.outputs.length; j++) {\n",
       "                var data = cell.output_area.outputs[j];\n",
       "                if (data.data) {\n",
       "                    // IPython >= 3 moved mimebundle to data attribute of output\n",
       "                    data = data.data;\n",
       "                }\n",
       "                if (data['text/html'] == html_output) {\n",
       "                    return [cell, data, j];\n",
       "                }\n",
       "            }\n",
       "        }\n",
       "    }\n",
       "}\n",
       "\n",
       "// Register the function which deals with the matplotlib target/channel.\n",
       "// The kernel may be null if the page has been refreshed.\n",
       "if (IPython.notebook.kernel != null) {\n",
       "    IPython.notebook.kernel.comm_manager.register_target('matplotlib', mpl.mpl_figure_comm);\n",
       "}\n"
      ],
      "text/plain": [
       "<IPython.core.display.Javascript object>"
      ]
     },
     "metadata": {},
     "output_type": "display_data"
    },
    {
     "data": {
      "text/html": [
       "<img src=\"data:image/png;base64,iVBORw0KGgoAAAANSUhEUgAAAoAAAAHgCAYAAAA10dzkAAAgAElEQVR4nOzdeVxU590//Kvt73nu3vfvfvr743nuNtEkaszabG3aJK1JqzFJaxY1GKPGLGapWWqaxjQxBRRwB0VQNmURUBFc0TP7wLAP+zIMs7HOAMMiuLCIqCB8nj+GOQ4wrAMD6Pf9el0vZ856zTkDfDznXNfFGCGEEEIIIYQQQgghhBBCCCGEEEIIIYQQQgghhBBCCCGEEEIIIYQQQgghhBBCCCGEEEIIIYQQQgghhBBCCCGEEEIIIYQQQgghhBBCCCGEEEIIIYQQQgghhBBCCCGEEEIIIYQQQgghhBBCCCGEEEIIIYQQQgghhBBCCCGEEEIIIYQQQgghhBBCCCGEEEIIIYQQQgghhBBCCCGEEEIIIYQQQgghhBBCCCGEEEIIIYQQQgghhBBCCCGEEEIIIYSQu48nY6xnqisxRj9hjLkyxkyMseuMsWLG2IoprREhhBBCyAwyizH2/FRXYox2Mkvw28gYW8gYO8gsIXbJVFaKEEIIIYRMvP+LMfY/jLEbjDGPAfMUzHIlkBBCCCGEjMCLMdZr876XMbadMfY9Y6yGMdbBGBMxxv4/xtg9jLEzjLG2vnmb7GzvVcZYEbNcoStnjH3GGItmltu1Vj/r20dl33IXGWPpjLEFNsuYGGPHGGOfMMYMjLGbjLHljLEPmOVq3/wB+/24b/qc0XxoQgghhJC72cBnAHsZY9WMMSFj7HVmCVZtjDE5YyyPMebGGFvMLLdde1n/266/Zparc6mMsaWMsZWMsRJmCYtGm+XcGWPtjLGvGWN/Yoy92VePt2yWMTHG6vrWX80Ye5kxNo8xtpsx1mnnczzXV5/XR/m5CSGEEELuWvYCYClj7Kc20/b1TXe1mfYzxlgTY+ywzbTYvmn/YTPtHma5ymcbAIXMciVxOCZmufr4PwOmhzLGGuwsP7+vju+PsF1CCCGEkLuevQAYOGCZ9X3L/G7A9EzGWILN+yrGWJSdfSSx/gHQg1mu4u1gjL3ILM/2DWRiluf6BqIASAghhBDiIHsBcNuAZdb1LfPggOkpzPLsnlUnY8zHzj5iWf8A+DPG2A+MMXXfdtsZY5GMsf/XZhnrM4ADeTO6BUwIIYQQ4pCJDICjvQJo65eMsU+Z5TnDOJvpJsbYUTvLfzhEXT5m1AiEEEIIIWRUJjIAHmeWZwB/bjPtXmZpGDJUALQ6yxjT2LwfKgD+D7O0CN4yYLqCWa4oEkIIIYSQEUxkAHycWcJZOmNsGWNsFbO04q1mli5frM4zxrYyS7cuf2aMfcsYu8YY87VZZqgAyNjtlsC2HUHfYnT7lxBCCCFkVDyZJTxZ9TBLOLM1XABMGzDtFXa7H8BKZmlAEs8YK7RZZiNjLItZ+v+7xiz9/G1hlmcDrYyMsSND1PknzNIdje1QcC5DLEsIcZ6fMMt/AC+ywf+RJIQQchf534yxRsZY2FRXhBDiFLMZYx8xCoCEEHJXCWCMrWGWW7vvMcZymOUq3ZNTWSlCiFOtYxQACSHkrhLGLM/8XWeWlr2JrP8Qb4SQOx8FQEIIIYSQGWI1szzD18Ysz/3+1M4yWxlj9Yyxq8wy7OMTdpahAEgIIYQQMkO8xiwh8BNmPwD+wCxje/+aWYZ83MUsY3b/14Dl1jHGtk9qTQm5g/yEWR6e/QUVKlSoUJlRZTaz/A6fTD+fwPr+nA1vIbMfAI2Msa9t3lvHBLcdgjGWWfr0rGKWoSJtW/cTQuyYzRgDFSpUqFCZkWU2mzw/v+eXP5vIul5mw4fAhWxwAPwFs/QT+sKAZeWsfx+ehJAx+gVjDGazGW1tbVQmqWzYsGHK63AnFzq+dIxnehnr8TWbzdZQ9YvJ/vtQUzgXLeUPOlRqCueOpr72AuB9zBIAHx2w7AlG3TwR4pBfMMbQ1taG6aS+oW6qqzChNm7cONVVuKPR8Z18d+IxPijYO2iaL+c+BTUZ+/Fta2tzWgC8XD4P3Y3zHSqXy+eNNwDSFUBCJsm0DIB3mjvxj+d0Qsd38tExnlzTOQA2l83BjYZ5DpXmsjnjDYCM2X8GsJn1fwaQEDJGFACdQCaTTXUV7mh0fCdfSGjwVFfhjjbW7/AdFgB/yiyte//CLAHwv/reWxu4fM8s/Xw+wRj7T2YZl9vMBrcCJoSMAQVAQqaBcOH+qa7ClKDfPePjzAB4oewBdDbMdahcKHtguPquY5bbvD19xfr6zzbLeDHL8I4dbOh+AAkhY0ABkBAy6WrMNVNdhRmtrKK033tnBsCGsvvQ0fCAQ6Wh7D5n1JcQMgYUAAkhZIahAEgIcRQFQELuIjdv3pzqKswYeznXqa7CkJwZAM2ls9FWf79DxVw6mwIgIdMMBUBCyIS4dPnSVFdhwlXXVk/6PsYTyp0ZAGtKZ6Gl/j6HSk3pLAqAhEwzFACJQ3IKM6e6CoTcdSgAEkIcRQGQEEJmGGcGQFPpvbhUP9uhYiq9lwIgIdMMBcBp6vr161NdBUJGraA4b6qrcFdxZgCsKr0HzfWzHCpVpfdQACRkmqEASAghMwwFQEKIoygAkmlLa9BMdRUA0HOOZPpxZgAsN/wKjXX3OlTKDb+iAEjINEMBkBAb5jrzVFeBkBE5MwCWGn6F+rp7HSqlFAAJmXYoABJCBmlpaZnqKpBhUAAkhDiKAiAhZMagK7QWzgyAOsMvUVt3j0NFZ/glBUBCphkKgIQQMsnq6ic2uDozAJbofwmT+R6HSomeAiAh0w0FQELIXe+c4uRUV2FMKAASQhxFAZAQclcSJsdP6PbOJsZN6PaG48wAWKz/JarM9zhUiikAEjLtUAAkZJL19PRMdRWmhYm+DXo3c2YALNL/CuXmex0qRXpqBELIdEMBkMx4u4TfTXUVCBm38Xx/KQASQhxFAZCQO1wQ5z3VVZhxgqf5MXNmACzQ/Qqltfc6VAp0FAAJ2c0YK2GMtTHG6hljsYyx+wYs8zRjLI0x1sEYq2OMedrZzta+9a8yxlIZY0+MYxuMUQAkhJAZx5kBMFd3D3S1sxwquToaCo6QnYyx3zLG/hez/CAcZ4ypbOb/N2OsgTG2gzH2fzPGnmSMmRlj/7RZ5gfGWA1j7NeMsf9gjO1ilpD3X2PYhhUFQDKt1Jprp7oKM0JHR8dUV+GusZ/bOtVVGIQCICEz3zOMsR7G2P/pe7+OMXaBMfZTm2W+YYxV2Lw3Msa+tnn/M8ZYE2Ps/TFsw4oCILmrFRTnTXUVnCpflTvVVSATwJkBMEt3L0pqZztUsnT3UgAkZIBNzBLorPwYY9IBy/yRWULifzPLD08vY+yFAcvIGWO+o9yGLQqAhBAywzgzACq1s1Bcc59DRamdRQGQEBuvMsszfK/ZTItgjMUNWO4xZglvs5jlecFextijA5Y5wRgLG+U2bFEA7JOZnz7VVbhjJGUmTHUVyDByi7KnugozVmNjw1RXAQAFQEJmsrcYYy2MsWUDptMVQELuAuWVZVNdhRntbj9+zgyAadrZKKy536GSpp1NAZAQZnlWr4VZrgAO9BEb/PzeP9nIzwA2M8bWjmEbVr9gjGHDhg3YuHEjNm7cCJlMNtW/2wghZFprb293+j5lMhn/e3rDhg1OC4DJ2vuRVzPHoZKsvZ8CILnrfc0Yu8IYe3GI+f/NLN27bGeM/Zwx9hRjrJb1b8H7PWOsmlm6fvlPZulaxsz6twIeaRtWdAXwDnDz5s2prgKZhpKz6Fb8SLQGzVRXYVyceQWQAiAhE6OXMXaTMdbeV672/WsbCJ9kjKUzxq4xS3cuW+xsx4sx1sgs/fylssH9AI5mG4xRABy1GzduTHUVCHHITA07d5owgb/D23BmAEzSPICc6rkOlSTNAxQACZlmKACSu5Ift2Wqq0AIz1RtHNPyzgyACZo5yKye51BJ0MyhAEjINDPqADjWX1CETCR9mW6qq+BUKdmKqa7ChJqIluHZBUqH5s9kA7//FAAJIY6iK4CEEDJNXbt2ze50ZwZAack8pJvmO1SkJfMoABIyzVAAnEFiJBFTXQVCCCbmOT5HODMAikseRKrpYYeKuORBCoCETDMUAAkhZIahAEgIcRQFQEIImWGcGQAFJfORZHrEoSIomU8BkJBphgIgIWTa6ezs5F9fv359CmsyPTkzAJ5TP4wE42MOlXPqhykAEjLNUAB0EB07Qu5sly5fmuoqDEIBkBDiqLsqAN4tn5M4pqyi1KH5A+3hXB2pDiGDODMAnlU/ApnxcYfKWfUjFAAJmWbuqgBICLnzdHV1TXUVJkyoYN+olnNmADytfgxi4xMOldPqxygAEjLNUAAkd7Wenp6prgIZJa2hZKqrMG1QACSEOIoCoJPVN9TZnS5JFTi5JoSM31AdFDtiOj5rN105MwCeKP41BFVPOVROFP+aAiAh0wwFQELIHSunMHOqqzApnBkAY4ufxPmqZxwqscVPUgAkZJqhAEjIXayjo2Oqq+AUzRebp7oK8BFsmrBtUQAkhDiKAiAhhMwwzgyAx1RP4Wzlbxwqx1RPUQAkZJqhAEiIgzwUn051FcgkSM9JmeoqDMmZATBa9QxOVT7rUIlWPUMBkJBphgIgZsZtsJPyo1NdBac4wG0fcl6VqXJS9ukt+KHf+0pjxbDLjzTfKl+Vi8PCwBGfQ7t169aI27Ke/6tXrw67XFFJwbDrD6yfVaWxYtC2C4uzB61ve35Oy2OQp8qBt+AHHBWHospUiaKSAsRKI/lldKVaAEBdvRnZ+anIzE/DKfkx+Ag34eKli8hT5fDLnkk4jsDkNcjMTwcAaA0aNF9sRoT0S1QaK7A7fyn0pSWoNFbAW/AdvPtuqeYUZsJX+AM0ejUCk9fAo2QpUpRiKJQyeEu/BABEibYjIP0d6Awa7NW+ht2Cfw17HKc7CoCEEEdRALyLXLlyBUmZCZOy7fTcVIfmTzZVSeG41jPXmUdcxnbYsvGsP5xirQoAIEyOH3KZrq4ulFdaOqe+cuVKv3lZBUr+da25dth9Wdf14zwGrS9Mjh+07RJdMcx1ZohTziNadBARwgC73y9xynkEc94AgEBuF1SaIgRyO+DHeeCkNBT+3FZslX2JWnMtokUeUGmK+HXDBDsRKfoefpwHXNUu8FF8BJWmCNLkk/AWbOLrpyopRHqWDOY6MyJF/wKXEI0kpRQ+gk3877dY8V7sFn4PYXI84iTfAQAihdvhlr8SiSmxcMtaA0nySQCAJJUb9lhNNWcGwMii3+JExe8dKpFFv6UASMg0QwGQ3JXcstZMyHYSMyQTsh0rT/n6MS3vI/hxyHkKpYx/HcL58K9tr9CNRltbW7/1bVk/v2uxy6B5A6eV6Ir7vfcRbOoX0FyLXfjPb3t+WltbES8Ph5f8c3gm3D4+qZliu3U6JtqKlpYWREi/QoLN+bFu3/r5XdUu8BH8iM3qZdivX4yj5c/Dq2Qp9mpfw5WWK/2O33TjzAAYXvQ7HK943qESXvQ7CoCETDMUAAdw9Jf+wKskM81oP78o5dyw88fST9x0HsnhhOzIVFdhWLb1u3zlcr95MZKIYdeNk0bDn/PsN832/CuUsn4BV5Ep518Hcrv6rRchPMC/jpVGDpqfnpuCy1cuw1u4CaXlhn7fj87OTpRVlEKRKYe5zgxVSSEixN/hkMAXal0xurq6EMx5o9ZcC12pBsWaAvhznjifdBpB3G6cqHgWMeIghHA7ESvei9JyA/ZzHhAkncL5hAjEJ56AMDke/pwnYsSBiBXvgaD4D/DnPLErfTW4xGiUVZQiIP91HMh/HSfLn0W44SWcLH8WMWXPIUr0/bDHcSpQACSEOIoCIHHYaJ5hmywRwgCn7KeufuRbubbP0HV3dwMA9GW6SauTraGeEb146aLd6SlZCv619fxZb71an7XMV+VCX6bDdskGfllTtRE7RN+gu7sbly5fQm6R5TnBYM4b4pTzAIAj4lAAwOmE4wAA1+zVCOa8ESHayG+nu7sb+jIdArkdyC2wPPMXIv8Upmojvz5gOb/nEtegylSJbXku6OjogCxdBAAoLdMiuyADu4TfIbsgA+KU8+jo6MABoeX5vpyCDAgTI3FQuxCHDC+BSzwGtbYQe9NWw7XoHewTfocdom8QUvwKtqiX4YTkKxxRv4SgzKVoaWmBpPJx7NW+irKaudDUzO53a3q0Juv76cwAGFr0Oxwtf8GhEkoBkJBpZ0YFwF3C76a6CmQaGe7Zu/Eaz9XI3t7eMa/jkfBZv/eRwqAxr3/x0sVRHYP29vZRbdP689XS0tKvftbPZyjT48KFRn66df+u2atxgPOERq/m1wcA98z3EMBth2fiZ/3CsXvqh6hvqMN+bhvMdWb09vbCPfVD6PTFyMzPwKG+8XCt2zeU6XFQsNfyuRWfIj7xBHp7exGRvQSJGRK4qt/G1atX4aX4DF1dXdijXAkA2Jm+GuY6M7aULIWr2gUHk1fBPeN9xIl9EZr1BqLE/0aE7DNIC15ApDAIkWlvQ19agqiyPyDZ+DA41fM4Wf4s5FWPoqJ2FhrNsxBZ+sdRHcvJ5swAeLDoOUSX/9GhcrDoOQqAhEwzow6AKs34HqInU6u8smyqq8A7mxg31VWYEI42aLFtqTvSrXTb83eh6YLdZSKEAYgUBvHHt6A4D4D94QWbmpsAANevX4ckVQBpmhA3btwA0P/8WOcD4H8/BAu2I0oUgvTcVESJQnBYGIiyitJ+9bBVUVUOALhx4wZSsxU4JT/Wb/sAECUKQbToIFzVLjjAbcOFpgs4IdkPAJCnnkaM2A+x4r0I5rxxoekCtAYN9sg/w96i11FRVQ5pmhCH+24/R4mC4alcg/TcVMRIwiFPPY1IURD2Ff8VQQkf4bDIDa5qF8SK9+KYeBc8FJ/isDAQ+3SvYp/onzgu3oco4QHsF3+FzeplOFfxDI6Wv4D4yqeRnv5XdNbPhbZ6LpKMjwxzxpyDAiAhxFEz6grgeNhesRjOecXpSa7JxJru58xUY3J4G8q8tDGv42irW3vG2jBjKGUVpdgtHNvzZIHcziHnWb/bPT09dudbuzfylK/HecVpeAt+gLnOjIuXLg46P3tSV/d739bWhgsXGvkWwdZWvAAQLTrIf/82J627vQ3VEgCWK3dess8RwO1AZl4SP//mzZt8eDaaqvjp1vrX1ZuRnpuKw6IfodGr+W5e2tra4M95oqyiFCHJ7+K4JBxu2avhlrsKgdxOeOatgD/nibp6MzYnrUOMJAKmGhMOi76HsboKWoPGcgu6dAGSMhNwTroPLS0tiMp9FYHcTrhmr4ar2gU3b97E5rQP0draCs+UD6EwPowM03wkGR9BSc39KKp+BNqa+5FtmgNh+dMwVU9Ot0Sj4cwAGFT4Ag6XvehQCSp8gQIgIdPMuAPgVD73NdUaGuuHnGf7h82ZGi80jGq5sdQvTOAPAChQ542rTpPBeptxKGNpfGKregIC60j8ua1DzrN3/nKLspFTlDWq9Qe6evUq8lX9+x+sNFbwx8/e4xS2/WFab+OWV5by5986/5w8nF8uv8iyjzhpNDxl63Ht2jUkpp1DoTofuUXZfMMUa4A0mqoQJ4vGrVu34C3YhPLKUijz0hAq8ENHRwd//vJUOSirKMU2yQbcunULjRcacD77ZWj0ajQ01vf1P7gJOyUbkKfKwd5MF2yTbOA/n1v2aoQJ/JGvyoYyLw37hT/AVe0CnUGDOFk0svOS4ad7BZEid4RoFyGidAGOlr8AnUGDk9mLcb7yKSQbH8V2zRswm+/B2ZyFyK+eB2PtLOSa5iLTNBcRhgU4LrZ8rtH+/E0UZwbAgMI/ILzsJYdKQOEfKAASMs3c8VcAycSSp9vveoPcNtrArDWUjHu+W/btK3ZBfeEqShQy5PLWzpWtjVkESWdwUn4UGr2af+7RtsuUmzdv9ls/WnQQQP+WxjXmGgC3G3tYRQp3QpB0BjXmGmxO+RBHRZ4QJhxCnDSa//7cvHkTNeYanJIfwwlZNKKE/vAR/IhIURAkqQLs57YgOHMZQgX70NXVhaCED2GuM6Ou3gxDmZYPip6y9XBVuyBUuAVuWWvgKV+PjNxUtLS0oNZcjYzcVARwOyBJ5RDEbUUw540D3DbcvHkTe7SvIVT2Gc4YnoVQcQxB+oU4lP0G/CVfwV29HKLKJ+CqdkFi1aMoq70HDeY5MNbei3DDn3BA/zJOS36Ej2ATTsqihzzuk4UCICHEUXdVABzPw/p3G2vr1bEK4fZMcE1mnq2yL/nX7sq1k76/gZ0uDzx3XV1d/Hc+hNvDB8oTdgLLSflRfll7V/d7enpG/PnZKvsSulIt3FQu/BXE7u5utLW1IVYaBQDQl5bg1q1b6OrqQnd3N/Zwrvz6WkMJvw/r+qmZYksA5HZhq/RLFGtV/foxPFL2Atwz30MI5wNVSSEfZt2Va5GsFMFV5YJLly7irPwQXIvewVbVMojlgWhqboI8XYwg7WJcunQRruq3UawpgrzyMezVvYaWlhYEGxZCXvUovEreQprxQVyuuw/pxgeRWz0Pm7NXYZd2CYK0iyGrehTx8kPDHpuJ5swA6F+wAIdK/+xQ8S9YQAGQkGnmrgqAjrL+UZpI1m40yNQ4PsZOkadCV1cXuKThn1G1NrgYONqHtfUscPuKnXWbSUppv2VrzDXQGTQAbn/Xc4uy+7U0Ts22PNO3n9vWr59B6/SWlhbESiP5K30npeGQpYvAJZ0edPveX7a+b1tbkZGTiDCBP1zVls6j5eli5BRlwTdzBWTpIoQL90OjVyNW8nfIUk5Bnm4Z6k2lKcJewY/gkk4jJudVbE75EJVVpRCnnMcpWTh8OXdESP6BQ6J/IUzgD1/OHSHcHvhxHgjUL0KgfhF2a/8KtU6FM4nvgUs8hrDkdyHXPwWu4imcTVqBstpZyDI+iaa62dDVzEKq8TEc1yyAJPUcYlJcsEuzBPLUs8Oen4nmzADoW/ASgksXOVR8C16iAEjINEMB0IlG0x3HRDSesBUlCp7Q7TlqtF2SjJft+LbOYG1V6yjbcDac4b4fts93WrtdKSq2jLV7OuE4TH39+1n3VaDO478f1qHkBq5foiuGQilDeWXpoOdHA7ldaGpu4htrAP2Pf6TI0rVNhORrJCqlaG9vR2ZuIs4kHMd2zRuIFnkiShQMZV4aEpVSPiCmKC39/J2VW65U+gh+RIDk7/xnOSbag+7ubhwQ/RMlumIo89KQlpMMT9l6BOoXIUDyd2Tnp6K5uQnbMt+FMi8NfimrcUZ+BFqDBsfFuxGt+yP2619GQXEeNquXwUPxKcTJp5CZm4hjZc8hSvcizhS9iHMVT2O3dgkumGfjRsM8xFc8g2zjk0jWPwWvkjdxQuKP3dq/IoDbgYPSL4Y/eROIAiAhxFEUAInTHR5D57itra3DzvfnvByqy0jrp2Qr+r3v7u4ed0MTWxPxOIK1+xZ727Iet4HHr7TcwB//tJxkfvpxaSR2iv7Jv29qboIf58HvQ6i43YXLmYTjaGpuQlpOMn/8zibGQZmXhtJyAx8evYXf4rziFIymKpxNjMNO0T/R3d2Nw8IAtLa2wo/z6Hf8L1+5DC/lKv74umWvQmKGBFuS1+G4NBKesvX8be6m5ia0trby3egcFOzGdvE/4FGyFNeuXcOWpI/hx3kgIOdNGE1VCNIvhL5Mh6z8dLipl8NdvRyHtX+GOCkOrmoX+OlegUavRn6REkdErjic/yoOqxZBnhyDytp70VE/B90N8y1dwdTMgqTqcRxWLYJHyVJsLXkLrrnvorm5Cdq+K6iTzZkBcE/+nxBoeNmhsif/TxQACZlmKABOsPMj3Kojw3P0+J1POj1ht9WtI2IAtxtRTISh6md9Tm40rMHMUKa3O7+zs3PYYf1OyKLtdn3U2NjAr29rm2RDv/qFCvxQZaqEj2ATrl+/jtC+zpv9OU/kFmXjhCwapeUGJGZIcPPmTWh0RWhqbkLzxWbkFKShs7Oz3/z9upcRLw8bVD+PpE+wT7WEvzXsKV+PYq0Kh4WBSMiQwFCmhzDhEPJUOQgQWLqs0egK4at6AwkZEoQI/o3r168jMz8dkaJN0JeWIF4eihMSPwSI/gm/5LW4efMm1LpieJW8hRhxCA6IvkFoyUIcLX8BmprZkFc9hgvmWbhUdx/a6+9Hee29iCl/DmnG+QgR/BuCyidxKOEjhOUswS7NEmRkTez40PY4MwB65y/EfsMrDhXv/IUUAAmZZmZUALR2HnunGOl2aBC320k1mZnGczvZh/txxGUESWfGU50JYa9+W6VfAej//bf+zPrY3H41VRv5ZwGtPBL7jzgC3O5Q2lxnhjIvjb/9O/A2cHt7O8x15n6jeFRUlfPrK5QynFecgpf0SwiT42GqNsJTvp4/fu3t7QjivFFeWcrPN1Ub+fq3t7fjsOhHeOW+g2DOGx6KT/n99PT0IFSyAW45q7BV+hXipNFwK1gJH+5H7Elei4qqMnjkvYPzilO4evUq9nPu0OjVCM54G1Hif8G1aIVlnGBZNHp6eiBLOWWpX8lS7NW+hrCk95CklGFvwVtQmuahvEIHWboIyRlCbFGuwdHyF3BG8S7yqx+AwvgIymruQ2LV07hgng1pxbPYrV6CExXP4mjuq5BXPI5Y8W6UlhuwJXkdQnP/Muw5nggUAAkhjnIoAOYUZo680Aw01OgMA/+43slG6m9vNEa6fXsnsg1kY2F9lrCzsxNNzU18S9yBDY9sr8yNdHxH6vNx4HzbUT22i78GAH5YNttnHa0NZ+z9/A+8BdrS0gKtvnjYDrpzi7LR1NwEX24zOjs74cu58+E+q0CJ7eJ/8MtWGSv6HZ9D4n8gPGkV9iZ8jM7OTmgNGrgr10KjVyNGvB3RpS/AU74eAYoP4CPYhN0p7yNU4I38IqUlAKatRrFWhb261yBJOYujKS4QVD6JHZrXsUPzOpKMD6Og+gFU194PTc0caKsfRKLxYSQbH8LR8hcgkAegra0Nvpw7IsUbcbOO0kYAACAASURBVKbiGRyThMG1aMWwx95RzgyAu/Jehp/+NYfKrryXKQASMs3MqCuAM4n1Fh3p79LlS/3eO+uZqamgK9Xyrx3p8892vu3xS85KGGrxfqy3Zweyt/5RceigabZ9AlpHRXHLXo0kpZQ/f/J0MerqzfDl3PmGJUlKKc4mxuHmzZuIEAZAksqhobHecmuW84G+VIOUrETESW93S3NI4IusAiXOJsTifEIEjor24ITsCADLf0oC9QuRkCFBELcbngl/AwDLeMMJn/P1S8iQoKWlBfvS38G+tJWIFrlBayhBqOEl+OpexTFxAPbrF8NV7YIg8QbEG57FNs0biC5YBFe1C0RVv0Zk6R8Ql/0KTpX/FpmmedDXzMaFurm4YL4fp2XrEW54EYdL/4gU43ycrHgWIaJvEaBfhL261xArjUTwJF+9d2YA3J63GHv1f3GobM9bTAGQkGnmrg6AKVmJU12Fu8JM/n5ZGx0MDPSjuf3sy7nzr0MFfhNbMRu2x9d2WDhr3a11HWrIONfs1QgV+I1qyLttkg0IE/gP6ucPuB3mj4u9+X3aO05hAn+0t7fDW7AJnZ2daG9vR7w8nB/D2MpbsAmJGRIcLl2AM9IgRBkWYKv0KxyXHAZguRra2dmJ+oY6CBKjsbNgGfSlJYiVRsItezW6u7vhLfweEblL4Kd7ha/LmYpn4Ja9Gu3t7Whvb0eEahECuR1wVbvw04pr7kNu5SPIq54Dbc0s3Gh4EGbzPWgy34u86gegNM7DyYpnsUv9BurqzThd8gJyi7JRWJyD0/rfw7XYBd52RluZKBQACSGOmjYBMD7xpN3phep8J9dkak2XDpWtHeo6U2LG8A/Pj6WLHD9uy5j3P5rtt7W1Tfhwf8nD/EfE2ihjqJ8PK1O1ke/z75ziJD9s21FxKCSpgn7L2tbfpy9k2QoT9L96ZdvBdGZ+Rl+dE6DSFAKwBEgA2JX6HmrMNTCaqvpdXRSlxAO4fcvaaKri93lUHApfbjM/39pFTVdXFz98XIzsY/4qYY25BhEiV/gINsFbsAmqkjxIUgUwVRuxX/E+/M97IUq4AwGq1+At/xsK1flIzJDgUMpKeJQshUeq5VawW+4q+OpeRTDnDV+BG7xK3sLxxLU4rf4jwpVvYbN6GcRVTyDHNAfq6vtQb56LK3Wzkat7EmnGB5FufAhnU5cirPRF+Gj/gpPlv0WcNBxmczUAy/fPdsi8iebMALg191X46JY4VLbmvkoBkJBpZsQAaB1wfqpY/8iQ/gZ2TzIZikoKJn0fjpqM74ciUz6q5Yb72bAdV3e8o6sAgz9fdW31oO37Cm5fabRehUvJVox4/mwbGZmqjfx4yKZqIzo6OuAt2IRCdT6uXbuGcOF+AEAI54MQbs+g7581oMVKo2Ao12OvwLXffH2ZDrmFGfATboSp2oh93GYkKaUoVOcjNVOC/dw2AIDOoMER8SG0tLTgiPgQCtX5CCx+Dd5p78FTth5ZBUqIko5jb+5b2Cn7AsGcN8KlXyApMwGbU9bBVe2CI+JD6OrqgqvaBSHib+CqdsEuxTpEiTYhsnghUjItt4iLS/KxteRNeAu/g2/S+zip/iOiyv6AYMOfsb/kNRxLXgFJ1eOIr3gGecYnoa95CBmmB3Gq/LeQVz2G+IrfYIfsC5yvfAqpmWKISp7D0bLnES7cj8iil4dthe0oZwZAj9xXsUv3ukPFY/ID4GrGWDZjLJMxtmqS9kHIHWXaXAEkM5+9IcRmEtvWrpNlqG5bBhptA5p9fVfPRrXvUks4PCU/hs0pHw5a3/aZReB2yGxtbR3ULQyAQQHHevxaW1vhWryCD77W3y/bxV+jvb0dIdweuGWtAgDsFbgBsFz5vnr1Ktrb23Fc7I22tjakZiv4K4XHxbsRlvghTiS/DdeClQAAWZoQklQBXLNXI0zgB12pFmfSl1g+X/Yq+HLu6Orqgqjy12htbcXWxE8RZViAQ4I9/fpJbGtrg5v6beQWZWGLajlyy+ZDVPlr5JgeQFH1/ThR/jsYau9Fg3kWWuvmQl0zG/KqxxEu/Rxhkg2IVi/EUXEotmneRKEqCzHi7WhtbUVi6mmkZ/U/RqM9/yOhADionjrG2H8yxv6r7/X/Mwn7IeSOMmMDoL0/SFPlTuueZiJaAA/lmGTybovZDk02FfsfyFRtHPb27mi3YY+973/zxeZRrWtlOxSc1lDSr/V7MOcNU7WxXwMN2+1bp8cnnuy3DDD4+3Pz5k0kZEhwXBKKhsZ6AOD79duTtgphAj/ESaPRfLEZ8tTT8JStR5jAHzHiYMQnnkQItwd5hUr4KFfi4qWLSOxr5BEi/gcOCTYjkNuBhAwJXNUuOC7egeCkNf0+f5w0GuGCnahvqMMZWQi//91p7+GgYDNOSYMQzHnDR7kSgsqnECT6JyJKFyDU8BKiRZtQWTsfl+rmoND0OGpr5yHZ+DDiK59GUtUjOFv+G0RrXoQP9yPCUt7FAf3LiJeHQpAQgjPyiEHHZqI4MwBuzvkLdmjfdKhszvnLZNb3NcZYqM37UMbYq5OwH0LuKKMOgAP/uJD+xnt8RvojfTea6d81ayOF8SjRFY97Xdt+/Nrb25FdoBx0JbHSWMG/th0nuPliMx8qj0sO22284cu58+vfunUL5xS3n0s8JgnnO58e2ODF2qWMlZ/iw77plu5d2tra0HyxGa75K+EpX8834jBVVyFS/iHyVTnwkn8OL/nnKK8sxTFJGHZoXkd2gRKm6ir+treH4lOEpL2DzeplAIDDhgXYf34rXItW4OLFZpToiuGh+BTR4m/hlfA3aHTFiM9ZBLfcVYiRhEOSEo+j5S/gvOwAvBL+hijRJgTpF8FUOx+X6+5De/1cFFTPQ7rxESiMj0CmfQZ+eW/ikOFPCNYvhCjlHMJLF+CoaAe25rlAnBSL85VPDdn4xhHODICu2UuwVbPUoeKavWQy67uGMbbL5r03s9wSJoQMY0KvAFpHThAkO3dg9OliOl4JHOu5tR39YjQmcoSMO5m97lWC+ho5jJW9q5jC5PgR1xvp+3n9+nX+/Fs7nwYAVUk+ZCmnAFj6whz48+2R+BlOSwNRXlnKr9/T04Nacy1OyyJQWm5AMOeNKlMl3zikp6cH7e3t0JfpAFieESyvLMUewb/57ba3t8Of24qenh4Ik+NRZarEHsG/0djYgCJ1PmLVCwBYbj03XmhAUmYCtiR9gmOScHgkfIYtJUvhqnbB1oRP0XihATtSPoBnyVJEiL5HpH4B3HJWIVb8HQ4VL4YwOR47C5fiaPnziJP8A4XF2VBUPYI801ykmeajrf4BtNU/hELTPCiqHkFBcQ7CSl/E0bLnsa34TUjk+3Am+2UAwOaMD+CuXg59mQ57M1ZSABw5AK5mjKUzxtoYYz2MsZ/aWWYrY6yeMXaVMZbKGHvCZt5fGGOHbN7TFUBCRmHSbwFP5oPQZGTWP7B3Inutca2tZsdiMoK7vVu0sX0dKDsqq0A57PxirYp/be/8F2tVcOtruWsNbDkFadDo1YOOn0Ip449PmMAfXN9QfdYQekjgi2jRQeSrsgCAnx/RN95wgGgjDgl8+fmS5BPIKlDipPwodmqWoMpUiQjhAQCWzqYbGxtQrFXhpPwojKYq/vdHnHgvf/y85F8AAFIzxUjPFPH1bGish2/OcpRoi3BI4Isdio8RKw6Ev24xYsQ70NBYDy7pNPZKvsIRzYvwTPwM/rrFOCk5AFe1C7xK3kJc4Z+wX7cY0dqXkGF8EKGGhdDWPAhj7QNorX8Aupp7UWR6DBGlC3BU/C+kGB9HatljOF/xNCKFOyBJPoHDwp1wU7+NHYqPsSX5Y4TaXGkdaLy/H50ZAP+d/To8NcscKv/Ofn24+r7GLCHwE2Y/AP7AGKthjP2aMfYfzHK1r45Znvez1lPDGPt53zQNo2cACRnRiAFwMvvK8+M8Jm3bZGqUlhumugpjNrBz6vE8X2ptMOGufK/f9IE/P2EJ64bdjvX4DRwBZCi2nTSPRW9vL/96S/K6fvs8nXAcW5I/hh/nwW//4qWLfP1OJxwHcDu82K5/69YtnE44zjeuSMyQ4NLlS/zxKS03oKOjA62trfDjPODLuaO3txfBnDdOJK5GeYUebrmrcOnyJezq60fPVbUCHR0d2CH+hq/fpcuX4C3YhIuXLqK3txex0sPQ6YtxKHUFggTb4apaAXfle3AteAdtbW24eOkiMvMz4J69GlGiEGzJWg1vwSZ4q15HW1sb/HSvIKcoC3mFGThX+TSiCl+GV8lbCNb/GbqaWWg2z0J57Sxoa2ajqW4OygyPI9X4EIRJpxFRugBC3W8Ql/E6couysUW9DEZTFVIyJRCnnB9T90Wj5cwA+EPWm9hc8rZD5YesN0dT34XMfgA0Msa+tnn/M8ZYE2PsfZtp1AqYkDH6BWMM0iTxuH4J2Q4PNR1M1PN0ZxNiJ2Q7EyFadHCqqzDl0nNTJ2Q7w/1Hx9r/3HgplLJ+3aoM1aJ4uDAw0vfXOt/aFYy1j0zbbmbsPbt37dq1fu/LKkqRMeCYnukLdSNpb2/n928d8cOqra0Ngdyufl3EXGi6gO7ubiiUMvhxnhAknUG4cD+6u7uxW/gdTsqPYg/nijMJx7Fb+B0CuV1IyJDg6tWrCJZ8hWjRQezhbncpE5D0Ho6IDyElW4EoUTDUumK0tbWhvMKAIG43amqMiBGHIEz+KU7KjyJW7A439dsIEn+D3dIvcVJ2BELFUfgINmF75rsIl34OV/Xb8NO9guOpyxBV9geUVxhQVH0/YsqfQ7ppPgqr78PFurloMFueBayonYVTFb9FSrYCuzVLkJJxDiECL2zTvIHT8mikZSciUvciziZEI0J4YNzDAw7nLgqAv2CM9TLGXhiwrJwx5juBn5WQu86MbQU80/mf9xpxmTxVDoDxt3iOcWKLV2epNdc6bV/W4z8cVYmln76RGm/Ymz+a7Q9cZuDnz1PlDPp+WG+VWlvcdnV1DVs/f27k76KV9T9HHR0d/Pb9OS9UGivQ0tICt6xVqKwqhx+3BcVaFeob6vh1A7jtMNfVIFYSBEmagJ+f0NfVS3VtNdJzUgBYhpqLk0bhkMAXewSbEC06iPScFOxKX4VIoR9aWloQzPkgRhKB/bqX+60fLtyPs9K/o6GxHsWaAvhzXogWHcROzRKcTYjlr8oGK9YiWvIFXAvfwQ7N65CmcfAqeRPB6StwvOz3iC37PfbrFiPVOB+d9XPRXj8HteZZSDM+iETjIxAXPo8t6mUIKH4N5+ThqK6thtagQbw8FO6FK5CnysFZ2UH4l7w26uM7Ws4MgP/KfAtuapcxlzUhC/D8B/Px/Afz8bvV88YbAO9jlgD46IBlTzDGwibwsxJy16EASCaU7a1FYOjhx8bCXbkWwODbnUmZCU4ZscS6/4lir2PoW7dujTge8Ei3e7dKv+Rfu2e8P+Sxt+6/q6sLvn398Nnrw7GrqwuydBE/3zV/pd1lrMIUa+GqWgHAEuB6enr4Rh2x0ii45q9Eb28v/DWWQHTjxo1+z8DduHEDvb29OCbaZnf+VtmXcM1fiYOCPXBTvw3X/JXYI/g3Dmv+xB8frUGDGPFOuOavRFJmgmUoOdUixIh38NuPkYRhi3o5fASbECH5GoeLF+FI2QsQVj4Bd/VyFFXNgbzqUSQZH8b5iqfR3WDpBsZono2O+jlIMz6Io+XPI0L6BQJ0i7BFvRwS+QGEp6xEqGYRDpf+EU1NFxAh+QoKpQwCwzPDnrfxcGYA/DZzGX5Uv+NQ+TZzGV0BJGSaoQB4hzrf9zC+s+Srcse97mifYzPXmR2aP5KJut0+sEPlgaRpwjFtzzrU2nAGDvdmve2bpBz58Q5rIw95uhhRohC7862tvesb6qDMSwNg6VC6ptYE4HZjE9v1T8mPQaNXI4TzwT753xAi2AP3zPegSD+PAG47TsmPYb/oO3jnL+XX0Ro0COH28EMi+gg24bziFDLz0yFPF8NTvh7KvDS4FryDY5JwREksoTdMsBOx0kj45b6FguI8XLt2DfGJMdiXsRIB+kXYrfkrziQcx77cpQhI+NjSWXTqh/CSr4c/5wU/3SsIzHsdgsonsEuxDgc4D4SXLoC6+j5kmuahqvZ+9DQ+hHrzA5BV/hq5pkcRbFiIxAwJ4qSR2K9fjOjCRdisXo5Qw0s4k3AcseJNCFEugyRp8CMlA38+x9pY6y4KgIzZfwawmfV/BpAQMkYUAO9iV65cGdPytsOPOUuYwN/p+xzJWFoaX7582e70guK8Ebc/sD89W7uEGwEA2yR/58+LvfMz8Pmzgd38WOtnvX1pDY4qTeGgOm6T/J1/bX3WsLyyDLdu3UIw541KYwVk6SKECfywTfJ35BZlI6cwEx0dHWi80MA/y9fY2IBbt24htygbBcW5cMtdhcbGBlQaK/pdBQ0V+CExQ4LM/Az4Z6yAP+cJADiUuRRhss9QqMrEAW47MnJTUFCch46ODrjmvYsY8SEo89IQJzmIwmLLf0wOC3dgr/ZV7Cl6A/66xUjPSYGPbD24xBhk5KbgkOEl7CxYhsCMFYgRH8Kp8t/iXOXTSDI+jEt196O7YT6Kqufjav0DyDU9jPiKpyGsfAqHCl7Dds0bCDO8CI1eDVlyHMIS16KoOAdRitUIkn+K7TZd6kwUZwbAb5TL8UPxSofKN8rlw9X3p8zSuvcvzBIA/6vv/U/65n/PGKtmlq5f/pMxtpsxZma3WwETQsZhSgOg9RmiyWCvi5CJZr0SQqafsX6nOSdeMbXt6Ho0odraoMTeCC2B3K4R1zeaqtDS0tIvDNq2MjZVVw7qfFulKYK3YBMCuV0wmqr441NeWdav7hm5qbh69SqqjBWoNdeivLIMsdJI/vh7KD6Gl+xzAJbGJ1tKluKUNIT/+eSSzgCwjOLiI9iEXaKNOCI+BA/Fx3xwDNX/GX6cJyqNFXxH1B6KjwEAYRlLEa58y9KRtNoF5ZVlOCI+hK2yLyFOPoWOjg60tbXBO3c5Nqd8CK+SN3FMHA7P5I9wNOF9VBkrsLXkTXBJp1FeYUCA7mUE6hchMvNNnKn4DSSVT6Kt7n601t2PlrrZaDA/gJiy55BjegC+hW/gWPnz0OiKEJaxFMd0CxCT/Qr25SyDZ85KhOcugY9g06QMMejMAPi10gX/Kl7lUPla6TJcfdcxy23enr5iff1nm2W8GGONjLEONrgfQELIONAVQMDuba+71dmEuCHnxSeecGJNZo7xfn9kaUKUVZSOvKAdbgNuC1sbo4QL9/fbvq1o0UH+/Fpv+1pDYXJWAn9+Y8VBACyjhghT4nHjxg1++9btAIC3YBM/Vq/VQcGufo8DyNJFuHHjBvbK/sZPS8lKhG/eWxAmx+OAwA1u6uWIER9AtOggLlxoBADsVb2OY+JgxIp9EKm1POMnUsRgX/ZypGQlIkS9GAqlDD6CTdirWoJwwQ6ECHbisHArvOV/w3HJYRwWBsAj8VP4FryBbZK/o7GxAe4Z7yNI+jlc1S6IFH+Nw8IABOhfxhnpfkSJQnDhQiO2lrwJWdVjCNAvQkn1wzDV3oOmutm42fAgGs33IabsOezXLcZJyQaclvjAX7cYWcaH4J7xPjyVa3BM5A9XtQt8da8iRrxvUlry32EBkBAyBSgAjmBgH3H2DGz4MBYDOyEebyBwNkc+851qNA1SxnJ+/c974dLlS+jt7eWHbdsp/Ja/onT9+nWk5SSP+lwYyvT864bGervf7eHqdzDtHX7YNdsh5np7e7E5z9JAxNpgprW1FZm5SfDlNgMADgsD+X79rKJElvDZ3t6O1tbWfsevpaUF/ue9cP36dYSrXsZhYSB2iP7Jd4LtkbYWqZlibM5aA3f1csRJbj8qECuNRENjPT+2cWTxQhyXHEZmfhq2lCzF2cQ49Pb2QqGUwS1rDeSFz+FkxW+hqr4PIblLkKZ9AlvUy+CvWwyF8RHUmO/F1foH0NP4ECprZ6O4+j5s17yBBOMjEFQ+hYoKPVpbWyEseh5dXV2Ik0bCVe2CXaKNCNQvgnvaB3aP52h6AhiKMwPgVxkr8K1qtUPlq4wVFAAJmWYmPQAeFgZO2rbJ9JEw4ErQVMspzBxynu14uNONr8B9yHkqTeGQ8waybWm8S/gd6urN2CH6hh9rt7u7GxcvXRzUYOUAt33Q+gBwPiESKk0hTNVGZOanY7fgX9CXliAzPx2pff3++XLufDj1EVrC3Sn5MYRLP+e/H9b5KVmJuHjpIt/NTXKGkH8+0VxnxtWrVxEhDECeKgep2QoEi75FlakSRxI+gCxdhF2SDdgv/BYAEC79HDtE3/B9GZ6SH0N3dzeOiIMRLQqEu3o5QvvGHfZI+Qj7lW8DAI5LAqAr1cI97124ql0QVfoCPFI+wglJMOIrnkGmaS4Kq+ehvPZedDfMx62G+WirfxCVtfMQX/EMko0PIy5hraVD6IRDCC19CQAQpF+IWPUC+Mr+hqPiALjlrhr1eRtKXX3/Bk7ODIBfpL+Db4rWOFS+SH+HAiAh08yMvAI4mnFPpwtHW6beaZIyE8a8zkR09eKs74y9821bf+uwZ6NlO6ybtQ9Ae1fprJ1lx4r3QJgcb7dltblu6M6u03NT7faxaB2tx7r9K1euIEYchEBuB0p0xfDjPNDV1QVVSSECuV39Pr913QBuB2Qpp/hGRypNkaWVrjwMXvIv0NXVxW9fX2ppBCJJ5XBQsBdZBUr4c1sRLHCDJPkU9ie9B3nqabhlr0ZWgRJZBUokpJ7FnuS1qKurQV1dLaJFB5GQFo/9+sVQKMWW9TlvhEj+jgih5VazW8FKiJNP4YhoF84pTmKn8Fsos6WQpZxAhGEBxJVPIczwEnJNc3Gx7j6018+BsXY2as1zUVl7P6LL/oAQ/Z9xOm8hXNVvI678d9ipeR2CpDOWW9vcVgRmLUO4YCcixBuHPO7jRQGQEOKoGRkAycSi8z8xvOSfO2U/B4cYW9ZTth6e8vVDzgcAT/n6Ue3DtdgFAJCYIYFrsQvipFHQ6NXQGjQ4KNgLt6w1I24jMUPKv46TRttdxkfwI//aevziZaH9nnFsa2vDHu1f4FbsAk/5eoRwe/hGLNZnGIM5HwCWAOla7ILDhYuxU/M6XNUuUFffjzhpNEINL/GtjAUllsAmr3qU72ZHo7eE7dOSzX23d59AfMUzMNXeY+kHsHY2GsyzoKp+DErTPOzULIG48ilsVluuKBaY5sAzYT1ci13G3MJ+rJwZAD9PexdfF651qHye9i4FQEKmGQqAxOnu5OHtIoQB/d6fkB3hXysy5QDQr0HFcOtn5qf3W9/K+mybuc6MWnMtAs/vQFFJwaDlrH33AUBxST6/ju3+Nboi/gqltW+69JwUu62LFZlyPtgEcrvg3Re+rCORnJQf5bcfyO1CnDQahwS+/Pxacy3q6mqRnpOC3ao3+ONzOiEGx8S+OCwMxEnZUcTLQwEA4XJLS9/4xDh4KD5FaqYEp+VH+JFOtqevQZJSjCOizdgq/RK701f1HcNNOJ90GgHSz5GkFCNS9yL2JK/FrhxLgDwl9kZLSwv2Kt/B9rT30NXVBQ/Fp5AlxyK2/PcIln4Bf91icIp3kGWai0t1s1FZOw/XG+aiq+FB5Jnmgat8CsnGh3Gk7HmckHyH8KQ18JSth7t6OQ6krsZu7V/hk/gJooVe4JJO2T3XjtwdcGYA/CxtFb4qfN+h8lnaKgqAhEwzFABnmGJNkUPr7+e2DTt/osZTHovdgn85fZ9DGWtfh/oyHXKLsidt+7asz+cNZWB3I9bOhXcL/oW6ejNUmiL+CmB3dzd/O3rg8bc2tLh0+RIuXrrIz1dpivjvR0rW7fF+B37+HaJvBtXNaKrEDtE3dudZ61eiLeCPT15hGrIKlLh46SIAIITbiawCJUzVRsSID2KH6BtECA9AX6ZDR0cHwgR+EKecBwD+GUd9mQ6CxGgUqjJxTOwDlaYIOoMG2QUZSMqUYbvGEkJD5R/jSNnz2K9bjKiyP8BftxhhpS/CLXMNBLK9CNS9jGv1c9BWdz+u1s/B+cqnoKq+D+crn0J46QIkZyXgTMVvcFyxBvs4VxwU7EB6dgJEiigYyrRIzU4a9ryNBwVAQoij7ugAON4xdKeLgfV3xrBn9kyHFr+RwqAJ36b1ubOpYg3jA4+vbXc7aTnJo95euHTw7d3Ozs5BDQhs+wAM4Lbz83eK/sl3wzKcQ4J98Eh7n39fV29GpDAI4dL1uHChka//PsFmRIvc0NvbC3FSLN8K2LafwLScZLhmr+brtEv4HdxyV6GtrQ3mOjNc1S6oq6vFOcVJGMr0uHChEe6pHwIAzHW1fEA019XCVe2CYO3LECliEJa6AofF38GP24y6ulpEFi+EVq9GVn46zHVmeKSthY/2LxAmx6OurhYBAg9sU66CovwxCBNCsD3XBZHyT5Btmodm8yzcbJiHWw3zkVv9EI6VPY+SmlmILf89QmXrEa5ajGTjQzhe/nuEpb+NSOEBGMp0SM9NRV1dLTwUn47uBI6BMwPgJ6mr8EXBBw6VT1IpABIy3dzRAZAQQu5EzgyA61LWYH3+Rw6VdSlrKAASMs1QACSEkBmGAiAhxFEUAAkhZIZxZgD8MOU9fJa/zqHyYcp7FAAJmWYoABJCyAzjzAC4NnktPs772KGyNnktBUBCphkKgIQQMsNQACSEOIoCICGEzDDODIBrkj7AR7mfOlTWJH1AAZCQaYYCICGEzDDODICrkj7EBzmfOVRWJX1IAZCQaWbMAXDgIPF3ivH0GTiaPtpaW1vHU51pydqx8HS2Qzy4o+GRjKafQ2sny8Nt33p8rl27NuQypeUG/vVQ3x/b9a3fn4GdPA90NjGu3/sqUyUA4MaNGwBuf7895ev7bT8xQ4Le3l4IFccAAJevXO63nZRsBYymKly9ehXd3d3IzM/AtWvX4FGyQsRqvgAAIABJREFUFGk5ydgr+KFf/S5fuYwAbjtaW1shTT0Pf84L4cqliBXvgb5Mh5yiLADAlux3AQCnZZ9gS/LHuHr1Kpqbm+ClXIUzCcexJeljuGWvgrfwO37/eYVKvl69vb388XNTrsUW9TK4Z76HrQmfwafgLUSqFkGSfALBhoVob29HALcVWn0xtAYNrl27ht7eXsSU/R6yqsfhqn4brmoX5OYnw0/7GvbpXoVX5iqcTliLhORjOFr+Am41zEdP40O40TAPuaYHoK+5H5vVyxBqeAmRxQsRzHnjoOFPEJQ9jXh5KFpbW3E6YS0C9ItgNFUNe+7GgwIgIcRRdAWQ3DUaGuvHvW5mfjpipVGDphvK9IOm5auy7G6jqbnJ7vShxsm1xzpc21AaGxvsTrcOCxcrjURuUTbOycP5edevX0eeKoc/PrlF2bhx4waMfSHSur51FJFirQqu+e/yQ/pZ69/U3MTv/8aNGwgV7MNJyX4AltFB4uVhOJ90GpGiIBwWBsJP+D0AIEywD36ijdDq1YiVRiIzPwMAkJwh5PdxWBiI84rTkCTHIVIUhGOScJSWG5CkFCNKFAw/0UaECnajsbEBxVoVWlpa4CP4EYLkMzgnD8d2zRvQ6NXwz14OV7ULOjs7cVD8NTySPoF/8V+xJ+FjxIj3QFz1OI6L/XBG/ztkmuYj1PASasz3oqN+LnoaH8K1+jkorraUCOVbEFQ+i4SyJxEl/RznK57GAW4LfLWvQlz1OA4K3RBsWIh9qiWjPb2j5swA+G7SR1ib8zeHyrtJH1EAJGSaoQA4SXp6egZNu379+hTUxH5drNrb251Yk9G50HSBfz3W+lmHKtsq/WpC6+SR+NmIy+wR/Jt/XV5ZNq79WK/Y2bp69SqOiEOHXW/glTt7869fv84fn4H1s67vKV+PY5IwlJXrEcTtBmA5lpevXMYewb/hw/2IsnJL6M3Mz0B2fgq//pbkdYOOkz/nhatXr/a78lnat763YBPa29vhkfgZ/FLeg05fDE65GO6ZawAAoqQTCOK8EZq6AsGcN0zVRqRlJ+KYJByeJW/BW7AJ5jozitR5OCIOhVavhjJHjhOqFxGW9B4y8zMQkLkcXgrLmMKeJW+htNwAP84DW6VfQZB0CqXlerS1tcE3bym8i95EVNkfcOXKZRwrfw57ta+iuPoBaGtmob3+AfQ0PoSbDfOQrXkcpyqexbmKp3Gi/HdwV72Nw8J9uH79OsrK9Tgp3g6PxM+wX78YW/NcUF5ZOuy5Gc5Q4wU7MwC+o1iHNdnrHSrvKNZRACRkmqEAOAVEKeectq9Dgn3DzrcdFmwsbt26Na71ptJEDA3o6DZ8OXc0NTdh5xC3kn059yHXragqH3H7lcYK/vVBwd5Btx99OfdBQ8PZihRv7Ld+/3U3A7Bc6dsu/ho5hZkAgO2SDWhqboKPYBMqjRVoam7ig7vRVMWP71uiLUKlsQKhAm9o9Gp4Jn+EWEkYAEvQCU56D16yL3BEtB1qrQpbktahpaWF/6655q2Ea/5KhHB7ANy+Pb5dsgF7da8hPGkVglLfxWlpENxyVuG05Fv+lr2/wBVxmufR2dmJEm0RRBmvIjzhI7irl1uKci1kKWfQ2dkJUeWTEGe8ihTjQ0gxPoRMk+X2b3fDfNSYZ0NXcx8KqudAVPkEFFWPILtAiSMpKxBRugAl2iKEJ63CyfLfIkT+CUzVldipsX8F0Hr8xoMCICHEURMSAENHCBl3iqH+cE7Vlb3RSMlKnNTtn5AdGXEZR4/PmYTjDq3//7P33lFVnWnc9n6//r3rXd/fk5n0OOmZTDKJSSYmJiamaVRim0niZCaJaaaaiZMDKCAWwIKCgHQEFRTbPr3Q26HDKRx6ExRjowSRptf3x+HsUAUFCWbOtdZe7LOf/ZRdzlk/7ue573uqUKeJk6q/V759yOej+oPSvrHwl/Vt+kz1iLrGwiziBsTSeDgE0nAceXMHt+9YO2gtNxOnDuN0yylyCrPo7u6mvrFeWhvomObdr44gr9iIrGAZSVlaAPaIW6X6ALGKjdK1hcn9h/y+JGoCpfYB9so3cUR/gP2qQJpPNXFcH8GupHcHtWsBIEj3ISHyzXjoVpNXbCROHUp6jpb6hjpkBcswFmYRq/QAIELhTYjch9RstWSZs5abSVB5ITO5cFwfwWFNELts84hRyjik3Yev/D+4Z6zCv2wegbaX0NY+iKH2QcwNd9F9+h6utMziSsssak/eQ2793VSevI3D1U9wWBNIWt197Ep+D5nJhVDjG/gZ/kGQ7UVSsjUElc/FrWjphJ7b9TCdAtDF8C9W5Hw6qc3F8C+nAHTiZIZxy1kAZ7Ijgrd6za89hFsS94xVv/YQgGtPlY9HT0/PiGNTYXEczPD3a6LtD76/Dmvc4DYc3//C0nw2jvIOO6x5jjWAg4+55q7APWPVqOdsLlhER0cH7hmr2Fn0JhabCVtlGQfUkYDdoSw5Ww/AzqI3h4wtuvJZkrK0BJjm457+Pgc1UUSbX8RDtxpZwTJaW1uJUH+NJl2Be/r7BIk+eKvX4KX5nDC5P+7GFSRlnGBzwSJOnW5mZ9kreOpXU1RqxDV3BR0dHejSjuFasAz33OVEW+cQVfoi0eYXOVr9OJ7mhWhrHkZf9wCXT9/Hhea7uNIyi5am35PfcBcbzQsIKp+Lr3wdaWWPsM06n7C0ZchMLhypfhw302LSslV0dXVd0+J6o0ynAFys/5Bl2Z9Nalus/9ApAJ04mWHMGAGYcpMtVTOZsbxGSyxF0zySyeFYvD9ZyiqsEzqvyFQw5HN9Y/2Y5zrWvk0nY63bc4ie62H498PVuFK6/kuXLnHMcGhEnXhtDLGqUKluW1vbiO96kalghGf/4GnjINFH2jdkqskuyCQ9R0Nvb69UfzC+8nUAbBNdKbEUEasKpa+vj1D1Z9LzOaSJpLOzkxJLES0tp7l06RL1DbXsV3kTLPqRlKUiPUeLl+YzYlWhbC5axGbLmxgy1TQ2NVLfUENnZydnzrRQZCogJcfA1rS/c1ATgSI5nj3yDRzQfoyXeQHhFc9LY9uU58JRbShB5S/iq1jLLts8/BVrCba+xC7Ri82WN9hoeYvjmm/ZV/kMOfV3o6h5hFNNv+dc8930nr6Xqsb7iUtfxO6yl8mrv4/QijnEaz4jMm0JcVWz2VU2j93Kr9mStwSTpZB4TQz69Klf8uEUgE6cOJksM0YAzgQc03C/hli41XAIgBstvxEaGqf3uZw50zJm2XBL2lgMFkjBoh/Bou+4ddKyR04Bj0apuWDC/yQcMyRwWO0+5FixuXDI57a2NvxFT44ZDpFqTKLYXCgJOoC8IrvAT8rW0dvbS1KWlqQsLdvlbvjI19HQWE/DyQbA7uABv1x/fUMdbW1t+MjXkZSto7Ozk32qvVL5flUQDY31lJVb2Fn2CoEFr3PmTAtems9IytISKt9CnNKLXUVvEqnYSW9vL8XmQpKytESpvsNWWYaxMItdRW8SkrmItGw1Z860EKz6is35i9mg/wiLzURylgYP/UcctswmtGIOMpMLfqKMEzWP4WZaTFTpXLZZ55NS+zCamoc4UDmb1ubbpSngy6fupqrxTg5XP0Fy3UOk1s1Cl3aEANtL7FWvIVj3ITvTl5GUdojQijmEJL1HllE7oWc0Hg2D/sGZTgH4tv4j3sn+fFLb2/qPnALQiZMZxm9CAA4e/0z0anVyc3FLm7op5MlMA1+L0aaIBxMm3zlurL/B07MOBwiH0E4ctE7ysC6O9vZ2SaS6pa2Syj2GeemOJtRHsxQChBlWUWjKlz675qzAV75OOtdDu5qNqjVSGz7ydRgy1TQ1n5TWJTrC5rinrhoioiNLXiKkZB7wyxpGWdFS1GlyAA6p3CgqzcWtxB6zzz3V/sw3Fb4N2Nco7i2bS6Epn2DRD9ecFShTj9Pb20tbWxs9PT0kmJ/Fw/ARgba5XL16FY3tcdyK36GtrY1t1vkkJL9DeNpSfK2vEV35LKHlc0i0Pk3XQAiYKy2zqDp5G6eabsPWeBsBZS8TofmE6Mpn2Wadj2fpItabFuFf+jr6gtkEWV9Gm5o4JbFAE4etg51OAbhA9zFLsr6Y1LZA97FTADpxMsO4ZQXgaOEyJsNkPPKczHxyi7LZr464KW0n6vZL+w5Hi5uJxWYa8nksJxvHVHOguEk6FqcOl4IxJ2frqW+o46AmSiqP18RgyFTjalxJcpZGmloe/P0wFmYRJvcf0lduUTZnz52lrMIiWdK1yXYHoZ6eHuJUAb+cW5zDIdV64jUx0nR/blE2/knvc+78OXKLc5CZXIBfppS9VV+hTD2Oh2418ZoYurq6SM7WI9eHEiT6YCs3oUs7YrcUqgI4UPk0QaIPEQoZYF+beFQXwS65Kyp9CPGaKKKVO0io+gtx1jlEKDZxtPpx9lXO5qg2DJXtcTS1D5Ndb/f+vdh8pxQIOr7qSSLL/0pa3SwOVv2FI+V/IdrwHvFVf8Hb8hYR8i0Eiz5sML/NAZUHseOE8LkRnALQiRMnk2VSAnB4mIgbIWeQ9+P14PAOdHJrMV5MtEjVN8AvltyJTserUk+MWTaaY8NUs18dPiK23njfj/HKjTf43XAw/N4Nv/dtbW146j6RLI+O8rPnztLf3z9K/UopzIyrcaV03FP3MWAPIeMjX4en7hP6+/vZo/uQEHEbucU5hMm3Sw4iitRj9Pf309bWRmj22xSU5OGfNNSKm1dspK2tTbJGnj13lq6uLmQmF45qAmltbSXO8Hd81GvwzHeh+VQTVTUVpGRpUKQeI0z/wS/XWPo2cepwthQvpKzcQrDoh7tpMZ66T/BLX0mY4T3WmxexJeU9FGVPcLjoBbvXdeXTHKl+koam30kWwOqTt3G66W7yizLYWz6Hg1V/Yb1pEceKn0WXdoSwiucJle/E1biS40mH2C164mZaPKHnda0QQMOZTgH4pnY1izLXTGp7U7vaKQCdOJlh3LIWQCdORvvnYXAw5pmAIwMHDLXUTWSq+WTTyVGPy1OODvl85cqVMTOADMdabuH8hfNjljvGeOXKFfYMcgBxUF1bhTzlKFeuXCGnMEv67Th/4Tzb5DL85D8SLPrR0dEh1Xec4/Dgb2k5jatxJa65K2hvb8cr34XzF85L5cGiH67Glewpng/8kj6vvNKKzOTCXrkPG9VrOJGciHvqKg6lLiZcsYPNljfQZigJFu1p56JLX8RWWUZllY1tye8TlvYOmyxvsk/hTWi6C665K4iseI7ySitRlc8SlL4UbeZ8kuoeILf+HrLq7yGr7n5y6mfR3nzHQCaQu2k4OYvAsvloax4mpexRfKyv4y+6E17xPCmZJziiDcJWWYaneSEykwuHM18f97lcr5VwOgXg65pPWJjx5aS21zWfOAWgEyczDKcAnCHkFRunvc/R0phNFRGKgPFPmnBbu6esrevFEetuOhgvVZ08+QgwUvj29PSQXZA5pP4hXeyI+sNT0TmuzRHL8ZB6z5D6E8lhOzws02AheiLpMBGK3UOEb7RiM7nFOUQoAiivtGGrLCNI3IqprISDmihiVaHkFuewV75Nipt4+fJl0rLV/HT2J+KUGwlSfcl+1SYOqLw5rNlLgnYfR9U+/HT2J2QmFw5pQpEVLCc1W0VUxXO0t7fjI/+BDRnvEibfyS7NJ2wrm09SlhZP80I0tQ8i1wWSkLaQgoY7CVV/wfGaP2Gou599lbNpP3WHZAG80jILa+MslLY/s7/yabLq7yWk/AX81GuIrZiNt+UtrNYijmq2E6b8kcOavRytfnzc+3i9OAWgEydOJotTADq5ZbjRrCUObmYMycFBnQcz2Plj0xjZPwbX91Z9NUQ87xQ3TKj/cMWuEcfSjMmAPTxOuGIXra2tXLx4ccw2HONzrAk8d/7ckN+G/v5++vv7JYeE9vZ22tvbiSifI43fLevv7JVvZ33KP9miWEuE6lupDUf7McogWltbSTMmE6X8N1evXiVEbnf82GD4iMSypwEIU39BllHL+tzldHZ2sjdlBdZyC765izl3/hyhmtX09PRw9epVurq6yC1Mx0O3mnPnz1FfX8P2wrfwla/DNXcFRzX+9Pf3E1b2Am4FSzl/4TyupiWoUxKIq5qNrGA5xsJ0jPX34GpaTETJPILLXyC57o/0nr6X3tP3cqVlFh2n7sTceCfa2gdJr7uP+Kq/EFHxVyLNL7LZ8gZehn9x7vw5NuSsICNbyQbz20RU/HVCz/B6mE4BOF/9KW+lfzWpbb76U6cAdOJkhjElAnCsOHYzkZniJTyex+dUEK0Muul9wM1//uO17yfKbmr/YzE8Bt5Eqay+sdyww7+nprLSIZ/zS3Lx0K0m1ZgkHSsstXvtOqx9qcYkqqrLycxLG7Mfh5g7O2AxlBlXkpSllfp3lBeZCjCVlSIzrqSq2m5N7ujoIFyxi22iTHr/Dug+oLGpka2KtXR0dAwZ3xGdPcNIWrYKsAtefaYa1/wV7DGswlP7KWD3GpaZXAayk8Tio1iLp/YTDqi2kZGXRpjcn62KtdL4+vr6SMtWEa3+DIDNljcos5WyNf1v7FV9SXTls0SoPydB+zHhmk/YbHkDecoibBVm/G3zSM1Soq99kOS6WdSfvFMSgOebbycn9wWO1/yJo9WPc6j6SdxNi9DXPkha3Sw8Uv+Bf+pKWltb2W74gDRjEtp0xXiP9rqZTgH4qvpT3kj/elLbq04B6MTJjGNGWQAdMcQmynhTZrca13v9M5396vAbrut/wnPEsbEsgFOdceNmMDhH70TJL8m94f4MmWpKrSWcOt0sHbPYTCPWFarT5fiLntTUVaNOt4dcUackjOg/zZhMw8kGMnJTiVGG4Ja/nP3qcPJLctkmukptORw9HOFl8kty6erqYpvoSmtrK9Zyi+TFvF8dTrDoJ50bKt9JU3MjO0UPOjs77fH/DKvo7e1FnS7HR/ktJ5tOsk10xZB+nNMtp9ioXkNXVxc1ddW0trYiM7lI9aMrniVcvgWZcSW705cRIHrb1xCmrMD/hCcp2Wr2GN9GZlxJeMVfOa4NIDZnPqJ2B7qUOBIqn8La+AfyG+6gb0AAtp+6G0X1MzSevI38hrvJrHsImWkJYRXPs0X5HSl1f0RmciGgZD57bHPZo/g32tTECT+3iYaMcQpAJ05uPVYKgpAhCEK7IAhXBEH434aVXxUEoUsQhA5BEH4e+PvIsHO8BEE4NVCeNkr5nwRBSBcEoVMQhGZBEDyuMZ4ZJQB/bazl5us6f9sYlqd4bYy0v13uOqkx3WxuZHzDM0dMN/39/TdUfvXq1RHHhq/xG+2csdq/WTEDHfgMCsIM9vdzrCwp/f39eGk+Hzfe4HCSsrS4Zb3LIe3QNYNume9J77dblj03r8y0hLIKK/39/bS2tg7JKexavJSrV6/S09NDyKBg10lZWiJLXwLscQId4ZtaW1vRDFjGuru7Uej30t3dTXd3t/T92SbKMKQfR1awjO7ubryKFxNqeQm/kjdxHbBKqtPkyAqWISteSljF84Qnr5Da2VH2ChnZSs6e/Ylg0YfQijmUV5jo6+tDZlpChHoNriUuuGW9i5vJ3vb+qqc4rHbH3bSEnWWvUNr4BzoGQsBcaZlFTv0f6Tl9L7FVswkwv4q+6mHiyv7KbtvLlJWbCE9byrGaP9Hd3U2gZR6bSxciK1h2Xc9kIkynAJyn+ozX0r6Z1DZP9ZlTADr5r2e+YBeB/xLGFoAvX6P+D4IgNAqC8LAgCP+3IAhbBLvI+58D5f9LEITTgiBsEgTh/xIE4VFBEJoEQfhmjPacAtDJmGTkpk55mxcuXpjyNm+EE8kjrTIxypAJ13cEKx5utdVmKK9ZT5uhHFPENTXbc8YWluZfl5CbSHYRQPL+jVJsHnL9jvqO8qz8dAACRG8sNhOXL1+moCRvRHvHDPb4hz09PcRrYggQvYlWBgP2MDGB4mYSdfvp6emhoCSPGGUI1nILxaW5BIjeeJoXYrGZOKyLA+DIwNrCrPx0AsXNBIjeGDLVXL58mRjlLoLlfiRninjoP+agJorDujh8ld/Q09NDgOiNaIhlvWkRBzVRnEhORDTEYbGZOKI/ILXtl/QPDqq2cbT6cVS1DxGR8xa+xW9hqyxjg/ltwlVfodQHscH8NgUNd1DUcAfnm38vWQDrTt5OYcN9GGofYE/ZyyhqHiGm8hkCbS8RVfkcMbmvEqb9FwGiN3vL5xBZ8Ry7za9O+FlOlOkUgC8pP+fV1G8ntb2k/NwpAJ04GWCuMLYAnHeNenWCIHw56PP/LgjCT4IgvDfw+QNBEM4Ma/drQRCqx2jPKQCd/NczPCXataitr7muti9cGCp4d54Y36ljuKgsNhcSr4mecH11mjii/mhcbL04QpA71ltuUXwneabLjCtJyrDHWaytr+GYLpyN6i+orq0c0v6G5H9RW19D0ICgrKqpZEPSv8gtTKfhZANWm4ko5fcAmCyF5BUb8VZ9RXt7O5p0Bf6iB7L85WxUf0FOfhq+2tUcN9iF2x7jQmwVZsoqLMSqQikszZest52dncSpwqipq6a2voaWM6fZmrcYD/NCCkvzCDW8R1j58+wpn4uf/EfiVD4cTFlKvDqELZY3aG9vJ0i5lhPJiSRUPUlkxXMUNtyBWPMomtoH6W+5j3PN90hWwIaTd5BU90ey6+/hQNVTbLG8gXvqP9CnHmR/+iLiNdG4mRbjmvM3DJlqxJpHx31m14tTADpxcutyLQF4WhCEc4IgFAqC8PGgsv9voPyZYXV0giBsH9jfKQiCZlj5cwN9/a9RxuEUgBPk7Lmz111novlinUwPvsOmVKeCljP2sCfjeSiLwyyOw79zw+t7aT8bt2/H+zVRhyLH9OuJ5ETq6muHZAhx4CP/QdoPFDfR2dk5ZKw9PT3sTF8h1XfLeA9P7SfEa+zTthuS/glAWMpKKWzN4OurqqkkTL6N+oYacgtSAPv6yLPnznKy6SQykwuuxpV4aT+jpq6aDUn/xFRWyk7RAw/daoLS3wHAZC0iKz+dE/ooTpj/wi75ejYYPsRH/gPrs//GlStX8Jevx5Cp5kDV0wTa5rKhyIWaumqCRT+iS+fiZlpMZ2cnprISXLPexVe+jtjKZzDU3Y+u5kGKG+5CYwjjZNPvuDyQDq7z1F1YGx4gqe5+VNWPkaiLxcP8Nnvl2wkqn0tSto4NSf9kg/ltjlf/iV3Fr+M5sC5yKplOAfii4gvmpXw3qe1FxRdOAejEyQBjCcCXBfvU7v8hCMKbgiBcFATh04Gy2wW7AHxgWJ0EQRDCBvYjBEGIH1b+4EBfvx9lHNctAB0xw5xMPRMN5vtrclQf/2sP4TfBWOnbRsMh3H766QyANB3rcCxxpLg789MZ6fkMbz8jL41jhoRR+49WBpOSox9y/gF1JGD3WO7u7iZKuYczA/0f1ERxQB05xPs6Iy9NKne0X1VTQXVtlfT78tNPZ9iv2sZBlT3eoCPzyI7S10nURnLMkEBZhYVicyExyhCCMlyGXP8xQwIJ2n0UmwvZXvYqAbaXOKj6Zfr7gMqdgNwF7Ch7FZXWD226Am2GElnhMrzMC9hf+TSeWSvw0nxGhGI3NXXVHNNs46g2hPS6ewnNf51g24voax/gaPXjZNTNIrriWckD+ErLLGpOzqK04S5iK2ZjarydnfIfMNbfy66ylzmk9scrayUHVXuQa7ZxKOdVUrPs/U810ykA58jX8FLy2kltc+RrnALQiZMBxhKAw9kgCELWwP5NswCuWbOG7777ju+++w6tdvoC3zrYkPThlLQzlYGNpyKB+42wWfHtr9LvcCbiDDFTGM8b/GZfi+P9HR5oeTijlafnpox5/nbRjV3ixiHHKqsrhlj8BtcP19mtb6O9u5GKQGBkEOld4kY2JH0o5fwdjiFTzYakD4lUBOKh/cWSdfXqVWmN6KnTzfz8889kF2SwWfEtrnkrqKgqxy39fbaL7nR0dEhjcvTvnvEe/ic8pfFHKgLp7e0lIy+NKOUe6Zn5ytdxuuUUIfJteJYskkLTtLW1SSnW3NLfl8YVnPcG7sblVFZXkJSlRZF0gPWmRcQoAzl1uhlruYXd4kZaW1txNy0m2DQPD/NC3NLfxz3rXWRFS4mqeI7YqtkokuNJqHqSn0/dJQnAjlN3kl33EMUNdxA1kArO3bQId+NyQq1zyay/h7iqp4nMe42klDgMmWpkJe+Mem+vF61WK/1Or1kzLYLKKQCdOLkJXI8AzB70ebQ1gGcFQXh34PM/hJFrAL8RnGsAnfwGOXf+3Jhlvoqpn+6dKhzp4UbLZ3096xEd1x+h+YzmU01DyjYpvx5yfxyZQbILMjisiyO3KBv4ZWlD86mmIesbHfevrMJKZ2cngeIW4Jf8wrlF2VjLLRgGPIEP6WIpsRRhLbewTxVKX18fBSV5lFVYkRlXkpKpoMRSRJT6Ow7r4uzTvDnL2KmwrwkMVX0lCcyaumpc8+xBn8sqrGxRrCVQ3IIy9Tgmcz4JmkhkJhfCdf8kUvcB3qqvSFAHUVtfw27Rm1C5D3v1HxCa/xpxhXOJNs/FV/4fjhvi2GGdz2FdHN6qrzimjyW2cjYbTIvwML/NUf0B9lc9zd7yOWRUP4iy5hHMua/T2nw7PYOsgOWNd+JuWsTx6sfZaPiQ1LpZnDC+jJd5ASHlL7DNOh997QNsUn5NTkE6MpPLhJ/pRJlOC+Dz4pfMTfp+Utvz4pdOAejkv57/TbBP8b4m2AXg/xz4/D8EQXhCEIQnBUH4PwW7sHtNEIQLgiCsGVT/34IgNAj20C//ryAIWwW7l+9gL+BTgiB4C4Lw/wiC8JggCCeFCXgBl5iLpvxH6mbwa6YFczKUgwOOCdNNiaV4WvsLGGWt3Hg4vHgda+OuB0XKMdRpomQt6+3tlb6fDk9hsN//vMKMUdsYj8HBtR3tD44ReOnSJantsa4+2b+tAAAgAElEQVRfnnyE/eqIIXEYL168iCLlmDQ+B1U1FWTkaHFLWzVqWzHKECIUAchMLsiTj9Da2spe+VZKrSXITEs4oovAV7GWpuYm4pTb2S66cVATzVbVGnp7e8nOt1sS41UyEtS+yPKXEyLfxlH1BqnNYPUXWMstHKh6iiP6OHz0/0LU7kFWsJwo5ffsLnuZqOJ5bLG8QUrdA2TX34285lG6Btb/XWmZRd/p+6g8+Qd2lL3Koeon8S+bh6nhTrLzU9im/I6yCgt7y19gv+YLQpXrOJDqwtbihTf0jK7FdArA58SveCHp35PanhO/cgpAJ//1fCDYp3GvDGyO/RcFQVgoCIJNsMf+uygIQokgCKtHacNTEIQWwR7nL00YGQfwUcEea/CSYHcoWX+N8TgtgE6mDE/dJ9PWl2vO36atL5h4qJXhGAbFyrsZ92dw+6MRoV5De3v7NcfvmrPihvr2ka/DV/4f6bOsdKSlS5+pltr31H2Ch341waKfFMfPQbDoy77KZwA4rHK3B3UudZGuL1bpibmsFFmpC0G2uchKXYhQfw7YxVC8JhqrrQRZqcsQi9tmyxvIjCuJKLenY9tkeRO1fg9RxS+Tlq3CkKmmra0NmWkJXuYFqGof4njNn3A1riRe+yGZ9ffyU9PvJQHYeeou2pvvQF93PzvKXiElU0F05bP4WecjMy3hUPWTRJQ/L/UfWzkbVc3Do9zzyb2/TgHoxImTyTJEADrWCY1FUrZuUj9aTqYGZerxX3sItzwTibNnHpZq7XpwTJkOxyF6xiqHseMvOkK2VFSVT3gc2QWZ0v5osQ/9RQ9g9Klnt7RVmMpKUaQcQ5FyTOrfX/QgUNxCU3MT2QWZ7FO6S3Uutl6koqqcnp4eqW2AONV24BcLZqC4heyCDJTJCeyQu0v9RygCqKgq59KlS/iLHiRlqQYsfMlEKgI5kZxInPJ7Ll26hFwXiJ96DYdU65CZXEjK1rGj7BUCDKvYKXcjQROGp/YTent72ZryPvHq7UQrg/HSfoY6JR4/9RqiFZ7IipYSW/UM+ypns9v2MsUNd3FQvQax6gly6++i7/R9kgDsOnU3x6ueoKjhdtS1D5NTfw+JVU8QVvE8QeJmgsXNxFQ8x065G5szV5KcpUKdMvWOU9MpAJ858TXPG36Y1PbMia+dAtCJkxnGLW8BjFAEjHp8OnLtTpZbbTp7t+j9aw9BYqqer62ybErauREm+vyvlflkrHWQjhh+16KgJA9bZRmdnZ1sUn49armjf12GPVevY92iY3q6vNIqjS9Y9+GQsoMqP/KKjeQVG2k+1YTM5MIJQzy19TXkFRs5qPKjvNJKmjEZsDu9eGo+o7a+Bte85RzTx3Hu/Dn6+/vJLcxkk/JrSi3FNJ9qYpNpIQUlebibFpGZayBY+S1++g+pb6jFWJjJzz//jFfOco6qtxBS/gJpmSeQmVyIVv7IJuXXRBW/TGDKSgDiq/6CouYRYitnE1/1FFEKDw5XP0FC1ZOI1U9Sf/J3kgC80jKLoobbqT/5O0ob7iRC/QV+RQtIULmy2/YyxweuL6cwi83qzwnOf4Og8hfHfRbXy3QKwNnHv+Gv+nWT2mYf/8YpAJ04mWHc8gJwpjI4B6uTa+Nh+Gja+9ygv7E+K6srpP2MvLRxzw8QvQk1vjlqWUZe2qgCrqOj45qfhzPcASRaGQTYcyQ3NTdJ5eWVNrYo1g4JB+NoX5a3HLBfn6PcsbbP4ZHrMSye3S5xI11dXXgYPiJE9GGLYi0bkj4kXhPFBv1H7BI3EqN0pb29nabmJoLLX8SzeDGuxpWcOt2MW9oqjukP4GFaxEGVP+WVNklghtnmDBlfrNITt7RVnDnTQqQiAFfjSrYrvkc0xFFeaeN40iHCU5fjnvkuTc1N2CrLcEtbRVdXFxsy3uPnn3+mt7cXW4WZpuaTqLNfYovyWzSpichMSwiRb8OQtJyNyR8QLPcgvOJ5DHX3o619ZMgawEun7uLy6bvxtrxFeePtBNteRFHzCAG2lzlc/QQheW+y3rQIt/T3yc5Pxkf57ZB1mzfCaN8PpwB04sTJZHEKwN8YR/UHr1k+OFbbzcYR520yTPV093j3Z6YQoQigqqaCKOUe6diZMy3SfoJ6FzD6/Rk8nTu83FpuISMvjcuXL6NOk1NZXUGcOpwSSxFHDfEjpqarauzZPuI1MWgN4RzSxUrp3gCilHuIUYawRbF2xDjUaXIAtpe+YW9DvZvdojdpxmSilcEEKL9BZnKhu7ub7LxkzpxpIUqxmzRjMpGK3UQp9xChCMC1YClmSwFHDfEc1R/ksNqdSMVutljfQJd2hGhlMD7a1exTBuGhW81G9RfsV4cTqQgkUvkd0eYXiFAEDISD2cV21ZdEmV8gWPk9u+UyEtVbiFMFElP5LHuSV3K46gmOaIMJq3ie1JrHh8QBvNIyi9qTd5BRdy/hFX8lsfrPBNte4GDyUhRaXxI1O/AyL+CYehMHsl/nQOVTxAwI8qlkOgXgU8e+5Vndfya1PXXsW6cAdOJkhuEUgLcg15Oz1omd0SxtU52ppaenR1pbWN9YP277gwXdaDhy8tbV19pFzqAsHaMxuNxT+8mYfZxIOiztO6yYjvvjsFbVN9YD9nvU0FjPiaRENhg+lES9o/zMmRZCS17hRFIildUVuCd/IJV3dnaiSLGvOwwSfbDYTPT09LBfHYFHyj/YnL2cw7o4PHSr7YK3uly6Xk/tJyRnacnIS8M91d5mdl4ytgoz586fY2+RPb+uIVONh241UYrdhGctJCMvDVfjCjzyliIa9pGdn0xdfS1Bog9h2o+pqqnAv2we4dkL2JL6d9wy3mN96j+IqPgrW4oXkFj9Zw6pt3Kg6imamm6j/uTvOdd0myT+2k/dS2vznRyoeor9VU9T3XgnPpbXOXf+HJ7mhXhb3gLAy7yAgIx3UKQkEp66/JrP7UaYTgH4l6Pf8Yz2x0ltfzn6nVMAOnEyw3AKQCe/CqNZjG4VHIGnh+fRvRZx6jBpX50mv+E1jHX1tdJ+fknuqOc4LG9hcv8hxy02E/CLeHNMZw9/FrGqUMDusHJEf4AtirW0nDmNv+g15Dwf+ToMmWo2Kb+h5cxpgvX/GOL4ASPvkWP8rsaVeBrtGTI6OzvRpisAUCUnsFG9hs3Kb0nO0kjj22J5g43qNXjoVpNfkstB03PkFRs5oA6ivb2dXdoP8dStZoP5beI1nxFe8TwHMt/kgDoIWfE7tJw5jczkgjZdwSHjPDJzDWxVf85+dTCbShfgk76SnWXz2Fn8BomaQLZbX+Vw1ROElb+ApfGOIXEALY13UH3yNoz19yCveRRX02LC5JvZlLqKQ1VPIDO5DKx33E+A6I1b3o15WV8LpwB04sTJZJlRAnCya2WmGmu5eVr7048T0mOmtw83FvfuZjA4D+1oBIk+E1rDNxaD4+gNJ3NYu+KgsVyPaGxsapzwuYWm/BHHrOVmMvPS6OrqIrsgg2hl8JAp5cE4glMPZre4kZNNDQCo00TOXzgvlQ32ou7q6kKdJkrtZ+al4WpcSXZ+Cr7ydewWN1JoymfPgICMVgYTJPoQo5Thnmpfp+ewEF64eAF1mpxjhoNk5KVhyFTT1dVFvCYG/6T3kCftp9CUj7+4nsamRrz1H7HNOp8w3T85f+E8sUpPjmpDUSTFcVS7h/CctxCTj+Cl+dweskUZwG5xI7LCpfhlLOdg1V/YKW5gv2odgbaXCLa9yN7UZcgN0eyvfJrihruHeAFfPn03xrqHqTl5J3kNd5GoXofC/CSbLG+SqI1kj3IthzLfJNo6hwD15xw1xHNEv3/Cz3H4OsuxmE4B+OSRtTytkU1qe/LIWqcAdOJkhjGjBKCT8SmrsF6zfLpSuPX29k5LPw6uXLlyw3Xdsv8+hSMZSW9vr5RpA4aOdbznMTifroME7dgiure3d0S5o/+JPvvjuvAhYxv8LIe/X4PLrl69KpX39vbiWrwUAEXlY/T392OxmfA0vY2s2J76zEe+jr6+Pun3xUv7GQB75faQMKlZSpKytLgaV0h1TNYSQuTbcMt6l76+PmRFS+nt7UVmWkKJpRhP7Scc0YYgK1pKeo5GshzGa6KQmZZgKitFZloixRmM13yCzLSEYNEXT/NCrGXF+Nvmsb54CVsV/+ZE9WPEVj2Dn/l1wlOX4WleSLD1JTzNC0mps1v7yk/+jv6W+wYCQd9Lx6k7OdV0O+qax9hifhN93f1sK5tPbNVsYqueIdj2ArJSF8I1n+EnypCbn5zQc3H8wzmRd306BeATR9bylFo2qe0JpwB04mTGMSUCcNewqaH/diYTPy5MvnMKRzI1TFbsaTOUUzSSqWN4jt3hTGR9YG5xDsCQTBjwi+OEg+HlgzmgiRq3H4Dq2qohnx1hWXzl69ghuo44X5V6YtR2HO+XLkNFbnEOzaeapO9vmNwfVeqJIePPKzZKzz89N0UK2eKgxFKMNkOJmJxIY1Oj1G9nZye5xTmUWIrp7e1FTE5EZnKhtbWVVGMSAPvVEVL/jnWtTc2NeJjfZqe4AX3aUZpPNbFddCNB/z7+chnrTYukvjda3sJL8xnRJS9yWBuFxWYiTLmW3eovpfaDlF9L17fHNhdd2jF8Df9EnnyE0Io5eKvXcKzqcbYnfUB87itk19+LT+p7+FhfJ6R8LuWNd3Cm+XbJCth7+l5ONt1Bbv1d7Cx7jYKGOzle/SfCFbtwNa4k0PYSPpbX2V3wBseqHydE9Lsp/2A7BaATJ04my6QFYGHpyKmnqST6JnjQzQT6+vp+tb6P6A/ctLYd68sGc63p0pvF9ayxG5zNYrIEipul/Yn+I9DX1zemx7Tj/TcMrIe7dt9bhgRldpCem0Ki/gCFpflSbL/BZOWnj9q+j3zdiGvw0K2mqqaC1tZWfOTriFYGscc6D5nJRQpXs0WxFl/FOiIVgewRt5KemyJNZ7vmrSBREyBNOUcr7Wv4EvUHpFzAAaI3SVkaEtQ7KSzNp6+vj/TcFALFLWhTD5GZm0y45gtilB4cUO0gTGsf00b1F2xWf84uxVqy8pJIztKwWfMZEdqPyMpLkjKE6GofYHfZyySothNaPofkTDm+8nUkVj9BWt19xFQ8S2j5HEJtcwm3zaW04fYhXsDq6idpavoDh6ueJFIRQLT5BQJsL7HV8gZ+mtUEyb3Yq/sQXclTRCuDbvlcwI8f+Z4n1a6T2h4/8r1TADpxMsOYsAC8lhXDCRw1XF+0/+maqp1pDBe+3d3dI+7FdAnGtrY2/EXPaelrMBMVp+m5KUQr1wHw09mfxv2n4cLFC1y4eIGfzv4E/HJ9Z8+dHfL9/fnnn1mf/C/p89lzZ6X6AGfP/sT65H/R1tYmlTviBPb19bFfHQHATnED8Mu7vFn5zahZSs6eO8vPP/8sjS9K6U5bWxt+in9zdmCsw78/Z8+dZWvJAgyZauKqZhOjDCG/KIuoyuc4e/Ynqmur8JGvY5PlTWrra3DLW0ZC+gJsFfZp1KPFzyErXIZ74VIMlscIyF2ArHgpHrrVeJgX4m5axFbFd2Qa9bS3t7OtbD59fX3kFqZzVLOdssbbyKx6gIaTv6N5kBfwlZZZnG76A1Unf4+u5iHkyQlsNC/AzbSYBNtTbDa6EFcxm9bWVrLykthV9jLq2oemPOj7dArAPyX+mydUbpPa/pT4b6cAdOJkhjEpC2Btfc01yyfidFBeabuhvseipeX0lLZ3KxA5RjYUmPr7OxoTSas2nO7u7pswkqkjTh0+4thBTbS0f6P/EDnEloPyStukHWciFQFEKgKl8eUVG+nq6uJEUiKGTLXU/okke0iWUmuJVFeeYndQyS7I4JgubEj9iqpyDJlqenp6yC7IwDd7qVQvVL5D2nc8f4vNJF2f4/7IU44QqQggXhPD6ZZTnD13lmDRjzh1OHHqcAyZavwKFpBfkit5KecVG4lXuROr+ZRohT8JtqdJy1YTJt/C2XNnySs2EixupaKqHE3qIWSFSzGVlZKgDiRC4U+Ucg9x6lB85f9hb/kcZIVLyS/JJVa5EVuFmRj9KvxK3iRB5Uu8Zi8JKneCVF/in7OEANtLxKn8OWx9mpamP1DQcBetzXcOEYCnmu6hqOEOihvuxVh/D26mxYTqPmR32cskFv2V8OQV7Cx7hXjNXsIU6/AbiIM4lTgFoBMnTiaL0wlkAEXKsV97CKMy0zyjx2OwsBtr7BMNRj1eBowbZTwP4V8LP/mPI445YgGeOdMyZJq4vb19hLWtvqFOWis4/DvteL/rG+rQpB7CS/MZHR0d5BakUFVTwYWLFwhKWyadP3gdoJfmc/apQvGT/4i13EKw6CeV7RF9kJlchnx/HM83KUvLZuU3AOxXh7NhIKNFvCYSV+NKNqm+lto/c6aFDUkfkm40SO03NTexNXkVnqWL8MlbjHfRIoIyXAjNe40Nho/YI27FX/SkqqaCiiobwSl/w8f6OhHKH9hYugA/63xOJB1mU94SIhQ7Ccpcgo9iLRsMHxFR8Vd2qO1OKREZi/HJW8ye8rnsKZ9LcPmL5NTfjb7gGfIb7uBi8x/oH+QJbGl4gJqTt3G85nEy6mbhaV6IrvYhNiX/g7D0JeyvfJqqmkp8VF9yRBfF3uJXxnny1890CsBHD//A40r3SW2PHv7BKQCdOJlh/OYE4G9pqjpEvm3C5zqm/SbCVGfXuB4qqsqv6fhQU1c94bY8tZ8C186VO5Hy4VzPvWxtbZX2B6eJu5H2hzt6OBg8/u2im1T/et6PwQxPHeep/VRy3nDc/80D4qyuvhbXgTh2ldUVUnlHRwd19bXsle8YYlFUph7ngCYKs7V4yPjcst4d0r6nbjXRWW+SqPakv7+fWOUWrDYTsoJlKFOP42pcSVzW6+yV75CuPzlLRaLxFeLUYbS2tlJXX0trayue2k+JyX0N7+RVlJVbaD7VhKduNUlZWraq1xCeupxo1TdsM3zA5tT3WW9eRH5xNke1IbiZFtPZ2cku2zx0aYnEVT5NSt39pNTNIr/hTsyNd5JT/8AQC2By3SPoa+9HXvMn/KyvEVc1m0MqL9SpR6mssrHduBiZyYWNlrfQJcdQVJI96nNwTLHfCNMpAB859AN/UrhPanvkkFMAOnEy05ixAnCqU3YZBxLU/zeQV2z8tYdwS2MtN9Pd3S29g4OnO6+HsgqrlNsWRgqv8UL6gH1t3OD+B8fiG83hBn4JJ5KSowfGnqK3VVhGLR++dOOI/gDWcjOJmj3EqkLZI26V7k1qjoH29nbJK3m/OoIE7T6O6g8SqPqao7oojugP4GP4J82nmgiT70SfqZaE81FDPAp9GB56e+aSRM1e8ovSCRS97FbH9BWEyneQoN2Hf9k8YlWhRCuDOKwJIjlLw25xI7tKX8Nb9RX69GP4Weejz1SToN3HzrJXCFd4c0glY4/yO7aXvUpZhYUE7T5cjSsJU3/BjvRlRFU8i7fqS8LKnyda6ckO66toah8mK+clVJmvUVz/xyFewD81/4ELzXdQ1ngfyqxXEDXfsbd8Dn7W+eyS/0iw6Edi1ZPEVT6Nl3kBYs1j4z7n68UpAJ04cTJZrlsAblSvmfIfs8mQnK2f8jaHZ1CYyfya3sTTwVRYdK/1fk/m/fGRr5vwuYNF1njv1/Agyw68b+C7p0lXDJlK7+zspLu7G7e0VSPO9VavwUvzufRZm65Ak67APWOVVHd4jDq34ndwz1hFkOjDRs0X0vGOjg46OjqI137EqdPNdHd3Y7GZKK+00t3dTbjxDbbJZRzTfMqp081SHWu5hX3K9dLnXUVvcOp0Mwc1UbjmrpDadc1ZQV9fH26mxchK7fmEN2q+wDXXbq10My2mo6ODvr4+3NPft7dtK6Wjo4MdZa/Q2tqKzORCX18f6/OWs806nyOVT6Kqfdgez69yNgUNd1DScAcNJ383xAJoariH3Pq7KG/8Pfqqh9loXoC68lE89asx1t/FPuV6IkpeIjnjBG6mxZIFdSqZTgH4cMI6HpOvn9T2cMI6pwB04mSGcVMsgBOxbMx0pjvQ8XQwmSknB4PXfw0mJccw6bangptlzXa8047r3ymun1C9IlPBiGPHkw6NKD9m+OVYcrZ+3PfvWuXBoh8Rqm/GzTXsQGZcSVKWasiUrTzlKIZMtTQ+Q6aa7IJMDJnqIenoWlpO09fXxz7VXgD8T3gSLPqxTXSl1JxHidkexsVD/zH1jfVDno/JUgjYYxmCfUr7ZFMDZRVWDJlqkrK0+Gg/JiXHQLwmBg/tarILMqmrr8VXvo44lS9e5gWkZClZn/IBQeVzaWxqZLviW1zzVlBkKiC0Yg7t7e34WefjaV5IXOVsDmqiOKr9GF/5OsLLn2eL6S12iV6INY+yM+Mdgm1zSau7D1PD3VScvIMLzX+QxF/v6Xs50/QHgmwvkll/HwmqzXYLaO1D7De8ywnTU0QqNkvp4CIrn+OY5tMhz3cqmE4B+FD8f3hU3DCp7aH4/zgFoBMnM4wZOwX8W+OYIQGAYNH3Vx7J2Iwl7n5NJipiJktytv66lgkMDxR9zJBw3csMis2F456zTxVK6nWK6/IqGztE9xH3zmIz4Zq7kvIq25DxO9q32ExDfguKzYWcOdOCNl2BrbIMsMcBTMrSDhGgytTjHDMk0NbWxomkw+wSvWhtbaXYXEi8Noatiu85ZkjAQ7uanMIsgkU/WltbScrSEq3czna5G2B3GknN/mX6ea98M+HJK4lQfc0G89sAJGgj2a38dqDuDvYp/Tig+ycH1XvwLVhEnMqLgIx3yDTqOXOmhdCkdwm2vkSg6muCRT985OvYpfyGcPUXBBpWEafyJULzCTKTC9usrxJaPodDxlcoaLgTec1jnG3+A23Nd3L59D2SACxuuIfs5Hcx1DxMXsOdHLTNZp9qL+bGO1EnHyQ6+02iK58lJO9NAm1zpWwlU4lTADpx4mSy/GYFoHvqyCkuJzOLtIGMEJNhhzgy8DFM7Plfb/+O+H2XL18eN47jRKyt403fT3R63xFI2dHv5cuXAbvDyGA8tKvp6OjgsC5OOtbb2yuNVTaQ2i1csWtIeVPzSQBcc1aMCCu0OW+JvW7hUn7++Wc6OjoIFDcjK30HbbqCHaI95p9jfIWmfLq7uznZZG8zJcdAW1sbR3VhuOasYKNqDbGqENrb2+ns7JSeb1tbG1661XiVLqS7u5sNxuUkZdgdV9bnLidBE01YxfMUDbQfUTyPNGMSSWkJuKWtYpt1PnvLX8Azdyl7xM2cbDqJKvU4ftbXkJW64GpaQljZC2TW38vR6sfxMC+kpOGPFDbcgY9lwZAp4J9P3UV+wx20tbWxTe5KU/NJRF0IRaW5eBg+Ilyxi8amRiJVX02J1X00plMAPnDwRx4+4TGp7YGDPzoFoBMnM4zfrACcbnKLRvf0G4tbaZ3htahvqLvpfYyVHs9hVb0epjLcz/D+R/OunujU37ViZibq9kvl8ZqYEZZGWaE9fMvgGINhcv9R1zeebjkFjIzD6HAcOXf+HLnFOcgN+wAor7AQKG6Syk+3nJLi9dU31GIYGFduUTbK1OPsV0dgsZno7u4mOVuPh/5jdha+RZDoIwWQtthMBIqbCJVvob6hDt/SNwFYb1rEXvl2fOXr6O7uJilLO+T+xCq34KFbzQ7Np2wreQuf9L8TqPoSmXEluxRr2Sl3JUj0Ibc4B/+SNwgWNxCn8iNE9MVDt5og0YcNGe/ioV3N4eonSKz+M+GKXQTbXiCs4nk8Mt4lsvI59LUPcKLqz6TU3Y+lcWgMwJ+abye64jkOTjCF381iOgXg/Qd+5KHjHpPa7j/gFIBOnMw0bkkBWG4rGf+kGUhtzcgsCb91QsSJhSoZHiB5JjBR681gT9+J4HB6GA+H0PNWfSkdczieXKvPs+fO0t/fzwF15KjloaMI6tHuf31DHbtOeEmWz66uLqpqKlCkHsNb9RX1DXVsVn2Jp+4Tqc5gq6P/CU9yCrPw1H3CdtGNzfqPqKqpwFxWyib1Go4nHeJY0iGuXLlCkOjDdtGN7aIbhzTB7E1dToh8G3u0H2EuK2WvfAddXV3ITC7sEN3ZpF5DW1sb5rJSrOUW4tThmMtK0acfI0zui6z4HSy2UjYpvya3OIftohsbkj6kqqaCI9ow9qYux8u8AB/ra2wyvQVAfNVf8DIvICb3VZLq/khm3QPUn7yNM02/lwTgrtR3CZXvvO5nPhY5NxidwCkAnThxMlluqgC8WYF8nVybwaFCfosMv77ryft7M6mtrxkRy6+9vX3E+M5fOC/FDHTkxA2Rbx3R3h7RZ8y+htcHqKqpGDM7z+B7dkT7S35tx1SsY/yOYNSy4nfo6OjAVllGYWk+sapQautrCE6xe7RuVK/BX/TAWJA2pB9H6Jmqavs/O8eTDhGa/g7nL5yX1hFuz3EZ8tuwwfAR5y+cJ1Jtjz0YKJfR2tpKeaWVTflLkBlXEqnYTlT6EvzkPxKl/B5Z8Tuc0IXjmrsSmWkJ602LsFWWEZO5kF2iG3vTXdig/4hg0ZfYqmeIVXpy+fJlVLUP0dJymhJzPjKTCwnaj9hbYs9lHJm6FD/rfJQ1j6CrfYCc+nuwNt5O3+n7uHzqbvR1D4y4/zeKw5v6RtcET6cA/OP+H3nwmOektj/udwpAJ05mGrekBTApWzeh86YjDdrNYKLXdzO4Gan0ErT7Jt3G9cY2jLhGerzc4pxRjzsCLI9mlckuyLxmf6OVD/aWHY+xru9EcuI16zlE1WBKrSUc0sWOev5e+XZp31e+TppmjVQESNPDpdYS4tTh1NXXSuVBoo9UnlucQ6h8B4YsjdSWqayEvfLtnD13lv3qCLq7u4lRhrBXvp2enh42qb5mvzqC3XK793RXVxc7U94lKUtLgnYfBSU5Uqo4BynZGiIUuzmhj8BH/gOnW04Rqwpln3IXrsaVGLI0rE/5Jyf0Ee44+SUAACAASURBVOxWfINH1t/YLV9PQXE2CdZn2K+OYF/2WwTYXiK7IJNETQA7RQ82qb7GzbSYlGwNMcoQYiqfIVS9hl3y9SRUPcmx6ifIqb+brPp7yay7D2XNI0QqfH71aV8HpdaSaRWAs+JkPHDUa1LbrDiZUwA6cTLDuCUF4Gj8mhlAnJbOyXO9z2/49Ox0Pf/h6demgvEcShx4q77k4sWLwEgrqFvW34Gh40szJkv7jsDNFy9eJEIRIHnhnjt/bsz+olTfc+78Oa5evcoBdRStra1S/xcunB/yu9HZ2Ul/fz9uWX8nQhEgjSclS4lr7gpilCHkFqaTV2wkTumFu2kxPvJ19PT0EF7wKjHKELxyluFW7EJXVxd19bWEqb9AVriUY6XP4Jb1dyw2E7YKM4n6A5w7f449xa8jM7lgsDxGYvWfySnIwCt3GYesT1NXX0tk4StkGbWcv3CeXbZ5UvDpncVv0Nraylbr67jlrmB9zkoUtj8TnrqMQ1mvEyBu4kTNYxQ23Elz06zr+n477s+NMDirzHg4BaATJ04my29GAF4P11pwf6uQmZc2/kn/JfiJMml/IpbCsbLMpE6BV3KguGVC5zmmhQtL88c9t6+vjyMDXrRgH7+vfB3RyqAh512PQ05fXx+mslJpX2qjsZ6Gkw2A/X74ytfhJ8o4oj+AmJwolW8TZZSY7WM3ZKoJEL3JL8m1B1pWfE9mXhqHdLHS9W1VrGWPuJWOjg6O6g+yTZRRas4D7AGnj+gPkF+Si7d6DVsVa+nr62OrYi0//XSGS5cu4Z66ililB/LkI6QbDWjS5Wy0LGCj5gv8it4isuI5dooeeKvXEKf0Yqvyl9Ax2nQFMUpXdmcsZZN6DQ0nG2htbSXVmMQRXQwR2g9JrP4zgZku5BXOJafuPnTpcvYVvowh7e1R79+v/f2bTgF4X5yM+496TWq7b3oF4P8QBCFDEIRzgiBsnIb+nDi5JfmvFIA3i4zc1F97CBPC4cU50xmcY3YqGb5ObzL/EOSX5N5QPf8TniOOOYQX2EXVWNc/+PmVmIsm3P5gC1Nvby/xmmjyS3Lp7e1lu/LrIe3LipZKn9OyRCmHb6h8BxlGHZ2dnWjTRQpLcoZYX7eJrlL/SVladus+tLdhTMZDuxqALKOWbaIr+SW55Jfk0t7eTpRyJ0kZx3DNWUGIQoarcSVBoi/bs9/BX/Skpq4ai82Er/U1xORE6Vr2q7xIKX+IINEHN9NiMnJTiVN6ITO5sMs2jz3Gt9lR9gq1ddXEVT3NbtGb8Iq/0traSohyLZt1nxBge4nD1U8g1jxKVM7raGofJLnmEeJV3qPe24ngf8KT/erwG64/HtMpAO+NdeWPRzZOars31nW6LYB/EAThH4JTADpxMiZOAehkWpgJKesGpzkbDUeok+G4Zb076vFtgyyPg9fWjcaNXP82UcZ2uStuWe/eUP3hYWA8tKul6WaHgErK0tLe3k5/f790/SGiH26Z79Hb24uv4gcA+vv7KbUUShlRWltb6e3tRZuhRGZcyUFNNACllkJci98BYE/ZyyRnioA97Iy13IyH/mP6+/tpbW2lu7ub3t5eIktfor+/H4vNhJf2M+S6YGQFy5CZlkjOEofK5nD16lVcS10IEn1wLXUhJVOBrGAZUZXPcVATTZGpAFnBMg5q7N7PrqYlyIrfQVbqgp91vuT4ESzfiq72AcLVn7O5dCExlc+gq32A9Lr7MFkKiFV6oK59aEiqv73y7ROeqp8OnAJwQnwgOAWgEydj8psSgL+G9+utYk0bzESmHW82ly5dmtL2HM4Q0crga56nzVDeUPsFJfbpyomGcLkRmpqbAHv+Xge+g0RIU3OTNH7H/QsQvaXvb4wyBPjl+cYNskANnkJ2iDhruRmLzUSA6M1+VQBHtPbz/eXrJOcTq60Un+IFqNPkJGfKpfYP6+JobGqU2rVVlklOEo72A8XNgN3TtaAkD9EQizZDKY3PmGcgUbcfuWEf2QUZ6DJUXLh4AU26ghOGaHytrxEq34m/6El2QQbBcj9CCubjn/J3jupC2aX8lhOGOI7rwgjSfszh9LcG+vPjoOpbwhReZOSm2r1/k2KIrZxNiPIbDmkicDMtRlX9J/ZVPsNxXSg7yl4hJP8NNqS/O3AvRwYYd9zfG2Wy9QczrQJwnyt/TNw4qe3efU4B6MTJTOM3JQB/K8QPWFPGo6qm8uYOZJro7++/4brXG4AbfvF0Hr5esLOzc8wwKsMZa8zXI2yv17MZGHN8nmnvS8LqmC6cLYrvRr0+APfUfwAQqP8AgHDtR0PKD6i2SuMTDfvp7++npeU0nZ2deJoXEiT60t/fT1VNJflFWWxWfc1G9RdSP40n63E1rgTs76jMuFLq0xE/r6OjA2VSHBvVX7BF+S0APqnvoko5xK6cRfT395NXbOSo/iDZBZns0H6E1VbKpUuXSNR8Kt3/fapQvDWfEyrfSUzWW0Sov6LlzGk2qr9gZ8ECfPMWEWeaQ0TFXwmwvcSelJXsLZ9DiaUImcmFQOW36GvvR1f7AMWlucjyl7PetIj1pre5ePHilH3HJvqdnijTKgBj3Jh12HtS270xbtca70rBvmavXRCEK4Lw/7P3ntFRHOm/f/9/95z/Pfd37rn37XrXgHPedcY2trFxAhtjwNjg9drrtDiuw7JrbEkghEBCCeWcUAAFRNDkGeWckTSa0UgaSaNIBksi5899MXR7FBGSkGW7P+f0YaYrdFVXSXxVVc/zCP81Qp6NgiDsFwThpCAIBYIg3O+Q9rkgCPmCIOwdUkYWgDIyYzBpAfhLH4a+kQyN9zperseabyQSNZGTKj8eNuo//1XXP5TxrK44+m5zdNHipv90WN6h7VdcXRE7f/68dC9EsXlYXWMh+twTxzdEsZmDhw7QZmsd1P7M3IxR35+X8vtB30WjE0VuBp6qNcDg+eevcJU+i1bBiZpI2mytlFfnD+pfrO4Lunu6iVb6SluvQ3HN+YhkTQyXL18mRLGZ0LqXALubGE/VGrp7uknRxRO57yVKqgoBcCpfhSI3g5bWZvsZPU0MG/Wfc+DgftK1P3L58mUUuRl4K9dSVJGPc8m7DAwM0G5rpd3WyraWJ9mu2UxLazPuuR+gzUtlfd4H7M1KlCKRbCu2h4iLMz9Lm60VJ+NyUqoW4N/4IpF1L+BVuZRtLU/SZmslqHoR6/M+YIvmawIVrjQ01rHD+hgF5blsynuf7RpvtO33oszdNeL4weD5cT1+KB3nz2T4jQnAlwW7CPxIGFkAfi8IQpcgCPcJgvA/BUHwFAShVxCE/75G+z8QBGHThHsvI/Mb53e7AijGS50KxBBXYyE6yP094hh27NChg5OuT9yOvR6m4v0fOnzoussMdRgs+hociqMxx9D+OW5r785KlT7rC1Wo8vdIsXvT9Xbff7X1w/0cjiWQY6+WP3jwAIePHKa6rnJQ/nRtIIVletL1SezOSiVOFcIObRzWtmayi7Vs18ayUf856fok3EpWEqvypK+vD1XeHlT59tB7NfVVHDx4gCCFOzGqQM6ePUtQwUrW537EHp2/9HzxuQnqCFxzPiZJHUCaNgiAreVv0NhsYrt6I2fPniVBvRV/5ffs1kcQZplPuj6J0NxVuJsWE1+7gHi1P9Hq/7BNHU68brXd2bMqgCDDR8SpAknT+JJmfYSt9YtIVPuRovHGv/FFdlofxr/xRan/Q8Pm1TbUjPouYfJ/FF+rfpheAXjrNhduT980qevWbWMKQJHnhJEFoE0QhH86fP8fgiAcFgThb2PUlSIIgkkQhHZBELKulpGRkXFgygWgh+q7KalnJh24nkqm6v3MdH7t4ze0/dcbbWSsMHLx6lDJqfL1cOHCBVpam+nv7x9U/sqVK4OeF68OHVTuwMH9nDx5kgsXLkj3xC1axz+EPFVrJIEqRudQXxVwjvXHqUKk9yOeu92u2YSTcTkuhe/hXGmPFuJU/RZZBYMdWYv1Hzi4n5wSPfsP9LL/QC9p+m1S/yKVfuw/0Is6f699VbD9dpyrVuJS8i7h5Ys5efIk+w/0ssW8kLTKBawr+hupugTCqxaxvnY5QQp3rK1NrDMuZf+BXpzq3iRNv41NptfYbn2cFF08rhVvEVz2BlkFGawr+htZtrvxMi3E0H43GdoNFNpul6z6p9rP59DxmUj9LdbmaROAt8Sv47a0zZO6bolfN1EB+H8EQbgiCMITQ/IaBEHwm8K+ysj87vjdrgBONaKbjPHirVp77UyjMFFDhuvhRoRXG3p+bSwnxNfzfoZui04FEzlbOFGu96iBaCwyFHHM2myt0ueR3NSUVhcNG990QxJ1pn3UNtSw05AM2MdHLC+GfHOuXIm+SE1+WTab1d8QpwoZVn9ZdSFblP/G3GRis/obnK6KTTFO8LqC96X6wd7/zepvSFA7U99QTaImipwSHTklegLz/spmzT9J1SXQ3tGGn9KF9Q1L2GGZyzZ1OM0tDWxRrSGvWIWto5VNptcorS4ip0TH0WNHyS7WcunSJTzy3gPAreF1wpWb8DQtwle/mnXGN3A2LiOt9REC9i1Cm5PEDutjpLU+wr56+xnKyZxRnSjX+vmbzhXAiQrAPzh9wP99bR7/97V5/J9XnpioALxZsAvAu4fkTRMEIXoK+yoj87tDFoC/M8aKVOB4xmmmkKpL+NU8f6zwc3DtKBFjpYvn0cRtXhgesq67p5vc0qxh287+Ctdh59n2ZKfT0FhPWU0JTtVvDzorqMrbg7ZAQYpuGw3mWul+Xlk25iaTVH9ZTQmavJ0MDAxgbWumu6ebdH0SLa3N7M1OY5c+En+Fq7Ty6Biezrl8Fbr8dGK1X5KRtYOiygICc/7GFtV/UObu4vTp05gsdcRqvyRYsZlUXQLRzU+ToI7AaN5HYuM8wizPkZWfypaqNyiqLMDD9Cq+qjUEKZ2JU/+HuOZ5JOg+Y4fxabbmv8P22mdZ37AET9UaUrVrSMtZJRmH+JhfRtl2P/HNT5OmDcLSNWfMsfqlmVYBGLee21I9JnXdErdeXgGUkZlhyAJQZlxMtRXjVOGt/GHSdTiXrZyClvxMhNJ30nWIhhyx2q/GzCf231GoRih9pS3eoWwwrJbqzynRD3IzMxQxDjDYXbk41S8f1j6AuLrnpec7GZdJ/XeqXy4ZaYhlneqXs0MbJ5X1ML2Kc/lKqby5yYSP+RV++uknnIzLUbQ9QH9/P9qscDYYVuPW8DoA21qexPlq/dtaniSl5XGc6pfjYXqNHdo4nMtX4WFahLdyLf39/TgZl+Fm+BSn+uX4Nr7MduvjeCm/p7z9ftYZ38DJuIwU62MAZOmcONJz0+gvfQYwnQJwTux6bk3xmNQ1J3bCAlAQRj4DeEQY+wygjIzMNZiQAFTn7wWg4Wooqd8zpdXFU1qf43+64+VGxMG9lrVigGLDlD9zJEqriwf1b7Ttz7FwPPsmMpa7FnF+TzeO7zRE4UmqLmHQqmxBqXZYuiM5pQbp/Yj9S9MnAvZVPbC/P0/1v6QymzXfDHq/vb3256nz90r1X7hwgdqGGjJzMyT/gCEKTyKVnqTpEwnJ3Iy1tYnjPx0HwK/xJU6fPi2Vj9X8G7CvAIYpPGm2NuFU9TbbtbF4af7JmTNnCNJ+cbWPGpqtTWTmZrDJ9BpRys0EKDagyttDZlYcjc0mmq1N7DQkEa36kXUF7xPU8BJx6rWkG5LwUq0lXPcpGYYktuW/iY/mK86cOcOWvPcwWYzsMiSwM/tdMnMzCG+aj1/OByS2PEG27S52tj5MkGUBadZHKLDec/0DOI38xgTgfwl2695XBLsA/O+r3/+/q+n/EQShU7C7fvlfgiBsEQShR7i2FbCMjMwYyCuA08h4fcyNhxtx7u1GU2eqvXamXxGxqqAJlx3PGUux/i3Kf0v3xPOCFy9epKnFfM06QhSbJX+AIz3TcRtZTE/ThnLx4kVyS3RSuqFIQ3tHG/WmWtINScNWGMtqSqgz1eKms7tHKSjPoaymhMqaIsA+94MUm3DTfU6QbjWVteVYWhrZplrPFuW/8TG/zO6sFBqv+gkUVyjD8ldSXJFN7/4e/BQuBFkWEKXcRFlNMZvV36Bqe4Atyn8TU7LE7vrF+ighZW+wwziPTWUrcCn9K1uU/ya+ZDG6gr3sNM1li2khm7RfkdDyBKrseLzMr5DQ/CThxcsJNL9Mke12orPfv+a7/SWZVgEYs55bd3hM6poTM6YA/ECwb/NevnqJn+c75HETBOGgIAinhOF+AGVkZCbADROAv3Yr0LHYpg77pZswo+jdf/2rckMZr+9E0dfdVBOvCr12piE4rpw5iitHq85gxejxZIsm6C5kmzpszJ/ZEydOsP9Ar7TqB7A3J11aCe3r65MimojtS9UlDHq3ouGGKm8PV65ckd5PWXWRlCdQ4U6wYhO7TY+zNyedRot9R8Cl4H2cylcNMvIRn++a87H0/GTTPFwK3md9wXv09fVRWlWApdkeji66cBmGggz2Zm8na9/jRCi8iDZ8TGl1Mc7lq2i2NuFRtEpqa1D1ItwN/yDMvIAMrTea9nsJrXqV3t5uYpqfRmEIw71kJQmWeehzE2mxWtjd+BgpWe+zvuENdrU+SEzhcgpsd5KoDsTd+DrKnB1jGio5ciOMpsZiOgXg7GhXbtnuOalrdrTrLxEJREZGZgzkFUCZ62J3VsqY6Y4H/SfKUD9oQ/2wjYep8vN4o6OtiGfkJoquUEWyNoYa48/h/WobakZ0Jr47O3XE8RsYGMBo+tn6t6A8F+fyVajy9kj9F+vfYFjNTilk3A+o8/dy7tw5aoxVpGqD2J2VQm19BbGqYFR5e8gpypTE5DZ1GLGqYDxU35GpdQcgQR1EisYXH8PHqHKS2WBYTazKExfjUrQFSqLU/yZBHUa8KpRDhw4SpnAjSR3E2bNnySnR21f9NL54qv9FiMKDFK3dp+EOjTeJ6mCi1N/hUrOCwKy/E1i+hMOHD+Fj+IQUjR/+BasIUf5AZNMzbG18iXiVK3taH2Rv64NEGBdcM6zgjWKm+QGUBaCMzG+TMQWg6MlfZuawRfWfKa9ztKgPN4KpioQwFPE/64mcEZwM11rFG8vx9alTp6R4uTB4W7+jq2NQpA4Ra1vzMKfOnV0d0uctqv9Iq1biz+8Gw2qOHjuKe/575JZm0d/fT0NjHadOnaKosoCTJ08SpvDCS/m9ND5uhtUEKzYPMhLZoLcbkBw9dpSo0iWcOnVK2pI+euwoLa3NWNuaURvCcS5fRbBiM4cOHZTaZ7IYKa3K4+ixo3R0dbA3O4miygKcKt8mVZfA+sL3OH/+PFsr37j6PtYSoV/N5cuXCVN4sbHoHcqqcqW6Tp06RZz6P0SVLsG5fBWNlnoKyvTEtzyFa8MSbB3tbKh6k47ONoIaF7Bx31KKKgvYq9tEsnUuQZYFJBo+IKZ0MZsaXiO2eR4ba5eSWj8Pc2Mtp06dGtNIRmQ8q39TLSanXQAme07qkgWgjMzM47pWAAMUG6f0l5jMzOHgoQPT+rypiKU7UVL1duOEoe5SRqPGWDXq+6moLRvWl84u27B8+kLVuJ7lGFausracGFXgiO/q0qVLHP/pONa25hG3xcUyx386Lq3emSxG3B2sih0NjsT2ie/fuXwVCWpnKf3goQOYLEZ8FE6sz/8AAGtrE5s0/wTAq3AV7tqv0BeqJCfVLqV/pbq2FKfaN/FROLE3Jx1DkZJwhQ8xho/ZrgknXu1ijzV86ADuDa/R2GzCr+htPFVryC3R45rzMeHm59lriKGqrgLXvL8TrvChqCIHt/K3cDe9RnreMvZqN+Jueo1NpldJ03igbr+PFG0Ye3SBpOcto7qunA361QQoNuBhepV068MoS18k3PAh4U3ziWt5isimZ1GYH6WyYzZ1nbcMeldTiTj/JsN0CsBZURuYk7RlUtesqA2yAJSRmWH8olvAEz0DNVHEqAW/ZQxFmkmVFy05ZxqlDmfPRCa73Tza/HPcTr0eRlp9FLdVhyIKra6erlHrK6osuGZ5kZHejyPiqqE4P5S5uzA3NWCyGAG7o+dt6nApXaw/SOGOIncX5dUFZF3drtYWKHEuX0W6IQmTxYhT+So2q78Z1P8whRcAmuxYLly4wB5DDHnFKo7/dJwktTthCi/SDUn26CHGpSQWLiFK6UmYwoumFjMhis1sMKwmROHB7uxUfHLfI9CygN3ZqcSqgvHa9zqBjS8Q3jSfIIU7G7I/wWQxst64hADtF3iZFxKev5K8EjU+5pcJ0H5OrPYroiteJSnrfYIbXiLYsoBU6yOkaL6ltLoI/8rX2WV9CG37vaRaH5fmh2KID8WZgCwAZWRkJot8BnCS+CicfukmTJgbaajjUvIuYLdWvR7c9J8RqfSb0DPNTQ0TKjfTEPvvrfxBOiMobtO76T8blHckt0Fi3osXLw5KN1vqh425+D1M4YXJYsTUWIdT7ZtcuHBhkNsZEeNV1099fX0Ulumk8RUNTNz0n+FU+6Zk1CPW71T7JnWmWurNdUQovHEpeZecEr3UPp/6V7ly5QoXL15kuzaWuOqXca5dQVjj8xw9dpREtStR+W9z4cIFAkwvXn0/a/E0LmZgYIBAywuYmxpQl7zILn0ER44cJsk6l/zivTgZl+FkXIbJYsTZuJS45qdYb1yKX8NCQkwvkGSdi6H9bnJtd6Jvu5ck61xcG5aQW5o1qG9TxVQcuZhWARi5gTmJWyZ1zYqUBaCMzExjkACMVgZM+heTjMz1sEMX/0s3YRAF5bnTXv+ZM2cwNtYNu79dGyu5cBmKoygZGuUjQR0hnc3boYuXjDCilQF093SjzNs9Yl3Bis2D/A5qC/aSUzJ4RVlMj9Z8Tb3Z3ubAq0dDunq6WJf/s/uUSKUXlbXlUuhCTX4m0Up/rG0tXLhwgZjs99HkZ+KvcMVfsYGMrB3syd6OPn8ngQp3InLfoXd/D3uz00jW+OJd9DZBlgVo8jPxVf6AJj+TWOUWElvmEqL9kszsJJI1kbjmfGQ/X2l5npjclcRr/sPushcIynmXDF0Ifo0vkdn2ZyKbniWocQHxmv/gZV7IeuMbhFnmk2O7i2zbXZLYvhF+NsXxGcs1kmipPRLTKwDdmJPoNalrVqSbLABlZGYYv+sVQDEw/Y3AR/njDat7LKY6cP1YDA1qP5SpcBR+vXVMtP/WttHPA3orfxgzHSC7RAdAdV0lML6Vz/HOP2/lD2SX6Ab1TTQ8GOv91BirqKkffTvbU7WGmvoqCivyBt1P0cUP8vMnGpOIdTmeOQxVbOH06dNkZO0A7O+/q6cLH+WPpGn9pRVMb+VaTpw4QYjCg1SNp7RCmF+ixlO1hmDFZgor8qTysdp/4lLyLju1PjhVvY1X0SrctV/iof2CHZotnDx5ErOljviWpwg1v4Cnag2NlnpCLM/T1dPFtpYnSVYHkFL4Bls035CqDSO4+E007feSWfYyMYYP2aP1Yo8hniLbbfiaX2ZX60MU2u6kqON2VG0Pjfh+3bVfjbltPx109XThnvYvWQDKyMhMit+1AHSMfyozc1mf9+G0PavZ2jTifcdVoLhrxPydCI6WpEPrd9y2FdvX398/rI7jPx2n2doklR9pfjv2r7Aij/7+ftaX/BVVTjIe6m8l4drf34+/wpX88hzp+RcvXpTOiK7P/Yj+/n7OnTvH+rwPCVN4YWlpxKXkXU6fPk101SvEa/7D4SOHOXLkMCdPnqRiXykXL15k11Wx6K9wJdj4EuvzPpDaX1pdTKrGV+pfaYWBw0cOk6qLpaSqkE2afxKy7xWOHD2Cc/lKPEpXENv0DEGWBWwyvcbGrE+IaZpHXM1LqHJ3EmJ5HueKlexsfZjwykWUVxehsDyKsu1++vv70eSmsqnhdeKqX6bYdpv9XKFlPrm2OwHIL88Z9Y+KsX5/9Pf3S324EfN3WlcAI9yYk+A1qWtWhCwAZWRmGr87ASiGshJparFMqJ60KbDk+7WRmZNx7UwzgKHbpkNdz1TWlhOnCpmSZ7XZWqXPovXreMm6Dh+AYnuPHD0yYrrRYaVKDE/YbG2izdZKnCqYOFUITsblJGvtPvySNfaQbNnFWrZrtgD2FUltXuqw9xd19UzigYP7pVjCAL4Fq/BXuHL+/HnSdBEcOLgfJ6M95q9P1RLpWWfPnqW8uoAYVSBHjh4htzSLc+fOEaT+Fp+CdwhTeJGhCydRE0lQ5WJyS7PYro0mr0RHbomGdM064tWhBFW8TljFYiL0HxNumU+UcivbNR4MDAzg2/gykeWvEaDYwFbt56jb7idS8w3B6n/hZFyOj/llIprmE2x5nqSWufhULSHd+gjp1keIbZpHeNOzJLc8Trr1EVKtj1LROYcWq4WmFsuU+ZScSqZVAIa7MWeb16SuWeGyAJSRmWn87gTgb52hTpOn2y+eyEbdF1NSz0z3RXmt9oVetYYVo3K0tluH5bG2NY9ofe0YZ1q0qv25TMuY292XL1/Gy8GHXaImCgBvxQ+A3Yijp7eHEydOEFXwJgCbcz5gg2E1LqXvDBq/y5cvD2uf+DvjxIkTnDx5kkRNFK7ZnwAQXrGI2oYaabXRNedjaXWyo9NGpj4Y54pVeCnXEqBww7lyJTEqfzo6bXjmvE+8yge3nA9xzf6EqKtuZvbovmCL6j/kFNtjBTdbm4jSfkVM89MYzftIUvtgKFKxoeF1XErfIdv0F9waXse35C2iLc/iVbkUt33LSS9/ASfjchJanqSgVMOOrHfZ2/pnQpU/4mJcSnLLXNJaHkXbfu91xfmebut5WQDKyMhMlhsmACd6Fmu0LTiZmYWH5ptJ1+Ho886Rkc7GiUJ2vPNDdG8yXQxt89D5r8nPpKW1mWZr04j9G+s8oMliRJOfOex+oGIjZTUlI/oJNFmM9Pf3D4s04qb/jIBsR0ONrdJn41WjDtH4IULpKzlC1uRnsOIduAAAIABJREFU4qdYh5/CBXX+Xtz0n2HraJfyRl2tx0/hYj9DWLGSCKUve7LT8KxecjVtHQBeZcsxWYxEKH0JaHyBpIaniVJuZYN+NTHaL0lSb6GippB6cx2hhk9wql1Bqi6BxIJluBiXkq4Lp8FsN57wVq5lc/3rBFQswWwxEmJ5niTtNzgZl5Gmi2Fb3gpq9hWhrJ7HmTNniG2ex3ZtJIq2B8gp0RNp+Ihk61xSrI/at4mb5tPSNYvKjtlsqlxOoMJdMtiYCYgrztMqAMM2Mifee1LXrLCNsgCUkZlhyCuAMtNCRW3ZdeUfK+TcaFun2gLFmHUma6PR5GcOcxcT5SCCphpzk0n67Ni+0fqXpImisracc+fOjejiZSi7s1OH3YtTBbM7K0V6hti/ZG00x44fY4NhNbuzUsgryyJUsYVdWTsorykZFtO5o6uDSJWrtIV+9NhRNPmZVNaWk6ZPJFETRZo+kfPnz1O5r5je/T1EKv1I0ycSpNgk1Z+mT6SxyS7InUvfIatYKz1/d3Yq3tWvE6rYwnbNFvxKl+OT/Xfi1c7klWUR0zQPXfs9xCg92JMVR0Duu2QVa0lUbyCsZCmuDUsIq3+RMIUXm0yvYW4yEWX4EOfyVexsfZhgy/Nk6lzZlr+cvW1/IUUbQ6j+H3ibXyHF+hibC/5Gge0+opufRqX9keimZ1AWLySu6Slimp+mo3O4U+/RGG/c4KGMNP+ilP5jlplOAXhz6EZmx3lP6ro5VBaAMjIzDVkAXiczaTVgLKbTGniqEQXHeN1vTHT++ilcRn2+S8H75JdlA0huVK5V/tSpU1haGtmhjRuxTgBLS+Oo7XEUiyKiL7qhiFa04gpfhmH7qPWuK3p/1DSRc+fOsUn7lTS/nctWSv0bGBggSe3Gxmr7+b50QxJ9fX14KdeSW5pFbMUizp8/L53/E9sXo/0SVd4enOqXc/78eTZpvxrkA+/MmTPs1n/I/gO9UtnN1UtxMi4ntta+VXvmzBlcjEtxqn6L6OaniWl+mnCFDy7GpZSU64nVfsm2lidJbHkCJ+NyvGqWsFcfyMaGxeQU7qKwVEnvfvtW9zrjG5TabidM4UFvbzfJDfPILUgns2YelR2z2Wx6FR/zy1R0zKGyYw75Zdnklmaxruj9QUcrxM+jzZ/pQBaAMjIyk0UWgDOUGyE0Oxxixk4X+4zV406PUPpO6lkjWcZeC/H5qbqpMepxPDeWqIni4EF7CLm8q2IS7G5Wxiovir59xmqSNFGDLHMdGRpnOLtYy8DAgCQK60z7pP6J9wYGBrB1tHPq1CkpzU+xjsZms9T2ofFvT58+TaImUiq/XRNGmGkBm0pWkqpLIK9ETU6JhtB9CwnIdKOjsw1v5Vp26oJJ0kSRV5ZNY7OZjq4OqR3KvN3klmiubuEuZn3eB8SpfyRV/wn+qu9QNjxKvPYLQrPfJ6huIWEKL7yVa8ku1rI3Jx1doYJUfQIbGxbb+5D7Hs7lq/DUfE1y2UJSrY8SmPUBW0wL8VKtIaZ5HsHFy/FvfJFolTO+6n+RpvEgKfdtBgYGSC17CXXbfWS0PkR2+12Utd/PRt3n7DNWc/HiRfZkp48+6NdA3PqeSqZVAIZsZHas96Sum0NkASgjM9P4zQnAX2Nf8h3EwZTVWZ4z4v2ympJJ1TtW+YkIsPEy1sqZSPk1+jZW+mhbfWMJ2KECzJGtinXUNtRQZ9qHn/LnlaKx3l9nV8eo83dPdtqg745/IIhh28IVPiOmg71/4QofOrs7pXuJmshBxiWO4ye23zFvf3+/1L6+vj4SNZFs1H3BxYsXyS3RkVuiJ0DhRoRqHRcuXJD6f/r0aWJUgfT39+OlXCtFANlUupJNJSvxVfzINvWPbDEtpKymhI5OGzH6T0nURJKs8ca56m3S9fGYLEaCFK6ka7bgZFxGfUM1ew0xeKnWENY0nx1lL+NkXE6g+jtCTS+wqXQl29XexOg+Zaf1YeJ1nxFf9ioZ5S+wzvgGwVl/Z4fGG23+HrTt9xJueY4dOe9QUPYCqrb7qW+wj32I+YVRx+yXYloFYLA7s2N8JnXdHOwuC0AZmRnGb04AzgRiVIGjpk3U7cyvHdFRsMhk5txQS+eporHZPOj7eFZhxSgaQ13NjBdxZTBFFz/IFyBAgYOIH1r/wMDAoPY5pjvOP1HUOZetHFT/lStX8FO4sFWxjp7eHvs5viHnNMXnuxS8L9VfVVchiTmx/WJ6RW0Z7pqv8G98kb6+PnwUTlK+8+fPU11XyUbdFzgbl0ph3y5cuIBz2UrOnz9PxL6XOXHiBDt0sfT397On7S9SWwLrF7Ih6x8kW+cSowqku6eTWO0XRGs/p7T2EbY2vkTEvpcpsN1Oui6EK1euEKf5GnXebpwrVuFTtxiP+sVU1VWwUxeMU/2beCnXEtH0LBsq3yLJ+gTZtrvQtd9LVecsUq2Poi9USeJ6vOM7XUcvZAEoIyMzWWQB+CtnMltTY+Eo2GaiH7Tp5lo++7KKtYN89F0rrOJI6UeOHuHosaOU15QMO/8oblEfPXZUsnB2XBUU23fg4P5hFtCO4+da9C4VtWX09fWRW5olbfdW7CuV8mQXazlz5gyJmkhpfoUpvDhy9AjbtbGEK3xI0cWTW5qFOncH58+fJ1njj3PJuzQ2m9imDgPsq7Y5JRqiGp4HYL3xDYKUTnibXyEjawepugS2FPwVF+NSQvQfc/ToESkmMUCI5mv81N/Zt38VP+CncOHYsaPkl6jJyNqBf+FbRDU9Q4J6HUnWJ3BtWIJrwxJUhnCCFZtJLn+FkLxVDAwMsEnzNSFlS4iqfoVUXQJxzU8RX7AMZdsDJFnnkmp9lNSWucRWvMKu1ocxd/2Jjk6b1P/riTM9kgX6VMepnlYr4CB35kT7TOqaFSQLQBmZmcZ1CUDHcFibNF9P2S+zoSsfE8Wxfb9mI4ihTEXw+KGMZHAwXc+fihBxIo5bqta2lhtyMH/TVV90U8X+A71SqLXxbpuLFrptttYRjUxEROHY19dHf38/ZTUlXL58GU1+Jta2FinfiRMnBm17b9fGcObMGbyUawcJ2QiF/VxmtHoNIZbnSS1cwv4DvVTVluNm+BSTpZ5Nmn+yf38Prjkf42b4lCNHj2BuMlFeUyL1r3d/D9a2FsKKlhOd9zabtV8RXfsikZqvuXz5MqbGejbkfER8y1NEqr7HuXwVlfuKcTN8SkNjPcnaGDxrXye08C3CqxbS19dHsnUuGVpXBgYGWFf4PkWlKrxrFxOgdCY9dwXuptdI08Wwo+EptpgX4t/4IrFFS4lRemHpugll2/2EWp6juraUJOsTFNruIKdwN9buP1HdOWtQODzRDc9oIQFHctMzlQytf1oFYKA7c6J8JnXNCpQFoIzMTENeAZzBhA5x/nujGCrwxAgOvyQ3QvSOF2Xe7lHTxBjPE22f6Ah66B8oIxmhiOL28uXLqPL24Kt0GpQ+2h85x44fw1371aB00RG1SHVdJV7KtQwMDFDbUMOx48ekc5bKvN2cOHGCnl57zNua+ioydCE0t5jRF6k5ePAAJ06cIFThRbjCm8uXLxOm8MJX6cT63I+IUm4lsnA5J06cYGBgAHfdlxw7fgxbRxtx2q85dvwYzuWrSFJvwFu5lsjG+bgU/w3XrE84e/YsO3Xh9PX10dxixkvzT5wrV7LFvJDw3HewNDdw8OABdrc+iDo3DdesT0gvWch27TdkFSrwML1KisaDqIIV7DbEkqJZg5dpIX6VS/DI/xvOxmVsVazHuXwVW0yLiDP8HXX7fTR0/ZHQxgVstz5Oc9ct9HTfhpdyLTv1cUTnvDvu8W3vaBt33skgC0AZGZnJIgvASTIe44TfO2n6xBF92o3mCHoiDA1fdi3G62IG7O0fT/qBg/tR5I4dLs9xdc1riLWtiOgzUXxn4hbuWNbDYl7R6vjMmTN4K9diaWkccQtfPEdZUKod1L89hkji1aEARCr92KmLxKl8FaXVxVKou4raMrZrY8nM2clOXSRp+kQilX7EVtlj9KbrY9mu2UyqNga/vPcA+/j4K1wxN5koqykhVhVMqHI9aRpvfOoXsbFhMdHKLQQ1LqCmtoQwhSc7tZ5syPqE0H2vkKz2JyJ3JUePHiE0529EK/3IK9ER3LjAbtmr/ZLo5qfxq1hKuMKHgPpXiFI54dqwhIGBAZLVbniXL2dD6SoS8lfg3/giSZp/s8P6GMnWueTZ7qCi4zbybXdR23kLxs57yS/VUFCqHfT7cbRQfCLXGv+xGCuU4NCfn2kVgAGbmBPpO6lrVsAmWQDKyMwwJi0AxYDovxb/eJPhtyL2rmespvOPA8eIFleuXBk1X6wqeMStU8fy6/M+dPj8wYj1iHPXkZ9++kn6PFbfjx0/NmqaI44W3uOdP7Gq4BGftVnzDT/99JM0fgXlufgrXIkpfV3Ke+nSJVJ08biU/JV4zb/JK1EDw8dctOgVtxZ3Z6VI7fOvtEfu8Fe4kl2sZX3+B0QqfXDN+oSffvqJWFUwV65cwVfhLLmeCVN4cenSJSLMz+Hf+CIA8eZn8VatIb7+OcIUXpKwjVT60d7Rhqb5QbKLtawrW4WzcSnlNUX2EG9KX9bnfYBzxSqCLc/jXPoOu/VRmC31RDY9Q6TSm/7+fvyUTsRrvqOjs52d2iDcsj6hoqaEY8eOYutoxZCfhqdpESdOnMDZuBQf8yuo2+8j2PI8x44dxcO0iLDaV0hoeZI06yPsbXsQZdsDJKqd6eudjZf6Xxw9dnTElVZxfopzaCzH5RPBcf6OxLQKQP9NzInwndQ1y18WgDIyMw15BVBmRjCeqBcjUVNfJVlqToZdV41eQhSe0j3RlY7oh09ElZMEIBk7wM+xdkWxUFxZMOJzHMVEusFeT5FDXseVTOMIZyWVubtoaW3GV+HENnUYCeqIQeXBbhBy8eJFKT27WEuiJopQxRZCFJ6DXMGIz9iVtYMI7edSeeeqlQAcOnyIosoCuns66ei0oczdxVbVv6WygTnvSwIQYItqDd7KtfgqnNiiX42b/jOcq97GNftjtqq/wdxkIkUXj4/5ZTbqvsDdtJisYi1bVGsYGBhgq/pbUloeI7sok5Ccd0lQR5BXvJfunk4yct8kRvcp6qxwXIxLAfDL/oDi8ixSNWsJtjxPSMkyopVeeFQvY0fNc+xpfZDcokz26gLx1/+DrY0vkmR9gt2tDxHQaHcHE9X0DDm2O0m1Pkps8zySWuZi6bqZRHUAhw4fkuZXR6dtwr40W1pHPjsosmuIlTyMHR5QFoAyMjKTRRaA12C7NvaXbsKoVNVVjJp2vSuyBeW5k20OMHlfgDcyLNtEGOkdTyTOcEF5Lhv0q0dNz7y6dTie/ovPF9sWoHADoKgiX0r3VTiTqttGVV3FIMMQbaFSqqfeXMf+A73SvWDFJqkO0b3Nbn2EVH+U0p+iinzJ32BNXRn7D/Tiq3CmobEeb/W3uBiXDvJHWFVXgVP5KnZpPejs7sRX/TWb894jqO4VNhlWk6j2wFfhTJjCi9LKXDzV/6LRUo8+P52coj1s03xNduFe0qyP4Kn+F+H7Xiai6VkSap8jQr2GFI07Fy5cYIf1Mbyr3sDX/DK+6u9IaHmSFM0mNG33Eaf9kiDNV3iaF7HZ9Cox+W+xbt9yvHSf4256jdyi3Wjb70XTdj+a9vso6bgVZdsDOBmXU1NXJr2LmcS0CsCtm5gT7jupa9ZWWQDKyMw0ZAH4KyRVPzVRK2DiK28jcS1XF2Nt68LovtaGzs+R+h+p9LtG64Y/f7Qwa5NF3Ir2VfxstJGuT6LOtA8YvqIopp8/f57GZjN7DSMb4Vy5cmWQ9bajMHHc/gYGWbCK9ZubGjh//jxhCi/6+vqG+VO8cuWKdO/w4UOAfX6cO3du0PtN1SfQ19eHr8KJrMK9uFSs5OLFi5gsRozmOraZn6Gvrw8P0yLJ0OTcuXOYmxqIzn+LZI29f5cvXyanRI9LybuEKbzYqP+cBnMtTrUrcKlfhq5Qhbb5AQYGBnCqXUGp7Xa21L1GlHIr586dQ1+o4ty5c6jb7sOp+i2cjctoMNeSrI3GpXwlecUqghte4ujRIyS2PIGzcRmWZhPOxmUoGx7F07SIms7ZbLc+Tpbtbhq7bmJv68OUdNyGvv1uUnX/AMCp3h6mbqPuixHH5ZdgWgWg3ybmhPlO6prlJwtAGZmZhiwAf+U4buf91hBXoxzZpg6f9naITozHSp8ojn103AYUV9FMFiOZOTsBUGQncfyn44PSRyJc4cP58+fZaUims7uTgJpXAftZwl2GGEqqCqXnKbPtYlpbYF8FTNf+7J+wq6eL0kr7yrBj/4MVmwhReJBTosdb/a10v7e3m/0HeoGfo5PsytrBwMAApdVFHDt+jKial9hjiCJYsZ6CUg1hue9gyLPHMY6sfoXQpufQFaro6+sjSrmV3boQgiwL2GR6jWPHj7HOuJQArd2ZtG/jS0QoNwKwo+Vxu5sajQ+RTc/gYlyKt/pbe+SPxseIbXqa8Kb5JDfPZaf1YQztd6NofRC/orcItTxHvu128m13oW19kIzWh6jqmI2TcTmd3Z2EKDzGMZKDmYpjCWMhC0AZGZnJMiME4NDVCxk7jn7bxoO4OjTVonA828m6QtV11Xm9fhpF69aRmMz8cXSA7Li6VmfaN8ggZLyMtgqaqts2bHyCFO6D0od+jlL6c/z4cTzV3w2rT1xNdMRkMXL69GnCFT7UmfYRpfQHIEb/Cam6bdTUV0l5PVX/IkrpT3axFk/1d3R2d2JpbsBd+yXRSn88Vf8C4Pjx41JbABqbjFL7rG0tHD9+nI26z0nWRNNma5X6X1NfRZDCXXJ47Vf8FprcNNxNi/FTuOBcvoo0bTj76iuJbpyPu/ZLnIzLSdN+TZzmW9bXLgMgOvtdSquLSdW44p71MWmtjxKu8JHq9zAtIirnXTxNi9DmpaLIzcCt4D0imp5lly6UmOanKarMZ5v2n0Q2PcOGvA/IaH2Igva7CLY8T6ImirT8pRR33Ept5yyy83ew2/oQsc3z2Nr4EruzUkZ8/2NxrZ+/sebyeJlWAei7mTmhfpO6ZvlulgWgjMwMY0YIwIkSotj8SzfhhtDX1zel9U2Vo+2JMFnrcEejjKkiURN5zfQ2W+uIad093aTo4qfET6Hj/B3qPsTRRc5I4+dm+JQDB/dz6tQp3PR258ueqjVS+kb95yM+00v5vXTeUFwJbLO1DppziZrIYeVz8ndIUUPE1ccDB/cTVLgCgAx9JJ6qNTjVrKCvr4+Gxnp2ZSUTpf+E6LyVtNtaKa7IJq55Htu10WxrmsfGhsW45nzI5cuXycpLobunm7jmp+zuZ+qfJFz/CSmlr5BhfIK+vj5KK7KIMc0nzDKf2JLX0ebEsbFhMW65fyda6cO2lieJa34K15wPMZlryMxKxNf8Mu4Ni4lvfhJV6Qvsan2IQMsC0lofZW/OW0Q2PcN64xsU2G4noPFF6jpvJq31Uco6bsXJuBxF7q4pdVc0Xq41v6ZTAM722cwtIX6Tumb7yAJQRmam8asWgGMxneHLfoltyWuRoI74pZswDMeVD3F89EXqQXl2Z6UCDIt24bh6db1cT+xg8fnjKe8oEkXfeeOhtqGGHdo49Pk7B9XvGNpNpLXdyrlz5wZZ+jpuxw61Lk3TJw6yQFbl72G7Npaa+ir2ZKdJPv92aOPIKVJI5RPUW4lVBUuWpzu0caRqfAeNj8liJE2fSJwqhEilXQQGFbxFujaYrerv2JOdxqFDBymuLMCp+i0AXLM/vuqHz5fQq2LeX/MtSerNJKgjCFOtZWv9IjxMrxKjCiStej5+mn+S3jiXVG0I/srv2Wl5HCfjcuKbnyRU6UZE07PEqgIJKHybEPUaAi0vEKf/iNiqV4hTBaBuu5+MxsfRtd9HutaffNs9xDU/RWLLE+xt/Qup1kfp6+vD0H4vQZYF1HbezJ62v1DRMRtF7ZOUdtyOTrcO94bXaGltlsbn0NVzkTMBWQDKyMhMlt+sAJSRkZH5rTKtAtB7M7cE+03qmu0tC0AZmZmGLABlZGRkfmXIAlBGRmayyAJQRkZG5leGLABlZGQmiywAZWRkZH5lTKcAnOO9mVuD/CZ1zZEFoIzMjEMWgDIyMjK/MqZVAHp5cGvg1kldc7w8ZAEoIzPDkAWgjIyMzK8MWQDKyMhMFlkAysjIyPzKmFYBuMWDWwO2Tuqas0UWgDIyM43fhQC8Hj9wvwUKynN/6SaMyO7s4T72ZgKSn7dDB0dMH+pTsbahZkL1j0WDqZqdhmTJD99Qiiry2WlIHnQvThVCvDp0UP2OPinF8G4AtcZKKfJIrCqYs2fPEqcKGVRfojrs6r8BpGkDSVAHoc7fS7I25ur9UAy58SSqA3AxLsU152MAopRbCdN9xjaVK4ePHCZQ8wUJ6jACClYRpwohoPFFPFVrCLE8R6J6Pe7aL3E2LiO8aDmZbX9mm+lZYnSfsmffPOKa5hHbPI8dGm/SrI+x0/ow0U1Pk6R2I0SxkRSNM8m5K0jVeBHT/DRhTc8R0PgCebY7iVM7o2h7AI3uR2o7b0Zd9jwxzU/jX7+QLNvdmLv+RMa+Z+wh4axz2d36IIW2O+jtuYl9nTeTZbubtu6bSc76OyUdt+KndMZP4cI2dTgZ+rhR58dYDPXTOFVMqwD09OBW/62TuuZ4ygJQRmamMSEBKMYmHQs3/acT/d0mM0Fu1H82I/FLj++63A/GnXeDYfWI98f7H7oYCeJaz2xpbcba9vMYiFFQHCN5nD9/Xvr5CR4hks3QuMIjxaEVy4vt6ezqGBStor+/X4okEaLwYINhNf6FbxGRtwqASKUf63I/IL9Ui62jnc4uGy6lf5X6KtZ76tQpvJVrsXW0s1Prhq2znZLKPLap/RkYGECZt5tTp07hXPcmkUo/vJTfY+tox7l8JevqlhGl/YoMQxIbqt4kQLGB3v09eKq/Q2GIwNxYi79qDVvU3xLX9AzxNS8SZXoO99wP2Vr5ButyP2BP61/YaUjGxbiUBHUA7g2LiWh6lt3Wx9hseg3/xhfx1nxDWcct7NJ9jab9XhIKl5HVfjcNjXWktz6Cv+YrVG33k2p9lJ2tD7OvczZNXbNYl/sB4Zb5dPfMorJjNhUds6npvI2qjlv4qfdPdHb/AT/zS/grXEcd75HGb7qQBaCMjMxk+c2vAMaoAiddx2TDmf2acAxiX1lbPuF6HMOSjcQ+Y/WI900WI6n6hAk/dzKYLMbryh+tDMBbufaasYjdtV9Jnx3fr2PawUOD48N6qtZIcXQd51+AYsOgfBW1ZdLzTRYjto52Oro6uHTpklQeYIc2clA9ly5dwl37FTGqQNy1X1FdZx9rUUheunSJytpyqX2pugTMlnoCFBtI1SfgXvnmoPo7uzqIMS7AqeptOro6KK4sIF0biiYngc26z3HLf4+QwhV4m1/Br+gtPNTfEZf9N/yrXsdTtYbQ8sWE5v4VS3MD21qeJLPtz1TWllNVV4Gn7nN26D5DnZuCR/67pFsfZm/+62wxL2SnLpgYw0fssD7G7tYHySxaSKjlOQorcinuuJ3C9nvQtd1LZccczF03s6PlMQpsd5Nnu4MQy/Psan2I4MYX6Or5A1Wds9nfczfVnbPp6r6L3brgQe96tPCAImIsZpHK2vJx//5J1V3fnJ9OAXiLhwe3bd06qesWD1kAysjMNH7zAlDGTlOLZVzpQ0OajSSKaozjC8tmbmoAIFThNa78jpw/f56unq7rLncj6entGXd6mMILc1ODFJbN8f0PfX+hCi9iVUH09PYMe/9dPV0EKdyl8r377c9wXCk8c+YMNcYqUnUJRGq+pbiyQNru3WlIllaqNuhXE6Rwl7biS6vypG3lMIUXx44fw9xkktqXbkgiKOddMrJ20NRiQZmzHbBvISc0Pk2aLoLd2ak473uTBHUEx44f4/hPxwHIMGwnPH8lAHHq7wnUfkZQ1WKUOdvZmvcuTjUrCGh8gdjmecSZnyFM4UWaxpttui8JtjxPTcddeJkWEpu/wr5dm53K1sYXCVK4E5b9PlrLg8So1qHQfk9j103sbn2QDOvDbG+ZS2bOKkKML7I5+2OKbHdQaLuN8IK3yLfdSYHtTgrKXsatYQnFHbfjV7yC7Pb7qe28mWLbfRTabudIzx853juLSN0/pPEZjZHmqPj+xLQzZ85cs/y1fj6HMq0CcLMHt/ltndR1y2ZZAMrIzDRkAfgLc/HixV+6CdfkwoUL15X/Witi4+XKlStcuXJl3PlFwQngUvLusDYNrctb+YP0OVzhc93tE8s7vh83/Wcj5hXfiTjeLiXvkl2sldIvX74stT9S6Tes/OXLl0cU42Kfho5RX18fAD4KJ+Lqn8dp3wrpfV66dAnn8lU4166QyocrfNhgWM2VK1fYY4jCuXwVTnVvAhDX+Awpung2GFaTXvQqAE77VuCt/IHsYi1O+1Zw6dIl6ky1ROetJMb8DBcuXMBQpGFrwytS+5zr38Rp3wp7/41Lcdq3grCm+SS2PEG4wgcn4zI2ZP2DRPUGilvvJLtYS1jTfJz2reDChQvsbn0IVcmLONcuR9N2Hx7GxRja7mNb/XNkND+KquXP5NruRN9+D63ts9iT9R7Odcvp751FScedRDU/g4dpEUnWJ0i1Poah7T4O9tzEduvjVHXO4lDPHOo7Z5HVfi+WrpvIs91BbrGS+JanRpkB1+ZG/XzLAlBGRmayTJsA/KUNE4yNdb/o838pdujip+1ZjluC18PQ+ZdfnjMVzRlEa7t10PfAqytkjjiu5oxH9G7Xxkqfh84vQ5FG+qwvUqPIzZDqt7a14Fy+alB+sby5yQQM3vYVV5CilQFo8jNR5u2W0nr396AvUtPabpVEn1jeS7kWgG3qH4hX+0tpMapAlLm7pO+a/Exa261EKwNYl/8+mvxMAMKg242zAAAgAElEQVQt8/FWrsVp3woKynPp6+ujp7eL/PIcDEUa9h/oZY8hEh/lj3iYFhFQ/CZJmihccz6ir6+PyPLX2NiwmOB9i4gtXoJrwxKCLc8TpvwRZ+NSYlXeBDYuILfpASKanmWr5mtSrI8RmvtX+vr6qO28GSfjcrTt9+JlWkRF430U2G4nrvkpqjtns6dwMar8JWTZ7iK1ZS6Ktj+T134vMc3zSGyZi7V7Dvntd9HcfgeFtjspsN2Osu0BSm13U995M01dN5PTfh/VnbPp6P4D+bZ7sHbfxMGeOVw8cDuB+n9QZ6olTvPdNeeCIzdi/jrS0Fg/vQJwkwe3+W6d1HXLJlkAysisEgShSBCEAUEQLguC8F9D0v8iCEKhIAinBEHoFQRhwwh1bBQEYb8gCCcFQSgQBOH+CdQhcl0CsKZ+fFt/Y1FdVzns3i+1CtbQWD/hso4H+0eitLpownVPBT7KHwd9z8jaMSzPeLdyR2Ii/RPPlw3dNiupKpQ+j2T0MBFGmlOOhhIipiHC7cSJE4O+i1a52SW6cT03ROEx5ta1v2K99LnGWDVsDvor1uOpWkNpdRFeyrWYLXWD+uJkXE52sZa+vr5B5ZM1Ppw4cUJq/8mTJwdtJxdW5EntC1f4SHWm6xMB+xk0T9UaNhhWE3D13F+CegMeWZ9QXp1Pd08nto52zE0mwkvfoLAij/Cm+bhrv2R93XJccz5Gk7eTnYZkrG3NbG95jG01LxKj/wenT5/Gq2gVGYYkInSfsrv1QZzLV3HkyGG2mBaSW6wkxfoo7lXLSLbOJb75KdYZ3yAw6yM2Za0mvP4lPEyL8G98iYzWhyi23cEW80LUbfeT2foIOe33UNpxB9rKp8m13UFm61/Ist1FW/cf0NU9Rmv3bNI036PJjmVn68MY2uxbvjnt95DV/mes3X+gt+cP9PT8icauP9HYdSulHbexq/VhAnLeZ7P62xF/fkaz2B6aZ6p+vzn+/p1OAXiruwe3+2yd1HWruywAZWReFuwi8CNhuAD834IgHBAEYbMgCP+/IAgPCILQIwjCtw55vhcEoUsQhPsEQfifgiB4CnaR99/XUYcjv5st4Kl0QTL0IP9Q0TAdjLQ1Kp6/ulE4/kfW398/4XriVMGsz/1o2H3H9g9Nj1UFjViXowsUsX27RvjPerxs1nwDwJGjR0Zs32j/mafqEvBQfyv1YaT346H+dtB3UZQ51t9sbRr0x4XjatJo/bty5Yr0fo7/dJw4VTD9/f34K1zp7++XtnLBLki2qcNYn/sh0dovpXa6VL4FQIvVQpwqmCtXrnDkyGGitf9knfENDh85jIf6Wy5evMgeQxQbKt7CU7WGc+fO4VLyLidPnmRj+Vs4GZdx5MhhnMtX4aVcyw7rY+jb7yZRHU6a9VFSrI+Ran4StekRtlsfJ936CLaOVva2/QUn43LSrQ+jMT/K4SOH0WS/g779HlKtj7FXt5WdrY+Q034X+bY7SLY+TkrWe+xqfYjCxnuJb36KtKbH2Wp+icy2P6Nvv5uc9rvItd3Fvs7ZlHfMQdvyAPm2e6jpvAVb9x8otN1OXeedVHbMprn7Jnp6bqKt+yYqOu7g4oHbycpPwfvqKqrj74841WDjEBj7nN+N+P0gC0AZmV8vzwnDBeAHgiAcGnLvG0EQWh2+2wRB+KfD9/8hCMJhQRD+dh11ODKtAnA8fzFfi5H+Y76ROJ7Tkpl+RrO8TLtqKazM2zVi+o0ktzRrXPmarU3D7h08aLf2jVOFkFOiH9T+zJwM6bNT9dvS5zhVMOXVBRw+cpjM3AxKq4vp6+ujvaNNMh6oqqsYsQ3J2hjOnj1LVV0FmTkZJGoiKa0uBuyiOkEdQarGl5xSA0eOHCZRE0myNoYzZ86QmZNBcOEK/OpeJVj3KQcO7sfS3EC9uY5d+jC8lT8QrvyRNM06krUxhCu8OXL0CF7mhTgblxFkWUCE5hu2qcNI1sYQZFlAeusjbFN5k976MOFN84kpWUKEYgvhlvmYu+YQbFlAZedskhqeJq7kdVRtD7K95XESW+aS3DKXms5biG2eh779XpJankDR9mfSWx5H2/YgGdp1ZLb9mVTrY9R3/omyjtsott2Bvv0eOrpnoWx7gL1tf2GT6TUqO+dQ0v4glq45KKyPY+76E0d6/8Tx3tnUd/yFE/tnkaL9Dm/lWnZaHiOn1DDqOIuC0HH8roXjdv1EmFYBuNGT2739J3XdutFTFoAyMlcZSQD6C4KgG5Lvqav5/rdg/8G5IgjCE0PyGARB8BtnHUOZMSuAN3r1Chjko+33irfih0HfJ2KhC8PP7Y0H8f0PHeuNui/GXcfQs3zjQfSJB9DRaRsz72jpQ30GWttahuU5e/bsNesX3//AwAA9vT2UVBVK7fNR/si5c+dG/FlQ5e2R2nf8p+ODnn/58mUOHTpIR6eNjk4bAeVvsFH3uSRArW3NuGZ/grWtmXPnzrG+bCWXL1/mxIkTZObsZGBggOM/HSda9xnnzp0j5eq50bDal0nTJ7BR9wWHDh2koMxAVrGWVF0cWUULKSpVk6L9FwktTxKr/jehTc8RXbKEMKUzLsalbK5eRrO1ib0tD+JXtQSP3PcJNb5ATPPTuOV8SIBiAydOnKCo7Q6imp4huvlpks3zSGx+giLbbSjb7se9YTHbrY9T0nEr6rYH6O6+g8qOu9jT+jCG9ntItT6Cp2kRLd03sbv1L5JFcJ2xkpauWYQ0Pk9W+13k2u4ko3Eu4ZYFtHX/ifKOObR2z+Zgzx+p67yZgz1/pLHrj/zUezOn9t9CR/cf2JsVS5o+Abeq5WOO6dD5KzrOhutb/Tt79uy4806rAHTz5HYv/0ldt7rJAlBGRmQkARgrCELqkHz3XM33R0EQbhbsAvDuIXnSBEGIHmcdQ7mmABzp3NRUs0nz9Q1/xkS4Vt8nsw16Izhz5gx+Cpcb+oxr+UIbiuM7FMWbOn/vL7JtPnSbLkLpOyzP0FW7vr4+aX46vt+R2u8oTk+cODFi/fCzYY6to51AhTsmi1FaHW+32esQrYZtHe00mGsBMJrrpPJDLa2PHDlMa7sVP4ULabo43A2fYutop/5qmZ7eHtbnfsTmvPcBiMn6kEDFRgDMlnoi1f+hpbUZp+q3OHLkMCaLkYp9pdg62onKfYewq38otNlaiVN54mZYjZdyLUZzLU7lq0jXRRDZsICk/OWsK3wPJ+MynIzL8TAtwqP6DfwbX8TDtIiElifY2vgShbbbSbE+SmnHnSRZnyC+bBHZBTvJLsggsfkJqmoK2NbyJOmtj+Brfpk0zUa2t8zF1PVH4lUeRDc/jdoQgqH9bvb33EKy2oM8212UdNxBQ9csAhtfIKv9XpStD2DrvomWrj/R03MbTV23kNN+L5ltD9LYdRNd3bMxd82iv/dmTu+fQ0/PTRzrvZnenpsoLVMRr3Ya5kh8JMMqR4Mgx/Ebi4p9pdLna7kYGoosAGVkfr3IK4A3iAMH9wPXDr/lmH49f3nLXB+iVasjZTUlI+ZN1kZLn8c6UwXDx9dQpBnRfcpY5JUN3srVFihI0kRJ3xubzYPSjx47Ctgd/O7OSgGgqPznrcFkbTSa/MxR+yf68EsZIiC8q18HwKXkr9K9seZv2lXDDbCfTRPnr7ZAgbnJhLmpgXCFN43NZkIVWzh//rwUIq6x2URWsZak2vnklOj5f+y9Z3BUV9rv2+9769S9561bp+qcL9cESSQTDDiADU7jnCM4jz2eeW0Ptmc89jgylgSIKIQAEUSSkIQCCiAQdO5WFspZLbVa6pyUSJZEFBLwux+a3rSEIhIYe/pXtau6e+291tprr5b+vZ71PM822Xf4F79PonwZCYpI9kg2oW2opauri0jJFjLyFUgy4khVRQOwX76WPQ2P097ejjQznh2yb9mhe5Kg9M/ZK/+WVOUeIqVrANgo+w5/zWJSlbtYI/8H4bonSZGvI0oSzEHlTvKLleyT+ZNrmUpM4yNESTaRpH+QxIwPiG58hDjl56QZ7yXLMg29YwrF1imUWOdy1DSXUO3zFFsnIc5/if2GhzA7xpNlWkiyPBijw48a21SKrZORm+YiUX6LwTGOQ1WPU1E3l1LrFPKsU9Dap1Jrn0ipdTIWx13U2SdhcEyl3ObH+WY/0s0zsdosbNc9JYxvf89nNHtOPfGsfyhupwCcEhTMtPVhozqmBHkFoBcvbvoTgH8W3bh/75+iofcAnhCJRB+OoA5P/pdIJOKrr77iu+++47vvvkOlUo3JHzMvv32G473oKdTcpswD6vgRtTPUaqD7B8oaxVe9smqMhK6uLkGMjjY3tPv+PFdbU9X7+z23p6eHZcc+7vWZO4hzTlEGmyXLAJcTSZ1Ow5UrV3qF07lw4QKdnZ1ESMK4cuUK586dI1ER3au+ZaWu/YLucXT3z7/c5djhbt8lDuuIk0cQVfKSEN5k2bGPSVXvJ0i9hPLqUpKUMewtfgl5zlEilV/S2dmJf/k7ROS+S0DJexxQx7OsZhGZBSrCNc8JbftXvcWZM2fYonsGZ5MTRc5R1LmpNDU7OaTcgbahDrV5JoGaN5GZ7yHTMp1Y/UL26R8mWvsHiq1+7NM/TIJ8N7mWqSQaHiQz9wBJhgdJMCygzOZO2+ZHQNF7tDonUmf3oanZSY3Nl1r7BDIs0ymz+VFt88XhvAutfTw2xzjsjvEYHRNYVb6YPMsULI67kJjmUG+fSLnNB43dterX3uRHW5MPZ5p8OGx8AFlOGkrzTGH8YPBwR57bDTwZaH70nRODoVKphL/TX3311e0TgCuCmRYcNqpjygqvAPTi5T9FLu/dF0QuAfhf197/h8i1QtcsEonWiESi/0ckEs0ViUQOUW8P3h9FIpFN5Ar98j9FItF6kcvL19MLeKg6PBmTFcDsooxRXe9l7Blp8ObhMparxf3l4r2ZgMxDociVDOu8/kz68fKIG7y+h9oa4C73vL+0jAMUlucL45ddlN4rHV6yMlZwzsgqTCdMvFwo3yR2icSt4lV0dnaSIneZY6vrKomXRwjlcH38uru7iZNHkJGvEMp3SzaSka9wreplHyYjX0GqMpxNkgD2SreyU/UZheX5bJAsJbh0EZWacnbJv6Gnp4f6Ri3Bua4Vyox8BZHKL6nUlOOvWcwmSQBh9c+SqIhmp+ozQrQvEiL9gVXKL9kpDiGg7F021T/H7oY/EFv8AnsbHicrNwmleRZb6p8h03I3++U/El7xIiklz6A0zyLdNItdDU+gNM8i3rCAFP18ci2ziNMvpNLmS45lGtnHXkRrH8967YuUWidRZJ1CimEeEQ2Pc6JpCgaHD81OH+yOCRw0zKPSNonohkexOsZRaZtKq9MXqWkuFTZfTjVNweGcyOkmHy40T+JK6zSqbPewUfs8CfqHej3fI5kHBn3+t4PbugLoFYBevIwJfxG5zLhXrh3u109cK58jcsUJPC9yhXNZ3k8dK0UiUavIFecvV3RjHMDh1OHmd2cCvhMYzGNwLKmqrRjzOt1z4WbzH3vOpf4E3lBkFvRega6uqxRe2+zWm+rTQNfHyfcMec1AOYuHg+fz0enrAZf5Oy3DJSB2yb+muq6S8+fPk1d0Pc6g1Wbh3LlzxMn3ECePYJMkEJ2+nswCFZ2dnb0cTbZIvydK/o0Q2HqXeAMA0pw0qmor2CkOQZUnxV9z3ZFBlpXIutLFtLW13vCMEuSraDDo2CxeRmD+RxxUbie3UEGyMpZ9sqWsLVvEXulW1tW8RmaBiq0Zfya88kX0+joCit8nSbmPJGUM6ypcjigxjQ+zQfo9IZKlqMwziS9+kTj5UjZVvkJw3UuEal+gzOZHg92XY5Z72J/xIWvrXiGzQMV+w0MkG+ZTZJ1CvX0caSVPUmSdQpZlBum5qZxt9kNimkORdRIJha9TaJ1MjP4Rym1TsTgm0mifgMp8D2eaJ1Flm0G+ZTbZlntpdEyk3u7LMetUxIYFnGoaz6WWybQ5Z9LmnMDFlimcb/aj1TmRdXUvsVzzxoiee4Nh+GndPOf3SLitAnB5MHevCxvVMWW5VwB68XKnMWIBeObMmWGb0G5WRNwp5N7iiP5jRWDux0OfxNilaOsPTxNWf/NjoD19mz1Wr4bi8uXLI86ZOhh9HWb67vlz09HR0W8gYHD1v+/4u/PreprQ+97/spyPOXfunHD/O8Uh1Ddqhftzfyf7jk9kxp967Vl1r/QGFL3HasVXNOh1hIvXsSzH1afsogwCSt4XnDjg+h7Enp4eYuTfAxBa9jp1Og1rSxdxUJ3gih94TTR2dnbS0dHBqrLFBGV8RpIyhuUl79DT08N66Q80NTno6OigsqYYbUMdhxrms7fyGXbUP0WK+i/EGxaSotxHYNVi1pYuIkG+G3HtfNLNMwjUvMmyvI/ZUP0yB4+9TJrxXvIsU8iwTGeD9gXExrmsqn0VtXkGioJn2Fb/HBU2H5SmWRwxzSXJMJ8Sqx8K8yyKrJMos/mS3ngfGZbpWB3jMTvuwuAYR7l1BnLzLDqbfMmyzKDM5kOq8X621T9Nhc2HRsc4mp0uIXipZQoO513UWu9ls3jZqJ29boWz2G0VgMuCuXtt2KiOKcu8AtCLlzsN7wrgb5i90q23pZ1ISVg/n20ZMuRJX5pbmkbc9kjbcDMSJ6CR4A7H0tXVRVZh+qD9c5f1dTIqvuYk4l4VHIwNkqXsFIeQfi0epTQ7jSRlDLvEociyeu8r88wVnKyMFV77F79PsjKWCNmPgiNLkjKGEMlSQrXPC0JvmeYNpNlpFFcUcOHCBUGUdnZ2kqbey1bdM+xXRLFT9g0XLlwgVR5IlOLvpKr3EydbhSznCClVf2Bz/bNcuHCBbflvEyNdw4by19gq/Z6DxgfYLwtiW/3TpBjnEatfyPq6FwnUvMlu3RMkK//OQeMD7JF9TUzDIyjNs8i1TEdtnkGmaQ6HjfcRU/EsCtNsVOaZZJpnoLNPxuiYwCHDPMpsfuwoe5mj6r9QbJ2E0TEelXkmctNsjI4JOJyTOKL8giLrVHT28UjS/0SFbToVNl9+afLhXLMf3S1TkBrv5UrrNOpsU0lVRZOofxBwea/3JbsoQ9jf11/5rcIrAL148TJaxkQADrTxeTB+jTAgv3f6i003HPqmtevrZLBG/o8Br90tvjHUSaIietDVRmlO2gh7eJ3hxnIcan6VVhULuXLdrMj89Kb7NRTynKPCKmB/99/U7BTKExXRaBvqBAF59uxZIT9vX6y2gfcjllbm92rfaNZT31BHc0uTMD5FFQWskf+DQ6pdGM16MgtUHFDuYo38a2rrawgtex3/qrdobnayN+ddFLlHaWlp4vLly9TpqllX9xIq0yx26Z7AYGpkQ+afWV77BqvVfyWp5jFC896npKqIiOKXybFM41DeK4TVP8ueqmdJNd7PHvnX7Gt4FLn5HkJyPkJlnslhxQqOGO8nzXgfOxueJM14L/saH3blAT72JvX2cRwxzkes3kWZzYcQ7YvkWKaRa5lGvH4BFdZp1Nl9MDnGYXD4IDXdh9Qwn+NNkzjXPJlmpy/nmydRZJ2M2XE37U0TOds8hUrbFC61TOZMsy+XW6eSaZ7D1vy3Kasq7Hd8f80wULdVAAYGc/easFEdUwK9AtCLlzsN7wrgGHAzAnisuFU5hwfytg2V/Nwr0O3toG9sPkn24TGtf6i8zp6YraZBy/vmYB7qeofTwWrl35Fmp2G2mjCaDZw6fUoo88S9YijJPizk/fU8Z6PEn4S815FkH0ZvbBTKVim/FMpDJT9z6vQp2tvbiZcFsUGylBXpnwEQpFpCgGaRcE2DXssRdSSdnZ20trVQp9MQKvmZJEUEV65cYZP0BzLyFazK/ITN4uWIi58i45iE1bWvkGB4iBRVLCkZH7Aq41O2iJcRWfsUWYVPU2SdRJj2OSKrn2FN3Ss06LUcVKwlWf3fNOq1bNS+QLp5Brt0T1Bs9aPePo6oxkfZWv8MW+ufJc8ylTKbK7NHtfUedPYJbCl7lQb7OGIaniTPMo3qmiKczglkmqezs/4F9PZJnG+eTItzPAbHRKpsfrQ5x1Fhm8allsk4nHdxqWUKZ5qncb7ZtQewvcmPI5kHWJHx2aDPtD/0xlsbdP52CsCpAcFMXx02qmNqgFcAevFyp+EVgHcgA8WRG4y+zhOeDCfExFCUVhXfEL9uINzBh/ujv7iAMHj/ATT11cNu/2bQ1N/Y57HYb+gWbf3d39HMg8LrzAIVScoYWltbej3/WNlu4bU7xmVJVZEQeNiz3mTFXk6cPEGSMoYo6XasNpPQ/j7ZTtLUEcTLIyi/tqJlsZrZJfsG/+L3iZKuxV+zmEhJKKGKv5Og2MvRzIMkyUPZL18r9C8y521KK44hy4ikQa9jU/af6OzsJLNARZw8gvrGOsJVf8Vfs5jgupeIUX5BimIbh5SbSTHMY6tkOTtVnxFa/SoJjQuJLXiVNON9+GsWU2KdRLJ+IQcM81iueYM8yzQS9Q8S1/gwJdZJZFtmkm2Zjsx4P+nmmRwwzmO3NIAG+90cs0xDZZ7FQfkKbI5piE1zsDsnkG2Zht4xDrNjCheap1Bm8yXbMo0TzvGkGeZzvnkqvzT50OYcx8Vr3r/uo805DgCZeluv8e/LQHmqR4PnFoX+vr9eAejFi5fRMiIBONr8lb8Ffvnll1vexlBBju9U1sq/GfM6x/LHx2Cmanfg5r7kDBLCyN0394pcXwYTrZ7mwYHM0WHiFcLrvnPi6tWr5BZnAbA8+y/A9fF3O1flFmdx6dKlXv1rNDSQpIzh6tWrgCtki2f77qwmp06fIkbuWsGLanxU2Bt4+fJlUtMTuXr1KpkFKuHz3RJXeJmTp06Smp7IvuonyS3OYl3dS+ytfppkZSwBxe9TWlXMpspX2Fv1DLnFWWyUfcfewleJaXyE+Oon2KR9jkLrZFZpXkeRJyFC+SVi0xxSjfejNs0kuvFRlOaZqEsfJdX4ABHKL7HZzORappJpuZtkw3z2N7piAh413YvGPoF0y3Q0tlnU23042TQBo2Mix52uUC+XWlyir8npR2ezH83OcWSaZ3DCOY4Kmw/ZOYk4nXdxuWUq7U2TON/sOu9K6zQutUxBnn0Aqfb+fp+fe2wGY7Re9XD9+fetV+QVgF68eBkF/7YrgPmluSM6/1abdIZirLIN3GrCxcEDlpVVl4y6/tKq4gHLPOfxSJ+vJwM967LqEqz9hKIJFfsD/TustB1vG3H7NodNeO0ZVLusuoQw8QrBIcSNO05hZ2enIPY8f6y5y0Ol36JtqGNF7etsFPuzT7aTbddE86H0RHaI17M85y8cTk8ioOw9jhVnsEMcTE9PD8nKWKIaH6W0qhhlZiwZ+Qp2ZP6RuvoqQqTfY3faWZ79FzZpnyNS/nd26J4EIDNfwc7qF0iUhxDbuJBdDU9wxHgvYtMcDqv/jNQ0G3WelCjpchIy32Nz/XNU2yaSUL+Q6MZHkFc9jNx8D3saHie68RFONE2k2DoTlXkG+xsXUmqdQZnNl2qbD4eMD1Br96XWNo0My3TOt0ymwT6OC82TSDfP5rhzAmbHRLT28eRapnG+2Q+bw5fz1wSf++hpmcqV1mm0N/lQVVPCeu2LNzyjjWL/XiGC7E77DeVjjef357YKQP9gpq8KG9Ux1d8rAL14udP4txWAY417tea3zLGSnF+l3VuxIprRRyR54vaWTVbuG7Ke4YjWkfQ/QrKZ9dIf+r3eLfzqdBq6u7vZKA6goroI6D2/lmd9wpajK3uZJGNlu9koDmC/fB11Og0x8h9Q5YmpqbsxVqRWV8OWoysFU313dzdJ8h3A9X2H3d3dlFWXUF1bybaa59mt/JKjGQkcTk8SVk3dY7NPtpTdUn/XHsKi9wjP+iOqnAPsyPyQSMl61le+RlDt60gy32Vt6SL25r9BgmEBe7PeJc88gwTDAg4b7yNO/zApxnnsangCeVYSuZVPkJL9NuG6p5Ca5qIwzaLYOpkq2yR2NDxJqdUPrX06pVZfCq0zyTTPpcI2CZVxAY2OcZTZpmJzjMfk8CPd9ACtzokcb5pIlc2Hk00T6WqZTEfzJLpbptLdMoUrrdPobplCm9MlCB3OiYRqnydE+yJHs1KH/YxHQt8cwsPFKwC9ePEyWn43AvBWxrj7NRiOuX242T7c+4m0DbWDnrdK+bdh1TcQA+01dKckczNQirnhtu/5rDdJAobZu/4Zau/hUGySBNzw/YmQbKa9vX3I55NV6MpF3NnZKYyJf/k7N8zl4Xw/heur32JLzQt0dXWxQfIvwSnFnSfZv+JtwDW/0vMVbNa8KMyPiLqn8C93xfcLzP+IDZKlgqd0T08PK9OXsErlciiJKnue7u5uuru7CdS8yQ5xMPUNGvw1iwjQLOL48Tb8NYvILZQTq1/I4Wv7/AI0i1w5kxvnEqdfyOb6Z/HXLKLQOplY/UKqrT5sqn+O48fbSDLM56DxAVbWvsYB+c+kGeZRYfMhuuFREgwLOGadyjHLFBoc4zA57kJimo/DMZFTTeO50DyJUutU8o0z6GjyRWefRFfLZBodLnNvlc0X+zXT7+VrK37nmv1ob5oovK+xTaerq4sK4xQOqOJ7fX/c38+bmT/JKleIHs9VwgOqkaVPvJ0CcNrPwcxYGTaqY9rPXgHoxcudxu9GAP5W+bVW3dx4mhtHgmd6NE9nhv5wZ6cYa9xmt6HaByivLu313t3/gcb/aFaqUOauX31MPmQ7qmOyAcucTc5e7939d8cJPHX6FKpjMmKk6ziUnojdae8V28/Z5BRiKZ4/f76XIKmsKe61F3CXOFTovyQjjsLyY0L7BWV5XLp0iYPqBGwOGwfVCfhrFnPq9CmaW5pQ5knZJQ7F7rSTII9kqziIQ+mJ1Ok0wlaE8+fPk6DYi81h43B6IrtkP+CvWcx28Rp26p7gaMY+onPfYpvuafbJlpKsjCUtY2AyXUoAACAASURBVD9xlU8hNc0mSvMk23VPkSxfR7juSfbrH0RimkNExXOozLNIU0fgr1lMvH4hKvMcUjL/SKrqUypsk6m3TyKm4VEO6BcgMc1FbZ5FrP5hbI4JaO2TqbVPJMGwAJtjMp1NPpxp9uVk01R6WqbS7ByHxubHqabxnG/243yzH5dbptJzbQXQ8+humUKq8X7i9QuGfO6eDBRQfDjzx5PB/jbcdgEYFDaqwysAvXi58+glALeIg0b0B2o4nD59etSrc0OlPBvrjCN9TYO/1uqiO66f+/7H+vkMtp8uWPrdmLQRKdlCsOxb4EYP4IHiFg5mmvUUPSO5vrW1pddrz/tzzx+Txdir/tKqYk6fPt1r/oUdXUGycp+w1264sRfdfRoqTAxcF+UR/QTg7g/3/NwiDsJiNWFz2Dhz5ozQN/+qt8g8dj2OYGtbi7CCdfr0aYJl39La2kJA6XuCMK6oKaOipkyo3+awce7cOcKOriBRFkRBWR6//PILp0+fprA8n2TlPkLF/lTUlBGqfZ696k+I0y9kn/5h1qq+YJvkJzZWvsLOhidYr32JMpsfAUUfkFDwMmvqXiFSEkyx1Y8kw4MkGx7koPEB8kqeR22+hwzdfZRbJ1NgnUqD4y7kpjkozTOpsflhd/qQYphPdONjqM0zyLBMp9U5AYnpXlqdvhgdPlxsmYzWNp3ulilcbplKhXUGXS2TOdvsy5XWacKKX39HTNUzBGjeFMbXHcbHPX9KKvuPEXir8QpAL168jJZeAvBmsyOMll8zjp4nfeOu3clYrGbCxWvHtM6uri7BjOs29Y2UEMlPwPDMloMJ94Di93u99zSJnzh5oldZ3/nTX47fEydPoDc23mCm7tsHd//7wz0/+ra/UvX5DW2579/t6XtAsbVXHX3L3SZa6H2vrW0twrlu5xTP/WitbS2sVH1OQPH7BKmXcOnSJY5mpWKyGAkXrxX2QrrDyTicDo5mpdLe3k5BWR7nzp3j7NmzJCtj6erqwmDSEy8LZXXJW0QovhKu3yv7F3Bd8NbW11y/f/US9kg2cawkg2U5HxNS+gYHi59lvfxrotSfIMt/juiK58gtziIt4wMSK5+g1DqJlbWvEadfQG19NTskAeQVSgnRvki8YSF5pmkcNc1Fdk3sRTY8RprxPtTmWRRbJ1Fvn4As8y2SDA8iNc0hXr+A/JI/cMh4PxeaJ1Fm86OnZSrHm6ZQZL2bjmZfzl0TfM5re/wEAdjavwDsbPZhV8MTJBgWcOLkCYKl3wv3fLusJq1tLf1+flsF4L+CmbEibFTHtH95BaAXL3cat8wE3Df91Vhx/MTxMa9zn2zXmNf5azPW419dO3TS+rSMlDFtczA8s5XsV0QJq1Uwcg/gvhvxB1pxHu4+rb7mZvf88vQIdvffaDbcUH/f62Nlu6murRTK3U4Y0uy0XiZnVVYcbW2tVNVWcPHiRUwWo5B1JEa2g73SrcTKdlNeXUqiIppQsT9Z+WKipNvYK93KPtkudojXszH9MwI1bxIr243RbCBKuo3sonRaW1toa2tlU/1zBBS/T7R0O4eVW9gn20Vo+qe0trVw/MRxIjM+IqDiHQymRg4XuFLNJcmXo9XVEJnzNlt0z7BHEspe+TckG+YT3fgIOZa7CSt6kwPyAI6Y7iXXMhWF+R5yzbOwWSaxN/MDlKbZZFpmcMgwjzTTvRRYp1BincoRxTKilF8gNc3G7JhEm9MXuWEBJ5rGU2f3ocbmEnxdLZO53DKVc82+dF3L+ev+vD8BeKF5EonKL0gwXDcBp6jiej0bz+fnycWLF4edteZmuJ0C8O6lwcxcHjaq4+6lXgHoxcudxr/9HsC8kuxfuwv/NniuoAyXreLVQ55z5swZ0jIOALBO+u2I2xiIvvH/Rvvjo69TiLt+f4/Vzr2q6+noPPeAubOVrJN+e0MKMrc5uru7m8C8PxEj2yGsFm7wSHfn3k/ovv7U6VPC/D979ixBqiXCPa4oeYctR1dy8eJFlte8SUDZeyyvWsyKjE9pbmkSVmi31TxPlnk6AcXvsbP0ZQLz/kRA8ftE5i0iseoJdjY8icHYwLLid1kr+ycra1+jpaUJsWkOSvMsgvPfJd6wgCOKUFKM8zhqmkt04yPsb1xAtc2PbbqnOWKcy9b6pwmvf5p08wwkpjl0NPmQaZlJhc0HnX0cBsd4ym0+lNnupsA6mTKbDxeaJ6GzT6anZQqtznEDCr3BjqjKZ8mqnE+0NJwGve6W/AAdiv7iSHoF4KDME4lEBSKRKFckEuWLRKIFt6FNL15+c/ymBGB13Y2rUH3NcWNJ3z1rQ6UBu51skC4d+iQPTBbjLerJ4PugoqXhA5ZpG+oGLb/ZNkeD1WYZ1JGjL9HScGEPnnt+9nX2GGgPaWH5MU6cPMHly5d7xfaLlGyhp6eHKOl24TN3PMCzZ88K9UdJtwvjZ772fN1C0TO9nfv77f5srewbzp49S3l1KfWNWvyL3ydSspoo2fV9keslP1Bcniec727fHZTY7RWcka9gp/Yp0vMVrFJ+ya7Mj0hRRhNQ+h6x+odJUmxhp/Yp9jY+ytGMBMJ1TxEvW0acfiHbsj5kf96bJBvmk2GeyeH0RCIyPyRc9yR7Gv7AEeUm9me9R3j9U+RapmGwT0VunkWFzZcDxnnU2CfQYJ/K6aYpRDQ8TophPgrzfSjNszA5xnGmeRLdLVPoaL7RwWO4R6LhQeTme4YxE/rnZuf3UN/v2yoAfwpm5rKwUR13/3RbBeD/JxKJ/t9rr2eLRKLS29CmFy+/OW4QgH3/ed1qBksb9u+MIlcsvL4TMocc62NWDRev7bUP7GZoar4+1/qayzy9jMFl7uwvS8sR9cjzEg8U6Dl7kKwgfctlmUMH5va8P7cJfbDvl6fHr3uvYo22mu7ubsLEK/q9/xptNdvFa5Fmu0y9nmnJiioKKKoo6FX+yy+/ECZegSJXLJSDa3wdTgfahjo2yb8hWvYjsbLVSLIOCfPvaHoMqeo4YmW78dcspqnZSVaBHGX2foLVSwBYWfsaScoY0jIOsD79E2q1VXR3dxMr2836Y++xUfo9sfqFrNe+REj6JyQaHkKSEUt04yNszn+LFMN8NmqfR2meyb7Gh1GaZyI1zWFXwxNENz7C6rw/orVP4qhpLnmWKeRa7sbkuAuzYzKHjPfjdN4l7PXraplMq9NHCOzc3Y+n71BHvH4hisyYAc25ycrYQeeA+/kMl+GmlbudAnD6j8HMCgwb1TH9x1/NBDxdJBIV3eY2vXj5TfCbWgEcazzNY3cyY/V8PAXGSBlO0OSxZKA4iEHXhMZQBBR9cMNn7vsfbk5hz1WYof7RA6xUfz7s/nnS2dl5Q6ic9vZ2MvKVQrm7foAE+WphfPxrFve6brBYjyvVnxOZ845Qf26hKyxJQNF7AERmvwtcH58NkqXkFLhWQ3eKQ4S2dolDe9Xb0dFBdMOj+NcsJk6/0NUvzSLW1b5MToGMffpH8K9ZTG19DWnGe0lURBNT9TQhkqVITHOQ1j1AnH4hK2tfQ9dQg79mESVWX9TmGZRa/fCvWcwh4/0cMM4jzXgvRdbJ1NomcNR4LxLTHI47x5NruZvLLVPJtUwjJ2MHJ53jaHGOo8Mjv++ZJp8RC0GJaQ4JfcLA9L3/XwOvABwW/0MkEqWLRKKXb2ObXrz8ZrgpASjLOXKL/qz99hmLFVRPhwvNKFfZ+jLSwLWF5flj2r4bd8o496b6Y6U5g57vuYI1HIeU4bbvZqhQQ6Otf6c45IZzCsuPuc49urZX+557/9zj4y7/5ZdfhO9fZoGKFFWcMDae3sEBxe8L9Xd2diLNTkOr0xAl3U51bSWXLl1in2wNKcpIANS5rmtDpEuJle0mLSOFwvJjgtfyQVUMuYUKjmalsqr2Vdrb2wmR/wNNfQ2dnZ3ojY0czUplee0bhMn/waVLl1hZ+yr7FVEEaBYRLv2ZlbkfsaVgMeHKL0lVfsmW+mfY1/gwG7XPE5//KsEli0kpexqpaTbi+nn4axazuf5ZamzT2KZ7mhzL3RxVbiLXMo1cy1RS8l6nyjaFDPM91Nkn43SO40rrNGyOCVzwEH43u/p3pXUapTY/ttW84BrvQnW/z3qggN99fzSc/uV0v+e5GUkUgtsqAH8IZlZA2KiO6T8MKgDfF4lEx0QiUadIJLoiEon+s59zVolEomaRSHRW5NrbN9uj7EuRSJQjEomOeHz2nyKR6IBIJPp0dEPgxcvvl9uyAjhYvLnhMtwgqmMdE/BOpq+TwnDxNE32paau6oa9juslPwxw9thSXVc1aLlnv9yZL3T6+l7n9Oc00rf//e3xG2mQ3uHgac6Ll0f0u4c0SrpdmLPbxGv67d96yQ+slX0DXJ/fPT09pF4LyhxY5lq5c+/xcz9fnb6ek6dOslb2jdB2UUUBG/NcDhwr0j+jQa+94fu5VvYN7e3tQv2XL19mh+ozLFYTu9Sf0tTsJEr5JTvEayivLmSN4itSleGk5LzBVvFqSiryySpUs0XxOWsUX7Gu7mW26p4msvEx1le8zi5xKIXWSUgzYpGb7qO04hjrjn3A8uz/JtHwIDGKr0gwPIS/ZjEnT51kT8PjhGlfoNHux/b6p4nVLyTTMh2TYxzltsm0OsdjdvhSa3et8J1scsUMHCy+33CPg/qHSDI8KIzNVvHqXvmZT546yeXLl4Ux12hH/+MEBg9HBLdZAH4fzCz/sFEd078fVAA+L3KJwE9E/QvAn0QikV0kEt0jEon+b5FIFCwSiZpEItF/DdDv/xCJRPtFItF3ox0AL15+z9zRJuDbufftSOaB29bWUAyWBm6g/WvDYaReuH3Hv0GvE15fvXr1pvsxluSVZA8qaN3ESHf0eu/OqAEDC+Kh5t9I5+dAK0We7be1tZKkjGFF+meAywzrLndf754fJ0+d5OSpkwRluM51P9/29vYbno877Ex3dzdpGSmsyPuICxcusF77IqmFz9Pe3k6w9HuC1EvYJ9sJuMROrCwAZ5OT9vZ2GvQ69MZGEhV7uXr1KmHVL+FscrIs72P2lzwrmNj9NYvp7OwkRv4dFy5coEGvY4t4FQUlGaQ2zGeL7hlWa14jWPZP0tITCap9jST9QgpKMliW/yGBmjfRG3QozLM4XP8QCtM9xMt/ItnwICHZf0ZlvodU4zyKLLPR2Hwptfpy0PgAx51+Qmq37papnGyayJlmP2EPoGd4l+EKwNOWWYjLH73h78PVq1c5eeqk8N7T6aY/PL/TYxEu6XcmAN08KepfAFpEItE/PN7/XyKR6LhIJPpogHreF4lE50QiUbboxpVBL168XOOOFoBefhskKK47YhxOT7qh3B2EeDh4xsq71bhNp30DoPc1B/ftv2fMQb2xsdf9tx1v61Xurr+6rrLXvQ0Ve3K/Yi+KXAkGk15oP0q6nePX6mhvb0eRKwHAv+Idcoszgevjf/HiRYxmA0aznq6uLnKLMzl+vI3D6UnkFmcRJ9+DwdRIgnwzm2teIlT9KZszP6bteBshqr8SU/c4ilyJYG6u0JSxOfNjIspeIF62jTj5HjZLlpGRryBJvoHDig1ESbcTVPABm2Vfs0v3BzILVITLviVFsZUKTRltba0cVgSzJ+ND2tvbMZv1HDbexyHFejLNM9hT+iJpyo2kZL9FlHQLxdbJ7Gl4nMPG+5CY5pAs/5EU/XzUpjmU2PyIbXwEnX0SEQ2P4XC6Mn6caPKhyjoHg2MaF8fADNzk9CHbMt31/NpaOX7iOBU1ZcL4KfOkNzy7vs+/PwaL0zmc62+nAJzxXTD3/Bw24sP3vc/5Pw89yf956En+97zHblYA/i+RSHRVJBIt7HOuWiQSbRrDe/Xi5d+OO1IAjkQw3GncKi/qOzFYdV/vxuGsxPXlZk327jkbLl53Q1nfOHngWi3bWfsMFpsZAKvdiiT7MODKJOJezenrxNHW1nrDZ5719/WO7tu/vri9SYfKfuN5vc1uFV7rGmuF3MTuTB7u+/NkpXqJUOZ5PbiyyLS3t7NdvJaQyteEOIR6YyPOJidHMw8SUOL6rK2tFf/Sd4mWbsNiNaNrdDmZWG0mQiRLiZb9SJ1Owz7ZLkIkP1FQmkNHRwdXrlwhWvYj/prF+Be/j8VqJrLxMXKLVOyVbmVt3ctslP6A1WZiZc6f2KZ7muT0j1hV+yq7dH9gX82THCuUkVz0HImGB8m03M3K2tfItrj2A6qNrnAweZap1Np90TvGkWGeQatzHM3Ou6i0+dLVcqMZeKQisMXpQ4z+kUGdgG4mk1FnZydtba0jvs7zetHtEoDfBnPPv8JGdcz49qZXACeKXAJwRp9zU0QiUeQY3qsXL/923JEC8N+ZvuFPbgcVmqFXHG43/cXO8/RiHml+5gRFJMo8KXU6DVa7lWDp9+iNjZRUFQl1mSxGId9yWXUJAHulrhRurW0tHFC44uStVnyFf+VbREq2sF28ppeItVhdAtNtEjyUniiYZt3tu1mt+AqDqZEKTRmtbS29YjWePXuWSMkW4b2nAElWxQp9djsWqPKklFWX3JAvOkYWeMPztdqtnD17VthOUKEpQ5Un5UjmAUHs5pfmUlldSKI8RLi/LeJVnD9/nk2SAACOZuwnPPddViv/ToIikvQ8Mf6axcTLI8gvyWBvw6Os177InsyP2Cb9iU2Sn1FlJ1FWXUJMzZOUVZdQXl1MUtY7RDQ8zn79Q9Q31HHIeD/FpWoyLXdz2Hg/lTYfIgtfpdA6iRqbH5mWGdTbx5FpuZtGx104HRPQ2CeQYZmO1j6RX5p8qLX79BJ/fc3Awz209qlU2O5ms+qvvcawUlPer1PHFnHQDV7Ct+L79W8kAL0rgF683CL+LQTgjn48MH8NPIP9DoUk61Cv94P9ExH3Ofd2MpzQMoON/3CuH+j+Bgt50pcUxTbS8xVsE69mp/Jz4mTLCFIvIUKy2eXFaqjn1OlTaBvq2KF7EknWIZeXrXI3/tc8aqOk29la/zSKXAk7xSGsk35LgmIvh9P3k6yMFVZ/FbkSJFmH0DbUkl+aS0D5O+yTbiFItUQo73v/2645r5z+5XS/z7q43LXSGCNz7WX0/KHgmUnEXd4X9/7NZXl/6lV/fmkuKapYoQ+HM5LJL83l/PnzwvjuEIegyBVzQLGFZGUs+aW57BSHsDn/HXZJgtghDiH8Wsgcf81iYmVbOH/+PA6njaKybGH84mQ/Ey77nlTF90iyDpGq+JF6XQ0pqlhi9QtZU/cKodrn2ZnzLpLa+SjNs0g2PMh23VPEy/9BnX08x6xTSDU8QKF1MinGeRxW/ITGPp4250QM9slU2yZSY/NBY5/IxRaXCXg0ziAnmqZgdExgv+Irj7HUjuiHmjjrkOCRPVbcVgH4z2DuWRo2qmPGP8d8D+AJ0cB7AL148TIMfhMCcKDN81mF6be5J7993N6zN8Mq1ZcjOn+D5F/DOm+g5+uJp+clQGDBh/2eV9+o7ffzK1euoNFWotFWk6SMIbDgQ/yrr8fQO6COR9egoaenhz2STQAE170EQHTFs/hXvt2v40tGvoLo+seF/rnPia54nhDJUjI8RP/Vq1eFsD4Bxe9z9epV/CvfprOzs1eYmBRVLAHF7wvPKrDwj8KKn/v+Ags+pKenRxg7txlypeoLdolD6e7uFso6Ozu5fPkyPT09aOprhPrXS38kVOwvfP9j6x/Fv/JtoR+eIYMuX76Mf81bBNS8RYoqlsCCD9kgWcrVq1eJqX9cWKFcmf4Z/pVv093dTU6+GPUxOSdPnUSscJmKI3Pe4aB8Oe3t7STqH6Tc4kdQ7etI1LsJ0CyiTlvJAXkAK2tfI0CziDTjfZRY/VCbZxJc9xJq8wziDQvItNzNeu1LiI1zKbH6cdQ0F4V5FsVWP8qt0znhHE9b0zQuNPuN2hO4u2UqO8TBBKmXcPXqVWF+9PT0ECr2p7u7+6bMwH0ZyQ+a2ykAZ34TzOyfwkZ1zPxmUAH4nyKXd+8LIpcA/K9r7//jWvmPIpHIJnKFfvmfIpFovUgkcooG9gL24sXLMBixAMwtzrqZv213DL/1/o+U4e7LGyip/UChWc6dO9fLk7Y/9iuibqh/MA/nwa4fLarcI+wQryFIvYQE2SrBrNnU7OTChQto6q9npKmtr0F9TM5+RRSJ14IiJytj2SQOJC1jP+AScDulP7FK6RLFsbLd7LgWxqUv8pyjAGwSBwIgyT7MVvFqmluaiJOtJUy8ot95WVJVBLgEsru8vb1dMEs3tzQJdbrLIiVh5BRnIs85yk7512yVfc+RzBSWZ31CiPRbdI215BRncu7cOfYrokhT7xGu3y5ei8PpoE5XTYrie2q1VTQ1O9kqXgW4vIy3i9eQpo7g3LlzyHOOklkgZ6PkX6xUfcEmcSBBuX9iReYnbNM9TYL+IXILpGyveZ69+W+w7doPgvXaFwkofY80RQBZBXJ2NjxBek4SEUWvEqVawt7GR8kzTidRP5/DxvvYrnuKLPNsUgzz2K57CpnJ9brB7kNkw2OozLNJ0D/CyaaJdDT50mgfR3vTRKpsEznu9OHSTcYAdB+XWqaQ0LiA1PREtkj8MZj0N8xjsUcMRrj14ah+ZwLwLyKXmffKtcP9+gmPc1aKRKJWkcu7N1fUOw6gFy9eboJBBeCduDfsdpAxAlPtYIx0/PoL0zKSdGvD8R4cKwYzaR1KHzpN2lhx/MRxAOxO+4Dn9PT0kFPgivOXlh5HsPR71tS9wgFVPPtkOwmRLGWfbA2rFX9ne/5b7JD9k0T1x0RLw0nUP8ha2T8BCNM+R4z8B/ZIgohULSGrQIkkPYqenh62i9dSp9NQUJrJIdVeAorfJ78kk32ynUQp/yb0xfMZr1R/ziH1PuF9uDiY8upSAEIlP/e6h9T0RMLFwYSL1/Ua332ynfT09JBXks363D+SV5INuPYQVmjK2CfbKcQ4rKgpI1T2TwymRnY0PEltfQ0FpRmcP38eg6mRM2fOcObMGQymRoKl37M1808cP3GcrHyJ6zPll1jtVlKU0fhXvc1OxZdCexvz3xXuL7zgTbLyxQQWfEhgwYeElb/CTslqUtXxhImXk6R/kJ6eHg6rY9mvXCKYiw/VLuCg8QFipJtYW7oYqWkOqcYHKLROItcylT0Nj3OsJAtl2WNs0L5AtmUau7L+yEbtczQ7/Si0TuNEky8O50RONvlxodll+s0033fTewCvtE4jx3I/+2U/Eyz9njDxcg6lJwrzv6KmTFip9fz+ucvd8xOu7w8dC26rAPw6mNk/ho3qmPn1r5YKzosXLwMwZibgoeJg/R7pz9v0Zulv/Nz/XG+WgtLMUV0PsEW8std7TxNyXkn2DSFUPAkTr+g1RsMxP/c9x7P9ddeE2GA0GhqIlm6/4fMLFy5w+pfTrJW7Air7axbT1dVFYMGHHD9xnC31z1BQlif8ww64tq+uo6Oj1z9ut4nYaDYQJl5BRr6C5dn/TWDBhyjNM9lV+hLnz59neeEH5JVk09HRweHip3v137N/XV1dWKxmkpTRlFQW3uBx7Hn/DXotQeol7FdEsTzrE8RZqUJ5YLnLdOu+vxMnTwCuOILLCj7gcEYydToNK2veZHPxGxw/cVy41+MnjpMgW82K9M/o6ekhsOBDlmd9QmDBh3R1dbG3+mk2VL3KOtk/Of3LaQKuBZ7eXvLqNY/h94iTrSKw8I+c/uU0h1S78a9+i+MnjpNbIOXEyRMkK2MJ0b7I6rpXiNU8QUdHBxGqJWzXPMcyzRskG+YTlP4ZG7QvEF37JAbHeJIN81FkJVFs9SO2cSFZ5ulkWu6m1DqdCpsvuZZpZGYn4K9ZRJriW7R2HzS2ichUIdTYfDnV5DtqJxD3cUCxVRgr9/yIkf844qxIfed3V1cXy7P/e0R1wO0VgLP+EcycH8JGdcz6h1cAevFypzEqAdhfZoPBOJqZOvRJ/0Y0Ghpu+Oxo1sBjlKTcN2j5rSZJuU8QFn3R1NeQ5JEv+GaDeCcpY4TMFH3Hp6W1+abqdPevTqdhr3Qr66U/CsI1RvYD/sXvk1moRqvTkKSMYZc4lAjJJtLzFZgtRg4r1hMi+Ykg9RJSFOGslX+DLN2V2SNCsrmXE0aKIhx/zWKSFVuIkGwmXPatK6WZ4m/Eyfdw4uQJSquKe42PZ0y41tYW9kk3kKKKJbtQiST7EBGSMADi5HuIk+8hWhrOYUUIZquJKOk2AiveZlf6n6nTaTh58gQJir2kKneSIt9Ag17HpUuXWCv7hr3SrSiykwGQpUeQnq9Akn0If81iMgvVwvONk7nEToJir2uPo3Q7O8Uh7Kt41tUP6RoSFBEkKcIBOKraRmH5MaKlW0hQ7CVaGkqEZDO5BWJyCmQEVrxNhGQzh5RbCSj4kPLqIlIUW1iT+Rdi9Q+zuf450lQ7SJSHCCbfvQ2PkqT6lKjGR5Eql7NV9wxJhgeRG++jwDoVsWkukY2PkWWZgdI8i0zLDGptkzjb7EuOZSa/NPnS7ByPzj6D7pYpdLVMHpUA3K9/iKCCD0hRhFNaVUyEZLMwPhcvXhQyd7S2tlCjvb6dwD1+I2WwH1bgFYBevHgZPb+aE8gqD7PY75m+HrBWm+VX6smtwX1/cfKIm67DvYH+Vo3NSuWXQv/6tlFQlkdA6XvsV+zFarO4RFHWISo0Zb1CqjQaGkg49hrHitOJ0T9CZNYfCa14nYKyPFYp/0acPIJQyc8EqZewSxzKlStXyCxQsUzzBkG1r9HW1squ7A9Ykf0XDip3ceXKFQrL84mXBfXqT25xJhGSzcKYHFDFsiLjM9LUrmDTQeolJCgiaW9v58yZM4DruyTNTiO3SE1ecQZtx9swmPRsEQcRqHmTVcov2FT/HFGKr1md8xGnfznNKuWXrJV/I3guR0ldInOD2LVP78qVK6zI+Ax/zWICSt8jMm8RKzI/xWqzEJr9IZ2dnciyUoiXBRGUxTqulwAAIABJREFU+d+syPiMgIp3WFf3Mm3H24jM+iNJpU+zoeBd9lQ/Q5w8ghWZnxKifZFI2VIqNGVkFahYL/+G6GNvENu4kLW5H5FqfICggg+o1JQRqn0eVdbbpFumc7DqGWyOSagaZ5NmeIADxnlU2HzJNM+i1j6BHMs0FKY5WB0TabRP4ELzFFqdE4TMIKN1BGm0+2IwNbI65yMkWYd6OX24V+/dMR49uVURCG6rAPwqmDnfh43qmPWVVwB68XKn8asIwL5mkzXyr29r+15unrFOjzYUI3Ea2SReNuQ5GQVKAPbkvNfr8+MnjrNJvIwabTXL8v4kfL5Hspk18q8FoeS+fqXqCzo6OvDXLKZOpyFCspkVGZ8CLseSgOL3CSh6jw2SpaxUfUGCYi9GswF/zWI2iQPxr3pLqH+wmIZu87PbSzhIvYTjJ45Tq61it2QjQSXvUKfTECXdgFanYaXqC8AVXsad/q1Op2Ft3cvEND5CgGYRqcodrFR9QXDOhwQUv88axVccP3EcjbYabUMdgQUfUlJVxBr516yVf8NK1Rek5x7GaDawIuMzdolDWa3+nI6ODmq01awqX0RgwYfIclyZVSIkYRSW57Oi9nVqtNXsrnmWlQXvU6OtZoP2BZKUMayR/4Pdko1ITHMorigg03I3oZKlpBjnkaT4itV1r6A038OG0jdYV/cyxyzTCMn6CI19IrHlz1Bi9UWi3oGu8lHKbT5U2VxOH4328WjtEzA4xmFpvJ8rrdOoL36ZnkEcQTrNcwEGFYAXWyajyjlEgGYRIfmuMe/o6GCPZHMvhw9Pp5yRMtj87esQdVsF4N+DmfNd2KiOWX/3CkAvXu40fhNhYPrimbxe21A34uuLKgr6/bxvNgVPige45vfOzYzvQCQoIod97oULF7D2yWDRl6HKPcnKvx57L06/gK6uLqx2qyvun3g9a+T/ACBeHsEh9T4uXLhAtHQzACmqOIorClDkiqlvrCNauo729nY2HnsPaWYCKfKfCEr/nC2SfxGv+JqDqr1sqXmBzAIVhzOSuXTpEtqGWsEj251r12q3klOUwaVLlwRnkJbWZsqri9ghXs/h9CRyijJ63cd+RRQpqji2i1ezQ7yebbLvhLLlmjcA2Hwt3mCCPJS1uR/R2dlJSVURKwrfI14egbahFnl6BP6axWyQLOWAfBnahlp2iNcL7Xd1dZFXpCJRvh6ATZkfU6fTkKKKI0kZg3/5O2QVKElV76Ozs5NkZSx1Og1H0qMoqihgnywAm91CsmwZgZo3Ka8qJEYayhaJPzuyPiBBEcG27D+ySfYtuYbZbFX9lfXal9gr2cwB4zxkuvvZqnuGWJk/SvMsjhrvJ7biKYqtk4mR/53dDX8g1zKV2MZHiGl4hBzLNEK1L3CueTI2xwRsjrs42+zH+ebJ9LRM5ewI8v/2d5xpnkRW5YNENj5GfYOGBHkk4fJvOJyR3OvZ9OVmvz9us/9AeAWgFy9eRstvUgB6+fVxmx/HiqH+4Y2WVLUrfItOXw+4VhbdG/KXHfuYS5cuUafTcO7cuV77r9wrmjvFIYLZr6urizNnzrBR4s+68jeEsfD8Zx+Y+/EN4q2vl7a73P39W+MRbHhZ3sccK1aTVZguCKyI7HfZ0/C4kCEk45iYrMJ0zpw5Q7h4LWsUXxGV+xZxsuU02H1INswnrvoPNLc0kaSMoaK6kIjct9khXoezyUGsfiGynDQCNW8SrnuK8qoil6jSL+TMmTOs1bzGeumPNLc0kaLcR0VNKbrGWi5dugS4VrvWVb5OQMl77BKHEqReQmTmh+yvewT/0neR5xzFv/wdzpw5Q6p6P2rjLA7WLeBQw3xWaN4grfF+/DWLia55isPG+1hZtpgymy9xsuU4mxzEGxYQrH0JiWk2BZbprKt7mUbHeIqsk2lqcqC3j0dumkux1Y8i6zRKbb5obD6kKn7mfMs0TjrH0+IcPyYm4Cut09A7xhPZ+Bjh4uCB51fj8GP5jYbbKQDv+Xswc78LG9Vxj1cAevFyx+EVgB7slmz8tbvQi9HkCr0ZxtKreTjczL7BwcK9uDmSeaDfzzs6OrA77WQVphNe/hLxsiBaW1vo6enBarNgs1t61Z+siiVeHkF2UYawd9Dzu7JTHEJrawubJP7UN2rZnukKTr1PupZz585RXVdJvDyCnp4e4uR7+h3feHkEx4pUQv2F5fnAdS/k1tYWwBUAuqQij4x8BRGSQIJLFxEnj6C1rYVN4mVk5CvYL19DsPxr8oqUKPPEHDA+QGTD4yRqH2Fl7WvEGxayr/hFVyDsaybomlpX2Jk4+R42SJaSKP+ecMkKklWfkSDbQKWmnJ6eHrbqnuGAMpJlOR8TLlmBsv4+cgvlxOoXIjbdS3i2q7/r6l5itzSQrfVPkyDbwFrVF6yX/MD63D+yVbyKtXUvs6L2dWTZh9ia8WdW1b6Kv2YxMcolrKl7hegil6laaZjNUdO9pBrvR2yaQ61tCuW2yeRbp1Fpm0SK+s9obH4cb/LF7pzF2WY/7M7xnG32xe7wEUy+F0bp/NFrH6BjHEdN97JJ+xzZRekcVPbv3OHpNe5+fn3JLhp+EPvsPj8k4DYLwL8FM/fbsFEd9/zNKwC9eLnT8ArAW0BaRv8CZCiKKwrYJd7Q67PhiqT+HCiqaituqh8wdCDbnOJMqmoriJNH9JsWq7/sHv2lfet7f33vfzDc99d3pa0/3Ct/noRIlt7wWX/th0i/Z6vsW9bUvUJZRR5xclfwZH/NYtraWgkV+5NVmE6SMoYg9RJ2SFbgX/m2kEmjs7OzV/tpGQduGB93ne6wLu3t7VTVVhAiWdordEiIZClWmxn/yrepqS1no/oTzp8/T1ZhOlvEqziaeVA4r6a2nFXKv5FZoCL82j5bm8NGhOIrlHlSsgqUpBjmoc49xE5xCFt0z7C9/ik2ap8nv1BGTqECiWk2yzRvUm2bRLJhPpu1z7FDsoJ4/UME1b7OxqJF7Gp4gnjVX9mX8Se2654iLO8d4vQL2dnwJCnyYMLqnyXVcD8HM98lUfEdKfLviTcsIFUejMI8mwrTZOL1CznVNJ56uw9h9c+xu+EPVNsmUW7zJdc8i2LrJE40+VBonYzV4YPUNJdS62RSDffT6BiH1DiXVuc4zI5JXLom+i6Nofhrdfrir7meOebcuXOkqOKE97fbucsrAL148TJabpkA7C9t1u+B4aZ8uhNFtXufG9y5z8c9vstyPr4l9a+WfzVgmdubs6urq9/nF1B03XHEs3/ulb2zZ8/SoNcRWvY6AOEVLwrnRF4zcftXvXVDiA/39e7nc1CdALhE3AbJUjo7O13iMv2vN/Tp/PnzgoPKasVXrK17mXjZaq5evcp66feuOIDF7xJW/gpB6X+lo6ODePluYqqeZl3FGyjzxPgXv89u8QbKqgpZlfEJicooOjo6OHfuHIeM91Nt8+GAfDkHDfeTb5lCTOMj7Dc8xAbtC3R0dBCoeZMN1S9Tr6shyfAgsbLl2J12MgtU7Ch/EX/NIvw1i/HXLKKjo4OOjg5W1L5OsPR7/DWLWFX7KvHyCFKN97NM8yZHTPeyT/8wG8U/o7FPQFo3D7V5FvsNDxGoeZOYxofZb3iI/YaHWKZ5g1W1r3FA9xCVVfm0OP1ocvrR4BhHruU+8nKTMTjGcbllKhebJ9+0OVhieNRlfm98TMjE0tPTQ3ZRBoG5Hw/p/BQ5xlscbqcAnP1lMPf+M2xUx+wvvQLQi5c7jX4F4L+rw8Nvjb65kAeK0df3n487xdidjHufW3/cTKaWksrCAcs84/iBa/6njiCbiXv/l5v+VjrBZTJW56YKXu+eq0bu/p08dZJkZSyp6YnEyMKIl7lWBKOl25HlHGHFsQ/x1ywmtPoVYqRrCM17j52SNURJ1xIvC2azZBmRDY8jS9/JmoxP2C1ZhjR9DzvFIRxQ7hbacwuWNTkfCXv6EnLfFGItpqYnEiFx7XXzr3hbyPW7W7KedddyJK+X/sgexd+E/u8UhxBS6ApI3dXVhdVmIbrxES5evMjm+ufYL19HsjKWBPl2tovXYrVZkGUlEicPJFkZy/7KJ4gteY41da8QU/kMycpYohsfQamfTax+IbqGaoLrXiZa8TdkptlEND7GVt0zhOueIir9TxxWfskR01wOG+aRb5lFnnkOcuW35Jjmc7F5Eo2O8XS1TOb8TawMHpQHUqfTsFUSQElVERcuXOiVK3kkDDQ/hktGvuL2CsAvgrn3m7BRHbO/8ApAL17uNAZdAfw9CsH+YnX9GgwW+mOs+K08v5vxlOwbOsidb3eg8hMnT/RKq+dZPpwsNu76B5o/Q+Vc7k+cuwWg+/43iQMJkSyluaVJ+Ky04hjl1aWCl60q9wjSa+FWOjo6BI/2pmYntfU1rFR/fkNbK9WfI885St21+98sXkZ7ezsdHR1YbRbWyP9BsjJWuDfP63MKZMJnBlMjJotRCC+zUv05VpuF1Yq/c0i1iyTVZ6zI/JRkZbRQ//Kcv3DlyhUiJJvJKlAQes2ppL29nQT5akIUX7Gv4VHiDQupra8hSL2ELSWvIcl/jq0q177AQM2bpFtmEFL3IqtrX2GX7gkiGx8npvop/n/23js4ijP99+17btXv3PO7t07dqnuqzs82xjb2Oq+9DhjbYHDOAS3OcW0vXodd79prYwsBIgghCSFAJCVEkAQSIk3UjHIOKI6yRjmSUUCWSOJz/xh10zOaGY00Qsh2f6q6PD1vv6Hf7sFfPe/7PE9g5bN4GxcSmP8GcfUPUtd6PTnNN3Ok5Waym+6hqtWSBeRUx3T6OqePOyNISOo7+A9vGejs6mCV7h80tzSxTWV/37Cj0Fby98fZnlv5b8LeqoMiABUUFNxF2QP4K2BlwtfSZ3vZV8aahm9PQqTbY3JGlD58wts8dfrUmK6vq7/yP1pxfhqbG6T/sfb19dHW3mZVvtg0HwB16gEAdmu9ySnMlOZ/jeYHwPr+bPcMNjSa2aoKYHHeO/T19ZFXmM7igitLx2LWD3v/U1+r9rTq3xFR+nDCkj6Q+pe/H7Y4+m2vSPiKvr4+cgozKSkvkix8YJnr7u5udicslOZIk3pQGt/alA+t2iouy+fU6VMsS/ycmrpKAnM98CnwYLPKjzXJH+NZ8mfJkhlZ95h0/+0drURqf2JFwpfU1FVhzFCRnmskRreaWPND1NRV4mV6g/DqORga78av8nmychMwNN5BbP2DaBJDScrSk9R0O1urn8A37X1ymmZwsP5+qlun0dB2HXVt11Hbdh0NbRZv4L5Oi6Crar1pTAIQYFni5wwODkqOHfJwUppUiyi3/X26+m+rWN9VJl0A/iPIrUMRgAoKU49rJgAjhtMj2duc/2tFnbLfabkovJJzjJMxHLcRgx5PFcQ8rM44cfKEwziPXUc7rVJ1iQ4TAKaqUo6fOC49owgH6bsceXXK+7eH6N0L2O1/NKL1ES6nwhttiT+/xBLnr6auWvpuueFvI+Z3p/bKknF+UQZw5f726NZK70esYRfpOXr26MNZYnqdEHUg0foIKyeb4OQPLPOrDydKt5FY/QZWV7zIuqpn2Gt6jFDjpwQlf8hm9WL26NazVbWaIM2/ia6bSWLTHexM+IKkxjsJrZnDHvND7Kp9lBDd34nSbSambib76+9H3XAv2c0zKGi+hT11jxBV9whtbTfT0X4LvR0Wz+DeTsvy7y+drgnAc1230N85nYqqEgAOGkNG/H5jDbusYpOOB/n74QqTKQDv/cKX+/8e5NZx7xeKAFRQmGqMSQCKieYVrh3i0tLly5dJz0u5pmMR945dC3p6ekb075X9ntM6E/H+1ppr3M524khcgv2lw6Wpnzi8XvSAthfEPD0vxcpDuru7mzNnzkjnvb299Pb2WjkE1ZprrNryyn6PU6dPsUXlR05hFqv03xCfGEN4tsXR5fz58yzOeZcDiXsAOHPmjGTxTM9Lobe3l4iaOWxR+Ul/7MUnxrA45108ixYQpFpGX18fS02v421YSEFxFvuH9ypqUuPxyn6PaPNM4vQb8U36C0nmuzA23smuulnEGj4lITWWXWVPsLN2FnVN08hqvoWddY+ys24WITVPkGW+nbj6h+jpmE5n+wwGOm8a0zLw+a5bqGu7Dq/s96iuq5KEnrh8K85vf3+/y9s6BgYGxuyEZfvOKQJQQUHBXZQl4AlCHj+upa3F7fbWqjzdbsOWI6X5E96mPcT7X6P53uU6+504XQTYmYuxLnvbIs6vbXDmsRCrH+moYi9IMIyMX2j7fOVL1vbKwZIGDsBfvYisgnQri51tfQCTbM8jWESD2IaYYm+N5nt++eUX6upr2axawyaVL1tVAVKdorIjXLx4kShtgPT+bFUFEKH/WurfX70IP/UiNqvWoE7ZT119LZ4lC/BTL8JUVUbekWSWpH3EhuKX2JE+n5Upn7C59DkCkz4hLS+ZoPLn2Z8Yg1/lC6gTI9hSPdeSMs/4GaE1c0jNOkSw/hvCSp9mX/0DhNbM4VD9fWxPfgdj453E1j9IUctNbK6eh6bhHtKabier+RaKm++ku+NGKltvpL/zJs52Tue8GB/QxcwgfZ030tMxjYy8JHZrvSkoyZPErqvYe3/dZVIF4EJf7v8myK3j3oWKAFRQmGooAnCYcpv/Wa4/vPwajcQ1xDh99tJPyRHL3bEW2ovpB1eWMl2hoal+3P0DVnvUrgXO5i9xDF7Jmflp1DeaJU9me6K8vtFsFYdxYGCAwynxDtsUYwfK6wNE68M5UprPwMAA6XkpxOh8ycxPs9uGPvVKSrNwzQbp/RffH/nz26oKQJ16gCOl+XR2dbCp4lmpbEnaR0RqfEjIUBGtD6ezq4O9CX9Fn6EmVB1EZU0FQVXPcDg5juRsA2urnsO34kX2Juwk8MirhKUtIFq3ZTgEzf2Eq32J1H1PnPlBYsseJyjLg8MN97PE9DqbNT9Q1HITB+vvZ3vtYxzvuAm1YSNhtbMxpkaR0XQrrW3XU9RyI/2dM+jvvInejmmc67qFzvbrpCXei123OQwP09k+jaKW6YRrfnY4/64Sqg4ac7D10vJiu99PpgD84199+dPXQW4df/yrIgAVFKYabgnAq2GlGo0Vhi8nvc+pxtX0IF5h+NIq8PB4sY11B5blQvmy7Xjen8uXL497fJU15VTVVkrnrsR0DFQvtjofy7L3WpWnVP/ixYtWde3Nj6vtX7p0ie7u7hFhgMRlRWfzs8Lw5Yj3RxyLOD9bVQGcO3eOxCw9ydkGent72azypbKmHG/jQkLVlhzJfupFpOfoWJz9HnGG3VTWlONZ+CYXL17EK8uSFWVoaAh1+YOEqAPxNM1nX/prXLp0Cc/CN1lc/GfCh8PIbFH5UWIqZHn5qyw2zUfXeDfJmSq8Sj3YbX6EPQk7qKoxsaLkDbbXPsb2kqfJqb8TY6aWxKbbOVB/P74VL5LUcAfpTbeyrPw1Wtr+i9Sm24gzP0x7+3WUlRcQW//QmJw/4usfYEn+W3iWLJDmzxGjPbsVCV9Znds+PxFX3m9FACooKLiLYgHkiienMVM36X3bxpCbKOTLeJOF3GlAjvx/jJ1dHW73486yrSP06eoRz3+fMYrWtma714sWOTE0SE5h5qh9iPMj3wPobkw4OcZMHYZMLUVlRwhWraKyppyWthYpsLScwynx+KkXjVh6P33mNFtVAcQbo6Rla9FzOT378Ih2xPL9iTHsSYgkWLWK/YkxHE6JZ7vGWyrPKcwkTr8Bb+NCqmor2ZsQiW/GO+iStnM4eR9h6QsIqnqG9Snvc6D+fmLNDwKwvPxV1quWE1Izhwjd31lV8TKh2n+xruoZths+I6RmDgeNYazUf8OuukfQNdxNVtPtGBvvJL3xDkpbZtDZPo3K1uupaL0VU8u0MQnA1Mbbia96mJX6b9ip3cbpM6cn6nG5xaQKwM99+dNXQW4df/xcEYAKClMNRQAqXBX6+vrGXddZmBp7aeemAvIlameewr/88gv6dNWI78ezbzRUFuB7b8IOadnYK+sDO+PbAUDQ4WWAxYp45swZwtTrR1gExbGIDiPy5WhDppa9CTvo6+ujvrGO06dPc+nSJVbqv5baT8w4SGlFMav035CUpcdX+y/Wqjzp7+8nQP0z29RryMxPJSzpfUrK8sksSGNvwg5CauYQoP6ZGN0aPE3z2Vk8j+Cqp+jt7SW+4El8Kl7Ct/g19uY/Q5z5AQyNd7JB8z1xtQ+T1Hg7CdX3kdL0ByIKniet6Q/kNt+CruFuLnbdypHmuznWbgkFM9h1M+e6buHC8H5AZ0dZ67QR/z6K8+OK5+/p044Fozuew5MpAO/7zJcHvgxy67jvM0UAKihMNRQBOMUQ467JWW74YkxtiNYpe2FD/NQ/Wp372+TDdXWJc7Tl04l+pxxZF91BPj/y8C1iXl5HnDh5ghWGL0fkS3a0rAtXnC7MDXUOr/FXL7L7/AFUKfFEyJYQbefXUfgZeX3xWe9LCLZ6fs0tDdL4RIaGhqT7W25cKJXbjq+/v5/lhi/o7u5mc/nTUvnQ0BCbVD54ZX5AeVUp0foIGprqWZX4GSHqQHp7e0nJNhBZ+6jkrNLYVE9WQSo7ah9lmek1ttTMI1L/FRVVJewvmY269n4CSl9kWfJfSCt4jH31D3DAuJOKqhKWmV4jsfEO0ptuY3fxk5S0TKekZRr6xnsZ7JpBU9uNtLdfz6mO6VS33sKFrls5MbwP0NlR1HwrOc03S/frp/7R6X5MR4z2fMaKIgAVFBTc5VcvAO15PyrYZyKWGw8k7h39Iht2aLe6dN3BpNgxtz1RyDfbl5QXOS23Jc7GG3i7ZtO4xyF61soFr62wLCwtsFtXtDw6Ko8z7B7xnSbtIOfOnaOswnLPx44dpbC0gJ3abVaOH4eM4Rw92mU1LjF4sfz5inlyu7u7idQGsTTlU86dO8d2zSbCNZYl4EjtZryKFpCUHscm9c9EaNazIeljNqhW4mnyYLPuGwYHB4nQf0WI7h/s1QUQUPkcsYXziK2dg7r+j6TU3sWOukfxrXiRUPVadhj+SkrTHaQ23cZuw1+J1y8jq+lOkhpvp6zlXg7U309R8130dtzIyY4baWi7joHOmzjZcYNTAWhsvIuddbOuyraD0TBkaKTP4vsn/v4mVQB+6ssDfwty67jvU0UAKihMNX71AnAikQfGvRo48qYdK+6GQBkP7ogaVxjPPY01O4gcR3HYRAEmlg8ODrocgNkZovenvWDWy5I/szo/kLTX6R829uZKbL+uvpZI7Wbp+1OnT1mN//iJ41aeqD7Fr1nNxYULF+jp6RnhrWrbp1fGh1Iu3K6jnWxR+XHixHHq6msJUQdy+fJlyeP4YMVMDhnD8U76nOMnjlv2GOY8D1jmd1nyp+xN2ImnyYPjJ44Tovan1lzNEtMbrKl8Aa+MDwlRBxCQO5+VyZ+gTvBlpelVtCl7iDZ+THjpU6wrfpnExjuIMz9AcNELFLVMJ77+T4RWz2FVxSskNN5NY9v1dLTdzYWuGZxov47B4ZzAogfwoJ0l4c3V84g2z3TovSvuj3TGRLw/Iqs1/wImWQD+xZcHvghy67jvL4oAVFCYargtAMcqDK6FePmtYC8NnCvYLlXao6Oz3aVns1G1CoD84pxxjWWsjPZ+yb16x0qEJtjp0py9gM2jzZFtuW37Yv7f/OIcKVOGOJeOnq982V7evr3gz/JyRzmWxT2Wp06dlMbX0dlOY3OD3fp+6h+trIGxCZZcwIWlBRww7gIsYWKCVaukoNXd3d0kZxvIL0zHM+8dErP0HEqKoqS8iI6ONvw1i/DRfktatpacwkzWZL1FZM6rAGxSrWaV7h+sSf4LS0yvk56XTGD6O+w3/4k9ma8SnP0GPoXz2VMyF23DPYQnfkxW821sqZ5HVvNt7Kh9lHVVzxBb9yDbjrzAvvoHMLXcjqllOkUtN3LI/ABd7TdwvGM6F7pm8EvnTZwbFoP2vIA9TfNHzfU8GZRWXLFCKwJQQUHBXRQL4FXENragM8aaC9RVnMXqczS+jPzUUdvdpPIZ95hGo7SixK6jhDNs5892L2NmQbpbY3K1fnuHY6EgBmF29KxFpwvb8iDVMqvzjPxUq/kPHv7sKAi1Ls3ivZsqywoCltSF8rR58v19G1QrAItziy7tsMyDeaPV+A4ZwwlW+WBuqCVCE4y3cSEZ+an88ssvlFeVsTdhJ7u0XhjS9uGdbskhvMLwJb/88gsdne1E183EM+8d9hkiUafsp72jnRWGL4mqm8l+QwjtHe34l71MUNUz+Gu+JytXz7aEv6FO2oGfehFR+c/iaZrPxuqn2FbzhCVwdNNtZDbP4GDDfRxKWUBt6/Vo6h9G3XAPfhUvEFn7GFlN93O0fQbdHTdytvNm+jun09p+1wjHkOi6h9GnOA5S7gqHkuMclo03vuVkCsD7P/HlwYVBbh33f6IIQAWFqYYiAH9liCJiIrB1AJlo7LXvyCp1rRG9ZN2tX11bPqJM/H3Z7sFMzjaQlKW3+v3Zzo+/+icADhrDHfa9OPdtu9+LS7SLc9+WQh3Zm3979T3LPKT6IhXVJipryonXL5WNz/KMxfbhioXRX71ICngt1l9uelUqT8+xhN3p7e1ln96L5cYv8E5ciKdpPktM8wGk+dmTsANP03yqa8rYUj2XrKYZGBvvwLfiRTxN8ylovpnFZR4AHGq4jyjzTNZVPUNxyzSOtV/P9trHyG2+mdSmP1DXOo095oepa7PkA25q+y/6Om6kq/16LnVZWwCTG28fc/BmV+bXXSZVAH7sy4N/DXLruP9jRQAqKEw1rqoAHIsF7LeMK9Y9V66xTULvDG3aIZevlWO77BlrsCzx2XOMkOOo3DYdWYQmmFpzzbjGNhbk93/hwgUyC9IcXjswMEBdfS3JOUarXLmuYs8r1JHXLFzZ0O/M+qNNO0S0PoKcwizR3LYvAAAgAElEQVQGBgZGvB8TGQ7nwoULmOtrRn2/Tp85TYQmWJpbcfwXLlxAk3oQb8NCq/cnrzCdJekfWbWxR7eW+HRLHuHlRot3+8byZwlW/8xS02usyXqbDfqv2VD1FNqUWHIKs/A0eRBu+Jzl5a+wS7eZWJ03G1UrWFn+CtH6CPwqXyDW/CA7Er7gYEIgwVVP4WV6g+CEL0huvBNVwx+JrH0MVcMf2VT9JLt131PZej1pTbdxsmM6Bxvu51j7dZzvmkFG012S+BvsvJmw3JfZpV1idQ/atEOsV3lL92/7bOxlW7Hd0zne36eIIgAVFBTcRbEAXkXccVKwZTL2ILmzP3OigmhvUK0ccx1XM6OUVpSMek3Z8DX2YrS5sgezzEEfccaRHrgily5dksrl9UVv3v7+fml+HbVvy+K8d6TPruwBtR2fmPmioCSPHeVz6ehsx9tgsT43NjdQUJJHWo6epCy9NFcbVauk5+ej/ZagglelMn/1TySkH2JZ+WuEqdfjo/2Wbfq/E2+MZo363xxO3M4qw9/Qp6vYWfsomTl6MnO0rMp7E1/N92zLeoNAlRdx5gdYl+2Bj/4bCooyCUj4G1n5ScTqVqPKexLfiheJPfIUq/Vfs7t4Hofq7yOzaQbRdTOpab2BvKbbKGu5mc1VT6FtvJu85hkMds3gYtetklOI3DEkWreJLWXPMtWYTAH4p49W89Dn69w6/vTRakUAKihMMRQBOEVwtk9oKjIV3pmBgQGCVavsBp0eb8YRX833dr+P1Gy268Ut7pfs7u4ekxf5ssTPJbHU19dn9fxtY/I5YmBgwGn7jsp3aLdYzY/ohVxTV82xY0dH9O+d9DlgCRFTV1/LwaRYent72aGz5Me9fPmyVR3556QsPftNj7BNvVZqI1p/ZTk7Iz+Vvr4+2jva2Jb6Niuz38a/6DVq6ioJ0PwbVVIUNXXVBKu8qag2sadwHpHan6kzV9Pe0YYmeTdLMj5ib0I4MeaHia5+lIP6NRxpvpn4ksdZWf4y+sa7CK2Zw8H6+1hb+Twd7dNJbrqdhrY7qGqdRkaTRfQd67ie/s6byG66k96OG+npmIa/ehGew8vR8vmTj9/2nseKI490Z0yqAPxwNQ99ts6t408fKgJQQWGqcVUFoLlBidEnx15KrmuFK+Erxop4f85iph07fmzC+x0LzixxY0EeLNo2Tl9R2RErkWNLel6KS33UN5pldZKtyuTte8qsfbYkyGLJeRsWctyF+RfHr09XAxA13Jf4fOXjly9lehsWEmfcTaRmM4ODgwSqF5OQoeHcuXNEqH3Yrgnm2PFjRGiC8TRZ9uvt1G5ku2YjOflGNMlRHDt+jMyCdAJLX8TT5EGo9l+cO3eOKN0mNue9QkjNHDbovmKXLoR9+nWsSv2YGN1q9icEEZz3KgcSAlmt+RdxVY+wruoZ9ua8QG9vLwGVzxFV9wim1mlsT34XQ+Md7K2bSWvbDbS2XUdG0wxMrTdQ0nIjHe3TONExnYym20jI0BCjm9y0ivZ+P7bLyooAVFBQcJffnQXQnpfmRDpWTFXshQyxxd4ys7ves6O1b4/DyftGvaa3t5fsIxnjHst433n5HzXypVVX5nciEPu3HX9PT8+IfWa2S7+2WWDgyvM9nBw/wnP62LGjVud19bU0NTcSrfORMomI9ZuaG6X24/QbWZLyCf39/firF+FtXMjh5Hg6OttZVjyfk6dOstzwBX7qRahT9uNtXMjivHdYVfEyy4rnE5TxFt3d3WyreYJthoWE1c5mjz6cqKpH8al4iQ1VT7M9+xX8il8jKUvP0NAQTc2NpOYYiMh7EVX+XIz1d6NpuAdV4g6WpH1CcuMfyGi6lTUpHxJVNofKqhICdV9T03oD1a3XsUu7npSmu9hd94i0BJzadDvxxiiamhtdejauZtGZCCZTAD7wwWoe/nSdW8cDHygCUEFhqvG7E4C/JsLU60e/yE1EQdHS2jyizJ3E967uy5uMti5dusTRY10O98K5skdOZL3K262x2MvGYnt/jgIHrx8OzQJQbCp02Mdew06KTYXS83N0f/Lnu87wV8Ai5MT+HeWq3WvYabVf1FfzveQQEaDytKovegGLWS3Wq7zpOtrJpUuXOJRkCa8SmvQRASpPAI6U5hGi9sVH/zUH6u9nk/FTikrzCMl5zWIRzHqNpabX8SrxYFnyZxSW5rEy4Wu2a3zYVvYMR0rziDE/jKfJg1X6bzA03om+8S40DfeQmnmQVWkfYGy8C1PLTeQ130Jz2y3kFiSS0nQX22sfo7DlRjrbb2Kg8xaKW2ZwOClKen/E+bkW2P4+J1UAvr+ah/+yzq3jgfcVAaigMNW4qgKwsmZkSAyFK7S2t05YW0WmyUtVlVWQzhaVn8vXbx7DtWL7cmuKs71uWeO0UIrjtxVkp8+cHneb9hCXTQ8kuZ5Cz1H/olORvWct338o1rcN4yJHnbKfzIJ06R2Utyku/cYZd1uF8jmQtJe9CTupqatEkxxFa3sroep1Vv9+iFbexUfeorW9lU2q1Vb9dnS2sychkvWqpZLlPVa3iFpzFadOn0KdHE2kZjVepjc4kLSXjfoviax9lANJe1lb8DrrcjxYrf0X6pT9Fmug9nu2V85B03AvqVkaDur9CTX8lQ2FL7E26y32mh9ir+4HNqh/4nDDH/GpeJl95gcobJnOzrpZNLRdx6bqJ2lq+y+izQ+T3nQvne3T6O2cjrntBkINn09YBp+JRBGACgoK7qJYAJ0gxmD7vfY/GhcvXrT7/dDQEF7Z74+rzeWGv7kzJKn/0ZCPzyvnvQm1WDrDncwlznC2t1H8fYvOBuLzsRfnDywWSbnoOXnqpN325e/nFpUfldVlXLhwgUuXLrG9ag5geUd6e3vZovLjwoULrCh9XYoDKFoHT546ydDQEJU15Vy8eBHP4gV45b1DUpaeTRVPk155j8X6VzWX5SWvMzQ0RLR5Jlsrn8Jf/SNeOe/hWbyAqhoTK8pf4cKFC5w4cZy0LBWepvnsNj/CYtN8DtTfT0VlMft0i/Euf428ppvZa/iMGPPDZDTNoKB5Ogfr76Os6XYGO2+hoe06tuu/xrN4gUvPwPb3IJ575bznUn1HyJ+F+AwnUwA++N5qZn6yzq3jwfcUAaigMNVQBOBVwp7VoLW91W5cuMnEUf8qO7Hs3GEsXpGGTK3VeZqNw4M4l6626Ur8ydHC1thbNnXH0xOuWHxHG5+zDC3tHVesxmKGD9v2wX44HXm5/P7k76r8/fBzEihcnL+Ckjw8896hodFMjM6PMHUQAIEqL/JLctGlHWZgYEDKJAKwU7uNDaqVdHZ10NHZzg7tTySm7WG92hP/5I8JVHnhWbyAaH0Eu7Q+aJNj0KUdJkz7PVW1FfglfsrivHcIT/oIQ/pBBgYGWG74Gzt037I5+w2WJX9KTMIXdHZ1EJ02n7Ssw6ypfIGI2sfZa36I0No5FDXfwV7dSkJr5+BX+Tz6xruIrH2MjMp7KWuZjq7hj4TXzAZAm2w/E0hZZalk8TRVOc64I+JKhh1X6x9MiJ88AfjuamZ+vM6t48F3FQGooDDV+N0IwIlcbp2qXI39ScdPHHdabk+sTAXv76SsBOmz3Fmk2c5eR4CkbMv14pJlTmHmiGvshZsZLZvKaPMnEp/oON2YrWXJlXc5QP2z9Gyyj2SM6Zm0treOCIcTnxhjN0ROeVWZZAmUe6/mFGZSZDrC8RPHreZ/k2o1sQnbOXv2LOVVZZRXlZGSpcZfvYim5kZWFc5nQ/rbrNH+g00qXwLy5lscfgqSqag2UV1bzubs11l85C2OnziOp8kDf/VPxCfGEJfiQXNrM9F5z+Gr/ZbExjtYYnqd3IIkWttbySlIIqv5VvboFqFquJdtah8yG+8ho+lWdptnsb7qaQpbbuSg/nuym2dgbLyLDSkfjups5Gyp3RH23q+xMKkWQEUAKij8JvndCEBn+8gmi+q6qknpZ/+wmHDV4nDi5ImrORy3WK9a7tJ1B5L2slr7zzG1PV6LjDwLh6PxnTh5YkQOX1cQHTNcfSbrVctdunZgYGCEkMzIT5XSnMl/H/sTY6Tv7d2f+H4dP3GctLxkjp84LjmB+Oi+5ZdffpGWKv3Vi1ia+gkAq7X/xCfvz3hlv8/SlE/RpcaxXrWcvr4+orQr8cp5j9NnTrNJtZKTJ0/gU/GSJQ5f6Z85e/YsR4qz8cp+H3XDvTQ2N+BTMB+v7Pctc533OodT5hOX/QLBqlU0NJrRpe7DT/M9XqY3LEf2+1y8eBH/yueJqH2cgMrnCNP/nWXlr9HYdh37s14gPvt59unXcbJjOsbGO0jLS6a3t5cIzUaHWx5c5fSZ09L8jMZo6ecmUwA+9M5qHvlonVvHQ+8oAlBBYarxuxGACq4h7s8SaWiqn5R+5U4l2zWbpM+2wZWPHu1y2k6Uk/h7cmz/ILBNWWcb289euZjSzlH4j8QsvdPg0ImyPLljYatq9Lh02zWbOJwcjzp1v/Sd3Ls41rCTw8mOl/0HBgasUvYl5xg5nBxPuGaD1XXiPr54w3a6jnZy4uQJyipL2asLtCrPKcwkRh9GiNqPgpI8BgYGiEvYRk1dtSQeg5I/Yr3Km7X6rwhVBxKXsA1/9SJC1YEk5xjZo/MmpnguERpfBgYGiNBsZKd2G54mD3Ykv4u3cSGb1UtIyUlkXelLLEv6HP+UD9lZN4udiR+xq24WAHGGCKL04QRn/pkDhi1sqZ5LbP2D7DbPIqvpdlIa7ySz6W7Sm25Hnbpfilk4GvbmUz7/cmINjtMAusKkCsC3V/PIh+vcOh56WxGACgpTjV+NAHQlV+5kY29JcKyM1UN2onD2zB0Faw5Q/yx9dsXRwl7MRUfIQ5I4Cz/T3NIkfZ6I+XfGZtUawHmg5fEQpQ+z+718fkVcmcMVCV+xSxcqnR87fgxzQ53VNfJyWxy9C+0d7dLysVjfX/UT6hRrUWM7P+qU/Zgb6tisWkNfXx9DQ0NSruCGRjOnz5xmaGgIT5MH2UcyWJ7wJQBh5U9SWVPBsePHCMn0oNZcg6fJg2VJn7M5/xWWpX1McpaOUPU6ik1HaO9oZ0nGR4SUPo0m9SCDg4M0tzSyNPtduru7iTfuoNZcw5qKF9ii8iOsdjb+qp/YpfsOgIymO1lf8iIlpkJLvuHa2WQ2/YHY+gfJa55BfP2f6OvrcytF4miM9/ff3t6uCEAFBQW3+NUIQIUruJsXeCyJ6J05PojpvRwRrVvlcj/2EJfBVun+4dL18swZY0HuEBGo8hrRvyvtu7rXT060bpVL+zYvXbokWcmcYRsI2pXy7u5uaX7rG82jbpUQ50f0ms4typbKyipLGRgY4PiJ4+QUZtHT00NuUTardP+Q5qfWXENMQiQV1SZpfo+U5OFp8iA1W4e3cSHG9P1S/fRsDWFJHxKlD2dgYICqmgpidL7kFWXQ09MjzV+oeh31jWY8TR6cOHGc/JJctqnX4qv7O8sNfyOu/gEisl7DkH6AbaoAPE0e+Om/Jil1J3lF2cTVP8hi0xusr3qa3dpV+FU8T3LBbIJVyyf038eJ2ooy2RbAWR+sc+tQBKCCwtRDEYC/Qn5N8RXlFrtrhTtp7yprKsZ0/W4nljZnOPJKtjd/8udvW37q9CkrUWYbf9DWc1iOPJvJbu0KDiTukc5Fa2jX0U72G3cAV0LahKrXARCtj5CujzXskj7bWggra8rp7u7mgNGy3UBcQo/Sh0nzfSBxD7t0ofirF6FNWApAZ2c7oeq15BZl093dzRb1lcDYW1R+VFWXsTb5Y3ZpN3AoMYI1Ge+yrPw1zp8/zx7dErbUzCVMHcRWVQA7tYuJ0v5EbOYrxFQ9yv76PxGhDiSsZjaqhvvJa76JTVnzWZ640OES/1hC+sjnYyKYVAH4lg+z3g9063joLR9FACooTDHGJABX6b+Z0H/EFCafiXZESclJnND2bMOvrFMvcXq9PYuK7f69q4HcMrok86NRr7c3prTcJIfXy5e3XV3qFsWTvK+BgQGr37ft0v3FixdHtB+j3+6wD9v64vwfNIZTWVNBf3+/1N7Fixetnl9BSR6l5UekmILy+49N2EFfX58lbVxiJJ4mD9aqPVmc/zZLMj9iqyqAFcaF+BS+wX79Ivr6+gjXfy31taPuUfr7+1le/ir7ymexpOBN/NSLWKvypLOrg/DKuYRUzWNH+Vy2VM9lR+1jBKq8MDTewZKCt4gyz2RV4mcUlhZQ2jKNpeWvo087TGq2dYgiEUeW8aGhoUlJCacIQAUFBXdRLIC/AVKdCIlriZhLVhxfTmHWmOqXVhQ7LEvNnVjh6YzR5jdQ5Vyk2sOV9HO2uXjlIWwc3b8zBxF5fdv+RWuWWL+/v59iU6FDi6Y+w5ItJD7B4rCTlKWnp6eHraoAqmorpfpiyrrMXEuoFG/jQppbGlCnHgAgWPsvqc39hhBa21vJytUTpFrKsWNHiTdsp7e3l/2G7WxQraC3t5eUnETSMg9QXmFpP7JsHmEaL5pbm1lW/ho+yZ+RkPgR6zXfE6YOwl+9iPRsjSXXcPqHRGqDWFzwNpEpb5OcrScpfR/7zA+wxfA5a3R/J0jzLwxpcUTov3Y4lyLylHyjbYmYSCZTAD78pg+Pvhfo1vHwm4oAVFCYakyoABwtdMGvhYNJcdJnZyLk10hvb6/V/TnLKSsit9TIlxfl2C5FrrMjig4lx434bjIQw3fYvp8l5UV2r5fPj7s4c76QM15Lqti+K0vttvlky8oL2aULJVDtZff6WMMuKxEq7ukT+xLnL1DtRXVdldX8dnd346dexMrstwlQeRKu2UBPTw+9vb1s0n4rXVdaUUxabhK7dCEAROlW4Gny4MKFC/ipF7E5/xUidd8Rb9jOnoRIonQrCEp5D5+Kl4jSBrAi4SuSsw1s0n2Lp8mD6tpyDuh98Nd8h1/OAjbnv8KOukdJyUnE27CQsNrZbKqeh7/mO3ZpvdmQ+Akxhs+Ir/8TydkGttU8QWpOAsmNt7Mx8WNSsq/Ek3SEK2Fd3LWUH0yKtTqfVAG4wIdH3w1063h4gSIAFRSmGooF8FeM3GHhauLo/XDFigXgle54idSeUBSxd38rdVd3G4KzsC22pOclj9n6am/8cuEk79/Z8xXj7IHl+YgZOMY6P/bGf+7cOSkjyIULF2TOOH+3GnO6LGOLaDn0Ni6U8h/bUlVbKY2vp6fHskSsWoJX+kdWy6bhmg14lVlCryRmHMIr/SOCCl9mpf4benp6OHfuHN3d3Riq72NT9ZMcrphJT08PidlPUTyc07i3t5eenh7Wqn/EK+8dFue+TUW1iSOl+exLCGZJ/lvo0w4SXTab3t5ezp8/z/L8BRwpzaenp4e29hZ21D06JfMAgyIAFRQU3EcRgFMY27/6rwXi0mBilt6h97AoPuwht6ZNZMDpiQ7snZilp7Org66jneSX5I6prq2TSd6wlfRgUuyE5/4dazgkW4EnjwXoCgeT4qTna/v8xPuLN0aTX5wjtS/mFE7JTiA1N4k9CZF4GxdK9fNLctmm8rfaj7o3YSfatEN0He1kt3Y5AaUvS1azKF0IERof9ibspOtoJxsNC4lN2AHAGs2/pdiVAZXPEaIOpLLaErNxfer7pOYmsVsXSn5xDuvVi1lb9RzahnuIrHyCSG0Qu2oeJ6xmDuHGj4nUfccWlR+bDZ8Tp1vK5iwPDCmOcyxfbZz9/idTAM708OGxtwPdOmZ6KAJQQWGqoQjA3wFj9WQdK2fPnh3hXWobumU8oWvc2VMlhilxBblla7T6YmDs8cQgnMwUeeIzD055X7o/W9Fsb9l4ufELq/LcomyH709eUTblVWUMDQ0RPRyAW95Hc0sTPT09VNZUEK0Pt2vRTMrSU1Nr8WpebJqPZ+FbAFbBl3t7ezlsDMO7aD4+KR8TVTSPVbp/kFeUTVKWnoKSXPbqQzA31LIq5RNOnjxBWO0c4g2hxBnCOHv2LIH5b6BNO0Rg1bMkp8fR19dHWOInbKp+kqGhIcLUa9mb8wKeJg+2qgIIKXlGSqW3teRZ55N9DZhUATjfh8feCnTrmDlfEYAKClMNRQBOIu6EI7nWjJaBw1XEWHor7XiUr1V7Oq3b2NwwIWNwBdHLc2Pquy4FArZnmXMmEkVvWnGpVY7oIOEKW1X+Vhk7bPveqvKXvvM2LLQKNm2vbxHx+Tj7tyG3KJv1qhXSvTQ2NzA4OEiYOpDu7m76+vrIKcy08hwWfwOh6QvYb4zEZ3g/4NGjXaTkJLJG8wN7EiIpLT8ynCLOEurl1OlTDA4Osizxc6L04dTV11JdV4WP9lur59PQaGarKoCwpA9YW2kRbp4lfyZS9z3VdVWEZb3BBpUXoRkeRJtnEqVdQa25hhB1IJ6Fb5KYqWFfwlZC0xewrGABgeofrkogaHsxGcfyfisCUEFBwV0UATjBuCKUxrrEeC05nHIlvZW4fJicY7R7rW2GCJEIzUaH7dv+T2+8QjM52zCuejV1Y1+ild+/q/0WlOQ5LBN/f+MJJm07DttUfrbI5zdp2MEh1rDL4fgamxuI0Gy0e5/29ksePdrFds0mKdSLuMy7Q7uFMLW1h3Jzi+XZDw4OsrLiZULUlvRxy41/kyyJKdk6BgcH2aLywyv7fVQp8fipf5TKxXfrSFE6e8wPsTnvVak8Qv8VUbrN7KybRU5hllQfLJbKnRpfovURnD9/nu0aP3bo/o1X1gdE6TYSp9/A7rpHSM9xnK7vcPI+h2VXm8kUgI+84cPjbwa6dTzyhiIAFRSmGr8bAeiqw8JvgQhN8Jg9sm1zvI7G0tS/jOl6cJ5VRI67zypCEzym6+UOFaPhalaSseLonu0tm8YnxliN+dTpU9JnR0vXts9XfH66tMN2LZVLUz+RPl++fJn+/n6p7f7+fi5fvkxvby9BqmUAUqaSvKJsaf69st8jLTeJpWmfSPfnI7P8emW/R5BqGc0tTVLQaW/jQumeIvRfAZal5GDVSjxN89mb9SK7tSs5dfoUa1WLOXXqJCdPnWSLyo9tNU/gbVzIyVMnWZzzriXbh+Z7Wlqb2aXdSpz5AXabH2GTahXbi59mrWoxMXUP09fXx9qq58gpzCI2+W1C1GspaZ6Opnwm0cZPrebHnrUVrJe+x/r+uYqP7or39KQKwNdX8fiCtW4dj7y+ShGACgpTjN+NAFRQUFD4raAIQAUFBXdRBKCCgoLCr4zJFICzXlvF7D+vdeuY9ZoiABUUphqKAFRQUFD4lTGpAvDVVcz2WOvWMetVRQAqKEw1FAGooKCg8CtDEYAKCr89vAVBuCQIQp8gCGeH/xsjK79PEIQMQRD6BUHoGL7elhWCIHQO108XBOEeJ/0pAlBBQUHhV8ZkCsBHX1nFnPlr3ToefUURgAoKo+EtCEKmg7L/RxCELkEQfARB+A9BEO4VBKFdEIR/yq75URCEVkEQ7hYE4b8LguArWITifzpoUxGACgoKCr8yJlUAvrySOW8EuHU8+vJKRQAqKIyCMwH4iSAIxwRB+G+y774VBKFedt4kCMLfZef/pyAIxwVB+MBBm4oAVFBQUPiVoQhABYXfHt6CZen2uCAIzYJl+ffm4bIgQRASbK5/TBCEIcFiHfyfgiBcFgRhls01RkEQAh3095sUgJHazVelXXcC9QITmlh+LLHrphLO5tBX8z2rNf9yWH7hwgWn5aPR2dVh93t7cykGvZbH2PPVfA9Y3q+JnP9lyZ+Nu+4G1UoAtms2Adidn76+PqkckDJbyO9ti8pvRL0d2kXSnJ09e3bE/A0ODkqZPcT6XhkfSr+/9YeXAxCeOV9K69fZ1cGehEg6uzoIVHnhr14EQE9PD+GGvxKb+D6x+iCWJX2ONu0Qi3PfpbOrg7Nnz3L8xHE8ixdw9uxZLl++jKfJg41HXmFxwdtSzumtBS8SVPgKy5I/Y4/hMxLLHyI+51kOJsWxWvct3iVvEFz9JEtNr7OlZh7e5a9SV1/DwYb7qKg2UVlTwUG9HyvLX6azqwOfipdcfxhXCXvv2mQKwMdeWskTrwe4dTz2kiIAFRRG425BEG4c/nydIAjRgsXC95+CIEQIgrDX5vo7BYsAvF4QhGmCRQDeYXNNrCAIYQ76c1sATnSy+98j+cU5Y67jr1l0FUbiHo5SZonCyZaTp05anTtKhWUb3HifMWrUsVy8eNHh+AyZWqd19xmjOHv27LgC+trm15ULL1siNMEcKc0fNfC1n/pHAEoritmoWgW49vzF8TtqP0ITLI1vY8IXdq/ZpFotzb+pooicwkyr8hMnT4yos0sXSnd3N4WlBVTVVlrVOXv2LPuMUVy8eJHC0gJOnDxBb28vm1S+LE39i3Rtd3e3lIPYs/jPxBl3U1FtAiBA/fOI59PR2U5pRTFnz54lRrec/OIcVla8wpHSfFZVvEyMPgRt2iFWG/7GVlUAZ8+exU+9iPWGv5LadBuBmh+JSXqf9Ma72K31wk/9PVF1j5BTmDmuwORX+/c5qQLwxZU88VqAW8djLyoCUEFhrPyHIAiDgiA8K1xFC+A333zDd999x3fffYfBML6UWr93MgvSr/UQHBKs8gEgNTcJsJ+H1Bm6tMPS544Ox/ljJ5Lz589bnZsbrMe8afiexoKz3LeOaO9od+k62/HZUlpebPf7sspSl/s7c+aM1Xl5VZn9vipKnM5PaUWJ1fl61YoR1/zyyy+AJd8vOJ5/+fjPnDlDSk6idJ5blE1HRxu6tMMEqZbR1t4m3cMG1Qr2JOwgtygbz+IF1DfUsEb9b+IMu9mp3YY+XUVuUTZbVH6oU/ajST2Id/qHtHe0syXhb4BF9InjE/vfkbCQ7ZlvsDjvHTo62/E0ebBetYJ1iZ+yvPxVUnISpZSFK8pf4WD9/eyqm8XWmrlEmWcSVjOHKG0g2uQYjhRnEK2PmLAVkrH+QSG/NwCDwSD9O/3NN98oAg/dOh8AACAASURBVFBB4TeOKACfEwThY2HkHsB/CqPvATwhKHsAFSYRR/loRQvOWPBXL7J6P0Wr0JXyn+zWW5z7rtW5vSXOqUZltX1BN1EsN1qsfOJyrIhnmceo/W9V+bPc+IWUqm1x7rt2rVxiuS1bVH5UVJukvuQszn2bQ8Zwlhu/wLPMgy1V8yx1auaRlKWX6iw3fkFY+pusr3qGxbnvkpxtICnLkqtXTEVXWVPOVlUAnqb5+KkXSfX3JOwgoOIFPE3zidKtoLu7m3D9V3iaPIgyP8Ju8yyWG7/ggPl+PE3zAaRUdI64llb4ybQAPv7CSua+GuDW8fgLigBUUBiNtwRB+P+GP/9vQRB2CxZR938LFitfpyAIqwRB+L8EQfijIAhtgrUX8A+CILQIltAv/0MQhDWCxVNY8QL+lRJr2HWth2AXbdohp+WbVL5W55rUg1dzOFL741m2HevYHOWDPZwSP2pdR+Nbr/IGID1H57S+qxZJEdOwlTCzII3kHKNVmWhBdHb/SVl6u/dl+3wBKwufvH1bas01bCh9QaozMDCAMT2eXdplJGcbWK/yZvGRN9mbsJNofQQXLlwgsyBNmiOwWChTshMIUQfiV/kC69RL8FP/SEDl89Saa4jUfYcmMYScwiwSUnYTqv2B5BwjYbWzycxPY4f2Z3wS/0p4zWzWVz1NbP2D7NOvY4d2K1tr5rJD+yP6xK1sr32cTYetran2rLmZBWkO5/BqMKkC8LkVzH3Z363j8edWKAJQQWEUVILFAaRfsAi3GEEQZsjK7xUsXsK/CJaQMEvttLFcEISjw22kC0ocwN8VolMAQGFpwYS129E5uvDYqFpFmc3y4lTBmGlfWFXXVQGW/YeO9jCKiPvvnCG///jEGGmfo7x/RxZSsOwhFOda/vzE+rZ7DB0JyoKSPMByf872sEVoglmj/jdwZWk4zrhbKj956qRUbsup06eorqtijfrf7NaFAlfeP3EPoJym5gZpfvzUP5KWoye3KJtLly4RZ9xNblE23saFdHS246f+kcLSAvzVi+jv7+dw4nZMlcVU1lSwVRUgzc8O7VZW6b+Rxr85az5HijPILcqmuq6KgpI8UnMTOWCMQJd2mIjax/E0eXC47j4yc7R4mjzw1XzPOvWPbE7+gOSmP6BtuIcw41/IbL6VjKZbR+xBnWjGusfQkKlVBKCCgoLbKAJwDBw7dvRaD+GqYCvudmi3OLx2rHNg6+hxrfHVfE93d7fL10+18TviUHLcqNeM9uzkXupyj9++vj4AauqqAaT5GxgYsNtHX18fly9ftpo7Xcoe4Mr+U7H9YNUqOjrbidFvB8BH9y0h6nVcvnyZ7brvpT48TR60d7SzLe0tArLfZHHeOwwMDLD5yEtcvnyZdVXPkpmfbPHiTYol/sgTbNd9z8HEGNo72lla/hoxWS8TY34Y/6LXWFn+CuurniEu6QMKmqeT1Hg7FS3Tiat/kDj9Cqpar6PIPIMDlQ+zNPPDMb0zY2WsVl2YZAvgsyuY+5K/W8fjzyoCUEFhqqEIwCnEZAhMuXXHFle8a93BWfvpeckutXEgcY/VubmhzqV6mflpDst2ardRZDpi9Z0Y3mSs2BvfuXPnxtWWSJQ+XPosD6OTnH3FYct2/HLE/sX3Kz0vxWH7AJGazUTrwyXHD1srY4QmmH0Jlu/M9dbL4eL7tUsXwg7t1hEOR9s1wexJiGRwcJB16iWAZf4BDiTttRpfcrYBT5MHnkVvEqMLZod2KxGaYGJ0wezShbBF+wP+lc+zR7cWT5MHm6qfZJf2ZwIMfyVUvZbN1fMISHufnXWzCDR+Pnztj2yunsfa0pdYV/UMO/X/JKPpDsvSb/5LRNXOIqXpNpaYXidK/y1xCf8gqOwFu/Na32i2+/1kOIRNpgCc/ewK5r3o79Yxe3IF4P8rCEKOIAhpgiDkC4KwYBL6VFD41aEIQBvG89e4IybTYuiupaqnp2eE560zbN+Znp4el+qN5i17tdih3XpN+nWV0cYnPp81mh8kwSTncPKVfXrR+giH7azR/ADA0NAQcGX50Vn/Q0NDdt8v0bt8aGhI6v/8+fPs1G6jpfXKUvXZs2c5nBxPR2e79Ptqbm1mSconVvdXV1/LGs0PNDU3sqTU4oihTtmPrmA2exN24lm0gDWaHwhRB9LU3Ej2kQz6+/uprKlgo2oZy5I+I7sgjcV5bxOa8xr9/f2sVy0lr3kGS1I+ITrrZRIa7yS16Tbi6h8kvuIR0nM0JDfezsbqp0jPSSCh8U5U5ocpryolxvwwMXUPj3A8sod8/seCs+VfZ2WKABwV0VnyfwqWvfIKCgo2KALwKnGkNP+qtPvLL7+gT1dflbavNg1N9QBW45cLwrF6CdfV13L6zOlxxWlzREW1iebWZpevP33mtNPycM0GwL33wV4cRfm+tBJTAYYMzYhrxD59tP+kRXZPew07R1wretE2NTdafS/en215sanQpTGbG2pZqf8GQ4aGhAwNFdUmuo52WtVfmfCVNL6m5ka6jnZypDSfuvpaCkssMTJD1L5sTnmPNYmf0nW0k+7ubvwSviTGsJCcIxksz3qXcN23hCd9yBaVH+l5KQQYviCy9jESGu4iTreEFeWvUFlTQUzto6ypeIHEptvZbZ6FtuEeAiqfo7jlJnKbZxBTNxN1wz1kNN1DctMfWDm8xxDG/o6O9n6Ml0kVgM8sZ94Lfm4ds59Zfq2WgG8QBKFskvtUUPhV8LsUgJMtoCYyA8hkUllT7tJ1m69SiJW29par0q67ZBWkS3Hy7OFsOVbk/PnzVvNba65ye1yiSLNFfD5yK9/GYWeN1vZWaZ+dmBlEvE6+XSCv0LKsaczUSb+fOONuWttbuXDhglXfYrl8KbTWXMWp06fYovKTHG/k49CnqwBLlpVoXTCRJU9RWVMuLQuL5VW1FQSqF9Pd3Y1v5ruEp75Fb28vgSovfPM9CMt/iU2JH6NO2U+kxptQ9Qr0NfexvfYx0rNVxBU8Q6z5QfbVP8DO2lnEmx8iqel2EhvvoLN9GhWt0yhqmY664V4ymu4jq/F+lpped/URTDit7a12vz958uSkCcA5Ty/nyef93DrmPD3pAvB/CYKQIQjCKUFZAlZQsMvvUgBONl4570mei9cSeUqp0Ta1OxKtYuYXr+z3R70WrPepjad8qiA+v+WGv1l9H6DyHLWuvfmRz58j5EGVHb0/onewuKQLEKIOHLVtOfLfv70MKuL4RcE6NDTE4rx37KYok3/nr/4Jz+IFnDx1UrJYytu/fPmyFOdR7EOs71nmgb/6Jykszt6EHZRWlLC8/FVC1IEcP3GcCxcuYGy8Y/j35YenyQNTVSmeJg8i6x5jjeYHS9w/80w2Vz5FeNqbXL58GU3DPewxP4ym4R5a2m5A13gX6Q1/IK7+Qc503MAh/U+cOHGclKbb2VT1pNX9ieN35fm5wnhTCk6mBXASBOA7giW6Ra9gSWzw3+xcs0KwhEE7K4yMbvGlYNnvd8hOvf8lCIJZcBwKTUHhd4tdAahOPTAR/7b9rlDZiZXmKPesHNusDO4ynmwXE0VGfqrVeX5JrtPrXZmfsfYfpg4aV11HG/rBkrViIpCLbnm4HmcCurSiZETqOnu/T2fjt0d/f7+0VzBItczhdaKHuL32o/URxAyHtEnPS5Hur7yqjMV579DZ1THCwzxMHURDY61Uf9uwsDVVlZKRn0qgyksanyhkPQvfJEjlTUW1Cf/K54nR/5PEtL1EaPxZkfAl4fp/EFz9JHv0WzhkeoTViZ+zVr2IyNpH2Zv2Or4VL7JduwidcR3rsz042HAfmU23kt18C7tqZ9HSdgMpTX+gte0WGttuorFtGkUtt5DXfDumlttctgDavv8TgRjOx5ZJFYBPLefJ5/zcOuY85VQAPidYROCngn0B+KMgCK2CJVXqfxcEwVcQhA7Bsaj7D9nn/xQEoUGwxNJVUFCQoVgAfyNcLecKeyFh9ifGjBozL0D984jvbPeXTQRFZZblVkdLZVcL0RIk9h+fGDPiGrnH7nhwVD9MvX7UumfPnqXEVCCNzx5+aksmC9tsKuJcJmcbOH7iONlHMqzuLzbBErIlUrvZql5R2REpZIw8/6+4XL44/202qVazPzEGf80iViZ8LV2TkZ+Kt2EhfX19BA07qmTmW7yB/TU/Ep8YwyaVL319fbS2t9Ld3Y06MZKd2g14mjxYlvwZwVl/RlXwBKFqb1KyVOxM9cAv8VN0KQtIa/oDoTVPUNZ6AyH6L+junEFu802UtdxAfdt1DHbeTErBY3S2X8+5rls42zmd8tZp5Dbf6jCG5HgYy/5SZ0ymAHziSW+eenaNW8cTT3q7Mt55gn0BaC/D1XHBcYarmYJl+TdVEIQ8QRA+GvutKyj89lEE4CQznk3hS1P/chVGcu37t2d58tF9e1X6GiujeTW76vUMcOLkiRHfNTY3WIWHsRdTbzTsWZzsvV+iKHNUbg/50uTly5etBL9nwVs0NjdI50tT/8LZs2dZrf0nYAn10t3dTZBqGWl5ydK/L/K+L1++jFfe2xjT9+OdvwCA7CMZgEW8njhxnJ6eHnwqXqK3t5ctKj9OnznNqoqX2aoKsMT+Uy0mNVtLdN0sNlfPw6fiJVZXvMgu7Sbym6fjlf0+0XUzaWpuIMb8MGsqXsQn+RP0jfdgbLyTzOZbqW69gZ6OG9E03Et28220tN9Aa/tNnOm4kYtdt3Ks/XqW2VgAR/vjR8T2+UykQ8ivQQDe98CnTJs+m2nTZ3PDtEfHKwDHk+NeQUHBBRQB+BtHzJUqR763TERME+ZKOjNnHD3WNabrRc/gq43JQVoyR2zXbAJAnbrf4TViSjgxfI5tKJDG5gbp/mz7tyf4bOPxiTgLzzOW+TucHD8iC4kY3Flkly6ElJxEq/GFjnNZPXhYEIp0He0c8X6pU/ezXRPMkdL8ER62h5PjidKHc/78eULV69AYt7F4eO9dfMIWQtXrSMrSk9h4F36Jn7LH/BDxuiVs0f2dtKbb0ObPJThjAbvqZrGn7mEOFT9OR/t0alpnEFn+BHnNf6C45Rba2q/jePv1JDXeQXfHrQx23cLQ0ds40zGN/s7prK96WhqTPTF/LZhUATjXm6eeXuPW8cTccVsApwkWAXiHzbWxgiCETeC9Kij87vjNC0B34/rJrSdXixUJzpPOu4ptmjBXEZePzQ21o+4lk/exWbVG+rxrOBXY1WS0+xtv8OaxEJbwhcvX5hRmTXj/3saFY+7f3FBr9XzUKftHvHPHjh2V5k8Uto4cdNQpI0XxsqTPAaSYeb29vdL7IfYVoP4Zf9VPHDRswrPkz2xWrWGzyo+hoSGWJX3O4OAg/irr5eiw0qcJyfCQxu+r+R6vrPfxKp1PrbmGQLXF0UNVfx/G2nuJNs+k1lxNtGk2UXUzCa+dTVXrjRxsuI/VFS+Rka2iuOUOGtqup6btv9iV+DEd7dczdPQ22tqncarjBga7buFS160WEdh5E9sz33B5zieLyRSAc59YxtNP+bp1zH1imWIBVFCYYvzmBeC1IMZJrldXcRRvTLTMrHawVDrWpcQQ9boxxdGbKIudK/HUxrpncDzLqI5wNL+2hKjXAWP/Q8NZ+/L3Z7z7Jvv6+lxepraX61b8w0fuuCLP6tHX18fBpJHp58RnsEr3d+m7imoTaxMt2whqzTV0dLZTUW2ip6cH/+F9iLq0wwwMDNDQVI9f1puAtfONzhhMXX0ty5I+x6/iBTxNHsQZwlic9w4ryl4nWv93tqS8S0Tt4ywvf5XDGS+RkLgJ7/w3aW+/jl21jxJW8ySVrTdibruR/s6bSGi8m6ymu2lpu1ESfL0dNzJ09DbpfOjobeQXZ7s0j4DkxHK1+R0JQEGwvwfwhOB4D6CCgoIL/OYF4HitYjC+Ddu7ZZYW27Rg14K03CSn5ZU1FYQOixh7iHHYnOHM8ubO/DvClfiEcjHobAnV3v3J2xctWqM5Aogez7t1oRSU5I0Qo7GGXXbbB/DMe8dp264wmse1HFvP0v2JMRgzdVbZPkLVQSPe347Odmk+QtVBhKnX09zSaGUJ1qUdJkp7ZcnYkWU4VB1EcraBzerlDA4Oskr3D5ZkfkSgyouqGhMDAwNoknezWbWGg8ZwjJk6DiVGSBbQ3dplrK54ieaWRuIMuwhXr2aHdjnbC58mofEuEhvvIrb+IQ7U309Rwwz2JX3A7tpHOGSejbHxDkwt0+lov5685lvo7bxJEn0Xu2ZIwk8UgXvMM12e28liUgXgnGU8/aSvW8fcOU4F4H8TLN69zwsWAfifw+f/x3D5D4IgtAiW0C//QxCENYIgtAtKaBcFBbf4zQvAqchYUq6NB3dzz9riaBlcLi7jjdGAZYlyNC9Ve/mIxfrg3MvVnrXSlWV6sf2JWm6fCOQx8eT3L0cUkmN5puL8ic9nSeZHdsvlOOpfJFQdRH9/P9V1VdL7OzAwYHUPQ0NDVkGe5WXi+IeGhojRb2fxsOgVLYAAIVXzWJH4OTH67Xilf0RfXx/atIN0dLZz0BjKtpJnCE9fwAHDNto72unr62OT6Vl21c0iSruCkLJnKDEVsrb0RZaZXqe+bTrVrTfyS+dtlLXcTEf7DJrarqe1/Toudd3K+a4Z7Kh5gv7O6ZLo6xu2AMqP/OabHc7LRFqdx8KkCsDZS3l63mq3jrmzlzob7yeCZZl3aPgQP8+VXbNcEISjgiD0CyPjACooKIwDRQBeBa5GuBM59pw4FFzjaoWLEQNky3GWC1ouZANVSwD7ewaPHu0aEZw5JSdRih24N2GnVVYSsY1I3b/t9m97/1vsZHGRt79bFypl9hAt4rb3evHiRapqK2lubaa3t1cq91cvothUSGauQToXxycKv926UDxNHlbjD1NbLIq7dKH4qxfhe+QNmluaSMvW4q9eRKDmOwBKy4+wReWHZ947JGXpaWltYp8hgh21j9Lf309W8y2EJb9PXet02tpv4Fj7DSQ33kVL2zQudd3KhWFrn2jpky/7yo995odGzFGQaqn0OXUUK/vV4DcmABUUFK4BigC0g+gRa4s8n2paXjK7dCEjrtmq8rc6Hy1n6lRHFBHuiM7RlqHtIRdIosBpsbMkL87vwaRYWlqbR8y/SHVdFXlFV/ZyuZKer6S8yOpcno0jLS95RLk9nInA8eLo/XSVGnP1iO/8ZJY4Wy5evMjBpFirPYXi8yktP0Kg2rLvLa8om9yibJpbmqT5La0o5uLFizS3NLJVFcDh5H2We8i+IgrB8n719PTgo/uWg0lxJGRoOHbsKKUVxQSoPNmm/4b1w3sC9xkiCCx+GYAVCV+yv/pBNum+xTv/TSLL5rHbPIu4+gfZceRZolIXEFf/AIXNFseP3s6buDgs9EQBeKJjml3hJx51bde5/P7nFrm+X9AdJlMAznt8Kc/MXe3WMe9xRQAqKEw1JAFoL5Ctgn32GaOkz6MJiWthHXCXfcYol1NU2ebEHY/X9ETsgQNLfLaVum/GXM8r/coSqW1YFFuctW/PCjhelqR9NKEOBfGy4N1yIbdu2Ppob1uCreXx0qVL9PX1sU3tT29vL/39/dLzl2dgGRwclJZ4///27jw+ivL+A/i3rdXW2tu2CKgoiveBZz2qQAKk6u/ny1rFo2qtBypeeKAQhAiIgiEIiNx4cUhRZHdzJyQkhEuOHJCTkITc3CFAEiDh2z8ms042s7szO+fuft6v1/OC3Z195tknk+STmXmeR9TS0sKjtz/oPj7GbBzmDpHRa5/gmY5J3NTUJFwiTlrIYzOf4LGd8+8tzBvoPkv434K/ctyWe7ipqYmnFUbw6G0P8qLcATw1914en/wcz8t8iKdsv4fTK/rxt6mPc3zGd7xjT09urbuIG2ou5MO1ffiU5OyfknKyvq/hPx/VXko2NQDeNpYj/jZJU7n7trEIgAA2gzOAYcbbXHNaKJ1+RVx6TIn5zum8Ku0bVe2Iz/ze5+ueS895ntWpq6/l/Qf2KxpQIf7CVhPwpZ+/ra2NF7g+6baNkq+POJef9H47b+RG6nq+7i+Ai/cH7tu/zz0IpK2tTXb/c52xvDzpiy7ta21t5dmOj3i+M5ZdGat4YsIr7v770PUmMzNPTXuSZzs+ci//Jn7G9JwEXpmyhGN3RvKOonyOXf8A7yjK55WpS/nblIX8VfzbvHjHnbwkfRh/kzCB58W/zZ8UDuS5xXfyhoobeEb8q7w8aTFvqzqf48uv4j01Pfhk/cVcXdOn22APb6W6pgePzn+A6+prub6hrsuZZKsgAAKAVmEbAAM5U2XWFA9q6DHKdmLCy7xEEjz8TXYb6GS4Vt0wH6jKqgqe4/hY8fZqPt/EhFcCaRIzC0HV2zQvvtpQVl7idRqfhMzVss/HpCib91C65u/+zqC4cWuO+/0xKc/z4oSR7va3t7fzHKfQt0ePHuWYlOd5YdKLvLtiF9fV1/IP24R7BXcU5vGW7TlC+CzK56/W3cvxuTfzt7uu47jCCJ6c9ShHb36IZ2/+O+8oyuPPc+7llbuu52k7I/nbNQ/y5soL+GBtby6r7sF7a3pzRfV5vKemDx/vHPmrpFTV9OAZHsvlKf35IX6NvPVvoMwMgANuHcuRd0zSVAbcigAIYDdhGwDVKCkrZlfGqi7r7U5I9H+p0d8viUnxxi575nk/knT5LjN1dHToXueExBHuzyddU9auGhrqvfa/2D9yr0vX1BUdOHhAt3bJfe83NHhfzaW1tZXHrH+ky3PipeWPnaO7tK+otJCra6rdE0tL69+Su4mbm5t5inMUzyu5kw8ePMDjM55ynzVsbm7m6Y7x/EnRID5y5Ij7rOL4lOd4yfa7+L3c+3l+yR08NXEEryy9kZ2pc/nTooE8v+QOTt59OWdUXMqfFd3FuVXnc+zOwbxzz4XcXt+XG2p68sn6vn7P+nmWtLXdz0ZX11RzdU210q7WlakB8JZojrx9oqYy4JZoBEAAm7F9ALQqtPiStzOXmdl9Q/tC14wur3u7hOi5DJeUXqtGeDs7J537TWyf0aOVtTDibKHn9Cfi/X6eXz9/gyzS16d4bZ+38JRfKBwzDj9L7Xl+/fwd/74uAyeukZ+H0vPzSS/he7YvPSeZF7pmuI8ftWd/i0oLu90ikLczl1taWvjr+I+5orKcF7pm8Pot63hJwhRekTSbF6x5mOc5p/G4gv/jotJCjs0byp8UDmJHchx/Gf8Bz018ieMKI3hFWX9eUdafo/Pv54Ult/PC4ts5s+IS/jrzAd5c2Y+Tyq/h4urzeMeeq7i4+kJuqu3NTXUX8JG6Ptxa10dVAJQuB7dp+wZua2vj4tIir6ulGA0BEAC0sn0ADFbiIArPEbAlZcW80DVT9j1FpYV86NAhRfV7OwskTub7Xsa/ZV/3teqDP9JVIfQ8C+XJW/9Iqdn/exlPuf8vXnoVvz5ygx/EG/5PnDjRZXLkBSk/9qmS/cc5xrn/721ScHGbZQnyo5dFc5xT+fDhw+6vn9JBOsxdP7+oqamJ4xzj+MiRI3z69GluaWnpVr/42cXPKv36v7deuG9QfL94P+OhQ4c4OudR93biWtTLk77g6JxHeWLiCP4qfoL79Q9db3JzczPvP7Cf29vbeUHav/jYsWM8ZsMjHOsczVOco3hJ6a28quCvPGfbYI4puI8/j/+Md1eW86bNKVyypydvqbqAUysu4wUld3BWxSWct6cXV1Tu4g2l13JDTW8+WX8xt9T14fb6vtyiYvCHtGyovKjL55ejZjJuUSAj5JlNDoA3R3PkbRM1lQE3IwAC2I3pATCQ1TW0muoYbfo+mZn37tvLjXsb3VNdSFdM8OVD1xtdHnuOxpSTnpPMP+RuUt1GuUmZUzt/aRtJvGxoJrF/qqqruu1fuszZN0mLmJk5rnO+OWn/V+6p5NR1ie6v0da8H1TvX7ovT7Mck72+5uv4kTsTJTcF0SzH5G5noo8fP+6zTeJI3x9yN7k/PzPzd6lfdNlO+nPkY5nvOXE1lG+TF/DHjtGcuTGd1+Qk8LqNqfxt6lL355uw9nH+tOhunu2YxJ8V38XJWS6eVhjB36Us5ubmZl7kiuOpOwfzirIbOLOiHy8vu5FjCyN5SdnNnF/Vi/fX9uLtVb25tPo8zqvqwwdqhbV+j9YJAz7a6i9SHQAd5ddyQsaKbquoWMXMADjwpjE8+K8TNJWBN41BAASwGZwBtBmr7inyZ7WfS5d6m746pstjrWsQry6/hpeX3cjZFZfw0rKbODr/fv6q9BZeljCes0v6cXL5FRxfcAvHFUbwguI7eOrOwbyyrD8vKrmNvyy9lVN2X86Liv/GMwsH8tLE13lG7hCe6/yQp6U+zakZS3iB612eUTSQ07K/55iC+3hy3r2cnOXguvpaYaLi7O85MUuYUFn8t6GhjuvqazljnYvXblzDVdVVXdosDfRfxM/hmY6JXZbtq2+o48mdK5sUFOa53y+us/xR0nDOLdim6HJ6QWEeMzOv37yGHWtW8rFjx9y3OrgyVjGzEJybmpp41+4y9/7d/dt5fGRvyvS7zrNjzUrOzIlnZubcgm188uRJ9/6ZmXftLuOTJ09y3s5c98htsf7ELCfvKMrnOMd7PNsxxT0342TXGzw5fiRPK4zg6UXCcnApWat5rjOWs7JX8sLi2zll9xVcV9OT99b241P1fd3zASopiRnLu7TfG+nAHGn/KOHvDKMoc0MaAiAAaGZKAETABKutSP7KfdlUekYv1jnG/fr89MeY+cdly0Zve9D9eFXKfM4tEM72LUn4gNva2niK8x0+efIkR+cI7xPfvzz5xzNjH+Tdx8zMnzk+kl3DWNy/OMjB8/1KJqwWSeuPXve4z23lXve8HC53Fs+bFcndzyR3dHR0ab/nZetABwdJb2OIdY7ptkye9HXpUnPjU5/j+Zn/5Pb2dh6zcRjH5g/lsfn3c3z5ne6jVwAAEg1JREFUlRydfz9XVPdgV3l/Plp3AR/xWBJuSeICTUs4itPb+LNgzSP+N2KTzwDeOJoH3/q+pjLwxtEIgAA2gzOAYeSL+DlWNwFCjL81hL0xej1sf1avWeme0F0cpLIsaTEnZ8fz9rxNvCxpMU/OGsYJu6/k6Y4Y2dHYcpKz4w1rs5SpAfCG0Tz45vc1lYE3IAAC2A0CIKjiufKHHqTLvqkxT7L6RLCZ3Hl/od3Nd05XtOSdFoF+/aV8TV0j5Xn8iiPDJyS+xDuLd/D4lOc4ca2DmYUBLdvyNvP7SS+4t5c7i2sFBEAA0AoBUCM9fnnpwd/0IuEu0Mmrw9ksxySrm+Dm7+y15+vefqZ95Hzbax3i/bfivXizHJO4obG+y4AhX++X42tQjxZmBsBB/d/lITfFaCqD+r+LAAhgM7oFQDWjIQHA3nwt7yd3RlCP739/S/99Hv+Z7POe9wBKBXpJtrW1lcsrdvHn8bPd+23c28j79u2V3T5jQ6rs8/6IA2rUMjUAXv8uD7lxvKYy6HoEQAC7sf0ZQKXrzIYi8bMHsmwdGEduCbZwsddLANJqVdoKd91Hjx7V1Md6TjGU5mVKJL2OgU8cE/xvJAMBEAC0sn0ADCe5O7ZZ3QTNZjgmWt0Er8yYe1Dt57fi0rQ4+EGpTdvWq9q+prbG/0Y+eJvyZ6aNjy25+TSVUtu/zCYHwOve4SE3jNNUBl33DgIggM0gABpMOr0H2I84152V1Ez14k325rV+t8kIcNUJT+K8gErp8fn8yS348Y8nsX2ea2ErfX/K2h/vp/VWhxGDoURZmzL87t/UAHjNOzzk+nGayqBrEAAB7CbsA6B0njAAK8WkPN/lsdyxubN4h8/X9TDH+bEh9UopnfRYjhnts7s30x5EAAQATcI+AELwm7XaPqNVpbReClUje3OmafvyZpFrFjMzxzqjDdtHek4yZ2/KNKx+KaVz/1lx/Jl5BjDi6lE89Lr3NJWIq0chAALYDAKgTamdbgK02V1Z7vP1lOwEk1oSHtTej1lbZ16Y9ibQe0i1rB+8/8B+2edNDYBXvc1Drx2rqURc9TYCIIDNhEQAtMMvBwA1xDVug8Vi16eG1CsGHCWXhItLixRvq8b4tGe6PSddtk6Pny969x8CIABopUsA9DUPVzAI9vb783XiAqubAEEi0NGsW/OVzQMoTvUiN73Td2nL+bvUZd2el5sE2ozpoQKdo88MpgbAK9/ioddEayoRV76FAAhgMyFxBlAvpbtKrG4CqKRk9KvdWL0m8+r0/xpWt/S+x5wfsvxu39jYwMzhPbdiIEwNgFe8yUOvHqOpRFzxJgIggM0gAIJtieu02s3yZEztYyZfyy0ePHRQl31U7alkZmOnd9ETAiAAaIUACKbzdrnQ21Jf4a6lpcXqJgRsT80e1e9JXOs0oCVdzXZ8pPo9nsdnIJ9NL6YGwMve5KFXjtFUIi5DAASwm4ADoBmTu4Jy7e3tXW5cl3tdDT2+vlOc76ja/v3kFzTvMxR8IznDmJ6TbGFLzKP2+PQmJnm4LvVYxdf3sJSZATCy3xscdcVoTSWy3xsIgAA2gzOAAKCIdIUKb9PiVNdU67rPpUmLvb62afsGTXVv2a5+CTYlyspLDalXCgEQALQKmgC4MnWp1U0IK4HMeVZRuduAlhhP7ZlKf6y8NOjPLMcHitpnxrrJnrwdP3p/fULBwYMHzQuAl47kqMvf1VQiLx2JAAhgM0ETAAHCTZxjnKrti0oL+dSpUwa1Rp6RUyhJ617omtHtdX8jh9X236lTp7ikrFjVe6xi6hnAvq9zVL93NJXIvq8jAALYDAIg2MoyH5f8fFG6bFewSVuXaFjdqT7q1jrwxIhguCzpc93rDETezlxd6tESNhEAAUArBEAAUGSq812rm2CJjo4Oq5vQjakB8OLXOOrSUZpK5MWvIQAC2AwCIPg01zlN0+t2MDHhFaubEBI8J0rftM2YQRRaBMslXK3MDYCvctQlb2sqkRe/igAIYDMIgEFow9Ycq5sABjlw8ECXx5kb0ixqSXeJax1WN0EXm7dvtLoJmiEAAoBWCIBBKNTXLgZjTEwcEdD7mpubdW7Jj/zda7hmfars89FrnzCiOd1Mc441ZT9qmRoAL3qFo/q+palEXvQKAiCAzYRVADRivdGvEubpXicEP6MnShfr35a/xdD9qLV+yzrd68zoPAs6xTlK97oD4S2UmsnUAHjhyxx10ZuaSuSFLyMAAthMWAVA8E1cDzUYrUr7xuomWEIaAPX6Ayd9fUqXx2ZPLcPse/1fz/bJydyY7vN1XwFdSf1KNDY26FKPnPh0BwIgAGhiaQCMdUQbVrcRZ/tAm8KSnVY3AbxQO9G658+MEydOqN6nZ7DUY/JpXyN2tRx/SvpnYsLLAdevlqlnAC94iaP6jNRUIi94CQEQwGZwBhAU2VlcYHUTNLHjiFUrfJ24oNtz851xmuoMJPwptSptBTMzZ6xzGbYPO1mSuFDRdqYGwPNf5KgLX9dUIs9/EQEQwGYQAG3IlbnK6iYYpqy8xP9GMmrranRuiXdLExeZti/Ql+dVhWC6EqDmewMBEAC0sk0A9Jz+IpxYse6qFg0N9VY3IeTo0ae7K8v9btPa2qqqzs8cUwJtjpsex7dRx5y/z2fXFWZMDYC9XuCo81/TVCJ7vYAACGAztgmAAFYK5rnhvkn+0utrq9esZGZjRudqYdZURuk5yQG/d3X6f3Vsib5MDYA9h3NU71c1lciewxEAAWwGARBCSrisBKG3Ba5PFG2ntX+Vvt/z0q10vkC1A1asEucYZ1jdCIAAoBUCIFiqcW+j1U0wXeq6RNXv2VOzx4CWqFNZVcGVQTxVUCgxNQCeN5yjer2iqUSehwAIYDcIgGA73pY/q6quMrkloFRBYV5A78st2KZpv/5GzSodVasnueN37cY1ft83T8VobFMDYI/nOarny5pKZI/nEQABbMZvADR6RQNPp0+fNnV/0JWRU3rowYj2Rec8pnjb95Nf0H3/oUzJPXhq+h8ECIAAoBXOAJoonEc6G8Goy6Jb834wpN5wlL0p0+omhCRTA+Cfn+WoHi9pKpF/fhYBEMBmEACDUFV1FU92jbS6GczMPN853eom2MbO4h1WN8ErO1w+n+4Y3+VxWXlpQPXY4bNYzdQA+KdnOOovL2oqkX96BgEQwGYQAMEW9u3fZ3UTTPNlwlyrm+A2yzFZcx3BNo8lc/BfykcABACtEAAh7KzbvNbqJigWTKvChOIE4aW7Alu5xmimBsBz/8NRf35BU4k89z8IgAA2gwCokdqVFQBAGW/fW0Yu72b2oDfRItcsVdubGgD/8DRHnTtcU4n8w9MIgAA2gwDoobKqwuom2Eo4XZoNJ6dOnQrofdsLturcEggEAiAAaIUACEFvpmOS1U0IWE1tjdVNgCBkZgCM+P1TPPSPz2kqEb9/CgEQwGYQAEFXdh4JCxAqTA2Av3uSh/7+WU0l4ndPIgAC2AwCoE5waUwbV4Zxgx281S23egXOyHUnXYdXjfVbsgPepx6jk9U6eOig6fsMFAIgAGgV8gFw/4H9htVdVFpoWN0AoWCha6bVTQhJpgbA3z7BQ3/3jKYS8dsnEAABbCagAHj48GGDfqwBKIMlA+1Brz+wFrs+1aWecGFqAPz14zz0N09rKhG/fhwBEMBmQv4MoBna2toUbdfY2GBwSwKXu2Ob1U0AlYy8bG6Vxr2NVjchKCAAAoBWCIDM3NHRYeilYgAzfRE/x+ommCbbhpN6m9H/pgbAcx7job/+t6YScc5jCIAANhPSARDr1EI4OHbsmK71Ja51+ny9ck9lwHVXVO5WvK04KGOy642A9xeqzAyAg85+hIf86klNZdDZjyAAAthMQAEwHAc/FJcWWd0EAFNZeXbt+PHjlu3bHzssJYgACABahfQZwGBj9sAGuf3FJA/v8jjQFSPMYvf2gT46OjqsboKtmBoAfzmMh5z9hKYy6JfDEAABbAYBEACYmTlrU4bh+zh8+DCXlZcavp9QZ2oAPOthHvKLf2kqg856GAEQwGYQAAEUUnP/GgQ3LZNYmwEBEAC0QgAMUU1NTbLPG33JtKSs2ND6zaR0ep9Q5e0YYmbet3+fiS3R16IQmJza1AB45kM85KzHNJVBZz5kRQA8l4gOEdF/TNwngC28T0R1RHSUiNYS0VUy2yAAAgShRa5ZutV14sQJ3eoKR62trabv08wAOPCMf/Lgnz+qqQw8459WBMCZRLSaEAAhzLxNRHuI6EoiOouIJhNRLRGd7bEdAiBAkJruGO/+vzhlSmVVhd/3fZ0436gmgUkQAP26gogWEdE4QgCEMFNBRC9LHv+MiPYS0eMe2yEAmiA5OTng927YmtPtudq6mi6P29vbA64/FGjpXzvZtbvM6iZ4ZVUfh8uyk2r719QA+LN/8OAzhmkqA3/2D7MD4Coi6k1E4wkBEMLIb4joNBHd6vF8ChHFymyrOgBu3r5R1fbhbuTIkVY3ISAZG1KtboIidurfhMzVVjfBEHbq41Cktn/NDIADfvIAR/70YU1lwE8e8NXeYUSUTURHiKiDiH4qs42vW5peIKJMIvq+8/FQIvqw8/8IgBBWepMQAC/zeP4bIprv8RzOAJrAjF+e85xxhu/DrswMJ+E6H51cH8c6oi1oiblaWlpM2U+YB8DBJITAp0k+ACq9pUk0hogyiCiJiHYRUQERDdDSEQDBQvUZwJqaGj5y5EhQlyWrP7e8Dd7KiBEjVL9n8vJRlrfbzOJKWx3Q+7LWZwbUvyjKS0NDQ0B9vG5jluVtt2PJL8jr9pza/q2pqTEtAN5J9/AAul9TuZPuUdLeu0k+ACq9pUkO7gGEsCP3DbOPun/D9CLhmxIFBQUFJfhKLzLOL4ioQce2Huys05u7qXsAVHNCAwCI6C0iqiLhPolfknA/RA11P2X+ExJ+gPwGBQUFBSWoSi8SfoYb6Rc6ttdX+COSD4BqbmkCgE4xJPz1doy8zwMIAABgBzgDCAAAABBm5AIgkfJbmgAAAAAgSPyUhNG9Q0gIgGd3PhYvbyu9pQkAVFCyXBx0N56I2omomYS+ayaipZLXryWiLBIuv9d2bu8Jfd+Vv7nA9OhTJXWEKn/9e5qIWqjrMe3Zf+hf7z4kYbqRIyT00TIS7l+TwjEs7ykSjr+OziL+/y7JNjGEW5oAdKN2biX40XgSfpnKOYeI6oloEhGdSURXk/DX6muSbdD33fmaC0yPPlVSRyjzN9faaSIa6OP96F/fPiCi/kR0Bgn3rS0lolzJ6ziGAcA2tMytFO58BcCniKiRuv6CfZWECUlF6Hvv5O4D0qNPldQRDrzdZ3WaiAb5eB/6V53rSOjn33Y+xjEMALaAkVXajCfhEs1eIqok4a/9Pp2vxZEwA73UbST8MjiH0Pf+yAUUPfrUXx3hwlcArCei/US0lYielbyG/lVvFAmBToRjGABsAXMraXMlEZ3f+f/ziGgJCX+Fn01EC4loucf2l5PwQ7onoe/9kQsoevSpvzrChbcAOJCEy45nENHfiegQEQ3vfA39q04kCX8gDpY8h2MYAGwBZ6H0dSYRtZLwgx9nALXBGUBjeQuAnsYRUU7n/9G/yt1HRIeJ6P89nscxDAC2gbmV9CMGwMFE9CR1v0/nNfJ/rw/6XiAXULT06WMq6ggHagLgeslj9K9/j5MQ/iJlXsMxDAC2gbmVAvcQEf2x8/9/IaKvSPjh/SsS/hKvI6KJJCx9dA0RVVPXkXro++58zQWmR58qqSOU+erf/kR0AxH9nITQMYSEdVtHSN6P/vXtZRIum9/h5XUcwwBgKzGEuZUC4SBhAMgxEn5ALyWiiyWvX03CKOHjJNxY/55MHTGEvpfyNxeYHn2qpI5Q5at/7yOiIhLm/jtEwvQlz8nUEUPoX29OE9EJEvpQOpeiNBDiGAYAAAAAAAAAAAAAAAAAAAAAAAAAAAAAAAAAAAAAAAAAAAAAAAAAAAAAAAAAAAAAAAAAAAAAAAAAAAAAAAAAAAAAAAAAAAAAAAAAAAAAAAAAAAAAAAAAAAAAAAAAAAAAAAAAAAAAAAAAAAAAAAAAAAAAAAAAAAAAAAAAAAAAAAAAAAAAAAAAAAAAAAAAAAAAAAAAAAAAAAAAAAAAAAAAAAAAAAAAAAAAAAAAA/wPtt2eAIsJB4UAAAAASUVORK5CYII=\">"
      ],
      "text/plain": [
       "<IPython.core.display.HTML object>"
      ]
     },
     "metadata": {},
     "output_type": "display_data"
    }
   ],
   "source": [
    "fig, ax = plt.subplots()\n",
    "\n",
    "im=ax.imshow(imgsr[0], origin='lower' ,cmap='viridis',norm= LogNorm(vmin=0.0001,vmax=1E1))\n",
    "fig.colorbar(im)\n",
    "ax.set_title( 'imgsr0')\n",
    "plt.show()"
   ]
  },
  {
   "cell_type": "code",
   "execution_count": 26,
   "metadata": {
    "collapsed": false
   },
   "outputs": [
    {
     "name": "stderr",
     "output_type": "stream",
     "text": [
      "ERROR: File `'timeit.py'` not found.\n"
     ]
    }
   ],
   "source": [
    "#%run timeit"
   ]
  },
  {
   "cell_type": "code",
   "execution_count": null,
   "metadata": {
    "collapsed": false
   },
   "outputs": [],
   "source": [
    "#interact(view_image, i=(0, Nimg-1))"
   ]
  },
  {
   "cell_type": "code",
   "execution_count": null,
   "metadata": {
    "collapsed": true
   },
   "outputs": [],
   "source": [
    "#view_image_movie( imgsr,.1, 1000, 1001) "
   ]
  },
  {
   "cell_type": "markdown",
   "metadata": {},
   "source": [
    "### hey, let's see if any images are bad!"
   ]
  },
  {
   "cell_type": "markdown",
   "metadata": {},
   "source": [
    "### Get the Averaged Image Data"
   ]
  },
  {
   "cell_type": "code",
   "execution_count": 21,
   "metadata": {
    "collapsed": false
   },
   "outputs": [],
   "source": [
    "good_start = 0\n",
    "good_end= 100\n",
    "\n",
    "avg_img = np.average( imgs[good_start:good_end: 1], axis=0) #*imgs.md['pixel_mask']  #*mask_rh\n",
    "\n",
    "avg_img *=  mask"
   ]
  },
  {
   "cell_type": "code",
   "execution_count": null,
   "metadata": {
    "collapsed": false
   },
   "outputs": [],
   "source": [
    "#avg_img = average_img( imgsr,0, 2000 )"
   ]
  },
  {
   "cell_type": "code",
   "execution_count": null,
   "metadata": {
    "collapsed": false
   },
   "outputs": [],
   "source": [
    "avg_img  = avg_img[::-1,:] "
   ]
  },
  {
   "cell_type": "code",
   "execution_count": null,
   "metadata": {
    "collapsed": false
   },
   "outputs": [],
   "source": [
    "fig, ax = plt.subplots()\n",
    "#im=ax.imshow(alphaf, origin='lower' ,cmap='viridis',norm= LogNorm(vmin=0.0001,vmax=2.00))\n",
    "im=ax.imshow(avg_img, origin='lower' ,cmap='viridis',norm= LogNorm(vmin=0.0001,vmax=1E1))\n",
    "fig.colorbar(im)\n",
    "ax.set_title( 'avg_img_%s--%s'%(good_start, good_end))\n",
    "plt.show()"
   ]
  },
  {
   "cell_type": "markdown",
   "metadata": {},
   "source": [
    "## Plot the averged image with the mask"
   ]
  },
  {
   "cell_type": "code",
   "execution_count": null,
   "metadata": {
    "collapsed": false
   },
   "outputs": [],
   "source": [
    "print (avg_img.max())"
   ]
  },
  {
   "cell_type": "markdown",
   "metadata": {},
   "source": [
    "## Note:  experiment information \n",
    "\n",
    "* The physical size of the pixels\n",
    "* Wavelegth of the X-rays  - (units in Angstroms)\n",
    "* Detector to sample distance\n",
    "* Exposure time - (units in seconds)\n",
    "* acqusition period - (units in seconds)\n",
    "* dead time - (units in seconds)\n",
    "* time per frame = (exposure time + dead_time or acqusition period) - (units in seconds)"
   ]
  },
  {
   "cell_type": "code",
   "execution_count": null,
   "metadata": {
    "collapsed": false
   },
   "outputs": [],
   "source": [
    "#imgs.md"
   ]
  },
  {
   "cell_type": "code",
   "execution_count": null,
   "metadata": {
    "collapsed": false
   },
   "outputs": [],
   "source": [
    "# The physical size of the pixels\n",
    "dpix = imgs.md['x_pixel_size'] * 1000.  \n",
    "lambda_ = imgs.md['incident_wavelength']    # wavelegth of the X-rays in Angstroms\n",
    "Ldet = 4810        # detector to sample distance (mm)\n",
    "\n",
    "exposuretime= imgs.md['count_time']\n",
    "acquisition_period = imgs.md['frame_time']\n",
    "\n",
    "# deadtime= 0   # 60e-6 \n",
    "# timeperframe = exposuretime + deadtime\n",
    "timeperframe = acquisition_period  \n",
    "\n",
    "timeperframe, exposuretime"
   ]
  },
  {
   "cell_type": "markdown",
   "metadata": {},
   "source": [
    "## Import all the required packages for  Data Analysis\n",
    "\n",
    "* scikit-xray - data analysis tools for X-ray science \n",
    "    - https://github.com/scikit-xray/scikit-xray\n",
    "* xray-vision - plotting helper functions for X-ray science\n",
    "    - https://github.com/Nikea/xray-vision\n"
   ]
  },
  {
   "cell_type": "markdown",
   "metadata": {},
   "source": [
    "## Get the approximate center and see the statistic to make sure "
   ]
  },
  {
   "cell_type": "markdown",
   "metadata": {},
   "source": [
    "### Qz, Qr Average : to do!"
   ]
  },
  {
   "cell_type": "markdown",
   "metadata": {},
   "source": [
    "# GiSAXS get q-map (qz and qr)"
   ]
  },
  {
   "cell_type": "code",
   "execution_count": null,
   "metadata": {
    "collapsed": true
   },
   "outputs": [],
   "source": [
    "inc_x0 = 1871\n",
    "inc_y0 = 339\n",
    "refl_x0 = 1871\n",
    "refl_y0 = 811      #1670\n",
    "Lsd= 4.81\n",
    "lamda= lambda_  #12.4/9"
   ]
  },
  {
   "cell_type": "code",
   "execution_count": null,
   "metadata": {
    "collapsed": false
   },
   "outputs": [],
   "source": [
    "lamda"
   ]
  },
  {
   "cell_type": "code",
   "execution_count": null,
   "metadata": {
    "collapsed": false
   },
   "outputs": [],
   "source": [
    "#cd /home/yuzhang/chx-pipelines/Develops/"
   ]
  },
  {
   "cell_type": "code",
   "execution_count": null,
   "metadata": {
    "collapsed": true
   },
   "outputs": [],
   "source": [
    "#%run develop.py"
   ]
  },
  {
   "cell_type": "code",
   "execution_count": null,
   "metadata": {
    "collapsed": false
   },
   "outputs": [],
   "source": [
    "alphaf,thetaf, alphai, phi = get_reflected_angles( inc_x0, inc_y0,refl_x0 , refl_y0, Lsd=Lsd )"
   ]
  },
  {
   "cell_type": "code",
   "execution_count": null,
   "metadata": {
    "collapsed": false
   },
   "outputs": [],
   "source": [
    "qx, qy, qr, qz = convert_gisaxs_pixel_to_q( inc_x0, inc_y0,refl_x0,refl_y0, lamda=lamda, Lsd=Lsd )"
   ]
  },
  {
   "cell_type": "code",
   "execution_count": null,
   "metadata": {
    "collapsed": false
   },
   "outputs": [],
   "source": [
    "fig, ax = plt.subplots()\n",
    "#im=ax.imshow(alphaf, origin='lower' ,cmap='viridis',norm= LogNorm(vmin=0.0001,vmax=2.00))\n",
    "im=ax.imshow(alphaf*180/np.pi, origin='lower' ,cmap='viridis',vmin=-1,vmax= 1 )\n",
    "fig.colorbar(im)\n",
    "ax.set_title( 'alphaf')\n",
    "plt.show()"
   ]
  },
  {
   "cell_type": "code",
   "execution_count": null,
   "metadata": {
    "collapsed": false
   },
   "outputs": [],
   "source": [
    "fig, ax = plt.subplots()\n",
    "#im=ax.imshow(alphaf, origin='lower' ,cmap='viridis',norm= LogNorm(vmin=0.0001,vmax=2.00))\n",
    "im=ax.imshow(qr, origin='lower' ,cmap='viridis',vmin=qr.min(),vmax= qr.max() )\n",
    "fig.colorbar(im)\n",
    "ax.set_title( 'Q-Parallel')\n",
    "plt.show()"
   ]
  },
  {
   "cell_type": "code",
   "execution_count": null,
   "metadata": {
    "collapsed": false
   },
   "outputs": [],
   "source": [
    "fig, ax = plt.subplots()\n",
    "#im=ax.imshow(alphaf, origin='lower' ,cmap='viridis',norm= LogNorm(vmin=0.0001,vmax=2.00))\n",
    "im=ax.imshow(qz, origin='lower' ,cmap='viridis',vmin=qz.min(),vmax= qz.max() )\n",
    "fig.colorbar(im)\n",
    "ax.set_title( 'Q-z')\n",
    "plt.show()"
   ]
  },
  {
   "cell_type": "markdown",
   "metadata": {},
   "source": [
    "# get GiSAXS label array"
   ]
  },
  {
   "cell_type": "code",
   "execution_count": null,
   "metadata": {
    "collapsed": false
   },
   "outputs": [],
   "source": [
    "fig, ax = plt.subplots()\n",
    "im = ax.imshow(avg_img, cmap='viridis', origin = 'lower',  norm= LogNorm( vmin=0.00001, vmax=.5e2 ) )\n",
    "ax.set_title(\"Masked Averaged Image\")\n",
    "fig.colorbar(im)\n",
    "plt.show()"
   ]
  },
  {
   "cell_type": "markdown",
   "metadata": {},
   "source": [
    "# Get q||-intensity"
   ]
  },
  {
   "cell_type": "code",
   "execution_count": null,
   "metadata": {
    "collapsed": false
   },
   "outputs": [],
   "source": [
    "#bin_img = 500\n",
    "#Nbin = int( len(imgs)/bin_img )\n",
    "#[ (i*bin_img, (i+1)*bin_img) for i in range(Nbin)               ]\n",
    "#ave_img_series =  [   average_img( imgsr,i, i*bin_img )    for i in range(Nbin)                ]"
   ]
  },
  {
   "cell_type": "code",
   "execution_count": null,
   "metadata": {
    "collapsed": true
   },
   "outputs": [],
   "source": [
    "vert_rect = ( ( 850, 0, 980- 850, 1600-0) , ( 570, 0, 700- 570, 1600-0) )    #(y,x, hight, wdith)"
   ]
  },
  {
   "cell_type": "code",
   "execution_count": null,
   "metadata": {
    "collapsed": false,
    "scrolled": false
   },
   "outputs": [],
   "source": [
    "get_qr_intensity( qr, avg_img, vert_rect, show_roi=True)"
   ]
  },
  {
   "cell_type": "code",
   "execution_count": null,
   "metadata": {
    "collapsed": true
   },
   "outputs": [],
   "source": [
    "qz_start = qz[670,0]\n",
    "qz_end = qz[950,0]\n",
    "qz_num= 2\n",
    "\n",
    "\n",
    "qr_start =  qr[600,1700]\n",
    "qr_end = qr[600,0]\n",
    "qr_num = 15"
   ]
  },
  {
   "cell_type": "code",
   "execution_count": null,
   "metadata": {
    "collapsed": false
   },
   "outputs": [],
   "source": [
    "qr_edge, qr_center = get_qedge(qr_start , qr_end, ( qr_end- qr_start)/qr_num, qr_num )"
   ]
  },
  {
   "cell_type": "code",
   "execution_count": null,
   "metadata": {
    "collapsed": false
   },
   "outputs": [],
   "source": [
    "qz_edge, qz_center = get_qedge( qz_start,   qz_end,   (qz_end - qz_start)/(qz_num -0) , qz_num )"
   ]
  },
  {
   "cell_type": "code",
   "execution_count": null,
   "metadata": {
    "collapsed": false
   },
   "outputs": [],
   "source": [
    "label_array_qz = get_qmap_label( qz, qz_edge)\n",
    "label_array_qr = get_qmap_label( qr, qr_edge)\n",
    "label_array_qzr,qzc,qrc = get_qzrmap(label_array_qz, label_array_qr,qz_center, qr_center  )"
   ]
  },
  {
   "cell_type": "code",
   "execution_count": null,
   "metadata": {
    "collapsed": false
   },
   "outputs": [],
   "source": [
    "labels_qzr, indices_qzr = roi.extract_label_indices( label_array_qzr  )\n",
    "labels_qz, indices_qz = roi.extract_label_indices( label_array_qz  )\n",
    "labels_qr, indices_qr = roi.extract_label_indices( label_array_qr  )"
   ]
  },
  {
   "cell_type": "code",
   "execution_count": null,
   "metadata": {
    "collapsed": true
   },
   "outputs": [],
   "source": [
    "num_qz = len(np.unique( labels_qz ))\n",
    "num_qr = len(np.unique( labels_qr ))\n",
    "num_qzr = len(np.unique( labels_qzr ))"
   ]
  },
  {
   "cell_type": "code",
   "execution_count": null,
   "metadata": {
    "collapsed": false
   },
   "outputs": [],
   "source": [
    "num_qz,num_qr,num_qzr\n"
   ]
  },
  {
   "cell_type": "code",
   "execution_count": null,
   "metadata": {
    "collapsed": false
   },
   "outputs": [],
   "source": [
    "fig, ax = plt.subplots()\n",
    "#im=ax.imshow(alphaf, origin='lower' ,cmap='viridis',norm= LogNorm(vmin=0.0001,vmax=2.00))\n",
    "im=ax.imshow(label_array_qz, origin='lower' ,cmap='viridis',vmin=0,vmax= None )\n",
    "fig.colorbar(im)\n",
    "ax.set_title( 'Q-z_label')\n",
    "plt.show()"
   ]
  },
  {
   "cell_type": "code",
   "execution_count": null,
   "metadata": {
    "collapsed": false
   },
   "outputs": [],
   "source": [
    "fig, ax = plt.subplots()\n",
    "#im=ax.imshow(alphaf, origin='lower' ,cmap='viridis',norm= LogNorm(vmin=0.0001,vmax=2.00))\n",
    "im=ax.imshow(label_array_qr, origin='lower' ,cmap='viridis',vmin=0,vmax= None )\n",
    "fig.colorbar(im)\n",
    "ax.set_title( 'Q-r_label')\n",
    "plt.show()"
   ]
  },
  {
   "cell_type": "code",
   "execution_count": null,
   "metadata": {
    "collapsed": false
   },
   "outputs": [],
   "source": [
    "if True:\n",
    "    fig, ax = plt.subplots()\n",
    "    #im=ax.imshow(alphaf, origin='lower' ,cmap='viridis',norm= LogNorm(vmin=0.0001,vmax=2.00))\n",
    "    im=ax.imshow(label_array_qzr, origin='lower' ,cmap='viridis',vmin=0,vmax= None )\n",
    "    fig.colorbar(im)\n",
    "    ax.set_title( 'Q-zr_label')\n",
    "    plt.show()"
   ]
  },
  {
   "cell_type": "code",
   "execution_count": null,
   "metadata": {
    "collapsed": true
   },
   "outputs": [],
   "source": [
    "boxes = label_array_qzr \n",
    "box_mask = boxes*mask\n",
    "labels, indices = roi.extract_label_indices(box_mask)"
   ]
  },
  {
   "cell_type": "markdown",
   "metadata": {},
   "source": [
    "## Number of pixels in each q ring"
   ]
  },
  {
   "cell_type": "code",
   "execution_count": null,
   "metadata": {
    "collapsed": false
   },
   "outputs": [],
   "source": [
    "#ring_mask"
   ]
  },
  {
   "cell_type": "code",
   "execution_count": null,
   "metadata": {
    "collapsed": false
   },
   "outputs": [],
   "source": [
    "nopr = np.bincount( np.array(labels, dtype=int) )[1:]\n",
    "nopr"
   ]
  },
  {
   "cell_type": "markdown",
   "metadata": {},
   "source": [
    "# check one_qz_qr_region"
   ]
  },
  {
   "cell_type": "code",
   "execution_count": null,
   "metadata": {
    "collapsed": false
   },
   "outputs": [],
   "source": [
    "#%run develop.py"
   ]
  },
  {
   "cell_type": "code",
   "execution_count": null,
   "metadata": {
    "collapsed": false,
    "scrolled": false
   },
   "outputs": [],
   "source": [
    "\n",
    "# plot the figure\n",
    "fig, axes = plt.subplots(figsize=(8,8))\n",
    "axes.set_title(\"Labeled Array on Averaged Data\")\n",
    "im,im_label = show_label_array_on_image(axes, avg_img, box_mask, imshow_cmap='viridis',\n",
    "                        cmap='Paired',\n",
    "                         vmin=0.01, vmax=30. ,  origin=\"lower\")\n",
    "#rwidth = 200 \n",
    "#x1,x2 = [center[1] - rwidth, center[1] + rwidth]\n",
    "#y1,y2 = [center[0] - rwidth, center[0] + rwidth]\n",
    "#axes.set_xlim( [x1,x2])\n",
    "#axes.set_ylim( [y1,y2])\n",
    "\n",
    "#fig.colorbar(im)\n",
    "fig.colorbar(im_label)\n",
    "plt.show()"
   ]
  },
  {
   "cell_type": "markdown",
   "metadata": {},
   "source": [
    "##  Kymograph(waterfall plot) of the box"
   ]
  },
  {
   "cell_type": "code",
   "execution_count": null,
   "metadata": {
    "collapsed": false
   },
   "outputs": [],
   "source": [
    "#kymo = roi.kymograph(imgsr[::100], box_mask, num = 1)"
   ]
  },
  {
   "cell_type": "code",
   "execution_count": null,
   "metadata": {
    "collapsed": false
   },
   "outputs": [],
   "source": [
    "if False:\n",
    "    fig, ax = plt.subplots(figsize=(8,6))\n",
    "    ax.set_ylabel('Pixel')\n",
    "    ax.set_xlabel('Frame')\n",
    "    ax.set_title('Kymograph')\n",
    "\n",
    "    im = ax.imshow(kymo.T, cmap='viridis', vmax=10)\n",
    "    #fig.colorbar( im   )\n",
    "    ax.set_aspect(0.002)\n",
    "    plt.show()"
   ]
  },
  {
   "cell_type": "markdown",
   "metadata": {},
   "source": [
    "##  Mean intensities for each interested qz_qr"
   ]
  },
  {
   "cell_type": "code",
   "execution_count": null,
   "metadata": {
    "collapsed": true
   },
   "outputs": [],
   "source": [
    "#imgsr = Reverse_Coordinate(imgs, mask)    \n",
    "#masker = Masker( imgsr, mask)"
   ]
  },
  {
   "cell_type": "code",
   "execution_count": null,
   "metadata": {
    "collapsed": true
   },
   "outputs": [],
   "source": [
    "def mean_intensity(images, labeled_array, index=None):\n",
    "    import scipy.ndimage.measurements as ndim\n",
    "    \"\"\"Compute the mean intensity for each ROI in the image list\n",
    "\n",
    "    Parameters\n",
    "    ----------\n",
    "    images : list\n",
    "        List of images\n",
    "    labeled_array : array\n",
    "        labeled array; 0 is background.\n",
    "        Each ROI is represented by a nonzero integer. It is not required that\n",
    "        the ROI labels are contiguous\n",
    "    index : int, list, optional\n",
    "        The ROI's to use. If None, this function will extract averages for all\n",
    "        ROIs\n",
    "\n",
    "    Returns\n",
    "    -------\n",
    "    mean_intensity : array\n",
    "        The mean intensity of each ROI for all `images`\n",
    "        Dimensions:\n",
    "            len(mean_intensity) == len(index)\n",
    "            len(mean_intensity[0]) == len(images)\n",
    "    index : list\n",
    "        The labels for each element of the `mean_intensity` list\n",
    "    \"\"\"\n",
    "    if labeled_array.shape != images[0].shape[0:]:\n",
    "        raise ValueError(\n",
    "            \"`images` shape (%s) needs to be equal to the labeled_array shape\"\n",
    "            \"(%s)\" % (images[0].shape, labeled_array.shape))\n",
    "    # handle various input for `index`\n",
    "    if index is None:\n",
    "        index = list(np.unique(labeled_array))\n",
    "        index.remove(0)\n",
    "    try:\n",
    "        len(index)\n",
    "    except TypeError:\n",
    "        index = [index]\n",
    "    # pre-allocate an array for performance\n",
    "    # might be able to use list comprehension to make this faster\n",
    "    #mean_intensity = np.zeros((images.shape[0], len(index)))\n",
    "    mean_intensity = np.zeros(( len(images), len(index)))\n",
    "    for n, img in enumerate(images):\n",
    "        # use a mean that is mask-aware\n",
    "        mean_intensity[n] = ndim.mean(img, labeled_array, index=index)\n",
    "    return mean_intensity, index"
   ]
  },
  {
   "cell_type": "code",
   "execution_count": null,
   "metadata": {
    "collapsed": false
   },
   "outputs": [],
   "source": [
    "\n",
    "imgsr = Reverse_Coordinate(imgs, mask)  \n",
    "imgsr"
   ]
  },
  {
   "cell_type": "code",
   "execution_count": null,
   "metadata": {
    "collapsed": false
   },
   "outputs": [],
   "source": [
    "Nm=10000\n",
    "\n",
    "start_time = time.time()\n",
    "mask_data = imgsr[::Nm]  #make  masker[::1] will be very slow!\n",
    "mean_int_sets, index_list = roi.mean_intensity(mask_data, box_mask)\n",
    "elapsed_time = time.time() - start_time\n",
    "print ('Total time: %.2f min' %(elapsed_time/60.))"
   ]
  },
  {
   "cell_type": "code",
   "execution_count": null,
   "metadata": {
    "collapsed": false
   },
   "outputs": [],
   "source": [
    "if True:\n",
    "    times = np.arange( len(mean_int_sets)  )*Nm  # get the time for each frame\n",
    "\n",
    "    print (times.shape, mean_int_sets[:,1].shape)\n",
    "    #%matplotlib inline\n",
    "    fig, ax = plt.subplots(figsize=(8, 8))\n",
    "    ax.set_title(\"Mean intensity of each Qzr\")\n",
    "    for i in range(num_qzr):\n",
    "        ax.plot(times, mean_int_sets[:,i], label=\"Qzr \"+str(i+1))\n",
    "        ax.set_xlabel(\"Frames\")\n",
    "        ax.set_ylabel(\"Mean Intensity\")\n",
    "        ax.set_yscale('log')\n",
    "    ax.legend(fontsize=18) \n",
    "    plt.show()"
   ]
  },
  {
   "cell_type": "code",
   "execution_count": null,
   "metadata": {
    "collapsed": true
   },
   "outputs": [],
   "source": []
  },
  {
   "cell_type": "code",
   "execution_count": null,
   "metadata": {
    "collapsed": true
   },
   "outputs": [],
   "source": []
  },
  {
   "cell_type": "code",
   "execution_count": null,
   "metadata": {
    "collapsed": false
   },
   "outputs": [],
   "source": []
  },
  {
   "cell_type": "code",
   "execution_count": null,
   "metadata": {
    "collapsed": true
   },
   "outputs": [],
   "source": []
  },
  {
   "cell_type": "markdown",
   "metadata": {
    "collapsed": true
   },
   "source": [
    "## One time Correlation\n",
    "\n",
    "Note : Enter the number of levels and number of buffers for Muliti tau one time correlation\n",
    "number of buffers has to be even. More details in https://github.com/scikit-xray/scikit-xray/blob/master/skxray/core/correlation.py"
   ]
  },
  {
   "cell_type": "code",
   "execution_count": null,
   "metadata": {
    "collapsed": false
   },
   "outputs": [],
   "source": [
    "#ring_mask = np.array( ring_mask, dtype=int)"
   ]
  },
  {
   "cell_type": "code",
   "execution_count": null,
   "metadata": {
    "collapsed": true
   },
   "outputs": [],
   "source": [
    "good_start = 0\n",
    "good_end = 100 #2499\n",
    "#good_end = 6500"
   ]
  },
  {
   "cell_type": "code",
   "execution_count": null,
   "metadata": {
    "collapsed": false
   },
   "outputs": [],
   "source": [
    "imgs_ =imgs[good_start: good_end-1]"
   ]
  },
  {
   "cell_type": "code",
   "execution_count": null,
   "metadata": {
    "collapsed": true
   },
   "outputs": [],
   "source": [
    "imgsr2 = Reverse_Coordinate(imgs_, mask)    "
   ]
  },
  {
   "cell_type": "code",
   "execution_count": null,
   "metadata": {
    "collapsed": true
   },
   "outputs": [],
   "source": []
  },
  {
   "cell_type": "code",
   "execution_count": null,
   "metadata": {
    "collapsed": true
   },
   "outputs": [],
   "source": []
  },
  {
   "cell_type": "code",
   "execution_count": null,
   "metadata": {
    "collapsed": true
   },
   "outputs": [],
   "source": []
  },
  {
   "cell_type": "code",
   "execution_count": null,
   "metadata": {
    "collapsed": true
   },
   "outputs": [],
   "source": []
  },
  {
   "cell_type": "code",
   "execution_count": null,
   "metadata": {
    "collapsed": false
   },
   "outputs": [],
   "source": [
    "num_lev = 9  \n",
    "num_buf = 8\n",
    "\n",
    "g2, lag_steps = corr.multi_tau_auto_corr(num_lev, num_buf,  ring_mask, imgsr2)"
   ]
  },
  {
   "cell_type": "code",
   "execution_count": null,
   "metadata": {
    "collapsed": true
   },
   "outputs": [],
   "source": []
  },
  {
   "cell_type": "code",
   "execution_count": null,
   "metadata": {
    "collapsed": false
   },
   "outputs": [],
   "source": [
    "lags = lag_steps*timeperframe"
   ]
  },
  {
   "cell_type": "code",
   "execution_count": null,
   "metadata": {
    "collapsed": false
   },
   "outputs": [],
   "source": [
    "lag_steps"
   ]
  },
  {
   "cell_type": "code",
   "execution_count": null,
   "metadata": {
    "collapsed": false
   },
   "outputs": [],
   "source": [
    "g2.shape"
   ]
  },
  {
   "cell_type": "code",
   "execution_count": null,
   "metadata": {
    "collapsed": false
   },
   "outputs": [],
   "source": [
    "lag_steps.shape"
   ]
  },
  {
   "cell_type": "code",
   "execution_count": null,
   "metadata": {
    "collapsed": false
   },
   "outputs": [],
   "source": [
    "np.save( path + 'g2_%s-%s--%s'%(uid,good_start, good_end), g2)"
   ]
  },
  {
   "cell_type": "code",
   "execution_count": null,
   "metadata": {
    "collapsed": false
   },
   "outputs": [],
   "source": [
    "num_qr, num_qz, num_qzr"
   ]
  },
  {
   "cell_type": "markdown",
   "metadata": {},
   "source": [
    "### Plot the one time correlation functions"
   ]
  },
  {
   "cell_type": "code",
   "execution_count": null,
   "metadata": {
    "collapsed": false,
    "scrolled": false
   },
   "outputs": [],
   "source": [
    "\n",
    "for qz_ind in range(num_qz):\n",
    "    fig = plt.figure(figsize=(10, 8))\n",
    "    title_qz = ' Qz= %.5f  '%( qz_center[qz_ind]) + r'$\\AA^{-1}$' \n",
    "    plt.title('uid= %s:--->'%uid + title_qz,fontsize=20, y =1.1) \n",
    "    #print (qz_ind,title_qz)\n",
    "    plt.axis('off')\n",
    "    sx = int(round(np.sqrt(num_qr)) )\n",
    "    if num_qr%sx == 0: \n",
    "        sy = int(num_qr/sx)\n",
    "    else:\n",
    "        sy=int(num_qr/sx+1) \n",
    "    for sn in range(num_qr):\n",
    "        ax = fig.add_subplot(sx,sy,sn+1 )\n",
    "        ax.set_ylabel(\"g2\") \n",
    "        ax.set_title(\" Qr= \" + '%.5f  '%( qr_center[sn]) + r'$\\AA^{-1}$')\n",
    "        y=g2[:, sn + qz_ind * num_qr]\n",
    "        ax.semilogx(lags, y, '-o', markersize=6) \n",
    "        ax.set_ylim([min(y)*.95, max(y[1:])*1.05 ])\n",
    "    plt.show()\n",
    "    fig.tight_layout()  \n",
    "\n",
    "\n",
    "#np.save( path + 'g2_%s--%s'%(good_start, good_end), [lags,g2])\n",
    "#lags,g2 = np.load( path + 'g2_%s--%s.npy'%(good_start, good_end) )\n",
    "\n",
    "    "
   ]
  },
  {
   "cell_type": "code",
   "execution_count": null,
   "metadata": {
    "collapsed": true
   },
   "outputs": [],
   "source": []
  },
  {
   "cell_type": "markdown",
   "metadata": {
    "collapsed": true
   },
   "source": [
    "# Two time correlation"
   ]
  },
  {
   "cell_type": "code",
   "execution_count": null,
   "metadata": {
    "collapsed": true
   },
   "outputs": [],
   "source": [
    "#%run develop.py"
   ]
  },
  {
   "cell_type": "code",
   "execution_count": null,
   "metadata": {
    "collapsed": true
   },
   "outputs": [],
   "source": []
  },
  {
   "cell_type": "code",
   "execution_count": null,
   "metadata": {
    "collapsed": true
   },
   "outputs": [],
   "source": [
    "t0 = time.time()\n",
    "def run_time(t0):\n",
    "    elapsed_time = time.time() - t0\n",
    "    print ('Total time: %.2f min' %(elapsed_time/60.))   \n",
    "  "
   ]
  },
  {
   "cell_type": "code",
   "execution_count": null,
   "metadata": {
    "collapsed": false
   },
   "outputs": [],
   "source": [
    "t0 = time.time()\n",
    "#data = imgsr[::100]\n",
    "run_time( t0 )"
   ]
  },
  {
   "cell_type": "code",
   "execution_count": null,
   "metadata": {
    "collapsed": true
   },
   "outputs": [],
   "source": []
  },
  {
   "cell_type": "code",
   "execution_count": null,
   "metadata": {
    "collapsed": false
   },
   "outputs": [],
   "source": [
    "data.shape\n"
   ]
  },
  {
   "cell_type": "code",
   "execution_count": null,
   "metadata": {
    "collapsed": true
   },
   "outputs": [],
   "source": [
    "#dly = delays( num_lev=3, num_buf=4, time = 1  )"
   ]
  },
  {
   "cell_type": "code",
   "execution_count": null,
   "metadata": {
    "collapsed": true
   },
   "outputs": [],
   "source": [
    "#from two_time import *\n"
   ]
  },
  {
   "cell_type": "code",
   "execution_count": null,
   "metadata": {
    "collapsed": true
   },
   "outputs": [],
   "source": []
  },
  {
   "cell_type": "code",
   "execution_count": null,
   "metadata": {
    "collapsed": true
   },
   "outputs": [],
   "source": []
  },
  {
   "cell_type": "code",
   "execution_count": null,
   "metadata": {
    "collapsed": true
   },
   "outputs": [],
   "source": [
    "good_start= 0\n",
    "good_end = 100\n",
    "imgs_ =imgs[good_start: good_end-1]\n",
    "imgsr = Reverse_Coordinate(imgs_, mask) "
   ]
  },
  {
   "cell_type": "code",
   "execution_count": null,
   "metadata": {
    "collapsed": true
   },
   "outputs": [],
   "source": [
    "imgs_ =imgs[good_start: good_end-1]"
   ]
  },
  {
   "cell_type": "code",
   "execution_count": null,
   "metadata": {
    "collapsed": true
   },
   "outputs": [],
   "source": [
    "imgsr = Reverse_Coordinate(imgs_, mask)    "
   ]
  },
  {
   "cell_type": "code",
   "execution_count": null,
   "metadata": {
    "collapsed": false
   },
   "outputs": [],
   "source": [
    "%run develop.py\n",
    "%run two_time.py"
   ]
  },
  {
   "cell_type": "markdown",
   "metadata": {},
   "source": [
    "# A test of g12 calculation speed"
   ]
  },
  {
   "cell_type": "code",
   "execution_count": null,
   "metadata": {
    "collapsed": false
   },
   "outputs": [],
   "source": [
    "def get_box_mask( qr_num):\n",
    "    qz_start = qz[670,0]\n",
    "    qz_end = qz[950,0]\n",
    "    qz_num= 2\n",
    "\n",
    "    qr_start =  qr[600,1700]\n",
    "    qr_end = qr[600,0]\n",
    "    qr_num = qr_num\n",
    "    print ('The total q-num is: %s'%(qr_num*qz_num))\n",
    "\n",
    "    qr_edge, qr_center = get_qedge(qr_start , qr_end, ( qr_end- qr_start)/qr_num, qr_num )\n",
    "    qz_edge, qz_center = get_qedge( qz_start,   qz_end,   (qz_end - qz_start)/(qz_num -0) , qz_num )\n",
    "    label_array_qz = get_qmap_label( qz, qz_edge)\n",
    "    label_array_qr = get_qmap_label( qr, qr_edge)\n",
    "    label_array_qzr,qzc,qrc = get_qzrmap(label_array_qz, label_array_qr,qz_center, qr_center  )\n",
    "    boxes_mask = label_array_qzr *mask\n",
    "    return boxes_mask\n",
    "\n"
   ]
  },
  {
   "cell_type": "markdown",
   "metadata": {
    "collapsed": true
   },
   "source": [
    "### for buf=2,  as a function of noqs from 2 to 196"
   ]
  },
  {
   "cell_type": "code",
   "execution_count": null,
   "metadata": {
    "collapsed": false
   },
   "outputs": [],
   "source": [
    "num_buf =2\n",
    "qs = range(2,100,6)\n",
    "tms=[]\n",
    "for qr_num in qs:\n",
    "    g12,tm = autocor_two_time( num_buf=num_buf,  ring_mask=get_box_mask(qr_num),\n",
    "                       imgs = imgsr,  start_img= 0, end_img= None  )\n",
    "    tms.append(tm)\n",
    "    "
   ]
  },
  {
   "cell_type": "code",
   "execution_count": null,
   "metadata": {
    "collapsed": false
   },
   "outputs": [],
   "source": [
    "tms"
   ]
  },
  {
   "cell_type": "code",
   "execution_count": null,
   "metadata": {
    "collapsed": true
   },
   "outputs": [],
   "source": [
    "qs = range(2,100,6)"
   ]
  },
  {
   "cell_type": "code",
   "execution_count": null,
   "metadata": {
    "collapsed": false
   },
   "outputs": [],
   "source": [
    "tms =[0.13093440135320028,\n",
    " 0.17998536427815756,\n",
    " 0.18342777093251547,\n",
    " 0.18584118286768594,\n",
    " 0.1860461433728536,\n",
    " 0.19088710149129232,\n",
    " 0.19192461570103964,\n",
    " 0.19272053639094036,\n",
    " 0.19372636477152508,\n",
    " 0.19514618317286173,\n",
    " 0.19490898847579957,\n",
    " 0.19726393620173135,\n",
    " 0.1957791248957316,\n",
    " 0.19785298109054567,\n",
    " 0.19747522274653118,\n",
    " 0.20227790673573812,\n",
    " 0.1997849901517232]"
   ]
  },
  {
   "cell_type": "code",
   "execution_count": null,
   "metadata": {
    "collapsed": true
   },
   "outputs": [],
   "source": []
  },
  {
   "cell_type": "code",
   "execution_count": null,
   "metadata": {
    "collapsed": false
   },
   "outputs": [],
   "source": [
    "fig, ax = plt.subplots(figsize=(8, 8))\n",
    "ax.set_title(\"G12 cal-time ~ Q-number--buf=2,frames=100\")\n",
    "ax.plot(qs, tms, '--bo')\n",
    "ax.set_xlabel(\"Q Number\")\n",
    "ax.set_ylabel(\"Calculation time of G12\")\n",
    "plt.show()"
   ]
  },
  {
   "cell_type": "markdown",
   "metadata": {},
   "source": [
    "### for noqs=36,  as a function of buf number from 2 to 100"
   ]
  },
  {
   "cell_type": "code",
   "execution_count": null,
   "metadata": {
    "collapsed": false,
    "scrolled": false
   },
   "outputs": [],
   "source": [
    "qr_num = 18\n",
    "tms2=[] \n",
    "bufs = range(2,100,6)\n",
    "tms=[]\n",
    "for num_buf in bufs:\n",
    "    g12,tm = autocor_two_time( num_buf=num_buf,  ring_mask=get_box_mask(qr_num),\n",
    "                       imgs = imgsr,  start_img= 0, end_img= None  )\n",
    "    tms2.append(tm)\n",
    "    "
   ]
  },
  {
   "cell_type": "code",
   "execution_count": null,
   "metadata": {
    "collapsed": false
   },
   "outputs": [],
   "source": [
    "fig, ax = plt.subplots(figsize=(8, 8))\n",
    "ax.set_title(\"G12 cal-time ~ buf-number--noqs=36,frames=100\")\n",
    "ax.plot(bufs, tms2, '--bo')\n",
    "ax.set_xlabel(\"Buf Number\")\n",
    "ax.set_ylabel(\"Calculation time of G12\")\n",
    "plt.show()"
   ]
  },
  {
   "cell_type": "code",
   "execution_count": null,
   "metadata": {
    "collapsed": false
   },
   "outputs": [],
   "source": [
    "%run two_time.py"
   ]
  },
  {
   "cell_type": "code",
   "execution_count": null,
   "metadata": {
    "collapsed": true
   },
   "outputs": [],
   "source": [
    "##1000 frames, buf =2, as a function of q-number"
   ]
  },
  {
   "cell_type": "code",
   "execution_count": null,
   "metadata": {
    "collapsed": false
   },
   "outputs": [],
   "source": [
    "num_buf =2\n",
    "qs = range(2,100,6)\n",
    "tms3=[]\n",
    "for qr_num in qs:\n",
    "    #reload data\n",
    "    good_start= 0\n",
    "    good_end = 1000\n",
    "    imgs_ =imgs[good_start: good_end-1]\n",
    "    imgsr = Reverse_Coordinate(imgs_, mask)\n",
    "    #do  calculation\n",
    "    g12,tm = autocor_two_time( num_buf=num_buf,  ring_mask=get_box_mask(qr_num),\n",
    "                       imgs = imgsr,  start_img= 0, end_img= None  )\n",
    "    tms3.append(tm)\n",
    "    "
   ]
  },
  {
   "cell_type": "code",
   "execution_count": null,
   "metadata": {
    "collapsed": false
   },
   "outputs": [],
   "source": [
    "fig, ax = plt.subplots(figsize=(8, 8))\n",
    "ax.set_title(\"G12 cal-time ~ Q-number--buf=2,frames=1000\")\n",
    "ax.plot(qs, tms3, '--bo')\n",
    "ax.set_xlabel(\"Q Number\")\n",
    "ax.set_ylabel(\"Calculation time of G12 (min)\")\n",
    "plt.show()"
   ]
  },
  {
   "cell_type": "markdown",
   "metadata": {},
   "source": [
    "# 2500 frames, buf=8, lev=8, as function of q"
   ]
  },
  {
   "cell_type": "code",
   "execution_count": null,
   "metadata": {
    "collapsed": false
   },
   "outputs": [],
   "source": [
    "%run two_time.py"
   ]
  },
  {
   "cell_type": "code",
   "execution_count": null,
   "metadata": {
    "collapsed": false
   },
   "outputs": [],
   "source": [
    "num_buf =8\n",
    "num_lev = 8\n",
    "qs = range(2,100,12)\n",
    "tms4=[]\n",
    "for qr_num in qs:\n",
    "    #reload data\n",
    "    good_start= 0\n",
    "    good_end = 2500\n",
    "    imgs_ =imgs[good_start: good_end-1]\n",
    "    imgsr = Reverse_Coordinate(imgs_, mask)\n",
    "    #do  calculation\n",
    "    g12,tm = autocor_two_time( num_buf=num_buf,  num_lev=num_lev, ring_mask=get_box_mask(qr_num),\n",
    "                       imgs = imgsr,  start_img= 0, end_img= None  )\n",
    "    tms4.append(tm)"
   ]
  },
  {
   "cell_type": "code",
   "execution_count": null,
   "metadata": {
    "collapsed": true
   },
   "outputs": [],
   "source": [
    "fig, ax = plt.subplots(figsize=(8, 8))\n",
    "ax.set_title(\"G12 cal-time ~ Q-number--buf=8,lev=8,frames=2500\")\n",
    "ax.plot(qs, tms3, '--bo')\n",
    "ax.set_xlabel(\"Q Number\")\n",
    "ax.set_ylabel(\"Calculation time of G12 (min)\")\n",
    "plt.show()"
   ]
  },
  {
   "cell_type": "code",
   "execution_count": null,
   "metadata": {
    "collapsed": true
   },
   "outputs": [],
   "source": []
  },
  {
   "cell_type": "code",
   "execution_count": null,
   "metadata": {
    "collapsed": true
   },
   "outputs": [],
   "source": []
  },
  {
   "cell_type": "code",
   "execution_count": null,
   "metadata": {
    "collapsed": true
   },
   "outputs": [],
   "source": []
  },
  {
   "cell_type": "code",
   "execution_count": null,
   "metadata": {
    "collapsed": true
   },
   "outputs": [],
   "source": []
  },
  {
   "cell_type": "code",
   "execution_count": null,
   "metadata": {
    "collapsed": true
   },
   "outputs": [],
   "source": []
  },
  {
   "cell_type": "code",
   "execution_count": null,
   "metadata": {
    "collapsed": true
   },
   "outputs": [],
   "source": []
  },
  {
   "cell_type": "code",
   "execution_count": null,
   "metadata": {
    "collapsed": true
   },
   "outputs": [],
   "source": [
    "dly = delays(8,8)"
   ]
  },
  {
   "cell_type": "code",
   "execution_count": null,
   "metadata": {
    "collapsed": true
   },
   "outputs": [],
   "source": [
    "delays?"
   ]
  },
  {
   "cell_type": "code",
   "execution_count": null,
   "metadata": {
    "collapsed": false
   },
   "outputs": [],
   "source": [
    "dly"
   ]
  },
  {
   "cell_type": "code",
   "execution_count": null,
   "metadata": {
    "collapsed": true
   },
   "outputs": [],
   "source": []
  },
  {
   "cell_type": "code",
   "execution_count": null,
   "metadata": {
    "collapsed": false
   },
   "outputs": [],
   "source": [
    "g12,tm = autocor_two_time( num_buf= 30,  ring_mask=get_box_mask(18),\n",
    "                       imgs = imgsr,  start_img= 0, end_img= None  )"
   ]
  },
  {
   "cell_type": "code",
   "execution_count": null,
   "metadata": {
    "collapsed": false
   },
   "outputs": [],
   "source": [
    "g12,tm = autocor_two_time( num_buf= 2,  ring_mask=get_box_mask(18),\n",
    "                       imgs = imgsr,  start_img= 0, end_img= None  )"
   ]
  },
  {
   "cell_type": "code",
   "execution_count": null,
   "metadata": {
    "collapsed": false
   },
   "outputs": [],
   "source": [
    "g12,tm = autocor_two_time( num_buf= 30,  ring_mask=get_box_mask(18),\n",
    "                       imgs = imgs[0:100],  start_img= 0, end_img= None  )"
   ]
  },
  {
   "cell_type": "code",
   "execution_count": null,
   "metadata": {
    "collapsed": false
   },
   "outputs": [],
   "source": [
    "g12,tm = autocor_two_time( num_buf= 30,  ring_mask=get_box_mask(18),\n",
    "                       imgs = data,  start_img= 0, end_img= None  )"
   ]
  },
  {
   "cell_type": "code",
   "execution_count": null,
   "metadata": {
    "collapsed": true
   },
   "outputs": [],
   "source": []
  },
  {
   "cell_type": "code",
   "execution_count": null,
   "metadata": {
    "collapsed": true
   },
   "outputs": [],
   "source": [
    "good_start= 0\n",
    "good_end = 1000\n",
    "imgs_ =imgs[good_start: good_end-1]\n",
    "imgsr = Reverse_Coordinate(imgs_, mask) "
   ]
  },
  {
   "cell_type": "code",
   "execution_count": null,
   "metadata": {
    "collapsed": true
   },
   "outputs": [],
   "source": []
  },
  {
   "cell_type": "code",
   "execution_count": null,
   "metadata": {
    "collapsed": false
   },
   "outputs": [],
   "source": [
    "g12,tm = autocor_two_time( num_buf= 30,  ring_mask=get_box_mask(18),\n",
    "                       imgs = imgsr,  start_img= 0, end_img= None  )"
   ]
  },
  {
   "cell_type": "code",
   "execution_count": null,
   "metadata": {
    "collapsed": false
   },
   "outputs": [],
   "source": [
    "g12,tm = autocor_two_time( num_buf= 30,  ring_mask=get_box_mask(18),\n",
    "                       imgs = imgs_,  start_img= 0, end_img= None  )"
   ]
  },
  {
   "cell_type": "code",
   "execution_count": null,
   "metadata": {
    "collapsed": false
   },
   "outputs": [],
   "source": [
    "t0 = time.time()\n",
    "#data = imgsr[::100]\n",
    "data = imgsr[::1]\n",
    "run_time( t0 )"
   ]
  },
  {
   "cell_type": "code",
   "execution_count": null,
   "metadata": {
    "collapsed": false
   },
   "outputs": [],
   "source": [
    "g12,tm = autocor_two_time( num_buf= 30,  ring_mask=get_box_mask(18),\n",
    "                       imgs = data,  start_img= 0, end_img= None  )"
   ]
  },
  {
   "cell_type": "code",
   "execution_count": null,
   "metadata": {
    "collapsed": true
   },
   "outputs": [],
   "source": []
  },
  {
   "cell_type": "code",
   "execution_count": null,
   "metadata": {
    "collapsed": true
   },
   "outputs": [],
   "source": []
  },
  {
   "cell_type": "code",
   "execution_count": null,
   "metadata": {
    "collapsed": false
   },
   "outputs": [],
   "source": [
    "t0 = time.time()\n",
    "#data = imgsr[::100]\n",
    "data = imgsr[::1]\n",
    "run_time( t0 )"
   ]
  },
  {
   "cell_type": "code",
   "execution_count": null,
   "metadata": {
    "collapsed": false
   },
   "outputs": [],
   "source": [
    "data.shape"
   ]
  },
  {
   "cell_type": "code",
   "execution_count": null,
   "metadata": {
    "collapsed": true
   },
   "outputs": [],
   "source": [
    "data[0]"
   ]
  },
  {
   "cell_type": "code",
   "execution_count": null,
   "metadata": {
    "collapsed": true
   },
   "outputs": [],
   "source": []
  },
  {
   "cell_type": "code",
   "execution_count": null,
   "metadata": {
    "collapsed": true
   },
   "outputs": [],
   "source": []
  },
  {
   "cell_type": "code",
   "execution_count": null,
   "metadata": {
    "collapsed": false
   },
   "outputs": [],
   "source": [
    "imgs[0:100]"
   ]
  },
  {
   "cell_type": "code",
   "execution_count": null,
   "metadata": {
    "collapsed": true
   },
   "outputs": [],
   "source": []
  },
  {
   "cell_type": "code",
   "execution_count": null,
   "metadata": {
    "collapsed": true
   },
   "outputs": [],
   "source": []
  },
  {
   "cell_type": "code",
   "execution_count": null,
   "metadata": {
    "collapsed": true
   },
   "outputs": [],
   "source": []
  },
  {
   "cell_type": "code",
   "execution_count": null,
   "metadata": {
    "collapsed": true
   },
   "outputs": [],
   "source": []
  },
  {
   "cell_type": "code",
   "execution_count": null,
   "metadata": {
    "collapsed": false
   },
   "outputs": [],
   "source": [
    "g12,tm = autocor_two_time(num_lev=1, num_buf= 50,  ring_mask=get_box_mask(18),\n",
    "                       imgs = imgsr,  start_img= 0, end_img= None  )"
   ]
  },
  {
   "cell_type": "code",
   "execution_count": null,
   "metadata": {
    "collapsed": true
   },
   "outputs": [],
   "source": []
  },
  {
   "cell_type": "code",
   "execution_count": null,
   "metadata": {
    "collapsed": true
   },
   "outputs": [],
   "source": []
  },
  {
   "cell_type": "code",
   "execution_count": null,
   "metadata": {
    "collapsed": true
   },
   "outputs": [],
   "source": []
  },
  {
   "cell_type": "code",
   "execution_count": null,
   "metadata": {
    "collapsed": true
   },
   "outputs": [],
   "source": [
    "num_buf=  4"
   ]
  },
  {
   "cell_type": "code",
   "execution_count": null,
   "metadata": {
    "collapsed": false
   },
   "outputs": [],
   "source": [
    "qs = range(2,100,6)"
   ]
  },
  {
   "cell_type": "code",
   "execution_count": null,
   "metadata": {
    "collapsed": false
   },
   "outputs": [],
   "source": [
    "qs"
   ]
  },
  {
   "cell_type": "code",
   "execution_count": null,
   "metadata": {
    "collapsed": true
   },
   "outputs": [],
   "source": []
  },
  {
   "cell_type": "code",
   "execution_count": null,
   "metadata": {
    "collapsed": true
   },
   "outputs": [],
   "source": []
  },
  {
   "cell_type": "code",
   "execution_count": null,
   "metadata": {
    "collapsed": false,
    "scrolled": false
   },
   "outputs": [],
   "source": [
    "g12 = autocor_two_time(num_lev=10, num_buf= num_buf,  ring_mask=box_mask,\n",
    "                       imgs = imgsr,  start_img= 0, end_img= None  )\n",
    "#np.save( path + 'g12_%s_%s_%s--buf=%s'%(uid ,good_start, good_end, num_buf), g12)"
   ]
  },
  {
   "cell_type": "markdown",
   "metadata": {},
   "source": [
    "# for buf=4, noqs = 36"
   ]
  },
  {
   "cell_type": "code",
   "execution_count": null,
   "metadata": {
    "collapsed": false
   },
   "outputs": [],
   "source": [
    "qz_start = qz[670,0]\n",
    "qz_end = qz[950,0]\n",
    "qz_num= 2\n",
    "\n",
    "qr_start =  qr[600,1700]\n",
    "qr_end = qr[600,0]\n",
    "qr_num = 18\n",
    "\n",
    "qr_edge, qr_center = get_qedge(qr_start , qr_end, ( qr_end- qr_start)/qr_num, qr_num )\n",
    "qz_edge, qz_center = get_qedge( qz_start,   qz_end,   (qz_end - qz_start)/(qz_num -0) , qz_num )\n",
    "label_array_qz = get_qmap_label( qz, qz_edge)\n",
    "label_array_qr = get_qmap_label( qr, qr_edge)\n",
    "label_array_qzr,qzc,qrc = get_qzrmap(label_array_qz, label_array_qr,qz_center, qr_center  )\n",
    "boxes_mask = label_array_qzr *mask"
   ]
  },
  {
   "cell_type": "code",
   "execution_count": null,
   "metadata": {
    "collapsed": false
   },
   "outputs": [],
   "source": [
    "g12 = autocor_two_time(num_lev=10, num_buf= num_buf,  ring_mask=box_mask,\n",
    "                       imgs = imgs_,  start_img= 0, end_img= None  )\n",
    "#np.save( path + 'g12_%s_%s_%s--buf=%s'%(uid ,good_start, good_end, num_buf), g12)"
   ]
  },
  {
   "cell_type": "markdown",
   "metadata": {},
   "source": [
    "# for buf=20, noqs = 36"
   ]
  },
  {
   "cell_type": "code",
   "execution_count": null,
   "metadata": {
    "collapsed": true
   },
   "outputs": [],
   "source": [
    "num_buf=  20"
   ]
  },
  {
   "cell_type": "code",
   "execution_count": null,
   "metadata": {
    "collapsed": false
   },
   "outputs": [],
   "source": [
    "qz_start = qz[670,0]\n",
    "qz_end = qz[950,0]\n",
    "qz_num= 2\n",
    "\n",
    "qr_start =  qr[600,1700]\n",
    "qr_end = qr[600,0]\n",
    "qr_num = 18\n",
    "\n",
    "qr_edge, qr_center = get_qedge(qr_start , qr_end, ( qr_end- qr_start)/qr_num, qr_num )\n",
    "qz_edge, qz_center = get_qedge( qz_start,   qz_end,   (qz_end - qz_start)/(qz_num -0) , qz_num )\n",
    "label_array_qz = get_qmap_label( qz, qz_edge)\n",
    "label_array_qr = get_qmap_label( qr, qr_edge)\n",
    "label_array_qzr,qzc,qrc = get_qzrmap(label_array_qz, label_array_qr,qz_center, qr_center  )\n",
    "boxes_mask = label_array_qzr *mask"
   ]
  },
  {
   "cell_type": "code",
   "execution_count": null,
   "metadata": {
    "collapsed": false
   },
   "outputs": [],
   "source": [
    "g12 = autocor_two_time(num_lev=10, num_buf= num_buf,  ring_mask=box_mask,\n",
    "                       imgs = imgs_,  start_img= 0, end_img= None  )\n"
   ]
  },
  {
   "cell_type": "code",
   "execution_count": null,
   "metadata": {
    "collapsed": true
   },
   "outputs": [],
   "source": []
  },
  {
   "cell_type": "code",
   "execution_count": null,
   "metadata": {
    "collapsed": true
   },
   "outputs": [],
   "source": []
  },
  {
   "cell_type": "code",
   "execution_count": null,
   "metadata": {
    "collapsed": true
   },
   "outputs": [],
   "source": []
  },
  {
   "cell_type": "code",
   "execution_count": null,
   "metadata": {
    "collapsed": true
   },
   "outputs": [],
   "source": []
  },
  {
   "cell_type": "code",
   "execution_count": null,
   "metadata": {
    "collapsed": true
   },
   "outputs": [],
   "source": []
  },
  {
   "cell_type": "code",
   "execution_count": null,
   "metadata": {
    "collapsed": true
   },
   "outputs": [],
   "source": []
  },
  {
   "cell_type": "code",
   "execution_count": null,
   "metadata": {
    "collapsed": true
   },
   "outputs": [],
   "source": [
    "# for buf=20, noqs = 36"
   ]
  },
  {
   "cell_type": "code",
   "execution_count": null,
   "metadata": {
    "collapsed": true
   },
   "outputs": [],
   "source": []
  },
  {
   "cell_type": "code",
   "execution_count": null,
   "metadata": {
    "collapsed": true
   },
   "outputs": [],
   "source": []
  },
  {
   "cell_type": "code",
   "execution_count": null,
   "metadata": {
    "collapsed": false
   },
   "outputs": [],
   "source": [
    "nopr"
   ]
  },
  {
   "cell_type": "code",
   "execution_count": null,
   "metadata": {
    "collapsed": true
   },
   "outputs": [],
   "source": [
    "def interp_zeros(  data ): \n",
    "    from scipy.interpolate import interp1d\n",
    "    gf = data.ravel() \n",
    "    indice, = gf.nonzero() \n",
    "    start, stop = indice[0], indice[-1]+1 \n",
    "    dx,dy = data.shape \n",
    "    x=np.arange( dx*dy ) \n",
    "    f = interp1d(x[indice], gf[indice]) \n",
    "    gf[start:stop] = f(x[start:stop]) \n",
    "    return gf.reshape([dx,dy]) \n",
    " \n",
    "\n",
    " "
   ]
  },
  {
   "cell_type": "code",
   "execution_count": null,
   "metadata": {
    "collapsed": false,
    "scrolled": true
   },
   "outputs": [],
   "source": [
    "\n",
    "#g12 = np.load( path + 'g12_%s_%s_%s--buf=%s.npy'%(uid, good_start, good_end,num_buf))"
   ]
  },
  {
   "cell_type": "code",
   "execution_count": null,
   "metadata": {
    "collapsed": false
   },
   "outputs": [],
   "source": [
    "N12 = 18\n",
    "\n",
    "data = g12[:,:,N12]\n",
    "data = interp_zeros( data )\n",
    "\n",
    "fig, ax = plt.subplots()\n",
    "im=ax.imshow( data, origin='lower' , cmap='viridis', \n",
    "             norm= LogNorm( vmin=1.0, vmax= 1.2 ) )\n",
    "fig.colorbar(im)\n",
    "plt.show()"
   ]
  },
  {
   "cell_type": "code",
   "execution_count": null,
   "metadata": {
    "collapsed": false
   },
   "outputs": [],
   "source": [
    "N12 = 18\n",
    "\n",
    "fig, ax = plt.subplots()\n",
    "im=ax.imshow(g12[:,:,N12], origin='lower' , cmap='viridis', \n",
    "             norm= LogNorm( vmin=1.0, vmax= 1.2 ) )\n",
    "fig.colorbar(im)\n",
    "plt.show()"
   ]
  },
  {
   "cell_type": "code",
   "execution_count": null,
   "metadata": {
    "collapsed": true
   },
   "outputs": [],
   "source": []
  },
  {
   "cell_type": "code",
   "execution_count": null,
   "metadata": {
    "collapsed": true
   },
   "outputs": [],
   "source": []
  },
  {
   "cell_type": "code",
   "execution_count": null,
   "metadata": {
    "collapsed": true
   },
   "outputs": [],
   "source": []
  },
  {
   "cell_type": "code",
   "execution_count": null,
   "metadata": {
    "collapsed": true
   },
   "outputs": [],
   "source": [
    "%run two_time.py"
   ]
  },
  {
   "cell_type": "code",
   "execution_count": null,
   "metadata": {
    "collapsed": true
   },
   "outputs": [],
   "source": [
    "    good_start= 0\n",
    "    good_end = 1000\n",
    "    imgs_ =imgs[good_start: good_end-1]\n",
    "    imgsr = Reverse_Coordinate(imgs_, mask)"
   ]
  },
  {
   "cell_type": "code",
   "execution_count": null,
   "metadata": {
    "collapsed": false
   },
   "outputs": [],
   "source": [
    "box_mask=get_box_mask(5)"
   ]
  },
  {
   "cell_type": "code",
   "execution_count": null,
   "metadata": {
    "collapsed": true
   },
   "outputs": [],
   "source": [
    "qind, pixelist = roi.extract_label_indices(   box_mask  )"
   ]
  },
  {
   "cell_type": "code",
   "execution_count": null,
   "metadata": {
    "collapsed": true
   },
   "outputs": [],
   "source": [
    "seg1 =   Get_Pixel_Array( imgsr, pixelist).get_data()"
   ]
  },
  {
   "cell_type": "code",
   "execution_count": null,
   "metadata": {
    "collapsed": false
   },
   "outputs": [],
   "source": [
    "seg1.shape"
   ]
  },
  {
   "cell_type": "code",
   "execution_count": null,
   "metadata": {
    "collapsed": false
   },
   "outputs": [],
   "source": [
    "g12 = autocor_arrays_two_time( seg1, pixelist,qind, seg2=None,                         \n",
    "                            get_half=True,get_whole =True, up_half= True,\n",
    "            print_=True,    )"
   ]
  },
  {
   "cell_type": "code",
   "execution_count": null,
   "metadata": {
    "collapsed": false
   },
   "outputs": [],
   "source": [
    "fig, ax = plt.subplots(figsize=(8,8))\n",
    "ax.set_title(\"G12_1000_Frames\")\n",
    "i= 5\n",
    "vmin =  g12[:,:,i].min() +.0001\n",
    "vmax=g12[:,:,i].max()\n",
    "\n",
    "im = ax.imshow(g12[:,:,i], cmap='viridis',  origin=\"lower\",\n",
    "               norm= LogNorm(vmin,vmax))\n",
    "               #vmin=vmin,vmax=vmax,)\n",
    "fig.colorbar(im) \n",
    "plt.show()"
   ]
  },
  {
   "cell_type": "code",
   "execution_count": null,
   "metadata": {
    "collapsed": true
   },
   "outputs": [],
   "source": [
    "%run two_time.py\n",
    "%run develop.py"
   ]
  },
  {
   "cell_type": "code",
   "execution_count": null,
   "metadata": {
    "collapsed": true
   },
   "outputs": [],
   "source": [
    "    good_start= 0\n",
    "    good_end = 500\n",
    "    imgs_ =imgs[good_start: good_end-1]\n",
    "    imgsr = Reverse_Coordinate(imgs_, mask)"
   ]
  },
  {
   "cell_type": "code",
   "execution_count": null,
   "metadata": {
    "collapsed": false
   },
   "outputs": [],
   "source": [
    "box_mask=get_box_mask(  15 )\n",
    "qind, pixelist = roi.extract_label_indices(   box_mask  )\n"
   ]
  },
  {
   "cell_type": "code",
   "execution_count": null,
   "metadata": {
    "collapsed": false
   },
   "outputs": [],
   "source": [
    " "
   ]
  },
  {
   "cell_type": "code",
   "execution_count": null,
   "metadata": {
    "collapsed": false
   },
   "outputs": [],
   "source": [
    "if False:\n",
    "    fig, axes = plt.subplots(figsize=(8,8))\n",
    "    axes.set_title(\"Labeled Array on Averaged Data\")\n",
    "    im,im_label = show_label_array_on_image(axes, avg_img, box_mask, imshow_cmap='viridis',\n",
    "                        cmap='Paired',   vmin=0.01, vmax=30. ,  origin=\"lower\")\n",
    "\n",
    "    fig.colorbar(im_label)\n",
    "    plt.show()"
   ]
  },
  {
   "cell_type": "code",
   "execution_count": null,
   "metadata": {
    "collapsed": true
   },
   "outputs": [],
   "source": [
    "seg1 =   Get_Pixel_Array( imgsr, pixelist).get_data()"
   ]
  },
  {
   "cell_type": "code",
   "execution_count": null,
   "metadata": {
    "collapsed": false
   },
   "outputs": [],
   "source": [
    "seg1.shape"
   ]
  },
  {
   "cell_type": "code",
   "execution_count": null,
   "metadata": {
    "collapsed": false
   },
   "outputs": [],
   "source": [
    "g12 = autocor_arrays_two_time( seg1, pixelist,qind, seg2=None,                         \n",
    "                            get_half=True,get_whole =True, up_half= True,\n",
    "            print_=True,    )"
   ]
  },
  {
   "cell_type": "code",
   "execution_count": null,
   "metadata": {
    "collapsed": false
   },
   "outputs": [],
   "source": [
    "fig, ax = plt.subplots(figsize=(8,8))\n",
    "ax.set_title(\"G12_500_Frames\")\n",
    "i= 16\n",
    "vmin =  g12[:,:,i].min() +.0001\n",
    "vmax=g12[:,:,i].max()\n",
    "\n",
    "im = ax.imshow(g12[:,:,i], cmap='viridis',  origin=\"lower\",\n",
    "               norm= LogNorm(vmin,vmax))\n",
    "               #vmin=vmin,vmax=vmax,)\n",
    "fig.colorbar(im) \n",
    "plt.show()"
   ]
  },
  {
   "cell_type": "code",
   "execution_count": null,
   "metadata": {
    "collapsed": false
   },
   "outputs": [],
   "source": [
    "%run two_time.py\n",
    "%run develop.py"
   ]
  },
  {
   "cell_type": "code",
   "execution_count": null,
   "metadata": {
    "collapsed": false
   },
   "outputs": [],
   "source": [
    "good_start= 0\n",
    "good_end = 100\n",
    "imgs_ =imgs[good_start: good_end-1]\n",
    "imgsr = Reverse_Coordinate(imgs_, mask=None)\n",
    "box_mask=get_box_mask(  15 )\n",
    "qind, pixelist = roi.extract_label_indices(   box_mask  )\n",
    "    \n",
    "    "
   ]
  },
  {
   "cell_type": "code",
   "execution_count": null,
   "metadata": {
    "collapsed": false
   },
   "outputs": [],
   "source": [
    "seg1 =   Get_Pixel_Array( imgsr, pixelist).get_data()"
   ]
  },
  {
   "cell_type": "code",
   "execution_count": null,
   "metadata": {
    "collapsed": false
   },
   "outputs": [],
   "source": [
    "seg1.shape"
   ]
  },
  {
   "cell_type": "code",
   "execution_count": null,
   "metadata": {
    "collapsed": true
   },
   "outputs": [],
   "source": []
  },
  {
   "cell_type": "code",
   "execution_count": null,
   "metadata": {
    "collapsed": false
   },
   "outputs": [],
   "source": [
    "pixelist_q1 = pixelist[ np.where( qind ==1)[0] ]"
   ]
  },
  {
   "cell_type": "code",
   "execution_count": null,
   "metadata": {
    "collapsed": true
   },
   "outputs": [],
   "source": [
    "seg_q1 =   Get_Pixel_Array( imgsr, pixelist_q1).get_data()"
   ]
  },
  {
   "cell_type": "code",
   "execution_count": null,
   "metadata": {
    "collapsed": false
   },
   "outputs": [],
   "source": [
    "nopr_q1 = len(pixelist_q1)"
   ]
  },
  {
   "cell_type": "code",
   "execution_count": null,
   "metadata": {
    "collapsed": true
   },
   "outputs": [],
   "source": [
    "sum1 = (np.average( seg_q1, axis=1)).reshape( 1, seg_q1.shape[0]   )  "
   ]
  },
  {
   "cell_type": "code",
   "execution_count": null,
   "metadata": {
    "collapsed": false
   },
   "outputs": [],
   "source": [
    "np.average( seg_q1[0]  )"
   ]
  },
  {
   "cell_type": "code",
   "execution_count": null,
   "metadata": {
    "collapsed": false
   },
   "outputs": [],
   "source": [
    "sum1[0,0]"
   ]
  },
  {
   "cell_type": "code",
   "execution_count": null,
   "metadata": {
    "collapsed": false
   },
   "outputs": [],
   "source": [
    "sum1 == sum2.T"
   ]
  },
  {
   "cell_type": "code",
   "execution_count": null,
   "metadata": {
    "collapsed": true
   },
   "outputs": [],
   "source": [
    "sum2 = (np.average( seg_q1, axis=1)).reshape(   seg_q1.shape[0],1   ) "
   ]
  },
  {
   "cell_type": "code",
   "execution_count": null,
   "metadata": {
    "collapsed": false
   },
   "outputs": [],
   "source": [
    "sum3 = (   ( np.sum( seg1.T, axis=0) ).reshape(  seg1.shape[0] ,1  ) )/nopr_q1"
   ]
  },
  {
   "cell_type": "code",
   "execution_count": null,
   "metadata": {
    "collapsed": false
   },
   "outputs": [],
   "source": [
    "#sum2==sum3"
   ]
  },
  {
   "cell_type": "code",
   "execution_count": null,
   "metadata": {
    "collapsed": false
   },
   "outputs": [],
   "source": [
    "sum2.shape"
   ]
  },
  {
   "cell_type": "code",
   "execution_count": null,
   "metadata": {
    "collapsed": false
   },
   "outputs": [],
   "source": [
    "sum1.shape"
   ]
  },
  {
   "cell_type": "code",
   "execution_count": null,
   "metadata": {
    "collapsed": true
   },
   "outputs": [],
   "source": [
    "#seg_q1 =   Get_Pixel_Array( imgsr, pixelist_q1).get_data()"
   ]
  },
  {
   "cell_type": "code",
   "execution_count": null,
   "metadata": {
    "collapsed": false
   },
   "outputs": [],
   "source": [
    "seg_q1.shape"
   ]
  },
  {
   "cell_type": "code",
   "execution_count": null,
   "metadata": {
    "collapsed": false
   },
   "outputs": [],
   "source": [
    "#np.dot(   seg_q1, seg_q1.T)"
   ]
  },
  {
   "cell_type": "code",
   "execution_count": null,
   "metadata": {
    "collapsed": false
   },
   "outputs": [],
   "source": [
    "m= np.dot(   seg_q1, seg_q1.T)  /sum1  / sum2  / nopr_q1\n"
   ]
  },
  {
   "cell_type": "code",
   "execution_count": null,
   "metadata": {
    "collapsed": false
   },
   "outputs": [],
   "source": [
    "nopr_q1"
   ]
  },
  {
   "cell_type": "code",
   "execution_count": null,
   "metadata": {
    "collapsed": false
   },
   "outputs": [],
   "source": [
    "m"
   ]
  },
  {
   "cell_type": "code",
   "execution_count": null,
   "metadata": {
    "collapsed": false
   },
   "outputs": [],
   "source": [
    "m/g12[:,:,0]"
   ]
  },
  {
   "cell_type": "code",
   "execution_count": null,
   "metadata": {
    "collapsed": false
   },
   "outputs": [],
   "source": [
    "m"
   ]
  },
  {
   "cell_type": "code",
   "execution_count": null,
   "metadata": {
    "collapsed": false
   },
   "outputs": [],
   "source": [
    "g12[:,:,0]"
   ]
  },
  {
   "cell_type": "code",
   "execution_count": null,
   "metadata": {
    "collapsed": false
   },
   "outputs": [],
   "source": [
    "( m == g12[:,:,0] ).all()"
   ]
  },
  {
   "cell_type": "code",
   "execution_count": null,
   "metadata": {
    "collapsed": false
   },
   "outputs": [],
   "source": [
    "np.sum( m - g12[:,:,0] )  "
   ]
  },
  {
   "cell_type": "code",
   "execution_count": null,
   "metadata": {
    "collapsed": false
   },
   "outputs": [],
   "source": [
    "np.where( m - g12[:,:,0] >1E-14)"
   ]
  },
  {
   "cell_type": "code",
   "execution_count": null,
   "metadata": {
    "collapsed": true
   },
   "outputs": [],
   "source": []
  },
  {
   "cell_type": "code",
   "execution_count": null,
   "metadata": {
    "collapsed": false
   },
   "outputs": [],
   "source": [
    "g12 = autocor_arrays_two_time( seg1, pixelist,qind, seg2=None,                         \n",
    "                            get_half=True,get_whole =True, up_half= True,\n",
    "            print_=True,    )"
   ]
  },
  {
   "cell_type": "code",
   "execution_count": null,
   "metadata": {
    "collapsed": true
   },
   "outputs": [],
   "source": []
  },
  {
   "cell_type": "code",
   "execution_count": null,
   "metadata": {
    "collapsed": true
   },
   "outputs": [],
   "source": []
  },
  {
   "cell_type": "code",
   "execution_count": null,
   "metadata": {
    "collapsed": false
   },
   "outputs": [],
   "source": [
    "d.shape"
   ]
  },
  {
   "cell_type": "code",
   "execution_count": null,
   "metadata": {
    "collapsed": false
   },
   "outputs": [],
   "source": [
    "fig, ax = plt.subplots(figsize=(8,8))\n",
    "ax.set_title(\"G12_500_Frames\")\n",
    "i= 0\n",
    "#d =  g12[:,:,i]\n",
    "\n",
    "d=m\n",
    "\n",
    "vmin = d.min() + 1E-9\n",
    "vmax= d.max()\n",
    "\n",
    "\n",
    "im = ax.imshow(d, cmap='viridis',  origin=\"lower\",\n",
    "               norm= LogNorm(vmin,vmax))\n",
    "               #vmin=vmin,vmax=vmax,)\n",
    "fig.colorbar(im) \n",
    "plt.show()"
   ]
  },
  {
   "cell_type": "code",
   "execution_count": null,
   "metadata": {
    "collapsed": true
   },
   "outputs": [],
   "source": []
  },
  {
   "cell_type": "code",
   "execution_count": null,
   "metadata": {
    "collapsed": true
   },
   "outputs": [],
   "source": []
  },
  {
   "cell_type": "code",
   "execution_count": null,
   "metadata": {
    "collapsed": true
   },
   "outputs": [],
   "source": []
  },
  {
   "cell_type": "code",
   "execution_count": null,
   "metadata": {
    "collapsed": false
   },
   "outputs": [],
   "source": [
    "x= np.array( [  [1,2,3,4],[5,6,7,8],[9,10,11,12] ] )"
   ]
  },
  {
   "cell_type": "code",
   "execution_count": null,
   "metadata": {
    "collapsed": true
   },
   "outputs": [],
   "source": [
    "x= np.array( [  [1,2,3,4] ])"
   ]
  },
  {
   "cell_type": "code",
   "execution_count": null,
   "metadata": {
    "collapsed": true
   },
   "outputs": [],
   "source": [
    "y=x.T"
   ]
  },
  {
   "cell_type": "code",
   "execution_count": null,
   "metadata": {
    "collapsed": false
   },
   "outputs": [],
   "source": [
    "x.shape"
   ]
  },
  {
   "cell_type": "code",
   "execution_count": null,
   "metadata": {
    "collapsed": false
   },
   "outputs": [],
   "source": [
    "y.shape"
   ]
  },
  {
   "cell_type": "code",
   "execution_count": null,
   "metadata": {
    "collapsed": false
   },
   "outputs": [],
   "source": [
    "x"
   ]
  },
  {
   "cell_type": "code",
   "execution_count": null,
   "metadata": {
    "collapsed": false
   },
   "outputs": [],
   "source": [
    "y"
   ]
  },
  {
   "cell_type": "code",
   "execution_count": null,
   "metadata": {
    "collapsed": false
   },
   "outputs": [],
   "source": [
    "np.dot( x, y)"
   ]
  },
  {
   "cell_type": "code",
   "execution_count": null,
   "metadata": {
    "collapsed": false
   },
   "outputs": [],
   "source": [
    "t= x*y"
   ]
  },
  {
   "cell_type": "code",
   "execution_count": null,
   "metadata": {
    "collapsed": false
   },
   "outputs": [],
   "source": [
    "t"
   ]
  },
  {
   "cell_type": "code",
   "execution_count": null,
   "metadata": {
    "collapsed": false
   },
   "outputs": [],
   "source": [
    "t/ yy"
   ]
  },
  {
   "cell_type": "code",
   "execution_count": null,
   "metadata": {
    "collapsed": false
   },
   "outputs": [],
   "source": [
    "t/xx"
   ]
  },
  {
   "cell_type": "code",
   "execution_count": null,
   "metadata": {
    "collapsed": true
   },
   "outputs": [],
   "source": [
    "yy = (np.array( [1,2,3,4])).reshape( 4,1 )"
   ]
  },
  {
   "cell_type": "code",
   "execution_count": null,
   "metadata": {
    "collapsed": true
   },
   "outputs": [],
   "source": [
    "xx = ((np.array( [1,2,3,4]))).T.reshape( 1,4 )"
   ]
  },
  {
   "cell_type": "code",
   "execution_count": null,
   "metadata": {
    "collapsed": false
   },
   "outputs": [],
   "source": [
    "xx"
   ]
  },
  {
   "cell_type": "code",
   "execution_count": null,
   "metadata": {
    "collapsed": false
   },
   "outputs": [],
   "source": [
    "yy"
   ]
  },
  {
   "cell_type": "code",
   "execution_count": null,
   "metadata": {
    "collapsed": true
   },
   "outputs": [],
   "source": []
  },
  {
   "cell_type": "code",
   "execution_count": null,
   "metadata": {
    "collapsed": false
   },
   "outputs": [],
   "source": [
    "xx.shape"
   ]
  },
  {
   "cell_type": "code",
   "execution_count": null,
   "metadata": {
    "collapsed": false
   },
   "outputs": [],
   "source": [
    "yy.shape"
   ]
  },
  {
   "cell_type": "code",
   "execution_count": null,
   "metadata": {
    "collapsed": false
   },
   "outputs": [],
   "source": [
    "y*x"
   ]
  },
  {
   "cell_type": "code",
   "execution_count": null,
   "metadata": {
    "collapsed": true
   },
   "outputs": [],
   "source": []
  },
  {
   "cell_type": "code",
   "execution_count": null,
   "metadata": {
    "collapsed": true
   },
   "outputs": [],
   "source": []
  },
  {
   "cell_type": "code",
   "execution_count": null,
   "metadata": {
    "collapsed": true
   },
   "outputs": [],
   "source": []
  },
  {
   "cell_type": "code",
   "execution_count": null,
   "metadata": {
    "collapsed": true
   },
   "outputs": [],
   "source": []
  },
  {
   "cell_type": "code",
   "execution_count": null,
   "metadata": {
    "collapsed": true
   },
   "outputs": [],
   "source": []
  },
  {
   "cell_type": "code",
   "execution_count": null,
   "metadata": {
    "collapsed": true
   },
   "outputs": [],
   "source": []
  },
  {
   "cell_type": "code",
   "execution_count": null,
   "metadata": {
    "collapsed": false
   },
   "outputs": [],
   "source": [
    "g12L  = autocor_large_arrays_two_time( imgs_, pixelist, qind, divide= 4,  \n",
    "                                     only_one_nodia=False,  get_whole=True,print_=True  )"
   ]
  },
  {
   "cell_type": "code",
   "execution_count": null,
   "metadata": {
    "collapsed": false
   },
   "outputs": [],
   "source": [
    "len( imgs_ )"
   ]
  },
  {
   "cell_type": "code",
   "execution_count": null,
   "metadata": {
    "collapsed": true
   },
   "outputs": [],
   "source": []
  },
  {
   "cell_type": "code",
   "execution_count": null,
   "metadata": {
    "collapsed": false
   },
   "outputs": [],
   "source": [
    "if False: \n",
    "    good_start= 0\n",
    "    good_end = 501\n",
    "    imgs_ =imgs[good_start: good_end-1]\n",
    "    imgsr = Reverse_Coordinate(imgs_, mask)\n",
    "    box_mask=get_box_mask(  15 )\n",
    "    qind, pixelist = roi.extract_label_indices(   box_mask  )\n",
    "    seg1 =   Get_Pixel_Array( imgsr, pixelist).get_data()"
   ]
  },
  {
   "cell_type": "code",
   "execution_count": null,
   "metadata": {
    "collapsed": true
   },
   "outputs": [],
   "source": []
  },
  {
   "cell_type": "code",
   "execution_count": null,
   "metadata": {
    "collapsed": false
   },
   "outputs": [],
   "source": [
    "g12 = autocor_arrays_two_time( seg1, pixelist,qind, seg2=None,                         \n",
    "                            get_half=True,get_whole =True, up_half= True,\n",
    "            print_=True,    )"
   ]
  },
  {
   "cell_type": "code",
   "execution_count": null,
   "metadata": {
    "collapsed": false
   },
   "outputs": [],
   "source": [
    "for i in range(30):\n",
    "    print (  (g12[:,:,i] ==g12L[:,:,i]).all() )"
   ]
  },
  {
   "cell_type": "code",
   "execution_count": null,
   "metadata": {
    "collapsed": false
   },
   "outputs": [],
   "source": [
    "g12L.shape"
   ]
  },
  {
   "cell_type": "code",
   "execution_count": null,
   "metadata": {
    "collapsed": false
   },
   "outputs": [],
   "source": [
    "g12.shape"
   ]
  },
  {
   "cell_type": "code",
   "execution_count": null,
   "metadata": {
    "collapsed": true
   },
   "outputs": [],
   "source": []
  },
  {
   "cell_type": "code",
   "execution_count": null,
   "metadata": {
    "collapsed": true
   },
   "outputs": [],
   "source": []
  },
  {
   "cell_type": "code",
   "execution_count": null,
   "metadata": {
    "collapsed": true
   },
   "outputs": [],
   "source": []
  },
  {
   "cell_type": "code",
   "execution_count": null,
   "metadata": {
    "collapsed": false
   },
   "outputs": [],
   "source": [
    "fig, ax = plt.subplots(figsize=(8,8))\n",
    "ax.set_title(\"G12_500_Frames\")\n",
    "i= 16\n",
    "vmin =  g12L[:,:,i].min() +.0001\n",
    "vmax=g12L[:,:,i].max()\n",
    "\n",
    "im = ax.imshow(g12[:,:,i], cmap='viridis',  origin=\"lower\",\n",
    "               norm= LogNorm(vmin,vmax))\n",
    "               #vmin=vmin,vmax=vmax,)\n",
    "fig.colorbar(im) \n",
    "plt.show()"
   ]
  },
  {
   "cell_type": "code",
   "execution_count": null,
   "metadata": {
    "collapsed": false
   },
   "outputs": [],
   "source": [
    "fig, ax = plt.subplots(figsize=(8,8))\n",
    "ax.set_title(\"G12_500_Frames\")\n",
    "i= 1\n",
    "vmin =  g12[:,:,i].min() +.0001\n",
    "vmax=g12[:,:,i].max()\n",
    "\n",
    "im = ax.imshow(g12[:,:,i], cmap='viridis',  origin=\"lower\",\n",
    "               norm= LogNorm(vmin,vmax))\n",
    "               #vmin=vmin,vmax=vmax,)\n",
    "fig.colorbar(im) \n",
    "plt.show()"
   ]
  },
  {
   "cell_type": "code",
   "execution_count": null,
   "metadata": {
    "collapsed": true
   },
   "outputs": [],
   "source": []
  },
  {
   "cell_type": "code",
   "execution_count": null,
   "metadata": {
    "collapsed": true
   },
   "outputs": [],
   "source": []
  },
  {
   "cell_type": "code",
   "execution_count": null,
   "metadata": {
    "collapsed": true
   },
   "outputs": [],
   "source": []
  },
  {
   "cell_type": "code",
   "execution_count": null,
   "metadata": {
    "collapsed": true
   },
   "outputs": [],
   "source": []
  },
  {
   "cell_type": "code",
   "execution_count": null,
   "metadata": {
    "collapsed": true
   },
   "outputs": [],
   "source": []
  },
  {
   "cell_type": "code",
   "execution_count": null,
   "metadata": {
    "collapsed": true
   },
   "outputs": [],
   "source": []
  },
  {
   "cell_type": "code",
   "execution_count": null,
   "metadata": {
    "collapsed": true
   },
   "outputs": [],
   "source": []
  },
  {
   "cell_type": "code",
   "execution_count": null,
   "metadata": {
    "collapsed": false
   },
   "outputs": [],
   "source": [
    "fig, ax = plt.subplots(figsize=(8,8))\n",
    "ax.set_title(\"G12_1000_Frames\")\n",
    "i= 0\n",
    "vmin = 13 # g12[:,:,i].min() +.0001\n",
    "vmax= 16\n",
    "\n",
    "im = ax.imshow(y1, cmap='viridis',  origin=\"lower\",\n",
    "               norm= LogNorm(vmin,vmax))\n",
    "               #vmin=vmin,vmax=vmax,)\n",
    "fig.colorbar(im) \n",
    "plt.show()"
   ]
  },
  {
   "cell_type": "code",
   "execution_count": null,
   "metadata": {
    "collapsed": true
   },
   "outputs": [],
   "source": []
  },
  {
   "cell_type": "code",
   "execution_count": null,
   "metadata": {
    "collapsed": true
   },
   "outputs": [],
   "source": []
  },
  {
   "cell_type": "code",
   "execution_count": null,
   "metadata": {
    "collapsed": true
   },
   "outputs": [],
   "source": []
  },
  {
   "cell_type": "code",
   "execution_count": null,
   "metadata": {
    "collapsed": true
   },
   "outputs": [],
   "source": []
  },
  {
   "cell_type": "code",
   "execution_count": null,
   "metadata": {
    "collapsed": true
   },
   "outputs": [],
   "source": []
  },
  {
   "cell_type": "code",
   "execution_count": null,
   "metadata": {
    "collapsed": true
   },
   "outputs": [],
   "source": []
  },
  {
   "cell_type": "code",
   "execution_count": null,
   "metadata": {
    "collapsed": true
   },
   "outputs": [],
   "source": []
  },
  {
   "cell_type": "code",
   "execution_count": null,
   "metadata": {
    "collapsed": true
   },
   "outputs": [],
   "source": []
  },
  {
   "cell_type": "code",
   "execution_count": null,
   "metadata": {
    "collapsed": true
   },
   "outputs": [],
   "source": []
  },
  {
   "cell_type": "code",
   "execution_count": null,
   "metadata": {
    "collapsed": true
   },
   "outputs": [],
   "source": []
  },
  {
   "cell_type": "code",
   "execution_count": null,
   "metadata": {
    "collapsed": true
   },
   "outputs": [],
   "source": []
  },
  {
   "cell_type": "code",
   "execution_count": null,
   "metadata": {
    "collapsed": true
   },
   "outputs": [],
   "source": []
  },
  {
   "cell_type": "code",
   "execution_count": null,
   "metadata": {
    "collapsed": true
   },
   "outputs": [],
   "source": []
  },
  {
   "cell_type": "code",
   "execution_count": null,
   "metadata": {
    "collapsed": true
   },
   "outputs": [],
   "source": []
  },
  {
   "cell_type": "code",
   "execution_count": null,
   "metadata": {
    "collapsed": true
   },
   "outputs": [],
   "source": []
  },
  {
   "cell_type": "code",
   "execution_count": null,
   "metadata": {
    "collapsed": true
   },
   "outputs": [],
   "source": []
  },
  {
   "cell_type": "code",
   "execution_count": null,
   "metadata": {
    "collapsed": true
   },
   "outputs": [],
   "source": []
  }
 ],
 "metadata": {
  "kernelspec": {
   "display_name": "ENV: user_analysis on xf11id-srv1",
   "language": "python",
   "name": "env_user_analysis"
  },
  "language_info": {
   "codemirror_mode": {
    "name": "ipython",
    "version": 3
   },
   "file_extension": ".py",
   "mimetype": "text/x-python",
   "name": "python",
   "nbconvert_exporter": "python",
   "pygments_lexer": "ipython3",
   "version": "3.4.3"
  }
 },
 "nbformat": 4,
 "nbformat_minor": 0
}
