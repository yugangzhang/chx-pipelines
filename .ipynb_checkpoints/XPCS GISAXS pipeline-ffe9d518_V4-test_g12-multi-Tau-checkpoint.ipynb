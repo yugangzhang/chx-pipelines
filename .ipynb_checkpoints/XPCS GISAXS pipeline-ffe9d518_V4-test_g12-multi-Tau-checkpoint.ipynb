{
 "cells": [
  {
   "cell_type": "markdown",
   "metadata": {},
   "source": [
    "#  XPCS   Pipeline "
   ]
  },
  {
   "cell_type": "markdown",
   "metadata": {},
   "source": [
    " \"This notebook corresponds to version {{ version }} of the pipeline tool: https://github.com/NSLS-II/pipelines\""
   ]
  },
  {
   "cell_type": "markdown",
   "metadata": {},
   "source": [
    "## NSLS2 data retrieval imports"
   ]
  },
  {
   "cell_type": "code",
   "execution_count": 1,
   "metadata": {
    "collapsed": false
   },
   "outputs": [
    {
     "name": "stderr",
     "output_type": "stream",
     "text": [
      "/home/yuzhang/.conda/envs/user_analysis/lib/python3.4/site-packages/IPython/html.py:14: ShimWarning: The `IPython.html` package has been deprecated. You should import from `notebook` instead. `IPython.html.widgets` has moved to `ipywidgets`.\n",
      "  \"`IPython.html.widgets` has moved to `ipywidgets`.\", ShimWarning)\n"
     ]
    }
   ],
   "source": [
    "import sys, shutil\n",
    "EssCod_PATH='/home/yuzhang/chx-pipelines/Develops/'\n",
    "EssCod_PATH in sys.path or sys.path.append(EssCod_PATH)\n",
    "from develop import * "
   ]
  },
  {
   "cell_type": "code",
   "execution_count": 2,
   "metadata": {
    "collapsed": false
   },
   "outputs": [
    {
     "name": "stdout",
     "output_type": "stream",
     "text": [
      "/home/yuzhang/chx-pipelines/Develops\n"
     ]
    }
   ],
   "source": [
    "cd /home/yuzhang/chx-pipelines/Develops/"
   ]
  },
  {
   "cell_type": "code",
   "execution_count": 3,
   "metadata": {
    "collapsed": false
   },
   "outputs": [],
   "source": [
    "\n",
    "%matplotlib notebook"
   ]
  },
  {
   "cell_type": "markdown",
   "metadata": {},
   "source": [
    "### Lazy Eiger Handler (later will goto databroker)"
   ]
  },
  {
   "cell_type": "markdown",
   "metadata": {},
   "source": [
    "### Get the events from the uid"
   ]
  },
  {
   "cell_type": "code",
   "execution_count": null,
   "metadata": {
    "collapsed": false
   },
   "outputs": [],
   "source": [
    "uid = 'c423e856'\n",
    "\n",
    "uid = '528bd8'\n",
    "uid = '54614d43'\n",
    "uid = '95782687'\n",
    "uid= 'fa5fdae'\n",
    "\n",
    "uid = 'ff9f20c0'\n",
    "uid='71720966'\n",
    "uid = '377dad97' # Deposition at 6 mTorr\n",
    "#uid = 'bece0b55' # Presputter for 6 mTorr\n",
    "uid = '4d82cc38'  # 10 mTorr 0.2 fps 2500 frames\n",
    "uid = 'ffe9d518'  # 10 mTorr 0.2 fps 2500 frames\n",
    "hdr = db[uid]"
   ]
  },
  {
   "cell_type": "code",
   "execution_count": null,
   "metadata": {
    "collapsed": false
   },
   "outputs": [],
   "source": [
    "#hdr\n",
    "import uuid\n",
    "print(str(uuid.uuid4()))"
   ]
  },
  {
   "cell_type": "code",
   "execution_count": null,
   "metadata": {
    "collapsed": false,
    "scrolled": false
   },
   "outputs": [],
   "source": [
    "ev, = get_events(hdr, ['eiger_4M_cam_img_image_lightfield'], fill = True)"
   ]
  },
  {
   "cell_type": "code",
   "execution_count": null,
   "metadata": {
    "collapsed": false
   },
   "outputs": [],
   "source": [
    "\n",
    "dt = datetime.fromtimestamp(hdr['start'].time)\n",
    "path ='/XF11ID/analysis' + '/%s/%s/%s/' % (dt.year, dt.month, dt.day)\n",
    "path"
   ]
  },
  {
   "cell_type": "code",
   "execution_count": null,
   "metadata": {
    "collapsed": false
   },
   "outputs": [],
   "source": [
    "imgs = ev['data']['eiger_4M_cam_img_image_lightfield']\n",
    "print (imgs)\n",
    "Nimg=len(imgs)"
   ]
  },
  {
   "cell_type": "markdown",
   "metadata": {},
   "source": [
    "## load a mask if exist \n",
    "### otherwise create a mask using Mask pipeline"
   ]
  },
  {
   "cell_type": "code",
   "execution_count": null,
   "metadata": {
    "collapsed": false
   },
   "outputs": [],
   "source": [
    "\n",
    "mask = np.load( path +  str(uid)+\"_mask.npy\")\n",
    " "
   ]
  },
  {
   "cell_type": "markdown",
   "metadata": {},
   "source": [
    "### Plot the mask"
   ]
  },
  {
   "cell_type": "code",
   "execution_count": null,
   "metadata": {
    "collapsed": false
   },
   "outputs": [],
   "source": [
    "fig, ax = plt.subplots()\n",
    "im = ax.imshow(mask, vmin=0,vmax=1,cmap='viridis', origin='lower')\n",
    "ax.set_title( 'mask')\n",
    "fig.colorbar( im )\n",
    "plt.show()"
   ]
  },
  {
   "cell_type": "markdown",
   "metadata": {},
   "source": [
    "# inverse the image coordinate"
   ]
  },
  {
   "cell_type": "code",
   "execution_count": null,
   "metadata": {
    "collapsed": false
   },
   "outputs": [],
   "source": [
    "imgsr = Reverse_Coordinate(imgs, mask)    \n",
    "#don't use imgsr[::1] , this command will load everything to the memory\n",
    " "
   ]
  },
  {
   "cell_type": "code",
   "execution_count": null,
   "metadata": {
    "collapsed": false
   },
   "outputs": [],
   "source": [
    "imgsr[2499].max()"
   ]
  },
  {
   "cell_type": "markdown",
   "metadata": {},
   "source": [
    "## Interactive way to browse through images.\n",
    "\n",
    "### Note : Provide the number of images that you want to browse"
   ]
  },
  {
   "cell_type": "code",
   "execution_count": null,
   "metadata": {
    "collapsed": false
   },
   "outputs": [],
   "source": [
    "#interact(view_image, i=(0, Nimg-1))"
   ]
  },
  {
   "cell_type": "code",
   "execution_count": null,
   "metadata": {
    "collapsed": true
   },
   "outputs": [],
   "source": [
    "#view_image_movie( imgsr,.1, 1000, 1001) "
   ]
  },
  {
   "cell_type": "markdown",
   "metadata": {},
   "source": [
    "### hey, let's see if any images are bad!"
   ]
  },
  {
   "cell_type": "markdown",
   "metadata": {},
   "source": [
    "### Get the Averaged Image Data"
   ]
  },
  {
   "cell_type": "code",
   "execution_count": null,
   "metadata": {
    "collapsed": false
   },
   "outputs": [],
   "source": [
    "good_start = 0\n",
    "good_end= 2499\n",
    "\n",
    "avg_img = np.average( imgs[good_start:good_end: 100], axis=0) #*imgs.md['pixel_mask']  #*mask_rh\n",
    "\n",
    "avg_img *=  mask"
   ]
  },
  {
   "cell_type": "code",
   "execution_count": null,
   "metadata": {
    "collapsed": false
   },
   "outputs": [],
   "source": [
    "#avg_img = average_img( imgsr,0, 2000 )"
   ]
  },
  {
   "cell_type": "code",
   "execution_count": null,
   "metadata": {
    "collapsed": false
   },
   "outputs": [],
   "source": [
    "avg_img  = avg_img[::-1,:] "
   ]
  },
  {
   "cell_type": "code",
   "execution_count": null,
   "metadata": {
    "collapsed": false
   },
   "outputs": [],
   "source": [
    "fig, ax = plt.subplots()\n",
    "#im=ax.imshow(alphaf, origin='lower' ,cmap='viridis',norm= LogNorm(vmin=0.0001,vmax=2.00))\n",
    "im=ax.imshow(avg_img, origin='lower' ,cmap='viridis',norm= LogNorm(vmin=0.0001,vmax=1E1))\n",
    "fig.colorbar(im)\n",
    "ax.set_title( 'avg_img_%s--%s'%(good_start, good_end))\n",
    "plt.show()"
   ]
  },
  {
   "cell_type": "markdown",
   "metadata": {},
   "source": [
    "## Plot the averged image with the mask"
   ]
  },
  {
   "cell_type": "code",
   "execution_count": null,
   "metadata": {
    "collapsed": false
   },
   "outputs": [],
   "source": [
    "print (avg_img.max())"
   ]
  },
  {
   "cell_type": "markdown",
   "metadata": {},
   "source": [
    "## Note:  experiment information \n",
    "\n",
    "* The physical size of the pixels\n",
    "* Wavelegth of the X-rays  - (units in Angstroms)\n",
    "* Detector to sample distance\n",
    "* Exposure time - (units in seconds)\n",
    "* acqusition period - (units in seconds)\n",
    "* dead time - (units in seconds)\n",
    "* time per frame = (exposure time + dead_time or acqusition period) - (units in seconds)"
   ]
  },
  {
   "cell_type": "code",
   "execution_count": null,
   "metadata": {
    "collapsed": false
   },
   "outputs": [],
   "source": [
    "#imgs.md"
   ]
  },
  {
   "cell_type": "code",
   "execution_count": null,
   "metadata": {
    "collapsed": false
   },
   "outputs": [],
   "source": [
    "# The physical size of the pixels\n",
    "dpix = imgs.md['x_pixel_size'] * 1000.  \n",
    "lambda_ = imgs.md['incident_wavelength']    # wavelegth of the X-rays in Angstroms\n",
    "Ldet = 4810        # detector to sample distance (mm)\n",
    "\n",
    "exposuretime= imgs.md['count_time']\n",
    "acquisition_period = imgs.md['frame_time']\n",
    "\n",
    "# deadtime= 0   # 60e-6 \n",
    "# timeperframe = exposuretime + deadtime\n",
    "timeperframe = acquisition_period  \n",
    "\n",
    "timeperframe, exposuretime"
   ]
  },
  {
   "cell_type": "markdown",
   "metadata": {},
   "source": [
    "## Import all the required packages for  Data Analysis\n",
    "\n",
    "* scikit-xray - data analysis tools for X-ray science \n",
    "    - https://github.com/scikit-xray/scikit-xray\n",
    "* xray-vision - plotting helper functions for X-ray science\n",
    "    - https://github.com/Nikea/xray-vision\n"
   ]
  },
  {
   "cell_type": "markdown",
   "metadata": {},
   "source": [
    "## Get the approximate center and see the statistic to make sure "
   ]
  },
  {
   "cell_type": "markdown",
   "metadata": {},
   "source": [
    "### Qz, Qr Average : to do!"
   ]
  },
  {
   "cell_type": "markdown",
   "metadata": {},
   "source": [
    "# GiSAXS get q-map (qz and qr)"
   ]
  },
  {
   "cell_type": "code",
   "execution_count": null,
   "metadata": {
    "collapsed": true
   },
   "outputs": [],
   "source": [
    "inc_x0 = 1871\n",
    "inc_y0 = 339\n",
    "refl_x0 = 1871\n",
    "refl_y0 = 811      #1670\n",
    "Lsd= 4.81\n",
    "lamda= lambda_  #12.4/9"
   ]
  },
  {
   "cell_type": "code",
   "execution_count": null,
   "metadata": {
    "collapsed": false
   },
   "outputs": [],
   "source": [
    "lamda"
   ]
  },
  {
   "cell_type": "code",
   "execution_count": null,
   "metadata": {
    "collapsed": false
   },
   "outputs": [],
   "source": [
    "#cd /home/yuzhang/chx-pipelines/Develops/"
   ]
  },
  {
   "cell_type": "code",
   "execution_count": null,
   "metadata": {
    "collapsed": true
   },
   "outputs": [],
   "source": [
    "#%run develop.py"
   ]
  },
  {
   "cell_type": "code",
   "execution_count": null,
   "metadata": {
    "collapsed": false
   },
   "outputs": [],
   "source": [
    "alphaf,thetaf, alphai, phi = get_reflected_angles( inc_x0, inc_y0,refl_x0 , refl_y0, Lsd=Lsd )"
   ]
  },
  {
   "cell_type": "code",
   "execution_count": null,
   "metadata": {
    "collapsed": false
   },
   "outputs": [],
   "source": [
    "qx, qy, qr, qz = convert_gisaxs_pixel_to_q( inc_x0, inc_y0,refl_x0,refl_y0, lamda=lamda, Lsd=Lsd )"
   ]
  },
  {
   "cell_type": "code",
   "execution_count": null,
   "metadata": {
    "collapsed": false
   },
   "outputs": [],
   "source": [
    "fig, ax = plt.subplots()\n",
    "#im=ax.imshow(alphaf, origin='lower' ,cmap='viridis',norm= LogNorm(vmin=0.0001,vmax=2.00))\n",
    "im=ax.imshow(alphaf*180/np.pi, origin='lower' ,cmap='viridis',vmin=-1,vmax= 1 )\n",
    "fig.colorbar(im)\n",
    "ax.set_title( 'alphaf')\n",
    "plt.show()"
   ]
  },
  {
   "cell_type": "code",
   "execution_count": null,
   "metadata": {
    "collapsed": false
   },
   "outputs": [],
   "source": [
    "fig, ax = plt.subplots()\n",
    "#im=ax.imshow(alphaf, origin='lower' ,cmap='viridis',norm= LogNorm(vmin=0.0001,vmax=2.00))\n",
    "im=ax.imshow(qr, origin='lower' ,cmap='viridis',vmin=qr.min(),vmax= qr.max() )\n",
    "fig.colorbar(im)\n",
    "ax.set_title( 'Q-Parallel')\n",
    "plt.show()"
   ]
  },
  {
   "cell_type": "code",
   "execution_count": null,
   "metadata": {
    "collapsed": false
   },
   "outputs": [],
   "source": [
    "fig, ax = plt.subplots()\n",
    "#im=ax.imshow(alphaf, origin='lower' ,cmap='viridis',norm= LogNorm(vmin=0.0001,vmax=2.00))\n",
    "im=ax.imshow(qz, origin='lower' ,cmap='viridis',vmin=qz.min(),vmax= qz.max() )\n",
    "fig.colorbar(im)\n",
    "ax.set_title( 'Q-z')\n",
    "plt.show()"
   ]
  },
  {
   "cell_type": "markdown",
   "metadata": {},
   "source": [
    "# get GiSAXS label array"
   ]
  },
  {
   "cell_type": "code",
   "execution_count": null,
   "metadata": {
    "collapsed": false
   },
   "outputs": [],
   "source": [
    "fig, ax = plt.subplots()\n",
    "im = ax.imshow(avg_img, cmap='viridis', origin = 'lower',  norm= LogNorm( vmin=0.00001, vmax=.5e2 ) )\n",
    "ax.set_title(\"Masked Averaged Image\")\n",
    "fig.colorbar(im)\n",
    "plt.show()"
   ]
  },
  {
   "cell_type": "markdown",
   "metadata": {},
   "source": [
    "# Get q||-intensity"
   ]
  },
  {
   "cell_type": "code",
   "execution_count": null,
   "metadata": {
    "collapsed": false
   },
   "outputs": [],
   "source": [
    "#bin_img = 500\n",
    "#Nbin = int( len(imgs)/bin_img )\n",
    "#[ (i*bin_img, (i+1)*bin_img) for i in range(Nbin)               ]\n",
    "#ave_img_series =  [   average_img( imgsr,i, i*bin_img )    for i in range(Nbin)                ]"
   ]
  },
  {
   "cell_type": "code",
   "execution_count": null,
   "metadata": {
    "collapsed": true
   },
   "outputs": [],
   "source": [
    "vert_rect = ( ( 850, 0, 980- 850, 1600-0) , ( 570, 0, 700- 570, 1600-0) )    #(y,x, hight, wdith)"
   ]
  },
  {
   "cell_type": "code",
   "execution_count": null,
   "metadata": {
    "collapsed": false,
    "scrolled": false
   },
   "outputs": [],
   "source": [
    "get_qr_intensity( qr, avg_img, vert_rect, show_roi=True)"
   ]
  },
  {
   "cell_type": "code",
   "execution_count": null,
   "metadata": {
    "collapsed": true
   },
   "outputs": [],
   "source": [
    "qz_start = qz[670,0]\n",
    "qz_end = qz[950,0]\n",
    "qz_num= 2\n",
    "\n",
    "\n",
    "qr_start =  qr[600,1700]\n",
    "qr_end = qr[600,0]\n",
    "qr_num = 15"
   ]
  },
  {
   "cell_type": "code",
   "execution_count": null,
   "metadata": {
    "collapsed": false
   },
   "outputs": [],
   "source": [
    "qr_edge, qr_center = get_qedge(qr_start , qr_end, ( qr_end- qr_start)/qr_num, qr_num )"
   ]
  },
  {
   "cell_type": "code",
   "execution_count": null,
   "metadata": {
    "collapsed": false
   },
   "outputs": [],
   "source": [
    "qz_edge, qz_center = get_qedge( qz_start,   qz_end,   (qz_end - qz_start)/(qz_num -0) , qz_num )"
   ]
  },
  {
   "cell_type": "code",
   "execution_count": null,
   "metadata": {
    "collapsed": false
   },
   "outputs": [],
   "source": [
    "label_array_qz = get_qmap_label( qz, qz_edge)\n",
    "label_array_qr = get_qmap_label( qr, qr_edge)\n",
    "label_array_qzr,qzc,qrc = get_qzrmap(label_array_qz, label_array_qr,qz_center, qr_center  )"
   ]
  },
  {
   "cell_type": "code",
   "execution_count": null,
   "metadata": {
    "collapsed": false
   },
   "outputs": [],
   "source": [
    "labels_qzr, indices_qzr = roi.extract_label_indices( label_array_qzr  )\n",
    "labels_qz, indices_qz = roi.extract_label_indices( label_array_qz  )\n",
    "labels_qr, indices_qr = roi.extract_label_indices( label_array_qr  )"
   ]
  },
  {
   "cell_type": "code",
   "execution_count": null,
   "metadata": {
    "collapsed": true
   },
   "outputs": [],
   "source": [
    "num_qz = len(np.unique( labels_qz ))\n",
    "num_qr = len(np.unique( labels_qr ))\n",
    "num_qzr = len(np.unique( labels_qzr ))"
   ]
  },
  {
   "cell_type": "code",
   "execution_count": null,
   "metadata": {
    "collapsed": false
   },
   "outputs": [],
   "source": [
    "num_qz,num_qr,num_qzr\n"
   ]
  },
  {
   "cell_type": "code",
   "execution_count": null,
   "metadata": {
    "collapsed": false
   },
   "outputs": [],
   "source": [
    "fig, ax = plt.subplots()\n",
    "#im=ax.imshow(alphaf, origin='lower' ,cmap='viridis',norm= LogNorm(vmin=0.0001,vmax=2.00))\n",
    "im=ax.imshow(label_array_qz, origin='lower' ,cmap='viridis',vmin=0,vmax= None )\n",
    "fig.colorbar(im)\n",
    "ax.set_title( 'Q-z_label')\n",
    "plt.show()"
   ]
  },
  {
   "cell_type": "code",
   "execution_count": null,
   "metadata": {
    "collapsed": false
   },
   "outputs": [],
   "source": [
    "fig, ax = plt.subplots()\n",
    "#im=ax.imshow(alphaf, origin='lower' ,cmap='viridis',norm= LogNorm(vmin=0.0001,vmax=2.00))\n",
    "im=ax.imshow(label_array_qr, origin='lower' ,cmap='viridis',vmin=0,vmax= None )\n",
    "fig.colorbar(im)\n",
    "ax.set_title( 'Q-r_label')\n",
    "plt.show()"
   ]
  },
  {
   "cell_type": "code",
   "execution_count": null,
   "metadata": {
    "collapsed": false
   },
   "outputs": [],
   "source": [
    "if True:\n",
    "    fig, ax = plt.subplots()\n",
    "    #im=ax.imshow(alphaf, origin='lower' ,cmap='viridis',norm= LogNorm(vmin=0.0001,vmax=2.00))\n",
    "    im=ax.imshow(label_array_qzr, origin='lower' ,cmap='viridis',vmin=0,vmax= None )\n",
    "    fig.colorbar(im)\n",
    "    ax.set_title( 'Q-zr_label')\n",
    "    plt.show()"
   ]
  },
  {
   "cell_type": "code",
   "execution_count": null,
   "metadata": {
    "collapsed": true
   },
   "outputs": [],
   "source": [
    "boxes = label_array_qzr \n",
    "box_mask = boxes*mask\n",
    "labels, indices = roi.extract_label_indices(box_mask)"
   ]
  },
  {
   "cell_type": "markdown",
   "metadata": {},
   "source": [
    "## Number of pixels in each q ring"
   ]
  },
  {
   "cell_type": "code",
   "execution_count": null,
   "metadata": {
    "collapsed": false
   },
   "outputs": [],
   "source": [
    "#ring_mask"
   ]
  },
  {
   "cell_type": "code",
   "execution_count": null,
   "metadata": {
    "collapsed": false
   },
   "outputs": [],
   "source": [
    "nopr = np.bincount( np.array(labels, dtype=int) )[1:]\n",
    "nopr"
   ]
  },
  {
   "cell_type": "markdown",
   "metadata": {},
   "source": [
    "# check one_qz_qr_region"
   ]
  },
  {
   "cell_type": "code",
   "execution_count": null,
   "metadata": {
    "collapsed": false
   },
   "outputs": [],
   "source": [
    "#%run develop.py"
   ]
  },
  {
   "cell_type": "code",
   "execution_count": null,
   "metadata": {
    "collapsed": false,
    "scrolled": false
   },
   "outputs": [],
   "source": [
    "\n",
    "# plot the figure\n",
    "fig, axes = plt.subplots(figsize=(8,8))\n",
    "axes.set_title(\"Labeled Array on Averaged Data\")\n",
    "im,im_label = show_label_array_on_image(axes, avg_img, box_mask, imshow_cmap='viridis',\n",
    "                        cmap='Paired',\n",
    "                         vmin=0.01, vmax=30. ,  origin=\"lower\")\n",
    "#rwidth = 200 \n",
    "#x1,x2 = [center[1] - rwidth, center[1] + rwidth]\n",
    "#y1,y2 = [center[0] - rwidth, center[0] + rwidth]\n",
    "#axes.set_xlim( [x1,x2])\n",
    "#axes.set_ylim( [y1,y2])\n",
    "\n",
    "#fig.colorbar(im)\n",
    "fig.colorbar(im_label)\n",
    "plt.show()"
   ]
  },
  {
   "cell_type": "markdown",
   "metadata": {},
   "source": [
    "##  Kymograph(waterfall plot) of the box"
   ]
  },
  {
   "cell_type": "code",
   "execution_count": null,
   "metadata": {
    "collapsed": false
   },
   "outputs": [],
   "source": [
    "#kymo = roi.kymograph(imgsr[::100], box_mask, num = 1)"
   ]
  },
  {
   "cell_type": "code",
   "execution_count": null,
   "metadata": {
    "collapsed": false
   },
   "outputs": [],
   "source": [
    "if False:\n",
    "    fig, ax = plt.subplots(figsize=(8,6))\n",
    "    ax.set_ylabel('Pixel')\n",
    "    ax.set_xlabel('Frame')\n",
    "    ax.set_title('Kymograph')\n",
    "\n",
    "    im = ax.imshow(kymo.T, cmap='viridis', vmax=10)\n",
    "    #fig.colorbar( im   )\n",
    "    ax.set_aspect(0.002)\n",
    "    plt.show()"
   ]
  },
  {
   "cell_type": "markdown",
   "metadata": {},
   "source": [
    "##  Mean intensities for each interested qz_qr"
   ]
  },
  {
   "cell_type": "code",
   "execution_count": null,
   "metadata": {
    "collapsed": true
   },
   "outputs": [],
   "source": [
    "#imgsr = Reverse_Coordinate(imgs, mask)    \n",
    "#masker = Masker( imgsr, mask)"
   ]
  },
  {
   "cell_type": "code",
   "execution_count": null,
   "metadata": {
    "collapsed": true
   },
   "outputs": [],
   "source": [
    "def mean_intensity(images, labeled_array, index=None):\n",
    "    import scipy.ndimage.measurements as ndim\n",
    "    \"\"\"Compute the mean intensity for each ROI in the image list\n",
    "\n",
    "    Parameters\n",
    "    ----------\n",
    "    images : list\n",
    "        List of images\n",
    "    labeled_array : array\n",
    "        labeled array; 0 is background.\n",
    "        Each ROI is represented by a nonzero integer. It is not required that\n",
    "        the ROI labels are contiguous\n",
    "    index : int, list, optional\n",
    "        The ROI's to use. If None, this function will extract averages for all\n",
    "        ROIs\n",
    "\n",
    "    Returns\n",
    "    -------\n",
    "    mean_intensity : array\n",
    "        The mean intensity of each ROI for all `images`\n",
    "        Dimensions:\n",
    "            len(mean_intensity) == len(index)\n",
    "            len(mean_intensity[0]) == len(images)\n",
    "    index : list\n",
    "        The labels for each element of the `mean_intensity` list\n",
    "    \"\"\"\n",
    "    if labeled_array.shape != images[0].shape[0:]:\n",
    "        raise ValueError(\n",
    "            \"`images` shape (%s) needs to be equal to the labeled_array shape\"\n",
    "            \"(%s)\" % (images[0].shape, labeled_array.shape))\n",
    "    # handle various input for `index`\n",
    "    if index is None:\n",
    "        index = list(np.unique(labeled_array))\n",
    "        index.remove(0)\n",
    "    try:\n",
    "        len(index)\n",
    "    except TypeError:\n",
    "        index = [index]\n",
    "    # pre-allocate an array for performance\n",
    "    # might be able to use list comprehension to make this faster\n",
    "    #mean_intensity = np.zeros((images.shape[0], len(index)))\n",
    "    mean_intensity = np.zeros(( len(images), len(index)))\n",
    "    for n, img in enumerate(images):\n",
    "        # use a mean that is mask-aware\n",
    "        mean_intensity[n] = ndim.mean(img, labeled_array, index=index)\n",
    "    return mean_intensity, index"
   ]
  },
  {
   "cell_type": "code",
   "execution_count": null,
   "metadata": {
    "collapsed": false
   },
   "outputs": [],
   "source": [
    "\n",
    "imgsr = Reverse_Coordinate(imgs, mask)  \n",
    "imgsr"
   ]
  },
  {
   "cell_type": "code",
   "execution_count": null,
   "metadata": {
    "collapsed": false
   },
   "outputs": [],
   "source": [
    "Nm=10000\n",
    "\n",
    "start_time = time.time()\n",
    "mask_data = imgsr[::Nm]  #make  masker[::1] will be very slow!\n",
    "mean_int_sets, index_list = roi.mean_intensity(mask_data, box_mask)\n",
    "elapsed_time = time.time() - start_time\n",
    "print ('Total time: %.2f min' %(elapsed_time/60.))"
   ]
  },
  {
   "cell_type": "code",
   "execution_count": null,
   "metadata": {
    "collapsed": false
   },
   "outputs": [],
   "source": [
    "if True:\n",
    "    times = np.arange( len(mean_int_sets)  )*Nm  # get the time for each frame\n",
    "\n",
    "    print (times.shape, mean_int_sets[:,1].shape)\n",
    "    #%matplotlib inline\n",
    "    fig, ax = plt.subplots(figsize=(8, 8))\n",
    "    ax.set_title(\"Mean intensity of each Qzr\")\n",
    "    for i in range(num_qzr):\n",
    "        ax.plot(times, mean_int_sets[:,i], label=\"Qzr \"+str(i+1))\n",
    "        ax.set_xlabel(\"Frames\")\n",
    "        ax.set_ylabel(\"Mean Intensity\")\n",
    "        ax.set_yscale('log')\n",
    "    ax.legend(fontsize=18) \n",
    "    plt.show()"
   ]
  },
  {
   "cell_type": "code",
   "execution_count": null,
   "metadata": {
    "collapsed": true
   },
   "outputs": [],
   "source": []
  },
  {
   "cell_type": "code",
   "execution_count": null,
   "metadata": {
    "collapsed": true
   },
   "outputs": [],
   "source": []
  },
  {
   "cell_type": "code",
   "execution_count": null,
   "metadata": {
    "collapsed": false
   },
   "outputs": [],
   "source": []
  },
  {
   "cell_type": "code",
   "execution_count": null,
   "metadata": {
    "collapsed": true
   },
   "outputs": [],
   "source": []
  },
  {
   "cell_type": "markdown",
   "metadata": {
    "collapsed": true
   },
   "source": [
    "## One time Correlation\n",
    "\n",
    "Note : Enter the number of levels and number of buffers for Muliti tau one time correlation\n",
    "number of buffers has to be even. More details in https://github.com/scikit-xray/scikit-xray/blob/master/skxray/core/correlation.py"
   ]
  },
  {
   "cell_type": "code",
   "execution_count": null,
   "metadata": {
    "collapsed": false
   },
   "outputs": [],
   "source": [
    "#ring_mask = np.array( ring_mask, dtype=int)"
   ]
  },
  {
   "cell_type": "code",
   "execution_count": null,
   "metadata": {
    "collapsed": true
   },
   "outputs": [],
   "source": [
    "good_start = 0\n",
    "good_end = 100 #2499\n",
    "#good_end = 6500"
   ]
  },
  {
   "cell_type": "code",
   "execution_count": null,
   "metadata": {
    "collapsed": false
   },
   "outputs": [],
   "source": [
    "imgs_ =imgs[good_start: good_end-1]"
   ]
  },
  {
   "cell_type": "code",
   "execution_count": null,
   "metadata": {
    "collapsed": true
   },
   "outputs": [],
   "source": [
    "imgsr2 = Reverse_Coordinate(imgs_, mask)    "
   ]
  },
  {
   "cell_type": "code",
   "execution_count": null,
   "metadata": {
    "collapsed": true
   },
   "outputs": [],
   "source": []
  },
  {
   "cell_type": "code",
   "execution_count": null,
   "metadata": {
    "collapsed": true
   },
   "outputs": [],
   "source": []
  },
  {
   "cell_type": "code",
   "execution_count": null,
   "metadata": {
    "collapsed": true
   },
   "outputs": [],
   "source": []
  },
  {
   "cell_type": "code",
   "execution_count": null,
   "metadata": {
    "collapsed": true
   },
   "outputs": [],
   "source": []
  },
  {
   "cell_type": "code",
   "execution_count": null,
   "metadata": {
    "collapsed": false
   },
   "outputs": [],
   "source": [
    "num_lev = 9  \n",
    "num_buf = 8\n",
    "\n",
    "g2, lag_steps = corr.multi_tau_auto_corr(num_lev, num_buf,  ring_mask, imgsr2)"
   ]
  },
  {
   "cell_type": "code",
   "execution_count": null,
   "metadata": {
    "collapsed": true
   },
   "outputs": [],
   "source": []
  },
  {
   "cell_type": "code",
   "execution_count": null,
   "metadata": {
    "collapsed": false
   },
   "outputs": [],
   "source": [
    "lags = lag_steps*timeperframe"
   ]
  },
  {
   "cell_type": "code",
   "execution_count": null,
   "metadata": {
    "collapsed": false
   },
   "outputs": [],
   "source": [
    "lag_steps"
   ]
  },
  {
   "cell_type": "code",
   "execution_count": null,
   "metadata": {
    "collapsed": false
   },
   "outputs": [],
   "source": [
    "g2.shape"
   ]
  },
  {
   "cell_type": "code",
   "execution_count": null,
   "metadata": {
    "collapsed": false
   },
   "outputs": [],
   "source": [
    "lag_steps.shape"
   ]
  },
  {
   "cell_type": "code",
   "execution_count": null,
   "metadata": {
    "collapsed": false
   },
   "outputs": [],
   "source": [
    "np.save( path + 'g2_%s-%s--%s'%(uid,good_start, good_end), g2)"
   ]
  },
  {
   "cell_type": "code",
   "execution_count": null,
   "metadata": {
    "collapsed": false
   },
   "outputs": [],
   "source": [
    "num_qr, num_qz, num_qzr"
   ]
  },
  {
   "cell_type": "markdown",
   "metadata": {},
   "source": [
    "### Plot the one time correlation functions"
   ]
  },
  {
   "cell_type": "code",
   "execution_count": null,
   "metadata": {
    "collapsed": false,
    "scrolled": false
   },
   "outputs": [],
   "source": [
    "\n",
    "for qz_ind in range(num_qz):\n",
    "    fig = plt.figure(figsize=(10, 8))\n",
    "    title_qz = ' Qz= %.5f  '%( qz_center[qz_ind]) + r'$\\AA^{-1}$' \n",
    "    plt.title('uid= %s:--->'%uid + title_qz,fontsize=20, y =1.1) \n",
    "    #print (qz_ind,title_qz)\n",
    "    plt.axis('off')\n",
    "    sx = int(round(np.sqrt(num_qr)) )\n",
    "    if num_qr%sx == 0: \n",
    "        sy = int(num_qr/sx)\n",
    "    else:\n",
    "        sy=int(num_qr/sx+1) \n",
    "    for sn in range(num_qr):\n",
    "        ax = fig.add_subplot(sx,sy,sn+1 )\n",
    "        ax.set_ylabel(\"g2\") \n",
    "        ax.set_title(\" Qr= \" + '%.5f  '%( qr_center[sn]) + r'$\\AA^{-1}$')\n",
    "        y=g2[:, sn + qz_ind * num_qr]\n",
    "        ax.semilogx(lags, y, '-o', markersize=6) \n",
    "        ax.set_ylim([min(y)*.95, max(y[1:])*1.05 ])\n",
    "    plt.show()\n",
    "    fig.tight_layout()  \n",
    "\n",
    "\n",
    "#np.save( path + 'g2_%s--%s'%(good_start, good_end), [lags,g2])\n",
    "#lags,g2 = np.load( path + 'g2_%s--%s.npy'%(good_start, good_end) )\n",
    "\n",
    "    "
   ]
  },
  {
   "cell_type": "code",
   "execution_count": null,
   "metadata": {
    "collapsed": true
   },
   "outputs": [],
   "source": []
  },
  {
   "cell_type": "markdown",
   "metadata": {
    "collapsed": true
   },
   "source": [
    "# Two time correlation"
   ]
  },
  {
   "cell_type": "code",
   "execution_count": null,
   "metadata": {
    "collapsed": true
   },
   "outputs": [],
   "source": [
    "#%run develop.py"
   ]
  },
  {
   "cell_type": "code",
   "execution_count": null,
   "metadata": {
    "collapsed": true
   },
   "outputs": [],
   "source": []
  },
  {
   "cell_type": "code",
   "execution_count": null,
   "metadata": {
    "collapsed": true
   },
   "outputs": [],
   "source": [
    "t0 = time.time()\n",
    "def run_time(t0):\n",
    "    elapsed_time = time.time() - t0\n",
    "    print ('Total time: %.2f min' %(elapsed_time/60.))   \n",
    "  "
   ]
  },
  {
   "cell_type": "code",
   "execution_count": null,
   "metadata": {
    "collapsed": false
   },
   "outputs": [],
   "source": [
    "t0 = time.time()\n",
    "#data = imgsr[::100]\n",
    "run_time( t0 )"
   ]
  },
  {
   "cell_type": "code",
   "execution_count": null,
   "metadata": {
    "collapsed": true
   },
   "outputs": [],
   "source": []
  },
  {
   "cell_type": "code",
   "execution_count": null,
   "metadata": {
    "collapsed": false
   },
   "outputs": [],
   "source": [
    "data.shape\n"
   ]
  },
  {
   "cell_type": "code",
   "execution_count": null,
   "metadata": {
    "collapsed": true
   },
   "outputs": [],
   "source": [
    "#dly = delays( num_lev=3, num_buf=4, time = 1  )"
   ]
  },
  {
   "cell_type": "code",
   "execution_count": null,
   "metadata": {
    "collapsed": true
   },
   "outputs": [],
   "source": [
    "#from two_time import *\n"
   ]
  },
  {
   "cell_type": "code",
   "execution_count": null,
   "metadata": {
    "collapsed": true
   },
   "outputs": [],
   "source": []
  },
  {
   "cell_type": "code",
   "execution_count": null,
   "metadata": {
    "collapsed": true
   },
   "outputs": [],
   "source": []
  },
  {
   "cell_type": "code",
   "execution_count": null,
   "metadata": {
    "collapsed": true
   },
   "outputs": [],
   "source": [
    "good_start= 0\n",
    "good_end = 100\n",
    "imgs_ =imgs[good_start: good_end-1]\n",
    "imgsr = Reverse_Coordinate(imgs_, mask) "
   ]
  },
  {
   "cell_type": "code",
   "execution_count": null,
   "metadata": {
    "collapsed": true
   },
   "outputs": [],
   "source": [
    "imgs_ =imgs[good_start: good_end-1]"
   ]
  },
  {
   "cell_type": "code",
   "execution_count": null,
   "metadata": {
    "collapsed": true
   },
   "outputs": [],
   "source": [
    "imgsr = Reverse_Coordinate(imgs_, mask)    "
   ]
  },
  {
   "cell_type": "code",
   "execution_count": null,
   "metadata": {
    "collapsed": false
   },
   "outputs": [],
   "source": [
    "%run develop.py\n",
    "%run two_time.py"
   ]
  },
  {
   "cell_type": "markdown",
   "metadata": {},
   "source": [
    "# A test of g12 calculation speed"
   ]
  },
  {
   "cell_type": "code",
   "execution_count": null,
   "metadata": {
    "collapsed": false
   },
   "outputs": [],
   "source": [
    "def get_box_mask( qr_num):\n",
    "    qz_start = qz[670,0]\n",
    "    qz_end = qz[950,0]\n",
    "    qz_num= 2\n",
    "\n",
    "    qr_start =  qr[600,1700]\n",
    "    qr_end = qr[600,0]\n",
    "    qr_num = qr_num\n",
    "    print ('The total q-num is: %s'%(qr_num*qz_num))\n",
    "\n",
    "    qr_edge, qr_center = get_qedge(qr_start , qr_end, ( qr_end- qr_start)/qr_num, qr_num )\n",
    "    qz_edge, qz_center = get_qedge( qz_start,   qz_end,   (qz_end - qz_start)/(qz_num -0) , qz_num )\n",
    "    label_array_qz = get_qmap_label( qz, qz_edge)\n",
    "    label_array_qr = get_qmap_label( qr, qr_edge)\n",
    "    label_array_qzr,qzc,qrc = get_qzrmap(label_array_qz, label_array_qr,qz_center, qr_center  )\n",
    "    boxes_mask = label_array_qzr *mask\n",
    "    return boxes_mask\n",
    "\n"
   ]
  },
  {
   "cell_type": "markdown",
   "metadata": {
    "collapsed": true
   },
   "source": [
    "### for buf=2,  as a function of noqs from 2 to 196"
   ]
  },
  {
   "cell_type": "code",
   "execution_count": null,
   "metadata": {
    "collapsed": false
   },
   "outputs": [],
   "source": [
    "num_buf =2\n",
    "qs = range(2,100,6)\n",
    "tms=[]\n",
    "for qr_num in qs:\n",
    "    g12,tm = autocor_two_time( num_buf=num_buf,  ring_mask=get_box_mask(qr_num),\n",
    "                       imgs = imgsr,  start_img= 0, end_img= None  )\n",
    "    tms.append(tm)\n",
    "    "
   ]
  },
  {
   "cell_type": "code",
   "execution_count": null,
   "metadata": {
    "collapsed": false
   },
   "outputs": [],
   "source": [
    "tms"
   ]
  },
  {
   "cell_type": "code",
   "execution_count": null,
   "metadata": {
    "collapsed": true
   },
   "outputs": [],
   "source": [
    "qs = range(2,100,6)"
   ]
  },
  {
   "cell_type": "code",
   "execution_count": null,
   "metadata": {
    "collapsed": false
   },
   "outputs": [],
   "source": [
    "tms =[0.13093440135320028,\n",
    " 0.17998536427815756,\n",
    " 0.18342777093251547,\n",
    " 0.18584118286768594,\n",
    " 0.1860461433728536,\n",
    " 0.19088710149129232,\n",
    " 0.19192461570103964,\n",
    " 0.19272053639094036,\n",
    " 0.19372636477152508,\n",
    " 0.19514618317286173,\n",
    " 0.19490898847579957,\n",
    " 0.19726393620173135,\n",
    " 0.1957791248957316,\n",
    " 0.19785298109054567,\n",
    " 0.19747522274653118,\n",
    " 0.20227790673573812,\n",
    " 0.1997849901517232]"
   ]
  },
  {
   "cell_type": "code",
   "execution_count": null,
   "metadata": {
    "collapsed": true
   },
   "outputs": [],
   "source": []
  },
  {
   "cell_type": "code",
   "execution_count": null,
   "metadata": {
    "collapsed": false
   },
   "outputs": [],
   "source": [
    "fig, ax = plt.subplots(figsize=(8, 8))\n",
    "ax.set_title(\"G12 cal-time ~ Q-number--buf=2,frames=100\")\n",
    "ax.plot(qs, tms, '--bo')\n",
    "ax.set_xlabel(\"Q Number\")\n",
    "ax.set_ylabel(\"Calculation time of G12\")\n",
    "plt.show()"
   ]
  },
  {
   "cell_type": "markdown",
   "metadata": {},
   "source": [
    "### for noqs=36,  as a function of buf number from 2 to 100"
   ]
  },
  {
   "cell_type": "code",
   "execution_count": null,
   "metadata": {
    "collapsed": false,
    "scrolled": false
   },
   "outputs": [],
   "source": [
    "qr_num = 18\n",
    "tms2=[] \n",
    "bufs = range(2,100,6)\n",
    "tms=[]\n",
    "for num_buf in bufs:\n",
    "    g12,tm = autocor_two_time( num_buf=num_buf,  ring_mask=get_box_mask(qr_num),\n",
    "                       imgs = imgsr,  start_img= 0, end_img= None  )\n",
    "    tms2.append(tm)\n",
    "    "
   ]
  },
  {
   "cell_type": "code",
   "execution_count": null,
   "metadata": {
    "collapsed": false
   },
   "outputs": [],
   "source": [
    "fig, ax = plt.subplots(figsize=(8, 8))\n",
    "ax.set_title(\"G12 cal-time ~ buf-number--noqs=36,frames=100\")\n",
    "ax.plot(bufs, tms2, '--bo')\n",
    "ax.set_xlabel(\"Buf Number\")\n",
    "ax.set_ylabel(\"Calculation time of G12\")\n",
    "plt.show()"
   ]
  },
  {
   "cell_type": "code",
   "execution_count": null,
   "metadata": {
    "collapsed": false
   },
   "outputs": [],
   "source": [
    "%run two_time.py"
   ]
  },
  {
   "cell_type": "code",
   "execution_count": null,
   "metadata": {
    "collapsed": true
   },
   "outputs": [],
   "source": [
    "##1000 frames, buf =2, as a function of q-number"
   ]
  },
  {
   "cell_type": "code",
   "execution_count": null,
   "metadata": {
    "collapsed": false
   },
   "outputs": [],
   "source": [
    "num_buf =2\n",
    "qs = range(2,100,6)\n",
    "tms3=[]\n",
    "for qr_num in qs:\n",
    "    #reload data\n",
    "    good_start= 0\n",
    "    good_end = 1000\n",
    "    imgs_ =imgs[good_start: good_end-1]\n",
    "    imgsr = Reverse_Coordinate(imgs_, mask)\n",
    "    #do  calculation\n",
    "    g12,tm = autocor_two_time( num_buf=num_buf,  ring_mask=get_box_mask(qr_num),\n",
    "                       imgs = imgsr,  start_img= 0, end_img= None  )\n",
    "    tms3.append(tm)\n",
    "    "
   ]
  },
  {
   "cell_type": "code",
   "execution_count": null,
   "metadata": {
    "collapsed": false
   },
   "outputs": [],
   "source": [
    "fig, ax = plt.subplots(figsize=(8, 8))\n",
    "ax.set_title(\"G12 cal-time ~ Q-number--buf=2,frames=1000\")\n",
    "ax.plot(qs, tms3, '--bo')\n",
    "ax.set_xlabel(\"Q Number\")\n",
    "ax.set_ylabel(\"Calculation time of G12 (min)\")\n",
    "plt.show()"
   ]
  },
  {
   "cell_type": "markdown",
   "metadata": {},
   "source": [
    "# 2500 frames, buf=8, lev=8, as function of q"
   ]
  },
  {
   "cell_type": "code",
   "execution_count": null,
   "metadata": {
    "collapsed": false
   },
   "outputs": [],
   "source": [
    "%run two_time.py"
   ]
  },
  {
   "cell_type": "code",
   "execution_count": null,
   "metadata": {
    "collapsed": false
   },
   "outputs": [],
   "source": [
    "num_buf =8\n",
    "num_lev = 8\n",
    "qs = range(2,100,12)\n",
    "tms4=[]\n",
    "for qr_num in qs:\n",
    "    #reload data\n",
    "    good_start= 0\n",
    "    good_end = 2500\n",
    "    imgs_ =imgs[good_start: good_end-1]\n",
    "    imgsr = Reverse_Coordinate(imgs_, mask)\n",
    "    #do  calculation\n",
    "    g12,tm = autocor_two_time( num_buf=num_buf,  num_lev=num_lev, ring_mask=get_box_mask(qr_num),\n",
    "                       imgs = imgsr,  start_img= 0, end_img= None  )\n",
    "    tms4.append(tm)"
   ]
  },
  {
   "cell_type": "code",
   "execution_count": null,
   "metadata": {
    "collapsed": true
   },
   "outputs": [],
   "source": [
    "fig, ax = plt.subplots(figsize=(8, 8))\n",
    "ax.set_title(\"G12 cal-time ~ Q-number--buf=8,lev=8,frames=2500\")\n",
    "ax.plot(qs, tms3, '--bo')\n",
    "ax.set_xlabel(\"Q Number\")\n",
    "ax.set_ylabel(\"Calculation time of G12 (min)\")\n",
    "plt.show()"
   ]
  },
  {
   "cell_type": "code",
   "execution_count": null,
   "metadata": {
    "collapsed": true
   },
   "outputs": [],
   "source": []
  },
  {
   "cell_type": "code",
   "execution_count": null,
   "metadata": {
    "collapsed": true
   },
   "outputs": [],
   "source": []
  },
  {
   "cell_type": "code",
   "execution_count": null,
   "metadata": {
    "collapsed": true
   },
   "outputs": [],
   "source": []
  },
  {
   "cell_type": "code",
   "execution_count": null,
   "metadata": {
    "collapsed": true
   },
   "outputs": [],
   "source": []
  },
  {
   "cell_type": "code",
   "execution_count": null,
   "metadata": {
    "collapsed": true
   },
   "outputs": [],
   "source": []
  },
  {
   "cell_type": "code",
   "execution_count": null,
   "metadata": {
    "collapsed": true
   },
   "outputs": [],
   "source": []
  },
  {
   "cell_type": "code",
   "execution_count": null,
   "metadata": {
    "collapsed": true
   },
   "outputs": [],
   "source": [
    "dly = delays(8,8)"
   ]
  },
  {
   "cell_type": "code",
   "execution_count": null,
   "metadata": {
    "collapsed": true
   },
   "outputs": [],
   "source": [
    "delays?"
   ]
  },
  {
   "cell_type": "code",
   "execution_count": null,
   "metadata": {
    "collapsed": false
   },
   "outputs": [],
   "source": [
    "dly"
   ]
  },
  {
   "cell_type": "code",
   "execution_count": null,
   "metadata": {
    "collapsed": true
   },
   "outputs": [],
   "source": []
  },
  {
   "cell_type": "code",
   "execution_count": null,
   "metadata": {
    "collapsed": false
   },
   "outputs": [],
   "source": [
    "g12,tm = autocor_two_time( num_buf= 30,  ring_mask=get_box_mask(18),\n",
    "                       imgs = imgsr,  start_img= 0, end_img= None  )"
   ]
  },
  {
   "cell_type": "code",
   "execution_count": null,
   "metadata": {
    "collapsed": false
   },
   "outputs": [],
   "source": [
    "g12,tm = autocor_two_time( num_buf= 2,  ring_mask=get_box_mask(18),\n",
    "                       imgs = imgsr,  start_img= 0, end_img= None  )"
   ]
  },
  {
   "cell_type": "code",
   "execution_count": null,
   "metadata": {
    "collapsed": false
   },
   "outputs": [],
   "source": [
    "g12,tm = autocor_two_time( num_buf= 30,  ring_mask=get_box_mask(18),\n",
    "                       imgs = imgs[0:100],  start_img= 0, end_img= None  )"
   ]
  },
  {
   "cell_type": "code",
   "execution_count": null,
   "metadata": {
    "collapsed": false
   },
   "outputs": [],
   "source": [
    "g12,tm = autocor_two_time( num_buf= 30,  ring_mask=get_box_mask(18),\n",
    "                       imgs = data,  start_img= 0, end_img= None  )"
   ]
  },
  {
   "cell_type": "code",
   "execution_count": null,
   "metadata": {
    "collapsed": true
   },
   "outputs": [],
   "source": []
  },
  {
   "cell_type": "code",
   "execution_count": null,
   "metadata": {
    "collapsed": true
   },
   "outputs": [],
   "source": [
    "good_start= 0\n",
    "good_end = 1000\n",
    "imgs_ =imgs[good_start: good_end-1]\n",
    "imgsr = Reverse_Coordinate(imgs_, mask) "
   ]
  },
  {
   "cell_type": "code",
   "execution_count": null,
   "metadata": {
    "collapsed": true
   },
   "outputs": [],
   "source": []
  },
  {
   "cell_type": "code",
   "execution_count": null,
   "metadata": {
    "collapsed": false
   },
   "outputs": [],
   "source": [
    "g12,tm = autocor_two_time( num_buf= 30,  ring_mask=get_box_mask(18),\n",
    "                       imgs = imgsr,  start_img= 0, end_img= None  )"
   ]
  },
  {
   "cell_type": "code",
   "execution_count": null,
   "metadata": {
    "collapsed": false
   },
   "outputs": [],
   "source": [
    "g12,tm = autocor_two_time( num_buf= 30,  ring_mask=get_box_mask(18),\n",
    "                       imgs = imgs_,  start_img= 0, end_img= None  )"
   ]
  },
  {
   "cell_type": "code",
   "execution_count": null,
   "metadata": {
    "collapsed": false
   },
   "outputs": [],
   "source": [
    "t0 = time.time()\n",
    "#data = imgsr[::100]\n",
    "data = imgsr[::1]\n",
    "run_time( t0 )"
   ]
  },
  {
   "cell_type": "code",
   "execution_count": null,
   "metadata": {
    "collapsed": false
   },
   "outputs": [],
   "source": [
    "g12,tm = autocor_two_time( num_buf= 30,  ring_mask=get_box_mask(18),\n",
    "                       imgs = data,  start_img= 0, end_img= None  )"
   ]
  },
  {
   "cell_type": "code",
   "execution_count": null,
   "metadata": {
    "collapsed": true
   },
   "outputs": [],
   "source": []
  },
  {
   "cell_type": "code",
   "execution_count": null,
   "metadata": {
    "collapsed": true
   },
   "outputs": [],
   "source": []
  },
  {
   "cell_type": "code",
   "execution_count": null,
   "metadata": {
    "collapsed": false
   },
   "outputs": [],
   "source": [
    "t0 = time.time()\n",
    "#data = imgsr[::100]\n",
    "data = imgsr[::1]\n",
    "run_time( t0 )"
   ]
  },
  {
   "cell_type": "code",
   "execution_count": null,
   "metadata": {
    "collapsed": false
   },
   "outputs": [],
   "source": [
    "data.shape"
   ]
  },
  {
   "cell_type": "code",
   "execution_count": null,
   "metadata": {
    "collapsed": true
   },
   "outputs": [],
   "source": [
    "data[0]"
   ]
  },
  {
   "cell_type": "code",
   "execution_count": null,
   "metadata": {
    "collapsed": true
   },
   "outputs": [],
   "source": []
  },
  {
   "cell_type": "code",
   "execution_count": null,
   "metadata": {
    "collapsed": true
   },
   "outputs": [],
   "source": []
  },
  {
   "cell_type": "code",
   "execution_count": null,
   "metadata": {
    "collapsed": false
   },
   "outputs": [],
   "source": [
    "imgs[0:100]"
   ]
  },
  {
   "cell_type": "code",
   "execution_count": null,
   "metadata": {
    "collapsed": true
   },
   "outputs": [],
   "source": []
  },
  {
   "cell_type": "code",
   "execution_count": null,
   "metadata": {
    "collapsed": true
   },
   "outputs": [],
   "source": []
  },
  {
   "cell_type": "code",
   "execution_count": null,
   "metadata": {
    "collapsed": true
   },
   "outputs": [],
   "source": []
  },
  {
   "cell_type": "code",
   "execution_count": null,
   "metadata": {
    "collapsed": true
   },
   "outputs": [],
   "source": []
  },
  {
   "cell_type": "code",
   "execution_count": null,
   "metadata": {
    "collapsed": false
   },
   "outputs": [],
   "source": [
    "g12,tm = autocor_two_time(num_lev=1, num_buf= 50,  ring_mask=get_box_mask(18),\n",
    "                       imgs = imgsr,  start_img= 0, end_img= None  )"
   ]
  },
  {
   "cell_type": "code",
   "execution_count": null,
   "metadata": {
    "collapsed": true
   },
   "outputs": [],
   "source": []
  },
  {
   "cell_type": "code",
   "execution_count": null,
   "metadata": {
    "collapsed": true
   },
   "outputs": [],
   "source": []
  },
  {
   "cell_type": "code",
   "execution_count": null,
   "metadata": {
    "collapsed": true
   },
   "outputs": [],
   "source": []
  },
  {
   "cell_type": "code",
   "execution_count": null,
   "metadata": {
    "collapsed": true
   },
   "outputs": [],
   "source": [
    "num_buf=  4"
   ]
  },
  {
   "cell_type": "code",
   "execution_count": null,
   "metadata": {
    "collapsed": false
   },
   "outputs": [],
   "source": [
    "qs = range(2,100,6)"
   ]
  },
  {
   "cell_type": "code",
   "execution_count": null,
   "metadata": {
    "collapsed": false
   },
   "outputs": [],
   "source": [
    "qs"
   ]
  },
  {
   "cell_type": "code",
   "execution_count": null,
   "metadata": {
    "collapsed": true
   },
   "outputs": [],
   "source": []
  },
  {
   "cell_type": "code",
   "execution_count": null,
   "metadata": {
    "collapsed": true
   },
   "outputs": [],
   "source": []
  },
  {
   "cell_type": "code",
   "execution_count": null,
   "metadata": {
    "collapsed": false,
    "scrolled": false
   },
   "outputs": [],
   "source": [
    "g12 = autocor_two_time(num_lev=10, num_buf= num_buf,  ring_mask=box_mask,\n",
    "                       imgs = imgsr,  start_img= 0, end_img= None  )\n",
    "#np.save( path + 'g12_%s_%s_%s--buf=%s'%(uid ,good_start, good_end, num_buf), g12)"
   ]
  },
  {
   "cell_type": "markdown",
   "metadata": {},
   "source": [
    "# for buf=4, noqs = 36"
   ]
  },
  {
   "cell_type": "code",
   "execution_count": null,
   "metadata": {
    "collapsed": false
   },
   "outputs": [],
   "source": [
    "qz_start = qz[670,0]\n",
    "qz_end = qz[950,0]\n",
    "qz_num= 2\n",
    "\n",
    "qr_start =  qr[600,1700]\n",
    "qr_end = qr[600,0]\n",
    "qr_num = 18\n",
    "\n",
    "qr_edge, qr_center = get_qedge(qr_start , qr_end, ( qr_end- qr_start)/qr_num, qr_num )\n",
    "qz_edge, qz_center = get_qedge( qz_start,   qz_end,   (qz_end - qz_start)/(qz_num -0) , qz_num )\n",
    "label_array_qz = get_qmap_label( qz, qz_edge)\n",
    "label_array_qr = get_qmap_label( qr, qr_edge)\n",
    "label_array_qzr,qzc,qrc = get_qzrmap(label_array_qz, label_array_qr,qz_center, qr_center  )\n",
    "boxes_mask = label_array_qzr *mask"
   ]
  },
  {
   "cell_type": "code",
   "execution_count": null,
   "metadata": {
    "collapsed": false
   },
   "outputs": [],
   "source": [
    "g12 = autocor_two_time(num_lev=10, num_buf= num_buf,  ring_mask=box_mask,\n",
    "                       imgs = imgs_,  start_img= 0, end_img= None  )\n",
    "#np.save( path + 'g12_%s_%s_%s--buf=%s'%(uid ,good_start, good_end, num_buf), g12)"
   ]
  },
  {
   "cell_type": "markdown",
   "metadata": {},
   "source": [
    "# for buf=20, noqs = 36"
   ]
  },
  {
   "cell_type": "code",
   "execution_count": null,
   "metadata": {
    "collapsed": true
   },
   "outputs": [],
   "source": [
    "num_buf=  20"
   ]
  },
  {
   "cell_type": "code",
   "execution_count": null,
   "metadata": {
    "collapsed": false
   },
   "outputs": [],
   "source": [
    "qz_start = qz[670,0]\n",
    "qz_end = qz[950,0]\n",
    "qz_num= 2\n",
    "\n",
    "qr_start =  qr[600,1700]\n",
    "qr_end = qr[600,0]\n",
    "qr_num = 18\n",
    "\n",
    "qr_edge, qr_center = get_qedge(qr_start , qr_end, ( qr_end- qr_start)/qr_num, qr_num )\n",
    "qz_edge, qz_center = get_qedge( qz_start,   qz_end,   (qz_end - qz_start)/(qz_num -0) , qz_num )\n",
    "label_array_qz = get_qmap_label( qz, qz_edge)\n",
    "label_array_qr = get_qmap_label( qr, qr_edge)\n",
    "label_array_qzr,qzc,qrc = get_qzrmap(label_array_qz, label_array_qr,qz_center, qr_center  )\n",
    "boxes_mask = label_array_qzr *mask"
   ]
  },
  {
   "cell_type": "code",
   "execution_count": null,
   "metadata": {
    "collapsed": false
   },
   "outputs": [],
   "source": [
    "g12 = autocor_two_time(num_lev=10, num_buf= num_buf,  ring_mask=box_mask,\n",
    "                       imgs = imgs_,  start_img= 0, end_img= None  )\n"
   ]
  },
  {
   "cell_type": "code",
   "execution_count": null,
   "metadata": {
    "collapsed": true
   },
   "outputs": [],
   "source": []
  },
  {
   "cell_type": "code",
   "execution_count": null,
   "metadata": {
    "collapsed": true
   },
   "outputs": [],
   "source": []
  },
  {
   "cell_type": "code",
   "execution_count": null,
   "metadata": {
    "collapsed": true
   },
   "outputs": [],
   "source": []
  },
  {
   "cell_type": "code",
   "execution_count": null,
   "metadata": {
    "collapsed": true
   },
   "outputs": [],
   "source": []
  },
  {
   "cell_type": "code",
   "execution_count": null,
   "metadata": {
    "collapsed": true
   },
   "outputs": [],
   "source": []
  },
  {
   "cell_type": "code",
   "execution_count": null,
   "metadata": {
    "collapsed": true
   },
   "outputs": [],
   "source": []
  },
  {
   "cell_type": "code",
   "execution_count": null,
   "metadata": {
    "collapsed": true
   },
   "outputs": [],
   "source": [
    "# for buf=20, noqs = 36"
   ]
  },
  {
   "cell_type": "code",
   "execution_count": null,
   "metadata": {
    "collapsed": true
   },
   "outputs": [],
   "source": []
  },
  {
   "cell_type": "code",
   "execution_count": null,
   "metadata": {
    "collapsed": true
   },
   "outputs": [],
   "source": []
  },
  {
   "cell_type": "code",
   "execution_count": null,
   "metadata": {
    "collapsed": false
   },
   "outputs": [],
   "source": [
    "nopr"
   ]
  },
  {
   "cell_type": "code",
   "execution_count": null,
   "metadata": {
    "collapsed": true
   },
   "outputs": [],
   "source": [
    "def interp_zeros(  data ): \n",
    "    from scipy.interpolate import interp1d\n",
    "    gf = data.ravel() \n",
    "    indice, = gf.nonzero() \n",
    "    start, stop = indice[0], indice[-1]+1 \n",
    "    dx,dy = data.shape \n",
    "    x=np.arange( dx*dy ) \n",
    "    f = interp1d(x[indice], gf[indice]) \n",
    "    gf[start:stop] = f(x[start:stop]) \n",
    "    return gf.reshape([dx,dy]) \n",
    " \n",
    "\n",
    " "
   ]
  },
  {
   "cell_type": "code",
   "execution_count": null,
   "metadata": {
    "collapsed": false,
    "scrolled": true
   },
   "outputs": [],
   "source": [
    "\n",
    "#g12 = np.load( path + 'g12_%s_%s_%s--buf=%s.npy'%(uid, good_start, good_end,num_buf))"
   ]
  },
  {
   "cell_type": "code",
   "execution_count": null,
   "metadata": {
    "collapsed": false
   },
   "outputs": [],
   "source": [
    "N12 = 18\n",
    "\n",
    "data = g12[:,:,N12]\n",
    "data = interp_zeros( data )\n",
    "\n",
    "fig, ax = plt.subplots()\n",
    "im=ax.imshow( data, origin='lower' , cmap='viridis', \n",
    "             norm= LogNorm( vmin=1.0, vmax= 1.2 ) )\n",
    "fig.colorbar(im)\n",
    "plt.show()"
   ]
  },
  {
   "cell_type": "code",
   "execution_count": null,
   "metadata": {
    "collapsed": false
   },
   "outputs": [],
   "source": [
    "N12 = 18\n",
    "\n",
    "fig, ax = plt.subplots()\n",
    "im=ax.imshow(g12[:,:,N12], origin='lower' , cmap='viridis', \n",
    "             norm= LogNorm( vmin=1.0, vmax= 1.2 ) )\n",
    "fig.colorbar(im)\n",
    "plt.show()"
   ]
  },
  {
   "cell_type": "code",
   "execution_count": null,
   "metadata": {
    "collapsed": true
   },
   "outputs": [],
   "source": []
  },
  {
   "cell_type": "code",
   "execution_count": null,
   "metadata": {
    "collapsed": true
   },
   "outputs": [],
   "source": []
  },
  {
   "cell_type": "code",
   "execution_count": null,
   "metadata": {
    "collapsed": true
   },
   "outputs": [],
   "source": []
  },
  {
   "cell_type": "code",
   "execution_count": null,
   "metadata": {
    "collapsed": true
   },
   "outputs": [],
   "source": [
    "%run two_time.py"
   ]
  },
  {
   "cell_type": "code",
   "execution_count": null,
   "metadata": {
    "collapsed": true
   },
   "outputs": [],
   "source": [
    "    good_start= 0\n",
    "    good_end = 1000\n",
    "    imgs_ =imgs[good_start: good_end-1]\n",
    "    imgsr = Reverse_Coordinate(imgs_, mask)"
   ]
  },
  {
   "cell_type": "code",
   "execution_count": null,
   "metadata": {
    "collapsed": false
   },
   "outputs": [],
   "source": [
    "box_mask=get_box_mask(5)"
   ]
  },
  {
   "cell_type": "code",
   "execution_count": null,
   "metadata": {
    "collapsed": true
   },
   "outputs": [],
   "source": [
    "qind, pixelist = roi.extract_label_indices(   box_mask  )"
   ]
  },
  {
   "cell_type": "code",
   "execution_count": null,
   "metadata": {
    "collapsed": true
   },
   "outputs": [],
   "source": [
    "seg1 =   Get_Pixel_Array( imgsr, pixelist).get_data()"
   ]
  },
  {
   "cell_type": "code",
   "execution_count": null,
   "metadata": {
    "collapsed": false
   },
   "outputs": [],
   "source": [
    "seg1.shape"
   ]
  },
  {
   "cell_type": "code",
   "execution_count": null,
   "metadata": {
    "collapsed": false
   },
   "outputs": [],
   "source": [
    "g12 = autocor_arrays_two_time( seg1, pixelist,qind, seg2=None,                         \n",
    "                            get_half=True,get_whole =True, up_half= True,\n",
    "            print_=True,    )"
   ]
  },
  {
   "cell_type": "code",
   "execution_count": null,
   "metadata": {
    "collapsed": false
   },
   "outputs": [],
   "source": [
    "fig, ax = plt.subplots(figsize=(8,8))\n",
    "ax.set_title(\"G12_1000_Frames\")\n",
    "i= 5\n",
    "vmin =  g12[:,:,i].min() +.0001\n",
    "vmax=g12[:,:,i].max()\n",
    "\n",
    "im = ax.imshow(g12[:,:,i], cmap='viridis',  origin=\"lower\",\n",
    "               norm= LogNorm(vmin,vmax))\n",
    "               #vmin=vmin,vmax=vmax,)\n",
    "fig.colorbar(im) \n",
    "plt.show()"
   ]
  },
  {
   "cell_type": "code",
   "execution_count": null,
   "metadata": {
    "collapsed": true
   },
   "outputs": [],
   "source": [
    "%run two_time.py\n",
    "%run develop.py"
   ]
  },
  {
   "cell_type": "code",
   "execution_count": null,
   "metadata": {
    "collapsed": true
   },
   "outputs": [],
   "source": [
    "    good_start= 0\n",
    "    good_end = 500\n",
    "    imgs_ =imgs[good_start: good_end-1]\n",
    "    imgsr = Reverse_Coordinate(imgs_, mask)"
   ]
  },
  {
   "cell_type": "code",
   "execution_count": null,
   "metadata": {
    "collapsed": false
   },
   "outputs": [],
   "source": [
    "box_mask=get_box_mask(  15 )\n",
    "qind, pixelist = roi.extract_label_indices(   box_mask  )\n"
   ]
  },
  {
   "cell_type": "code",
   "execution_count": null,
   "metadata": {
    "collapsed": false
   },
   "outputs": [],
   "source": [
    " "
   ]
  },
  {
   "cell_type": "code",
   "execution_count": null,
   "metadata": {
    "collapsed": false
   },
   "outputs": [],
   "source": [
    "if False:\n",
    "    fig, axes = plt.subplots(figsize=(8,8))\n",
    "    axes.set_title(\"Labeled Array on Averaged Data\")\n",
    "    im,im_label = show_label_array_on_image(axes, avg_img, box_mask, imshow_cmap='viridis',\n",
    "                        cmap='Paired',   vmin=0.01, vmax=30. ,  origin=\"lower\")\n",
    "\n",
    "    fig.colorbar(im_label)\n",
    "    plt.show()"
   ]
  },
  {
   "cell_type": "code",
   "execution_count": null,
   "metadata": {
    "collapsed": true
   },
   "outputs": [],
   "source": [
    "seg1 =   Get_Pixel_Array( imgsr, pixelist).get_data()"
   ]
  },
  {
   "cell_type": "code",
   "execution_count": null,
   "metadata": {
    "collapsed": false
   },
   "outputs": [],
   "source": [
    "seg1.shape"
   ]
  },
  {
   "cell_type": "code",
   "execution_count": null,
   "metadata": {
    "collapsed": false
   },
   "outputs": [],
   "source": [
    "g12 = autocor_arrays_two_time( seg1, pixelist,qind, seg2=None,                         \n",
    "                            get_half=True,get_whole =True, up_half= True,\n",
    "            print_=True,    )"
   ]
  },
  {
   "cell_type": "code",
   "execution_count": null,
   "metadata": {
    "collapsed": false
   },
   "outputs": [],
   "source": [
    "fig, ax = plt.subplots(figsize=(8,8))\n",
    "ax.set_title(\"G12_500_Frames\")\n",
    "i= 16\n",
    "vmin =  g12[:,:,i].min() +.0001\n",
    "vmax=g12[:,:,i].max()\n",
    "\n",
    "im = ax.imshow(g12[:,:,i], cmap='viridis',  origin=\"lower\",\n",
    "               norm= LogNorm(vmin,vmax))\n",
    "               #vmin=vmin,vmax=vmax,)\n",
    "fig.colorbar(im) \n",
    "plt.show()"
   ]
  },
  {
   "cell_type": "code",
   "execution_count": null,
   "metadata": {
    "collapsed": false
   },
   "outputs": [],
   "source": [
    "%run two_time.py\n",
    "%run develop.py"
   ]
  },
  {
   "cell_type": "code",
   "execution_count": null,
   "metadata": {
    "collapsed": false
   },
   "outputs": [],
   "source": [
    "good_start= 0\n",
    "good_end = 100\n",
    "imgs_ =imgs[good_start: good_end-1]\n",
    "imgsr = Reverse_Coordinate(imgs_, mask=None)\n",
    "box_mask=get_box_mask(  15 )\n",
    "qind, pixelist = roi.extract_label_indices(   box_mask  )\n",
    "    \n",
    "    "
   ]
  },
  {
   "cell_type": "code",
   "execution_count": null,
   "metadata": {
    "collapsed": false
   },
   "outputs": [],
   "source": [
    "seg1 =   Get_Pixel_Array( imgsr, pixelist).get_data()"
   ]
  },
  {
   "cell_type": "code",
   "execution_count": null,
   "metadata": {
    "collapsed": false
   },
   "outputs": [],
   "source": [
    "seg1.shape"
   ]
  },
  {
   "cell_type": "code",
   "execution_count": null,
   "metadata": {
    "collapsed": true
   },
   "outputs": [],
   "source": []
  },
  {
   "cell_type": "code",
   "execution_count": null,
   "metadata": {
    "collapsed": false
   },
   "outputs": [],
   "source": [
    "pixelist_q1 = pixelist[ np.where( qind ==1)[0] ]"
   ]
  },
  {
   "cell_type": "code",
   "execution_count": null,
   "metadata": {
    "collapsed": true
   },
   "outputs": [],
   "source": [
    "seg_q1 =   Get_Pixel_Array( imgsr, pixelist_q1).get_data()"
   ]
  },
  {
   "cell_type": "code",
   "execution_count": null,
   "metadata": {
    "collapsed": false
   },
   "outputs": [],
   "source": [
    "nopr_q1 = len(pixelist_q1)"
   ]
  },
  {
   "cell_type": "code",
   "execution_count": null,
   "metadata": {
    "collapsed": true
   },
   "outputs": [],
   "source": [
    "sum1 = (np.average( seg_q1, axis=1)).reshape( 1, seg_q1.shape[0]   )  "
   ]
  },
  {
   "cell_type": "code",
   "execution_count": null,
   "metadata": {
    "collapsed": false
   },
   "outputs": [],
   "source": [
    "np.average( seg_q1[0]  )"
   ]
  },
  {
   "cell_type": "code",
   "execution_count": null,
   "metadata": {
    "collapsed": false
   },
   "outputs": [],
   "source": [
    "sum1[0,0]"
   ]
  },
  {
   "cell_type": "code",
   "execution_count": null,
   "metadata": {
    "collapsed": false
   },
   "outputs": [],
   "source": [
    "sum1 == sum2.T"
   ]
  },
  {
   "cell_type": "code",
   "execution_count": null,
   "metadata": {
    "collapsed": true
   },
   "outputs": [],
   "source": [
    "sum2 = (np.average( seg_q1, axis=1)).reshape(   seg_q1.shape[0],1   ) "
   ]
  },
  {
   "cell_type": "code",
   "execution_count": null,
   "metadata": {
    "collapsed": false
   },
   "outputs": [],
   "source": [
    "sum3 = (   ( np.sum( seg1.T, axis=0) ).reshape(  seg1.shape[0] ,1  ) )/nopr_q1"
   ]
  },
  {
   "cell_type": "code",
   "execution_count": null,
   "metadata": {
    "collapsed": false
   },
   "outputs": [],
   "source": [
    "#sum2==sum3"
   ]
  },
  {
   "cell_type": "code",
   "execution_count": null,
   "metadata": {
    "collapsed": false
   },
   "outputs": [],
   "source": [
    "sum2.shape"
   ]
  },
  {
   "cell_type": "code",
   "execution_count": null,
   "metadata": {
    "collapsed": false
   },
   "outputs": [],
   "source": [
    "sum1.shape"
   ]
  },
  {
   "cell_type": "code",
   "execution_count": null,
   "metadata": {
    "collapsed": true
   },
   "outputs": [],
   "source": [
    "#seg_q1 =   Get_Pixel_Array( imgsr, pixelist_q1).get_data()"
   ]
  },
  {
   "cell_type": "code",
   "execution_count": null,
   "metadata": {
    "collapsed": false
   },
   "outputs": [],
   "source": [
    "seg_q1.shape"
   ]
  },
  {
   "cell_type": "code",
   "execution_count": null,
   "metadata": {
    "collapsed": false
   },
   "outputs": [],
   "source": [
    "#np.dot(   seg_q1, seg_q1.T)"
   ]
  },
  {
   "cell_type": "code",
   "execution_count": null,
   "metadata": {
    "collapsed": false
   },
   "outputs": [],
   "source": [
    "m= np.dot(   seg_q1, seg_q1.T)  /sum1  / sum2  / nopr_q1\n"
   ]
  },
  {
   "cell_type": "code",
   "execution_count": null,
   "metadata": {
    "collapsed": false
   },
   "outputs": [],
   "source": [
    "nopr_q1"
   ]
  },
  {
   "cell_type": "code",
   "execution_count": null,
   "metadata": {
    "collapsed": false
   },
   "outputs": [],
   "source": [
    "m"
   ]
  },
  {
   "cell_type": "code",
   "execution_count": null,
   "metadata": {
    "collapsed": false
   },
   "outputs": [],
   "source": [
    "m/g12[:,:,0]"
   ]
  },
  {
   "cell_type": "code",
   "execution_count": null,
   "metadata": {
    "collapsed": false
   },
   "outputs": [],
   "source": [
    "m"
   ]
  },
  {
   "cell_type": "code",
   "execution_count": null,
   "metadata": {
    "collapsed": false
   },
   "outputs": [],
   "source": [
    "g12[:,:,0]"
   ]
  },
  {
   "cell_type": "code",
   "execution_count": null,
   "metadata": {
    "collapsed": false
   },
   "outputs": [],
   "source": [
    "( m == g12[:,:,0] ).all()"
   ]
  },
  {
   "cell_type": "code",
   "execution_count": null,
   "metadata": {
    "collapsed": false
   },
   "outputs": [],
   "source": [
    "np.sum( m - g12[:,:,0] )  "
   ]
  },
  {
   "cell_type": "code",
   "execution_count": null,
   "metadata": {
    "collapsed": false
   },
   "outputs": [],
   "source": [
    "np.where( m - g12[:,:,0] >1E-14)"
   ]
  },
  {
   "cell_type": "code",
   "execution_count": null,
   "metadata": {
    "collapsed": true
   },
   "outputs": [],
   "source": []
  },
  {
   "cell_type": "code",
   "execution_count": null,
   "metadata": {
    "collapsed": false
   },
   "outputs": [],
   "source": [
    "g12 = autocor_arrays_two_time( seg1, pixelist,qind, seg2=None,                         \n",
    "                            get_half=True,get_whole =True, up_half= True,\n",
    "            print_=True,    )"
   ]
  },
  {
   "cell_type": "code",
   "execution_count": null,
   "metadata": {
    "collapsed": true
   },
   "outputs": [],
   "source": []
  },
  {
   "cell_type": "code",
   "execution_count": null,
   "metadata": {
    "collapsed": true
   },
   "outputs": [],
   "source": []
  },
  {
   "cell_type": "code",
   "execution_count": null,
   "metadata": {
    "collapsed": false
   },
   "outputs": [],
   "source": [
    "d.shape"
   ]
  },
  {
   "cell_type": "code",
   "execution_count": null,
   "metadata": {
    "collapsed": false
   },
   "outputs": [],
   "source": [
    "fig, ax = plt.subplots(figsize=(8,8))\n",
    "ax.set_title(\"G12_500_Frames\")\n",
    "i= 0\n",
    "#d =  g12[:,:,i]\n",
    "\n",
    "d=m\n",
    "\n",
    "vmin = d.min() + 1E-9\n",
    "vmax= d.max()\n",
    "\n",
    "\n",
    "im = ax.imshow(d, cmap='viridis',  origin=\"lower\",\n",
    "               norm= LogNorm(vmin,vmax))\n",
    "               #vmin=vmin,vmax=vmax,)\n",
    "fig.colorbar(im) \n",
    "plt.show()"
   ]
  },
  {
   "cell_type": "code",
   "execution_count": null,
   "metadata": {
    "collapsed": true
   },
   "outputs": [],
   "source": []
  },
  {
   "cell_type": "code",
   "execution_count": null,
   "metadata": {
    "collapsed": true
   },
   "outputs": [],
   "source": []
  },
  {
   "cell_type": "code",
   "execution_count": null,
   "metadata": {
    "collapsed": true
   },
   "outputs": [],
   "source": []
  },
  {
   "cell_type": "code",
   "execution_count": null,
   "metadata": {
    "collapsed": false
   },
   "outputs": [],
   "source": [
    "x= np.array( [  [1,2,3,4],[5,6,7,8],[9,10,11,12] ] )"
   ]
  },
  {
   "cell_type": "code",
   "execution_count": null,
   "metadata": {
    "collapsed": true
   },
   "outputs": [],
   "source": [
    "x= np.array( [  [1,2,3,4] ])"
   ]
  },
  {
   "cell_type": "code",
   "execution_count": null,
   "metadata": {
    "collapsed": true
   },
   "outputs": [],
   "source": [
    "y=x.T"
   ]
  },
  {
   "cell_type": "code",
   "execution_count": null,
   "metadata": {
    "collapsed": false
   },
   "outputs": [],
   "source": [
    "x.shape"
   ]
  },
  {
   "cell_type": "code",
   "execution_count": null,
   "metadata": {
    "collapsed": false
   },
   "outputs": [],
   "source": [
    "y.shape"
   ]
  },
  {
   "cell_type": "code",
   "execution_count": null,
   "metadata": {
    "collapsed": false
   },
   "outputs": [],
   "source": [
    "x"
   ]
  },
  {
   "cell_type": "code",
   "execution_count": null,
   "metadata": {
    "collapsed": false
   },
   "outputs": [],
   "source": [
    "y"
   ]
  },
  {
   "cell_type": "code",
   "execution_count": null,
   "metadata": {
    "collapsed": false
   },
   "outputs": [],
   "source": [
    "np.dot( x, y)"
   ]
  },
  {
   "cell_type": "code",
   "execution_count": null,
   "metadata": {
    "collapsed": false
   },
   "outputs": [],
   "source": [
    "t= x*y"
   ]
  },
  {
   "cell_type": "code",
   "execution_count": null,
   "metadata": {
    "collapsed": false
   },
   "outputs": [],
   "source": [
    "t"
   ]
  },
  {
   "cell_type": "code",
   "execution_count": null,
   "metadata": {
    "collapsed": false
   },
   "outputs": [],
   "source": [
    "t/ yy"
   ]
  },
  {
   "cell_type": "code",
   "execution_count": null,
   "metadata": {
    "collapsed": false
   },
   "outputs": [],
   "source": [
    "t/xx"
   ]
  },
  {
   "cell_type": "code",
   "execution_count": null,
   "metadata": {
    "collapsed": true
   },
   "outputs": [],
   "source": [
    "yy = (np.array( [1,2,3,4])).reshape( 4,1 )"
   ]
  },
  {
   "cell_type": "code",
   "execution_count": null,
   "metadata": {
    "collapsed": true
   },
   "outputs": [],
   "source": [
    "xx = ((np.array( [1,2,3,4]))).T.reshape( 1,4 )"
   ]
  },
  {
   "cell_type": "code",
   "execution_count": null,
   "metadata": {
    "collapsed": false
   },
   "outputs": [],
   "source": [
    "xx"
   ]
  },
  {
   "cell_type": "code",
   "execution_count": null,
   "metadata": {
    "collapsed": false
   },
   "outputs": [],
   "source": [
    "yy"
   ]
  },
  {
   "cell_type": "code",
   "execution_count": null,
   "metadata": {
    "collapsed": true
   },
   "outputs": [],
   "source": []
  },
  {
   "cell_type": "code",
   "execution_count": null,
   "metadata": {
    "collapsed": false
   },
   "outputs": [],
   "source": [
    "xx.shape"
   ]
  },
  {
   "cell_type": "code",
   "execution_count": null,
   "metadata": {
    "collapsed": false
   },
   "outputs": [],
   "source": [
    "yy.shape"
   ]
  },
  {
   "cell_type": "code",
   "execution_count": null,
   "metadata": {
    "collapsed": false
   },
   "outputs": [],
   "source": [
    "y*x"
   ]
  },
  {
   "cell_type": "code",
   "execution_count": null,
   "metadata": {
    "collapsed": true
   },
   "outputs": [],
   "source": []
  },
  {
   "cell_type": "code",
   "execution_count": null,
   "metadata": {
    "collapsed": true
   },
   "outputs": [],
   "source": []
  },
  {
   "cell_type": "code",
   "execution_count": null,
   "metadata": {
    "collapsed": true
   },
   "outputs": [],
   "source": []
  },
  {
   "cell_type": "code",
   "execution_count": null,
   "metadata": {
    "collapsed": true
   },
   "outputs": [],
   "source": []
  },
  {
   "cell_type": "code",
   "execution_count": null,
   "metadata": {
    "collapsed": true
   },
   "outputs": [],
   "source": []
  },
  {
   "cell_type": "code",
   "execution_count": null,
   "metadata": {
    "collapsed": true
   },
   "outputs": [],
   "source": []
  },
  {
   "cell_type": "code",
   "execution_count": null,
   "metadata": {
    "collapsed": false
   },
   "outputs": [],
   "source": [
    "g12L  = autocor_large_arrays_two_time( imgs_, pixelist, qind, divide= 4,  \n",
    "                                     only_one_nodia=False,  get_whole=True,print_=True  )"
   ]
  },
  {
   "cell_type": "code",
   "execution_count": null,
   "metadata": {
    "collapsed": false
   },
   "outputs": [],
   "source": [
    "len( imgs_ )"
   ]
  },
  {
   "cell_type": "code",
   "execution_count": null,
   "metadata": {
    "collapsed": true
   },
   "outputs": [],
   "source": []
  },
  {
   "cell_type": "code",
   "execution_count": null,
   "metadata": {
    "collapsed": false
   },
   "outputs": [],
   "source": [
    "if False: \n",
    "    good_start= 0\n",
    "    good_end = 501\n",
    "    imgs_ =imgs[good_start: good_end-1]\n",
    "    imgsr = Reverse_Coordinate(imgs_, mask)\n",
    "    box_mask=get_box_mask(  15 )\n",
    "    qind, pixelist = roi.extract_label_indices(   box_mask  )\n",
    "    seg1 =   Get_Pixel_Array( imgsr, pixelist).get_data()"
   ]
  },
  {
   "cell_type": "code",
   "execution_count": null,
   "metadata": {
    "collapsed": true
   },
   "outputs": [],
   "source": []
  },
  {
   "cell_type": "code",
   "execution_count": null,
   "metadata": {
    "collapsed": false
   },
   "outputs": [],
   "source": [
    "g12 = autocor_arrays_two_time( seg1, pixelist,qind, seg2=None,                         \n",
    "                            get_half=True,get_whole =True, up_half= True,\n",
    "            print_=True,    )"
   ]
  },
  {
   "cell_type": "code",
   "execution_count": null,
   "metadata": {
    "collapsed": false
   },
   "outputs": [],
   "source": [
    "for i in range(30):\n",
    "    print (  (g12[:,:,i] ==g12L[:,:,i]).all() )"
   ]
  },
  {
   "cell_type": "code",
   "execution_count": null,
   "metadata": {
    "collapsed": false
   },
   "outputs": [],
   "source": [
    "g12L.shape"
   ]
  },
  {
   "cell_type": "code",
   "execution_count": null,
   "metadata": {
    "collapsed": false
   },
   "outputs": [],
   "source": [
    "g12.shape"
   ]
  },
  {
   "cell_type": "code",
   "execution_count": null,
   "metadata": {
    "collapsed": true
   },
   "outputs": [],
   "source": []
  },
  {
   "cell_type": "code",
   "execution_count": null,
   "metadata": {
    "collapsed": true
   },
   "outputs": [],
   "source": []
  },
  {
   "cell_type": "code",
   "execution_count": null,
   "metadata": {
    "collapsed": true
   },
   "outputs": [],
   "source": []
  },
  {
   "cell_type": "code",
   "execution_count": null,
   "metadata": {
    "collapsed": false
   },
   "outputs": [],
   "source": [
    "fig, ax = plt.subplots(figsize=(8,8))\n",
    "ax.set_title(\"G12_500_Frames\")\n",
    "i= 16\n",
    "vmin =  g12L[:,:,i].min() +.0001\n",
    "vmax=g12L[:,:,i].max()\n",
    "\n",
    "im = ax.imshow(g12[:,:,i], cmap='viridis',  origin=\"lower\",\n",
    "               norm= LogNorm(vmin,vmax))\n",
    "               #vmin=vmin,vmax=vmax,)\n",
    "fig.colorbar(im) \n",
    "plt.show()"
   ]
  },
  {
   "cell_type": "code",
   "execution_count": null,
   "metadata": {
    "collapsed": false
   },
   "outputs": [],
   "source": [
    "fig, ax = plt.subplots(figsize=(8,8))\n",
    "ax.set_title(\"G12_500_Frames\")\n",
    "i= 1\n",
    "vmin =  g12[:,:,i].min() +.0001\n",
    "vmax=g12[:,:,i].max()\n",
    "\n",
    "im = ax.imshow(g12[:,:,i], cmap='viridis',  origin=\"lower\",\n",
    "               norm= LogNorm(vmin,vmax))\n",
    "               #vmin=vmin,vmax=vmax,)\n",
    "fig.colorbar(im) \n",
    "plt.show()"
   ]
  },
  {
   "cell_type": "code",
   "execution_count": null,
   "metadata": {
    "collapsed": true
   },
   "outputs": [],
   "source": []
  },
  {
   "cell_type": "code",
   "execution_count": null,
   "metadata": {
    "collapsed": true
   },
   "outputs": [],
   "source": []
  },
  {
   "cell_type": "code",
   "execution_count": null,
   "metadata": {
    "collapsed": true
   },
   "outputs": [],
   "source": []
  },
  {
   "cell_type": "code",
   "execution_count": null,
   "metadata": {
    "collapsed": true
   },
   "outputs": [],
   "source": []
  },
  {
   "cell_type": "code",
   "execution_count": null,
   "metadata": {
    "collapsed": true
   },
   "outputs": [],
   "source": []
  },
  {
   "cell_type": "code",
   "execution_count": null,
   "metadata": {
    "collapsed": true
   },
   "outputs": [],
   "source": []
  },
  {
   "cell_type": "code",
   "execution_count": null,
   "metadata": {
    "collapsed": true
   },
   "outputs": [],
   "source": []
  },
  {
   "cell_type": "code",
   "execution_count": null,
   "metadata": {
    "collapsed": false
   },
   "outputs": [],
   "source": [
    "fig, ax = plt.subplots(figsize=(8,8))\n",
    "ax.set_title(\"G12_1000_Frames\")\n",
    "i= 0\n",
    "vmin = 13 # g12[:,:,i].min() +.0001\n",
    "vmax= 16\n",
    "\n",
    "im = ax.imshow(y1, cmap='viridis',  origin=\"lower\",\n",
    "               norm= LogNorm(vmin,vmax))\n",
    "               #vmin=vmin,vmax=vmax,)\n",
    "fig.colorbar(im) \n",
    "plt.show()"
   ]
  },
  {
   "cell_type": "code",
   "execution_count": null,
   "metadata": {
    "collapsed": true
   },
   "outputs": [],
   "source": []
  },
  {
   "cell_type": "code",
   "execution_count": null,
   "metadata": {
    "collapsed": true
   },
   "outputs": [],
   "source": []
  },
  {
   "cell_type": "code",
   "execution_count": null,
   "metadata": {
    "collapsed": true
   },
   "outputs": [],
   "source": []
  },
  {
   "cell_type": "code",
   "execution_count": null,
   "metadata": {
    "collapsed": true
   },
   "outputs": [],
   "source": []
  },
  {
   "cell_type": "code",
   "execution_count": null,
   "metadata": {
    "collapsed": true
   },
   "outputs": [],
   "source": []
  },
  {
   "cell_type": "code",
   "execution_count": null,
   "metadata": {
    "collapsed": true
   },
   "outputs": [],
   "source": []
  },
  {
   "cell_type": "code",
   "execution_count": null,
   "metadata": {
    "collapsed": true
   },
   "outputs": [],
   "source": []
  },
  {
   "cell_type": "code",
   "execution_count": null,
   "metadata": {
    "collapsed": true
   },
   "outputs": [],
   "source": []
  },
  {
   "cell_type": "code",
   "execution_count": null,
   "metadata": {
    "collapsed": true
   },
   "outputs": [],
   "source": []
  },
  {
   "cell_type": "code",
   "execution_count": null,
   "metadata": {
    "collapsed": true
   },
   "outputs": [],
   "source": []
  },
  {
   "cell_type": "code",
   "execution_count": null,
   "metadata": {
    "collapsed": true
   },
   "outputs": [],
   "source": []
  },
  {
   "cell_type": "code",
   "execution_count": null,
   "metadata": {
    "collapsed": true
   },
   "outputs": [],
   "source": []
  },
  {
   "cell_type": "code",
   "execution_count": null,
   "metadata": {
    "collapsed": true
   },
   "outputs": [],
   "source": []
  },
  {
   "cell_type": "code",
   "execution_count": null,
   "metadata": {
    "collapsed": true
   },
   "outputs": [],
   "source": []
  },
  {
   "cell_type": "code",
   "execution_count": null,
   "metadata": {
    "collapsed": true
   },
   "outputs": [],
   "source": []
  },
  {
   "cell_type": "code",
   "execution_count": null,
   "metadata": {
    "collapsed": true
   },
   "outputs": [],
   "source": []
  },
  {
   "cell_type": "code",
   "execution_count": null,
   "metadata": {
    "collapsed": true
   },
   "outputs": [],
   "source": []
  }
 ],
 "metadata": {
  "kernelspec": {
   "display_name": "ENV: user_analysis on xf11id-srv1",
   "language": "python",
   "name": "env_user_analysis"
  },
  "language_info": {
   "codemirror_mode": {
    "name": "ipython",
    "version": 3
   },
   "file_extension": ".py",
   "mimetype": "text/x-python",
   "name": "python",
   "nbconvert_exporter": "python",
   "pygments_lexer": "ipython3",
   "version": "3.4.3"
  }
 },
 "nbformat": 4,
 "nbformat_minor": 0
}
