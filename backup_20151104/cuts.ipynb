{
 "cells": [
  {
   "cell_type": "code",
   "execution_count": null,
   "metadata": {
    "collapsed": true
   },
   "outputs": [],
   "source": [
    "class RemoveHotSpots(object):\n",
    "    def __init__(self, indexable, threshold= 1E7 ):\n",
    "        self.indexable = indexable\n",
    "        self.threshold = threshold\n",
    "    def __getitem__(self, key):\n",
    "        data = np.array( self.indexable[key])  #.copy()        \n",
    "        data[np.where(  data >= self.threshold )]=0\n",
    "        return data"
   ]
  }
 ],
 "metadata": {
  "kernelspec": {
   "display_name": "ENV: user_analysis on xf11id-srv1",
   "language": "python",
   "name": "env_user_analysis"
  },
  "language_info": {
   "codemirror_mode": {
    "name": "ipython",
    "version": 3
   },
   "file_extension": ".py",
   "mimetype": "text/x-python",
   "name": "python",
   "nbconvert_exporter": "python",
   "pygments_lexer": "ipython3",
   "version": "3.4.3"
  }
 },
 "nbformat": 4,
 "nbformat_minor": 0
}
