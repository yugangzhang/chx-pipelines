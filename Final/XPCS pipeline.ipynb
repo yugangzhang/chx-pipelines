{
 "cells": [
  {
   "cell_type": "markdown",
   "metadata": {},
   "source": [
    "#  XPCS   Pipeline "
   ]
  },
  {
   "cell_type": "markdown",
   "metadata": {},
   "source": [
    " \"This notebook corresponds to version {{ version }} of the pipeline tool: https://github.com/NSLS-II/pipelines\""
   ]
  },
  {
   "cell_type": "markdown",
   "metadata": {},
   "source": [
    "## NSLS2 data retrieval imports"
   ]
  },
  {
   "cell_type": "code",
   "execution_count": 7,
   "metadata": {
    "collapsed": true
   },
   "outputs": [],
   "source": [
    "from databroker import DataBroker as db, get_images, get_table, get_events\n",
    "from filestore.api import register_handler, deregister_handler\n",
    "from filestore.retrieve import _h_registry, _HANDLER_CACHE"
   ]
  },
  {
   "cell_type": "code",
   "execution_count": 8,
   "metadata": {
    "collapsed": false
   },
   "outputs": [
    {
     "ename": "TypeError",
     "evalue": "unhashable type: 'set'",
     "output_type": "error",
     "traceback": [
      "\u001b[1;31m---------------------------------------------------------------------------\u001b[0m",
      "\u001b[1;31mTypeError\u001b[0m                                 Traceback (most recent call last)",
      "\u001b[1;32m<ipython-input-8-27d71802241f>\u001b[0m in \u001b[0;36m<module>\u001b[1;34m()\u001b[0m\n\u001b[1;32m----> 1\u001b[1;33m \u001b[0mhdr\u001b[0m \u001b[1;33m=\u001b[0m \u001b[0mdb\u001b[0m\u001b[1;33m[\u001b[0m\u001b[1;33m{\u001b[0m\u001b[1;33m{\u001b[0m \u001b[0muid\u001b[0m \u001b[1;33m}\u001b[0m\u001b[1;33m}\u001b[0m\u001b[1;33m]\u001b[0m\u001b[1;33m\u001b[0m\u001b[0m\n\u001b[0m",
      "\u001b[1;31mTypeError\u001b[0m: unhashable type: 'set'"
     ]
    }
   ],
   "source": [
    "hdr = db[{{ uid }}]"
   ]
  },
  {
   "cell_type": "code",
   "execution_count": 9,
   "metadata": {
    "collapsed": false
   },
   "outputs": [],
   "source": [
    "import numpy as np\n",
    "import matplotlib as mpl\n",
    "import matplotlib.pyplot as plt\n",
    "from matplotlib.colors import LogNorm"
   ]
  },
  {
   "cell_type": "markdown",
   "metadata": {},
   "source": [
    "### Lazy Eiger Handler (later will goto databroker)"
   ]
  },
  {
   "cell_type": "code",
   "execution_count": 10,
   "metadata": {
    "collapsed": false
   },
   "outputs": [],
   "source": [
    "import h5py\n",
    "from filestore.retrieve import HandlerBase\n",
    "from eiger_io.pims_reader import EigerImages\n",
    "\n",
    "EIGER_MD_DICT = {\n",
    "    'y_pixel_size': 'entry/instrument/detector/y_pixel_size',\n",
    "    'x_pixel_size': 'entry/instrument/detector/x_pixel_size',\n",
    "    'detector_distance': 'entry/instrument/detector/detector_distance',\n",
    "    'incident_wavelength': 'entry/instrument/beam/incident_wavelength',\n",
    "    'frame_time': 'entry/instrument/detector/frame_time',\n",
    "    'beam_center_x': 'entry/instrument/detector/beam_center_x',\n",
    "    'beam_center_y': 'entry/instrument/detector/beam_center_y',\n",
    "    'count_time': 'entry/instrument/detector/count_time',\n",
    "    'pixel_mask': 'entry/instrument/detector/detectorSpecific/pixel_mask',\n",
    "}\n",
    "\n",
    "class FixedEigerImages(EigerImages):\n",
    "    def __init__(self, path, metadata):\n",
    "        super().__init__(path)\n",
    "        self._metadata = metadata\n",
    "    \n",
    "    @property\n",
    "    def md(self):\n",
    "        return self._metadata\n",
    "    \n",
    "    @property\n",
    "    def dtype(self):\n",
    "        return self.pixel_type\n",
    "    \n",
    "    @property\n",
    "    def shape(self):\n",
    "        return self.frame_shape\n",
    "\n",
    "class LazyEigerHandler(HandlerBase):\n",
    "    specs = {'AD_EIGER'} | HandlerBase.specs\n",
    "    def __init__(self, fpath, frame_per_point, mapping=None):\n",
    "        # create pims handler\n",
    "        self.vals_dict = EIGER_MD_DICT.copy()\n",
    "        if mapping is not None:\n",
    "            self.vals_dict.update(mapping)\n",
    "        self._base_path = fpath\n",
    "        self.fpp = frame_per_point\n",
    "\n",
    "    def __call__(self, seq_id):\n",
    "        import h5py\n",
    "        master_path = '{}_{}_master.h5'.format(self._base_path, seq_id)\n",
    "        md = {}\n",
    "        print('hdf5 path = %s' % master_path)\n",
    "        with h5py.File(master_path, 'r') as f:\n",
    "            md = {k: f[v].value for k, v in self.vals_dict.items()}\n",
    "        # the pixel mask from the eiger contains:\n",
    "        # 1  -- gap\n",
    "        # 2  -- dead\n",
    "        # 4  -- under-responsive\n",
    "        # 8  -- over-responsive\n",
    "        # 16 -- noisy\n",
    "        pixel_mask = md['pixel_mask']\n",
    "        pixel_mask[pixel_mask>0] = 1\n",
    "        pixel_mask[pixel_mask==0] = 2\n",
    "        pixel_mask[pixel_mask==1] = 0\n",
    "        pixel_mask[pixel_mask==2] = 1\n",
    "        md['framerate'] = 1./md['frame_time']\n",
    "        # TODO Return a multi-dimensional PIMS seq\n",
    "        return FixedEigerImages(master_path, md)\n",
    "\n",
    "deregister_handler('AD_EIGER')\n",
    "_HANDLER_CACHE.clear()\n",
    "register_handler('AD_EIGER', LazyEigerHandler)"
   ]
  },
  {
   "cell_type": "code",
   "execution_count": 11,
   "metadata": {
    "collapsed": true
   },
   "outputs": [],
   "source": [
    "#%matplotlib notebook\n",
    "%matplotlib inline"
   ]
  },
  {
   "cell_type": "markdown",
   "metadata": {},
   "source": [
    "### Get the events from the uid"
   ]
  },
  {
   "cell_type": "code",
   "execution_count": 12,
   "metadata": {
    "collapsed": false,
    "scrolled": false
   },
   "outputs": [],
   "source": [
    "def print_attrs(name, obj):\n",
    "    print(name)\n",
    "    for key, val in obj.attrs.items():\n",
    "        print(\"%s: %s\" % (key, val))"
   ]
  },
  {
   "cell_type": "code",
   "execution_count": 13,
   "metadata": {
    "collapsed": true
   },
   "outputs": [],
   "source": [
    "uid = 'c423e856'\n",
    "uid = '1663d34a'\n",
    "hdr = db[uid]"
   ]
  },
  {
   "cell_type": "code",
   "execution_count": 14,
   "metadata": {
    "collapsed": false,
    "scrolled": false
   },
   "outputs": [
    {
     "name": "stdout",
     "output_type": "stream",
     "text": [
      "hdf5 path = /XF11ID/data/2015/10/31/a4bd439a-bd80-46f1-8c50_9165_master.h5\n"
     ]
    }
   ],
   "source": [
    "ev, = get_events(hdr, ['eiger_4M_cam_img_image_lightfield'], fill = True)"
   ]
  },
  {
   "cell_type": "code",
   "execution_count": 15,
   "metadata": {
    "collapsed": false
   },
   "outputs": [
    {
     "data": {
      "text/plain": [
       "'/XF11ID/analysis/2015/10/31/'"
      ]
     },
     "execution_count": 15,
     "metadata": {},
     "output_type": "execute_result"
    }
   ],
   "source": [
    "from datetime import datetime\n",
    "dt = datetime.fromtimestamp(hdr['start'].time)\n",
    "path ='/XF11ID/analysis' + '/%s/%s/%s/' % (dt.year, dt.month, dt.day)\n",
    "path"
   ]
  },
  {
   "cell_type": "code",
   "execution_count": 16,
   "metadata": {
    "collapsed": false
   },
   "outputs": [
    {
     "name": "stdout",
     "output_type": "stream",
     "text": [
      "<Frames>\n",
      "Length: 2500 frames\n",
      "Frame Shape: 2167 x 2070\n",
      "Pixel Datatype: uint16\n"
     ]
    }
   ],
   "source": [
    "imgs = ev['data']['eiger_4M_cam_img_image_lightfield']\n",
    "print (imgs)\n",
    "Nimg=len(imgs)"
   ]
  },
  {
   "cell_type": "code",
   "execution_count": 17,
   "metadata": {
    "collapsed": false
   },
   "outputs": [
    {
     "data": {
      "text/plain": [
       "{'beam_center_x': 840.0,\n",
       " 'beam_center_y': 1830.0,\n",
       " 'count_time': 0.0049999999,\n",
       " 'detector_distance': 4.8400002,\n",
       " 'frame_time': 0.00501,\n",
       " 'framerate': 199.60079982206346,\n",
       " 'incident_wavelength': 1.3794414,\n",
       " 'pixel_mask': array([[1, 1, 1, ..., 1, 1, 0],\n",
       "        [1, 1, 1, ..., 1, 1, 1],\n",
       "        [1, 1, 1, ..., 1, 1, 1],\n",
       "        ..., \n",
       "        [1, 1, 1, ..., 1, 1, 1],\n",
       "        [1, 1, 1, ..., 1, 1, 1],\n",
       "        [1, 1, 1, ..., 1, 1, 1]], dtype=uint32),\n",
       " 'x_pixel_size': 7.5000004e-05,\n",
       " 'y_pixel_size': 7.5000004e-05}"
      ]
     },
     "execution_count": 17,
     "metadata": {},
     "output_type": "execute_result"
    }
   ],
   "source": [
    "imgs.md"
   ]
  },
  {
   "cell_type": "markdown",
   "metadata": {},
   "source": [
    "## load a mask if exist \n",
    "### otherwise create a mask using Mask pipeline"
   ]
  },
  {
   "cell_type": "code",
   "execution_count": 20,
   "metadata": {
    "collapsed": false
   },
   "outputs": [],
   "source": [
    "#mask = np.load(uid+\"_mask.npy\")\n",
    "mask = np.load( path +  str(uid)+\"_mask.npy\")"
   ]
  },
  {
   "cell_type": "markdown",
   "metadata": {},
   "source": [
    "## Plot the mask"
   ]
  },
  {
   "cell_type": "code",
   "execution_count": 21,
   "metadata": {
    "collapsed": false
   },
   "outputs": [
    {
     "data": {
      "image/png": "[encoded data removed]",
      "text/plain": [
       "<matplotlib.figure.Figure at 0x7fa735f0eda0>"
      ]
     },
     "metadata": {},
     "output_type": "display_data"
    }
   ],
   "source": [
    "fig, ax = plt.subplots()\n",
    "im=ax.imshow(mask, origin='lower' ,vmin=0,vmax=1,cmap='viridis')\n",
    "fig.colorbar(im)\n",
    "plt.show()"
   ]
  },
  {
   "cell_type": "markdown",
   "metadata": {},
   "source": [
    "## Interactive way to browse through images.\n",
    "\n",
    "### Note : Provide the number of images that you want to browse"
   ]
  },
  {
   "cell_type": "code",
   "execution_count": 22,
   "metadata": {
    "collapsed": false,
    "scrolled": false
   },
   "outputs": [
    {
     "data": {
      "image/png": "[encoded data removed]",
      "text/plain": [
       "<matplotlib.figure.Figure at 0x7fa735f57780>"
      ]
     },
     "metadata": {},
     "output_type": "display_data"
    },
    {
     "data": {
      "text/plain": [
       "<function __main__.view_image>"
      ]
     },
     "execution_count": 22,
     "metadata": {},
     "output_type": "execute_result"
    }
   ],
   "source": [
    "from ipywidgets import interact\n",
    "\n",
    "def view_image(i):\n",
    "    fig, ax = plt.subplots()\n",
    "    ax.imshow(imgs[i]*mask, interpolation='nearest', cmap='viridis',\n",
    "                  origin='lower', norm= LogNorm(vmin=0.001, vmax=1e10 ) )\n",
    "    ax.set_title(\"Browse the Image Stack\")\n",
    "    plt.show()\n",
    "    \n",
    "interact(view_image, i=(0, Nimg-1))"
   ]
  },
  {
   "cell_type": "markdown",
   "metadata": {},
   "source": [
    "### hey, let's see if any images are bad!"
   ]
  },
  {
   "cell_type": "code",
   "execution_count": 23,
   "metadata": {
    "collapsed": false
   },
   "outputs": [],
   "source": [
    "bin_img = 25\n",
    "imgsum = [np.sum(img *mask) for img in imgs[::bin_img ]]"
   ]
  },
  {
   "cell_type": "code",
   "execution_count": 24,
   "metadata": {
    "collapsed": false
   },
   "outputs": [
    {
     "data": {
      "image/png": "[encoded data removed]",
      "text/plain": [
       "<matplotlib.figure.Figure at 0x7fa735ddae10>"
      ]
     },
     "metadata": {},
     "output_type": "display_data"
    }
   ],
   "source": [
    "fig, ax = plt.subplots()  \n",
    "ax.plot(imgsum,'bo')\n",
    "ax.set_xlabel( 'Frame_bin_%s'%bin_img )\n",
    "ax.set_ylabel( 'Total_Intensity' )\n",
    "plt.show()"
   ]
  },
  {
   "cell_type": "markdown",
   "metadata": {},
   "source": [
    "### Get the Averaged Image Data"
   ]
  },
  {
   "cell_type": "code",
   "execution_count": 25,
   "metadata": {
    "collapsed": false
   },
   "outputs": [],
   "source": [
    "avg_img = np.average(imgs[::50], axis=0)*mask"
   ]
  },
  {
   "cell_type": "markdown",
   "metadata": {},
   "source": [
    "## Plot the averged image with the mask"
   ]
  },
  {
   "cell_type": "code",
   "execution_count": 68,
   "metadata": {
    "collapsed": false
   },
   "outputs": [
    {
     "data": {
      "application/javascript": [
       "/* Put everything inside the global mpl namespace */\n",
       "window.mpl = {};\n",
       "\n",
       "mpl.get_websocket_type = function() {\n",
       "    if (typeof(WebSocket) !== 'undefined') {\n",
       "        return WebSocket;\n",
       "    } else if (typeof(MozWebSocket) !== 'undefined') {\n",
       "        return MozWebSocket;\n",
       "    } else {\n",
       "        alert('Your browser does not have WebSocket support.' +\n",
       "              'Please try Chrome, Safari or Firefox ≥ 6. ' +\n",
       "              'Firefox 4 and 5 are also supported but you ' +\n",
       "              'have to enable WebSockets in about:config.');\n",
       "    };\n",
       "}\n",
       "\n",
       "mpl.figure = function(figure_id, websocket, ondownload, parent_element) {\n",
       "    this.id = figure_id;\n",
       "\n",
       "    this.ws = websocket;\n",
       "\n",
       "    this.supports_binary = (this.ws.binaryType != undefined);\n",
       "\n",
       "    if (!this.supports_binary) {\n",
       "        var warnings = document.getElementById(\"mpl-warnings\");\n",
       "        if (warnings) {\n",
       "            warnings.style.display = 'block';\n",
       "            warnings.textContent = (\n",
       "                \"This browser does not support binary websocket messages. \" +\n",
       "                    \"Performance may be slow.\");\n",
       "        }\n",
       "    }\n",
       "\n",
       "    this.imageObj = new Image();\n",
       "\n",
       "    this.context = undefined;\n",
       "    this.message = undefined;\n",
       "    this.canvas = undefined;\n",
       "    this.rubberband_canvas = undefined;\n",
       "    this.rubberband_context = undefined;\n",
       "    this.format_dropdown = undefined;\n",
       "\n",
       "    this.image_mode = 'full';\n",
       "\n",
       "    this.root = $('<div/>');\n",
       "    this._root_extra_style(this.root)\n",
       "    this.root.attr('style', 'display: inline-block');\n",
       "\n",
       "    $(parent_element).append(this.root);\n",
       "\n",
       "    this._init_header(this);\n",
       "    this._init_canvas(this);\n",
       "    this._init_toolbar(this);\n",
       "\n",
       "    var fig = this;\n",
       "\n",
       "    this.waiting = false;\n",
       "\n",
       "    this.ws.onopen =  function () {\n",
       "            fig.send_message(\"supports_binary\", {value: fig.supports_binary});\n",
       "            fig.send_message(\"send_image_mode\", {});\n",
       "            fig.send_message(\"refresh\", {});\n",
       "        }\n",
       "\n",
       "    this.imageObj.onload = function() {\n",
       "            if (fig.image_mode == 'full') {\n",
       "                // Full images could contain transparency (where diff images\n",
       "                // almost always do), so we need to clear the canvas so that\n",
       "                // there is no ghosting.\n",
       "                fig.context.clearRect(0, 0, fig.canvas.width, fig.canvas.height);\n",
       "            }\n",
       "            fig.context.drawImage(fig.imageObj, 0, 0);\n",
       "        };\n",
       "\n",
       "    this.imageObj.onunload = function() {\n",
       "        this.ws.close();\n",
       "    }\n",
       "\n",
       "    this.ws.onmessage = this._make_on_message_function(this);\n",
       "\n",
       "    this.ondownload = ondownload;\n",
       "}\n",
       "\n",
       "mpl.figure.prototype._init_header = function() {\n",
       "    var titlebar = $(\n",
       "        '<div class=\"ui-dialog-titlebar ui-widget-header ui-corner-all ' +\n",
       "        'ui-helper-clearfix\"/>');\n",
       "    var titletext = $(\n",
       "        '<div class=\"ui-dialog-title\" style=\"width: 100%; ' +\n",
       "        'text-align: center; padding: 3px;\"/>');\n",
       "    titlebar.append(titletext)\n",
       "    this.root.append(titlebar);\n",
       "    this.header = titletext[0];\n",
       "}\n",
       "\n",
       "\n",
       "\n",
       "mpl.figure.prototype._canvas_extra_style = function(canvas_div) {\n",
       "\n",
       "}\n",
       "\n",
       "\n",
       "mpl.figure.prototype._root_extra_style = function(canvas_div) {\n",
       "\n",
       "}\n",
       "\n",
       "mpl.figure.prototype._init_canvas = function() {\n",
       "    var fig = this;\n",
       "\n",
       "    var canvas_div = $('<div/>');\n",
       "\n",
       "    canvas_div.attr('style', 'position: relative; clear: both; outline: 0');\n",
       "\n",
       "    function canvas_keyboard_event(event) {\n",
       "        return fig.key_event(event, event['data']);\n",
       "    }\n",
       "\n",
       "    canvas_div.keydown('key_press', canvas_keyboard_event);\n",
       "    canvas_div.keyup('key_release', canvas_keyboard_event);\n",
       "    this.canvas_div = canvas_div\n",
       "    this._canvas_extra_style(canvas_div)\n",
       "    this.root.append(canvas_div);\n",
       "\n",
       "    var canvas = $('<canvas/>');\n",
       "    canvas.addClass('mpl-canvas');\n",
       "    canvas.attr('style', \"left: 0; top: 0; z-index: 0; outline: 0\")\n",
       "\n",
       "    this.canvas = canvas[0];\n",
       "    this.context = canvas[0].getContext(\"2d\");\n",
       "\n",
       "    var rubberband = $('<canvas/>');\n",
       "    rubberband.attr('style', \"position: absolute; left: 0; top: 0; z-index: 1;\")\n",
       "\n",
       "    var pass_mouse_events = true;\n",
       "\n",
       "    canvas_div.resizable({\n",
       "        start: function(event, ui) {\n",
       "            pass_mouse_events = false;\n",
       "        },\n",
       "        resize: function(event, ui) {\n",
       "            fig.request_resize(ui.size.width, ui.size.height);\n",
       "        },\n",
       "        stop: function(event, ui) {\n",
       "            pass_mouse_events = true;\n",
       "            fig.request_resize(ui.size.width, ui.size.height);\n",
       "        },\n",
       "    });\n",
       "\n",
       "    function mouse_event_fn(event) {\n",
       "        if (pass_mouse_events)\n",
       "            return fig.mouse_event(event, event['data']);\n",
       "    }\n",
       "\n",
       "    rubberband.mousedown('button_press', mouse_event_fn);\n",
       "    rubberband.mouseup('button_release', mouse_event_fn);\n",
       "    // Throttle sequential mouse events to 1 every 20ms.\n",
       "    rubberband.mousemove('motion_notify', mouse_event_fn);\n",
       "\n",
       "    rubberband.mouseenter('figure_enter', mouse_event_fn);\n",
       "    rubberband.mouseleave('figure_leave', mouse_event_fn);\n",
       "\n",
       "    canvas_div.on(\"wheel\", function (event) {\n",
       "        event = event.originalEvent;\n",
       "        event['data'] = 'scroll'\n",
       "        if (event.deltaY < 0) {\n",
       "            event.step = 1;\n",
       "        } else {\n",
       "            event.step = -1;\n",
       "        }\n",
       "        mouse_event_fn(event);\n",
       "    });\n",
       "\n",
       "    canvas_div.append(canvas);\n",
       "    canvas_div.append(rubberband);\n",
       "\n",
       "    this.rubberband = rubberband;\n",
       "    this.rubberband_canvas = rubberband[0];\n",
       "    this.rubberband_context = rubberband[0].getContext(\"2d\");\n",
       "    this.rubberband_context.strokeStyle = \"#000000\";\n",
       "\n",
       "    this._resize_canvas = function(width, height) {\n",
       "        // Keep the size of the canvas, canvas container, and rubber band\n",
       "        // canvas in synch.\n",
       "        canvas_div.css('width', width)\n",
       "        canvas_div.css('height', height)\n",
       "\n",
       "        canvas.attr('width', width);\n",
       "        canvas.attr('height', height);\n",
       "\n",
       "        rubberband.attr('width', width);\n",
       "        rubberband.attr('height', height);\n",
       "    }\n",
       "\n",
       "    // Set the figure to an initial 600x600px, this will subsequently be updated\n",
       "    // upon first draw.\n",
       "    this._resize_canvas(600, 600);\n",
       "\n",
       "    // Disable right mouse context menu.\n",
       "    $(this.rubberband_canvas).bind(\"contextmenu\",function(e){\n",
       "        return false;\n",
       "    });\n",
       "\n",
       "    function set_focus () {\n",
       "        canvas.focus();\n",
       "        canvas_div.focus();\n",
       "    }\n",
       "\n",
       "    window.setTimeout(set_focus, 100);\n",
       "}\n",
       "\n",
       "mpl.figure.prototype._init_toolbar = function() {\n",
       "    var fig = this;\n",
       "\n",
       "    var nav_element = $('<div/>')\n",
       "    nav_element.attr('style', 'width: 100%');\n",
       "    this.root.append(nav_element);\n",
       "\n",
       "    // Define a callback function for later on.\n",
       "    function toolbar_event(event) {\n",
       "        return fig.toolbar_button_onclick(event['data']);\n",
       "    }\n",
       "    function toolbar_mouse_event(event) {\n",
       "        return fig.toolbar_button_onmouseover(event['data']);\n",
       "    }\n",
       "\n",
       "    for(var toolbar_ind in mpl.toolbar_items) {\n",
       "        var name = mpl.toolbar_items[toolbar_ind][0];\n",
       "        var tooltip = mpl.toolbar_items[toolbar_ind][1];\n",
       "        var image = mpl.toolbar_items[toolbar_ind][2];\n",
       "        var method_name = mpl.toolbar_items[toolbar_ind][3];\n",
       "\n",
       "        if (!name) {\n",
       "            // put a spacer in here.\n",
       "            continue;\n",
       "        }\n",
       "        var button = $('<button/>');\n",
       "        button.addClass('ui-button ui-widget ui-state-default ui-corner-all ' +\n",
       "                        'ui-button-icon-only');\n",
       "        button.attr('role', 'button');\n",
       "        button.attr('aria-disabled', 'false');\n",
       "        button.click(method_name, toolbar_event);\n",
       "        button.mouseover(tooltip, toolbar_mouse_event);\n",
       "\n",
       "        var icon_img = $('<span/>');\n",
       "        icon_img.addClass('ui-button-icon-primary ui-icon');\n",
       "        icon_img.addClass(image);\n",
       "        icon_img.addClass('ui-corner-all');\n",
       "\n",
       "        var tooltip_span = $('<span/>');\n",
       "        tooltip_span.addClass('ui-button-text');\n",
       "        tooltip_span.html(tooltip);\n",
       "\n",
       "        button.append(icon_img);\n",
       "        button.append(tooltip_span);\n",
       "\n",
       "        nav_element.append(button);\n",
       "    }\n",
       "\n",
       "    var fmt_picker_span = $('<span/>');\n",
       "\n",
       "    var fmt_picker = $('<select/>');\n",
       "    fmt_picker.addClass('mpl-toolbar-option ui-widget ui-widget-content');\n",
       "    fmt_picker_span.append(fmt_picker);\n",
       "    nav_element.append(fmt_picker_span);\n",
       "    this.format_dropdown = fmt_picker[0];\n",
       "\n",
       "    for (var ind in mpl.extensions) {\n",
       "        var fmt = mpl.extensions[ind];\n",
       "        var option = $(\n",
       "            '<option/>', {selected: fmt === mpl.default_extension}).html(fmt);\n",
       "        fmt_picker.append(option)\n",
       "    }\n",
       "\n",
       "    // Add hover states to the ui-buttons\n",
       "    $( \".ui-button\" ).hover(\n",
       "        function() { $(this).addClass(\"ui-state-hover\");},\n",
       "        function() { $(this).removeClass(\"ui-state-hover\");}\n",
       "    );\n",
       "\n",
       "    var status_bar = $('<span class=\"mpl-message\"/>');\n",
       "    nav_element.append(status_bar);\n",
       "    this.message = status_bar[0];\n",
       "}\n",
       "\n",
       "mpl.figure.prototype.request_resize = function(x_pixels, y_pixels) {\n",
       "    // Request matplotlib to resize the figure. Matplotlib will then trigger a resize in the client,\n",
       "    // which will in turn request a refresh of the image.\n",
       "    this.send_message('resize', {'width': x_pixels, 'height': y_pixels});\n",
       "}\n",
       "\n",
       "mpl.figure.prototype.send_message = function(type, properties) {\n",
       "    properties['type'] = type;\n",
       "    properties['figure_id'] = this.id;\n",
       "    this.ws.send(JSON.stringify(properties));\n",
       "}\n",
       "\n",
       "mpl.figure.prototype.send_draw_message = function() {\n",
       "    if (!this.waiting) {\n",
       "        this.waiting = true;\n",
       "        this.ws.send(JSON.stringify({type: \"draw\", figure_id: this.id}));\n",
       "    }\n",
       "}\n",
       "\n",
       "\n",
       "mpl.figure.prototype.handle_save = function(fig, msg) {\n",
       "    var format_dropdown = fig.format_dropdown;\n",
       "    var format = format_dropdown.options[format_dropdown.selectedIndex].value;\n",
       "    fig.ondownload(fig, format);\n",
       "}\n",
       "\n",
       "\n",
       "mpl.figure.prototype.handle_resize = function(fig, msg) {\n",
       "    var size = msg['size'];\n",
       "    if (size[0] != fig.canvas.width || size[1] != fig.canvas.height) {\n",
       "        fig._resize_canvas(size[0], size[1]);\n",
       "        fig.send_message(\"refresh\", {});\n",
       "    };\n",
       "}\n",
       "\n",
       "mpl.figure.prototype.handle_rubberband = function(fig, msg) {\n",
       "    var x0 = msg['x0'];\n",
       "    var y0 = fig.canvas.height - msg['y0'];\n",
       "    var x1 = msg['x1'];\n",
       "    var y1 = fig.canvas.height - msg['y1'];\n",
       "    x0 = Math.floor(x0) + 0.5;\n",
       "    y0 = Math.floor(y0) + 0.5;\n",
       "    x1 = Math.floor(x1) + 0.5;\n",
       "    y1 = Math.floor(y1) + 0.5;\n",
       "    var min_x = Math.min(x0, x1);\n",
       "    var min_y = Math.min(y0, y1);\n",
       "    var width = Math.abs(x1 - x0);\n",
       "    var height = Math.abs(y1 - y0);\n",
       "\n",
       "    fig.rubberband_context.clearRect(\n",
       "        0, 0, fig.canvas.width, fig.canvas.height);\n",
       "\n",
       "    fig.rubberband_context.strokeRect(min_x, min_y, width, height);\n",
       "}\n",
       "\n",
       "mpl.figure.prototype.handle_figure_label = function(fig, msg) {\n",
       "    // Updates the figure title.\n",
       "    fig.header.textContent = msg['label'];\n",
       "}\n",
       "\n",
       "mpl.figure.prototype.handle_cursor = function(fig, msg) {\n",
       "    var cursor = msg['cursor'];\n",
       "    switch(cursor)\n",
       "    {\n",
       "    case 0:\n",
       "        cursor = 'pointer';\n",
       "        break;\n",
       "    case 1:\n",
       "        cursor = 'default';\n",
       "        break;\n",
       "    case 2:\n",
       "        cursor = 'crosshair';\n",
       "        break;\n",
       "    case 3:\n",
       "        cursor = 'move';\n",
       "        break;\n",
       "    }\n",
       "    fig.rubberband_canvas.style.cursor = cursor;\n",
       "}\n",
       "\n",
       "mpl.figure.prototype.handle_message = function(fig, msg) {\n",
       "    fig.message.textContent = msg['message'];\n",
       "}\n",
       "\n",
       "mpl.figure.prototype.handle_draw = function(fig, msg) {\n",
       "    // Request the server to send over a new figure.\n",
       "    fig.send_draw_message();\n",
       "}\n",
       "\n",
       "mpl.figure.prototype.handle_image_mode = function(fig, msg) {\n",
       "    fig.image_mode = msg['mode'];\n",
       "}\n",
       "\n",
       "mpl.figure.prototype.updated_canvas_event = function() {\n",
       "    // Called whenever the canvas gets updated.\n",
       "    this.send_message(\"ack\", {});\n",
       "}\n",
       "\n",
       "// A function to construct a web socket function for onmessage handling.\n",
       "// Called in the figure constructor.\n",
       "mpl.figure.prototype._make_on_message_function = function(fig) {\n",
       "    return function socket_on_message(evt) {\n",
       "        if (evt.data instanceof Blob) {\n",
       "            /* FIXME: We get \"Resource interpreted as Image but\n",
       "             * transferred with MIME type text/plain:\" errors on\n",
       "             * Chrome.  But how to set the MIME type?  It doesn't seem\n",
       "             * to be part of the websocket stream */\n",
       "            evt.data.type = \"image/png\";\n",
       "\n",
       "            /* Free the memory for the previous frames */\n",
       "            if (fig.imageObj.src) {\n",
       "                (window.URL || window.webkitURL).revokeObjectURL(\n",
       "                    fig.imageObj.src);\n",
       "            }\n",
       "\n",
       "            fig.imageObj.src = (window.URL || window.webkitURL).createObjectURL(\n",
       "                evt.data);\n",
       "            fig.updated_canvas_event();\n",
       "            fig.waiting = false;\n",
       "            return;\n",
       "        }\n",
       "        else if (typeof evt.data === 'string' && evt.data.slice(0, 21) == \"data:image/png;base64\") {\n",
       "            fig.imageObj.src = evt.data;\n",
       "            fig.updated_canvas_event();\n",
       "            fig.waiting = false;\n",
       "            return;\n",
       "        }\n",
       "\n",
       "        var msg = JSON.parse(evt.data);\n",
       "        var msg_type = msg['type'];\n",
       "\n",
       "        // Call the  \"handle_{type}\" callback, which takes\n",
       "        // the figure and JSON message as its only arguments.\n",
       "        try {\n",
       "            var callback = fig[\"handle_\" + msg_type];\n",
       "        } catch (e) {\n",
       "            console.log(\"No handler for the '\" + msg_type + \"' message type: \", msg);\n",
       "            return;\n",
       "        }\n",
       "\n",
       "        if (callback) {\n",
       "            try {\n",
       "                // console.log(\"Handling '\" + msg_type + \"' message: \", msg);\n",
       "                callback(fig, msg);\n",
       "            } catch (e) {\n",
       "                console.log(\"Exception inside the 'handler_\" + msg_type + \"' callback:\", e, e.stack, msg);\n",
       "            }\n",
       "        }\n",
       "    };\n",
       "}\n",
       "\n",
       "// from http://stackoverflow.com/questions/1114465/getting-mouse-location-in-canvas\n",
       "mpl.findpos = function(e) {\n",
       "    //this section is from http://www.quirksmode.org/js/events_properties.html\n",
       "    var targ;\n",
       "    if (!e)\n",
       "        e = window.event;\n",
       "    if (e.target)\n",
       "        targ = e.target;\n",
       "    else if (e.srcElement)\n",
       "        targ = e.srcElement;\n",
       "    if (targ.nodeType == 3) // defeat Safari bug\n",
       "        targ = targ.parentNode;\n",
       "\n",
       "    // jQuery normalizes the pageX and pageY\n",
       "    // pageX,Y are the mouse positions relative to the document\n",
       "    // offset() returns the position of the element relative to the document\n",
       "    var x = e.pageX - $(targ).offset().left;\n",
       "    var y = e.pageY - $(targ).offset().top;\n",
       "\n",
       "    return {\"x\": x, \"y\": y};\n",
       "};\n",
       "\n",
       "/*\n",
       " * return a copy of an object with only non-object keys\n",
       " * we need this to avoid circular references\n",
       " * http://stackoverflow.com/a/24161582/3208463\n",
       " */\n",
       "function simpleKeys (original) {\n",
       "  return Object.keys(original).reduce(function (obj, key) {\n",
       "    if (typeof original[key] !== 'object')\n",
       "        obj[key] = original[key]\n",
       "    return obj;\n",
       "  }, {});\n",
       "}\n",
       "\n",
       "mpl.figure.prototype.mouse_event = function(event, name) {\n",
       "    var canvas_pos = mpl.findpos(event)\n",
       "\n",
       "    if (name === 'button_press')\n",
       "    {\n",
       "        this.canvas.focus();\n",
       "        this.canvas_div.focus();\n",
       "    }\n",
       "\n",
       "    var x = canvas_pos.x;\n",
       "    var y = canvas_pos.y;\n",
       "\n",
       "    this.send_message(name, {x: x, y: y, button: event.button,\n",
       "                             step: event.step,\n",
       "                             guiEvent: simpleKeys(event)});\n",
       "\n",
       "    /* This prevents the web browser from automatically changing to\n",
       "     * the text insertion cursor when the button is pressed.  We want\n",
       "     * to control all of the cursor setting manually through the\n",
       "     * 'cursor' event from matplotlib */\n",
       "    event.preventDefault();\n",
       "    return false;\n",
       "}\n",
       "\n",
       "mpl.figure.prototype._key_event_extra = function(event, name) {\n",
       "    // Handle any extra behaviour associated with a key event\n",
       "}\n",
       "\n",
       "mpl.figure.prototype.key_event = function(event, name) {\n",
       "\n",
       "    // Prevent repeat events\n",
       "    if (name == 'key_press')\n",
       "    {\n",
       "        if (event.which === this._key)\n",
       "            return;\n",
       "        else\n",
       "            this._key = event.which;\n",
       "    }\n",
       "    if (name == 'key_release')\n",
       "        this._key = null;\n",
       "\n",
       "    var value = '';\n",
       "    if (event.ctrlKey && event.which != 17)\n",
       "        value += \"ctrl+\";\n",
       "    if (event.altKey && event.which != 18)\n",
       "        value += \"alt+\";\n",
       "    if (event.shiftKey && event.which != 16)\n",
       "        value += \"shift+\";\n",
       "\n",
       "    value += 'k';\n",
       "    value += event.which.toString();\n",
       "\n",
       "    this._key_event_extra(event, name);\n",
       "\n",
       "    this.send_message(name, {key: value,\n",
       "                             guiEvent: simpleKeys(event)});\n",
       "    return false;\n",
       "}\n",
       "\n",
       "mpl.figure.prototype.toolbar_button_onclick = function(name) {\n",
       "    if (name == 'download') {\n",
       "        this.handle_save(this, null);\n",
       "    } else {\n",
       "        this.send_message(\"toolbar_button\", {name: name});\n",
       "    }\n",
       "};\n",
       "\n",
       "mpl.figure.prototype.toolbar_button_onmouseover = function(tooltip) {\n",
       "    this.message.textContent = tooltip;\n",
       "};\n",
       "mpl.toolbar_items = [[\"Home\", \"Reset original view\", \"fa fa-home icon-home\", \"home\"], [\"Back\", \"Back to  previous view\", \"fa fa-arrow-left icon-arrow-left\", \"back\"], [\"Forward\", \"Forward to next view\", \"fa fa-arrow-right icon-arrow-right\", \"forward\"], [\"\", \"\", \"\", \"\"], [\"Pan\", \"Pan axes with left mouse, zoom with right\", \"fa fa-arrows icon-move\", \"pan\"], [\"Zoom\", \"Zoom to rectangle\", \"fa fa-square-o icon-check-empty\", \"zoom\"], [\"\", \"\", \"\", \"\"], [\"Download\", \"Download plot\", \"fa fa-floppy-o icon-save\", \"download\"]];\n",
       "\n",
       "mpl.extensions = [\"eps\", \"jpeg\", \"pdf\", \"png\", \"ps\", \"raw\", \"svg\", \"tif\"];\n",
       "\n",
       "mpl.default_extension = \"png\";var comm_websocket_adapter = function(comm) {\n",
       "    // Create a \"websocket\"-like object which calls the given IPython comm\n",
       "    // object with the appropriate methods. Currently this is a non binary\n",
       "    // socket, so there is still some room for performance tuning.\n",
       "    var ws = {};\n",
       "\n",
       "    ws.close = function() {\n",
       "        comm.close()\n",
       "    };\n",
       "    ws.send = function(m) {\n",
       "        //console.log('sending', m);\n",
       "        comm.send(m);\n",
       "    };\n",
       "    // Register the callback with on_msg.\n",
       "    comm.on_msg(function(msg) {\n",
       "        //console.log('receiving', msg['content']['data'], msg);\n",
       "        // Pass the mpl event to the overriden (by mpl) onmessage function.\n",
       "        ws.onmessage(msg['content']['data'])\n",
       "    });\n",
       "    return ws;\n",
       "}\n",
       "\n",
       "mpl.mpl_figure_comm = function(comm, msg) {\n",
       "    // This is the function which gets called when the mpl process\n",
       "    // starts-up an IPython Comm through the \"matplotlib\" channel.\n",
       "\n",
       "    var id = msg.content.data.id;\n",
       "    // Get hold of the div created by the display call when the Comm\n",
       "    // socket was opened in Python.\n",
       "    var element = $(\"#\" + id);\n",
       "    var ws_proxy = comm_websocket_adapter(comm)\n",
       "\n",
       "    function ondownload(figure, format) {\n",
       "        window.open(figure.imageObj.src);\n",
       "    }\n",
       "\n",
       "    var fig = new mpl.figure(id, ws_proxy,\n",
       "                           ondownload,\n",
       "                           element.get(0));\n",
       "\n",
       "    // Call onopen now - mpl needs it, as it is assuming we've passed it a real\n",
       "    // web socket which is closed, not our websocket->open comm proxy.\n",
       "    ws_proxy.onopen();\n",
       "\n",
       "    fig.parent_element = element.get(0);\n",
       "    fig.cell_info = mpl.find_output_cell(\"<div id='\" + id + \"'></div>\");\n",
       "    if (!fig.cell_info) {\n",
       "        console.error(\"Failed to find cell for figure\", id, fig);\n",
       "        return;\n",
       "    }\n",
       "\n",
       "    var output_index = fig.cell_info[2]\n",
       "    var cell = fig.cell_info[0];\n",
       "\n",
       "};\n",
       "\n",
       "mpl.figure.prototype.handle_close = function(fig, msg) {\n",
       "    fig.root.unbind('remove')\n",
       "\n",
       "    // Update the output cell to use the data from the current canvas.\n",
       "    fig.push_to_output();\n",
       "    var dataURL = fig.canvas.toDataURL();\n",
       "    // Re-enable the keyboard manager in IPython - without this line, in FF,\n",
       "    // the notebook keyboard shortcuts fail.\n",
       "    IPython.keyboard_manager.enable()\n",
       "    $(fig.parent_element).html('<img src=\"' + dataURL + '\">');\n",
       "    fig.close_ws(fig, msg);\n",
       "}\n",
       "\n",
       "mpl.figure.prototype.close_ws = function(fig, msg){\n",
       "    fig.send_message('closing', msg);\n",
       "    // fig.ws.close()\n",
       "}\n",
       "\n",
       "mpl.figure.prototype.push_to_output = function(remove_interactive) {\n",
       "    // Turn the data on the canvas into data in the output cell.\n",
       "    var dataURL = this.canvas.toDataURL();\n",
       "    this.cell_info[1]['text/html'] = '<img src=\"' + dataURL + '\">';\n",
       "}\n",
       "\n",
       "mpl.figure.prototype.updated_canvas_event = function() {\n",
       "    // Tell IPython that the notebook contents must change.\n",
       "    IPython.notebook.set_dirty(true);\n",
       "    this.send_message(\"ack\", {});\n",
       "    var fig = this;\n",
       "    // Wait a second, then push the new image to the DOM so\n",
       "    // that it is saved nicely (might be nice to debounce this).\n",
       "    setTimeout(function () { fig.push_to_output() }, 1000);\n",
       "}\n",
       "\n",
       "mpl.figure.prototype._init_toolbar = function() {\n",
       "    var fig = this;\n",
       "\n",
       "    var nav_element = $('<div/>')\n",
       "    nav_element.attr('style', 'width: 100%');\n",
       "    this.root.append(nav_element);\n",
       "\n",
       "    // Define a callback function for later on.\n",
       "    function toolbar_event(event) {\n",
       "        return fig.toolbar_button_onclick(event['data']);\n",
       "    }\n",
       "    function toolbar_mouse_event(event) {\n",
       "        return fig.toolbar_button_onmouseover(event['data']);\n",
       "    }\n",
       "\n",
       "    for(var toolbar_ind in mpl.toolbar_items){\n",
       "        var name = mpl.toolbar_items[toolbar_ind][0];\n",
       "        var tooltip = mpl.toolbar_items[toolbar_ind][1];\n",
       "        var image = mpl.toolbar_items[toolbar_ind][2];\n",
       "        var method_name = mpl.toolbar_items[toolbar_ind][3];\n",
       "\n",
       "        if (!name) { continue; };\n",
       "\n",
       "        var button = $('<button class=\"btn btn-default\" href=\"#\" title=\"' + name + '\"><i class=\"fa ' + image + ' fa-lg\"></i></button>');\n",
       "        button.click(method_name, toolbar_event);\n",
       "        button.mouseover(tooltip, toolbar_mouse_event);\n",
       "        nav_element.append(button);\n",
       "    }\n",
       "\n",
       "    // Add the status bar.\n",
       "    var status_bar = $('<span class=\"mpl-message\" style=\"text-align:right; float: right;\"/>');\n",
       "    nav_element.append(status_bar);\n",
       "    this.message = status_bar[0];\n",
       "\n",
       "    // Add the close button to the window.\n",
       "    var buttongrp = $('<div class=\"btn-group inline pull-right\"></div>');\n",
       "    var button = $('<button class=\"btn btn-mini btn-primary\" href=\"#\" title=\"Stop Interaction\"><i class=\"fa fa-power-off icon-remove icon-large\"></i></button>');\n",
       "    button.click(function (evt) { fig.handle_close(fig, {}); } );\n",
       "    button.mouseover('Stop Interaction', toolbar_mouse_event);\n",
       "    buttongrp.append(button);\n",
       "    var titlebar = this.root.find($('.ui-dialog-titlebar'));\n",
       "    titlebar.prepend(buttongrp);\n",
       "}\n",
       "\n",
       "mpl.figure.prototype._root_extra_style = function(el){\n",
       "    var fig = this\n",
       "    el.on(\"remove\", function(){\n",
       "\tfig.close_ws(fig, {});\n",
       "    });\n",
       "}\n",
       "\n",
       "mpl.figure.prototype._canvas_extra_style = function(el){\n",
       "    // this is important to make the div 'focusable\n",
       "    el.attr('tabindex', 0)\n",
       "    // reach out to IPython and tell the keyboard manager to turn it's self\n",
       "    // off when our div gets focus\n",
       "\n",
       "    // location in version 3\n",
       "    if (IPython.notebook.keyboard_manager) {\n",
       "        IPython.notebook.keyboard_manager.register_events(el);\n",
       "    }\n",
       "    else {\n",
       "        // location in version 2\n",
       "        IPython.keyboard_manager.register_events(el);\n",
       "    }\n",
       "\n",
       "}\n",
       "\n",
       "mpl.figure.prototype._key_event_extra = function(event, name) {\n",
       "    var manager = IPython.notebook.keyboard_manager;\n",
       "    if (!manager)\n",
       "        manager = IPython.keyboard_manager;\n",
       "\n",
       "    // Check for shift+enter\n",
       "    if (event.shiftKey && event.which == 13) {\n",
       "        this.canvas_div.blur();\n",
       "        event.shiftKey = false;\n",
       "        // Send a \"J\" for go to next cell\n",
       "        event.which = 74;\n",
       "        event.keyCode = 74;\n",
       "        manager.command_mode();\n",
       "        manager.handle_keydown(event);\n",
       "    }\n",
       "}\n",
       "\n",
       "mpl.figure.prototype.handle_save = function(fig, msg) {\n",
       "    fig.ondownload(fig, null);\n",
       "}\n",
       "\n",
       "\n",
       "mpl.find_output_cell = function(html_output) {\n",
       "    // Return the cell and output element which can be found *uniquely* in the notebook.\n",
       "    // Note - this is a bit hacky, but it is done because the \"notebook_saving.Notebook\"\n",
       "    // IPython event is triggered only after the cells have been serialised, which for\n",
       "    // our purposes (turning an active figure into a static one), is too late.\n",
       "    var cells = IPython.notebook.get_cells();\n",
       "    var ncells = cells.length;\n",
       "    for (var i=0; i<ncells; i++) {\n",
       "        var cell = cells[i];\n",
       "        if (cell.cell_type === 'code'){\n",
       "            for (var j=0; j<cell.output_area.outputs.length; j++) {\n",
       "                var data = cell.output_area.outputs[j];\n",
       "                if (data.data) {\n",
       "                    // IPython >= 3 moved mimebundle to data attribute of output\n",
       "                    data = data.data;\n",
       "                }\n",
       "                if (data['text/html'] == html_output) {\n",
       "                    return [cell, data, j];\n",
       "                }\n",
       "            }\n",
       "        }\n",
       "    }\n",
       "}\n",
       "\n",
       "// Register the function which deals with the matplotlib target/channel.\n",
       "// The kernel may be null if the page has been refreshed.\n",
       "if (IPython.notebook.kernel != null) {\n",
       "    IPython.notebook.kernel.comm_manager.register_target('matplotlib', mpl.mpl_figure_comm);\n",
       "}\n"
      ],
      "text/plain": [
       "<IPython.core.display.Javascript object>"
      ]
     },
     "metadata": {},
     "output_type": "display_data"
    },
    {
     "data": {
      "text/html": [
       "<img src=\"data:image/png;base64,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\">"
      ],
      "text/plain": [
       "<IPython.core.display.HTML object>"
      ]
     },
     "metadata": {},
     "output_type": "display_data"
    },
    {
     "data": {
      "image/png": "[encoded data removed]",
      "text/plain": [
       "<matplotlib.figure.Figure at 0x7fa71ab05828>"
      ]
     },
     "metadata": {},
     "output_type": "display_data"
    }
   ],
   "source": [
    "%matplotlib notebook\n",
    "img_mask = avg_img * mask\n",
    "\n",
    "fig, ax = plt.subplots()\n",
    "im = ax.imshow(img_mask, cmap='viridis',origin='lower',\n",
    "               norm= LogNorm(vmin=0.001, vmax=1e1))\n",
    "ax.set_title(\"Masked Averaged Image\")\n",
    "fig.colorbar(im)\n",
    "plt.show()"
   ]
  },
  {
   "cell_type": "markdown",
   "metadata": {},
   "source": [
    "## Note:  experiment information \n",
    "\n",
    "* The physical size of the pixels\n",
    "* Wavelegth of the X-rays  - (units in Angstroms)\n",
    "* Detector to sample distance\n",
    "* Exposure time - (units in seconds)\n",
    "* acqusition period - (units in seconds)\n",
    "* dead time - (units in seconds)\n",
    "* time per frame = (exposure time + dead_time or acqusition period) - (units in seconds)"
   ]
  },
  {
   "cell_type": "code",
   "execution_count": 27,
   "metadata": {
    "collapsed": false
   },
   "outputs": [
    {
     "data": {
      "text/plain": [
       "{'beam_center_x': 840.0,\n",
       " 'beam_center_y': 1830.0,\n",
       " 'count_time': 0.0049999999,\n",
       " 'detector_distance': 4.8400002,\n",
       " 'frame_time': 0.00501,\n",
       " 'framerate': 199.60079982206346,\n",
       " 'incident_wavelength': 1.3794414,\n",
       " 'pixel_mask': array([[1, 1, 1, ..., 1, 1, 0],\n",
       "        [1, 1, 1, ..., 1, 1, 1],\n",
       "        [1, 1, 1, ..., 1, 1, 1],\n",
       "        ..., \n",
       "        [1, 1, 1, ..., 1, 1, 1],\n",
       "        [1, 1, 1, ..., 1, 1, 1],\n",
       "        [1, 1, 1, ..., 1, 1, 1]], dtype=uint32),\n",
       " 'x_pixel_size': 7.5000004e-05,\n",
       " 'y_pixel_size': 7.5000004e-05}"
      ]
     },
     "execution_count": 27,
     "metadata": {},
     "output_type": "execute_result"
    }
   ],
   "source": [
    "imgs.md"
   ]
  },
  {
   "cell_type": "code",
   "execution_count": 28,
   "metadata": {
    "collapsed": false
   },
   "outputs": [
    {
     "data": {
      "text/plain": [
       "(0.00501, 0.0049999999)"
      ]
     },
     "execution_count": 28,
     "metadata": {},
     "output_type": "execute_result"
    }
   ],
   "source": [
    "# The physical size of the pixels\n",
    "dpix = imgs.md['x_pixel_size'] * 1000.  \n",
    "lambda_ = imgs.md['incident_wavelength']    # wavelegth of the X-rays in Angstroms\n",
    "Ldet = 5000.        # detector to sample distance (mm)\n",
    "\n",
    "exposuretime= imgs.md['count_time']\n",
    "acquisition_period = imgs.md['frame_time']\n",
    "\n",
    "# deadtime= 0   # 60e-6 \n",
    "# timeperframe = exposuretime + deadtime\n",
    "timeperframe = acquisition_period  \n",
    "\n",
    "timeperframe, exposuretime"
   ]
  },
  {
   "cell_type": "markdown",
   "metadata": {},
   "source": [
    "## Import all the required packages for  Data Analysis\n",
    "\n",
    "* scikit-xray - data analysis tools for X-ray science \n",
    "    - https://github.com/scikit-xray/scikit-xray\n",
    "* xray-vision - plotting helper functions for X-ray science\n",
    "    - https://github.com/Nikea/xray-vision\n"
   ]
  },
  {
   "cell_type": "code",
   "execution_count": 29,
   "metadata": {
    "collapsed": false
   },
   "outputs": [
    {
     "name": "stderr",
     "output_type": "stream",
     "text": [
      "/opt/conda_envs/analysis/lib/python3.4/site-packages/IPython/html.py:14: ShimWarning: The `IPython.html` package has been deprecated. You should import from `notebook` instead. `IPython.html.widgets` has moved to `ipywidgets`.\n",
      "  \"`IPython.html.widgets` has moved to `ipywidgets`.\", ShimWarning)\n"
     ]
    }
   ],
   "source": [
    "import xray_vision\n",
    "import xray_vision.mpl_plotting as mpl_plot  \n",
    "from xray_vision.mpl_plotting import speckle\n",
    "from xray_vision.mask.manual_mask import ManualMask\n",
    "\n",
    "import skxray.core.roi as roi\n",
    "\n",
    "import skxray.core.correlation as corr\n",
    "import skxray.core.utils as utils"
   ]
  },
  {
   "cell_type": "markdown",
   "metadata": {},
   "source": [
    "## Get the approximate center and see the statistic to make sure "
   ]
  },
  {
   "cell_type": "code",
   "execution_count": 30,
   "metadata": {
    "collapsed": false
   },
   "outputs": [
    {
     "data": {
      "text/plain": [
       "(840.0, 1830.0)"
      ]
     },
     "execution_count": 30,
     "metadata": {},
     "output_type": "execute_result"
    }
   ],
   "source": [
    "imgs.md['beam_center_x'], imgs.md['beam_center_y']"
   ]
  },
  {
   "cell_type": "code",
   "execution_count": 31,
   "metadata": {
    "collapsed": false
   },
   "outputs": [
    {
     "data": {
      "text/plain": [
       "[1830, 840]"
      ]
     },
     "execution_count": 31,
     "metadata": {},
     "output_type": "execute_result"
    }
   ],
   "source": [
    "#center = (imgs.md['beam_center_x'], imgs.md['beam_center_y'])\n",
    "center = [840, 1830]  # center of the speckle pattern\n",
    "center=[center[1], center[0]]\n",
    "\n",
    "center"
   ]
  },
  {
   "cell_type": "markdown",
   "metadata": {},
   "source": [
    "### Circular Average : compute the radial integartion from the center of the speckle pattern"
   ]
  },
  {
   "cell_type": "code",
   "execution_count": 32,
   "metadata": {
    "collapsed": false
   },
   "outputs": [],
   "source": [
    "bin_centers, ring_averages= roi.circular_average(img_mask, \n",
    "        center, threshold=0, nx=2000, pixel_size=(dpix, dpix))\n",
    "\n",
    "#  convert to q (reciprocal space)\n",
    "two_theta = utils.radius_to_twotheta(Ldet, bin_centers)\n",
    "q_val = utils.twotheta_to_q(two_theta, lambda_)"
   ]
  },
  {
   "cell_type": "code",
   "execution_count": 33,
   "metadata": {
    "collapsed": false
   },
   "outputs": [
    {
     "data": {
      "image/png": "[encoded data removed]",
      "text/plain": [
       "<matplotlib.figure.Figure at 0x7fa72792a1d0>"
      ]
     },
     "metadata": {},
     "output_type": "display_data"
    }
   ],
   "source": [
    "fig,axes = plt.subplots(figsize=(8, 6))\n",
    "axes.semilogy(q_val, ring_averages, '-o')\n",
    "axes.set_title('Circular Average')\n",
    "axes.set_ylabel('Ring Avearge')\n",
    "axes.set_xlabel('Bin Centers 'r'$\\AA^{-1}$')\n",
    "axes.set_xlim(0.001, 0.02)\n",
    "plt.show()"
   ]
  },
  {
   "cell_type": "markdown",
   "metadata": {},
   "source": [
    "## Create label array (Q rings)"
   ]
  },
  {
   "cell_type": "code",
   "execution_count": 34,
   "metadata": {
    "collapsed": false
   },
   "outputs": [
    {
     "data": {
      "text/plain": [
       "array([[  44.        ,   46.        ],\n",
       "       [  52.33333333,   54.33333333],\n",
       "       [  60.66666667,   62.66666667],\n",
       "       [  69.        ,   71.        ],\n",
       "       [  77.33333333,   79.33333333],\n",
       "       [  85.66666667,   87.66666667],\n",
       "       [  94.        ,   96.        ],\n",
       "       [ 102.33333333,  104.33333333],\n",
       "       [ 110.66666667,  112.66666667],\n",
       "       [ 119.        ,  121.        ]])"
      ]
     },
     "execution_count": 34,
     "metadata": {},
     "output_type": "execute_result"
    }
   ],
   "source": [
    "inner_radius = 44  # radius of the first ring\n",
    "width = 2       # width of each ring\n",
    "spacing =  (119 - 44)/9 - 2    # spacing between rings\n",
    "num_rings = 10   # number of rings\n",
    "\n",
    "#  find the edges of the required rings\n",
    "edges = roi.ring_edges(inner_radius, width, spacing, num_rings)\n",
    "edges"
   ]
  },
  {
   "cell_type": "code",
   "execution_count": 35,
   "metadata": {
    "collapsed": false
   },
   "outputs": [
    {
     "data": {
      "text/plain": [
       "array([ 0.00307454,  0.0036439 ,  0.00421326,  0.00478262,  0.00535198,\n",
       "        0.00592134,  0.00649069,  0.00706005,  0.00762941,  0.00819877])"
      ]
     },
     "execution_count": 35,
     "metadata": {},
     "output_type": "execute_result"
    }
   ],
   "source": [
    "two_theta = utils.radius_to_twotheta(Ldet, edges*dpix)\n",
    "q_ring_val = utils.twotheta_to_q(two_theta, lambda_)\n",
    "\n",
    "q_ring_center = np.average(q_ring_val, axis=1)\n",
    "q_ring_center"
   ]
  },
  {
   "cell_type": "code",
   "execution_count": 82,
   "metadata": {
    "collapsed": true
   },
   "outputs": [],
   "source": [
    "rings = roi.rings(edges, center, avg_img.shape)\n",
    "\n",
    "ring_mask = rings*mask"
   ]
  },
  {
   "cell_type": "markdown",
   "metadata": {},
   "source": [
    "## Extract the labeled array"
   ]
  },
  {
   "cell_type": "code",
   "execution_count": 37,
   "metadata": {
    "collapsed": false
   },
   "outputs": [
    {
     "data": {
      "text/plain": [
       "array([[0, 0, 0, ..., 0, 0, 0],\n",
       "       [0, 0, 0, ..., 0, 0, 0],\n",
       "       [0, 0, 0, ..., 0, 0, 0],\n",
       "       ..., \n",
       "       [0, 0, 0, ..., 0, 0, 0],\n",
       "       [0, 0, 0, ..., 0, 0, 0],\n",
       "       [0, 0, 0, ..., 0, 0, 0]])"
      ]
     },
     "execution_count": 37,
     "metadata": {},
     "output_type": "execute_result"
    }
   ],
   "source": [
    "ring_mask"
   ]
  },
  {
   "cell_type": "code",
   "execution_count": 38,
   "metadata": {
    "collapsed": false
   },
   "outputs": [],
   "source": [
    "labels, indices = roi.extract_label_indices(ring_mask)"
   ]
  },
  {
   "cell_type": "code",
   "execution_count": 39,
   "metadata": {
    "collapsed": false
   },
   "outputs": [
    {
     "data": {
      "text/plain": [
       "array([10, 10, 10, ..., 10, 10, 10])"
      ]
     },
     "execution_count": 39,
     "metadata": {},
     "output_type": "execute_result"
    }
   ],
   "source": [
    "labels"
   ]
  },
  {
   "cell_type": "code",
   "execution_count": 89,
   "metadata": {
    "collapsed": false
   },
   "outputs": [
    {
     "data": {
      "text/plain": [
       "array([ 1,  2,  3,  4,  5,  6,  7,  8,  9, 10])"
      ]
     },
     "execution_count": 89,
     "metadata": {},
     "output_type": "execute_result"
    }
   ],
   "source": [
    "np.unique( labels)"
   ]
  },
  {
   "cell_type": "code",
   "execution_count": 40,
   "metadata": {
    "collapsed": false
   },
   "outputs": [
    {
     "data": {
      "text/plain": [
       "array([3540525, 3540526, 3540527, ..., 4031159, 4031160, 4033226])"
      ]
     },
     "execution_count": 40,
     "metadata": {},
     "output_type": "execute_result"
    }
   ],
   "source": [
    "indices"
   ]
  },
  {
   "cell_type": "markdown",
   "metadata": {},
   "source": [
    "## Number of pixels in each q ring"
   ]
  },
  {
   "cell_type": "code",
   "execution_count": 41,
   "metadata": {
    "collapsed": false
   },
   "outputs": [
    {
     "data": {
      "text/plain": [
       "array([ 352,  471,  598,  661,  801,  868,  961, 1074, 1169, 1250])"
      ]
     },
     "execution_count": 41,
     "metadata": {},
     "output_type": "execute_result"
    }
   ],
   "source": [
    "nopr = np.bincount( np.array(labels, dtype=int) )[1:]\n",
    "nopr"
   ]
  },
  {
   "cell_type": "markdown",
   "metadata": {},
   "source": [
    "# check center"
   ]
  },
  {
   "cell_type": "code",
   "execution_count": 34,
   "metadata": {
    "collapsed": false
   },
   "outputs": [
    {
     "data": {
      "text/plain": [
       "[<matplotlib.lines.Line2D at 0x7fa1fdbd3358>]"
      ]
     },
     "execution_count": 34,
     "metadata": {},
     "output_type": "execute_result"
    },
    {
     "data": {
      "image/png": "[encoded data removed]",
      "text/plain": [
       "<matplotlib.figure.Figure at 0x7fa213c0aa20>"
      ]
     },
     "metadata": {},
     "output_type": "display_data"
    }
   ],
   "source": [
    "pixel = roi.roi_pixel_values(avg_img*mask, ring_mask, [8] )\n",
    "fig,ax=plt.subplots()\n",
    "ax.plot( pixel[0][0] ,'bo', ls='-' )\n"
   ]
  },
  {
   "cell_type": "code",
   "execution_count": 42,
   "metadata": {
    "collapsed": false
   },
   "outputs": [
    {
     "data": {
      "image/png": "[encoded data removed]",
      "text/plain": [
       "<matplotlib.figure.Figure at 0x7fa7278841d0>"
      ]
     },
     "metadata": {},
     "output_type": "display_data"
    }
   ],
   "source": [
    "fig, axes = plt.subplots( figsize=(6, 6))\n",
    "#axes.semilogy(q_val, ring_averages, '-o')\n",
    "axes.plot(q_val, ring_averages, '-o')\n",
    "axes.set_title('Circular Average with the Q ring values')\n",
    "axes.set_ylabel('Ring Avearge')\n",
    "axes.set_xlabel('Bin Centers 'r'$\\AA^{-1}$')\n",
    "axes.set_xlim(0, 0.02)\n",
    "axes.set_ylim(0, 100)\n",
    "for i in range(num_rings):\n",
    "    axes.axvline(q_ring_center[i])\n",
    "plt.show()"
   ]
  },
  {
   "cell_type": "code",
   "execution_count": 43,
   "metadata": {
    "collapsed": true
   },
   "outputs": [],
   "source": [
    "class Masker(object):\n",
    "    def __init__(self, indexable, mask):\n",
    "        self.indexable = indexable\n",
    "        self.mask = mask\n",
    "    def __getitem__(self, key):\n",
    "        return self.indexable[key] * mask"
   ]
  },
  {
   "cell_type": "code",
   "execution_count": 44,
   "metadata": {
    "collapsed": true
   },
   "outputs": [],
   "source": [
    "masker = Masker(imgs, mask)"
   ]
  },
  {
   "cell_type": "code",
   "execution_count": 45,
   "metadata": {
    "collapsed": false
   },
   "outputs": [
    {
     "data": {
      "text/plain": [
       "(1630, 2030)"
      ]
     },
     "execution_count": 45,
     "metadata": {},
     "output_type": "execute_result"
    },
    {
     "data": {
      "image/png": "[encoded data removed]",
      "text/plain": [
       "<matplotlib.figure.Figure at 0x7fa7277a6828>"
      ]
     },
     "metadata": {},
     "output_type": "display_data"
    }
   ],
   "source": [
    "# plot the figure\n",
    "fig, axes = plt.subplots(figsize=(8,8))\n",
    "axes.set_title(\"Labeled Array\")\n",
    "im = mpl_plot.show_label_array(axes, ring_mask, cmap='viridis',origin='lower')\n",
    "\n",
    "rwidth = 200 \n",
    "\n",
    "x1,x2 = [center[1] - rwidth, center[1] + rwidth]\n",
    "y1,y2 = [center[0] - rwidth, center[0] + rwidth]\n",
    "axes.set_xlim( [x1,x2])\n",
    "axes.set_ylim( [y1,y2])\n"
   ]
  },
  {
   "cell_type": "markdown",
   "metadata": {},
   "source": [
    "##  Kymograph(waterfall plot) of the 3rd ring"
   ]
  },
  {
   "cell_type": "code",
   "execution_count": 65,
   "metadata": {
    "collapsed": false
   },
   "outputs": [],
   "source": [
    "kymo = roi.kymograph(masker[::50], ring_mask, num = 1)"
   ]
  },
  {
   "cell_type": "code",
   "execution_count": 66,
   "metadata": {
    "collapsed": false
   },
   "outputs": [
    {
     "data": {
      "image/png": "[encoded data removed]",
      "text/plain": [
       "<matplotlib.figure.Figure at 0x7fa71ab9fba8>"
      ]
     },
     "metadata": {},
     "output_type": "display_data"
    }
   ],
   "source": [
    "fig, ax = plt.subplots(figsize=(14,10))\n",
    "ax.set_ylabel('Pixel')\n",
    "ax.set_xlabel('Frame')\n",
    "ax.set_title('Kymograph')\n",
    "\n",
    "im = ax.imshow(kymo.T, cmap='viridis', vmax=10)\n",
    "#fig.colorbar( im   )\n",
    "ax.set_aspect(0.02)\n",
    "plt.show()"
   ]
  },
  {
   "cell_type": "markdown",
   "metadata": {},
   "source": [
    "##  Mean intensities for each ring"
   ]
  },
  {
   "cell_type": "code",
   "execution_count": 48,
   "metadata": {
    "collapsed": false
   },
   "outputs": [],
   "source": [
    "mask_data = masker[::50]  #this one is too slow if make  masker[::1]\n",
    "mean_int_sets, index_list = roi.mean_intensity(mask_data, ring_mask)"
   ]
  },
  {
   "cell_type": "code",
   "execution_count": 49,
   "metadata": {
    "collapsed": false
   },
   "outputs": [
    {
     "data": {
      "text/plain": [
       "(50, 10)"
      ]
     },
     "execution_count": 49,
     "metadata": {},
     "output_type": "execute_result"
    }
   ],
   "source": [
    "mean_int_sets.shape"
   ]
  },
  {
   "cell_type": "code",
   "execution_count": 50,
   "metadata": {
    "collapsed": false
   },
   "outputs": [
    {
     "data": {
      "image/png": "[encoded data removed]",
      "text/plain": [
       "<matplotlib.figure.Figure at 0x7fa7277d5048>"
      ]
     },
     "metadata": {},
     "output_type": "display_data"
    }
   ],
   "source": [
    "time = np.arange(len(mask_data))*timeperframe  # get the time for each frame\n",
    "\n",
    "%matplotlib inline\n",
    "fig, ax = plt.subplots(figsize=(8, 8))\n",
    "ax.set_title(\"Mean intensity of each ring\")\n",
    "for i in range(num_rings):\n",
    "    ax.plot(time, mean_int_sets[:,i], label=\"Ring \"+str(i+1))\n",
    "    ax.set_xlabel(\"Time\")\n",
    "    ax.set_ylabel(\"Mean Intensity\")\n",
    "ax.legend() \n",
    "plt.show()"
   ]
  },
  {
   "cell_type": "markdown",
   "metadata": {
    "collapsed": true
   },
   "source": [
    "## One time Correlation\n",
    "\n",
    "Note : Enter the number of levels and number of buffers for Muliti tau one time correlation\n",
    "number of buffers has to be even. More details in https://github.com/scikit-xray/scikit-xray/blob/master/skxray/core/correlation.py"
   ]
  },
  {
   "cell_type": "code",
   "execution_count": 51,
   "metadata": {
    "collapsed": false
   },
   "outputs": [],
   "source": [
    "ring_mask = np.array( ring_mask, dtype=int)"
   ]
  },
  {
   "cell_type": "code",
   "execution_count": 52,
   "metadata": {
    "collapsed": false
   },
   "outputs": [],
   "source": [
    "num_lev = 9  \n",
    "num_buf = 8\n",
    "\n",
    "g2, lag_steps = corr.multi_tau_auto_corr(num_lev, num_buf,\n",
    "                                         ring_mask, imgs)"
   ]
  },
  {
   "cell_type": "code",
   "execution_count": null,
   "metadata": {
    "collapsed": true
   },
   "outputs": [],
   "source": []
  },
  {
   "cell_type": "code",
   "execution_count": 84,
   "metadata": {
    "collapsed": false
   },
   "outputs": [
    {
     "data": {
      "text/plain": [
       "(40, 10)"
      ]
     },
     "execution_count": 84,
     "metadata": {},
     "output_type": "execute_result"
    }
   ],
   "source": [
    "g2.shape"
   ]
  },
  {
   "cell_type": "code",
   "execution_count": 86,
   "metadata": {
    "collapsed": false
   },
   "outputs": [
    {
     "data": {
      "text/plain": [
       "10"
      ]
     },
     "execution_count": 86,
     "metadata": {},
     "output_type": "execute_result"
    }
   ],
   "source": [
    "num_rings"
   ]
  },
  {
   "cell_type": "code",
   "execution_count": 87,
   "metadata": {
    "collapsed": false
   },
   "outputs": [
    {
     "data": {
      "text/plain": [
       "array([ 0.00307454,  0.0036439 ,  0.00421326,  0.00478262,  0.00535198,\n",
       "        0.00592134,  0.00649069,  0.00706005,  0.00762941,  0.00819877])"
      ]
     },
     "execution_count": 87,
     "metadata": {},
     "output_type": "execute_result"
    }
   ],
   "source": [
    "q_ring_center"
   ]
  },
  {
   "cell_type": "code",
   "execution_count": 88,
   "metadata": {
    "collapsed": false
   },
   "outputs": [
    {
     "data": {
      "text/plain": [
       "array([ 0,  1,  2,  3,  4,  5,  6,  7,  8,  9, 10])"
      ]
     },
     "execution_count": 88,
     "metadata": {},
     "output_type": "execute_result"
    }
   ],
   "source": [
    "np.unique( ring_mask )"
   ]
  },
  {
   "cell_type": "code",
   "execution_count": null,
   "metadata": {
    "collapsed": true
   },
   "outputs": [],
   "source": []
  },
  {
   "cell_type": "markdown",
   "metadata": {},
   "source": [
    "### Plot the one time correlation functions"
   ]
  },
  {
   "cell_type": "code",
   "execution_count": 92,
   "metadata": {
    "collapsed": false
   },
   "outputs": [
    {
     "data": {
      "application/javascript": [
       "/* Put everything inside the global mpl namespace */\n",
       "window.mpl = {};\n",
       "\n",
       "mpl.get_websocket_type = function() {\n",
       "    if (typeof(WebSocket) !== 'undefined') {\n",
       "        return WebSocket;\n",
       "    } else if (typeof(MozWebSocket) !== 'undefined') {\n",
       "        return MozWebSocket;\n",
       "    } else {\n",
       "        alert('Your browser does not have WebSocket support.' +\n",
       "              'Please try Chrome, Safari or Firefox ≥ 6. ' +\n",
       "              'Firefox 4 and 5 are also supported but you ' +\n",
       "              'have to enable WebSockets in about:config.');\n",
       "    };\n",
       "}\n",
       "\n",
       "mpl.figure = function(figure_id, websocket, ondownload, parent_element) {\n",
       "    this.id = figure_id;\n",
       "\n",
       "    this.ws = websocket;\n",
       "\n",
       "    this.supports_binary = (this.ws.binaryType != undefined);\n",
       "\n",
       "    if (!this.supports_binary) {\n",
       "        var warnings = document.getElementById(\"mpl-warnings\");\n",
       "        if (warnings) {\n",
       "            warnings.style.display = 'block';\n",
       "            warnings.textContent = (\n",
       "                \"This browser does not support binary websocket messages. \" +\n",
       "                    \"Performance may be slow.\");\n",
       "        }\n",
       "    }\n",
       "\n",
       "    this.imageObj = new Image();\n",
       "\n",
       "    this.context = undefined;\n",
       "    this.message = undefined;\n",
       "    this.canvas = undefined;\n",
       "    this.rubberband_canvas = undefined;\n",
       "    this.rubberband_context = undefined;\n",
       "    this.format_dropdown = undefined;\n",
       "\n",
       "    this.image_mode = 'full';\n",
       "\n",
       "    this.root = $('<div/>');\n",
       "    this._root_extra_style(this.root)\n",
       "    this.root.attr('style', 'display: inline-block');\n",
       "\n",
       "    $(parent_element).append(this.root);\n",
       "\n",
       "    this._init_header(this);\n",
       "    this._init_canvas(this);\n",
       "    this._init_toolbar(this);\n",
       "\n",
       "    var fig = this;\n",
       "\n",
       "    this.waiting = false;\n",
       "\n",
       "    this.ws.onopen =  function () {\n",
       "            fig.send_message(\"supports_binary\", {value: fig.supports_binary});\n",
       "            fig.send_message(\"send_image_mode\", {});\n",
       "            fig.send_message(\"refresh\", {});\n",
       "        }\n",
       "\n",
       "    this.imageObj.onload = function() {\n",
       "            if (fig.image_mode == 'full') {\n",
       "                // Full images could contain transparency (where diff images\n",
       "                // almost always do), so we need to clear the canvas so that\n",
       "                // there is no ghosting.\n",
       "                fig.context.clearRect(0, 0, fig.canvas.width, fig.canvas.height);\n",
       "            }\n",
       "            fig.context.drawImage(fig.imageObj, 0, 0);\n",
       "        };\n",
       "\n",
       "    this.imageObj.onunload = function() {\n",
       "        this.ws.close();\n",
       "    }\n",
       "\n",
       "    this.ws.onmessage = this._make_on_message_function(this);\n",
       "\n",
       "    this.ondownload = ondownload;\n",
       "}\n",
       "\n",
       "mpl.figure.prototype._init_header = function() {\n",
       "    var titlebar = $(\n",
       "        '<div class=\"ui-dialog-titlebar ui-widget-header ui-corner-all ' +\n",
       "        'ui-helper-clearfix\"/>');\n",
       "    var titletext = $(\n",
       "        '<div class=\"ui-dialog-title\" style=\"width: 100%; ' +\n",
       "        'text-align: center; padding: 3px;\"/>');\n",
       "    titlebar.append(titletext)\n",
       "    this.root.append(titlebar);\n",
       "    this.header = titletext[0];\n",
       "}\n",
       "\n",
       "\n",
       "\n",
       "mpl.figure.prototype._canvas_extra_style = function(canvas_div) {\n",
       "\n",
       "}\n",
       "\n",
       "\n",
       "mpl.figure.prototype._root_extra_style = function(canvas_div) {\n",
       "\n",
       "}\n",
       "\n",
       "mpl.figure.prototype._init_canvas = function() {\n",
       "    var fig = this;\n",
       "\n",
       "    var canvas_div = $('<div/>');\n",
       "\n",
       "    canvas_div.attr('style', 'position: relative; clear: both; outline: 0');\n",
       "\n",
       "    function canvas_keyboard_event(event) {\n",
       "        return fig.key_event(event, event['data']);\n",
       "    }\n",
       "\n",
       "    canvas_div.keydown('key_press', canvas_keyboard_event);\n",
       "    canvas_div.keyup('key_release', canvas_keyboard_event);\n",
       "    this.canvas_div = canvas_div\n",
       "    this._canvas_extra_style(canvas_div)\n",
       "    this.root.append(canvas_div);\n",
       "\n",
       "    var canvas = $('<canvas/>');\n",
       "    canvas.addClass('mpl-canvas');\n",
       "    canvas.attr('style', \"left: 0; top: 0; z-index: 0; outline: 0\")\n",
       "\n",
       "    this.canvas = canvas[0];\n",
       "    this.context = canvas[0].getContext(\"2d\");\n",
       "\n",
       "    var rubberband = $('<canvas/>');\n",
       "    rubberband.attr('style', \"position: absolute; left: 0; top: 0; z-index: 1;\")\n",
       "\n",
       "    var pass_mouse_events = true;\n",
       "\n",
       "    canvas_div.resizable({\n",
       "        start: function(event, ui) {\n",
       "            pass_mouse_events = false;\n",
       "        },\n",
       "        resize: function(event, ui) {\n",
       "            fig.request_resize(ui.size.width, ui.size.height);\n",
       "        },\n",
       "        stop: function(event, ui) {\n",
       "            pass_mouse_events = true;\n",
       "            fig.request_resize(ui.size.width, ui.size.height);\n",
       "        },\n",
       "    });\n",
       "\n",
       "    function mouse_event_fn(event) {\n",
       "        if (pass_mouse_events)\n",
       "            return fig.mouse_event(event, event['data']);\n",
       "    }\n",
       "\n",
       "    rubberband.mousedown('button_press', mouse_event_fn);\n",
       "    rubberband.mouseup('button_release', mouse_event_fn);\n",
       "    // Throttle sequential mouse events to 1 every 20ms.\n",
       "    rubberband.mousemove('motion_notify', mouse_event_fn);\n",
       "\n",
       "    rubberband.mouseenter('figure_enter', mouse_event_fn);\n",
       "    rubberband.mouseleave('figure_leave', mouse_event_fn);\n",
       "\n",
       "    canvas_div.on(\"wheel\", function (event) {\n",
       "        event = event.originalEvent;\n",
       "        event['data'] = 'scroll'\n",
       "        if (event.deltaY < 0) {\n",
       "            event.step = 1;\n",
       "        } else {\n",
       "            event.step = -1;\n",
       "        }\n",
       "        mouse_event_fn(event);\n",
       "    });\n",
       "\n",
       "    canvas_div.append(canvas);\n",
       "    canvas_div.append(rubberband);\n",
       "\n",
       "    this.rubberband = rubberband;\n",
       "    this.rubberband_canvas = rubberband[0];\n",
       "    this.rubberband_context = rubberband[0].getContext(\"2d\");\n",
       "    this.rubberband_context.strokeStyle = \"#000000\";\n",
       "\n",
       "    this._resize_canvas = function(width, height) {\n",
       "        // Keep the size of the canvas, canvas container, and rubber band\n",
       "        // canvas in synch.\n",
       "        canvas_div.css('width', width)\n",
       "        canvas_div.css('height', height)\n",
       "\n",
       "        canvas.attr('width', width);\n",
       "        canvas.attr('height', height);\n",
       "\n",
       "        rubberband.attr('width', width);\n",
       "        rubberband.attr('height', height);\n",
       "    }\n",
       "\n",
       "    // Set the figure to an initial 600x600px, this will subsequently be updated\n",
       "    // upon first draw.\n",
       "    this._resize_canvas(600, 600);\n",
       "\n",
       "    // Disable right mouse context menu.\n",
       "    $(this.rubberband_canvas).bind(\"contextmenu\",function(e){\n",
       "        return false;\n",
       "    });\n",
       "\n",
       "    function set_focus () {\n",
       "        canvas.focus();\n",
       "        canvas_div.focus();\n",
       "    }\n",
       "\n",
       "    window.setTimeout(set_focus, 100);\n",
       "}\n",
       "\n",
       "mpl.figure.prototype._init_toolbar = function() {\n",
       "    var fig = this;\n",
       "\n",
       "    var nav_element = $('<div/>')\n",
       "    nav_element.attr('style', 'width: 100%');\n",
       "    this.root.append(nav_element);\n",
       "\n",
       "    // Define a callback function for later on.\n",
       "    function toolbar_event(event) {\n",
       "        return fig.toolbar_button_onclick(event['data']);\n",
       "    }\n",
       "    function toolbar_mouse_event(event) {\n",
       "        return fig.toolbar_button_onmouseover(event['data']);\n",
       "    }\n",
       "\n",
       "    for(var toolbar_ind in mpl.toolbar_items) {\n",
       "        var name = mpl.toolbar_items[toolbar_ind][0];\n",
       "        var tooltip = mpl.toolbar_items[toolbar_ind][1];\n",
       "        var image = mpl.toolbar_items[toolbar_ind][2];\n",
       "        var method_name = mpl.toolbar_items[toolbar_ind][3];\n",
       "\n",
       "        if (!name) {\n",
       "            // put a spacer in here.\n",
       "            continue;\n",
       "        }\n",
       "        var button = $('<button/>');\n",
       "        button.addClass('ui-button ui-widget ui-state-default ui-corner-all ' +\n",
       "                        'ui-button-icon-only');\n",
       "        button.attr('role', 'button');\n",
       "        button.attr('aria-disabled', 'false');\n",
       "        button.click(method_name, toolbar_event);\n",
       "        button.mouseover(tooltip, toolbar_mouse_event);\n",
       "\n",
       "        var icon_img = $('<span/>');\n",
       "        icon_img.addClass('ui-button-icon-primary ui-icon');\n",
       "        icon_img.addClass(image);\n",
       "        icon_img.addClass('ui-corner-all');\n",
       "\n",
       "        var tooltip_span = $('<span/>');\n",
       "        tooltip_span.addClass('ui-button-text');\n",
       "        tooltip_span.html(tooltip);\n",
       "\n",
       "        button.append(icon_img);\n",
       "        button.append(tooltip_span);\n",
       "\n",
       "        nav_element.append(button);\n",
       "    }\n",
       "\n",
       "    var fmt_picker_span = $('<span/>');\n",
       "\n",
       "    var fmt_picker = $('<select/>');\n",
       "    fmt_picker.addClass('mpl-toolbar-option ui-widget ui-widget-content');\n",
       "    fmt_picker_span.append(fmt_picker);\n",
       "    nav_element.append(fmt_picker_span);\n",
       "    this.format_dropdown = fmt_picker[0];\n",
       "\n",
       "    for (var ind in mpl.extensions) {\n",
       "        var fmt = mpl.extensions[ind];\n",
       "        var option = $(\n",
       "            '<option/>', {selected: fmt === mpl.default_extension}).html(fmt);\n",
       "        fmt_picker.append(option)\n",
       "    }\n",
       "\n",
       "    // Add hover states to the ui-buttons\n",
       "    $( \".ui-button\" ).hover(\n",
       "        function() { $(this).addClass(\"ui-state-hover\");},\n",
       "        function() { $(this).removeClass(\"ui-state-hover\");}\n",
       "    );\n",
       "\n",
       "    var status_bar = $('<span class=\"mpl-message\"/>');\n",
       "    nav_element.append(status_bar);\n",
       "    this.message = status_bar[0];\n",
       "}\n",
       "\n",
       "mpl.figure.prototype.request_resize = function(x_pixels, y_pixels) {\n",
       "    // Request matplotlib to resize the figure. Matplotlib will then trigger a resize in the client,\n",
       "    // which will in turn request a refresh of the image.\n",
       "    this.send_message('resize', {'width': x_pixels, 'height': y_pixels});\n",
       "}\n",
       "\n",
       "mpl.figure.prototype.send_message = function(type, properties) {\n",
       "    properties['type'] = type;\n",
       "    properties['figure_id'] = this.id;\n",
       "    this.ws.send(JSON.stringify(properties));\n",
       "}\n",
       "\n",
       "mpl.figure.prototype.send_draw_message = function() {\n",
       "    if (!this.waiting) {\n",
       "        this.waiting = true;\n",
       "        this.ws.send(JSON.stringify({type: \"draw\", figure_id: this.id}));\n",
       "    }\n",
       "}\n",
       "\n",
       "\n",
       "mpl.figure.prototype.handle_save = function(fig, msg) {\n",
       "    var format_dropdown = fig.format_dropdown;\n",
       "    var format = format_dropdown.options[format_dropdown.selectedIndex].value;\n",
       "    fig.ondownload(fig, format);\n",
       "}\n",
       "\n",
       "\n",
       "mpl.figure.prototype.handle_resize = function(fig, msg) {\n",
       "    var size = msg['size'];\n",
       "    if (size[0] != fig.canvas.width || size[1] != fig.canvas.height) {\n",
       "        fig._resize_canvas(size[0], size[1]);\n",
       "        fig.send_message(\"refresh\", {});\n",
       "    };\n",
       "}\n",
       "\n",
       "mpl.figure.prototype.handle_rubberband = function(fig, msg) {\n",
       "    var x0 = msg['x0'];\n",
       "    var y0 = fig.canvas.height - msg['y0'];\n",
       "    var x1 = msg['x1'];\n",
       "    var y1 = fig.canvas.height - msg['y1'];\n",
       "    x0 = Math.floor(x0) + 0.5;\n",
       "    y0 = Math.floor(y0) + 0.5;\n",
       "    x1 = Math.floor(x1) + 0.5;\n",
       "    y1 = Math.floor(y1) + 0.5;\n",
       "    var min_x = Math.min(x0, x1);\n",
       "    var min_y = Math.min(y0, y1);\n",
       "    var width = Math.abs(x1 - x0);\n",
       "    var height = Math.abs(y1 - y0);\n",
       "\n",
       "    fig.rubberband_context.clearRect(\n",
       "        0, 0, fig.canvas.width, fig.canvas.height);\n",
       "\n",
       "    fig.rubberband_context.strokeRect(min_x, min_y, width, height);\n",
       "}\n",
       "\n",
       "mpl.figure.prototype.handle_figure_label = function(fig, msg) {\n",
       "    // Updates the figure title.\n",
       "    fig.header.textContent = msg['label'];\n",
       "}\n",
       "\n",
       "mpl.figure.prototype.handle_cursor = function(fig, msg) {\n",
       "    var cursor = msg['cursor'];\n",
       "    switch(cursor)\n",
       "    {\n",
       "    case 0:\n",
       "        cursor = 'pointer';\n",
       "        break;\n",
       "    case 1:\n",
       "        cursor = 'default';\n",
       "        break;\n",
       "    case 2:\n",
       "        cursor = 'crosshair';\n",
       "        break;\n",
       "    case 3:\n",
       "        cursor = 'move';\n",
       "        break;\n",
       "    }\n",
       "    fig.rubberband_canvas.style.cursor = cursor;\n",
       "}\n",
       "\n",
       "mpl.figure.prototype.handle_message = function(fig, msg) {\n",
       "    fig.message.textContent = msg['message'];\n",
       "}\n",
       "\n",
       "mpl.figure.prototype.handle_draw = function(fig, msg) {\n",
       "    // Request the server to send over a new figure.\n",
       "    fig.send_draw_message();\n",
       "}\n",
       "\n",
       "mpl.figure.prototype.handle_image_mode = function(fig, msg) {\n",
       "    fig.image_mode = msg['mode'];\n",
       "}\n",
       "\n",
       "mpl.figure.prototype.updated_canvas_event = function() {\n",
       "    // Called whenever the canvas gets updated.\n",
       "    this.send_message(\"ack\", {});\n",
       "}\n",
       "\n",
       "// A function to construct a web socket function for onmessage handling.\n",
       "// Called in the figure constructor.\n",
       "mpl.figure.prototype._make_on_message_function = function(fig) {\n",
       "    return function socket_on_message(evt) {\n",
       "        if (evt.data instanceof Blob) {\n",
       "            /* FIXME: We get \"Resource interpreted as Image but\n",
       "             * transferred with MIME type text/plain:\" errors on\n",
       "             * Chrome.  But how to set the MIME type?  It doesn't seem\n",
       "             * to be part of the websocket stream */\n",
       "            evt.data.type = \"image/png\";\n",
       "\n",
       "            /* Free the memory for the previous frames */\n",
       "            if (fig.imageObj.src) {\n",
       "                (window.URL || window.webkitURL).revokeObjectURL(\n",
       "                    fig.imageObj.src);\n",
       "            }\n",
       "\n",
       "            fig.imageObj.src = (window.URL || window.webkitURL).createObjectURL(\n",
       "                evt.data);\n",
       "            fig.updated_canvas_event();\n",
       "            fig.waiting = false;\n",
       "            return;\n",
       "        }\n",
       "        else if (typeof evt.data === 'string' && evt.data.slice(0, 21) == \"data:image/png;base64\") {\n",
       "            fig.imageObj.src = evt.data;\n",
       "            fig.updated_canvas_event();\n",
       "            fig.waiting = false;\n",
       "            return;\n",
       "        }\n",
       "\n",
       "        var msg = JSON.parse(evt.data);\n",
       "        var msg_type = msg['type'];\n",
       "\n",
       "        // Call the  \"handle_{type}\" callback, which takes\n",
       "        // the figure and JSON message as its only arguments.\n",
       "        try {\n",
       "            var callback = fig[\"handle_\" + msg_type];\n",
       "        } catch (e) {\n",
       "            console.log(\"No handler for the '\" + msg_type + \"' message type: \", msg);\n",
       "            return;\n",
       "        }\n",
       "\n",
       "        if (callback) {\n",
       "            try {\n",
       "                // console.log(\"Handling '\" + msg_type + \"' message: \", msg);\n",
       "                callback(fig, msg);\n",
       "            } catch (e) {\n",
       "                console.log(\"Exception inside the 'handler_\" + msg_type + \"' callback:\", e, e.stack, msg);\n",
       "            }\n",
       "        }\n",
       "    };\n",
       "}\n",
       "\n",
       "// from http://stackoverflow.com/questions/1114465/getting-mouse-location-in-canvas\n",
       "mpl.findpos = function(e) {\n",
       "    //this section is from http://www.quirksmode.org/js/events_properties.html\n",
       "    var targ;\n",
       "    if (!e)\n",
       "        e = window.event;\n",
       "    if (e.target)\n",
       "        targ = e.target;\n",
       "    else if (e.srcElement)\n",
       "        targ = e.srcElement;\n",
       "    if (targ.nodeType == 3) // defeat Safari bug\n",
       "        targ = targ.parentNode;\n",
       "\n",
       "    // jQuery normalizes the pageX and pageY\n",
       "    // pageX,Y are the mouse positions relative to the document\n",
       "    // offset() returns the position of the element relative to the document\n",
       "    var x = e.pageX - $(targ).offset().left;\n",
       "    var y = e.pageY - $(targ).offset().top;\n",
       "\n",
       "    return {\"x\": x, \"y\": y};\n",
       "};\n",
       "\n",
       "/*\n",
       " * return a copy of an object with only non-object keys\n",
       " * we need this to avoid circular references\n",
       " * http://stackoverflow.com/a/24161582/3208463\n",
       " */\n",
       "function simpleKeys (original) {\n",
       "  return Object.keys(original).reduce(function (obj, key) {\n",
       "    if (typeof original[key] !== 'object')\n",
       "        obj[key] = original[key]\n",
       "    return obj;\n",
       "  }, {});\n",
       "}\n",
       "\n",
       "mpl.figure.prototype.mouse_event = function(event, name) {\n",
       "    var canvas_pos = mpl.findpos(event)\n",
       "\n",
       "    if (name === 'button_press')\n",
       "    {\n",
       "        this.canvas.focus();\n",
       "        this.canvas_div.focus();\n",
       "    }\n",
       "\n",
       "    var x = canvas_pos.x;\n",
       "    var y = canvas_pos.y;\n",
       "\n",
       "    this.send_message(name, {x: x, y: y, button: event.button,\n",
       "                             step: event.step,\n",
       "                             guiEvent: simpleKeys(event)});\n",
       "\n",
       "    /* This prevents the web browser from automatically changing to\n",
       "     * the text insertion cursor when the button is pressed.  We want\n",
       "     * to control all of the cursor setting manually through the\n",
       "     * 'cursor' event from matplotlib */\n",
       "    event.preventDefault();\n",
       "    return false;\n",
       "}\n",
       "\n",
       "mpl.figure.prototype._key_event_extra = function(event, name) {\n",
       "    // Handle any extra behaviour associated with a key event\n",
       "}\n",
       "\n",
       "mpl.figure.prototype.key_event = function(event, name) {\n",
       "\n",
       "    // Prevent repeat events\n",
       "    if (name == 'key_press')\n",
       "    {\n",
       "        if (event.which === this._key)\n",
       "            return;\n",
       "        else\n",
       "            this._key = event.which;\n",
       "    }\n",
       "    if (name == 'key_release')\n",
       "        this._key = null;\n",
       "\n",
       "    var value = '';\n",
       "    if (event.ctrlKey && event.which != 17)\n",
       "        value += \"ctrl+\";\n",
       "    if (event.altKey && event.which != 18)\n",
       "        value += \"alt+\";\n",
       "    if (event.shiftKey && event.which != 16)\n",
       "        value += \"shift+\";\n",
       "\n",
       "    value += 'k';\n",
       "    value += event.which.toString();\n",
       "\n",
       "    this._key_event_extra(event, name);\n",
       "\n",
       "    this.send_message(name, {key: value,\n",
       "                             guiEvent: simpleKeys(event)});\n",
       "    return false;\n",
       "}\n",
       "\n",
       "mpl.figure.prototype.toolbar_button_onclick = function(name) {\n",
       "    if (name == 'download') {\n",
       "        this.handle_save(this, null);\n",
       "    } else {\n",
       "        this.send_message(\"toolbar_button\", {name: name});\n",
       "    }\n",
       "};\n",
       "\n",
       "mpl.figure.prototype.toolbar_button_onmouseover = function(tooltip) {\n",
       "    this.message.textContent = tooltip;\n",
       "};\n",
       "mpl.toolbar_items = [[\"Home\", \"Reset original view\", \"fa fa-home icon-home\", \"home\"], [\"Back\", \"Back to  previous view\", \"fa fa-arrow-left icon-arrow-left\", \"back\"], [\"Forward\", \"Forward to next view\", \"fa fa-arrow-right icon-arrow-right\", \"forward\"], [\"\", \"\", \"\", \"\"], [\"Pan\", \"Pan axes with left mouse, zoom with right\", \"fa fa-arrows icon-move\", \"pan\"], [\"Zoom\", \"Zoom to rectangle\", \"fa fa-square-o icon-check-empty\", \"zoom\"], [\"\", \"\", \"\", \"\"], [\"Download\", \"Download plot\", \"fa fa-floppy-o icon-save\", \"download\"]];\n",
       "\n",
       "mpl.extensions = [\"eps\", \"jpeg\", \"pdf\", \"png\", \"ps\", \"raw\", \"svg\", \"tif\"];\n",
       "\n",
       "mpl.default_extension = \"png\";var comm_websocket_adapter = function(comm) {\n",
       "    // Create a \"websocket\"-like object which calls the given IPython comm\n",
       "    // object with the appropriate methods. Currently this is a non binary\n",
       "    // socket, so there is still some room for performance tuning.\n",
       "    var ws = {};\n",
       "\n",
       "    ws.close = function() {\n",
       "        comm.close()\n",
       "    };\n",
       "    ws.send = function(m) {\n",
       "        //console.log('sending', m);\n",
       "        comm.send(m);\n",
       "    };\n",
       "    // Register the callback with on_msg.\n",
       "    comm.on_msg(function(msg) {\n",
       "        //console.log('receiving', msg['content']['data'], msg);\n",
       "        // Pass the mpl event to the overriden (by mpl) onmessage function.\n",
       "        ws.onmessage(msg['content']['data'])\n",
       "    });\n",
       "    return ws;\n",
       "}\n",
       "\n",
       "mpl.mpl_figure_comm = function(comm, msg) {\n",
       "    // This is the function which gets called when the mpl process\n",
       "    // starts-up an IPython Comm through the \"matplotlib\" channel.\n",
       "\n",
       "    var id = msg.content.data.id;\n",
       "    // Get hold of the div created by the display call when the Comm\n",
       "    // socket was opened in Python.\n",
       "    var element = $(\"#\" + id);\n",
       "    var ws_proxy = comm_websocket_adapter(comm)\n",
       "\n",
       "    function ondownload(figure, format) {\n",
       "        window.open(figure.imageObj.src);\n",
       "    }\n",
       "\n",
       "    var fig = new mpl.figure(id, ws_proxy,\n",
       "                           ondownload,\n",
       "                           element.get(0));\n",
       "\n",
       "    // Call onopen now - mpl needs it, as it is assuming we've passed it a real\n",
       "    // web socket which is closed, not our websocket->open comm proxy.\n",
       "    ws_proxy.onopen();\n",
       "\n",
       "    fig.parent_element = element.get(0);\n",
       "    fig.cell_info = mpl.find_output_cell(\"<div id='\" + id + \"'></div>\");\n",
       "    if (!fig.cell_info) {\n",
       "        console.error(\"Failed to find cell for figure\", id, fig);\n",
       "        return;\n",
       "    }\n",
       "\n",
       "    var output_index = fig.cell_info[2]\n",
       "    var cell = fig.cell_info[0];\n",
       "\n",
       "};\n",
       "\n",
       "mpl.figure.prototype.handle_close = function(fig, msg) {\n",
       "    fig.root.unbind('remove')\n",
       "\n",
       "    // Update the output cell to use the data from the current canvas.\n",
       "    fig.push_to_output();\n",
       "    var dataURL = fig.canvas.toDataURL();\n",
       "    // Re-enable the keyboard manager in IPython - without this line, in FF,\n",
       "    // the notebook keyboard shortcuts fail.\n",
       "    IPython.keyboard_manager.enable()\n",
       "    $(fig.parent_element).html('<img src=\"' + dataURL + '\">');\n",
       "    fig.close_ws(fig, msg);\n",
       "}\n",
       "\n",
       "mpl.figure.prototype.close_ws = function(fig, msg){\n",
       "    fig.send_message('closing', msg);\n",
       "    // fig.ws.close()\n",
       "}\n",
       "\n",
       "mpl.figure.prototype.push_to_output = function(remove_interactive) {\n",
       "    // Turn the data on the canvas into data in the output cell.\n",
       "    var dataURL = this.canvas.toDataURL();\n",
       "    this.cell_info[1]['text/html'] = '<img src=\"' + dataURL + '\">';\n",
       "}\n",
       "\n",
       "mpl.figure.prototype.updated_canvas_event = function() {\n",
       "    // Tell IPython that the notebook contents must change.\n",
       "    IPython.notebook.set_dirty(true);\n",
       "    this.send_message(\"ack\", {});\n",
       "    var fig = this;\n",
       "    // Wait a second, then push the new image to the DOM so\n",
       "    // that it is saved nicely (might be nice to debounce this).\n",
       "    setTimeout(function () { fig.push_to_output() }, 1000);\n",
       "}\n",
       "\n",
       "mpl.figure.prototype._init_toolbar = function() {\n",
       "    var fig = this;\n",
       "\n",
       "    var nav_element = $('<div/>')\n",
       "    nav_element.attr('style', 'width: 100%');\n",
       "    this.root.append(nav_element);\n",
       "\n",
       "    // Define a callback function for later on.\n",
       "    function toolbar_event(event) {\n",
       "        return fig.toolbar_button_onclick(event['data']);\n",
       "    }\n",
       "    function toolbar_mouse_event(event) {\n",
       "        return fig.toolbar_button_onmouseover(event['data']);\n",
       "    }\n",
       "\n",
       "    for(var toolbar_ind in mpl.toolbar_items){\n",
       "        var name = mpl.toolbar_items[toolbar_ind][0];\n",
       "        var tooltip = mpl.toolbar_items[toolbar_ind][1];\n",
       "        var image = mpl.toolbar_items[toolbar_ind][2];\n",
       "        var method_name = mpl.toolbar_items[toolbar_ind][3];\n",
       "\n",
       "        if (!name) { continue; };\n",
       "\n",
       "        var button = $('<button class=\"btn btn-default\" href=\"#\" title=\"' + name + '\"><i class=\"fa ' + image + ' fa-lg\"></i></button>');\n",
       "        button.click(method_name, toolbar_event);\n",
       "        button.mouseover(tooltip, toolbar_mouse_event);\n",
       "        nav_element.append(button);\n",
       "    }\n",
       "\n",
       "    // Add the status bar.\n",
       "    var status_bar = $('<span class=\"mpl-message\" style=\"text-align:right; float: right;\"/>');\n",
       "    nav_element.append(status_bar);\n",
       "    this.message = status_bar[0];\n",
       "\n",
       "    // Add the close button to the window.\n",
       "    var buttongrp = $('<div class=\"btn-group inline pull-right\"></div>');\n",
       "    var button = $('<button class=\"btn btn-mini btn-primary\" href=\"#\" title=\"Stop Interaction\"><i class=\"fa fa-power-off icon-remove icon-large\"></i></button>');\n",
       "    button.click(function (evt) { fig.handle_close(fig, {}); } );\n",
       "    button.mouseover('Stop Interaction', toolbar_mouse_event);\n",
       "    buttongrp.append(button);\n",
       "    var titlebar = this.root.find($('.ui-dialog-titlebar'));\n",
       "    titlebar.prepend(buttongrp);\n",
       "}\n",
       "\n",
       "mpl.figure.prototype._root_extra_style = function(el){\n",
       "    var fig = this\n",
       "    el.on(\"remove\", function(){\n",
       "\tfig.close_ws(fig, {});\n",
       "    });\n",
       "}\n",
       "\n",
       "mpl.figure.prototype._canvas_extra_style = function(el){\n",
       "    // this is important to make the div 'focusable\n",
       "    el.attr('tabindex', 0)\n",
       "    // reach out to IPython and tell the keyboard manager to turn it's self\n",
       "    // off when our div gets focus\n",
       "\n",
       "    // location in version 3\n",
       "    if (IPython.notebook.keyboard_manager) {\n",
       "        IPython.notebook.keyboard_manager.register_events(el);\n",
       "    }\n",
       "    else {\n",
       "        // location in version 2\n",
       "        IPython.keyboard_manager.register_events(el);\n",
       "    }\n",
       "\n",
       "}\n",
       "\n",
       "mpl.figure.prototype._key_event_extra = function(event, name) {\n",
       "    var manager = IPython.notebook.keyboard_manager;\n",
       "    if (!manager)\n",
       "        manager = IPython.keyboard_manager;\n",
       "\n",
       "    // Check for shift+enter\n",
       "    if (event.shiftKey && event.which == 13) {\n",
       "        this.canvas_div.blur();\n",
       "        event.shiftKey = false;\n",
       "        // Send a \"J\" for go to next cell\n",
       "        event.which = 74;\n",
       "        event.keyCode = 74;\n",
       "        manager.command_mode();\n",
       "        manager.handle_keydown(event);\n",
       "    }\n",
       "}\n",
       "\n",
       "mpl.figure.prototype.handle_save = function(fig, msg) {\n",
       "    fig.ondownload(fig, null);\n",
       "}\n",
       "\n",
       "\n",
       "mpl.find_output_cell = function(html_output) {\n",
       "    // Return the cell and output element which can be found *uniquely* in the notebook.\n",
       "    // Note - this is a bit hacky, but it is done because the \"notebook_saving.Notebook\"\n",
       "    // IPython event is triggered only after the cells have been serialised, which for\n",
       "    // our purposes (turning an active figure into a static one), is too late.\n",
       "    var cells = IPython.notebook.get_cells();\n",
       "    var ncells = cells.length;\n",
       "    for (var i=0; i<ncells; i++) {\n",
       "        var cell = cells[i];\n",
       "        if (cell.cell_type === 'code'){\n",
       "            for (var j=0; j<cell.output_area.outputs.length; j++) {\n",
       "                var data = cell.output_area.outputs[j];\n",
       "                if (data.data) {\n",
       "                    // IPython >= 3 moved mimebundle to data attribute of output\n",
       "                    data = data.data;\n",
       "                }\n",
       "                if (data['text/html'] == html_output) {\n",
       "                    return [cell, data, j];\n",
       "                }\n",
       "            }\n",
       "        }\n",
       "    }\n",
       "}\n",
       "\n",
       "// Register the function which deals with the matplotlib target/channel.\n",
       "// The kernel may be null if the page has been refreshed.\n",
       "if (IPython.notebook.kernel != null) {\n",
       "    IPython.notebook.kernel.comm_manager.register_target('matplotlib', mpl.mpl_figure_comm);\n",
       "}\n"
      ],
      "text/plain": [
       "<IPython.core.display.Javascript object>"
      ]
     },
     "metadata": {},
     "output_type": "display_data"
    },
    {
     "data": {
      "text/html": [
       "<img src=\"data:image/png;base64,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\">"
      ],
      "text/plain": [
       "<IPython.core.display.HTML object>"
      ]
     },
     "metadata": {},
     "output_type": "display_data"
    },
    {
     "data": {
      "image/png": "[encoded data removed]",
      "text/plain": [
       "<matplotlib.figure.Figure at 0x7fa72793fa20>"
      ]
     },
     "metadata": {},
     "output_type": "display_data"
    }
   ],
   "source": [
    "lags = lag_steps*timeperframe\n",
    "\n",
    "sx = int(round(np.sqrt(num_rings)) )\n",
    "if num_rings%sx == 0: \n",
    "    sy = int(num_rings/sx)\n",
    "else:\n",
    "    sy=int(num_rings/sx+1)\n",
    "fig = plt.figure(figsize=(14, 10))\n",
    "plt.title('uid= %s'%uid,fontsize=20, y =1.02)  \n",
    "plt.axis('off')\n",
    "for sn in range(num_rings):\n",
    "    ax = fig.add_subplot(sx,sy,sn+1 )\n",
    "    ax.set_ylabel(\"g2\") \n",
    "    ax.set_title(\" Q= \" + '%.5f  '%(q_ring_center[sn]) + r'$\\AA^{-1}$')\n",
    "    y=g2[:, sn]\n",
    "    ax.semilogx(lags, y, '-o', markersize=6) \n",
    "    ax.set_ylim([min(y)*.95, max(y[1:])*1.05 ])\n",
    "plt.show()\n",
    "fig.tight_layout()  "
   ]
  },
  {
   "cell_type": "markdown",
   "metadata": {},
   "source": [
    "# Fit g2"
   ]
  },
  {
   "cell_type": "code",
   "execution_count": 54,
   "metadata": {
    "collapsed": true
   },
   "outputs": [],
   "source": [
    "from lmfit import  Model\n",
    "mod = Model(corr.auto_corr_scat_factor)\n"
   ]
  },
  {
   "cell_type": "code",
   "execution_count": 93,
   "metadata": {
    "collapsed": false
   },
   "outputs": [
    {
     "data": {
      "application/javascript": [
       "/* Put everything inside the global mpl namespace */\n",
       "window.mpl = {};\n",
       "\n",
       "mpl.get_websocket_type = function() {\n",
       "    if (typeof(WebSocket) !== 'undefined') {\n",
       "        return WebSocket;\n",
       "    } else if (typeof(MozWebSocket) !== 'undefined') {\n",
       "        return MozWebSocket;\n",
       "    } else {\n",
       "        alert('Your browser does not have WebSocket support.' +\n",
       "              'Please try Chrome, Safari or Firefox ≥ 6. ' +\n",
       "              'Firefox 4 and 5 are also supported but you ' +\n",
       "              'have to enable WebSockets in about:config.');\n",
       "    };\n",
       "}\n",
       "\n",
       "mpl.figure = function(figure_id, websocket, ondownload, parent_element) {\n",
       "    this.id = figure_id;\n",
       "\n",
       "    this.ws = websocket;\n",
       "\n",
       "    this.supports_binary = (this.ws.binaryType != undefined);\n",
       "\n",
       "    if (!this.supports_binary) {\n",
       "        var warnings = document.getElementById(\"mpl-warnings\");\n",
       "        if (warnings) {\n",
       "            warnings.style.display = 'block';\n",
       "            warnings.textContent = (\n",
       "                \"This browser does not support binary websocket messages. \" +\n",
       "                    \"Performance may be slow.\");\n",
       "        }\n",
       "    }\n",
       "\n",
       "    this.imageObj = new Image();\n",
       "\n",
       "    this.context = undefined;\n",
       "    this.message = undefined;\n",
       "    this.canvas = undefined;\n",
       "    this.rubberband_canvas = undefined;\n",
       "    this.rubberband_context = undefined;\n",
       "    this.format_dropdown = undefined;\n",
       "\n",
       "    this.image_mode = 'full';\n",
       "\n",
       "    this.root = $('<div/>');\n",
       "    this._root_extra_style(this.root)\n",
       "    this.root.attr('style', 'display: inline-block');\n",
       "\n",
       "    $(parent_element).append(this.root);\n",
       "\n",
       "    this._init_header(this);\n",
       "    this._init_canvas(this);\n",
       "    this._init_toolbar(this);\n",
       "\n",
       "    var fig = this;\n",
       "\n",
       "    this.waiting = false;\n",
       "\n",
       "    this.ws.onopen =  function () {\n",
       "            fig.send_message(\"supports_binary\", {value: fig.supports_binary});\n",
       "            fig.send_message(\"send_image_mode\", {});\n",
       "            fig.send_message(\"refresh\", {});\n",
       "        }\n",
       "\n",
       "    this.imageObj.onload = function() {\n",
       "            if (fig.image_mode == 'full') {\n",
       "                // Full images could contain transparency (where diff images\n",
       "                // almost always do), so we need to clear the canvas so that\n",
       "                // there is no ghosting.\n",
       "                fig.context.clearRect(0, 0, fig.canvas.width, fig.canvas.height);\n",
       "            }\n",
       "            fig.context.drawImage(fig.imageObj, 0, 0);\n",
       "        };\n",
       "\n",
       "    this.imageObj.onunload = function() {\n",
       "        this.ws.close();\n",
       "    }\n",
       "\n",
       "    this.ws.onmessage = this._make_on_message_function(this);\n",
       "\n",
       "    this.ondownload = ondownload;\n",
       "}\n",
       "\n",
       "mpl.figure.prototype._init_header = function() {\n",
       "    var titlebar = $(\n",
       "        '<div class=\"ui-dialog-titlebar ui-widget-header ui-corner-all ' +\n",
       "        'ui-helper-clearfix\"/>');\n",
       "    var titletext = $(\n",
       "        '<div class=\"ui-dialog-title\" style=\"width: 100%; ' +\n",
       "        'text-align: center; padding: 3px;\"/>');\n",
       "    titlebar.append(titletext)\n",
       "    this.root.append(titlebar);\n",
       "    this.header = titletext[0];\n",
       "}\n",
       "\n",
       "\n",
       "\n",
       "mpl.figure.prototype._canvas_extra_style = function(canvas_div) {\n",
       "\n",
       "}\n",
       "\n",
       "\n",
       "mpl.figure.prototype._root_extra_style = function(canvas_div) {\n",
       "\n",
       "}\n",
       "\n",
       "mpl.figure.prototype._init_canvas = function() {\n",
       "    var fig = this;\n",
       "\n",
       "    var canvas_div = $('<div/>');\n",
       "\n",
       "    canvas_div.attr('style', 'position: relative; clear: both; outline: 0');\n",
       "\n",
       "    function canvas_keyboard_event(event) {\n",
       "        return fig.key_event(event, event['data']);\n",
       "    }\n",
       "\n",
       "    canvas_div.keydown('key_press', canvas_keyboard_event);\n",
       "    canvas_div.keyup('key_release', canvas_keyboard_event);\n",
       "    this.canvas_div = canvas_div\n",
       "    this._canvas_extra_style(canvas_div)\n",
       "    this.root.append(canvas_div);\n",
       "\n",
       "    var canvas = $('<canvas/>');\n",
       "    canvas.addClass('mpl-canvas');\n",
       "    canvas.attr('style', \"left: 0; top: 0; z-index: 0; outline: 0\")\n",
       "\n",
       "    this.canvas = canvas[0];\n",
       "    this.context = canvas[0].getContext(\"2d\");\n",
       "\n",
       "    var rubberband = $('<canvas/>');\n",
       "    rubberband.attr('style', \"position: absolute; left: 0; top: 0; z-index: 1;\")\n",
       "\n",
       "    var pass_mouse_events = true;\n",
       "\n",
       "    canvas_div.resizable({\n",
       "        start: function(event, ui) {\n",
       "            pass_mouse_events = false;\n",
       "        },\n",
       "        resize: function(event, ui) {\n",
       "            fig.request_resize(ui.size.width, ui.size.height);\n",
       "        },\n",
       "        stop: function(event, ui) {\n",
       "            pass_mouse_events = true;\n",
       "            fig.request_resize(ui.size.width, ui.size.height);\n",
       "        },\n",
       "    });\n",
       "\n",
       "    function mouse_event_fn(event) {\n",
       "        if (pass_mouse_events)\n",
       "            return fig.mouse_event(event, event['data']);\n",
       "    }\n",
       "\n",
       "    rubberband.mousedown('button_press', mouse_event_fn);\n",
       "    rubberband.mouseup('button_release', mouse_event_fn);\n",
       "    // Throttle sequential mouse events to 1 every 20ms.\n",
       "    rubberband.mousemove('motion_notify', mouse_event_fn);\n",
       "\n",
       "    rubberband.mouseenter('figure_enter', mouse_event_fn);\n",
       "    rubberband.mouseleave('figure_leave', mouse_event_fn);\n",
       "\n",
       "    canvas_div.on(\"wheel\", function (event) {\n",
       "        event = event.originalEvent;\n",
       "        event['data'] = 'scroll'\n",
       "        if (event.deltaY < 0) {\n",
       "            event.step = 1;\n",
       "        } else {\n",
       "            event.step = -1;\n",
       "        }\n",
       "        mouse_event_fn(event);\n",
       "    });\n",
       "\n",
       "    canvas_div.append(canvas);\n",
       "    canvas_div.append(rubberband);\n",
       "\n",
       "    this.rubberband = rubberband;\n",
       "    this.rubberband_canvas = rubberband[0];\n",
       "    this.rubberband_context = rubberband[0].getContext(\"2d\");\n",
       "    this.rubberband_context.strokeStyle = \"#000000\";\n",
       "\n",
       "    this._resize_canvas = function(width, height) {\n",
       "        // Keep the size of the canvas, canvas container, and rubber band\n",
       "        // canvas in synch.\n",
       "        canvas_div.css('width', width)\n",
       "        canvas_div.css('height', height)\n",
       "\n",
       "        canvas.attr('width', width);\n",
       "        canvas.attr('height', height);\n",
       "\n",
       "        rubberband.attr('width', width);\n",
       "        rubberband.attr('height', height);\n",
       "    }\n",
       "\n",
       "    // Set the figure to an initial 600x600px, this will subsequently be updated\n",
       "    // upon first draw.\n",
       "    this._resize_canvas(600, 600);\n",
       "\n",
       "    // Disable right mouse context menu.\n",
       "    $(this.rubberband_canvas).bind(\"contextmenu\",function(e){\n",
       "        return false;\n",
       "    });\n",
       "\n",
       "    function set_focus () {\n",
       "        canvas.focus();\n",
       "        canvas_div.focus();\n",
       "    }\n",
       "\n",
       "    window.setTimeout(set_focus, 100);\n",
       "}\n",
       "\n",
       "mpl.figure.prototype._init_toolbar = function() {\n",
       "    var fig = this;\n",
       "\n",
       "    var nav_element = $('<div/>')\n",
       "    nav_element.attr('style', 'width: 100%');\n",
       "    this.root.append(nav_element);\n",
       "\n",
       "    // Define a callback function for later on.\n",
       "    function toolbar_event(event) {\n",
       "        return fig.toolbar_button_onclick(event['data']);\n",
       "    }\n",
       "    function toolbar_mouse_event(event) {\n",
       "        return fig.toolbar_button_onmouseover(event['data']);\n",
       "    }\n",
       "\n",
       "    for(var toolbar_ind in mpl.toolbar_items) {\n",
       "        var name = mpl.toolbar_items[toolbar_ind][0];\n",
       "        var tooltip = mpl.toolbar_items[toolbar_ind][1];\n",
       "        var image = mpl.toolbar_items[toolbar_ind][2];\n",
       "        var method_name = mpl.toolbar_items[toolbar_ind][3];\n",
       "\n",
       "        if (!name) {\n",
       "            // put a spacer in here.\n",
       "            continue;\n",
       "        }\n",
       "        var button = $('<button/>');\n",
       "        button.addClass('ui-button ui-widget ui-state-default ui-corner-all ' +\n",
       "                        'ui-button-icon-only');\n",
       "        button.attr('role', 'button');\n",
       "        button.attr('aria-disabled', 'false');\n",
       "        button.click(method_name, toolbar_event);\n",
       "        button.mouseover(tooltip, toolbar_mouse_event);\n",
       "\n",
       "        var icon_img = $('<span/>');\n",
       "        icon_img.addClass('ui-button-icon-primary ui-icon');\n",
       "        icon_img.addClass(image);\n",
       "        icon_img.addClass('ui-corner-all');\n",
       "\n",
       "        var tooltip_span = $('<span/>');\n",
       "        tooltip_span.addClass('ui-button-text');\n",
       "        tooltip_span.html(tooltip);\n",
       "\n",
       "        button.append(icon_img);\n",
       "        button.append(tooltip_span);\n",
       "\n",
       "        nav_element.append(button);\n",
       "    }\n",
       "\n",
       "    var fmt_picker_span = $('<span/>');\n",
       "\n",
       "    var fmt_picker = $('<select/>');\n",
       "    fmt_picker.addClass('mpl-toolbar-option ui-widget ui-widget-content');\n",
       "    fmt_picker_span.append(fmt_picker);\n",
       "    nav_element.append(fmt_picker_span);\n",
       "    this.format_dropdown = fmt_picker[0];\n",
       "\n",
       "    for (var ind in mpl.extensions) {\n",
       "        var fmt = mpl.extensions[ind];\n",
       "        var option = $(\n",
       "            '<option/>', {selected: fmt === mpl.default_extension}).html(fmt);\n",
       "        fmt_picker.append(option)\n",
       "    }\n",
       "\n",
       "    // Add hover states to the ui-buttons\n",
       "    $( \".ui-button\" ).hover(\n",
       "        function() { $(this).addClass(\"ui-state-hover\");},\n",
       "        function() { $(this).removeClass(\"ui-state-hover\");}\n",
       "    );\n",
       "\n",
       "    var status_bar = $('<span class=\"mpl-message\"/>');\n",
       "    nav_element.append(status_bar);\n",
       "    this.message = status_bar[0];\n",
       "}\n",
       "\n",
       "mpl.figure.prototype.request_resize = function(x_pixels, y_pixels) {\n",
       "    // Request matplotlib to resize the figure. Matplotlib will then trigger a resize in the client,\n",
       "    // which will in turn request a refresh of the image.\n",
       "    this.send_message('resize', {'width': x_pixels, 'height': y_pixels});\n",
       "}\n",
       "\n",
       "mpl.figure.prototype.send_message = function(type, properties) {\n",
       "    properties['type'] = type;\n",
       "    properties['figure_id'] = this.id;\n",
       "    this.ws.send(JSON.stringify(properties));\n",
       "}\n",
       "\n",
       "mpl.figure.prototype.send_draw_message = function() {\n",
       "    if (!this.waiting) {\n",
       "        this.waiting = true;\n",
       "        this.ws.send(JSON.stringify({type: \"draw\", figure_id: this.id}));\n",
       "    }\n",
       "}\n",
       "\n",
       "\n",
       "mpl.figure.prototype.handle_save = function(fig, msg) {\n",
       "    var format_dropdown = fig.format_dropdown;\n",
       "    var format = format_dropdown.options[format_dropdown.selectedIndex].value;\n",
       "    fig.ondownload(fig, format);\n",
       "}\n",
       "\n",
       "\n",
       "mpl.figure.prototype.handle_resize = function(fig, msg) {\n",
       "    var size = msg['size'];\n",
       "    if (size[0] != fig.canvas.width || size[1] != fig.canvas.height) {\n",
       "        fig._resize_canvas(size[0], size[1]);\n",
       "        fig.send_message(\"refresh\", {});\n",
       "    };\n",
       "}\n",
       "\n",
       "mpl.figure.prototype.handle_rubberband = function(fig, msg) {\n",
       "    var x0 = msg['x0'];\n",
       "    var y0 = fig.canvas.height - msg['y0'];\n",
       "    var x1 = msg['x1'];\n",
       "    var y1 = fig.canvas.height - msg['y1'];\n",
       "    x0 = Math.floor(x0) + 0.5;\n",
       "    y0 = Math.floor(y0) + 0.5;\n",
       "    x1 = Math.floor(x1) + 0.5;\n",
       "    y1 = Math.floor(y1) + 0.5;\n",
       "    var min_x = Math.min(x0, x1);\n",
       "    var min_y = Math.min(y0, y1);\n",
       "    var width = Math.abs(x1 - x0);\n",
       "    var height = Math.abs(y1 - y0);\n",
       "\n",
       "    fig.rubberband_context.clearRect(\n",
       "        0, 0, fig.canvas.width, fig.canvas.height);\n",
       "\n",
       "    fig.rubberband_context.strokeRect(min_x, min_y, width, height);\n",
       "}\n",
       "\n",
       "mpl.figure.prototype.handle_figure_label = function(fig, msg) {\n",
       "    // Updates the figure title.\n",
       "    fig.header.textContent = msg['label'];\n",
       "}\n",
       "\n",
       "mpl.figure.prototype.handle_cursor = function(fig, msg) {\n",
       "    var cursor = msg['cursor'];\n",
       "    switch(cursor)\n",
       "    {\n",
       "    case 0:\n",
       "        cursor = 'pointer';\n",
       "        break;\n",
       "    case 1:\n",
       "        cursor = 'default';\n",
       "        break;\n",
       "    case 2:\n",
       "        cursor = 'crosshair';\n",
       "        break;\n",
       "    case 3:\n",
       "        cursor = 'move';\n",
       "        break;\n",
       "    }\n",
       "    fig.rubberband_canvas.style.cursor = cursor;\n",
       "}\n",
       "\n",
       "mpl.figure.prototype.handle_message = function(fig, msg) {\n",
       "    fig.message.textContent = msg['message'];\n",
       "}\n",
       "\n",
       "mpl.figure.prototype.handle_draw = function(fig, msg) {\n",
       "    // Request the server to send over a new figure.\n",
       "    fig.send_draw_message();\n",
       "}\n",
       "\n",
       "mpl.figure.prototype.handle_image_mode = function(fig, msg) {\n",
       "    fig.image_mode = msg['mode'];\n",
       "}\n",
       "\n",
       "mpl.figure.prototype.updated_canvas_event = function() {\n",
       "    // Called whenever the canvas gets updated.\n",
       "    this.send_message(\"ack\", {});\n",
       "}\n",
       "\n",
       "// A function to construct a web socket function for onmessage handling.\n",
       "// Called in the figure constructor.\n",
       "mpl.figure.prototype._make_on_message_function = function(fig) {\n",
       "    return function socket_on_message(evt) {\n",
       "        if (evt.data instanceof Blob) {\n",
       "            /* FIXME: We get \"Resource interpreted as Image but\n",
       "             * transferred with MIME type text/plain:\" errors on\n",
       "             * Chrome.  But how to set the MIME type?  It doesn't seem\n",
       "             * to be part of the websocket stream */\n",
       "            evt.data.type = \"image/png\";\n",
       "\n",
       "            /* Free the memory for the previous frames */\n",
       "            if (fig.imageObj.src) {\n",
       "                (window.URL || window.webkitURL).revokeObjectURL(\n",
       "                    fig.imageObj.src);\n",
       "            }\n",
       "\n",
       "            fig.imageObj.src = (window.URL || window.webkitURL).createObjectURL(\n",
       "                evt.data);\n",
       "            fig.updated_canvas_event();\n",
       "            fig.waiting = false;\n",
       "            return;\n",
       "        }\n",
       "        else if (typeof evt.data === 'string' && evt.data.slice(0, 21) == \"data:image/png;base64\") {\n",
       "            fig.imageObj.src = evt.data;\n",
       "            fig.updated_canvas_event();\n",
       "            fig.waiting = false;\n",
       "            return;\n",
       "        }\n",
       "\n",
       "        var msg = JSON.parse(evt.data);\n",
       "        var msg_type = msg['type'];\n",
       "\n",
       "        // Call the  \"handle_{type}\" callback, which takes\n",
       "        // the figure and JSON message as its only arguments.\n",
       "        try {\n",
       "            var callback = fig[\"handle_\" + msg_type];\n",
       "        } catch (e) {\n",
       "            console.log(\"No handler for the '\" + msg_type + \"' message type: \", msg);\n",
       "            return;\n",
       "        }\n",
       "\n",
       "        if (callback) {\n",
       "            try {\n",
       "                // console.log(\"Handling '\" + msg_type + \"' message: \", msg);\n",
       "                callback(fig, msg);\n",
       "            } catch (e) {\n",
       "                console.log(\"Exception inside the 'handler_\" + msg_type + \"' callback:\", e, e.stack, msg);\n",
       "            }\n",
       "        }\n",
       "    };\n",
       "}\n",
       "\n",
       "// from http://stackoverflow.com/questions/1114465/getting-mouse-location-in-canvas\n",
       "mpl.findpos = function(e) {\n",
       "    //this section is from http://www.quirksmode.org/js/events_properties.html\n",
       "    var targ;\n",
       "    if (!e)\n",
       "        e = window.event;\n",
       "    if (e.target)\n",
       "        targ = e.target;\n",
       "    else if (e.srcElement)\n",
       "        targ = e.srcElement;\n",
       "    if (targ.nodeType == 3) // defeat Safari bug\n",
       "        targ = targ.parentNode;\n",
       "\n",
       "    // jQuery normalizes the pageX and pageY\n",
       "    // pageX,Y are the mouse positions relative to the document\n",
       "    // offset() returns the position of the element relative to the document\n",
       "    var x = e.pageX - $(targ).offset().left;\n",
       "    var y = e.pageY - $(targ).offset().top;\n",
       "\n",
       "    return {\"x\": x, \"y\": y};\n",
       "};\n",
       "\n",
       "/*\n",
       " * return a copy of an object with only non-object keys\n",
       " * we need this to avoid circular references\n",
       " * http://stackoverflow.com/a/24161582/3208463\n",
       " */\n",
       "function simpleKeys (original) {\n",
       "  return Object.keys(original).reduce(function (obj, key) {\n",
       "    if (typeof original[key] !== 'object')\n",
       "        obj[key] = original[key]\n",
       "    return obj;\n",
       "  }, {});\n",
       "}\n",
       "\n",
       "mpl.figure.prototype.mouse_event = function(event, name) {\n",
       "    var canvas_pos = mpl.findpos(event)\n",
       "\n",
       "    if (name === 'button_press')\n",
       "    {\n",
       "        this.canvas.focus();\n",
       "        this.canvas_div.focus();\n",
       "    }\n",
       "\n",
       "    var x = canvas_pos.x;\n",
       "    var y = canvas_pos.y;\n",
       "\n",
       "    this.send_message(name, {x: x, y: y, button: event.button,\n",
       "                             step: event.step,\n",
       "                             guiEvent: simpleKeys(event)});\n",
       "\n",
       "    /* This prevents the web browser from automatically changing to\n",
       "     * the text insertion cursor when the button is pressed.  We want\n",
       "     * to control all of the cursor setting manually through the\n",
       "     * 'cursor' event from matplotlib */\n",
       "    event.preventDefault();\n",
       "    return false;\n",
       "}\n",
       "\n",
       "mpl.figure.prototype._key_event_extra = function(event, name) {\n",
       "    // Handle any extra behaviour associated with a key event\n",
       "}\n",
       "\n",
       "mpl.figure.prototype.key_event = function(event, name) {\n",
       "\n",
       "    // Prevent repeat events\n",
       "    if (name == 'key_press')\n",
       "    {\n",
       "        if (event.which === this._key)\n",
       "            return;\n",
       "        else\n",
       "            this._key = event.which;\n",
       "    }\n",
       "    if (name == 'key_release')\n",
       "        this._key = null;\n",
       "\n",
       "    var value = '';\n",
       "    if (event.ctrlKey && event.which != 17)\n",
       "        value += \"ctrl+\";\n",
       "    if (event.altKey && event.which != 18)\n",
       "        value += \"alt+\";\n",
       "    if (event.shiftKey && event.which != 16)\n",
       "        value += \"shift+\";\n",
       "\n",
       "    value += 'k';\n",
       "    value += event.which.toString();\n",
       "\n",
       "    this._key_event_extra(event, name);\n",
       "\n",
       "    this.send_message(name, {key: value,\n",
       "                             guiEvent: simpleKeys(event)});\n",
       "    return false;\n",
       "}\n",
       "\n",
       "mpl.figure.prototype.toolbar_button_onclick = function(name) {\n",
       "    if (name == 'download') {\n",
       "        this.handle_save(this, null);\n",
       "    } else {\n",
       "        this.send_message(\"toolbar_button\", {name: name});\n",
       "    }\n",
       "};\n",
       "\n",
       "mpl.figure.prototype.toolbar_button_onmouseover = function(tooltip) {\n",
       "    this.message.textContent = tooltip;\n",
       "};\n",
       "mpl.toolbar_items = [[\"Home\", \"Reset original view\", \"fa fa-home icon-home\", \"home\"], [\"Back\", \"Back to  previous view\", \"fa fa-arrow-left icon-arrow-left\", \"back\"], [\"Forward\", \"Forward to next view\", \"fa fa-arrow-right icon-arrow-right\", \"forward\"], [\"\", \"\", \"\", \"\"], [\"Pan\", \"Pan axes with left mouse, zoom with right\", \"fa fa-arrows icon-move\", \"pan\"], [\"Zoom\", \"Zoom to rectangle\", \"fa fa-square-o icon-check-empty\", \"zoom\"], [\"\", \"\", \"\", \"\"], [\"Download\", \"Download plot\", \"fa fa-floppy-o icon-save\", \"download\"]];\n",
       "\n",
       "mpl.extensions = [\"eps\", \"jpeg\", \"pdf\", \"png\", \"ps\", \"raw\", \"svg\", \"tif\"];\n",
       "\n",
       "mpl.default_extension = \"png\";var comm_websocket_adapter = function(comm) {\n",
       "    // Create a \"websocket\"-like object which calls the given IPython comm\n",
       "    // object with the appropriate methods. Currently this is a non binary\n",
       "    // socket, so there is still some room for performance tuning.\n",
       "    var ws = {};\n",
       "\n",
       "    ws.close = function() {\n",
       "        comm.close()\n",
       "    };\n",
       "    ws.send = function(m) {\n",
       "        //console.log('sending', m);\n",
       "        comm.send(m);\n",
       "    };\n",
       "    // Register the callback with on_msg.\n",
       "    comm.on_msg(function(msg) {\n",
       "        //console.log('receiving', msg['content']['data'], msg);\n",
       "        // Pass the mpl event to the overriden (by mpl) onmessage function.\n",
       "        ws.onmessage(msg['content']['data'])\n",
       "    });\n",
       "    return ws;\n",
       "}\n",
       "\n",
       "mpl.mpl_figure_comm = function(comm, msg) {\n",
       "    // This is the function which gets called when the mpl process\n",
       "    // starts-up an IPython Comm through the \"matplotlib\" channel.\n",
       "\n",
       "    var id = msg.content.data.id;\n",
       "    // Get hold of the div created by the display call when the Comm\n",
       "    // socket was opened in Python.\n",
       "    var element = $(\"#\" + id);\n",
       "    var ws_proxy = comm_websocket_adapter(comm)\n",
       "\n",
       "    function ondownload(figure, format) {\n",
       "        window.open(figure.imageObj.src);\n",
       "    }\n",
       "\n",
       "    var fig = new mpl.figure(id, ws_proxy,\n",
       "                           ondownload,\n",
       "                           element.get(0));\n",
       "\n",
       "    // Call onopen now - mpl needs it, as it is assuming we've passed it a real\n",
       "    // web socket which is closed, not our websocket->open comm proxy.\n",
       "    ws_proxy.onopen();\n",
       "\n",
       "    fig.parent_element = element.get(0);\n",
       "    fig.cell_info = mpl.find_output_cell(\"<div id='\" + id + \"'></div>\");\n",
       "    if (!fig.cell_info) {\n",
       "        console.error(\"Failed to find cell for figure\", id, fig);\n",
       "        return;\n",
       "    }\n",
       "\n",
       "    var output_index = fig.cell_info[2]\n",
       "    var cell = fig.cell_info[0];\n",
       "\n",
       "};\n",
       "\n",
       "mpl.figure.prototype.handle_close = function(fig, msg) {\n",
       "    fig.root.unbind('remove')\n",
       "\n",
       "    // Update the output cell to use the data from the current canvas.\n",
       "    fig.push_to_output();\n",
       "    var dataURL = fig.canvas.toDataURL();\n",
       "    // Re-enable the keyboard manager in IPython - without this line, in FF,\n",
       "    // the notebook keyboard shortcuts fail.\n",
       "    IPython.keyboard_manager.enable()\n",
       "    $(fig.parent_element).html('<img src=\"' + dataURL + '\">');\n",
       "    fig.close_ws(fig, msg);\n",
       "}\n",
       "\n",
       "mpl.figure.prototype.close_ws = function(fig, msg){\n",
       "    fig.send_message('closing', msg);\n",
       "    // fig.ws.close()\n",
       "}\n",
       "\n",
       "mpl.figure.prototype.push_to_output = function(remove_interactive) {\n",
       "    // Turn the data on the canvas into data in the output cell.\n",
       "    var dataURL = this.canvas.toDataURL();\n",
       "    this.cell_info[1]['text/html'] = '<img src=\"' + dataURL + '\">';\n",
       "}\n",
       "\n",
       "mpl.figure.prototype.updated_canvas_event = function() {\n",
       "    // Tell IPython that the notebook contents must change.\n",
       "    IPython.notebook.set_dirty(true);\n",
       "    this.send_message(\"ack\", {});\n",
       "    var fig = this;\n",
       "    // Wait a second, then push the new image to the DOM so\n",
       "    // that it is saved nicely (might be nice to debounce this).\n",
       "    setTimeout(function () { fig.push_to_output() }, 1000);\n",
       "}\n",
       "\n",
       "mpl.figure.prototype._init_toolbar = function() {\n",
       "    var fig = this;\n",
       "\n",
       "    var nav_element = $('<div/>')\n",
       "    nav_element.attr('style', 'width: 100%');\n",
       "    this.root.append(nav_element);\n",
       "\n",
       "    // Define a callback function for later on.\n",
       "    function toolbar_event(event) {\n",
       "        return fig.toolbar_button_onclick(event['data']);\n",
       "    }\n",
       "    function toolbar_mouse_event(event) {\n",
       "        return fig.toolbar_button_onmouseover(event['data']);\n",
       "    }\n",
       "\n",
       "    for(var toolbar_ind in mpl.toolbar_items){\n",
       "        var name = mpl.toolbar_items[toolbar_ind][0];\n",
       "        var tooltip = mpl.toolbar_items[toolbar_ind][1];\n",
       "        var image = mpl.toolbar_items[toolbar_ind][2];\n",
       "        var method_name = mpl.toolbar_items[toolbar_ind][3];\n",
       "\n",
       "        if (!name) { continue; };\n",
       "\n",
       "        var button = $('<button class=\"btn btn-default\" href=\"#\" title=\"' + name + '\"><i class=\"fa ' + image + ' fa-lg\"></i></button>');\n",
       "        button.click(method_name, toolbar_event);\n",
       "        button.mouseover(tooltip, toolbar_mouse_event);\n",
       "        nav_element.append(button);\n",
       "    }\n",
       "\n",
       "    // Add the status bar.\n",
       "    var status_bar = $('<span class=\"mpl-message\" style=\"text-align:right; float: right;\"/>');\n",
       "    nav_element.append(status_bar);\n",
       "    this.message = status_bar[0];\n",
       "\n",
       "    // Add the close button to the window.\n",
       "    var buttongrp = $('<div class=\"btn-group inline pull-right\"></div>');\n",
       "    var button = $('<button class=\"btn btn-mini btn-primary\" href=\"#\" title=\"Stop Interaction\"><i class=\"fa fa-power-off icon-remove icon-large\"></i></button>');\n",
       "    button.click(function (evt) { fig.handle_close(fig, {}); } );\n",
       "    button.mouseover('Stop Interaction', toolbar_mouse_event);\n",
       "    buttongrp.append(button);\n",
       "    var titlebar = this.root.find($('.ui-dialog-titlebar'));\n",
       "    titlebar.prepend(buttongrp);\n",
       "}\n",
       "\n",
       "mpl.figure.prototype._root_extra_style = function(el){\n",
       "    var fig = this\n",
       "    el.on(\"remove\", function(){\n",
       "\tfig.close_ws(fig, {});\n",
       "    });\n",
       "}\n",
       "\n",
       "mpl.figure.prototype._canvas_extra_style = function(el){\n",
       "    // this is important to make the div 'focusable\n",
       "    el.attr('tabindex', 0)\n",
       "    // reach out to IPython and tell the keyboard manager to turn it's self\n",
       "    // off when our div gets focus\n",
       "\n",
       "    // location in version 3\n",
       "    if (IPython.notebook.keyboard_manager) {\n",
       "        IPython.notebook.keyboard_manager.register_events(el);\n",
       "    }\n",
       "    else {\n",
       "        // location in version 2\n",
       "        IPython.keyboard_manager.register_events(el);\n",
       "    }\n",
       "\n",
       "}\n",
       "\n",
       "mpl.figure.prototype._key_event_extra = function(event, name) {\n",
       "    var manager = IPython.notebook.keyboard_manager;\n",
       "    if (!manager)\n",
       "        manager = IPython.keyboard_manager;\n",
       "\n",
       "    // Check for shift+enter\n",
       "    if (event.shiftKey && event.which == 13) {\n",
       "        this.canvas_div.blur();\n",
       "        event.shiftKey = false;\n",
       "        // Send a \"J\" for go to next cell\n",
       "        event.which = 74;\n",
       "        event.keyCode = 74;\n",
       "        manager.command_mode();\n",
       "        manager.handle_keydown(event);\n",
       "    }\n",
       "}\n",
       "\n",
       "mpl.figure.prototype.handle_save = function(fig, msg) {\n",
       "    fig.ondownload(fig, null);\n",
       "}\n",
       "\n",
       "\n",
       "mpl.find_output_cell = function(html_output) {\n",
       "    // Return the cell and output element which can be found *uniquely* in the notebook.\n",
       "    // Note - this is a bit hacky, but it is done because the \"notebook_saving.Notebook\"\n",
       "    // IPython event is triggered only after the cells have been serialised, which for\n",
       "    // our purposes (turning an active figure into a static one), is too late.\n",
       "    var cells = IPython.notebook.get_cells();\n",
       "    var ncells = cells.length;\n",
       "    for (var i=0; i<ncells; i++) {\n",
       "        var cell = cells[i];\n",
       "        if (cell.cell_type === 'code'){\n",
       "            for (var j=0; j<cell.output_area.outputs.length; j++) {\n",
       "                var data = cell.output_area.outputs[j];\n",
       "                if (data.data) {\n",
       "                    // IPython >= 3 moved mimebundle to data attribute of output\n",
       "                    data = data.data;\n",
       "                }\n",
       "                if (data['text/html'] == html_output) {\n",
       "                    return [cell, data, j];\n",
       "                }\n",
       "            }\n",
       "        }\n",
       "    }\n",
       "}\n",
       "\n",
       "// Register the function which deals with the matplotlib target/channel.\n",
       "// The kernel may be null if the page has been refreshed.\n",
       "if (IPython.notebook.kernel != null) {\n",
       "    IPython.notebook.kernel.comm_manager.register_target('matplotlib', mpl.mpl_figure_comm);\n",
       "}\n"
      ],
      "text/plain": [
       "<IPython.core.display.Javascript object>"
      ]
     },
     "metadata": {},
     "output_type": "display_data"
    },
    {
     "data": {
      "text/html": [
       "<img src=\"data:image/png;base64,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\">"
      ],
      "text/plain": [
       "<IPython.core.display.HTML object>"
      ]
     },
     "metadata": {},
     "output_type": "display_data"
    },
    {
     "data": {
      "image/png": "[encoded data removed]",
      "text/plain": [
       "<matplotlib.figure.Figure at 0x7fa71b1c2f28>"
      ]
     },
     "metadata": {},
     "output_type": "display_data"
    }
   ],
   "source": [
    "rate = []\n",
    "\n",
    "sx = int( round (np.sqrt(num_rings)) )\n",
    "if num_rings%sx==0:\n",
    "    sy = int(num_rings/sx)\n",
    "else:\n",
    "    sy = int(num_rings/sx+1)\n",
    "    \n",
    "fig = plt.figure(figsize=(14, 10))\n",
    "plt.title('uid= %s'%uid, fontsize=20, y =1.02) \n",
    "plt.axis('off')\n",
    "for sn in range(num_rings):\n",
    "    ax = fig.add_subplot(sx, sy, sn+1 )\n",
    "    y=g2[1:, sn]\n",
    "    result1 = mod.fit(y, lags=lags[1:], beta=.1,\n",
    "                      relaxation_rate =.5, baseline=1.0)\n",
    "    rate.append(result1.best_values['relaxation_rate'])\n",
    "    \n",
    "    ax.semilogx(lags[1:], y, 'ro')\n",
    "    ax.semilogx(lags[1:], result1.best_fit, '-b')\n",
    "    ax.set_title(\" Q= \" + '%.5f  '%(q_ring_center[sn]) + r'$\\AA^{-1}$')  \n",
    "    ax.set_ylim([min(y)*.95, max(y[1:]) *1.05])\n",
    "    txts = r'$\\gamma$' + r'$ = %.3f$'%(rate[sn]) +  r'$ s^{-1}$'\n",
    "    ax.text(x =0.015, y=.55, s=txts, fontsize=14, transform=ax.transAxes)              \n",
    " \n",
    "fig.tight_layout()  "
   ]
  },
  {
   "cell_type": "code",
   "execution_count": 56,
   "metadata": {
    "collapsed": false
   },
   "outputs": [
    {
     "data": {
      "text/plain": [
       "{'baseline': 1.0438794307261317,\n",
       " 'beta': 0.12460170946991303,\n",
       " 'relaxation_rate': 2.2135104316768808}"
      ]
     },
     "execution_count": 56,
     "metadata": {},
     "output_type": "execute_result"
    }
   ],
   "source": [
    "result1.best_values"
   ]
  },
  {
   "cell_type": "markdown",
   "metadata": {},
   "source": [
    "## Plot the relaxation rates vs (q_ring_center)**2"
   ]
  },
  {
   "cell_type": "code",
   "execution_count": 57,
   "metadata": {
    "collapsed": false
   },
   "outputs": [
    {
     "data": {
      "image/png": "[encoded data removed]",
      "text/plain": [
       "<matplotlib.figure.Figure at 0x7fa7278ad048>"
      ]
     },
     "metadata": {},
     "output_type": "display_data"
    }
   ],
   "source": [
    "fig, ax=plt.subplots()\n",
    "ax.plot(q_ring_center**2, rate, 'ro', ls='--')\n",
    "ax.set_ylabel('Relaxation rate 'r'$\\gamma$'\"($s^{-1}$)\")\n",
    "ax.set_xlabel(\"$q^2$\"r'($\\AA^{-2}$)')\n",
    "plt.show()"
   ]
  },
  {
   "cell_type": "markdown",
   "metadata": {},
   "source": [
    "# Fitted the Diffusion Coefficinet D0"
   ]
  },
  {
   "cell_type": "code",
   "execution_count": 58,
   "metadata": {
    "collapsed": false
   },
   "outputs": [
    {
     "name": "stdout",
     "output_type": "stream",
     "text": [
      "The fitted diffusion coefficient D0 is:  2.87E+04   A^2S-1\n"
     ]
    }
   ],
   "source": [
    "D0 = np.polyfit(q_ring_center**2, rate, 1)\n",
    "gmfit = np.poly1d(D0)\n",
    "print ('The fitted diffusion coefficient D0 is:  %.2E   A^2S-1'%D0[0])"
   ]
  },
  {
   "cell_type": "code",
   "execution_count": 59,
   "metadata": {
    "collapsed": false
   },
   "outputs": [
    {
     "data": {
      "image/png": "[encoded data removed]",
      "text/plain": [
       "<matplotlib.figure.Figure at 0x7fa71b2c0358>"
      ]
     },
     "metadata": {},
     "output_type": "display_data"
    }
   ],
   "source": [
    "fig,ax = plt.subplots()\n",
    "ax.plot(q_ring_center**2, rate, 'ro', ls='--')\n",
    "ax.plot(q_ring_center**2,  gmfit(q_ring_center**2),  ls='-')\n",
    "ax.set_ylabel('Relaxation rate 'r'$\\gamma$'\"($s^{-1}$)\")\n",
    "ax.set_xlabel(\"$q^2$\"r'($\\AA^{-2}$)')\n",
    "plt.show()"
   ]
  },
  {
   "cell_type": "code",
   "execution_count": null,
   "metadata": {
    "collapsed": true
   },
   "outputs": [],
   "source": []
  },
  {
   "cell_type": "code",
   "execution_count": null,
   "metadata": {
    "collapsed": true
   },
   "outputs": [],
   "source": []
  },
  {
   "cell_type": "code",
   "execution_count": null,
   "metadata": {
    "collapsed": true
   },
   "outputs": [],
   "source": []
  }
 ],
 "metadata": {
  "kernelspec": {
   "display_name": "CHX (py3)",
   "language": "",
   "name": "xf11id-srv1"
  },
  "language_info": {
   "codemirror_mode": {
    "name": "ipython",
    "version": 3
   },
   "file_extension": ".py",
   "mimetype": "text/x-python",
   "name": "python",
   "nbconvert_exporter": "python",
   "pygments_lexer": "ipython3",
   "version": "3.4.3"
  }
 },
 "nbformat": 4,
 "nbformat_minor": 0
}
