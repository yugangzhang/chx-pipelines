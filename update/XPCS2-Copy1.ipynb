{
 "cells": [
  {
   "cell_type": "markdown",
   "metadata": {},
   "source": [
    "#  XPCS   Pipeline "
   ]
  },
  {
   "cell_type": "markdown",
   "metadata": {},
   "source": [
    "Get the data from databroker"
   ]
  },
  {
   "cell_type": "code",
   "execution_count": 1,
   "metadata": {
    "collapsed": false
   },
   "outputs": [],
   "source": [
    "import numpy as np\n",
    "import matplotlib as mpl\n",
    "import matplotlib.pyplot as plt\n",
    "\n",
    "from databroker import DataBroker as db, get_images, get_table, get_events\n",
    "from filestore.api import register_handler, deregister_handler\n",
    "from filestore.retrieve import _h_registry, _HANDLER_CACHE\n",
    "# register the fancy lazy chx eiger handler\n",
    "# from chxtools import handlers"
   ]
  },
  {
   "cell_type": "code",
   "execution_count": null,
   "metadata": {
    "collapsed": true
   },
   "outputs": [],
   "source": []
  },
  {
   "cell_type": "code",
   "execution_count": 8,
   "metadata": {
    "collapsed": true
   },
   "outputs": [],
   "source": [
    "#%matplotlib inline\n",
    "%matplotlib notebook"
   ]
  },
  {
   "cell_type": "code",
   "execution_count": 9,
   "metadata": {
    "collapsed": false
   },
   "outputs": [
    {
     "data": {
      "application/javascript": [
       "/* Put everything inside the global mpl namespace */\n",
       "window.mpl = {};\n",
       "\n",
       "mpl.get_websocket_type = function() {\n",
       "    if (typeof(WebSocket) !== 'undefined') {\n",
       "        return WebSocket;\n",
       "    } else if (typeof(MozWebSocket) !== 'undefined') {\n",
       "        return MozWebSocket;\n",
       "    } else {\n",
       "        alert('Your browser does not have WebSocket support.' +\n",
       "              'Please try Chrome, Safari or Firefox ≥ 6. ' +\n",
       "              'Firefox 4 and 5 are also supported but you ' +\n",
       "              'have to enable WebSockets in about:config.');\n",
       "    };\n",
       "}\n",
       "\n",
       "mpl.figure = function(figure_id, websocket, ondownload, parent_element) {\n",
       "    this.id = figure_id;\n",
       "\n",
       "    this.ws = websocket;\n",
       "\n",
       "    this.supports_binary = (this.ws.binaryType != undefined);\n",
       "\n",
       "    if (!this.supports_binary) {\n",
       "        var warnings = document.getElementById(\"mpl-warnings\");\n",
       "        if (warnings) {\n",
       "            warnings.style.display = 'block';\n",
       "            warnings.textContent = (\n",
       "                \"This browser does not support binary websocket messages. \" +\n",
       "                    \"Performance may be slow.\");\n",
       "        }\n",
       "    }\n",
       "\n",
       "    this.imageObj = new Image();\n",
       "\n",
       "    this.context = undefined;\n",
       "    this.message = undefined;\n",
       "    this.canvas = undefined;\n",
       "    this.rubberband_canvas = undefined;\n",
       "    this.rubberband_context = undefined;\n",
       "    this.format_dropdown = undefined;\n",
       "\n",
       "    this.image_mode = 'full';\n",
       "\n",
       "    this.root = $('<div/>');\n",
       "    this._root_extra_style(this.root)\n",
       "    this.root.attr('style', 'display: inline-block');\n",
       "\n",
       "    $(parent_element).append(this.root);\n",
       "\n",
       "    this._init_header(this);\n",
       "    this._init_canvas(this);\n",
       "    this._init_toolbar(this);\n",
       "\n",
       "    var fig = this;\n",
       "\n",
       "    this.waiting = false;\n",
       "\n",
       "    this.ws.onopen =  function () {\n",
       "            fig.send_message(\"supports_binary\", {value: fig.supports_binary});\n",
       "            fig.send_message(\"send_image_mode\", {});\n",
       "            fig.send_message(\"refresh\", {});\n",
       "        }\n",
       "\n",
       "    this.imageObj.onload = function() {\n",
       "            if (fig.image_mode == 'full') {\n",
       "                // Full images could contain transparency (where diff images\n",
       "                // almost always do), so we need to clear the canvas so that\n",
       "                // there is no ghosting.\n",
       "                fig.context.clearRect(0, 0, fig.canvas.width, fig.canvas.height);\n",
       "            }\n",
       "            fig.context.drawImage(fig.imageObj, 0, 0);\n",
       "        };\n",
       "\n",
       "    this.imageObj.onunload = function() {\n",
       "        this.ws.close();\n",
       "    }\n",
       "\n",
       "    this.ws.onmessage = this._make_on_message_function(this);\n",
       "\n",
       "    this.ondownload = ondownload;\n",
       "}\n",
       "\n",
       "mpl.figure.prototype._init_header = function() {\n",
       "    var titlebar = $(\n",
       "        '<div class=\"ui-dialog-titlebar ui-widget-header ui-corner-all ' +\n",
       "        'ui-helper-clearfix\"/>');\n",
       "    var titletext = $(\n",
       "        '<div class=\"ui-dialog-title\" style=\"width: 100%; ' +\n",
       "        'text-align: center; padding: 3px;\"/>');\n",
       "    titlebar.append(titletext)\n",
       "    this.root.append(titlebar);\n",
       "    this.header = titletext[0];\n",
       "}\n",
       "\n",
       "\n",
       "\n",
       "mpl.figure.prototype._canvas_extra_style = function(canvas_div) {\n",
       "\n",
       "}\n",
       "\n",
       "\n",
       "mpl.figure.prototype._root_extra_style = function(canvas_div) {\n",
       "\n",
       "}\n",
       "\n",
       "mpl.figure.prototype._init_canvas = function() {\n",
       "    var fig = this;\n",
       "\n",
       "    var canvas_div = $('<div/>');\n",
       "\n",
       "    canvas_div.attr('style', 'position: relative; clear: both; outline: 0');\n",
       "\n",
       "    function canvas_keyboard_event(event) {\n",
       "        return fig.key_event(event, event['data']);\n",
       "    }\n",
       "\n",
       "    canvas_div.keydown('key_press', canvas_keyboard_event);\n",
       "    canvas_div.keyup('key_release', canvas_keyboard_event);\n",
       "    this.canvas_div = canvas_div\n",
       "    this._canvas_extra_style(canvas_div)\n",
       "    this.root.append(canvas_div);\n",
       "\n",
       "    var canvas = $('<canvas/>');\n",
       "    canvas.addClass('mpl-canvas');\n",
       "    canvas.attr('style', \"left: 0; top: 0; z-index: 0; outline: 0\")\n",
       "\n",
       "    this.canvas = canvas[0];\n",
       "    this.context = canvas[0].getContext(\"2d\");\n",
       "\n",
       "    var rubberband = $('<canvas/>');\n",
       "    rubberband.attr('style', \"position: absolute; left: 0; top: 0; z-index: 1;\")\n",
       "\n",
       "    var pass_mouse_events = true;\n",
       "\n",
       "    canvas_div.resizable({\n",
       "        start: function(event, ui) {\n",
       "            pass_mouse_events = false;\n",
       "        },\n",
       "        resize: function(event, ui) {\n",
       "            fig.request_resize(ui.size.width, ui.size.height);\n",
       "        },\n",
       "        stop: function(event, ui) {\n",
       "            pass_mouse_events = true;\n",
       "            fig.request_resize(ui.size.width, ui.size.height);\n",
       "        },\n",
       "    });\n",
       "\n",
       "    function mouse_event_fn(event) {\n",
       "        if (pass_mouse_events)\n",
       "            return fig.mouse_event(event, event['data']);\n",
       "    }\n",
       "\n",
       "    rubberband.mousedown('button_press', mouse_event_fn);\n",
       "    rubberband.mouseup('button_release', mouse_event_fn);\n",
       "    // Throttle sequential mouse events to 1 every 20ms.\n",
       "    rubberband.mousemove('motion_notify', mouse_event_fn);\n",
       "\n",
       "    rubberband.mouseenter('figure_enter', mouse_event_fn);\n",
       "    rubberband.mouseleave('figure_leave', mouse_event_fn);\n",
       "\n",
       "    canvas_div.on(\"wheel\", function (event) {\n",
       "        event = event.originalEvent;\n",
       "        event['data'] = 'scroll'\n",
       "        if (event.deltaY < 0) {\n",
       "            event.step = 1;\n",
       "        } else {\n",
       "            event.step = -1;\n",
       "        }\n",
       "        mouse_event_fn(event);\n",
       "    });\n",
       "\n",
       "    canvas_div.append(canvas);\n",
       "    canvas_div.append(rubberband);\n",
       "\n",
       "    this.rubberband = rubberband;\n",
       "    this.rubberband_canvas = rubberband[0];\n",
       "    this.rubberband_context = rubberband[0].getContext(\"2d\");\n",
       "    this.rubberband_context.strokeStyle = \"#000000\";\n",
       "\n",
       "    this._resize_canvas = function(width, height) {\n",
       "        // Keep the size of the canvas, canvas container, and rubber band\n",
       "        // canvas in synch.\n",
       "        canvas_div.css('width', width)\n",
       "        canvas_div.css('height', height)\n",
       "\n",
       "        canvas.attr('width', width);\n",
       "        canvas.attr('height', height);\n",
       "\n",
       "        rubberband.attr('width', width);\n",
       "        rubberband.attr('height', height);\n",
       "    }\n",
       "\n",
       "    // Set the figure to an initial 600x600px, this will subsequently be updated\n",
       "    // upon first draw.\n",
       "    this._resize_canvas(600, 600);\n",
       "\n",
       "    // Disable right mouse context menu.\n",
       "    $(this.rubberband_canvas).bind(\"contextmenu\",function(e){\n",
       "        return false;\n",
       "    });\n",
       "\n",
       "    function set_focus () {\n",
       "        canvas.focus();\n",
       "        canvas_div.focus();\n",
       "    }\n",
       "\n",
       "    window.setTimeout(set_focus, 100);\n",
       "}\n",
       "\n",
       "mpl.figure.prototype._init_toolbar = function() {\n",
       "    var fig = this;\n",
       "\n",
       "    var nav_element = $('<div/>')\n",
       "    nav_element.attr('style', 'width: 100%');\n",
       "    this.root.append(nav_element);\n",
       "\n",
       "    // Define a callback function for later on.\n",
       "    function toolbar_event(event) {\n",
       "        return fig.toolbar_button_onclick(event['data']);\n",
       "    }\n",
       "    function toolbar_mouse_event(event) {\n",
       "        return fig.toolbar_button_onmouseover(event['data']);\n",
       "    }\n",
       "\n",
       "    for(var toolbar_ind in mpl.toolbar_items) {\n",
       "        var name = mpl.toolbar_items[toolbar_ind][0];\n",
       "        var tooltip = mpl.toolbar_items[toolbar_ind][1];\n",
       "        var image = mpl.toolbar_items[toolbar_ind][2];\n",
       "        var method_name = mpl.toolbar_items[toolbar_ind][3];\n",
       "\n",
       "        if (!name) {\n",
       "            // put a spacer in here.\n",
       "            continue;\n",
       "        }\n",
       "        var button = $('<button/>');\n",
       "        button.addClass('ui-button ui-widget ui-state-default ui-corner-all ' +\n",
       "                        'ui-button-icon-only');\n",
       "        button.attr('role', 'button');\n",
       "        button.attr('aria-disabled', 'false');\n",
       "        button.click(method_name, toolbar_event);\n",
       "        button.mouseover(tooltip, toolbar_mouse_event);\n",
       "\n",
       "        var icon_img = $('<span/>');\n",
       "        icon_img.addClass('ui-button-icon-primary ui-icon');\n",
       "        icon_img.addClass(image);\n",
       "        icon_img.addClass('ui-corner-all');\n",
       "\n",
       "        var tooltip_span = $('<span/>');\n",
       "        tooltip_span.addClass('ui-button-text');\n",
       "        tooltip_span.html(tooltip);\n",
       "\n",
       "        button.append(icon_img);\n",
       "        button.append(tooltip_span);\n",
       "\n",
       "        nav_element.append(button);\n",
       "    }\n",
       "\n",
       "    var fmt_picker_span = $('<span/>');\n",
       "\n",
       "    var fmt_picker = $('<select/>');\n",
       "    fmt_picker.addClass('mpl-toolbar-option ui-widget ui-widget-content');\n",
       "    fmt_picker_span.append(fmt_picker);\n",
       "    nav_element.append(fmt_picker_span);\n",
       "    this.format_dropdown = fmt_picker[0];\n",
       "\n",
       "    for (var ind in mpl.extensions) {\n",
       "        var fmt = mpl.extensions[ind];\n",
       "        var option = $(\n",
       "            '<option/>', {selected: fmt === mpl.default_extension}).html(fmt);\n",
       "        fmt_picker.append(option)\n",
       "    }\n",
       "\n",
       "    // Add hover states to the ui-buttons\n",
       "    $( \".ui-button\" ).hover(\n",
       "        function() { $(this).addClass(\"ui-state-hover\");},\n",
       "        function() { $(this).removeClass(\"ui-state-hover\");}\n",
       "    );\n",
       "\n",
       "    var status_bar = $('<span class=\"mpl-message\"/>');\n",
       "    nav_element.append(status_bar);\n",
       "    this.message = status_bar[0];\n",
       "}\n",
       "\n",
       "mpl.figure.prototype.request_resize = function(x_pixels, y_pixels) {\n",
       "    // Request matplotlib to resize the figure. Matplotlib will then trigger a resize in the client,\n",
       "    // which will in turn request a refresh of the image.\n",
       "    this.send_message('resize', {'width': x_pixels, 'height': y_pixels});\n",
       "}\n",
       "\n",
       "mpl.figure.prototype.send_message = function(type, properties) {\n",
       "    properties['type'] = type;\n",
       "    properties['figure_id'] = this.id;\n",
       "    this.ws.send(JSON.stringify(properties));\n",
       "}\n",
       "\n",
       "mpl.figure.prototype.send_draw_message = function() {\n",
       "    if (!this.waiting) {\n",
       "        this.waiting = true;\n",
       "        this.ws.send(JSON.stringify({type: \"draw\", figure_id: this.id}));\n",
       "    }\n",
       "}\n",
       "\n",
       "\n",
       "mpl.figure.prototype.handle_save = function(fig, msg) {\n",
       "    var format_dropdown = fig.format_dropdown;\n",
       "    var format = format_dropdown.options[format_dropdown.selectedIndex].value;\n",
       "    fig.ondownload(fig, format);\n",
       "}\n",
       "\n",
       "\n",
       "mpl.figure.prototype.handle_resize = function(fig, msg) {\n",
       "    var size = msg['size'];\n",
       "    if (size[0] != fig.canvas.width || size[1] != fig.canvas.height) {\n",
       "        fig._resize_canvas(size[0], size[1]);\n",
       "        fig.send_message(\"refresh\", {});\n",
       "    };\n",
       "}\n",
       "\n",
       "mpl.figure.prototype.handle_rubberband = function(fig, msg) {\n",
       "    var x0 = msg['x0'];\n",
       "    var y0 = fig.canvas.height - msg['y0'];\n",
       "    var x1 = msg['x1'];\n",
       "    var y1 = fig.canvas.height - msg['y1'];\n",
       "    x0 = Math.floor(x0) + 0.5;\n",
       "    y0 = Math.floor(y0) + 0.5;\n",
       "    x1 = Math.floor(x1) + 0.5;\n",
       "    y1 = Math.floor(y1) + 0.5;\n",
       "    var min_x = Math.min(x0, x1);\n",
       "    var min_y = Math.min(y0, y1);\n",
       "    var width = Math.abs(x1 - x0);\n",
       "    var height = Math.abs(y1 - y0);\n",
       "\n",
       "    fig.rubberband_context.clearRect(\n",
       "        0, 0, fig.canvas.width, fig.canvas.height);\n",
       "\n",
       "    fig.rubberband_context.strokeRect(min_x, min_y, width, height);\n",
       "}\n",
       "\n",
       "mpl.figure.prototype.handle_figure_label = function(fig, msg) {\n",
       "    // Updates the figure title.\n",
       "    fig.header.textContent = msg['label'];\n",
       "}\n",
       "\n",
       "mpl.figure.prototype.handle_cursor = function(fig, msg) {\n",
       "    var cursor = msg['cursor'];\n",
       "    switch(cursor)\n",
       "    {\n",
       "    case 0:\n",
       "        cursor = 'pointer';\n",
       "        break;\n",
       "    case 1:\n",
       "        cursor = 'default';\n",
       "        break;\n",
       "    case 2:\n",
       "        cursor = 'crosshair';\n",
       "        break;\n",
       "    case 3:\n",
       "        cursor = 'move';\n",
       "        break;\n",
       "    }\n",
       "    fig.rubberband_canvas.style.cursor = cursor;\n",
       "}\n",
       "\n",
       "mpl.figure.prototype.handle_message = function(fig, msg) {\n",
       "    fig.message.textContent = msg['message'];\n",
       "}\n",
       "\n",
       "mpl.figure.prototype.handle_draw = function(fig, msg) {\n",
       "    // Request the server to send over a new figure.\n",
       "    fig.send_draw_message();\n",
       "}\n",
       "\n",
       "mpl.figure.prototype.handle_image_mode = function(fig, msg) {\n",
       "    fig.image_mode = msg['mode'];\n",
       "}\n",
       "\n",
       "mpl.figure.prototype.updated_canvas_event = function() {\n",
       "    // Called whenever the canvas gets updated.\n",
       "    this.send_message(\"ack\", {});\n",
       "}\n",
       "\n",
       "// A function to construct a web socket function for onmessage handling.\n",
       "// Called in the figure constructor.\n",
       "mpl.figure.prototype._make_on_message_function = function(fig) {\n",
       "    return function socket_on_message(evt) {\n",
       "        if (evt.data instanceof Blob) {\n",
       "            /* FIXME: We get \"Resource interpreted as Image but\n",
       "             * transferred with MIME type text/plain:\" errors on\n",
       "             * Chrome.  But how to set the MIME type?  It doesn't seem\n",
       "             * to be part of the websocket stream */\n",
       "            evt.data.type = \"image/png\";\n",
       "\n",
       "            /* Free the memory for the previous frames */\n",
       "            if (fig.imageObj.src) {\n",
       "                (window.URL || window.webkitURL).revokeObjectURL(\n",
       "                    fig.imageObj.src);\n",
       "            }\n",
       "\n",
       "            fig.imageObj.src = (window.URL || window.webkitURL).createObjectURL(\n",
       "                evt.data);\n",
       "            fig.updated_canvas_event();\n",
       "            fig.waiting = false;\n",
       "            return;\n",
       "        }\n",
       "        else if (typeof evt.data === 'string' && evt.data.slice(0, 21) == \"data:image/png;base64\") {\n",
       "            fig.imageObj.src = evt.data;\n",
       "            fig.updated_canvas_event();\n",
       "            fig.waiting = false;\n",
       "            return;\n",
       "        }\n",
       "\n",
       "        var msg = JSON.parse(evt.data);\n",
       "        var msg_type = msg['type'];\n",
       "\n",
       "        // Call the  \"handle_{type}\" callback, which takes\n",
       "        // the figure and JSON message as its only arguments.\n",
       "        try {\n",
       "            var callback = fig[\"handle_\" + msg_type];\n",
       "        } catch (e) {\n",
       "            console.log(\"No handler for the '\" + msg_type + \"' message type: \", msg);\n",
       "            return;\n",
       "        }\n",
       "\n",
       "        if (callback) {\n",
       "            try {\n",
       "                // console.log(\"Handling '\" + msg_type + \"' message: \", msg);\n",
       "                callback(fig, msg);\n",
       "            } catch (e) {\n",
       "                console.log(\"Exception inside the 'handler_\" + msg_type + \"' callback:\", e, e.stack, msg);\n",
       "            }\n",
       "        }\n",
       "    };\n",
       "}\n",
       "\n",
       "// from http://stackoverflow.com/questions/1114465/getting-mouse-location-in-canvas\n",
       "mpl.findpos = function(e) {\n",
       "    //this section is from http://www.quirksmode.org/js/events_properties.html\n",
       "    var targ;\n",
       "    if (!e)\n",
       "        e = window.event;\n",
       "    if (e.target)\n",
       "        targ = e.target;\n",
       "    else if (e.srcElement)\n",
       "        targ = e.srcElement;\n",
       "    if (targ.nodeType == 3) // defeat Safari bug\n",
       "        targ = targ.parentNode;\n",
       "\n",
       "    // jQuery normalizes the pageX and pageY\n",
       "    // pageX,Y are the mouse positions relative to the document\n",
       "    // offset() returns the position of the element relative to the document\n",
       "    var x = e.pageX - $(targ).offset().left;\n",
       "    var y = e.pageY - $(targ).offset().top;\n",
       "\n",
       "    return {\"x\": x, \"y\": y};\n",
       "};\n",
       "\n",
       "/*\n",
       " * return a copy of an object with only non-object keys\n",
       " * we need this to avoid circular references\n",
       " * http://stackoverflow.com/a/24161582/3208463\n",
       " */\n",
       "function simpleKeys (original) {\n",
       "  return Object.keys(original).reduce(function (obj, key) {\n",
       "    if (typeof original[key] !== 'object')\n",
       "        obj[key] = original[key]\n",
       "    return obj;\n",
       "  }, {});\n",
       "}\n",
       "\n",
       "mpl.figure.prototype.mouse_event = function(event, name) {\n",
       "    var canvas_pos = mpl.findpos(event)\n",
       "\n",
       "    if (name === 'button_press')\n",
       "    {\n",
       "        this.canvas.focus();\n",
       "        this.canvas_div.focus();\n",
       "    }\n",
       "\n",
       "    var x = canvas_pos.x;\n",
       "    var y = canvas_pos.y;\n",
       "\n",
       "    this.send_message(name, {x: x, y: y, button: event.button,\n",
       "                             step: event.step,\n",
       "                             guiEvent: simpleKeys(event)});\n",
       "\n",
       "    /* This prevents the web browser from automatically changing to\n",
       "     * the text insertion cursor when the button is pressed.  We want\n",
       "     * to control all of the cursor setting manually through the\n",
       "     * 'cursor' event from matplotlib */\n",
       "    event.preventDefault();\n",
       "    return false;\n",
       "}\n",
       "\n",
       "mpl.figure.prototype._key_event_extra = function(event, name) {\n",
       "    // Handle any extra behaviour associated with a key event\n",
       "}\n",
       "\n",
       "mpl.figure.prototype.key_event = function(event, name) {\n",
       "\n",
       "    // Prevent repeat events\n",
       "    if (name == 'key_press')\n",
       "    {\n",
       "        if (event.which === this._key)\n",
       "            return;\n",
       "        else\n",
       "            this._key = event.which;\n",
       "    }\n",
       "    if (name == 'key_release')\n",
       "        this._key = null;\n",
       "\n",
       "    var value = '';\n",
       "    if (event.ctrlKey && event.which != 17)\n",
       "        value += \"ctrl+\";\n",
       "    if (event.altKey && event.which != 18)\n",
       "        value += \"alt+\";\n",
       "    if (event.shiftKey && event.which != 16)\n",
       "        value += \"shift+\";\n",
       "\n",
       "    value += 'k';\n",
       "    value += event.which.toString();\n",
       "\n",
       "    this._key_event_extra(event, name);\n",
       "\n",
       "    this.send_message(name, {key: value,\n",
       "                             guiEvent: simpleKeys(event)});\n",
       "    return false;\n",
       "}\n",
       "\n",
       "mpl.figure.prototype.toolbar_button_onclick = function(name) {\n",
       "    if (name == 'download') {\n",
       "        this.handle_save(this, null);\n",
       "    } else {\n",
       "        this.send_message(\"toolbar_button\", {name: name});\n",
       "    }\n",
       "};\n",
       "\n",
       "mpl.figure.prototype.toolbar_button_onmouseover = function(tooltip) {\n",
       "    this.message.textContent = tooltip;\n",
       "};\n",
       "mpl.toolbar_items = [[\"Home\", \"Reset original view\", \"fa fa-home icon-home\", \"home\"], [\"Back\", \"Back to  previous view\", \"fa fa-arrow-left icon-arrow-left\", \"back\"], [\"Forward\", \"Forward to next view\", \"fa fa-arrow-right icon-arrow-right\", \"forward\"], [\"\", \"\", \"\", \"\"], [\"Pan\", \"Pan axes with left mouse, zoom with right\", \"fa fa-arrows icon-move\", \"pan\"], [\"Zoom\", \"Zoom to rectangle\", \"fa fa-square-o icon-check-empty\", \"zoom\"], [\"\", \"\", \"\", \"\"], [\"Download\", \"Download plot\", \"fa fa-floppy-o icon-save\", \"download\"]];\n",
       "\n",
       "mpl.extensions = [\"eps\", \"jpeg\", \"pdf\", \"png\", \"ps\", \"raw\", \"svg\", \"tif\"];\n",
       "\n",
       "mpl.default_extension = \"png\";var comm_websocket_adapter = function(comm) {\n",
       "    // Create a \"websocket\"-like object which calls the given IPython comm\n",
       "    // object with the appropriate methods. Currently this is a non binary\n",
       "    // socket, so there is still some room for performance tuning.\n",
       "    var ws = {};\n",
       "\n",
       "    ws.close = function() {\n",
       "        comm.close()\n",
       "    };\n",
       "    ws.send = function(m) {\n",
       "        //console.log('sending', m);\n",
       "        comm.send(m);\n",
       "    };\n",
       "    // Register the callback with on_msg.\n",
       "    comm.on_msg(function(msg) {\n",
       "        //console.log('receiving', msg['content']['data'], msg);\n",
       "        // Pass the mpl event to the overriden (by mpl) onmessage function.\n",
       "        ws.onmessage(msg['content']['data'])\n",
       "    });\n",
       "    return ws;\n",
       "}\n",
       "\n",
       "mpl.mpl_figure_comm = function(comm, msg) {\n",
       "    // This is the function which gets called when the mpl process\n",
       "    // starts-up an IPython Comm through the \"matplotlib\" channel.\n",
       "\n",
       "    var id = msg.content.data.id;\n",
       "    // Get hold of the div created by the display call when the Comm\n",
       "    // socket was opened in Python.\n",
       "    var element = $(\"#\" + id);\n",
       "    var ws_proxy = comm_websocket_adapter(comm)\n",
       "\n",
       "    function ondownload(figure, format) {\n",
       "        window.open(figure.imageObj.src);\n",
       "    }\n",
       "\n",
       "    var fig = new mpl.figure(id, ws_proxy,\n",
       "                           ondownload,\n",
       "                           element.get(0));\n",
       "\n",
       "    // Call onopen now - mpl needs it, as it is assuming we've passed it a real\n",
       "    // web socket which is closed, not our websocket->open comm proxy.\n",
       "    ws_proxy.onopen();\n",
       "\n",
       "    fig.parent_element = element.get(0);\n",
       "    fig.cell_info = mpl.find_output_cell(\"<div id='\" + id + \"'></div>\");\n",
       "    if (!fig.cell_info) {\n",
       "        console.error(\"Failed to find cell for figure\", id, fig);\n",
       "        return;\n",
       "    }\n",
       "\n",
       "    var output_index = fig.cell_info[2]\n",
       "    var cell = fig.cell_info[0];\n",
       "\n",
       "};\n",
       "\n",
       "mpl.figure.prototype.handle_close = function(fig, msg) {\n",
       "    fig.root.unbind('remove')\n",
       "\n",
       "    // Update the output cell to use the data from the current canvas.\n",
       "    fig.push_to_output();\n",
       "    var dataURL = fig.canvas.toDataURL();\n",
       "    // Re-enable the keyboard manager in IPython - without this line, in FF,\n",
       "    // the notebook keyboard shortcuts fail.\n",
       "    IPython.keyboard_manager.enable()\n",
       "    $(fig.parent_element).html('<img src=\"' + dataURL + '\">');\n",
       "    fig.close_ws(fig, msg);\n",
       "}\n",
       "\n",
       "mpl.figure.prototype.close_ws = function(fig, msg){\n",
       "    fig.send_message('closing', msg);\n",
       "    // fig.ws.close()\n",
       "}\n",
       "\n",
       "mpl.figure.prototype.push_to_output = function(remove_interactive) {\n",
       "    // Turn the data on the canvas into data in the output cell.\n",
       "    var dataURL = this.canvas.toDataURL();\n",
       "    this.cell_info[1]['text/html'] = '<img src=\"' + dataURL + '\">';\n",
       "}\n",
       "\n",
       "mpl.figure.prototype.updated_canvas_event = function() {\n",
       "    // Tell IPython that the notebook contents must change.\n",
       "    IPython.notebook.set_dirty(true);\n",
       "    this.send_message(\"ack\", {});\n",
       "    var fig = this;\n",
       "    // Wait a second, then push the new image to the DOM so\n",
       "    // that it is saved nicely (might be nice to debounce this).\n",
       "    setTimeout(function () { fig.push_to_output() }, 1000);\n",
       "}\n",
       "\n",
       "mpl.figure.prototype._init_toolbar = function() {\n",
       "    var fig = this;\n",
       "\n",
       "    var nav_element = $('<div/>')\n",
       "    nav_element.attr('style', 'width: 100%');\n",
       "    this.root.append(nav_element);\n",
       "\n",
       "    // Define a callback function for later on.\n",
       "    function toolbar_event(event) {\n",
       "        return fig.toolbar_button_onclick(event['data']);\n",
       "    }\n",
       "    function toolbar_mouse_event(event) {\n",
       "        return fig.toolbar_button_onmouseover(event['data']);\n",
       "    }\n",
       "\n",
       "    for(var toolbar_ind in mpl.toolbar_items){\n",
       "        var name = mpl.toolbar_items[toolbar_ind][0];\n",
       "        var tooltip = mpl.toolbar_items[toolbar_ind][1];\n",
       "        var image = mpl.toolbar_items[toolbar_ind][2];\n",
       "        var method_name = mpl.toolbar_items[toolbar_ind][3];\n",
       "\n",
       "        if (!name) { continue; };\n",
       "\n",
       "        var button = $('<button class=\"btn btn-default\" href=\"#\" title=\"' + name + '\"><i class=\"fa ' + image + ' fa-lg\"></i></button>');\n",
       "        button.click(method_name, toolbar_event);\n",
       "        button.mouseover(tooltip, toolbar_mouse_event);\n",
       "        nav_element.append(button);\n",
       "    }\n",
       "\n",
       "    // Add the status bar.\n",
       "    var status_bar = $('<span class=\"mpl-message\" style=\"text-align:right; float: right;\"/>');\n",
       "    nav_element.append(status_bar);\n",
       "    this.message = status_bar[0];\n",
       "\n",
       "    // Add the close button to the window.\n",
       "    var buttongrp = $('<div class=\"btn-group inline pull-right\"></div>');\n",
       "    var button = $('<button class=\"btn btn-mini btn-primary\" href=\"#\" title=\"Stop Interaction\"><i class=\"fa fa-power-off icon-remove icon-large\"></i></button>');\n",
       "    button.click(function (evt) { fig.handle_close(fig, {}); } );\n",
       "    button.mouseover('Stop Interaction', toolbar_mouse_event);\n",
       "    buttongrp.append(button);\n",
       "    var titlebar = this.root.find($('.ui-dialog-titlebar'));\n",
       "    titlebar.prepend(buttongrp);\n",
       "}\n",
       "\n",
       "mpl.figure.prototype._root_extra_style = function(el){\n",
       "    var fig = this\n",
       "    el.on(\"remove\", function(){\n",
       "\tfig.close_ws(fig, {});\n",
       "    });\n",
       "}\n",
       "\n",
       "mpl.figure.prototype._canvas_extra_style = function(el){\n",
       "    // this is important to make the div 'focusable\n",
       "    el.attr('tabindex', 0)\n",
       "    // reach out to IPython and tell the keyboard manager to turn it's self\n",
       "    // off when our div gets focus\n",
       "\n",
       "    // location in version 3\n",
       "    if (IPython.notebook.keyboard_manager) {\n",
       "        IPython.notebook.keyboard_manager.register_events(el);\n",
       "    }\n",
       "    else {\n",
       "        // location in version 2\n",
       "        IPython.keyboard_manager.register_events(el);\n",
       "    }\n",
       "\n",
       "}\n",
       "\n",
       "mpl.figure.prototype._key_event_extra = function(event, name) {\n",
       "    var manager = IPython.notebook.keyboard_manager;\n",
       "    if (!manager)\n",
       "        manager = IPython.keyboard_manager;\n",
       "\n",
       "    // Check for shift+enter\n",
       "    if (event.shiftKey && event.which == 13) {\n",
       "        this.canvas_div.blur();\n",
       "        event.shiftKey = false;\n",
       "        // Send a \"J\" for go to next cell\n",
       "        event.which = 74;\n",
       "        event.keyCode = 74;\n",
       "        manager.command_mode();\n",
       "        manager.handle_keydown(event);\n",
       "    }\n",
       "}\n",
       "\n",
       "mpl.figure.prototype.handle_save = function(fig, msg) {\n",
       "    fig.ondownload(fig, null);\n",
       "}\n",
       "\n",
       "\n",
       "mpl.find_output_cell = function(html_output) {\n",
       "    // Return the cell and output element which can be found *uniquely* in the notebook.\n",
       "    // Note - this is a bit hacky, but it is done because the \"notebook_saving.Notebook\"\n",
       "    // IPython event is triggered only after the cells have been serialised, which for\n",
       "    // our purposes (turning an active figure into a static one), is too late.\n",
       "    var cells = IPython.notebook.get_cells();\n",
       "    var ncells = cells.length;\n",
       "    for (var i=0; i<ncells; i++) {\n",
       "        var cell = cells[i];\n",
       "        if (cell.cell_type === 'code'){\n",
       "            for (var j=0; j<cell.output_area.outputs.length; j++) {\n",
       "                var data = cell.output_area.outputs[j];\n",
       "                if (data.data) {\n",
       "                    // IPython >= 3 moved mimebundle to data attribute of output\n",
       "                    data = data.data;\n",
       "                }\n",
       "                if (data['text/html'] == html_output) {\n",
       "                    return [cell, data, j];\n",
       "                }\n",
       "            }\n",
       "        }\n",
       "    }\n",
       "}\n",
       "\n",
       "// Register the function which deals with the matplotlib target/channel.\n",
       "// The kernel may be null if the page has been refreshed.\n",
       "if (IPython.notebook.kernel != null) {\n",
       "    IPython.notebook.kernel.comm_manager.register_target('matplotlib', mpl.mpl_figure_comm);\n",
       "}\n"
      ],
      "text/plain": [
       "<IPython.core.display.Javascript object>"
      ]
     },
     "metadata": {},
     "output_type": "display_data"
    },
    {
     "data": {
      "text/html": [
       "<img src=\"data:image/png;base64,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\">"
      ],
      "text/plain": [
       "<IPython.core.display.HTML object>"
      ]
     },
     "metadata": {},
     "output_type": "display_data"
    },
    {
     "data": {
      "text/plain": [
       "[<matplotlib.lines.Line2D at 0x7fe5ba734a90>]"
      ]
     },
     "execution_count": 9,
     "metadata": {},
     "output_type": "execute_result"
    }
   ],
   "source": [
    "plt.plot( np.linspace(0,10,100), np.sin(np.linspace(0,10,100)   ), 'bo')"
   ]
  },
  {
   "cell_type": "code",
   "execution_count": null,
   "metadata": {
    "collapsed": true
   },
   "outputs": [],
   "source": []
  },
  {
   "cell_type": "markdown",
   "metadata": {},
   "source": [
    "### Lazy Eiger Handler (later will goto databroker)"
   ]
  },
  {
   "cell_type": "code",
   "execution_count": null,
   "metadata": {
    "collapsed": true
   },
   "outputs": [],
   "source": []
  },
  {
   "cell_type": "code",
   "execution_count": null,
   "metadata": {
    "collapsed": false
   },
   "outputs": [],
   "source": [
    "import h5py\n",
    "from filestore.retrieve import HandlerBase\n",
    "from eiger_io.pims_reader import EigerImages\n",
    "\n",
    "EIGER_MD_DICT = {\n",
    "    'y_pixel_size': 'entry/instrument/detector/y_pixel_size',\n",
    "    'x_pixel_size': 'entry/instrument/detector/x_pixel_size',\n",
    "    'detector_distance': 'entry/instrument/detector/detector_distance',\n",
    "    'incident_wavelength': 'entry/instrument/beam/incident_wavelength',\n",
    "    'frame_time': 'entry/instrument/detector/frame_time',\n",
    "    'beam_center_x': 'entry/instrument/detector/beam_center_x',\n",
    "    'beam_center_y': 'entry/instrument/detector/beam_center_y',\n",
    "    'count_time': 'entry/instrument/detector/count_time',\n",
    "    'pixel_mask': 'entry/instrument/detector/detectorSpecific/pixel_mask',\n",
    "}\n",
    "\n",
    "class FixedEigerImages(EigerImages):\n",
    "    def __init__(self, path, metadata):\n",
    "        super().__init__(path)\n",
    "        self._metadata = metadata\n",
    "    \n",
    "    @property\n",
    "    def md(self):\n",
    "        return self._metadata\n",
    "    \n",
    "    @property\n",
    "    def dtype(self):\n",
    "        return self.pixel_type\n",
    "    \n",
    "    @property\n",
    "    def shape(self):\n",
    "        return self.frame_shape\n",
    "\n",
    "class LazyEigerHandler(HandlerBase):\n",
    "    specs = {'AD_EIGER'} | HandlerBase.specs\n",
    "    def __init__(self, fpath, frame_per_point, mapping=None):\n",
    "        # create pims handler\n",
    "        self.vals_dict = EIGER_MD_DICT.copy()\n",
    "        if mapping is not None:\n",
    "            self.vals_dict.update(mapping)\n",
    "        self._base_path = fpath\n",
    "        self.fpp = frame_per_point\n",
    "\n",
    "    def __call__(self, seq_id):\n",
    "        import h5py\n",
    "        master_path = '{}_{}_master.h5'.format(self._base_path, seq_id)\n",
    "        md = {}\n",
    "        print('hdf5 path = %s' % master_path)\n",
    "        with h5py.File(master_path, 'r') as f:\n",
    "            md = {k: f[v].value for k, v in self.vals_dict.items()}\n",
    "        # the pixel mask from the eiger contains:\n",
    "        # 1  -- gap\n",
    "        # 2  -- dead\n",
    "        # 4  -- under-responsive\n",
    "        # 8  -- over-responsive\n",
    "        # 16 -- noisy\n",
    "        pixel_mask = md['pixel_mask']\n",
    "        pixel_mask[pixel_mask>0] = 1\n",
    "        pixel_mask[pixel_mask==0] = 2\n",
    "        pixel_mask[pixel_mask==1] = 0\n",
    "        pixel_mask[pixel_mask==2] = 1\n",
    "        md['framerate'] = 1./md['frame_time']\n",
    "        # TODO Return a multi-dimensional PIMS seq\n",
    "        return FixedEigerImages(master_path, md)\n",
    "\n",
    "deregister_handler('AD_EIGER')\n",
    "_HANDLER_CACHE.clear()\n",
    "register_handler('AD_EIGER', LazyEigerHandler)"
   ]
  },
  {
   "cell_type": "code",
   "execution_count": null,
   "metadata": {
    "collapsed": true
   },
   "outputs": [],
   "source": [
    "%matplotlib notebook"
   ]
  },
  {
   "cell_type": "markdown",
   "metadata": {},
   "source": [
    "### Get the events from the uid"
   ]
  },
  {
   "cell_type": "code",
   "execution_count": null,
   "metadata": {
    "collapsed": false,
    "scrolled": false
   },
   "outputs": [],
   "source": [
    "def print_attrs(name, obj):\n",
    "    print(name)\n",
    "    for key, val in obj.attrs.items():\n",
    "        print(\"    %s: %s\" % (key, val))\n",
    "\n",
    "#f = h5py.File('/XF11ID/data/2015/10/16/bcdd8b95-6adc-476b-9c65_25_master.h5','r')\n",
    "#f.visititems(print_attrs)"
   ]
  },
  {
   "cell_type": "code",
   "execution_count": null,
   "metadata": {
    "collapsed": true
   },
   "outputs": [],
   "source": [
    "uid = 'c423e856'"
   ]
  },
  {
   "cell_type": "code",
   "execution_count": null,
   "metadata": {
    "collapsed": false
   },
   "outputs": [],
   "source": [
    "#hdr = db[{{ uid }}]"
   ]
  },
  {
   "cell_type": "code",
   "execution_count": null,
   "metadata": {
    "collapsed": false
   },
   "outputs": [],
   "source": [
    "hdr = db[uid]"
   ]
  },
  {
   "cell_type": "code",
   "execution_count": null,
   "metadata": {
    "collapsed": false,
    "scrolled": false
   },
   "outputs": [],
   "source": [
    "ev, = get_events(hdr, ['eiger_4M_cam_img_image_lightfield'])"
   ]
  },
  {
   "cell_type": "code",
   "execution_count": null,
   "metadata": {
    "collapsed": false
   },
   "outputs": [],
   "source": [
    "imgs = ev['data']['eiger_4M_cam_img_image_lightfield']\n",
    "print (imgs)\n",
    "Nimg=len(imgs)"
   ]
  },
  {
   "cell_type": "code",
   "execution_count": null,
   "metadata": {
    "collapsed": true
   },
   "outputs": [],
   "source": [
    "class RemoveHotSpots(object):\n",
    "    def __init__(self, indexable, threshold= 1E7 ):\n",
    "        self.indexable = indexable\n",
    "        self.threshold = threshold\n",
    "        self.N = len( indexable  ) \n",
    "    def _get_mask(self ):\n",
    "        mask = np.ones_like( np.array( self.indexable[0])    )\n",
    "        for key in range(self.N):\n",
    "            data = np.array( self.indexable[key])  #.copy()        \n",
    "            badp = np.where(  data >= self.threshold )\n",
    "            if len(badp[0])!=0:                \n",
    "                mask[badp] = 0                            \n",
    "        return mask"
   ]
  },
  {
   "cell_type": "code",
   "execution_count": null,
   "metadata": {
    "collapsed": true
   },
   "outputs": [],
   "source": [
    "class Masker(object):\n",
    "    def __init__(self, indexable, mask):\n",
    "        self.indexable = indexable\n",
    "        self.mask = mask\n",
    "    def __getitem__(self, key):\n",
    "        return self.indexable[key] * mask"
   ]
  },
  {
   "cell_type": "code",
   "execution_count": null,
   "metadata": {
    "collapsed": false
   },
   "outputs": [],
   "source": [
    "mask_rh  = RemoveHotSpots( imgs, 5E4)._get_mask()"
   ]
  },
  {
   "cell_type": "code",
   "execution_count": null,
   "metadata": {
    "collapsed": false
   },
   "outputs": [],
   "source": [
    " \n",
    "fig, ax = plt.subplots()\n",
    "im = ax.imshow(mask_rh , vmin=0,vmax=1,cmap='viridis')\n",
    "ax.set_title( 'mask_remove_hotspots')\n",
    "plt.colorbar( im  )"
   ]
  },
  {
   "cell_type": "markdown",
   "metadata": {},
   "source": [
    "### show pixel mask from data"
   ]
  },
  {
   "cell_type": "code",
   "execution_count": null,
   "metadata": {
    "collapsed": false
   },
   "outputs": [],
   "source": [
    "#%matplotlib inline\n",
    "\n",
    "fig, ax = plt.subplots()\n",
    "im = ax.imshow(imgs.md['pixel_mask'], vmin=0,vmax=1,cmap='viridis')\n",
    "ax.set_title( 'pixel_mask')\n",
    "plt.colorbar( im )"
   ]
  },
  {
   "cell_type": "code",
   "execution_count": null,
   "metadata": {
    "collapsed": false
   },
   "outputs": [],
   "source": [
    "imgs_mask =   mask_rh * imgs.md['pixel_mask']\n",
    "fig, ax = plt.subplots()\n",
    "im = ax.imshow(imgs_mask, vmin=0,vmax=1,cmap='viridis')\n",
    "ax.set_title( 'pixel_&_remove_hot_spots_mask')\n",
    "plt.colorbar( im )"
   ]
  },
  {
   "cell_type": "markdown",
   "metadata": {},
   "source": [
    "## Interactive way to browse through images.\n",
    "\n",
    "### Note : Provide the number of images that you want to browse"
   ]
  },
  {
   "cell_type": "code",
   "execution_count": null,
   "metadata": {
    "collapsed": false,
    "scrolled": false
   },
   "outputs": [],
   "source": [
    "#%matplotlib inline\n",
    "## there is a bug for %matplotlib notebook\n",
    "from ipywidgets import interact\n",
    "\n",
    "def view_image(i):\n",
    "    fig, ax = plt.subplots()\n",
    "    ax.imshow(imgs[i], interpolation='nearest', cmap='viridis', vmin=0, vmax=1e0)\n",
    "    ax.set_title(\"Browse the Image Stack\")\n",
    "    #plt.show()\n",
    "    \n",
    "#interact(view_image, i=(0, Nimg-1))"
   ]
  },
  {
   "cell_type": "markdown",
   "metadata": {},
   "source": [
    "# a movie of images"
   ]
  },
  {
   "cell_type": "code",
   "execution_count": null,
   "metadata": {
    "collapsed": false
   },
   "outputs": [],
   "source": [
    "import time \n",
    "def view_image(sleeps=1, ims=0, ime = 1):\n",
    "    \n",
    "    fig, ax = plt.subplots()  \n",
    "    for i in range( ims, ime  ):\n",
    "        ax.imshow(imgs[i],  interpolation='nearest', cmap='viridis', origin='lower', vmin=0, vmax=1e2)\n",
    "        ax.set_title(\"images_%s\"%i)\n",
    "        time.sleep( sleeps )\n",
    "\n",
    "        \n",
    "#view_image( 5, 0, 3) "
   ]
  },
  {
   "cell_type": "code",
   "execution_count": null,
   "metadata": {
    "collapsed": false
   },
   "outputs": [],
   "source": [
    "#hey, let's see if any images are bad!\n",
    "bin_img =25\n",
    "imgsum = [np.sum(img *imgs_mask) for img in imgs[::bin_img ]]"
   ]
  },
  {
   "cell_type": "code",
   "execution_count": null,
   "metadata": {
    "collapsed": false
   },
   "outputs": [],
   "source": [
    "#%matplotlib inline\n",
    "fig, ax = plt.subplots()  \n",
    "ax.plot(imgsum,'bo')\n",
    "ax.set_xlabel( 'Frame_bin_%s'%bin_img )\n",
    "ax.set_ylabel( 'Total_Intensity' )\n"
   ]
  },
  {
   "cell_type": "markdown",
   "metadata": {},
   "source": [
    "### Get the Averaged Image Data"
   ]
  },
  {
   "cell_type": "code",
   "execution_count": null,
   "metadata": {
    "collapsed": false
   },
   "outputs": [],
   "source": [
    "avg_img = np.average(imgs[::1], axis=0) * imgs_mask"
   ]
  },
  {
   "cell_type": "code",
   "execution_count": null,
   "metadata": {
    "collapsed": false
   },
   "outputs": [],
   "source": [
    "# Plot the result\n",
    "fig, ax = plt.subplots()\n",
    "im = ax.imshow(avg_img, vmin=0, vmax=1e1, cmap='viridis',origin='lower')\n",
    "\n",
    "fig.colorbar(im)\n",
    "ax.set_title(\"Averaged Data\")\n",
    "plt.show()"
   ]
  },
  {
   "cell_type": "code",
   "execution_count": null,
   "metadata": {
    "collapsed": false,
    "scrolled": false
   },
   "outputs": [],
   "source": [
    "avg_img2 = np.average(imgs[::1], axis=0) * imgs.md['pixel_mask'"
   ]
  },
  {
   "cell_type": "code",
   "execution_count": null,
   "metadata": {
    "collapsed": false
   },
   "outputs": [],
   "source": [
    "# Plot the result\n",
    "fig, ax = plt.subplots()\n",
    "im = ax.imshow(avg_img2, vmin=0, vmax=1e0, cmap='viridis',origin='lower')\n",
    "fig.colorbar(im)\n",
    "ax.set_title(\"Averaged Data\")\n",
    "plt.show()"
   ]
  },
  {
   "cell_type": "markdown",
   "metadata": {},
   "source": [
    "## Import all the required packages for  Data Analysis\n",
    "\n",
    "* scikit-xray - data analysis tools for X-ray science \n",
    "    - https://github.com/scikit-xray/scikit-xray\n",
    "* xray-vision - plotting helper functions for X-ray science\n",
    "    - https://github.com/Nikea/xray-vision\n"
   ]
  },
  {
   "cell_type": "code",
   "execution_count": null,
   "metadata": {
    "collapsed": false
   },
   "outputs": [],
   "source": [
    "import xray_vision\n",
    "import xray_vision.mpl_plotting as mpl_plot  \n",
    "from xray_vision.mpl_plotting import speckle\n",
    "from xray_vision.mask.manual_mask import ManualMask\n",
    "\n",
    "import skxray.core.roi as roi\n",
    "\n",
    "import skxray.core.correlation as corr\n",
    "import skxray.core.utils as utils"
   ]
  },
  {
   "cell_type": "markdown",
   "metadata": {},
   "source": [
    "## Note:  Enter the following experiment information \n",
    "\n",
    "* The physical size of the pixels\n",
    "* Wavelegth of the X-rays  - (units in Angstroms)\n",
    "* Detector to sample distance\n",
    "* Exposure time - (units in seconds)\n",
    "* acqusition period - (units in seconds)\n",
    "* dead time - (units in seconds)\n",
    "* time per frame = (exposure time + dead_time or acqusition period) - (units in seconds)"
   ]
  },
  {
   "cell_type": "code",
   "execution_count": null,
   "metadata": {
    "collapsed": false
   },
   "outputs": [],
   "source": [
    "imgs.md"
   ]
  },
  {
   "cell_type": "code",
   "execution_count": null,
   "metadata": {
    "collapsed": false
   },
   "outputs": [],
   "source": [
    "# The physical size of the pixels\n",
    "dpix = imgs.md['x_pixel_size'] * 1000.  \n",
    "lambda_ = imgs.md['incident_wavelength']    # wavelegth of the X-rays in Angstroms\n",
    "Ldet = 5000.        # detector to sample distance (mm)\n",
    "\n",
    "exposuretime= imgs.md['count_time']\n",
    "acquisition_period = imgs.md['frame_time']\n",
    "\n",
    "# deadtime= 0   # 60e-6 \n",
    "# timeperframe = exposuretime + deadtime\n",
    "timeperframe = acquisition_period  "
   ]
  },
  {
   "cell_type": "code",
   "execution_count": null,
   "metadata": {
    "collapsed": false
   },
   "outputs": [],
   "source": [
    "print (timeperframe)\n",
    "print (exposuretime)"
   ]
  },
  {
   "cell_type": "markdown",
   "metadata": {
    "collapsed": false
   },
   "source": [
    "## Create the mask file\n",
    "\n",
    "More information : https://github.com/Nikea/xray-vision/blob/master/xray_vision/mask/manual_mask.py"
   ]
  },
  {
   "cell_type": "code",
   "execution_count": null,
   "metadata": {
    "collapsed": false
   },
   "outputs": [],
   "source": [
    "%matplotlib notebook"
   ]
  },
  {
   "cell_type": "code",
   "execution_count": null,
   "metadata": {
    "collapsed": false
   },
   "outputs": [],
   "source": [
    "fig, ax = plt.subplots()\n",
    "m = ManualMask(ax, avg_img, vmin=0, vmax=1e0)"
   ]
  },
  {
   "cell_type": "code",
   "execution_count": null,
   "metadata": {
    "collapsed": false
   },
   "outputs": [],
   "source": [
    "#np.save('mask_test', new_mask)\n",
    "new_mask = np.load('/home/yuzhang/XPCS_Anlysis/Results/mask_Si5.npy')"
   ]
  },
  {
   "cell_type": "code",
   "execution_count": null,
   "metadata": {
    "collapsed": false
   },
   "outputs": [],
   "source": [
    "\n",
    "%matplotlib inline\n",
    "\n",
    "#new_mask = m.mask\n",
    "m.mask = new_mask\n",
    "plt.imshow(~new_mask,origin='lower' ,vmin=0,vmax=1,cmap='viridis')\n",
    "plt.colorbar()\n",
    "plt.show()"
   ]
  },
  {
   "cell_type": "markdown",
   "metadata": {},
   "source": [
    "### Combine the hand-drawn mask and the pixel mask"
   ]
  },
  {
   "cell_type": "code",
   "execution_count": null,
   "metadata": {
    "collapsed": false
   },
   "outputs": [],
   "source": [
    "mask = ~m.mask * imgs.md['pixel_mask']"
   ]
  },
  {
   "cell_type": "code",
   "execution_count": null,
   "metadata": {
    "collapsed": true
   },
   "outputs": [],
   "source": [
    "%matplotlib inline"
   ]
  },
  {
   "cell_type": "code",
   "execution_count": null,
   "metadata": {
    "collapsed": false
   },
   "outputs": [],
   "source": [
    "plt.figure()\n",
    "plt.imshow(mask,origin='lower' ,vmin=0,vmax=1,cmap='viridis')\n",
    "plt.colorbar()\n",
    "plt.show()\n"
   ]
  },
  {
   "cell_type": "code",
   "execution_count": null,
   "metadata": {
    "collapsed": false
   },
   "outputs": [],
   "source": [
    "img_mask = avg_img * mask\n",
    "\n",
    "#%matplotlib notebook\n",
    "plt.figure()\n",
    "plt.imshow(img_mask,origin='lower' ,vmin=0,vmax=1.0,cmap='viridis')\n",
    "plt.colorbar()\n",
    "plt.show()"
   ]
  },
  {
   "cell_type": "markdown",
   "metadata": {},
   "source": [
    "## Get the approximate center and see the statistic to make sure "
   ]
  },
  {
   "cell_type": "code",
   "execution_count": null,
   "metadata": {
    "collapsed": false
   },
   "outputs": [],
   "source": [
    "#center = (1634.66, 838.6)  # center of the speckle pattern\n",
    "#center = (imgs.md['beam_center_x'], imgs.md['beam_center_y'])\n",
    "center = [840, 1830]\n",
    "\n",
    "center"
   ]
  },
  {
   "cell_type": "code",
   "execution_count": null,
   "metadata": {
    "collapsed": true
   },
   "outputs": [],
   "source": [
    "center=[center[1],center[0]]"
   ]
  },
  {
   "cell_type": "code",
   "execution_count": null,
   "metadata": {
    "collapsed": false
   },
   "outputs": [],
   "source": [
    "imgs.md['beam_center_x'], imgs.md['beam_center_y']"
   ]
  },
  {
   "cell_type": "markdown",
   "metadata": {},
   "source": [
    "### Circular Average : compute the radial integartion from the center of the speckle pattern"
   ]
  },
  {
   "cell_type": "code",
   "execution_count": null,
   "metadata": {
    "collapsed": false
   },
   "outputs": [],
   "source": [
    "bin_centers, ring_averages= roi.circular_average(img_mask, \n",
    "        center2, threshold=0, nx=1000, pixel_size=(dpix, dpix))\n",
    "\n",
    "#  convert to q (reciprocal space)\n",
    "two_theta = utils.radius_to_twotheta(Ldet, bin_centers)\n",
    "q_val = utils.twotheta_to_q(two_theta, lambda_)"
   ]
  },
  {
   "cell_type": "code",
   "execution_count": null,
   "metadata": {
    "collapsed": false
   },
   "outputs": [],
   "source": [
    "fig, axes = plt.subplots( figsize=(6, 6))\n",
    "axes.semilogy(q_val, ring_averages, '-o')\n",
    "\n",
    "#axes.plot(q_val, ring_averages, '-o')\n",
    "axes.set_title(\"Circular Average\")\n",
    "axes.set_ylabel(\"Ring Avearge\")\n",
    "axes.set_xlabel(\"Bin Centers (1/Angstroms)\")\n",
    "axes.set_xlim(0.0, 0.021)\n",
    "plt.show()"
   ]
  },
  {
   "cell_type": "markdown",
   "metadata": {},
   "source": [
    "## Create label array (Q rings)"
   ]
  },
  {
   "cell_type": "code",
   "execution_count": null,
   "metadata": {
    "collapsed": false
   },
   "outputs": [],
   "source": [
    "inner_radius = 45# radius of the first ring\n",
    "width = 2       # width of each ring\n",
    "spacing = 6+ 1/9.    # no spacing between rings\n",
    "num_rings = 10   # number of rings\n",
    "\n",
    "#  find the edges of the required rings\n",
    "edges = roi.ring_edges(inner_radius, width, spacing, num_rings)\n",
    "edges"
   ]
  },
  {
   "cell_type": "code",
   "execution_count": null,
   "metadata": {
    "collapsed": false
   },
   "outputs": [],
   "source": [
    "two_theta = utils.radius_to_twotheta(Ldet, edges*dpix)\n",
    "q_ring_val = utils.twotheta_to_q(two_theta, lambda_)\n",
    "\n",
    "q_ring_val"
   ]
  },
  {
   "cell_type": "code",
   "execution_count": null,
   "metadata": {
    "collapsed": false
   },
   "outputs": [],
   "source": [
    "q_ring_center = np.array( [(q_ring_val[i][0] + q_ring_val[i][1])/2 for \n",
    "                           i in range(num_rings)])\n",
    "q_ring_center"
   ]
  },
  {
   "cell_type": "code",
   "execution_count": null,
   "metadata": {
    "collapsed": false
   },
   "outputs": [],
   "source": [
    "fig, axes = plt.subplots( figsize=(6, 6))\n",
    "#axes.semilogy(q_val, ring_averages, '-o')\n",
    "\n",
    "axes.plot(q_val, ring_averages, '-o')\n",
    "axes.set_title(\"Circular Average with the Q ring values\")\n",
    "axes.set_ylabel(\"Ring Avearge\")\n",
    "axes.set_xlabel(\"Bin Centers (1/Angstroms)\")\n",
    "axes.set_xlim(0, 0.02)\n",
    "axes.set_ylim(0, 10)\n",
    "for i in range(num_rings):\n",
    "    #axes.axvline(q_ring_val[i, 0])\n",
    "    axes.axvline(q_ring_center[i])\n",
    "plt.show()"
   ]
  },
  {
   "cell_type": "code",
   "execution_count": null,
   "metadata": {
    "collapsed": false
   },
   "outputs": [],
   "source": [
    "center"
   ]
  },
  {
   "cell_type": "code",
   "execution_count": null,
   "metadata": {
    "collapsed": false
   },
   "outputs": [],
   "source": [
    "%matplotlib inline\n",
    "rings = roi.rings(edges, center2, avg_img.shape)\n",
    "\n",
    "ring_mask = rings*mask\n",
    "#% matplotlib notebook\n",
    "# plot the figure\n",
    "fig, axes = plt.subplots(figsize=(8,8))\n",
    "axes.set_title(\"Labeled Array\")\n",
    "im = mpl_plot.show_label_array(axes, ring_mask, cmap='viridis',origin='lower')\n",
    "\n",
    "rwidth = 600 \n",
    "\n",
    "y1,y2 = [center[1] - rwidth, center[1] + rwidth]\n",
    "x1,x2 = [center[0] - rwidth, center[0] + rwidth]\n",
    "axes.set_xlim( [x1,x2])\n",
    "axes.set_ylim( [y1,y2])\n",
    "plt.show()"
   ]
  },
  {
   "cell_type": "markdown",
   "metadata": {},
   "source": [
    "## Plot Kymograph (Waterfall plot) for a vertical and hortizontal cuts\n",
    "\n",
    "\n",
    "Note : Give coordinates of the upper-left corner and width and height of each\n",
    "rectangle: e.g., [(x, y, w, h), (x, y, w, h)]\n"
   ]
  },
  {
   "cell_type": "code",
   "execution_count": null,
   "metadata": {
    "collapsed": false
   },
   "outputs": [],
   "source": [
    "vert_rect = ((800, 803,800, 40), (1554, 546, 30, 40), (1454, 1098, 20, 60)) \n",
    "\n",
    "V_K_label_array = roi.rectangles(vert_rect, avg_img.shape)\n",
    "plt.figure()\n",
    "plt.imshow(V_K_label_array)\n",
    "plt.show()"
   ]
  },
  {
   "cell_type": "code",
   "execution_count": null,
   "metadata": {
    "collapsed": false
   },
   "outputs": [],
   "source": [
    "center"
   ]
  },
  {
   "cell_type": "code",
   "execution_count": null,
   "metadata": {
    "collapsed": false
   },
   "outputs": [],
   "source": [
    "V_K_label_array"
   ]
  },
  {
   "cell_type": "markdown",
   "metadata": {},
   "source": [
    "##  Kymograph(waterfall plot) of the 3rd ring"
   ]
  },
  {
   "cell_type": "code",
   "execution_count": null,
   "metadata": {
    "collapsed": false
   },
   "outputs": [],
   "source": [
    "class Masker(object):\n",
    "    def __init__(self, indexable, mask):\n",
    "        self.indexable = indexable\n",
    "        self.mask = mask\n",
    "    def __getitem__(self, key):\n",
    "        return self.indexable[key] * mask"
   ]
  },
  {
   "cell_type": "code",
   "execution_count": null,
   "metadata": {
    "collapsed": true
   },
   "outputs": [],
   "source": [
    "masker = Masker(imgs, mask)"
   ]
  },
  {
   "cell_type": "code",
   "execution_count": null,
   "metadata": {
    "collapsed": false
   },
   "outputs": [],
   "source": [
    "veri_kymo = roi.kymograph(masker, V_K_label_array*mask, num = 1)"
   ]
  },
  {
   "cell_type": "code",
   "execution_count": null,
   "metadata": {
    "collapsed": false
   },
   "outputs": [],
   "source": [
    "\n",
    "fig, ax = plt.subplots(figsize=(14,10))\n",
    "ax.set_ylabel('Pixel')\n",
    "ax.set_xlabel('Frame')\n",
    "ax.set_title('Kymograph')\n",
    "\n",
    "im = ax.imshow(veri_kymo.T, cmap='viridis', vmax=10)\n",
    "#fig.colorbar( im   )\n",
    "ax.set_aspect(0.02)\n",
    "plt.show()"
   ]
  },
  {
   "cell_type": "markdown",
   "metadata": {},
   "source": [
    "##  Mean intensities for each ring"
   ]
  },
  {
   "cell_type": "code",
   "execution_count": null,
   "metadata": {
    "collapsed": true
   },
   "outputs": [],
   "source": [
    "mask_data = masker[::50]\n",
    "mean_int_sets, index_list = roi.mean_intensity(mask_data, ring_mask)"
   ]
  },
  {
   "cell_type": "code",
   "execution_count": null,
   "metadata": {
    "collapsed": false
   },
   "outputs": [],
   "source": [
    "mean_int_sets.shape"
   ]
  },
  {
   "cell_type": "code",
   "execution_count": null,
   "metadata": {
    "collapsed": false
   },
   "outputs": [],
   "source": [
    "time = np.arange(len(mask_data))*timeperframe  # get the time for each frame\n",
    "\n",
    "%matplotlib inline\n",
    "fig, ax = plt.subplots(figsize=(8, 8))\n",
    "ax.set_title(\"Mean intensity of each ring\")\n",
    "for i in range(num_rings):\n",
    "    ax.plot(time, mean_int_sets[:,i], label=\"Ring \"+str(i+1))\n",
    "    ax.set_xlabel(\"Time\")\n",
    "    ax.set_ylabel(\"Mean Intensity\")\n",
    "ax.legend() \n",
    "plt.show()"
   ]
  },
  {
   "cell_type": "markdown",
   "metadata": {},
   "source": [
    "## Extract the labeled array"
   ]
  },
  {
   "cell_type": "code",
   "execution_count": null,
   "metadata": {
    "collapsed": false
   },
   "outputs": [],
   "source": [
    "labels, indices = roi.extract_label_indices(ring_mask)"
   ]
  },
  {
   "cell_type": "code",
   "execution_count": null,
   "metadata": {
    "collapsed": false
   },
   "outputs": [],
   "source": [
    "nopr  = np.array( [ len(np.where(labels==i)[0]) for i in range( 1, num_rings+1) ] )\n",
    "nopr"
   ]
  },
  {
   "cell_type": "code",
   "execution_count": null,
   "metadata": {
    "collapsed": true
   },
   "outputs": [],
   "source": [
    "subset = imgs[:100]"
   ]
  },
  {
   "cell_type": "markdown",
   "metadata": {
    "collapsed": true
   },
   "source": [
    "## One time Correlation\n",
    "\n",
    "Note : Enter the number of levels and number of buffers for Muliti tau one time correlation\n",
    "number of buffers has to be even. More details in https://github.com/scikit-xray/scikit-xray/blob/master/skxray/core/correlation.py"
   ]
  },
  {
   "cell_type": "code",
   "execution_count": null,
   "metadata": {
    "collapsed": true
   },
   "outputs": [],
   "source": [
    "num_lev = 9  \n",
    "num_buf = 8\n",
    "\n",
    "g2, lag_steps = corr.multi_tau_auto_corr(num_lev, num_buf, ring_mask,\n",
    "                                           imgs)"
   ]
  },
  {
   "cell_type": "code",
   "execution_count": null,
   "metadata": {
    "collapsed": true
   },
   "outputs": [],
   "source": [
    "%matplotlib inline"
   ]
  },
  {
   "cell_type": "markdown",
   "metadata": {},
   "source": [
    "### Plot the one time correlation functions"
   ]
  },
  {
   "cell_type": "code",
   "execution_count": null,
   "metadata": {
    "collapsed": false,
    "scrolled": false
   },
   "outputs": [],
   "source": [
    "lags = lag_steps*timeperframe\n",
    "\n",
    "fig, axes = plt.subplots(num_rings, sharex=True, figsize=(5, 30))\n",
    "axes[num_rings-1].set_xlabel(r\"$\\tau,sec$\", fontsize=22)\n",
    "for i in range(num_rings):\n",
    "    axes[i].set_ylabel(\"g2\") \n",
    "    axes[i].set_title(\" Q= \" + '%.3f  '%(q_ring_center[i]) + r'$\\AA^{-1}$')\n",
    "    axes[i].semilogx(lags, g2[:, i], '-o', markersize=6)\n",
    "    #axes[i].set_ylim(bottom=1.10, top=1.15)\n",
    "plt.show()"
   ]
  },
  {
   "cell_type": "markdown",
   "metadata": {},
   "source": [
    "# Fit g2"
   ]
  },
  {
   "cell_type": "code",
   "execution_count": null,
   "metadata": {
    "collapsed": true
   },
   "outputs": [],
   "source": [
    "from lmfit import  Model\n",
    "mod = Model(corr.auto_corr_scat_factor)\n"
   ]
  },
  {
   "cell_type": "code",
   "execution_count": null,
   "metadata": {
    "collapsed": false
   },
   "outputs": [],
   "source": [
    "%matplotlib inline"
   ]
  },
  {
   "cell_type": "code",
   "execution_count": null,
   "metadata": {
    "collapsed": false
   },
   "outputs": [],
   "source": [
    "for i in range(num_rings):\n",
    "\n",
    "    result1 = mod.fit(g2[1:,i], lags=lags[1:], beta=.1, relaxation_rate =.5,  baseline=1.0)\n",
    "\n",
    "    plt.figure()\n",
    "    plt.semilogx(lags[1:], g2[1:, i], 'ro')\n",
    "    plt.semilogx(lags[1:], result1.best_fit, '-b')\n",
    "    plt.ylim(1., 1.3)\n",
    "    #axes[i].set_title(\" Q= \" + '%.3f  '%(q_ring_center[i]) + r'$\\AA^{-1}$')\n",
    "    \n",
    "    plt.title(\" Q= \" + '%.3f  '%(q_ring_center[i]) + r'$\\AA^{-1}$')\n",
    "plt.show()"
   ]
  },
  {
   "cell_type": "code",
   "execution_count": null,
   "metadata": {
    "collapsed": true
   },
   "outputs": [],
   "source": []
  },
  {
   "cell_type": "code",
   "execution_count": null,
   "metadata": {
    "collapsed": true
   },
   "outputs": [],
   "source": []
  }
 ],
 "metadata": {
  "kernelspec": {
   "display_name": "ENV: user_analysis on xf11id-srv1",
   "language": "python",
   "name": "env_user_analysis"
  },
  "language_info": {
   "codemirror_mode": {
    "name": "ipython",
    "version": 3
   },
   "file_extension": ".py",
   "mimetype": "text/x-python",
   "name": "python",
   "nbconvert_exporter": "python",
   "pygments_lexer": "ipython3",
   "version": "3.4.3"
  }
 },
 "nbformat": 4,
 "nbformat_minor": 0
}
